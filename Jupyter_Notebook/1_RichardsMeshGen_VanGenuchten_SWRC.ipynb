{
 "cells": [
  {
   "cell_type": "markdown",
   "metadata": {},
   "source": [
    "# Create the grid for Richards 1D\n",
    "\n",
    "This code allows to create a mesh for 1D PDE problem:\n",
    "    - domain discretization\n",
    "    - parameters setting\n",
    "    - initial condition setting\n",
    "All output data are stored in a NetCDF file\n",
    "\n",
    "    -Author: Niccolò Tubini and Riccardo Rigon\n",
    "    -License: Creative Commons 4.0"
   ]
  },
  {
   "cell_type": "code",
   "execution_count": 1,
   "metadata": {},
   "outputs": [],
   "source": [
    "%%capture\n",
    "%run RichardsMeshGenVanGenuchten.py\n",
    "\n",
    "import os\n",
    "import pandas as pd\n",
    "import numpy as np\n",
    "import matplotlib.pyplot as plt\n",
    "%matplotlib inline\n",
    "\n",
    "from netCDF4 import Dataset"
   ]
  },
  {
   "cell_type": "code",
   "execution_count": 2,
   "metadata": {},
   "outputs": [
    {
     "data": {
      "text/html": [
       "\n",
       "    <div class=\"bk-root\">\n",
       "        <a href=\"https://bokeh.pydata.org\" target=\"_blank\" class=\"bk-logo bk-logo-small bk-logo-notebook\"></a>\n",
       "        <span id=\"1002\">Loading BokehJS ...</span>\n",
       "    </div>"
      ]
     },
     "metadata": {},
     "output_type": "display_data"
    },
    {
     "data": {
      "application/javascript": [
       "\n",
       "(function(root) {\n",
       "  function now() {\n",
       "    return new Date();\n",
       "  }\n",
       "\n",
       "  var force = true;\n",
       "\n",
       "  if (typeof (root._bokeh_onload_callbacks) === \"undefined\" || force === true) {\n",
       "    root._bokeh_onload_callbacks = [];\n",
       "    root._bokeh_is_loading = undefined;\n",
       "  }\n",
       "\n",
       "  var JS_MIME_TYPE = 'application/javascript';\n",
       "  var HTML_MIME_TYPE = 'text/html';\n",
       "  var EXEC_MIME_TYPE = 'application/vnd.bokehjs_exec.v0+json';\n",
       "  var CLASS_NAME = 'output_bokeh rendered_html';\n",
       "\n",
       "  /**\n",
       "   * Render data to the DOM node\n",
       "   */\n",
       "  function render(props, node) {\n",
       "    var script = document.createElement(\"script\");\n",
       "    node.appendChild(script);\n",
       "  }\n",
       "\n",
       "  /**\n",
       "   * Handle when an output is cleared or removed\n",
       "   */\n",
       "  function handleClearOutput(event, handle) {\n",
       "    var cell = handle.cell;\n",
       "\n",
       "    var id = cell.output_area._bokeh_element_id;\n",
       "    var server_id = cell.output_area._bokeh_server_id;\n",
       "    // Clean up Bokeh references\n",
       "    if (id != null && id in Bokeh.index) {\n",
       "      Bokeh.index[id].model.document.clear();\n",
       "      delete Bokeh.index[id];\n",
       "    }\n",
       "\n",
       "    if (server_id !== undefined) {\n",
       "      // Clean up Bokeh references\n",
       "      var cmd = \"from bokeh.io.state import curstate; print(curstate().uuid_to_server['\" + server_id + \"'].get_sessions()[0].document.roots[0]._id)\";\n",
       "      cell.notebook.kernel.execute(cmd, {\n",
       "        iopub: {\n",
       "          output: function(msg) {\n",
       "            var id = msg.content.text.trim();\n",
       "            if (id in Bokeh.index) {\n",
       "              Bokeh.index[id].model.document.clear();\n",
       "              delete Bokeh.index[id];\n",
       "            }\n",
       "          }\n",
       "        }\n",
       "      });\n",
       "      // Destroy server and session\n",
       "      var cmd = \"import bokeh.io.notebook as ion; ion.destroy_server('\" + server_id + \"')\";\n",
       "      cell.notebook.kernel.execute(cmd);\n",
       "    }\n",
       "  }\n",
       "\n",
       "  /**\n",
       "   * Handle when a new output is added\n",
       "   */\n",
       "  function handleAddOutput(event, handle) {\n",
       "    var output_area = handle.output_area;\n",
       "    var output = handle.output;\n",
       "\n",
       "    // limit handleAddOutput to display_data with EXEC_MIME_TYPE content only\n",
       "    if ((output.output_type != \"display_data\") || (!output.data.hasOwnProperty(EXEC_MIME_TYPE))) {\n",
       "      return\n",
       "    }\n",
       "\n",
       "    var toinsert = output_area.element.find(\".\" + CLASS_NAME.split(' ')[0]);\n",
       "\n",
       "    if (output.metadata[EXEC_MIME_TYPE][\"id\"] !== undefined) {\n",
       "      toinsert[toinsert.length - 1].firstChild.textContent = output.data[JS_MIME_TYPE];\n",
       "      // store reference to embed id on output_area\n",
       "      output_area._bokeh_element_id = output.metadata[EXEC_MIME_TYPE][\"id\"];\n",
       "    }\n",
       "    if (output.metadata[EXEC_MIME_TYPE][\"server_id\"] !== undefined) {\n",
       "      var bk_div = document.createElement(\"div\");\n",
       "      bk_div.innerHTML = output.data[HTML_MIME_TYPE];\n",
       "      var script_attrs = bk_div.children[0].attributes;\n",
       "      for (var i = 0; i < script_attrs.length; i++) {\n",
       "        toinsert[toinsert.length - 1].firstChild.setAttribute(script_attrs[i].name, script_attrs[i].value);\n",
       "      }\n",
       "      // store reference to server id on output_area\n",
       "      output_area._bokeh_server_id = output.metadata[EXEC_MIME_TYPE][\"server_id\"];\n",
       "    }\n",
       "  }\n",
       "\n",
       "  function register_renderer(events, OutputArea) {\n",
       "\n",
       "    function append_mime(data, metadata, element) {\n",
       "      // create a DOM node to render to\n",
       "      var toinsert = this.create_output_subarea(\n",
       "        metadata,\n",
       "        CLASS_NAME,\n",
       "        EXEC_MIME_TYPE\n",
       "      );\n",
       "      this.keyboard_manager.register_events(toinsert);\n",
       "      // Render to node\n",
       "      var props = {data: data, metadata: metadata[EXEC_MIME_TYPE]};\n",
       "      render(props, toinsert[toinsert.length - 1]);\n",
       "      element.append(toinsert);\n",
       "      return toinsert\n",
       "    }\n",
       "\n",
       "    /* Handle when an output is cleared or removed */\n",
       "    events.on('clear_output.CodeCell', handleClearOutput);\n",
       "    events.on('delete.Cell', handleClearOutput);\n",
       "\n",
       "    /* Handle when a new output is added */\n",
       "    events.on('output_added.OutputArea', handleAddOutput);\n",
       "\n",
       "    /**\n",
       "     * Register the mime type and append_mime function with output_area\n",
       "     */\n",
       "    OutputArea.prototype.register_mime_type(EXEC_MIME_TYPE, append_mime, {\n",
       "      /* Is output safe? */\n",
       "      safe: true,\n",
       "      /* Index of renderer in `output_area.display_order` */\n",
       "      index: 0\n",
       "    });\n",
       "  }\n",
       "\n",
       "  // register the mime type if in Jupyter Notebook environment and previously unregistered\n",
       "  if (root.Jupyter !== undefined) {\n",
       "    var events = require('base/js/events');\n",
       "    var OutputArea = require('notebook/js/outputarea').OutputArea;\n",
       "\n",
       "    if (OutputArea.prototype.mime_types().indexOf(EXEC_MIME_TYPE) == -1) {\n",
       "      register_renderer(events, OutputArea);\n",
       "    }\n",
       "  }\n",
       "\n",
       "  \n",
       "  if (typeof (root._bokeh_timeout) === \"undefined\" || force === true) {\n",
       "    root._bokeh_timeout = Date.now() + 5000;\n",
       "    root._bokeh_failed_load = false;\n",
       "  }\n",
       "\n",
       "  var NB_LOAD_WARNING = {'data': {'text/html':\n",
       "     \"<div style='background-color: #fdd'>\\n\"+\n",
       "     \"<p>\\n\"+\n",
       "     \"BokehJS does not appear to have successfully loaded. If loading BokehJS from CDN, this \\n\"+\n",
       "     \"may be due to a slow or bad network connection. Possible fixes:\\n\"+\n",
       "     \"</p>\\n\"+\n",
       "     \"<ul>\\n\"+\n",
       "     \"<li>re-rerun `output_notebook()` to attempt to load from CDN again, or</li>\\n\"+\n",
       "     \"<li>use INLINE resources instead, as so:</li>\\n\"+\n",
       "     \"</ul>\\n\"+\n",
       "     \"<code>\\n\"+\n",
       "     \"from bokeh.resources import INLINE\\n\"+\n",
       "     \"output_notebook(resources=INLINE)\\n\"+\n",
       "     \"</code>\\n\"+\n",
       "     \"</div>\"}};\n",
       "\n",
       "  function display_loaded() {\n",
       "    var el = document.getElementById(\"1002\");\n",
       "    if (el != null) {\n",
       "      el.textContent = \"BokehJS is loading...\";\n",
       "    }\n",
       "    if (root.Bokeh !== undefined) {\n",
       "      if (el != null) {\n",
       "        el.textContent = \"BokehJS \" + root.Bokeh.version + \" successfully loaded.\";\n",
       "      }\n",
       "    } else if (Date.now() < root._bokeh_timeout) {\n",
       "      setTimeout(display_loaded, 100)\n",
       "    }\n",
       "  }\n",
       "\n",
       "\n",
       "  function run_callbacks() {\n",
       "    try {\n",
       "      root._bokeh_onload_callbacks.forEach(function(callback) { callback() });\n",
       "    }\n",
       "    finally {\n",
       "      delete root._bokeh_onload_callbacks\n",
       "    }\n",
       "    console.info(\"Bokeh: all callbacks have finished\");\n",
       "  }\n",
       "\n",
       "  function load_libs(js_urls, callback) {\n",
       "    root._bokeh_onload_callbacks.push(callback);\n",
       "    if (root._bokeh_is_loading > 0) {\n",
       "      console.log(\"Bokeh: BokehJS is being loaded, scheduling callback at\", now());\n",
       "      return null;\n",
       "    }\n",
       "    if (js_urls == null || js_urls.length === 0) {\n",
       "      run_callbacks();\n",
       "      return null;\n",
       "    }\n",
       "    console.log(\"Bokeh: BokehJS not loaded, scheduling load and callback at\", now());\n",
       "    root._bokeh_is_loading = js_urls.length;\n",
       "    for (var i = 0; i < js_urls.length; i++) {\n",
       "      var url = js_urls[i];\n",
       "      var s = document.createElement('script');\n",
       "      s.src = url;\n",
       "      s.async = false;\n",
       "      s.onreadystatechange = s.onload = function() {\n",
       "        root._bokeh_is_loading--;\n",
       "        if (root._bokeh_is_loading === 0) {\n",
       "          console.log(\"Bokeh: all BokehJS libraries loaded\");\n",
       "          run_callbacks()\n",
       "        }\n",
       "      };\n",
       "      s.onerror = function() {\n",
       "        console.warn(\"failed to load library \" + url);\n",
       "      };\n",
       "      console.log(\"Bokeh: injecting script tag for BokehJS library: \", url);\n",
       "      document.getElementsByTagName(\"head\")[0].appendChild(s);\n",
       "    }\n",
       "  };var element = document.getElementById(\"1002\");\n",
       "  if (element == null) {\n",
       "    console.log(\"Bokeh: ERROR: autoload.js configured with elementid '1002' but no matching script tag was found. \")\n",
       "    return false;\n",
       "  }\n",
       "\n",
       "  var js_urls = [\"https://cdn.pydata.org/bokeh/release/bokeh-1.0.4.min.js\", \"https://cdn.pydata.org/bokeh/release/bokeh-widgets-1.0.4.min.js\", \"https://cdn.pydata.org/bokeh/release/bokeh-tables-1.0.4.min.js\", \"https://cdn.pydata.org/bokeh/release/bokeh-gl-1.0.4.min.js\"];\n",
       "\n",
       "  var inline_js = [\n",
       "    function(Bokeh) {\n",
       "      Bokeh.set_log_level(\"info\");\n",
       "    },\n",
       "    \n",
       "    function(Bokeh) {\n",
       "      \n",
       "    },\n",
       "    function(Bokeh) {\n",
       "      console.log(\"Bokeh: injecting CSS: https://cdn.pydata.org/bokeh/release/bokeh-1.0.4.min.css\");\n",
       "      Bokeh.embed.inject_css(\"https://cdn.pydata.org/bokeh/release/bokeh-1.0.4.min.css\");\n",
       "      console.log(\"Bokeh: injecting CSS: https://cdn.pydata.org/bokeh/release/bokeh-widgets-1.0.4.min.css\");\n",
       "      Bokeh.embed.inject_css(\"https://cdn.pydata.org/bokeh/release/bokeh-widgets-1.0.4.min.css\");\n",
       "      console.log(\"Bokeh: injecting CSS: https://cdn.pydata.org/bokeh/release/bokeh-tables-1.0.4.min.css\");\n",
       "      Bokeh.embed.inject_css(\"https://cdn.pydata.org/bokeh/release/bokeh-tables-1.0.4.min.css\");\n",
       "    }\n",
       "  ];\n",
       "\n",
       "  function run_inline_js() {\n",
       "    \n",
       "    if ((root.Bokeh !== undefined) || (force === true)) {\n",
       "      for (var i = 0; i < inline_js.length; i++) {\n",
       "        inline_js[i].call(root, root.Bokeh);\n",
       "      }if (force === true) {\n",
       "        display_loaded();\n",
       "      }} else if (Date.now() < root._bokeh_timeout) {\n",
       "      setTimeout(run_inline_js, 100);\n",
       "    } else if (!root._bokeh_failed_load) {\n",
       "      console.log(\"Bokeh: BokehJS failed to load within specified timeout.\");\n",
       "      root._bokeh_failed_load = true;\n",
       "    } else if (force !== true) {\n",
       "      var cell = $(document.getElementById(\"1002\")).parents('.cell').data().cell;\n",
       "      cell.output_area.append_execute_result(NB_LOAD_WARNING)\n",
       "    }\n",
       "\n",
       "  }\n",
       "\n",
       "  if (root._bokeh_is_loading === 0) {\n",
       "    console.log(\"Bokeh: BokehJS loaded, going straight to plotting\");\n",
       "    run_inline_js();\n",
       "  } else {\n",
       "    load_libs(js_urls, function() {\n",
       "      console.log(\"Bokeh: BokehJS plotting callback run at\", now());\n",
       "      run_inline_js();\n",
       "    });\n",
       "  }\n",
       "}(window));"
      ],
      "application/vnd.bokehjs_load.v0+json": "\n(function(root) {\n  function now() {\n    return new Date();\n  }\n\n  var force = true;\n\n  if (typeof (root._bokeh_onload_callbacks) === \"undefined\" || force === true) {\n    root._bokeh_onload_callbacks = [];\n    root._bokeh_is_loading = undefined;\n  }\n\n  \n\n  \n  if (typeof (root._bokeh_timeout) === \"undefined\" || force === true) {\n    root._bokeh_timeout = Date.now() + 5000;\n    root._bokeh_failed_load = false;\n  }\n\n  var NB_LOAD_WARNING = {'data': {'text/html':\n     \"<div style='background-color: #fdd'>\\n\"+\n     \"<p>\\n\"+\n     \"BokehJS does not appear to have successfully loaded. If loading BokehJS from CDN, this \\n\"+\n     \"may be due to a slow or bad network connection. Possible fixes:\\n\"+\n     \"</p>\\n\"+\n     \"<ul>\\n\"+\n     \"<li>re-rerun `output_notebook()` to attempt to load from CDN again, or</li>\\n\"+\n     \"<li>use INLINE resources instead, as so:</li>\\n\"+\n     \"</ul>\\n\"+\n     \"<code>\\n\"+\n     \"from bokeh.resources import INLINE\\n\"+\n     \"output_notebook(resources=INLINE)\\n\"+\n     \"</code>\\n\"+\n     \"</div>\"}};\n\n  function display_loaded() {\n    var el = document.getElementById(\"1002\");\n    if (el != null) {\n      el.textContent = \"BokehJS is loading...\";\n    }\n    if (root.Bokeh !== undefined) {\n      if (el != null) {\n        el.textContent = \"BokehJS \" + root.Bokeh.version + \" successfully loaded.\";\n      }\n    } else if (Date.now() < root._bokeh_timeout) {\n      setTimeout(display_loaded, 100)\n    }\n  }\n\n\n  function run_callbacks() {\n    try {\n      root._bokeh_onload_callbacks.forEach(function(callback) { callback() });\n    }\n    finally {\n      delete root._bokeh_onload_callbacks\n    }\n    console.info(\"Bokeh: all callbacks have finished\");\n  }\n\n  function load_libs(js_urls, callback) {\n    root._bokeh_onload_callbacks.push(callback);\n    if (root._bokeh_is_loading > 0) {\n      console.log(\"Bokeh: BokehJS is being loaded, scheduling callback at\", now());\n      return null;\n    }\n    if (js_urls == null || js_urls.length === 0) {\n      run_callbacks();\n      return null;\n    }\n    console.log(\"Bokeh: BokehJS not loaded, scheduling load and callback at\", now());\n    root._bokeh_is_loading = js_urls.length;\n    for (var i = 0; i < js_urls.length; i++) {\n      var url = js_urls[i];\n      var s = document.createElement('script');\n      s.src = url;\n      s.async = false;\n      s.onreadystatechange = s.onload = function() {\n        root._bokeh_is_loading--;\n        if (root._bokeh_is_loading === 0) {\n          console.log(\"Bokeh: all BokehJS libraries loaded\");\n          run_callbacks()\n        }\n      };\n      s.onerror = function() {\n        console.warn(\"failed to load library \" + url);\n      };\n      console.log(\"Bokeh: injecting script tag for BokehJS library: \", url);\n      document.getElementsByTagName(\"head\")[0].appendChild(s);\n    }\n  };var element = document.getElementById(\"1002\");\n  if (element == null) {\n    console.log(\"Bokeh: ERROR: autoload.js configured with elementid '1002' but no matching script tag was found. \")\n    return false;\n  }\n\n  var js_urls = [\"https://cdn.pydata.org/bokeh/release/bokeh-1.0.4.min.js\", \"https://cdn.pydata.org/bokeh/release/bokeh-widgets-1.0.4.min.js\", \"https://cdn.pydata.org/bokeh/release/bokeh-tables-1.0.4.min.js\", \"https://cdn.pydata.org/bokeh/release/bokeh-gl-1.0.4.min.js\"];\n\n  var inline_js = [\n    function(Bokeh) {\n      Bokeh.set_log_level(\"info\");\n    },\n    \n    function(Bokeh) {\n      \n    },\n    function(Bokeh) {\n      console.log(\"Bokeh: injecting CSS: https://cdn.pydata.org/bokeh/release/bokeh-1.0.4.min.css\");\n      Bokeh.embed.inject_css(\"https://cdn.pydata.org/bokeh/release/bokeh-1.0.4.min.css\");\n      console.log(\"Bokeh: injecting CSS: https://cdn.pydata.org/bokeh/release/bokeh-widgets-1.0.4.min.css\");\n      Bokeh.embed.inject_css(\"https://cdn.pydata.org/bokeh/release/bokeh-widgets-1.0.4.min.css\");\n      console.log(\"Bokeh: injecting CSS: https://cdn.pydata.org/bokeh/release/bokeh-tables-1.0.4.min.css\");\n      Bokeh.embed.inject_css(\"https://cdn.pydata.org/bokeh/release/bokeh-tables-1.0.4.min.css\");\n    }\n  ];\n\n  function run_inline_js() {\n    \n    if ((root.Bokeh !== undefined) || (force === true)) {\n      for (var i = 0; i < inline_js.length; i++) {\n        inline_js[i].call(root, root.Bokeh);\n      }if (force === true) {\n        display_loaded();\n      }} else if (Date.now() < root._bokeh_timeout) {\n      setTimeout(run_inline_js, 100);\n    } else if (!root._bokeh_failed_load) {\n      console.log(\"Bokeh: BokehJS failed to load within specified timeout.\");\n      root._bokeh_failed_load = true;\n    } else if (force !== true) {\n      var cell = $(document.getElementById(\"1002\")).parents('.cell').data().cell;\n      cell.output_area.append_execute_result(NB_LOAD_WARNING)\n    }\n\n  }\n\n  if (root._bokeh_is_loading === 0) {\n    console.log(\"Bokeh: BokehJS loaded, going straight to plotting\");\n    run_inline_js();\n  } else {\n    load_libs(js_urls, function() {\n      console.log(\"Bokeh: BokehJS plotting callback run at\", now());\n      run_inline_js();\n    });\n  }\n}(window));"
     },
     "metadata": {},
     "output_type": "display_data"
    }
   ],
   "source": [
    "# Standard imports \n",
    "from bokeh.io import output_notebook, show\n",
    "from bokeh.plotting import figure\n",
    "from bokeh.layouts import gridplot\n",
    "from bokeh.models.widgets import Panel, Tabs\n",
    "from bokeh.io import output_file, show\n",
    "from bokeh.plotting import figure\n",
    "from bokeh.models import BoxSelectTool\n",
    "from bokeh.models import HoverTool\n",
    "\n",
    "output_notebook()"
   ]
  },
  {
   "cell_type": "markdown",
   "metadata": {},
   "source": [
    "## Define some variables:\n",
    "- `folderPath`: path of the fodlder containing the input file (.csv) -> your_path/data/RichardMeshGen_input\n",
    "- `inFileName`: name of the input file (.csv)\n",
    "\n",
    "\n",
    "- `outFileName`: name of the output file (.nc) with the entire file path -> your_path/data/Grid_NetCDF/grid.nc\n",
    "- `outputTitle`: string containing a title for the output, it is saved within the file\n",
    "- `outputSummary`: string containing a description for the output, it is saved within the file (global metadata)\n",
    "- `outputDate`: string containing the date of file creation, optionally\n",
    "- `outputInstitution`: string containing the name of whom created the file, optionally"
   ]
  },
  {
   "cell_type": "code",
   "execution_count": 3,
   "metadata": {},
   "outputs": [],
   "source": [
    "folderPath = \"C:/Users/Niccolo/OMS/OMS_Project_Richards1D/data/RichardMeshGen_input\"\n",
    "\n",
    "inputFileName = \"prova.csv\"\n",
    "\n",
    "outputFileName =  \"C:/Users/Niccolo/OMS/OMS_Project_Richards1D/data/Grid_NetCDF/cancella.nc\"\n",
    "\n",
    "outputTitle = '''\n",
    "                  '''\n",
    "outputSummary = '''\n",
    "            Type,eta,N,psi,thetaS,thetaR,Ks,alphaSpecificStorage,betaSpecificStorage,n,alpha,et\n",
    "            L,0,40,-2,0.5,0.07,0.000023,0,0,1.16,5.88,0\n",
    "            L,-2,nan,0,nan,nan,nan,nan,nan,nan,nan,nan\n",
    "'''\n",
    "\n",
    "outputDate = '14/02/2019'\n",
    "\n",
    "outputInstitution = 'Geoframe'"
   ]
  },
  {
   "cell_type": "markdown",
   "metadata": {},
   "source": [
    "## Define the type of intial condition for water suction $\\psi$:\n",
    "Possible choices are:\n",
    "\n",
    "- `hydrostatic`\n",
    "- `constant`\n",
    "- `linear interpolation`\n",
    "- `piecewise-hydrostatic`"
   ]
  },
  {
   "cell_type": "code",
   "execution_count": 18,
   "metadata": {},
   "outputs": [],
   "source": [
    "icType = 'piecewise-hydrostatic'"
   ]
  },
  {
   "cell_type": "markdown",
   "metadata": {},
   "source": [
    "## Set some plot features"
   ]
  },
  {
   "cell_type": "code",
   "execution_count": 19,
   "metadata": {},
   "outputs": [],
   "source": [
    "labelSize = 18\n",
    "titleSize = 22\n",
    "legendSize = 14\n",
    "axisTicksSize = 14\n",
    "\n",
    "lineWidth =0.3"
   ]
  },
  {
   "cell_type": "code",
   "execution_count": 20,
   "metadata": {},
   "outputs": [],
   "source": [
    "os.chdir(folderPath)"
   ]
  },
  {
   "cell_type": "code",
   "execution_count": 21,
   "metadata": {},
   "outputs": [
    {
     "data": {
      "text/html": [
       "<div>\n",
       "<style scoped>\n",
       "    .dataframe tbody tr th:only-of-type {\n",
       "        vertical-align: middle;\n",
       "    }\n",
       "\n",
       "    .dataframe tbody tr th {\n",
       "        vertical-align: top;\n",
       "    }\n",
       "\n",
       "    .dataframe thead th {\n",
       "        text-align: right;\n",
       "    }\n",
       "</style>\n",
       "<table border=\"1\" class=\"dataframe\">\n",
       "  <thead>\n",
       "    <tr style=\"text-align: right;\">\n",
       "      <th></th>\n",
       "      <th>Type</th>\n",
       "      <th>eta</th>\n",
       "      <th>N</th>\n",
       "      <th>psi</th>\n",
       "      <th>thetaS</th>\n",
       "      <th>thetaR</th>\n",
       "      <th>Ks</th>\n",
       "      <th>alphaSpecificStorage</th>\n",
       "      <th>betaSpecificStorage</th>\n",
       "      <th>n</th>\n",
       "      <th>alpha</th>\n",
       "      <th>et</th>\n",
       "    </tr>\n",
       "  </thead>\n",
       "  <tbody>\n",
       "    <tr>\n",
       "      <th>0</th>\n",
       "      <td>L</td>\n",
       "      <td>0</td>\n",
       "      <td>40.0</td>\n",
       "      <td>0.1</td>\n",
       "      <td>0.5</td>\n",
       "      <td>0.07</td>\n",
       "      <td>0.000023</td>\n",
       "      <td>0.0</td>\n",
       "      <td>0.0</td>\n",
       "      <td>1.16</td>\n",
       "      <td>5.88</td>\n",
       "      <td>0.0</td>\n",
       "    </tr>\n",
       "    <tr>\n",
       "      <th>1</th>\n",
       "      <td>L</td>\n",
       "      <td>-4</td>\n",
       "      <td>40.0</td>\n",
       "      <td>4.0</td>\n",
       "      <td>0.5</td>\n",
       "      <td>0.07</td>\n",
       "      <td>0.000023</td>\n",
       "      <td>0.0</td>\n",
       "      <td>0.0</td>\n",
       "      <td>1.16</td>\n",
       "      <td>5.88</td>\n",
       "      <td>0.0</td>\n",
       "    </tr>\n",
       "    <tr>\n",
       "      <th>2</th>\n",
       "      <td>L</td>\n",
       "      <td>-6</td>\n",
       "      <td>NaN</td>\n",
       "      <td>8.0</td>\n",
       "      <td>NaN</td>\n",
       "      <td>NaN</td>\n",
       "      <td>NaN</td>\n",
       "      <td>NaN</td>\n",
       "      <td>NaN</td>\n",
       "      <td>NaN</td>\n",
       "      <td>NaN</td>\n",
       "      <td>NaN</td>\n",
       "    </tr>\n",
       "  </tbody>\n",
       "</table>\n",
       "</div>"
      ],
      "text/plain": [
       "  Type  eta     N  psi  thetaS  thetaR        Ks  alphaSpecificStorage  \\\n",
       "0    L    0  40.0  0.1     0.5    0.07  0.000023                   0.0   \n",
       "1    L   -4  40.0  4.0     0.5    0.07  0.000023                   0.0   \n",
       "2    L   -6   NaN  8.0     NaN     NaN       NaN                   NaN   \n",
       "\n",
       "   betaSpecificStorage     n  alpha   et  \n",
       "0                  0.0  1.16   5.88  0.0  \n",
       "1                  0.0  1.16   5.88  0.0  \n",
       "2                  NaN   NaN    NaN  NaN  "
      ]
     },
     "execution_count": 21,
     "metadata": {},
     "output_type": "execute_result"
    }
   ],
   "source": [
    "data = pd.read_csv(inputFileName)\n",
    "#print(data.head())\n",
    "#print(data.index)\n",
    "#print(data.columns)\n",
    "data"
   ]
  },
  {
   "cell_type": "markdown",
   "metadata": {},
   "source": [
    "### This section computes geometrical quantities of the discretized domain\n",
    "For an explanantion of the data in the above dataFrame, please read first the presentation at \n",
    "\n",
    "### From the data in the csv file, the main numpy array are built:\n",
    "- `eta`: vertical coordinate of control volume centroids, positive upward with origin set at soil surface [m]\n",
    "- `etaDual`: vertical coordinate of control volume interfaces, positive upward with origin set at soil surface [m]\n",
    "- `deltaZ`: length of each control volume [m]\n",
    "- `spaceDelta`: distance between two adjacent control volume. It is used to compute gradients [m]\n",
    "- `z`: vertical coordinate of control volume centroids, positive upward with origin set at soil column bottom [m]\n",
    "- `zDual`: vertical coordinate of control volume interfaces, positive upward with origin set at soil column bottom [m]"
   ]
  },
  {
   "cell_type": "code",
   "execution_count": 22,
   "metadata": {},
   "outputs": [],
   "source": [
    "[eta,etaDual,deltaZ,spaceDelta,z,zDual]=buildData(data)"
   ]
  },
  {
   "cell_type": "code",
   "execution_count": 23,
   "metadata": {
    "scrolled": false
   },
   "outputs": [
    {
     "data": {
      "text/html": [
       "\n",
       "\n",
       "\n",
       "\n",
       "\n",
       "\n",
       "  <div class=\"bk-root\" id=\"79b72388-326e-489c-8cb5-9b2619e57a26\" data-root-id=\"1543\"></div>\n"
      ]
     },
     "metadata": {},
     "output_type": "display_data"
    },
    {
     "data": {
      "application/javascript": [
       "(function(root) {\n",
       "  function embed_document(root) {\n",
       "    \n",
       "  var docs_json = {\"e9e7f202-52f2-422e-b6b3-ab558e4878f5\":{\"roots\":{\"references\":[{\"attributes\":{\"below\":[{\"id\":\"1553\",\"type\":\"LinearAxis\"}],\"left\":[{\"id\":\"1558\",\"type\":\"LinearAxis\"}],\"renderers\":[{\"id\":\"1553\",\"type\":\"LinearAxis\"},{\"id\":\"1557\",\"type\":\"Grid\"},{\"id\":\"1558\",\"type\":\"LinearAxis\"},{\"id\":\"1562\",\"type\":\"Grid\"},{\"id\":\"1570\",\"type\":\"BoxAnnotation\"},{\"id\":\"1586\",\"type\":\"Legend\"},{\"id\":\"1578\",\"type\":\"GlyphRenderer\"},{\"id\":\"1591\",\"type\":\"GlyphRenderer\"},{\"id\":\"1605\",\"type\":\"GlyphRenderer\"},{\"id\":\"1621\",\"type\":\"GlyphRenderer\"},{\"id\":\"1638\",\"type\":\"GlyphRenderer\"},{\"id\":\"1657\",\"type\":\"GlyphRenderer\"}],\"title\":{\"id\":\"1542\",\"type\":\"Title\"},\"toolbar\":{\"id\":\"1567\",\"type\":\"Toolbar\"},\"x_range\":{\"id\":\"1545\",\"type\":\"Range1d\"},\"x_scale\":{\"id\":\"1549\",\"type\":\"LinearScale\"},\"y_range\":{\"id\":\"1547\",\"type\":\"DataRange1d\"},\"y_scale\":{\"id\":\"1551\",\"type\":\"LinearScale\"}},\"id\":\"1543\",\"subtype\":\"Figure\",\"type\":\"Plot\"},{\"attributes\":{\"callback\":null,\"data\":{\"x\":[-0.2,0.2],\"y\":[-4,-4]},\"selected\":{\"id\":\"1653\",\"type\":\"Selection\"},\"selection_policy\":{\"id\":\"1652\",\"type\":\"UnionRenderers\"}},\"id\":\"1618\",\"type\":\"ColumnDataSource\"},{\"attributes\":{},\"id\":\"1600\",\"type\":\"Selection\"},{\"attributes\":{},\"id\":\"1674\",\"type\":\"Selection\"},{\"attributes\":{\"data_source\":{\"id\":\"1602\",\"type\":\"ColumnDataSource\"},\"glyph\":{\"id\":\"1603\",\"type\":\"Line\"},\"hover_glyph\":null,\"muted_glyph\":null,\"nonselection_glyph\":{\"id\":\"1604\",\"type\":\"Line\"},\"selection_glyph\":null,\"view\":{\"id\":\"1606\",\"type\":\"CDSView\"}},\"id\":\"1605\",\"type\":\"GlyphRenderer\"},{\"attributes\":{\"overlay\":{\"id\":\"1570\",\"type\":\"BoxAnnotation\"}},\"id\":\"1565\",\"type\":\"BoxZoomTool\"},{\"attributes\":{},\"id\":\"1566\",\"type\":\"ResetTool\"},{\"attributes\":{\"callback\":null,\"tooltips\":[[\"(x,y)\",\"($x, $y)\"]]},\"id\":\"1541\",\"type\":\"HoverTool\"},{\"attributes\":{},\"id\":\"1599\",\"type\":\"UnionRenderers\"},{\"attributes\":{\"fill_color\":{\"value\":\"blue\"},\"line_color\":{\"value\":\"blue\"},\"x\":{\"field\":\"x\"},\"y\":{\"field\":\"y\"}},\"id\":\"1576\",\"type\":\"Scatter\"},{\"attributes\":{},\"id\":\"1727\",\"type\":\"UnionRenderers\"},{\"attributes\":{\"bottom_units\":\"screen\",\"fill_alpha\":{\"value\":0.5},\"fill_color\":{\"value\":\"lightgrey\"},\"left_units\":\"screen\",\"level\":\"overlay\",\"line_alpha\":{\"value\":1.0},\"line_color\":{\"value\":\"black\"},\"line_dash\":[4,4],\"line_width\":{\"value\":2},\"plot\":null,\"render_mode\":\"css\",\"right_units\":\"screen\",\"top_units\":\"screen\"},\"id\":\"1570\",\"type\":\"BoxAnnotation\"},{\"attributes\":{\"align\":\"center\",\"plot\":null,\"text\":\"Grid geometry\",\"text_font_size\":{\"value\":\"22px\"}},\"id\":\"1542\",\"type\":\"Title\"},{\"attributes\":{\"label\":{\"value\":\"Centroids\"},\"renderers\":[{\"id\":\"1578\",\"type\":\"GlyphRenderer\"}]},\"id\":\"1587\",\"type\":\"LegendItem\"},{\"attributes\":{\"callback\":null,\"data\":{\"x\":[-0.2,0.2],\"y\":[0,0]},\"selected\":{\"id\":\"1634\",\"type\":\"Selection\"},\"selection_policy\":{\"id\":\"1633\",\"type\":\"UnionRenderers\"}},\"id\":\"1602\",\"type\":\"ColumnDataSource\"},{\"attributes\":{},\"id\":\"1728\",\"type\":\"Selection\"},{\"attributes\":{\"line_alpha\":0.1,\"line_color\":\"#1f77b4\",\"line_width\":0.3,\"x\":{\"field\":\"x\"},\"y\":{\"field\":\"y\"}},\"id\":\"1604\",\"type\":\"Line\"},{\"attributes\":{\"line_color\":\"red\",\"line_width\":0.3,\"x\":{\"field\":\"x\"},\"y\":{\"field\":\"y\"}},\"id\":\"1636\",\"type\":\"Line\"},{\"attributes\":{\"line_color\":\"red\",\"line_width\":0.3,\"x\":{\"field\":\"x\"},\"y\":{\"field\":\"y\"}},\"id\":\"1603\",\"type\":\"Line\"},{\"attributes\":{\"callback\":null,\"end\":0.7,\"start\":-0.7},\"id\":\"1545\",\"type\":\"Range1d\"},{\"attributes\":{\"fill_alpha\":{\"value\":0.1},\"fill_color\":{\"value\":\"#1f77b4\"},\"line_alpha\":{\"value\":0.1},\"line_color\":{\"value\":\"#1f77b4\"},\"marker\":{\"value\":\"cross\"},\"x\":{\"field\":\"x\"},\"y\":{\"field\":\"y\"}},\"id\":\"1590\",\"type\":\"Scatter\"},{\"attributes\":{\"fill_alpha\":{\"value\":0.1},\"fill_color\":{\"value\":\"#1f77b4\"},\"line_alpha\":{\"value\":0.1},\"line_color\":{\"value\":\"#1f77b4\"},\"x\":{\"field\":\"x\"},\"y\":{\"field\":\"y\"}},\"id\":\"1577\",\"type\":\"Scatter\"},{\"attributes\":{\"data_source\":{\"id\":\"1588\",\"type\":\"ColumnDataSource\"},\"glyph\":{\"id\":\"1589\",\"type\":\"Scatter\"},\"hover_glyph\":null,\"muted_glyph\":null,\"nonselection_glyph\":{\"id\":\"1590\",\"type\":\"Scatter\"},\"selection_glyph\":null,\"view\":{\"id\":\"1592\",\"type\":\"CDSView\"}},\"id\":\"1591\",\"type\":\"GlyphRenderer\"},{\"attributes\":{\"callback\":null},\"id\":\"1547\",\"type\":\"DataRange1d\"},{\"attributes\":{\"source\":{\"id\":\"1588\",\"type\":\"ColumnDataSource\"}},\"id\":\"1592\",\"type\":\"CDSView\"},{\"attributes\":{\"label\":{\"value\":\"layer\"},\"renderers\":[{\"id\":\"1605\",\"type\":\"GlyphRenderer\"},{\"id\":\"1621\",\"type\":\"GlyphRenderer\"},{\"id\":\"1638\",\"type\":\"GlyphRenderer\"},{\"id\":\"1657\",\"type\":\"GlyphRenderer\"}]},\"id\":\"1617\",\"type\":\"LegendItem\"},{\"attributes\":{},\"id\":\"1616\",\"type\":\"Selection\"},{\"attributes\":{\"line_alpha\":0.1,\"line_color\":\"#1f77b4\",\"line_width\":0.3,\"x\":{\"field\":\"x\"},\"y\":{\"field\":\"y\"}},\"id\":\"1637\",\"type\":\"Line\"},{\"attributes\":{},\"id\":\"1549\",\"type\":\"LinearScale\"},{\"attributes\":{\"source\":{\"id\":\"1602\",\"type\":\"ColumnDataSource\"}},\"id\":\"1606\",\"type\":\"CDSView\"},{\"attributes\":{\"data_source\":{\"id\":\"1635\",\"type\":\"ColumnDataSource\"},\"glyph\":{\"id\":\"1636\",\"type\":\"Line\"},\"hover_glyph\":null,\"muted_glyph\":null,\"nonselection_glyph\":{\"id\":\"1637\",\"type\":\"Line\"},\"selection_glyph\":null,\"view\":{\"id\":\"1639\",\"type\":\"CDSView\"}},\"id\":\"1638\",\"type\":\"GlyphRenderer\"},{\"attributes\":{\"label\":{\"value\":\"CV interface\"},\"renderers\":[{\"id\":\"1591\",\"type\":\"GlyphRenderer\"}]},\"id\":\"1601\",\"type\":\"LegendItem\"},{\"attributes\":{},\"id\":\"1551\",\"type\":\"LinearScale\"},{\"attributes\":{\"fill_color\":{\"value\":\"fuchsia\"},\"line_color\":{\"value\":\"fuchsia\"},\"marker\":{\"value\":\"cross\"},\"x\":{\"field\":\"x\"},\"y\":{\"field\":\"y\"}},\"id\":\"1589\",\"type\":\"Scatter\"},{\"attributes\":{\"callback\":null,\"data\":{\"x\":{\"__ndarray__\":\"AAAAAAAAAAAAAAAAAAAAAAAAAAAAAAAAAAAAAAAAAAAAAAAAAAAAAAAAAAAAAAAAAAAAAAAAAAAAAAAAAAAAAAAAAAAAAAAAAAAAAAAAAAAAAAAAAAAAAAAAAAAAAAAAAAAAAAAAAAAAAAAAAAAAAAAAAAAAAAAAAAAAAAAAAAAAAAAAAAAAAAAAAAAAAAAAAAAAAAAAAAAAAAAAAAAAAAAAAAAAAAAAAAAAAAAAAAAAAAAAAAAAAAAAAAAAAAAAAAAAAAAAAAAAAAAAAAAAAAAAAAAAAAAAAAAAAAAAAAAAAAAAAAAAAAAAAAAAAAAAAAAAAAAAAAAAAAAAAAAAAAAAAAAAAAAAAAAAAAAAAAAAAAAAAAAAAAAAAAAAAAAAAAAAAAAAAAAAAAAAAAAAAAAAAAAAAAAAAAAAAAAAAAAAAAAAAAAAAAAAAAAAAAAAAAAAAAAAAAAAAAAAAAAAAAAAAAAAAAAAAAAAAAAAAAAAAAAAAAAAAAAAAAAAAAAAAAAAAAAAAAAAAAAAAAAAAAAAAAAAAAAAAAAAAAAAAAAAAAAAAAAAAAAAAAAAAAAAAAAAAAAAAAAAAAAAAAAAAAAAAAAAAAAAAAAAAAAAAAAAAAAAAAAAAAAAAAAAAAAAAAAAAAAAAAAAAAAAAAAAAAAAAAAAAAAAAAAAAAAAAAAAAAAAAAAAAAAAAAAAAAAAAAAAAAAAAAAAAAAAAAAAAAAAAAAAAAAAAAAAAAAAAAAAAAAAAAAAAAAAAAAAAAAAAAAAAAAAAAAAAAAAAAAAAAAAAAAAAAAAAAAAAAAAAAAAAAAAAAAAAAAAAAAAAAAAAAAAAAAAAAAAAAAAAAAAAAAAAAAAAAAA\",\"dtype\":\"float64\",\"shape\":[81]},\"y\":[-6.0,-5.95,-5.9,-5.85,-5.8,-5.75,-5.7,-5.65,-5.6,-5.55,-5.5,-5.45,-5.4,-5.35,-5.3,-5.25,-5.2,-5.15,-5.1,-5.05,-5.0,-4.95,-4.9,-4.85,-4.8,-4.75,-4.7,-4.65,-4.6,-4.55,-4.5,-4.45,-4.4,-4.35,-4.3,-4.25,-4.2,-4.15,-4.1,-4.05,-4.0,-3.9,-3.8,-3.7,-3.6,-3.5,-3.4,-3.3,-3.2,-3.1,-3.0,-2.9,-2.8,-2.7,-2.5999999999999996,-2.5,-2.4,-2.3,-2.2,-2.0999999999999996,-2.0,-1.9,-1.7999999999999998,-1.6999999999999997,-1.5999999999999996,-1.5,-1.4,-1.2999999999999998,-1.1999999999999997,-1.0999999999999996,-1.0,-0.8999999999999999,-0.7999999999999998,-0.6999999999999997,-0.5999999999999996,-0.5,-0.3999999999999999,-0.2999999999999998,-0.19999999999999973,-0.09999999999999964,0.0]},\"selected\":{\"id\":\"1616\",\"type\":\"Selection\"},\"selection_policy\":{\"id\":\"1615\",\"type\":\"UnionRenderers\"}},\"id\":\"1588\",\"type\":\"ColumnDataSource\"},{\"attributes\":{\"source\":{\"id\":\"1635\",\"type\":\"ColumnDataSource\"}},\"id\":\"1639\",\"type\":\"CDSView\"},{\"attributes\":{\"formatter\":{\"id\":\"1581\",\"type\":\"BasicTickFormatter\"},\"plot\":{\"id\":\"1543\",\"subtype\":\"Figure\",\"type\":\"Plot\"},\"ticker\":{\"id\":\"1554\",\"type\":\"BasicTicker\"}},\"id\":\"1553\",\"type\":\"LinearAxis\"},{\"attributes\":{\"line_color\":\"red\",\"line_width\":0.3,\"x\":{\"field\":\"x\"},\"y\":{\"field\":\"y\"}},\"id\":\"1619\",\"type\":\"Line\"},{\"attributes\":{},\"id\":\"1652\",\"type\":\"UnionRenderers\"},{\"attributes\":{},\"id\":\"1554\",\"type\":\"BasicTicker\"},{\"attributes\":{},\"id\":\"1581\",\"type\":\"BasicTickFormatter\"},{\"attributes\":{},\"id\":\"1653\",\"type\":\"Selection\"},{\"attributes\":{\"plot\":{\"id\":\"1543\",\"subtype\":\"Figure\",\"type\":\"Plot\"},\"ticker\":{\"id\":\"1554\",\"type\":\"BasicTicker\"}},\"id\":\"1557\",\"type\":\"Grid\"},{\"attributes\":{\"click_policy\":\"hide\",\"items\":[{\"id\":\"1587\",\"type\":\"LegendItem\"},{\"id\":\"1601\",\"type\":\"LegendItem\"},{\"id\":\"1617\",\"type\":\"LegendItem\"}],\"label_text_font_size\":{\"value\":\"14px\"},\"location\":\"top_left\",\"plot\":{\"id\":\"1543\",\"subtype\":\"Figure\",\"type\":\"Plot\"}},\"id\":\"1586\",\"type\":\"Legend\"},{\"attributes\":{},\"id\":\"1583\",\"type\":\"BasicTickFormatter\"},{\"attributes\":{\"callback\":null,\"data\":{\"x\":[-0.2,0.2],\"y\":[-6,-6]},\"selected\":{\"id\":\"1728\",\"type\":\"Selection\"},\"selection_policy\":{\"id\":\"1727\",\"type\":\"UnionRenderers\"}},\"id\":\"1654\",\"type\":\"ColumnDataSource\"},{\"attributes\":{\"axis_label\":\"\\u03b7 [m]\",\"axis_label_text_font_size\":{\"value\":\"18px\"},\"formatter\":{\"id\":\"1583\",\"type\":\"BasicTickFormatter\"},\"plot\":{\"id\":\"1543\",\"subtype\":\"Figure\",\"type\":\"Plot\"},\"ticker\":{\"id\":\"1559\",\"type\":\"BasicTicker\"}},\"id\":\"1558\",\"type\":\"LinearAxis\"},{\"attributes\":{\"callback\":null,\"data\":{\"x\":[-0.2,0.2],\"y\":[-6,-6]},\"selected\":{\"id\":\"1674\",\"type\":\"Selection\"},\"selection_policy\":{\"id\":\"1673\",\"type\":\"UnionRenderers\"}},\"id\":\"1635\",\"type\":\"ColumnDataSource\"},{\"attributes\":{\"line_color\":\"red\",\"line_width\":0.3,\"x\":{\"field\":\"x\"},\"y\":{\"field\":\"y\"}},\"id\":\"1655\",\"type\":\"Line\"},{\"attributes\":{},\"id\":\"1559\",\"type\":\"BasicTicker\"},{\"attributes\":{\"line_alpha\":0.1,\"line_color\":\"#1f77b4\",\"line_width\":0.3,\"x\":{\"field\":\"x\"},\"y\":{\"field\":\"y\"}},\"id\":\"1656\",\"type\":\"Line\"},{\"attributes\":{},\"id\":\"1634\",\"type\":\"Selection\"},{\"attributes\":{\"dimension\":1,\"plot\":{\"id\":\"1543\",\"subtype\":\"Figure\",\"type\":\"Plot\"},\"ticker\":{\"id\":\"1559\",\"type\":\"BasicTicker\"}},\"id\":\"1562\",\"type\":\"Grid\"},{\"attributes\":{\"line_alpha\":0.1,\"line_color\":\"#1f77b4\",\"line_width\":0.3,\"x\":{\"field\":\"x\"},\"y\":{\"field\":\"y\"}},\"id\":\"1620\",\"type\":\"Line\"},{\"attributes\":{\"source\":{\"id\":\"1575\",\"type\":\"ColumnDataSource\"}},\"id\":\"1579\",\"type\":\"CDSView\"},{\"attributes\":{\"data_source\":{\"id\":\"1654\",\"type\":\"ColumnDataSource\"},\"glyph\":{\"id\":\"1655\",\"type\":\"Line\"},\"hover_glyph\":null,\"muted_glyph\":null,\"nonselection_glyph\":{\"id\":\"1656\",\"type\":\"Line\"},\"selection_glyph\":null,\"view\":{\"id\":\"1658\",\"type\":\"CDSView\"}},\"id\":\"1657\",\"type\":\"GlyphRenderer\"},{\"attributes\":{},\"id\":\"1673\",\"type\":\"UnionRenderers\"},{\"attributes\":{\"source\":{\"id\":\"1618\",\"type\":\"ColumnDataSource\"}},\"id\":\"1622\",\"type\":\"CDSView\"},{\"attributes\":{\"callback\":null,\"data\":{\"x\":{\"__ndarray__\":\"AAAAAAAAAAAAAAAAAAAAAAAAAAAAAAAAAAAAAAAAAAAAAAAAAAAAAAAAAAAAAAAAAAAAAAAAAAAAAAAAAAAAAAAAAAAAAAAAAAAAAAAAAAAAAAAAAAAAAAAAAAAAAAAAAAAAAAAAAAAAAAAAAAAAAAAAAAAAAAAAAAAAAAAAAAAAAAAAAAAAAAAAAAAAAAAAAAAAAAAAAAAAAAAAAAAAAAAAAAAAAAAAAAAAAAAAAAAAAAAAAAAAAAAAAAAAAAAAAAAAAAAAAAAAAAAAAAAAAAAAAAAAAAAAAAAAAAAAAAAAAAAAAAAAAAAAAAAAAAAAAAAAAAAAAAAAAAAAAAAAAAAAAAAAAAAAAAAAAAAAAAAAAAAAAAAAAAAAAAAAAAAAAAAAAAAAAAAAAAAAAAAAAAAAAAAAAAAAAAAAAAAAAAAAAAAAAAAAAAAAAAAAAAAAAAAAAAAAAAAAAAAAAAAAAAAAAAAAAAAAAAAAAAAAAAAAAAAAAAAAAAAAAAAAAAAAAAAAAAAAAAAAAAAAAAAAAAAAAAAAAAAAAAAAAAAAAAAAAAAAAAAAAAAAAAAAAAAAAAAAAAAAAAAAAAAAAAAAAAAAAAAAAAAAAAAAAAAAAAAAAAAAAAAAAAAAAAAAAAAAAAAAAAAAAAAAAAAAAAAAAAAAAAAAAAAAAAAAAAAAAAAAAAAAAAAAAAAAAAAAAAAAAAAAAAAAAAAAAAAAAAAAAAAAAAAAAAAAAAAAAAAAAAAAAAAAAAAAAAAAAAAAAAAAAAAAAAAAAAAAAAAAAAAAAAAAAAAAAAAAAAAAAAAAAAAAAAAAAAAAAAAAAAAAAAAAAAAAAAAAAAAAAAAAAAAAAAAAAAAAAAAA\",\"dtype\":\"float64\",\"shape\":[81]},\"y\":{\"__ndarray__\":\"ZmZmZmbmF8AzMzMzM7MXwAAAAAAAgBfAzMzMzMxMF8CZmZmZmRkXwGZmZmZm5hbAMzMzMzOzFsAAAAAAAIAWwM3MzMzMTBbAmZmZmZkZFsBmZmZmZuYVwDMzMzMzsxXAAAAAAACAFcDNzMzMzEwVwJqZmZmZGRXAZmZmZmbmFMAzMzMzM7MUwAAAAAAAgBTAzczMzMxMFMCamZmZmRkUwGZmZmZm5hPAMzMzMzOzE8AAAAAAAIATwM3MzMzMTBPAmpmZmZkZE8BmZmZmZuYSwDMzMzMzsxLAAAAAAACAEsDNzMzMzEwSwJqZmZmZGRLAZmZmZmbmEcA0MzMzM7MRwAAAAAAAgBHAzczMzMxMEcCamZmZmRkRwGdmZmZm5hDANDMzMzOzEMAAAAAAAIAQwM3MzMzMTBDAmpmZmZkZEMCamZmZmZkPwM3MzMzMzA7AAAAAAAAADsA0MzMzMzMNwGdmZmZmZgzAmpmZmZmZC8DNzMzMzMwKwAAAAAAAAArANDMzMzMzCcBnZmZmZmYIwJqZmZmZmQfAzczMzMzMBsAAAAAAAAAGwDQzMzMzMwXAZmZmZmZmBMCamZmZmZkDwM3MzMzMzALAAAAAAAAAAsA0MzMzMzMBwGZmZmZmZgDANDMzMzMz/7+amZmZmZn9vwAAAAAAAPy/ZmZmZmZm+r/MzMzMzMz4vzQzMzMzM/e/mpmZmZmZ9b8AAAAAAAD0v2ZmZmZmZvK/zMzMzMzM8L9oZmZmZmbuvzQzMzMzM+u/AAAAAAAA6L/MzMzMzMzkv5iZmZmZmeG/0MzMzMzM3L9oZmZmZmbWvwAAAAAAANC/MDMzMzMzw7+amZmZmZmpvwAAAAAAAAAA\",\"dtype\":\"float64\",\"shape\":[81]}},\"selected\":{\"id\":\"1600\",\"type\":\"Selection\"},\"selection_policy\":{\"id\":\"1599\",\"type\":\"UnionRenderers\"}},\"id\":\"1575\",\"type\":\"ColumnDataSource\"},{\"attributes\":{\"source\":{\"id\":\"1654\",\"type\":\"ColumnDataSource\"}},\"id\":\"1658\",\"type\":\"CDSView\"},{\"attributes\":{\"active_drag\":\"auto\",\"active_inspect\":\"auto\",\"active_multi\":null,\"active_scroll\":\"auto\",\"active_tap\":\"auto\",\"tools\":[{\"id\":\"1541\",\"type\":\"HoverTool\"},{\"id\":\"1563\",\"type\":\"PanTool\"},{\"id\":\"1564\",\"type\":\"WheelZoomTool\"},{\"id\":\"1565\",\"type\":\"BoxZoomTool\"},{\"id\":\"1566\",\"type\":\"ResetTool\"}]},\"id\":\"1567\",\"type\":\"Toolbar\"},{\"attributes\":{},\"id\":\"1615\",\"type\":\"UnionRenderers\"},{\"attributes\":{},\"id\":\"1563\",\"type\":\"PanTool\"},{\"attributes\":{\"data_source\":{\"id\":\"1618\",\"type\":\"ColumnDataSource\"},\"glyph\":{\"id\":\"1619\",\"type\":\"Line\"},\"hover_glyph\":null,\"muted_glyph\":null,\"nonselection_glyph\":{\"id\":\"1620\",\"type\":\"Line\"},\"selection_glyph\":null,\"view\":{\"id\":\"1622\",\"type\":\"CDSView\"}},\"id\":\"1621\",\"type\":\"GlyphRenderer\"},{\"attributes\":{\"data_source\":{\"id\":\"1575\",\"type\":\"ColumnDataSource\"},\"glyph\":{\"id\":\"1576\",\"type\":\"Scatter\"},\"hover_glyph\":null,\"muted_glyph\":null,\"nonselection_glyph\":{\"id\":\"1577\",\"type\":\"Scatter\"},\"selection_glyph\":null,\"view\":{\"id\":\"1579\",\"type\":\"CDSView\"}},\"id\":\"1578\",\"type\":\"GlyphRenderer\"},{\"attributes\":{},\"id\":\"1633\",\"type\":\"UnionRenderers\"},{\"attributes\":{},\"id\":\"1564\",\"type\":\"WheelZoomTool\"}],\"root_ids\":[\"1543\"]},\"title\":\"Bokeh Application\",\"version\":\"1.0.4\"}};\n",
       "  var render_items = [{\"docid\":\"e9e7f202-52f2-422e-b6b3-ab558e4878f5\",\"roots\":{\"1543\":\"79b72388-326e-489c-8cb5-9b2619e57a26\"}}];\n",
       "  root.Bokeh.embed.embed_items_notebook(docs_json, render_items);\n",
       "\n",
       "  }\n",
       "  if (root.Bokeh !== undefined) {\n",
       "    embed_document(root);\n",
       "  } else {\n",
       "    var attempts = 0;\n",
       "    var timer = setInterval(function(root) {\n",
       "      if (root.Bokeh !== undefined) {\n",
       "        embed_document(root);\n",
       "        clearInterval(timer);\n",
       "      }\n",
       "      attempts++;\n",
       "      if (attempts > 100) {\n",
       "        console.log(\"Bokeh: ERROR: Unable to run BokehJS code because BokehJS library is missing\");\n",
       "        clearInterval(timer);\n",
       "      }\n",
       "    }, 10, root)\n",
       "  }\n",
       "})(window);"
      ],
      "application/vnd.bokehjs_exec.v0+json": ""
     },
     "metadata": {
      "application/vnd.bokehjs_exec.v0+json": {
       "id": "1543"
      }
     },
     "output_type": "display_data"
    }
   ],
   "source": [
    "showMesh(data,z,eta,etaDual,labelSize,titleSize,legendSize,axisTicksSize,lineWidth)"
   ]
  },
  {
   "cell_type": "markdown",
   "metadata": {},
   "source": [
    "### From the data in the csv file, the initial condition for water suction $\\psi$ is defined\n",
    "- hydrostatic distribution for a given $\\psi$ @bottom -> 'hydrostatic'\n",
    "- constant distribution for a given $\\psi$ @bottom -> 'constant'\n",
    "- linear interpolation from measurement points -> 'linear interpolation'"
   ]
  },
  {
   "cell_type": "code",
   "execution_count": 24,
   "metadata": {},
   "outputs": [],
   "source": [
    "psiIC = setInitialCondition(data,eta,z,icType)"
   ]
  },
  {
   "cell_type": "code",
   "execution_count": 25,
   "metadata": {},
   "outputs": [
    {
     "data": {
      "text/html": [
       "\n",
       "\n",
       "\n",
       "\n",
       "\n",
       "\n",
       "  <div class=\"bk-root\" id=\"6d6b133e-fa1f-41d4-9a60-25858d29fa4d\" data-root-id=\"1839\"></div>\n"
      ]
     },
     "metadata": {},
     "output_type": "display_data"
    },
    {
     "data": {
      "application/javascript": [
       "(function(root) {\n",
       "  function embed_document(root) {\n",
       "    \n",
       "  var docs_json = {\"2fee1b05-31ff-4063-9afc-f551f1a3057f\":{\"roots\":{\"references\":[{\"attributes\":{\"below\":[{\"id\":\"1849\",\"type\":\"LinearAxis\"}],\"left\":[{\"id\":\"1854\",\"type\":\"LinearAxis\"}],\"renderers\":[{\"id\":\"1849\",\"type\":\"LinearAxis\"},{\"id\":\"1853\",\"type\":\"Grid\"},{\"id\":\"1854\",\"type\":\"LinearAxis\"},{\"id\":\"1858\",\"type\":\"Grid\"},{\"id\":\"1866\",\"type\":\"BoxAnnotation\"},{\"id\":\"1874\",\"type\":\"GlyphRenderer\"}],\"title\":{\"id\":\"1838\",\"type\":\"Title\"},\"toolbar\":{\"id\":\"1863\",\"type\":\"Toolbar\"},\"x_range\":{\"id\":\"1841\",\"type\":\"DataRange1d\"},\"x_scale\":{\"id\":\"1845\",\"type\":\"LinearScale\"},\"y_range\":{\"id\":\"1843\",\"type\":\"DataRange1d\"},\"y_scale\":{\"id\":\"1847\",\"type\":\"LinearScale\"}},\"id\":\"1839\",\"subtype\":\"Figure\",\"type\":\"Plot\"},{\"attributes\":{\"fill_alpha\":{\"value\":0.1},\"fill_color\":{\"value\":\"#1f77b4\"},\"line_alpha\":{\"value\":0.1},\"line_color\":{\"value\":\"#1f77b4\"},\"x\":{\"field\":\"x\"},\"y\":{\"field\":\"y\"}},\"id\":\"1873\",\"type\":\"Scatter\"},{\"attributes\":{},\"id\":\"1931\",\"type\":\"BasicTickFormatter\"},{\"attributes\":{},\"id\":\"1933\",\"type\":\"BasicTickFormatter\"},{\"attributes\":{},\"id\":\"1862\",\"type\":\"ResetTool\"},{\"attributes\":{\"data_source\":{\"id\":\"1871\",\"type\":\"ColumnDataSource\"},\"glyph\":{\"id\":\"1872\",\"type\":\"Scatter\"},\"hover_glyph\":null,\"muted_glyph\":null,\"nonselection_glyph\":{\"id\":\"1873\",\"type\":\"Scatter\"},\"selection_glyph\":null,\"view\":{\"id\":\"1875\",\"type\":\"CDSView\"}},\"id\":\"1874\",\"type\":\"GlyphRenderer\"},{\"attributes\":{\"source\":{\"id\":\"1871\",\"type\":\"ColumnDataSource\"}},\"id\":\"1875\",\"type\":\"CDSView\"},{\"attributes\":{\"callback\":null,\"data\":{\"x\":{\"__ndarray__\":\"ZmZmZmbmH0AzMzMzM7MfQAAAAAAAgB9AzMzMzMxMH0CZmZmZmRkfQGZmZmZm5h5AMzMzMzOzHkAAAAAAAIAeQM3MzMzMTB5AmZmZmZkZHkBmZmZmZuYdQDMzMzMzsx1AAAAAAACAHUDNzMzMzEwdQJqZmZmZGR1AZmZmZmbmHEAzMzMzM7McQAAAAAAAgBxAzczMzMxMHECamZmZmRkcQGZmZmZm5htAMzMzMzOzG0AAAAAAAIAbQM3MzMzMTBtAmpmZmZkZG0BmZmZmZuYaQDMzMzMzsxpAAAAAAACAGkDNzMzMzEwaQJqZmZmZGRpAZmZmZmbmGUA0MzMzM7MZQAAAAAAAgBlAzczMzMxMGUCamZmZmRkZQGdmZmZm5hhANDMzMzOzGEAAAAAAAIAYQM3MzMzMTBhAmpmZmZkZGECamZmZmZkPQM3MzMzMzA5AAAAAAAAADkA0MzMzMzMNQGdmZmZmZgxAmpmZmZmZC0DNzMzMzMwKQAAAAAAAAApANDMzMzMzCUBnZmZmZmYIQJqZmZmZmQdAzczMzMzMBkAAAAAAAAAGQDQzMzMzMwVAZmZmZmZmBECamZmZmZkDQM3MzMzMzAJAAAAAAAAAAkA0MzMzMzMBQGZmZmZmZgBANDMzMzMz/z+amZmZmZn9PwAAAAAAAPw/ZmZmZmZm+j/MzMzMzMz4PzQzMzMzM/c/mpmZmZmZ9T8AAAAAAAD0P2ZmZmZmZvI/zMzMzMzM8D9oZmZmZmbuPzQzMzMzM+s/AAAAAAAA6D/MzMzMzMzkP5iZmZmZmeE/0MzMzMzM3D9oZmZmZmbWPwAAAAAAANA/MDMzMzMzwz+AmZmZmZmpP5qZmZmZmbk/\",\"dtype\":\"float64\",\"shape\":[81]},\"y\":{\"__ndarray__\":\"ZmZmZmbmF8AzMzMzM7MXwAAAAAAAgBfAzMzMzMxMF8CZmZmZmRkXwGZmZmZm5hbAMzMzMzOzFsAAAAAAAIAWwM3MzMzMTBbAmZmZmZkZFsBmZmZmZuYVwDMzMzMzsxXAAAAAAACAFcDNzMzMzEwVwJqZmZmZGRXAZmZmZmbmFMAzMzMzM7MUwAAAAAAAgBTAzczMzMxMFMCamZmZmRkUwGZmZmZm5hPAMzMzMzOzE8AAAAAAAIATwM3MzMzMTBPAmpmZmZkZE8BmZmZmZuYSwDMzMzMzsxLAAAAAAACAEsDNzMzMzEwSwJqZmZmZGRLAZmZmZmbmEcA0MzMzM7MRwAAAAAAAgBHAzczMzMxMEcCamZmZmRkRwGdmZmZm5hDANDMzMzOzEMAAAAAAAIAQwM3MzMzMTBDAmpmZmZkZEMCamZmZmZkPwM3MzMzMzA7AAAAAAAAADsA0MzMzMzMNwGdmZmZmZgzAmpmZmZmZC8DNzMzMzMwKwAAAAAAAAArANDMzMzMzCcBnZmZmZmYIwJqZmZmZmQfAzczMzMzMBsAAAAAAAAAGwDQzMzMzMwXAZmZmZmZmBMCamZmZmZkDwM3MzMzMzALAAAAAAAAAAsA0MzMzMzMBwGZmZmZmZgDANDMzMzMz/7+amZmZmZn9vwAAAAAAAPy/ZmZmZmZm+r/MzMzMzMz4vzQzMzMzM/e/mpmZmZmZ9b8AAAAAAAD0v2ZmZmZmZvK/zMzMzMzM8L9oZmZmZmbuvzQzMzMzM+u/AAAAAAAA6L/MzMzMzMzkv5iZmZmZmeG/0MzMzMzM3L9oZmZmZmbWvwAAAAAAANC/MDMzMzMzw7+amZmZmZmpvwAAAAAAAAAA\",\"dtype\":\"float64\",\"shape\":[81]}},\"selected\":{\"id\":\"1937\",\"type\":\"Selection\"},\"selection_policy\":{\"id\":\"1936\",\"type\":\"UnionRenderers\"}},\"id\":\"1871\",\"type\":\"ColumnDataSource\"},{\"attributes\":{},\"id\":\"1936\",\"type\":\"UnionRenderers\"},{\"attributes\":{},\"id\":\"1855\",\"type\":\"BasicTicker\"},{\"attributes\":{},\"id\":\"1937\",\"type\":\"Selection\"},{\"attributes\":{},\"id\":\"1860\",\"type\":\"WheelZoomTool\"},{\"attributes\":{\"axis_label\":\"\\u03b7 [m]\",\"axis_label_text_font_size\":{\"value\":\"18px\"},\"formatter\":{\"id\":\"1933\",\"type\":\"BasicTickFormatter\"},\"plot\":{\"id\":\"1839\",\"subtype\":\"Figure\",\"type\":\"Plot\"},\"ticker\":{\"id\":\"1855\",\"type\":\"BasicTicker\"}},\"id\":\"1854\",\"type\":\"LinearAxis\"},{\"attributes\":{\"bottom_units\":\"screen\",\"fill_alpha\":{\"value\":0.5},\"fill_color\":{\"value\":\"lightgrey\"},\"left_units\":\"screen\",\"level\":\"overlay\",\"line_alpha\":{\"value\":1.0},\"line_color\":{\"value\":\"black\"},\"line_dash\":[4,4],\"line_width\":{\"value\":2},\"plot\":null,\"render_mode\":\"css\",\"right_units\":\"screen\",\"top_units\":\"screen\"},\"id\":\"1866\",\"type\":\"BoxAnnotation\"},{\"attributes\":{},\"id\":\"1845\",\"type\":\"LinearScale\"},{\"attributes\":{\"fill_color\":{\"value\":\"blue\"},\"line_color\":{\"value\":\"blue\"},\"x\":{\"field\":\"x\"},\"y\":{\"field\":\"y\"}},\"id\":\"1872\",\"type\":\"Scatter\"},{\"attributes\":{\"callback\":null},\"id\":\"1841\",\"type\":\"DataRange1d\"},{\"attributes\":{\"callback\":null,\"tooltips\":[[\"(x,y)\",\"($x, $y)\"]]},\"id\":\"1837\",\"type\":\"HoverTool\"},{\"attributes\":{\"align\":\"center\",\"plot\":null,\"text\":\"Initial condition for \\u03c8: piecewise-hydrostatic\",\"text_font_size\":{\"value\":\"22px\"}},\"id\":\"1838\",\"type\":\"Title\"},{\"attributes\":{\"overlay\":{\"id\":\"1866\",\"type\":\"BoxAnnotation\"}},\"id\":\"1861\",\"type\":\"BoxZoomTool\"},{\"attributes\":{\"axis_label\":\"\\u03c8 [m]\",\"axis_label_text_font_size\":{\"value\":\"18px\"},\"formatter\":{\"id\":\"1931\",\"type\":\"BasicTickFormatter\"},\"plot\":{\"id\":\"1839\",\"subtype\":\"Figure\",\"type\":\"Plot\"},\"ticker\":{\"id\":\"1850\",\"type\":\"BasicTicker\"}},\"id\":\"1849\",\"type\":\"LinearAxis\"},{\"attributes\":{\"callback\":null},\"id\":\"1843\",\"type\":\"DataRange1d\"},{\"attributes\":{\"dimension\":1,\"plot\":{\"id\":\"1839\",\"subtype\":\"Figure\",\"type\":\"Plot\"},\"ticker\":{\"id\":\"1855\",\"type\":\"BasicTicker\"}},\"id\":\"1858\",\"type\":\"Grid\"},{\"attributes\":{\"plot\":{\"id\":\"1839\",\"subtype\":\"Figure\",\"type\":\"Plot\"},\"ticker\":{\"id\":\"1850\",\"type\":\"BasicTicker\"}},\"id\":\"1853\",\"type\":\"Grid\"},{\"attributes\":{\"active_drag\":\"auto\",\"active_inspect\":\"auto\",\"active_multi\":null,\"active_scroll\":\"auto\",\"active_tap\":\"auto\",\"tools\":[{\"id\":\"1837\",\"type\":\"HoverTool\"},{\"id\":\"1859\",\"type\":\"PanTool\"},{\"id\":\"1860\",\"type\":\"WheelZoomTool\"},{\"id\":\"1861\",\"type\":\"BoxZoomTool\"},{\"id\":\"1862\",\"type\":\"ResetTool\"}]},\"id\":\"1863\",\"type\":\"Toolbar\"},{\"attributes\":{},\"id\":\"1850\",\"type\":\"BasicTicker\"},{\"attributes\":{},\"id\":\"1859\",\"type\":\"PanTool\"},{\"attributes\":{},\"id\":\"1847\",\"type\":\"LinearScale\"}],\"root_ids\":[\"1839\"]},\"title\":\"Bokeh Application\",\"version\":\"1.0.4\"}};\n",
       "  var render_items = [{\"docid\":\"2fee1b05-31ff-4063-9afc-f551f1a3057f\",\"roots\":{\"1839\":\"6d6b133e-fa1f-41d4-9a60-25858d29fa4d\"}}];\n",
       "  root.Bokeh.embed.embed_items_notebook(docs_json, render_items);\n",
       "\n",
       "  }\n",
       "  if (root.Bokeh !== undefined) {\n",
       "    embed_document(root);\n",
       "  } else {\n",
       "    var attempts = 0;\n",
       "    var timer = setInterval(function(root) {\n",
       "      if (root.Bokeh !== undefined) {\n",
       "        embed_document(root);\n",
       "        clearInterval(timer);\n",
       "      }\n",
       "      attempts++;\n",
       "      if (attempts > 100) {\n",
       "        console.log(\"Bokeh: ERROR: Unable to run BokehJS code because BokehJS library is missing\");\n",
       "        clearInterval(timer);\n",
       "      }\n",
       "    }, 10, root)\n",
       "  }\n",
       "})(window);"
      ],
      "application/vnd.bokehjs_exec.v0+json": ""
     },
     "metadata": {
      "application/vnd.bokehjs_exec.v0+json": {
       "id": "1839"
      }
     },
     "output_type": "display_data"
    }
   ],
   "source": [
    "showInitialCondition(psiIC,eta,icType,labelSize,titleSize,legendSize,axisTicksSize,lineWidth)"
   ]
  },
  {
   "cell_type": "code",
   "execution_count": 18,
   "metadata": {
    "scrolled": true
   },
   "outputs": [
    {
     "data": {
      "text/html": [
       "\n",
       "\n",
       "\n",
       "\n",
       "\n",
       "\n",
       "  <div class=\"bk-root\" id=\"b7af66e2-89c3-4caf-86c4-10637a968a3e\" data-root-id=\"1341\"></div>\n"
      ]
     },
     "metadata": {},
     "output_type": "display_data"
    },
    {
     "data": {
      "application/javascript": [
       "(function(root) {\n",
       "  function embed_document(root) {\n",
       "    \n",
       "  var docs_json = {\"77e3875a-c83f-4f6f-8d54-0ff47f4bff5d\":{\"roots\":{\"references\":[{\"attributes\":{\"below\":[{\"id\":\"1351\",\"type\":\"LinearAxis\"}],\"left\":[{\"id\":\"1356\",\"type\":\"LinearAxis\"}],\"renderers\":[{\"id\":\"1351\",\"type\":\"LinearAxis\"},{\"id\":\"1355\",\"type\":\"Grid\"},{\"id\":\"1356\",\"type\":\"LinearAxis\"},{\"id\":\"1360\",\"type\":\"Grid\"},{\"id\":\"1368\",\"type\":\"BoxAnnotation\"},{\"id\":\"1376\",\"type\":\"GlyphRenderer\"}],\"title\":{\"id\":\"1340\",\"type\":\"Title\"},\"toolbar\":{\"id\":\"1365\",\"type\":\"Toolbar\"},\"x_range\":{\"id\":\"1343\",\"type\":\"DataRange1d\"},\"x_scale\":{\"id\":\"1347\",\"type\":\"LinearScale\"},\"y_range\":{\"id\":\"1345\",\"type\":\"DataRange1d\"},\"y_scale\":{\"id\":\"1349\",\"type\":\"LinearScale\"}},\"id\":\"1341\",\"subtype\":\"Figure\",\"type\":\"Plot\"},{\"attributes\":{\"fill_color\":{\"value\":\"blue\"},\"line_color\":{\"value\":\"blue\"},\"x\":{\"field\":\"x\"},\"y\":{\"field\":\"y\"}},\"id\":\"1374\",\"type\":\"Scatter\"},{\"attributes\":{\"callback\":null,\"tooltips\":[[\"(x,y)\",\"($x, $y)\"]]},\"id\":\"1339\",\"type\":\"HoverTool\"},{\"attributes\":{},\"id\":\"1403\",\"type\":\"BasicTickFormatter\"},{\"attributes\":{},\"id\":\"1405\",\"type\":\"BasicTickFormatter\"},{\"attributes\":{},\"id\":\"1357\",\"type\":\"BasicTicker\"},{\"attributes\":{\"callback\":null,\"data\":{\"x\":{\"__ndarray__\":\"AAAAAAAAAAAAAAAAAAAAAAAAAAAAAAAAAAAAAAAAAAAAAAAAAAAAAAAAAAAAAAAAAAAAAAAAAAAAAAAAAAAAAAAAAAAAAAAAAAAAAAAAAAAAAAAAAAAAAAAAAAAAAAAAAAAAAAAAAAAAAAAAAAAAAAAAAAAAAAAAAAAAAAAAAAAAAAAAAAAAAAAAAAAAAAAAAAAAAAAAAAAAAAAAAAAAAAAAAAAAAAAAAAAAAAAAAAAAAAAAAAAAAAAAAAAAAAAAAAAAAAAAAAAAAAAAAAAAAAAAAAAAAAAAAAAAAAAAAAAAAAAAAAAAAAAAAAAAAAAAAAAAAAAAAAAAAAAAAAAAAAAAAAAAAAAAAAAAAAAAAAAAAAAAAAAAAAAAAAAAAAAAAAAAAAAAAAAAAAAAAAAAAAAAAAAAAAAAAAAAAAAAAAAAAAAAAAAAAA==\",\"dtype\":\"float64\",\"shape\":[41]},\"y\":{\"__ndarray__\":\"mpmZmZmZ/7/NzMzMzMz+vwAAAAAAAP6/NDMzMzMz/b9nZmZmZmb8v5qZmZmZmfu/zczMzMzM+r8AAAAAAAD6vzQzMzMzM/m/Z2ZmZmZm+L+amZmZmZn3v83MzMzMzPa/AAAAAAAA9r80MzMzMzP1v2ZmZmZmZvS/mpmZmZmZ87/NzMzMzMzyvwAAAAAAAPK/NDMzMzMz8b9mZmZmZmbwvzQzMzMzM++/mpmZmZmZ7b8AAAAAAADsv2ZmZmZmZuq/zMzMzMzM6L80MzMzMzPnv5qZmZmZmeW/AAAAAAAA5L9mZmZmZmbiv8zMzMzMzOC/aGZmZmZm3r80MzMzMzPbvwAAAAAAANi/zMzMzMzM1L+YmZmZmZnRv9DMzMzMzMy/aGZmZmZmxr8AAAAAAADAvzAzMzMzM7O/mpmZmZmZmb8AAAAAAAAAAA==\",\"dtype\":\"float64\",\"shape\":[41]}},\"selected\":{\"id\":\"1408\",\"type\":\"Selection\"},\"selection_policy\":{\"id\":\"1409\",\"type\":\"UnionRenderers\"}},\"id\":\"1373\",\"type\":\"ColumnDataSource\"},{\"attributes\":{\"dimension\":1,\"plot\":{\"id\":\"1341\",\"subtype\":\"Figure\",\"type\":\"Plot\"},\"ticker\":{\"id\":\"1357\",\"type\":\"BasicTicker\"}},\"id\":\"1360\",\"type\":\"Grid\"},{\"attributes\":{\"active_drag\":\"auto\",\"active_inspect\":\"auto\",\"active_multi\":null,\"active_scroll\":\"auto\",\"active_tap\":\"auto\",\"tools\":[{\"id\":\"1339\",\"type\":\"HoverTool\"},{\"id\":\"1361\",\"type\":\"PanTool\"},{\"id\":\"1362\",\"type\":\"WheelZoomTool\"},{\"id\":\"1363\",\"type\":\"BoxZoomTool\"},{\"id\":\"1364\",\"type\":\"ResetTool\"}]},\"id\":\"1365\",\"type\":\"Toolbar\"},{\"attributes\":{\"data_source\":{\"id\":\"1373\",\"type\":\"ColumnDataSource\"},\"glyph\":{\"id\":\"1374\",\"type\":\"Scatter\"},\"hover_glyph\":null,\"muted_glyph\":null,\"nonselection_glyph\":{\"id\":\"1375\",\"type\":\"Scatter\"},\"selection_glyph\":null,\"view\":{\"id\":\"1377\",\"type\":\"CDSView\"}},\"id\":\"1376\",\"type\":\"GlyphRenderer\"},{\"attributes\":{},\"id\":\"1361\",\"type\":\"PanTool\"},{\"attributes\":{},\"id\":\"1362\",\"type\":\"WheelZoomTool\"},{\"attributes\":{\"fill_alpha\":{\"value\":0.1},\"fill_color\":{\"value\":\"#1f77b4\"},\"line_alpha\":{\"value\":0.1},\"line_color\":{\"value\":\"#1f77b4\"},\"x\":{\"field\":\"x\"},\"y\":{\"field\":\"y\"}},\"id\":\"1375\",\"type\":\"Scatter\"},{\"attributes\":{\"bottom_units\":\"screen\",\"fill_alpha\":{\"value\":0.5},\"fill_color\":{\"value\":\"lightgrey\"},\"left_units\":\"screen\",\"level\":\"overlay\",\"line_alpha\":{\"value\":1.0},\"line_color\":{\"value\":\"black\"},\"line_dash\":[4,4],\"line_width\":{\"value\":2},\"plot\":null,\"render_mode\":\"css\",\"right_units\":\"screen\",\"top_units\":\"screen\"},\"id\":\"1368\",\"type\":\"BoxAnnotation\"},{\"attributes\":{},\"id\":\"1364\",\"type\":\"ResetTool\"},{\"attributes\":{\"axis_label\":\"h [m]\",\"axis_label_text_font_size\":{\"value\":\"18px\"},\"formatter\":{\"id\":\"1405\",\"type\":\"BasicTickFormatter\"},\"plot\":{\"id\":\"1341\",\"subtype\":\"Figure\",\"type\":\"Plot\"},\"ticker\":{\"id\":\"1352\",\"type\":\"BasicTicker\"}},\"id\":\"1351\",\"type\":\"LinearAxis\"},{\"attributes\":{},\"id\":\"1409\",\"type\":\"UnionRenderers\"},{\"attributes\":{\"align\":\"center\",\"plot\":null,\"text\":\"Total hydraulic head:hydrostatic\",\"text_font_size\":{\"value\":\"22px\"}},\"id\":\"1340\",\"type\":\"Title\"},{\"attributes\":{\"overlay\":{\"id\":\"1368\",\"type\":\"BoxAnnotation\"}},\"id\":\"1363\",\"type\":\"BoxZoomTool\"},{\"attributes\":{\"axis_label\":\"\\u03b7  [m]\",\"axis_label_text_font_size\":{\"value\":\"18px\"},\"formatter\":{\"id\":\"1403\",\"type\":\"BasicTickFormatter\"},\"plot\":{\"id\":\"1341\",\"subtype\":\"Figure\",\"type\":\"Plot\"},\"ticker\":{\"id\":\"1357\",\"type\":\"BasicTicker\"}},\"id\":\"1356\",\"type\":\"LinearAxis\"},{\"attributes\":{\"plot\":{\"id\":\"1341\",\"subtype\":\"Figure\",\"type\":\"Plot\"},\"ticker\":{\"id\":\"1352\",\"type\":\"BasicTicker\"}},\"id\":\"1355\",\"type\":\"Grid\"},{\"attributes\":{\"callback\":null},\"id\":\"1345\",\"type\":\"DataRange1d\"},{\"attributes\":{},\"id\":\"1408\",\"type\":\"Selection\"},{\"attributes\":{},\"id\":\"1352\",\"type\":\"BasicTicker\"},{\"attributes\":{\"callback\":null},\"id\":\"1343\",\"type\":\"DataRange1d\"},{\"attributes\":{},\"id\":\"1347\",\"type\":\"LinearScale\"},{\"attributes\":{\"source\":{\"id\":\"1373\",\"type\":\"ColumnDataSource\"}},\"id\":\"1377\",\"type\":\"CDSView\"},{\"attributes\":{},\"id\":\"1349\",\"type\":\"LinearScale\"}],\"root_ids\":[\"1341\"]},\"title\":\"Bokeh Application\",\"version\":\"1.0.4\"}};\n",
       "  var render_items = [{\"docid\":\"77e3875a-c83f-4f6f-8d54-0ff47f4bff5d\",\"roots\":{\"1341\":\"b7af66e2-89c3-4caf-86c4-10637a968a3e\"}}];\n",
       "  root.Bokeh.embed.embed_items_notebook(docs_json, render_items);\n",
       "\n",
       "  }\n",
       "  if (root.Bokeh !== undefined) {\n",
       "    embed_document(root);\n",
       "  } else {\n",
       "    var attempts = 0;\n",
       "    var timer = setInterval(function(root) {\n",
       "      if (root.Bokeh !== undefined) {\n",
       "        embed_document(root);\n",
       "        clearInterval(timer);\n",
       "      }\n",
       "      attempts++;\n",
       "      if (attempts > 100) {\n",
       "        console.log(\"Bokeh: ERROR: Unable to run BokehJS code because BokehJS library is missing\");\n",
       "        clearInterval(timer);\n",
       "      }\n",
       "    }, 10, root)\n",
       "  }\n",
       "})(window);"
      ],
      "application/vnd.bokehjs_exec.v0+json": ""
     },
     "metadata": {
      "application/vnd.bokehjs_exec.v0+json": {
       "id": "1341"
      }
     },
     "output_type": "display_data"
    }
   ],
   "source": [
    "showTotalHead(psiIC,z,eta,icType,labelSize,titleSize,legendSize,axisTicksSize,lineWidth)"
   ]
  },
  {
   "cell_type": "markdown",
   "metadata": {},
   "source": [
    "### Assign hydraulic properties to each control volume of the grid\n",
    "For an explanantion of the data in the above dataFrame, please read first the presentation at "
   ]
  },
  {
   "cell_type": "code",
   "execution_count": 19,
   "metadata": {},
   "outputs": [],
   "source": [
    "[thetaS, thetaR, Ks, alphaSpecificStorage, betaSpecificStorage, n, alpha, par3SWRC, par4SWRC, par5SWRC, psiStar, par7SWRC, par8SWRC, et] = setParameters(data,eta)"
   ]
  },
  {
   "cell_type": "code",
   "execution_count": 20,
   "metadata": {},
   "outputs": [
    {
     "data": {
      "text/html": [
       "\n",
       "\n",
       "\n",
       "\n",
       "\n",
       "\n",
       "  <div class=\"bk-root\" id=\"81bccaf1-bc96-4231-831a-2346a8a5086f\" data-root-id=\"1810\"></div>\n"
      ]
     },
     "metadata": {},
     "output_type": "display_data"
    },
    {
     "data": {
      "application/javascript": [
       "(function(root) {\n",
       "  function embed_document(root) {\n",
       "    \n",
       "  var docs_json = {\"45289569-1f34-4659-be22-8fdee2fa3aee\":{\"roots\":{\"references\":[{\"attributes\":{\"callback\":null,\"tabs\":[{\"id\":\"1497\",\"type\":\"Panel\"},{\"id\":\"1536\",\"type\":\"Panel\"},{\"id\":\"1575\",\"type\":\"Panel\"},{\"id\":\"1614\",\"type\":\"Panel\"},{\"id\":\"1653\",\"type\":\"Panel\"},{\"id\":\"1692\",\"type\":\"Panel\"},{\"id\":\"1731\",\"type\":\"Panel\"},{\"id\":\"1770\",\"type\":\"Panel\"}]},\"id\":\"1810\",\"type\":\"Tabs\"},{\"attributes\":{\"callback\":null,\"data\":{\"x\":[0.0,0.0,0.0,0.0,0.0,0.0,0.0,0.0,0.0,0.0,0.0,0.0,0.0,0.0,0.0,0.0,0.0,0.0,0.0,0.0,0.0,0.0,0.0,0.0,0.0,0.0,0.0,0.0,0.0,0.0,0.0,0.0,0.0,0.0,0.0,0.0,0.0,0.0,0.0,0.0],\"y\":{\"__ndarray__\":\"mpmZmZmZ/7/NzMzMzMz+vwAAAAAAAP6/NDMzMzMz/b9nZmZmZmb8v5qZmZmZmfu/zczMzMzM+r8AAAAAAAD6vzQzMzMzM/m/Z2ZmZmZm+L+amZmZmZn3v83MzMzMzPa/AAAAAAAA9r80MzMzMzP1v2ZmZmZmZvS/mpmZmZmZ87/NzMzMzMzyvwAAAAAAAPK/NDMzMzMz8b9mZmZmZmbwvzQzMzMzM++/mpmZmZmZ7b8AAAAAAADsv2ZmZmZmZuq/zMzMzMzM6L80MzMzMzPnv5qZmZmZmeW/AAAAAAAA5L9mZmZmZmbiv8zMzMzMzOC/aGZmZmZm3r80MzMzMzPbvwAAAAAAANi/zMzMzMzM1L+YmZmZmZnRv9DMzMzMzMy/aGZmZmZmxr8AAAAAAADAvzAzMzMzM7O/mpmZmZmZmb8=\",\"dtype\":\"float64\",\"shape\":[40]}},\"selected\":{\"id\":\"1905\",\"type\":\"Selection\"},\"selection_policy\":{\"id\":\"1906\",\"type\":\"UnionRenderers\"}},\"id\":\"1765\",\"type\":\"ColumnDataSource\"},{\"attributes\":{\"active_drag\":\"auto\",\"active_inspect\":\"auto\",\"active_multi\":null,\"active_scroll\":\"auto\",\"active_tap\":\"auto\",\"tools\":[{\"id\":\"1458\",\"type\":\"HoverTool\"},{\"id\":\"1636\",\"type\":\"PanTool\"},{\"id\":\"1637\",\"type\":\"WheelZoomTool\"},{\"id\":\"1638\",\"type\":\"BoxZoomTool\"},{\"id\":\"1639\",\"type\":\"ResetTool\"}]},\"id\":\"1640\",\"type\":\"Toolbar\"},{\"attributes\":{\"fill_color\":{\"value\":\"blue\"},\"line_color\":{\"value\":\"blue\"},\"line_width\":{\"value\":0.3},\"x\":{\"field\":\"x\"},\"y\":{\"field\":\"y\"}},\"id\":\"1493\",\"type\":\"Scatter\"},{\"attributes\":{\"bottom_units\":\"screen\",\"fill_alpha\":{\"value\":0.5},\"fill_color\":{\"value\":\"lightgrey\"},\"left_units\":\"screen\",\"level\":\"overlay\",\"line_alpha\":{\"value\":1.0},\"line_color\":{\"value\":\"black\"},\"line_dash\":[4,4],\"line_width\":{\"value\":2},\"plot\":null,\"render_mode\":\"css\",\"right_units\":\"screen\",\"top_units\":\"screen\"},\"id\":\"1643\",\"type\":\"BoxAnnotation\"},{\"attributes\":{\"callback\":null},\"id\":\"1462\",\"type\":\"DataRange1d\"},{\"attributes\":{\"fill_alpha\":{\"value\":0.1},\"fill_color\":{\"value\":\"#1f77b4\"},\"line_alpha\":{\"value\":0.1},\"line_color\":{\"value\":\"#1f77b4\"},\"line_width\":{\"value\":0.3},\"x\":{\"field\":\"x\"},\"y\":{\"field\":\"y\"}},\"id\":\"1650\",\"type\":\"Scatter\"},{\"attributes\":{\"data_source\":{\"id\":\"1648\",\"type\":\"ColumnDataSource\"},\"glyph\":{\"id\":\"1649\",\"type\":\"Scatter\"},\"hover_glyph\":null,\"muted_glyph\":null,\"nonselection_glyph\":{\"id\":\"1650\",\"type\":\"Scatter\"},\"selection_glyph\":null,\"view\":{\"id\":\"1652\",\"type\":\"CDSView\"}},\"id\":\"1651\",\"type\":\"GlyphRenderer\"},{\"attributes\":{\"source\":{\"id\":\"1648\",\"type\":\"ColumnDataSource\"}},\"id\":\"1652\",\"type\":\"CDSView\"},{\"attributes\":{\"child\":{\"id\":\"1616\",\"subtype\":\"Figure\",\"type\":\"Plot\"},\"title\":\"\\u03b1\"},\"id\":\"1653\",\"type\":\"Panel\"},{\"attributes\":{\"below\":[{\"id\":\"1665\",\"type\":\"LinearAxis\"}],\"left\":[{\"id\":\"1670\",\"type\":\"LinearAxis\"}],\"renderers\":[{\"id\":\"1665\",\"type\":\"LinearAxis\"},{\"id\":\"1669\",\"type\":\"Grid\"},{\"id\":\"1670\",\"type\":\"LinearAxis\"},{\"id\":\"1674\",\"type\":\"Grid\"},{\"id\":\"1682\",\"type\":\"BoxAnnotation\"},{\"id\":\"1690\",\"type\":\"GlyphRenderer\"}],\"title\":{\"id\":\"1654\",\"type\":\"Title\"},\"toolbar\":{\"id\":\"1679\",\"type\":\"Toolbar\"},\"x_range\":{\"id\":\"1657\",\"type\":\"DataRange1d\"},\"x_scale\":{\"id\":\"1661\",\"type\":\"LinearScale\"},\"y_range\":{\"id\":\"1659\",\"type\":\"DataRange1d\"},\"y_scale\":{\"id\":\"1663\",\"type\":\"LinearScale\"}},\"id\":\"1655\",\"subtype\":\"Figure\",\"type\":\"Plot\"},{\"attributes\":{\"fill_color\":{\"value\":\"red\"},\"line_color\":{\"value\":\"red\"},\"line_width\":{\"value\":0.3},\"x\":{\"field\":\"x\"},\"y\":{\"field\":\"y\"}},\"id\":\"1688\",\"type\":\"Scatter\"},{\"attributes\":{\"align\":\"center\",\"plot\":null,\"text\":\"Van Genuchten \\u03c8*\",\"text_font_size\":{\"value\":\"22px\"}},\"id\":\"1654\",\"type\":\"Title\"},{\"attributes\":{\"callback\":null},\"id\":\"1657\",\"type\":\"DataRange1d\"},{\"attributes\":{},\"id\":\"1899\",\"type\":\"Selection\"},{\"attributes\":{\"callback\":null},\"id\":\"1659\",\"type\":\"DataRange1d\"},{\"attributes\":{},\"id\":\"1661\",\"type\":\"LinearScale\"},{\"attributes\":{},\"id\":\"1663\",\"type\":\"LinearScale\"},{\"attributes\":{\"axis_label\":\"\\u03c8* [m] \",\"axis_label_text_font_size\":{\"value\":\"18px\"},\"formatter\":{\"id\":\"1873\",\"type\":\"BasicTickFormatter\"},\"plot\":{\"id\":\"1655\",\"subtype\":\"Figure\",\"type\":\"Plot\"},\"ticker\":{\"id\":\"1666\",\"type\":\"BasicTicker\"}},\"id\":\"1665\",\"type\":\"LinearAxis\"},{\"attributes\":{\"data_source\":{\"id\":\"1531\",\"type\":\"ColumnDataSource\"},\"glyph\":{\"id\":\"1532\",\"type\":\"Scatter\"},\"hover_glyph\":null,\"muted_glyph\":null,\"nonselection_glyph\":{\"id\":\"1533\",\"type\":\"Scatter\"},\"selection_glyph\":null,\"view\":{\"id\":\"1535\",\"type\":\"CDSView\"}},\"id\":\"1534\",\"type\":\"GlyphRenderer\"},{\"attributes\":{},\"id\":\"1666\",\"type\":\"BasicTicker\"},{\"attributes\":{\"plot\":{\"id\":\"1655\",\"subtype\":\"Figure\",\"type\":\"Plot\"},\"ticker\":{\"id\":\"1666\",\"type\":\"BasicTicker\"}},\"id\":\"1669\",\"type\":\"Grid\"},{\"attributes\":{\"axis_label\":\"\\u03b7 [m]\",\"axis_label_text_font_size\":{\"value\":\"18px\"},\"formatter\":{\"id\":\"1871\",\"type\":\"BasicTickFormatter\"},\"plot\":{\"id\":\"1655\",\"subtype\":\"Figure\",\"type\":\"Plot\"},\"ticker\":{\"id\":\"1671\",\"type\":\"BasicTicker\"}},\"id\":\"1670\",\"type\":\"LinearAxis\"},{\"attributes\":{},\"id\":\"1671\",\"type\":\"BasicTicker\"},{\"attributes\":{\"dimension\":1,\"plot\":{\"id\":\"1655\",\"subtype\":\"Figure\",\"type\":\"Plot\"},\"ticker\":{\"id\":\"1671\",\"type\":\"BasicTicker\"}},\"id\":\"1674\",\"type\":\"Grid\"},{\"attributes\":{\"callback\":null,\"data\":{\"x\":[-0.03082847050675074,-0.03082847050675074,-0.03082847050675074,-0.03082847050675074,-0.03082847050675074,-0.03082847050675074,-0.03082847050675074,-0.03082847050675074,-0.03082847050675074,-0.03082847050675074,-0.03082847050675074,-0.03082847050675074,-0.03082847050675074,-0.03082847050675074,-0.03082847050675074,-0.03082847050675074,-0.03082847050675074,-0.03082847050675074,-0.03082847050675074,-0.03082847050675074,-0.03082847050675074,-0.03082847050675074,-0.03082847050675074,-0.03082847050675074,-0.03082847050675074,-0.03082847050675074,-0.03082847050675074,-0.03082847050675074,-0.03082847050675074,-0.03082847050675074,-0.03082847050675074,-0.03082847050675074,-0.03082847050675074,-0.03082847050675074,-0.03082847050675074,-0.03082847050675074,-0.03082847050675074,-0.03082847050675074,-0.03082847050675074,-0.03082847050675074],\"y\":{\"__ndarray__\":\"mpmZmZmZ/7/NzMzMzMz+vwAAAAAAAP6/NDMzMzMz/b9nZmZmZmb8v5qZmZmZmfu/zczMzMzM+r8AAAAAAAD6vzQzMzMzM/m/Z2ZmZmZm+L+amZmZmZn3v83MzMzMzPa/AAAAAAAA9r80MzMzMzP1v2ZmZmZmZvS/mpmZmZmZ87/NzMzMzMzyvwAAAAAAAPK/NDMzMzMz8b9mZmZmZmbwvzQzMzMzM++/mpmZmZmZ7b8AAAAAAADsv2ZmZmZmZuq/zMzMzMzM6L80MzMzMzPnv5qZmZmZmeW/AAAAAAAA5L9mZmZmZmbiv8zMzMzMzOC/aGZmZmZm3r80MzMzMzPbvwAAAAAAANi/zMzMzMzM1L+YmZmZmZnRv9DMzMzMzMy/aGZmZmZmxr8AAAAAAADAvzAzMzMzM7O/mpmZmZmZmb8=\",\"dtype\":\"float64\",\"shape\":[40]}},\"selected\":{\"id\":\"1899\",\"type\":\"Selection\"},\"selection_policy\":{\"id\":\"1900\",\"type\":\"UnionRenderers\"}},\"id\":\"1687\",\"type\":\"ColumnDataSource\"},{\"attributes\":{\"active_drag\":\"auto\",\"active_inspect\":\"auto\",\"active_multi\":null,\"active_scroll\":\"auto\",\"active_tap\":\"auto\",\"tools\":[{\"id\":\"1458\",\"type\":\"HoverTool\"},{\"id\":\"1675\",\"type\":\"PanTool\"},{\"id\":\"1676\",\"type\":\"WheelZoomTool\"},{\"id\":\"1677\",\"type\":\"BoxZoomTool\"},{\"id\":\"1678\",\"type\":\"ResetTool\"}]},\"id\":\"1679\",\"type\":\"Toolbar\"},{\"attributes\":{\"axis_label\":\" water content at saturation [-]\",\"axis_label_text_font_size\":{\"value\":\"18px\"},\"formatter\":{\"id\":\"1853\",\"type\":\"BasicTickFormatter\"},\"plot\":{\"id\":\"1460\",\"subtype\":\"Figure\",\"type\":\"Plot\"},\"ticker\":{\"id\":\"1471\",\"type\":\"BasicTicker\"}},\"id\":\"1470\",\"type\":\"LinearAxis\"},{\"attributes\":{},\"id\":\"1675\",\"type\":\"PanTool\"},{\"attributes\":{},\"id\":\"1676\",\"type\":\"WheelZoomTool\"},{\"attributes\":{},\"id\":\"1522\",\"type\":\"ResetTool\"},{\"attributes\":{},\"id\":\"1466\",\"type\":\"LinearScale\"},{\"attributes\":{\"overlay\":{\"id\":\"1682\",\"type\":\"BoxAnnotation\"}},\"id\":\"1677\",\"type\":\"BoxZoomTool\"},{\"attributes\":{},\"id\":\"1471\",\"type\":\"BasicTicker\"},{\"attributes\":{},\"id\":\"1678\",\"type\":\"ResetTool\"},{\"attributes\":{\"below\":[{\"id\":\"1470\",\"type\":\"LinearAxis\"}],\"left\":[{\"id\":\"1475\",\"type\":\"LinearAxis\"}],\"renderers\":[{\"id\":\"1470\",\"type\":\"LinearAxis\"},{\"id\":\"1474\",\"type\":\"Grid\"},{\"id\":\"1475\",\"type\":\"LinearAxis\"},{\"id\":\"1479\",\"type\":\"Grid\"},{\"id\":\"1487\",\"type\":\"BoxAnnotation\"},{\"id\":\"1495\",\"type\":\"GlyphRenderer\"}],\"title\":{\"id\":\"1459\",\"type\":\"Title\"},\"toolbar\":{\"id\":\"1484\",\"type\":\"Toolbar\"},\"x_range\":{\"id\":\"1462\",\"type\":\"DataRange1d\"},\"x_scale\":{\"id\":\"1466\",\"type\":\"LinearScale\"},\"y_range\":{\"id\":\"1464\",\"type\":\"DataRange1d\"},\"y_scale\":{\"id\":\"1468\",\"type\":\"LinearScale\"}},\"id\":\"1460\",\"subtype\":\"Figure\",\"type\":\"Plot\"},{\"attributes\":{\"axis_label\":\"\\u03b7 [m]\",\"axis_label_text_font_size\":{\"value\":\"18px\"},\"formatter\":{\"id\":\"1851\",\"type\":\"BasicTickFormatter\"},\"plot\":{\"id\":\"1460\",\"subtype\":\"Figure\",\"type\":\"Plot\"},\"ticker\":{\"id\":\"1476\",\"type\":\"BasicTicker\"}},\"id\":\"1475\",\"type\":\"LinearAxis\"},{\"attributes\":{},\"id\":\"1468\",\"type\":\"LinearScale\"},{\"attributes\":{\"bottom_units\":\"screen\",\"fill_alpha\":{\"value\":0.5},\"fill_color\":{\"value\":\"lightgrey\"},\"left_units\":\"screen\",\"level\":\"overlay\",\"line_alpha\":{\"value\":1.0},\"line_color\":{\"value\":\"black\"},\"line_dash\":[4,4],\"line_width\":{\"value\":2},\"plot\":null,\"render_mode\":\"css\",\"right_units\":\"screen\",\"top_units\":\"screen\"},\"id\":\"1682\",\"type\":\"BoxAnnotation\"},{\"attributes\":{\"fill_alpha\":{\"value\":0.1},\"fill_color\":{\"value\":\"#1f77b4\"},\"line_alpha\":{\"value\":0.1},\"line_color\":{\"value\":\"#1f77b4\"},\"line_width\":{\"value\":0.3},\"x\":{\"field\":\"x\"},\"y\":{\"field\":\"y\"}},\"id\":\"1689\",\"type\":\"Scatter\"},{\"attributes\":{\"data_source\":{\"id\":\"1687\",\"type\":\"ColumnDataSource\"},\"glyph\":{\"id\":\"1688\",\"type\":\"Scatter\"},\"hover_glyph\":null,\"muted_glyph\":null,\"nonselection_glyph\":{\"id\":\"1689\",\"type\":\"Scatter\"},\"selection_glyph\":null,\"view\":{\"id\":\"1691\",\"type\":\"CDSView\"}},\"id\":\"1690\",\"type\":\"GlyphRenderer\"},{\"attributes\":{\"source\":{\"id\":\"1687\",\"type\":\"ColumnDataSource\"}},\"id\":\"1691\",\"type\":\"CDSView\"},{\"attributes\":{\"child\":{\"id\":\"1655\",\"subtype\":\"Figure\",\"type\":\"Plot\"},\"title\":\"\\u03c8*\"},\"id\":\"1692\",\"type\":\"Panel\"},{\"attributes\":{\"align\":\"center\",\"plot\":null,\"text\":\"Water content at saturation\",\"text_font_size\":{\"value\":\"22px\"}},\"id\":\"1459\",\"type\":\"Title\"},{\"attributes\":{\"below\":[{\"id\":\"1704\",\"type\":\"LinearAxis\"}],\"left\":[{\"id\":\"1709\",\"type\":\"LinearAxis\"}],\"renderers\":[{\"id\":\"1704\",\"type\":\"LinearAxis\"},{\"id\":\"1708\",\"type\":\"Grid\"},{\"id\":\"1709\",\"type\":\"LinearAxis\"},{\"id\":\"1713\",\"type\":\"Grid\"},{\"id\":\"1721\",\"type\":\"BoxAnnotation\"},{\"id\":\"1729\",\"type\":\"GlyphRenderer\"}],\"title\":{\"id\":\"1693\",\"type\":\"Title\"},\"toolbar\":{\"id\":\"1718\",\"type\":\"Toolbar\"},\"x_range\":{\"id\":\"1696\",\"type\":\"DataRange1d\"},\"x_scale\":{\"id\":\"1700\",\"type\":\"LinearScale\"},\"y_range\":{\"id\":\"1698\",\"type\":\"DataRange1d\"},\"y_scale\":{\"id\":\"1702\",\"type\":\"LinearScale\"}},\"id\":\"1694\",\"subtype\":\"Figure\",\"type\":\"Plot\"},{\"attributes\":{\"plot\":{\"id\":\"1460\",\"subtype\":\"Figure\",\"type\":\"Plot\"},\"ticker\":{\"id\":\"1471\",\"type\":\"BasicTicker\"}},\"id\":\"1474\",\"type\":\"Grid\"},{\"attributes\":{},\"id\":\"1483\",\"type\":\"ResetTool\"},{\"attributes\":{\"callback\":null,\"data\":{\"x\":[0.0,0.0,0.0,0.0,0.0,0.0,0.0,0.0,0.0,0.0,0.0,0.0,0.0,0.0,0.0,0.0,0.0,0.0,0.0,0.0,0.0,0.0,0.0,0.0,0.0,0.0,0.0,0.0,0.0,0.0,0.0,0.0,0.0,0.0,0.0,0.0,0.0,0.0,0.0,0.0],\"y\":{\"__ndarray__\":\"mpmZmZmZ/7/NzMzMzMz+vwAAAAAAAP6/NDMzMzMz/b9nZmZmZmb8v5qZmZmZmfu/zczMzMzM+r8AAAAAAAD6vzQzMzMzM/m/Z2ZmZmZm+L+amZmZmZn3v83MzMzMzPa/AAAAAAAA9r80MzMzMzP1v2ZmZmZmZvS/mpmZmZmZ87/NzMzMzMzyvwAAAAAAAPK/NDMzMzMz8b9mZmZmZmbwvzQzMzMzM++/mpmZmZmZ7b8AAAAAAADsv2ZmZmZmZuq/zMzMzMzM6L80MzMzMzPnv5qZmZmZmeW/AAAAAAAA5L9mZmZmZmbiv8zMzMzMzOC/aGZmZmZm3r80MzMzMzPbvwAAAAAAANi/zMzMzMzM1L+YmZmZmZnRv9DMzMzMzMy/aGZmZmZmxr8AAAAAAADAvzAzMzMzM7O/mpmZmZmZmb8=\",\"dtype\":\"float64\",\"shape\":[40]}},\"selected\":{\"id\":\"1902\",\"type\":\"Selection\"},\"selection_policy\":{\"id\":\"1903\",\"type\":\"UnionRenderers\"}},\"id\":\"1726\",\"type\":\"ColumnDataSource\"},{\"attributes\":{\"align\":\"center\",\"plot\":null,\"text\":\"Compressibility of soil\",\"text_font_size\":{\"value\":\"22px\"}},\"id\":\"1693\",\"type\":\"Title\"},{\"attributes\":{\"callback\":null},\"id\":\"1464\",\"type\":\"DataRange1d\"},{\"attributes\":{\"callback\":null},\"id\":\"1696\",\"type\":\"DataRange1d\"},{\"attributes\":{\"fill_color\":{\"value\":\"red\"},\"line_color\":{\"value\":\"red\"},\"line_width\":{\"value\":0.3},\"x\":{\"field\":\"x\"},\"y\":{\"field\":\"y\"}},\"id\":\"1766\",\"type\":\"Scatter\"},{\"attributes\":{\"active_drag\":\"auto\",\"active_inspect\":\"auto\",\"active_multi\":null,\"active_scroll\":\"auto\",\"active_tap\":\"auto\",\"tools\":[{\"id\":\"1458\",\"type\":\"HoverTool\"},{\"id\":\"1753\",\"type\":\"PanTool\"},{\"id\":\"1754\",\"type\":\"WheelZoomTool\"},{\"id\":\"1755\",\"type\":\"BoxZoomTool\"},{\"id\":\"1756\",\"type\":\"ResetTool\"}]},\"id\":\"1757\",\"type\":\"Toolbar\"},{\"attributes\":{},\"id\":\"1476\",\"type\":\"BasicTicker\"},{\"attributes\":{\"source\":{\"id\":\"1531\",\"type\":\"ColumnDataSource\"}},\"id\":\"1535\",\"type\":\"CDSView\"},{\"attributes\":{\"callback\":null},\"id\":\"1698\",\"type\":\"DataRange1d\"},{\"attributes\":{},\"id\":\"1588\",\"type\":\"BasicTicker\"},{\"attributes\":{},\"id\":\"1753\",\"type\":\"PanTool\"},{\"attributes\":{\"dimension\":1,\"plot\":{\"id\":\"1460\",\"subtype\":\"Figure\",\"type\":\"Plot\"},\"ticker\":{\"id\":\"1476\",\"type\":\"BasicTicker\"}},\"id\":\"1479\",\"type\":\"Grid\"},{\"attributes\":{\"plot\":{\"id\":\"1577\",\"subtype\":\"Figure\",\"type\":\"Plot\"},\"ticker\":{\"id\":\"1588\",\"type\":\"BasicTicker\"}},\"id\":\"1591\",\"type\":\"Grid\"},{\"attributes\":{},\"id\":\"1639\",\"type\":\"ResetTool\"},{\"attributes\":{},\"id\":\"1700\",\"type\":\"LinearScale\"},{\"attributes\":{},\"id\":\"1754\",\"type\":\"WheelZoomTool\"},{\"attributes\":{\"axis_label\":\"\\u03b7 [m]\",\"axis_label_text_font_size\":{\"value\":\"18px\"},\"formatter\":{\"id\":\"1863\",\"type\":\"BasicTickFormatter\"},\"plot\":{\"id\":\"1577\",\"subtype\":\"Figure\",\"type\":\"Plot\"},\"ticker\":{\"id\":\"1593\",\"type\":\"BasicTicker\"}},\"id\":\"1592\",\"type\":\"LinearAxis\"},{\"attributes\":{\"child\":{\"id\":\"1499\",\"subtype\":\"Figure\",\"type\":\"Plot\"},\"title\":\"Theta_r\"},\"id\":\"1536\",\"type\":\"Panel\"},{\"attributes\":{},\"id\":\"1702\",\"type\":\"LinearScale\"},{\"attributes\":{\"overlay\":{\"id\":\"1760\",\"type\":\"BoxAnnotation\"}},\"id\":\"1755\",\"type\":\"BoxZoomTool\"},{\"attributes\":{\"active_drag\":\"auto\",\"active_inspect\":\"auto\",\"active_multi\":null,\"active_scroll\":\"auto\",\"active_tap\":\"auto\",\"tools\":[{\"id\":\"1458\",\"type\":\"HoverTool\"},{\"id\":\"1480\",\"type\":\"PanTool\"},{\"id\":\"1481\",\"type\":\"WheelZoomTool\"},{\"id\":\"1482\",\"type\":\"BoxZoomTool\"},{\"id\":\"1483\",\"type\":\"ResetTool\"}]},\"id\":\"1484\",\"type\":\"Toolbar\"},{\"attributes\":{},\"id\":\"1593\",\"type\":\"BasicTicker\"},{\"attributes\":{\"below\":[{\"id\":\"1548\",\"type\":\"LinearAxis\"}],\"left\":[{\"id\":\"1553\",\"type\":\"LinearAxis\"}],\"renderers\":[{\"id\":\"1548\",\"type\":\"LinearAxis\"},{\"id\":\"1552\",\"type\":\"Grid\"},{\"id\":\"1553\",\"type\":\"LinearAxis\"},{\"id\":\"1557\",\"type\":\"Grid\"},{\"id\":\"1565\",\"type\":\"BoxAnnotation\"},{\"id\":\"1573\",\"type\":\"GlyphRenderer\"}],\"title\":{\"id\":\"1537\",\"type\":\"Title\"},\"toolbar\":{\"id\":\"1562\",\"type\":\"Toolbar\"},\"x_range\":{\"id\":\"1540\",\"type\":\"DataRange1d\"},\"x_scale\":{\"id\":\"1544\",\"type\":\"LinearScale\"},\"y_range\":{\"id\":\"1542\",\"type\":\"DataRange1d\"},\"y_scale\":{\"id\":\"1546\",\"type\":\"LinearScale\"}},\"id\":\"1538\",\"subtype\":\"Figure\",\"type\":\"Plot\"},{\"attributes\":{\"axis_label\":\"\\u03b1SS [1/Pa]\",\"axis_label_text_font_size\":{\"value\":\"18px\"},\"formatter\":{\"id\":\"1877\",\"type\":\"BasicTickFormatter\"},\"plot\":{\"id\":\"1694\",\"subtype\":\"Figure\",\"type\":\"Plot\"},\"ticker\":{\"id\":\"1705\",\"type\":\"BasicTicker\"}},\"id\":\"1704\",\"type\":\"LinearAxis\"},{\"attributes\":{},\"id\":\"1851\",\"type\":\"BasicTickFormatter\"},{\"attributes\":{},\"id\":\"1480\",\"type\":\"PanTool\"},{\"attributes\":{\"dimension\":1,\"plot\":{\"id\":\"1577\",\"subtype\":\"Figure\",\"type\":\"Plot\"},\"ticker\":{\"id\":\"1593\",\"type\":\"BasicTicker\"}},\"id\":\"1596\",\"type\":\"Grid\"},{\"attributes\":{\"fill_color\":{\"value\":\"red\"},\"line_color\":{\"value\":\"red\"},\"line_width\":{\"value\":0.3},\"x\":{\"field\":\"x\"},\"y\":{\"field\":\"y\"}},\"id\":\"1571\",\"type\":\"Scatter\"},{\"attributes\":{},\"id\":\"1756\",\"type\":\"ResetTool\"},{\"attributes\":{\"align\":\"center\",\"plot\":null,\"text\":\"Saturated hydraulic conductivity\",\"text_font_size\":{\"value\":\"22px\"}},\"id\":\"1537\",\"type\":\"Title\"},{\"attributes\":{},\"id\":\"1481\",\"type\":\"WheelZoomTool\"},{\"attributes\":{},\"id\":\"1853\",\"type\":\"BasicTickFormatter\"},{\"attributes\":{},\"id\":\"1705\",\"type\":\"BasicTicker\"},{\"attributes\":{\"fill_color\":{\"value\":\"red\"},\"line_color\":{\"value\":\"red\"},\"line_width\":{\"value\":0.3},\"x\":{\"field\":\"x\"},\"y\":{\"field\":\"y\"}},\"id\":\"1610\",\"type\":\"Scatter\"},{\"attributes\":{\"plot\":{\"id\":\"1694\",\"subtype\":\"Figure\",\"type\":\"Plot\"},\"ticker\":{\"id\":\"1705\",\"type\":\"BasicTicker\"}},\"id\":\"1708\",\"type\":\"Grid\"},{\"attributes\":{\"bottom_units\":\"screen\",\"fill_alpha\":{\"value\":0.5},\"fill_color\":{\"value\":\"lightgrey\"},\"left_units\":\"screen\",\"level\":\"overlay\",\"line_alpha\":{\"value\":1.0},\"line_color\":{\"value\":\"black\"},\"line_dash\":[4,4],\"line_width\":{\"value\":2},\"plot\":null,\"render_mode\":\"css\",\"right_units\":\"screen\",\"top_units\":\"screen\"},\"id\":\"1760\",\"type\":\"BoxAnnotation\"},{\"attributes\":{\"overlay\":{\"id\":\"1487\",\"type\":\"BoxAnnotation\"}},\"id\":\"1482\",\"type\":\"BoxZoomTool\"},{\"attributes\":{},\"id\":\"1855\",\"type\":\"BasicTickFormatter\"},{\"attributes\":{\"callback\":null},\"id\":\"1540\",\"type\":\"DataRange1d\"},{\"attributes\":{\"active_drag\":\"auto\",\"active_inspect\":\"auto\",\"active_multi\":null,\"active_scroll\":\"auto\",\"active_tap\":\"auto\",\"tools\":[{\"id\":\"1458\",\"type\":\"HoverTool\"},{\"id\":\"1597\",\"type\":\"PanTool\"},{\"id\":\"1598\",\"type\":\"WheelZoomTool\"},{\"id\":\"1599\",\"type\":\"BoxZoomTool\"},{\"id\":\"1600\",\"type\":\"ResetTool\"}]},\"id\":\"1601\",\"type\":\"Toolbar\"},{\"attributes\":{\"callback\":null,\"tooltips\":[[\"(x,y)\",\"($x, $y)\"]]},\"id\":\"1458\",\"type\":\"HoverTool\"},{\"attributes\":{\"axis_label\":\"\\u03b7 [m]\",\"axis_label_text_font_size\":{\"value\":\"18px\"},\"formatter\":{\"id\":\"1875\",\"type\":\"BasicTickFormatter\"},\"plot\":{\"id\":\"1694\",\"subtype\":\"Figure\",\"type\":\"Plot\"},\"ticker\":{\"id\":\"1710\",\"type\":\"BasicTicker\"}},\"id\":\"1709\",\"type\":\"LinearAxis\"},{\"attributes\":{},\"id\":\"1857\",\"type\":\"BasicTickFormatter\"},{\"attributes\":{},\"id\":\"1597\",\"type\":\"PanTool\"},{\"attributes\":{\"fill_alpha\":{\"value\":0.1},\"fill_color\":{\"value\":\"#1f77b4\"},\"line_alpha\":{\"value\":0.1},\"line_color\":{\"value\":\"#1f77b4\"},\"line_width\":{\"value\":0.3},\"x\":{\"field\":\"x\"},\"y\":{\"field\":\"y\"}},\"id\":\"1767\",\"type\":\"Scatter\"},{\"attributes\":{\"callback\":null},\"id\":\"1542\",\"type\":\"DataRange1d\"},{\"attributes\":{\"fill_alpha\":{\"value\":0.1},\"fill_color\":{\"value\":\"#1f77b4\"},\"line_alpha\":{\"value\":0.1},\"line_color\":{\"value\":\"#1f77b4\"},\"line_width\":{\"value\":0.3},\"x\":{\"field\":\"x\"},\"y\":{\"field\":\"y\"}},\"id\":\"1494\",\"type\":\"Scatter\"},{\"attributes\":{\"data_source\":{\"id\":\"1765\",\"type\":\"ColumnDataSource\"},\"glyph\":{\"id\":\"1766\",\"type\":\"Scatter\"},\"hover_glyph\":null,\"muted_glyph\":null,\"nonselection_glyph\":{\"id\":\"1767\",\"type\":\"Scatter\"},\"selection_glyph\":null,\"view\":{\"id\":\"1769\",\"type\":\"CDSView\"}},\"id\":\"1768\",\"type\":\"GlyphRenderer\"},{\"attributes\":{},\"id\":\"1859\",\"type\":\"BasicTickFormatter\"},{\"attributes\":{},\"id\":\"1598\",\"type\":\"WheelZoomTool\"},{\"attributes\":{},\"id\":\"1710\",\"type\":\"BasicTicker\"},{\"attributes\":{\"bottom_units\":\"screen\",\"fill_alpha\":{\"value\":0.5},\"fill_color\":{\"value\":\"lightgrey\"},\"left_units\":\"screen\",\"level\":\"overlay\",\"line_alpha\":{\"value\":1.0},\"line_color\":{\"value\":\"black\"},\"line_dash\":[4,4],\"line_width\":{\"value\":2},\"plot\":null,\"render_mode\":\"css\",\"right_units\":\"screen\",\"top_units\":\"screen\"},\"id\":\"1487\",\"type\":\"BoxAnnotation\"},{\"attributes\":{},\"id\":\"1544\",\"type\":\"LinearScale\"},{\"attributes\":{\"dimension\":1,\"plot\":{\"id\":\"1694\",\"subtype\":\"Figure\",\"type\":\"Plot\"},\"ticker\":{\"id\":\"1710\",\"type\":\"BasicTicker\"}},\"id\":\"1713\",\"type\":\"Grid\"},{\"attributes\":{},\"id\":\"1861\",\"type\":\"BasicTickFormatter\"},{\"attributes\":{\"overlay\":{\"id\":\"1604\",\"type\":\"BoxAnnotation\"}},\"id\":\"1599\",\"type\":\"BoxZoomTool\"},{\"attributes\":{\"source\":{\"id\":\"1765\",\"type\":\"ColumnDataSource\"}},\"id\":\"1769\",\"type\":\"CDSView\"},{\"attributes\":{},\"id\":\"1546\",\"type\":\"LinearScale\"},{\"attributes\":{},\"id\":\"1561\",\"type\":\"ResetTool\"},{\"attributes\":{},\"id\":\"1863\",\"type\":\"BasicTickFormatter\"},{\"attributes\":{},\"id\":\"1600\",\"type\":\"ResetTool\"},{\"attributes\":{\"fill_color\":{\"value\":\"red\"},\"line_color\":{\"value\":\"red\"},\"line_width\":{\"value\":0.3},\"x\":{\"field\":\"x\"},\"y\":{\"field\":\"y\"}},\"id\":\"1727\",\"type\":\"Scatter\"},{\"attributes\":{\"data_source\":{\"id\":\"1492\",\"type\":\"ColumnDataSource\"},\"glyph\":{\"id\":\"1493\",\"type\":\"Scatter\"},\"hover_glyph\":null,\"muted_glyph\":null,\"nonselection_glyph\":{\"id\":\"1494\",\"type\":\"Scatter\"},\"selection_glyph\":null,\"view\":{\"id\":\"1496\",\"type\":\"CDSView\"}},\"id\":\"1495\",\"type\":\"GlyphRenderer\"},{\"attributes\":{\"axis_label\":\"Ks [m/s]\",\"axis_label_text_font_size\":{\"value\":\"18px\"},\"formatter\":{\"id\":\"1861\",\"type\":\"BasicTickFormatter\"},\"plot\":{\"id\":\"1538\",\"subtype\":\"Figure\",\"type\":\"Plot\"},\"ticker\":{\"id\":\"1549\",\"type\":\"BasicTicker\"}},\"id\":\"1548\",\"type\":\"LinearAxis\"},{\"attributes\":{\"active_drag\":\"auto\",\"active_inspect\":\"auto\",\"active_multi\":null,\"active_scroll\":\"auto\",\"active_tap\":\"auto\",\"tools\":[{\"id\":\"1458\",\"type\":\"HoverTool\"},{\"id\":\"1714\",\"type\":\"PanTool\"},{\"id\":\"1715\",\"type\":\"WheelZoomTool\"},{\"id\":\"1716\",\"type\":\"BoxZoomTool\"},{\"id\":\"1717\",\"type\":\"ResetTool\"}]},\"id\":\"1718\",\"type\":\"Toolbar\"},{\"attributes\":{},\"id\":\"1865\",\"type\":\"BasicTickFormatter\"},{\"attributes\":{\"child\":{\"id\":\"1733\",\"subtype\":\"Figure\",\"type\":\"Plot\"},\"title\":\"\\u03b2SpecStor\"},\"id\":\"1770\",\"type\":\"Panel\"},{\"attributes\":{\"source\":{\"id\":\"1492\",\"type\":\"ColumnDataSource\"}},\"id\":\"1496\",\"type\":\"CDSView\"},{\"attributes\":{},\"id\":\"1549\",\"type\":\"BasicTicker\"},{\"attributes\":{\"bottom_units\":\"screen\",\"fill_alpha\":{\"value\":0.5},\"fill_color\":{\"value\":\"lightgrey\"},\"left_units\":\"screen\",\"level\":\"overlay\",\"line_alpha\":{\"value\":1.0},\"line_color\":{\"value\":\"black\"},\"line_dash\":[4,4],\"line_width\":{\"value\":2},\"plot\":null,\"render_mode\":\"css\",\"right_units\":\"screen\",\"top_units\":\"screen\"},\"id\":\"1604\",\"type\":\"BoxAnnotation\"},{\"attributes\":{},\"id\":\"1867\",\"type\":\"BasicTickFormatter\"},{\"attributes\":{},\"id\":\"1714\",\"type\":\"PanTool\"},{\"attributes\":{\"plot\":{\"id\":\"1538\",\"subtype\":\"Figure\",\"type\":\"Plot\"},\"ticker\":{\"id\":\"1549\",\"type\":\"BasicTicker\"}},\"id\":\"1552\",\"type\":\"Grid\"},{\"attributes\":{},\"id\":\"1715\",\"type\":\"WheelZoomTool\"},{\"attributes\":{\"fill_alpha\":{\"value\":0.1},\"fill_color\":{\"value\":\"#1f77b4\"},\"line_alpha\":{\"value\":0.1},\"line_color\":{\"value\":\"#1f77b4\"},\"line_width\":{\"value\":0.3},\"x\":{\"field\":\"x\"},\"y\":{\"field\":\"y\"}},\"id\":\"1611\",\"type\":\"Scatter\"},{\"attributes\":{},\"id\":\"1869\",\"type\":\"BasicTickFormatter\"},{\"attributes\":{\"axis_label\":\"\\u03b7 [m]\",\"axis_label_text_font_size\":{\"value\":\"18px\"},\"formatter\":{\"id\":\"1859\",\"type\":\"BasicTickFormatter\"},\"plot\":{\"id\":\"1538\",\"subtype\":\"Figure\",\"type\":\"Plot\"},\"ticker\":{\"id\":\"1554\",\"type\":\"BasicTicker\"}},\"id\":\"1553\",\"type\":\"LinearAxis\"},{\"attributes\":{\"overlay\":{\"id\":\"1721\",\"type\":\"BoxAnnotation\"}},\"id\":\"1716\",\"type\":\"BoxZoomTool\"},{\"attributes\":{\"child\":{\"id\":\"1460\",\"subtype\":\"Figure\",\"type\":\"Plot\"},\"title\":\"Theta_s\"},\"id\":\"1497\",\"type\":\"Panel\"},{\"attributes\":{\"data_source\":{\"id\":\"1609\",\"type\":\"ColumnDataSource\"},\"glyph\":{\"id\":\"1610\",\"type\":\"Scatter\"},\"hover_glyph\":null,\"muted_glyph\":null,\"nonselection_glyph\":{\"id\":\"1611\",\"type\":\"Scatter\"},\"selection_glyph\":null,\"view\":{\"id\":\"1613\",\"type\":\"CDSView\"}},\"id\":\"1612\",\"type\":\"GlyphRenderer\"},{\"attributes\":{},\"id\":\"1871\",\"type\":\"BasicTickFormatter\"},{\"attributes\":{},\"id\":\"1554\",\"type\":\"BasicTicker\"},{\"attributes\":{},\"id\":\"1717\",\"type\":\"ResetTool\"},{\"attributes\":{\"below\":[{\"id\":\"1509\",\"type\":\"LinearAxis\"}],\"left\":[{\"id\":\"1514\",\"type\":\"LinearAxis\"}],\"renderers\":[{\"id\":\"1509\",\"type\":\"LinearAxis\"},{\"id\":\"1513\",\"type\":\"Grid\"},{\"id\":\"1514\",\"type\":\"LinearAxis\"},{\"id\":\"1518\",\"type\":\"Grid\"},{\"id\":\"1526\",\"type\":\"BoxAnnotation\"},{\"id\":\"1534\",\"type\":\"GlyphRenderer\"}],\"title\":{\"id\":\"1498\",\"type\":\"Title\"},\"toolbar\":{\"id\":\"1523\",\"type\":\"Toolbar\"},\"x_range\":{\"id\":\"1501\",\"type\":\"DataRange1d\"},\"x_scale\":{\"id\":\"1505\",\"type\":\"LinearScale\"},\"y_range\":{\"id\":\"1503\",\"type\":\"DataRange1d\"},\"y_scale\":{\"id\":\"1507\",\"type\":\"LinearScale\"}},\"id\":\"1499\",\"subtype\":\"Figure\",\"type\":\"Plot\"},{\"attributes\":{\"source\":{\"id\":\"1609\",\"type\":\"ColumnDataSource\"}},\"id\":\"1613\",\"type\":\"CDSView\"},{\"attributes\":{},\"id\":\"1873\",\"type\":\"BasicTickFormatter\"},{\"attributes\":{\"dimension\":1,\"plot\":{\"id\":\"1538\",\"subtype\":\"Figure\",\"type\":\"Plot\"},\"ticker\":{\"id\":\"1554\",\"type\":\"BasicTicker\"}},\"id\":\"1557\",\"type\":\"Grid\"},{\"attributes\":{\"fill_color\":{\"value\":\"red\"},\"line_color\":{\"value\":\"red\"},\"line_width\":{\"value\":0.3},\"x\":{\"field\":\"x\"},\"y\":{\"field\":\"y\"}},\"id\":\"1532\",\"type\":\"Scatter\"},{\"attributes\":{\"align\":\"center\",\"plot\":null,\"text\":\"Residual water content\",\"text_font_size\":{\"value\":\"22px\"}},\"id\":\"1498\",\"type\":\"Title\"},{\"attributes\":{},\"id\":\"1875\",\"type\":\"BasicTickFormatter\"},{\"attributes\":{\"bottom_units\":\"screen\",\"fill_alpha\":{\"value\":0.5},\"fill_color\":{\"value\":\"lightgrey\"},\"left_units\":\"screen\",\"level\":\"overlay\",\"line_alpha\":{\"value\":1.0},\"line_color\":{\"value\":\"black\"},\"line_dash\":[4,4],\"line_width\":{\"value\":2},\"plot\":null,\"render_mode\":\"css\",\"right_units\":\"screen\",\"top_units\":\"screen\"},\"id\":\"1721\",\"type\":\"BoxAnnotation\"},{\"attributes\":{\"callback\":null,\"data\":{\"x\":[0.5,0.5,0.5,0.5,0.5,0.5,0.5,0.5,0.5,0.5,0.5,0.5,0.5,0.5,0.5,0.5,0.5,0.5,0.5,0.5,0.5,0.5,0.5,0.5,0.5,0.5,0.5,0.5,0.5,0.5,0.5,0.5,0.5,0.5,0.5,0.5,0.5,0.5,0.5,0.5],\"y\":{\"__ndarray__\":\"mpmZmZmZ/7/NzMzMzMz+vwAAAAAAAP6/NDMzMzMz/b9nZmZmZmb8v5qZmZmZmfu/zczMzMzM+r8AAAAAAAD6vzQzMzMzM/m/Z2ZmZmZm+L+amZmZmZn3v83MzMzMzPa/AAAAAAAA9r80MzMzMzP1v2ZmZmZmZvS/mpmZmZmZ87/NzMzMzMzyvwAAAAAAAPK/NDMzMzMz8b9mZmZmZmbwvzQzMzMzM++/mpmZmZmZ7b8AAAAAAADsv2ZmZmZmZuq/zMzMzMzM6L80MzMzMzPnv5qZmZmZmeW/AAAAAAAA5L9mZmZmZmbiv8zMzMzMzOC/aGZmZmZm3r80MzMzMzPbvwAAAAAAANi/zMzMzMzM1L+YmZmZmZnRv9DMzMzMzMy/aGZmZmZmxr8AAAAAAADAvzAzMzMzM7O/mpmZmZmZmb8=\",\"dtype\":\"float64\",\"shape\":[40]}},\"selected\":{\"id\":\"1884\",\"type\":\"Selection\"},\"selection_policy\":{\"id\":\"1885\",\"type\":\"UnionRenderers\"}},\"id\":\"1492\",\"type\":\"ColumnDataSource\"},{\"attributes\":{\"callback\":null,\"data\":{\"x\":[2.3e-05,2.3e-05,2.3e-05,2.3e-05,2.3e-05,2.3e-05,2.3e-05,2.3e-05,2.3e-05,2.3e-05,2.3e-05,2.3e-05,2.3e-05,2.3e-05,2.3e-05,2.3e-05,2.3e-05,2.3e-05,2.3e-05,2.3e-05,2.3e-05,2.3e-05,2.3e-05,2.3e-05,2.3e-05,2.3e-05,2.3e-05,2.3e-05,2.3e-05,2.3e-05,2.3e-05,2.3e-05,2.3e-05,2.3e-05,2.3e-05,2.3e-05,2.3e-05,2.3e-05,2.3e-05,2.3e-05],\"y\":{\"__ndarray__\":\"mpmZmZmZ/7/NzMzMzMz+vwAAAAAAAP6/NDMzMzMz/b9nZmZmZmb8v5qZmZmZmfu/zczMzMzM+r8AAAAAAAD6vzQzMzMzM/m/Z2ZmZmZm+L+amZmZmZn3v83MzMzMzPa/AAAAAAAA9r80MzMzMzP1v2ZmZmZmZvS/mpmZmZmZ87/NzMzMzMzyvwAAAAAAAPK/NDMzMzMz8b9mZmZmZmbwvzQzMzMzM++/mpmZmZmZ7b8AAAAAAADsv2ZmZmZmZuq/zMzMzMzM6L80MzMzMzPnv5qZmZmZmeW/AAAAAAAA5L9mZmZmZmbiv8zMzMzMzOC/aGZmZmZm3r80MzMzMzPbvwAAAAAAANi/zMzMzMzM1L+YmZmZmZnRv9DMzMzMzMy/aGZmZmZmxr8AAAAAAADAvzAzMzMzM7O/mpmZmZmZmb8=\",\"dtype\":\"float64\",\"shape\":[40]}},\"selected\":{\"id\":\"1890\",\"type\":\"Selection\"},\"selection_policy\":{\"id\":\"1891\",\"type\":\"UnionRenderers\"}},\"id\":\"1570\",\"type\":\"ColumnDataSource\"},{\"attributes\":{},\"id\":\"1877\",\"type\":\"BasicTickFormatter\"},{\"attributes\":{\"active_drag\":\"auto\",\"active_inspect\":\"auto\",\"active_multi\":null,\"active_scroll\":\"auto\",\"active_tap\":\"auto\",\"tools\":[{\"id\":\"1458\",\"type\":\"HoverTool\"},{\"id\":\"1558\",\"type\":\"PanTool\"},{\"id\":\"1559\",\"type\":\"WheelZoomTool\"},{\"id\":\"1560\",\"type\":\"BoxZoomTool\"},{\"id\":\"1561\",\"type\":\"ResetTool\"}]},\"id\":\"1562\",\"type\":\"Toolbar\"},{\"attributes\":{\"callback\":null},\"id\":\"1501\",\"type\":\"DataRange1d\"},{\"attributes\":{\"child\":{\"id\":\"1577\",\"subtype\":\"Figure\",\"type\":\"Plot\"},\"title\":\"n\"},\"id\":\"1614\",\"type\":\"Panel\"},{\"attributes\":{},\"id\":\"1558\",\"type\":\"PanTool\"},{\"attributes\":{\"fill_alpha\":{\"value\":0.1},\"fill_color\":{\"value\":\"#1f77b4\"},\"line_alpha\":{\"value\":0.1},\"line_color\":{\"value\":\"#1f77b4\"},\"line_width\":{\"value\":0.3},\"x\":{\"field\":\"x\"},\"y\":{\"field\":\"y\"}},\"id\":\"1728\",\"type\":\"Scatter\"},{\"attributes\":{},\"id\":\"1879\",\"type\":\"BasicTickFormatter\"},{\"attributes\":{\"below\":[{\"id\":\"1626\",\"type\":\"LinearAxis\"}],\"left\":[{\"id\":\"1631\",\"type\":\"LinearAxis\"}],\"renderers\":[{\"id\":\"1626\",\"type\":\"LinearAxis\"},{\"id\":\"1630\",\"type\":\"Grid\"},{\"id\":\"1631\",\"type\":\"LinearAxis\"},{\"id\":\"1635\",\"type\":\"Grid\"},{\"id\":\"1643\",\"type\":\"BoxAnnotation\"},{\"id\":\"1651\",\"type\":\"GlyphRenderer\"}],\"title\":{\"id\":\"1615\",\"type\":\"Title\"},\"toolbar\":{\"id\":\"1640\",\"type\":\"Toolbar\"},\"x_range\":{\"id\":\"1618\",\"type\":\"DataRange1d\"},\"x_scale\":{\"id\":\"1622\",\"type\":\"LinearScale\"},\"y_range\":{\"id\":\"1620\",\"type\":\"DataRange1d\"},\"y_scale\":{\"id\":\"1624\",\"type\":\"LinearScale\"}},\"id\":\"1616\",\"subtype\":\"Figure\",\"type\":\"Plot\"},{\"attributes\":{\"callback\":null},\"id\":\"1503\",\"type\":\"DataRange1d\"},{\"attributes\":{\"data_source\":{\"id\":\"1726\",\"type\":\"ColumnDataSource\"},\"glyph\":{\"id\":\"1727\",\"type\":\"Scatter\"},\"hover_glyph\":null,\"muted_glyph\":null,\"nonselection_glyph\":{\"id\":\"1728\",\"type\":\"Scatter\"},\"selection_glyph\":null,\"view\":{\"id\":\"1730\",\"type\":\"CDSView\"}},\"id\":\"1729\",\"type\":\"GlyphRenderer\"},{\"attributes\":{},\"id\":\"1559\",\"type\":\"WheelZoomTool\"},{\"attributes\":{\"fill_color\":{\"value\":\"red\"},\"line_color\":{\"value\":\"red\"},\"line_width\":{\"value\":0.3},\"x\":{\"field\":\"x\"},\"y\":{\"field\":\"y\"}},\"id\":\"1649\",\"type\":\"Scatter\"},{\"attributes\":{},\"id\":\"1881\",\"type\":\"BasicTickFormatter\"},{\"attributes\":{},\"id\":\"1505\",\"type\":\"LinearScale\"},{\"attributes\":{\"align\":\"center\",\"plot\":null,\"text\":\"Van Genuchten \\u03b1\",\"text_font_size\":{\"value\":\"22px\"}},\"id\":\"1615\",\"type\":\"Title\"},{\"attributes\":{\"source\":{\"id\":\"1726\",\"type\":\"ColumnDataSource\"}},\"id\":\"1730\",\"type\":\"CDSView\"},{\"attributes\":{\"overlay\":{\"id\":\"1565\",\"type\":\"BoxAnnotation\"}},\"id\":\"1560\",\"type\":\"BoxZoomTool\"},{\"attributes\":{},\"id\":\"1884\",\"type\":\"Selection\"},{\"attributes\":{},\"id\":\"1507\",\"type\":\"LinearScale\"},{\"attributes\":{\"callback\":null},\"id\":\"1618\",\"type\":\"DataRange1d\"},{\"attributes\":{},\"id\":\"1885\",\"type\":\"UnionRenderers\"},{\"attributes\":{\"axis_label\":\"residual water content [-]\",\"axis_label_text_font_size\":{\"value\":\"18px\"},\"formatter\":{\"id\":\"1857\",\"type\":\"BasicTickFormatter\"},\"plot\":{\"id\":\"1499\",\"subtype\":\"Figure\",\"type\":\"Plot\"},\"ticker\":{\"id\":\"1510\",\"type\":\"BasicTicker\"}},\"id\":\"1509\",\"type\":\"LinearAxis\"},{\"attributes\":{\"child\":{\"id\":\"1694\",\"subtype\":\"Figure\",\"type\":\"Plot\"},\"title\":\"\\u03b1SpecStor\"},\"id\":\"1731\",\"type\":\"Panel\"},{\"attributes\":{\"callback\":null},\"id\":\"1620\",\"type\":\"DataRange1d\"},{\"attributes\":{},\"id\":\"1887\",\"type\":\"Selection\"},{\"attributes\":{\"bottom_units\":\"screen\",\"fill_alpha\":{\"value\":0.5},\"fill_color\":{\"value\":\"lightgrey\"},\"left_units\":\"screen\",\"level\":\"overlay\",\"line_alpha\":{\"value\":1.0},\"line_color\":{\"value\":\"black\"},\"line_dash\":[4,4],\"line_width\":{\"value\":2},\"plot\":null,\"render_mode\":\"css\",\"right_units\":\"screen\",\"top_units\":\"screen\"},\"id\":\"1565\",\"type\":\"BoxAnnotation\"},{\"attributes\":{},\"id\":\"1510\",\"type\":\"BasicTicker\"},{\"attributes\":{\"below\":[{\"id\":\"1743\",\"type\":\"LinearAxis\"}],\"left\":[{\"id\":\"1748\",\"type\":\"LinearAxis\"}],\"renderers\":[{\"id\":\"1743\",\"type\":\"LinearAxis\"},{\"id\":\"1747\",\"type\":\"Grid\"},{\"id\":\"1748\",\"type\":\"LinearAxis\"},{\"id\":\"1752\",\"type\":\"Grid\"},{\"id\":\"1760\",\"type\":\"BoxAnnotation\"},{\"id\":\"1768\",\"type\":\"GlyphRenderer\"}],\"title\":{\"id\":\"1732\",\"type\":\"Title\"},\"toolbar\":{\"id\":\"1757\",\"type\":\"Toolbar\"},\"x_range\":{\"id\":\"1735\",\"type\":\"DataRange1d\"},\"x_scale\":{\"id\":\"1739\",\"type\":\"LinearScale\"},\"y_range\":{\"id\":\"1737\",\"type\":\"DataRange1d\"},\"y_scale\":{\"id\":\"1741\",\"type\":\"LinearScale\"}},\"id\":\"1733\",\"subtype\":\"Figure\",\"type\":\"Plot\"},{\"attributes\":{},\"id\":\"1622\",\"type\":\"LinearScale\"},{\"attributes\":{},\"id\":\"1888\",\"type\":\"UnionRenderers\"},{\"attributes\":{\"plot\":{\"id\":\"1499\",\"subtype\":\"Figure\",\"type\":\"Plot\"},\"ticker\":{\"id\":\"1510\",\"type\":\"BasicTicker\"}},\"id\":\"1513\",\"type\":\"Grid\"},{\"attributes\":{\"fill_alpha\":{\"value\":0.1},\"fill_color\":{\"value\":\"#1f77b4\"},\"line_alpha\":{\"value\":0.1},\"line_color\":{\"value\":\"#1f77b4\"},\"line_width\":{\"value\":0.3},\"x\":{\"field\":\"x\"},\"y\":{\"field\":\"y\"}},\"id\":\"1572\",\"type\":\"Scatter\"},{\"attributes\":{},\"id\":\"1624\",\"type\":\"LinearScale\"},{\"attributes\":{\"align\":\"center\",\"plot\":null,\"text\":\"Compressibility of water\",\"text_font_size\":{\"value\":\"22px\"}},\"id\":\"1732\",\"type\":\"Title\"},{\"attributes\":{},\"id\":\"1890\",\"type\":\"Selection\"},{\"attributes\":{\"axis_label\":\"\\u03b7 [m]\",\"axis_label_text_font_size\":{\"value\":\"18px\"},\"formatter\":{\"id\":\"1855\",\"type\":\"BasicTickFormatter\"},\"plot\":{\"id\":\"1499\",\"subtype\":\"Figure\",\"type\":\"Plot\"},\"ticker\":{\"id\":\"1515\",\"type\":\"BasicTicker\"}},\"id\":\"1514\",\"type\":\"LinearAxis\"},{\"attributes\":{\"data_source\":{\"id\":\"1570\",\"type\":\"ColumnDataSource\"},\"glyph\":{\"id\":\"1571\",\"type\":\"Scatter\"},\"hover_glyph\":null,\"muted_glyph\":null,\"nonselection_glyph\":{\"id\":\"1572\",\"type\":\"Scatter\"},\"selection_glyph\":null,\"view\":{\"id\":\"1574\",\"type\":\"CDSView\"}},\"id\":\"1573\",\"type\":\"GlyphRenderer\"},{\"attributes\":{\"axis_label\":\"\\u03b1 [m] \",\"axis_label_text_font_size\":{\"value\":\"18px\"},\"formatter\":{\"id\":\"1869\",\"type\":\"BasicTickFormatter\"},\"plot\":{\"id\":\"1616\",\"subtype\":\"Figure\",\"type\":\"Plot\"},\"ticker\":{\"id\":\"1627\",\"type\":\"BasicTicker\"}},\"id\":\"1626\",\"type\":\"LinearAxis\"},{\"attributes\":{},\"id\":\"1891\",\"type\":\"UnionRenderers\"},{\"attributes\":{\"callback\":null},\"id\":\"1735\",\"type\":\"DataRange1d\"},{\"attributes\":{},\"id\":\"1515\",\"type\":\"BasicTicker\"},{\"attributes\":{\"source\":{\"id\":\"1570\",\"type\":\"ColumnDataSource\"}},\"id\":\"1574\",\"type\":\"CDSView\"},{\"attributes\":{},\"id\":\"1627\",\"type\":\"BasicTicker\"},{\"attributes\":{},\"id\":\"1893\",\"type\":\"Selection\"},{\"attributes\":{\"dimension\":1,\"plot\":{\"id\":\"1499\",\"subtype\":\"Figure\",\"type\":\"Plot\"},\"ticker\":{\"id\":\"1515\",\"type\":\"BasicTicker\"}},\"id\":\"1518\",\"type\":\"Grid\"},{\"attributes\":{\"callback\":null},\"id\":\"1737\",\"type\":\"DataRange1d\"},{\"attributes\":{\"plot\":{\"id\":\"1616\",\"subtype\":\"Figure\",\"type\":\"Plot\"},\"ticker\":{\"id\":\"1627\",\"type\":\"BasicTicker\"}},\"id\":\"1630\",\"type\":\"Grid\"},{\"attributes\":{},\"id\":\"1894\",\"type\":\"UnionRenderers\"},{\"attributes\":{},\"id\":\"1739\",\"type\":\"LinearScale\"},{\"attributes\":{},\"id\":\"1900\",\"type\":\"UnionRenderers\"},{\"attributes\":{\"child\":{\"id\":\"1538\",\"subtype\":\"Figure\",\"type\":\"Plot\"},\"title\":\"Ks\"},\"id\":\"1575\",\"type\":\"Panel\"},{\"attributes\":{\"axis_label\":\"\\u03b7 [m]\",\"axis_label_text_font_size\":{\"value\":\"18px\"},\"formatter\":{\"id\":\"1867\",\"type\":\"BasicTickFormatter\"},\"plot\":{\"id\":\"1616\",\"subtype\":\"Figure\",\"type\":\"Plot\"},\"ticker\":{\"id\":\"1632\",\"type\":\"BasicTicker\"}},\"id\":\"1631\",\"type\":\"LinearAxis\"},{\"attributes\":{\"callback\":null,\"data\":{\"x\":[0.07,0.07,0.07,0.07,0.07,0.07,0.07,0.07,0.07,0.07,0.07,0.07,0.07,0.07,0.07,0.07,0.07,0.07,0.07,0.07,0.07,0.07,0.07,0.07,0.07,0.07,0.07,0.07,0.07,0.07,0.07,0.07,0.07,0.07,0.07,0.07,0.07,0.07,0.07,0.07],\"y\":{\"__ndarray__\":\"mpmZmZmZ/7/NzMzMzMz+vwAAAAAAAP6/NDMzMzMz/b9nZmZmZmb8v5qZmZmZmfu/zczMzMzM+r8AAAAAAAD6vzQzMzMzM/m/Z2ZmZmZm+L+amZmZmZn3v83MzMzMzPa/AAAAAAAA9r80MzMzMzP1v2ZmZmZmZvS/mpmZmZmZ87/NzMzMzMzyvwAAAAAAAPK/NDMzMzMz8b9mZmZmZmbwvzQzMzMzM++/mpmZmZmZ7b8AAAAAAADsv2ZmZmZmZuq/zMzMzMzM6L80MzMzMzPnv5qZmZmZmeW/AAAAAAAA5L9mZmZmZmbiv8zMzMzMzOC/aGZmZmZm3r80MzMzMzPbvwAAAAAAANi/zMzMzMzM1L+YmZmZmZnRv9DMzMzMzMy/aGZmZmZmxr8AAAAAAADAvzAzMzMzM7O/mpmZmZmZmb8=\",\"dtype\":\"float64\",\"shape\":[40]}},\"selected\":{\"id\":\"1887\",\"type\":\"Selection\"},\"selection_policy\":{\"id\":\"1888\",\"type\":\"UnionRenderers\"}},\"id\":\"1531\",\"type\":\"ColumnDataSource\"},{\"attributes\":{},\"id\":\"1896\",\"type\":\"Selection\"},{\"attributes\":{\"active_drag\":\"auto\",\"active_inspect\":\"auto\",\"active_multi\":null,\"active_scroll\":\"auto\",\"active_tap\":\"auto\",\"tools\":[{\"id\":\"1458\",\"type\":\"HoverTool\"},{\"id\":\"1519\",\"type\":\"PanTool\"},{\"id\":\"1520\",\"type\":\"WheelZoomTool\"},{\"id\":\"1521\",\"type\":\"BoxZoomTool\"},{\"id\":\"1522\",\"type\":\"ResetTool\"}]},\"id\":\"1523\",\"type\":\"Toolbar\"},{\"attributes\":{},\"id\":\"1741\",\"type\":\"LinearScale\"},{\"attributes\":{\"below\":[{\"id\":\"1587\",\"type\":\"LinearAxis\"}],\"left\":[{\"id\":\"1592\",\"type\":\"LinearAxis\"}],\"renderers\":[{\"id\":\"1587\",\"type\":\"LinearAxis\"},{\"id\":\"1591\",\"type\":\"Grid\"},{\"id\":\"1592\",\"type\":\"LinearAxis\"},{\"id\":\"1596\",\"type\":\"Grid\"},{\"id\":\"1604\",\"type\":\"BoxAnnotation\"},{\"id\":\"1612\",\"type\":\"GlyphRenderer\"}],\"title\":{\"id\":\"1576\",\"type\":\"Title\"},\"toolbar\":{\"id\":\"1601\",\"type\":\"Toolbar\"},\"x_range\":{\"id\":\"1579\",\"type\":\"DataRange1d\"},\"x_scale\":{\"id\":\"1583\",\"type\":\"LinearScale\"},\"y_range\":{\"id\":\"1581\",\"type\":\"DataRange1d\"},\"y_scale\":{\"id\":\"1585\",\"type\":\"LinearScale\"}},\"id\":\"1577\",\"subtype\":\"Figure\",\"type\":\"Plot\"},{\"attributes\":{},\"id\":\"1519\",\"type\":\"PanTool\"},{\"attributes\":{},\"id\":\"1632\",\"type\":\"BasicTicker\"},{\"attributes\":{},\"id\":\"1897\",\"type\":\"UnionRenderers\"},{\"attributes\":{\"axis_label\":\"\\u03b2SS [1/Pa]\",\"axis_label_text_font_size\":{\"value\":\"18px\"},\"formatter\":{\"id\":\"1881\",\"type\":\"BasicTickFormatter\"},\"plot\":{\"id\":\"1733\",\"subtype\":\"Figure\",\"type\":\"Plot\"},\"ticker\":{\"id\":\"1744\",\"type\":\"BasicTicker\"}},\"id\":\"1743\",\"type\":\"LinearAxis\"},{\"attributes\":{\"callback\":null,\"data\":{\"x\":[1.16,1.16,1.16,1.16,1.16,1.16,1.16,1.16,1.16,1.16,1.16,1.16,1.16,1.16,1.16,1.16,1.16,1.16,1.16,1.16,1.16,1.16,1.16,1.16,1.16,1.16,1.16,1.16,1.16,1.16,1.16,1.16,1.16,1.16,1.16,1.16,1.16,1.16,1.16,1.16],\"y\":{\"__ndarray__\":\"mpmZmZmZ/7/NzMzMzMz+vwAAAAAAAP6/NDMzMzMz/b9nZmZmZmb8v5qZmZmZmfu/zczMzMzM+r8AAAAAAAD6vzQzMzMzM/m/Z2ZmZmZm+L+amZmZmZn3v83MzMzMzPa/AAAAAAAA9r80MzMzMzP1v2ZmZmZmZvS/mpmZmZmZ87/NzMzMzMzyvwAAAAAAAPK/NDMzMzMz8b9mZmZmZmbwvzQzMzMzM++/mpmZmZmZ7b8AAAAAAADsv2ZmZmZmZuq/zMzMzMzM6L80MzMzMzPnv5qZmZmZmeW/AAAAAAAA5L9mZmZmZmbiv8zMzMzMzOC/aGZmZmZm3r80MzMzMzPbvwAAAAAAANi/zMzMzMzM1L+YmZmZmZnRv9DMzMzMzMy/aGZmZmZmxr8AAAAAAADAvzAzMzMzM7O/mpmZmZmZmb8=\",\"dtype\":\"float64\",\"shape\":[40]}},\"selected\":{\"id\":\"1893\",\"type\":\"Selection\"},\"selection_policy\":{\"id\":\"1894\",\"type\":\"UnionRenderers\"}},\"id\":\"1609\",\"type\":\"ColumnDataSource\"},{\"attributes\":{\"align\":\"center\",\"plot\":null,\"text\":\"Van Genuchten n\",\"text_font_size\":{\"value\":\"22px\"}},\"id\":\"1576\",\"type\":\"Title\"},{\"attributes\":{\"dimension\":1,\"plot\":{\"id\":\"1616\",\"subtype\":\"Figure\",\"type\":\"Plot\"},\"ticker\":{\"id\":\"1632\",\"type\":\"BasicTicker\"}},\"id\":\"1635\",\"type\":\"Grid\"},{\"attributes\":{},\"id\":\"1520\",\"type\":\"WheelZoomTool\"},{\"attributes\":{},\"id\":\"1902\",\"type\":\"Selection\"},{\"attributes\":{},\"id\":\"1744\",\"type\":\"BasicTicker\"},{\"attributes\":{\"overlay\":{\"id\":\"1526\",\"type\":\"BoxAnnotation\"}},\"id\":\"1521\",\"type\":\"BoxZoomTool\"},{\"attributes\":{},\"id\":\"1903\",\"type\":\"UnionRenderers\"},{\"attributes\":{\"callback\":null},\"id\":\"1579\",\"type\":\"DataRange1d\"},{\"attributes\":{\"plot\":{\"id\":\"1733\",\"subtype\":\"Figure\",\"type\":\"Plot\"},\"ticker\":{\"id\":\"1744\",\"type\":\"BasicTicker\"}},\"id\":\"1747\",\"type\":\"Grid\"},{\"attributes\":{\"callback\":null,\"data\":{\"x\":[5.88,5.88,5.88,5.88,5.88,5.88,5.88,5.88,5.88,5.88,5.88,5.88,5.88,5.88,5.88,5.88,5.88,5.88,5.88,5.88,5.88,5.88,5.88,5.88,5.88,5.88,5.88,5.88,5.88,5.88,5.88,5.88,5.88,5.88,5.88,5.88,5.88,5.88,5.88,5.88],\"y\":{\"__ndarray__\":\"mpmZmZmZ/7/NzMzMzMz+vwAAAAAAAP6/NDMzMzMz/b9nZmZmZmb8v5qZmZmZmfu/zczMzMzM+r8AAAAAAAD6vzQzMzMzM/m/Z2ZmZmZm+L+amZmZmZn3v83MzMzMzPa/AAAAAAAA9r80MzMzMzP1v2ZmZmZmZvS/mpmZmZmZ87/NzMzMzMzyvwAAAAAAAPK/NDMzMzMz8b9mZmZmZmbwvzQzMzMzM++/mpmZmZmZ7b8AAAAAAADsv2ZmZmZmZuq/zMzMzMzM6L80MzMzMzPnv5qZmZmZmeW/AAAAAAAA5L9mZmZmZmbiv8zMzMzMzOC/aGZmZmZm3r80MzMzMzPbvwAAAAAAANi/zMzMzMzM1L+YmZmZmZnRv9DMzMzMzMy/aGZmZmZmxr8AAAAAAADAvzAzMzMzM7O/mpmZmZmZmb8=\",\"dtype\":\"float64\",\"shape\":[40]}},\"selected\":{\"id\":\"1896\",\"type\":\"Selection\"},\"selection_policy\":{\"id\":\"1897\",\"type\":\"UnionRenderers\"}},\"id\":\"1648\",\"type\":\"ColumnDataSource\"},{\"attributes\":{},\"id\":\"1905\",\"type\":\"Selection\"},{\"attributes\":{\"callback\":null},\"id\":\"1581\",\"type\":\"DataRange1d\"},{\"attributes\":{\"axis_label\":\"\\u03b7 [m]\",\"axis_label_text_font_size\":{\"value\":\"18px\"},\"formatter\":{\"id\":\"1879\",\"type\":\"BasicTickFormatter\"},\"plot\":{\"id\":\"1733\",\"subtype\":\"Figure\",\"type\":\"Plot\"},\"ticker\":{\"id\":\"1749\",\"type\":\"BasicTicker\"}},\"id\":\"1748\",\"type\":\"LinearAxis\"},{\"attributes\":{},\"id\":\"1636\",\"type\":\"PanTool\"},{\"attributes\":{},\"id\":\"1906\",\"type\":\"UnionRenderers\"},{\"attributes\":{\"bottom_units\":\"screen\",\"fill_alpha\":{\"value\":0.5},\"fill_color\":{\"value\":\"lightgrey\"},\"left_units\":\"screen\",\"level\":\"overlay\",\"line_alpha\":{\"value\":1.0},\"line_color\":{\"value\":\"black\"},\"line_dash\":[4,4],\"line_width\":{\"value\":2},\"plot\":null,\"render_mode\":\"css\",\"right_units\":\"screen\",\"top_units\":\"screen\"},\"id\":\"1526\",\"type\":\"BoxAnnotation\"},{\"attributes\":{},\"id\":\"1583\",\"type\":\"LinearScale\"},{\"attributes\":{},\"id\":\"1637\",\"type\":\"WheelZoomTool\"},{\"attributes\":{},\"id\":\"1749\",\"type\":\"BasicTicker\"},{\"attributes\":{},\"id\":\"1585\",\"type\":\"LinearScale\"},{\"attributes\":{\"dimension\":1,\"plot\":{\"id\":\"1733\",\"subtype\":\"Figure\",\"type\":\"Plot\"},\"ticker\":{\"id\":\"1749\",\"type\":\"BasicTicker\"}},\"id\":\"1752\",\"type\":\"Grid\"},{\"attributes\":{\"fill_alpha\":{\"value\":0.1},\"fill_color\":{\"value\":\"#1f77b4\"},\"line_alpha\":{\"value\":0.1},\"line_color\":{\"value\":\"#1f77b4\"},\"line_width\":{\"value\":0.3},\"x\":{\"field\":\"x\"},\"y\":{\"field\":\"y\"}},\"id\":\"1533\",\"type\":\"Scatter\"},{\"attributes\":{\"overlay\":{\"id\":\"1643\",\"type\":\"BoxAnnotation\"}},\"id\":\"1638\",\"type\":\"BoxZoomTool\"},{\"attributes\":{\"axis_label\":\"n [-] \",\"axis_label_text_font_size\":{\"value\":\"18px\"},\"formatter\":{\"id\":\"1865\",\"type\":\"BasicTickFormatter\"},\"plot\":{\"id\":\"1577\",\"subtype\":\"Figure\",\"type\":\"Plot\"},\"ticker\":{\"id\":\"1588\",\"type\":\"BasicTicker\"}},\"id\":\"1587\",\"type\":\"LinearAxis\"}],\"root_ids\":[\"1810\"]},\"title\":\"Bokeh Application\",\"version\":\"1.0.4\"}};\n",
       "  var render_items = [{\"docid\":\"45289569-1f34-4659-be22-8fdee2fa3aee\",\"roots\":{\"1810\":\"81bccaf1-bc96-4231-831a-2346a8a5086f\"}}];\n",
       "  root.Bokeh.embed.embed_items_notebook(docs_json, render_items);\n",
       "\n",
       "  }\n",
       "  if (root.Bokeh !== undefined) {\n",
       "    embed_document(root);\n",
       "  } else {\n",
       "    var attempts = 0;\n",
       "    var timer = setInterval(function(root) {\n",
       "      if (root.Bokeh !== undefined) {\n",
       "        embed_document(root);\n",
       "        clearInterval(timer);\n",
       "      }\n",
       "      attempts++;\n",
       "      if (attempts > 100) {\n",
       "        console.log(\"Bokeh: ERROR: Unable to run BokehJS code because BokehJS library is missing\");\n",
       "        clearInterval(timer);\n",
       "      }\n",
       "    }, 10, root)\n",
       "  }\n",
       "})(window);"
      ],
      "application/vnd.bokehjs_exec.v0+json": ""
     },
     "metadata": {
      "application/vnd.bokehjs_exec.v0+json": {
       "id": "1810"
      }
     },
     "output_type": "display_data"
    }
   ],
   "source": [
    "showParameters(thetaS,thetaR,Ks,alphaSpecificStorage,betaSpecificStorage,n,alpha,psiStar,et,eta,labelSize,titleSize,axisTicksSize,lineWidth)\n"
   ]
  },
  {
   "cell_type": "markdown",
   "metadata": {},
   "source": [
    "## Save all grid data in a NetCDF file\n"
   ]
  },
  {
   "cell_type": "code",
   "execution_count": 21,
   "metadata": {},
   "outputs": [
    {
     "name": "stdout",
     "output_type": "stream",
     "text": [
      "*** SUCCESS writing!  C:/Users/Niccolo/OMS/OMS_Project_Richards1D/data/Grid_NetCDF/Clay_noPonding_VG.nc\n"
     ]
    }
   ],
   "source": [
    "writeGridNetCDF(eta,etaDual,z,zDual,spaceDelta,deltaZ,psiIC,thetaS,thetaR,Ks,alphaSpecificStorage,betaSpecificStorage,n,alpha,par3SWRC,par4SWRC,par5SWRC,psiStar,par7SWRC,par8SWRC,et,outputFileName,outputTitle,outputInstitution,outputSummary,folderPath,outputDate,inputFileName)"
   ]
  },
  {
   "cell_type": "code",
   "execution_count": null,
   "metadata": {},
   "outputs": [],
   "source": []
  },
  {
   "cell_type": "code",
   "execution_count": null,
   "metadata": {},
   "outputs": [],
   "source": []
  }
 ],
 "metadata": {
  "kernelspec": {
   "display_name": "Python 3",
   "language": "python",
   "name": "python3"
  },
  "language_info": {
   "codemirror_mode": {
    "name": "ipython",
    "version": 3
   },
   "file_extension": ".py",
   "mimetype": "text/x-python",
   "name": "python",
   "nbconvert_exporter": "python",
   "pygments_lexer": "ipython3",
   "version": "3.7.3"
  }
 },
 "nbformat": 4,
 "nbformat_minor": 2
}
