{
 "cells": [
  {
   "cell_type": "markdown",
   "metadata": {},
   "source": [
    "# Create the grid for Richards 1D\n",
    "\n",
    "This code allows to create a mesh for 1D PDE problem:\n",
    "    - domain discretization\n",
    "    - parameters setting\n",
    "All output data are stored in a NetCDF file"
   ]
  },
  {
   "cell_type": "code",
   "execution_count": 1,
   "metadata": {},
   "outputs": [],
   "source": [
    "# -*- coding: utf-8 -*-\n",
    "\"\"\"\n",
    "  GNU GPL v3 License\n",
    " \n",
    "  Copyright 2018 Niccolo` Tubini\n",
    " \n",
    "  This program is free software: you can redistribute it and/or modify\n",
    "  it under the terms of the GNU General Public License as published by\n",
    "  the Free Software Foundation, either version 3 of the License, or\n",
    "  (at your option) any later version.\n",
    " \n",
    "  This program is distributed in the hope that it will be useful,\n",
    "  but WITHOUT ANY WARRANTY; without even the implied warranty of\n",
    "  MERCHANTABILITY or FITNESS FOR A PARTICULAR PURPOSE.  See the\n",
    "  GNU General Public License for more details.\n",
    " \n",
    "  You should have received a copy of the GNU General Public License\n",
    "  along with this program.  If not, see <http://www.gnu.org/licenses/>.\n",
    "\"\"\"\n",
    "\n",
    "\n",
    "import os\n",
    "import pandas as pd\n",
    "import numpy as np\n",
    "import matplotlib.pyplot as plt\n"
   ]
  },
  {
   "cell_type": "code",
   "execution_count": 2,
   "metadata": {},
   "outputs": [
    {
     "data": {
      "text/plain": [
       "['Casulli2010_test2.csv',\n",
       " 'Casulli2010_test2VG.csv',\n",
       " 'ClaySand_noPonding.csv',\n",
       " 'ClaySand_noPonding.PNG',\n",
       " 'Clay_noPonding.csv',\n",
       " 'Clay_noPonding.PNG',\n",
       " 'Clay_noPondingBC.csv',\n",
       " 'SandClay_01Ponding_Measurement.csv',\n",
       " 'SandClay_01Ponding_Measurement.PNG',\n",
       " 'SandClay_noPonding.csv',\n",
       " 'Sand_01Ponding.csv',\n",
       " 'Sand_01Ponding.PNG']"
      ]
     },
     "execution_count": 2,
     "metadata": {},
     "output_type": "execute_result"
    }
   ],
   "source": [
    "os.chdir(\"C:\\\\Users\\\\Niccolo\\\\OMS\\\\OMS_Project_Richards1D\\\\data\\\\RichardMeshGen_input\")\n",
    "os.listdir()"
   ]
  },
  {
   "cell_type": "markdown",
   "metadata": {},
   "source": [
    "### Read the input file in format .csv"
   ]
  },
  {
   "cell_type": "code",
   "execution_count": 3,
   "metadata": {},
   "outputs": [],
   "source": [
    "\n",
    "data = pd.read_csv(\"Casulli2010_test2.csv\")\n",
    "#print(data.head())\n",
    "#print(data.index)\n",
    "#print(data.columns)"
   ]
  },
  {
   "cell_type": "markdown",
   "metadata": {},
   "source": [
    "### This section computes geometrical quantities of the discretized domain\n",
    "- eta is the vertical coordinate of the control volumes centroids. eta is positive upward and its origin is set at the soil surface. This coordinate will be used to compute intial condition and plot outputs such as water head and water content\n",
    "- etaDual is the vertical coordiante of control volumes interfaces. etaDual is positive upward and its origin is set at the soil surface. This coordinate will be used to plot output velocities.\n",
    "- z is the vertical coordinate of the control volumes centroids. z is positive upward and its origin is set at the bottom of the soil column.\n",
    "- zDual is the vertical coordiante of control volumes interfaces. zDual is positive upward and its origin is set at the bottom of the soil column."
   ]
  },
  {
   "cell_type": "code",
   "execution_count": 4,
   "metadata": {},
   "outputs": [],
   "source": [
    "\n",
    "## list containing centroids coordinates\n",
    "eta = [] \n",
    "## list containing control volumes interface coordinates\n",
    "etaDual = []\n",
    "\n",
    "    \n",
    "for i in range(np.size(data.index)-1,0,-1):\n",
    "    if data['Type'][i]=='L' and data['Type'][i-1]=='L':\n",
    "        #print(\"Layer layer\")\n",
    "        deta = ( data['eta'][i]-data['eta'][i-1])/data['N'][i-1]\n",
    "        eta=np.append(eta, np.linspace(data['eta'][i]-deta/2,data['eta'][i-1]+deta/2,num=data['N'][i-1],endpoint=True) )\n",
    "        etaDual=np.append(etaDual, np.linspace(data['eta'][i],data['eta'][i-1],num=data['N'][i-1]+1,endpoint=True) )\n",
    "    elif data['Type'][i]=='L' and data['Type'][i-1]=='M':\n",
    "        #print(\"Layer Meas\")\n",
    "        deta = ( data['eta'][i]-data['eta'][i-1])/data['N'][i-1]\n",
    "        eta=np.append(eta, np.linspace(data['eta'][i]-deta/2,data['eta'][i-1],num=data['N'][i-1],endpoint=True) )\n",
    "        etaDual=np.append(etaDual, np.linspace(data['eta'][i],data['eta'][i-1]+deta/2,num=data['N'][i-1],endpoint=True) )\n",
    "    elif data['Type'][i]=='M' and data['Type'][i-1]=='L':\n",
    "        #print(\"Meas layer\")\n",
    "        deta = ( data['eta'][i]-data['eta'][i-1])/data['N'][i-1]\n",
    "        eta=np.append(eta, np.linspace(data['eta'][i],data['eta'][i-1]+deta/2,num=data['N'][i-1],endpoint=True) )\n",
    "        etaDual=np.append(etaDual, np.linspace(data['eta'][i]-deta/2,data['eta'][i-1],num=data['N'][i-1],endpoint=True) )\n",
    "    else:\n",
    "        print(\"ERROR!!\")  \n",
    "        \n",
    "## to eliminate doubles\n",
    "eta=[ii for n,ii in enumerate(eta) if ii not in eta[:n]]\n",
    "etaDual=[ii for n,ii in enumerate(etaDual) if ii not in etaDual[:n]]\n",
    "\n",
    "\n",
    "## control volume length\n",
    "length = []\n",
    "\n",
    "for i in range(0,np.size(etaDual)-1):\n",
    "    length = np.append(length, np.abs(etaDual[i]-etaDual[i+1]) )\n",
    "\n",
    "    \n",
    "## space length: is used to cumpute gradients\n",
    "spaceDelta = []\n",
    "\n",
    "for i in range(0,np.size(etaDual)):\n",
    "    if i==0:\n",
    "        spaceDelta = np.append(spaceDelta, np.abs(etaDual[i]-eta[i]) )\n",
    "    elif i==np.size(etaDual)-1:\n",
    "        spaceDelta = np.append(spaceDelta, np.abs(etaDual[i]-eta[i-1]) )\n",
    "    else:\n",
    "         spaceDelta = np.append(spaceDelta, np.abs(eta[i-1]-eta[i]) )\n",
    "   \n",
    "\n",
    "eta= np.append(eta,data['eta'][0])\n"
   ]
  },
  {
   "cell_type": "code",
   "execution_count": 5,
   "metadata": {},
   "outputs": [],
   "source": [
    "## DA AGGIUNGERE ALLA FINE PERCHE SONO QUELLE CHE SERVONO IN ECLIPSE\n",
    "z = []\n",
    "zDual = []\n",
    "for i in range(0, np.size(eta)):\n",
    "    z = np.append(z,eta[i]-data['eta'][np.size(data['eta'])-1])\n",
    "    \n",
    "for i in range(0, np.size(etaDual)):\n",
    "    zDual = np.append(zDual,etaDual[i]-data['eta'][np.size(data['eta'])-1])"
   ]
  },
  {
   "cell_type": "markdown",
   "metadata": {},
   "source": [
    "## Grid plot\n",
    "The sections below allows to plot the discretized domain. In the first plot control volumes centroids are shown, whilst in the second one their interfaces. Moreover, in both plots soil layer and measurament points are drawn.\n",
    "\n",
    "These plots are drawn with bokeh library https://bokeh.pydata.org/en/latest/, and they are interactive."
   ]
  },
  {
   "cell_type": "code",
   "execution_count": 6,
   "metadata": {},
   "outputs": [
    {
     "data": {
      "text/html": [
       "\n",
       "    <div class=\"bk-root\">\n",
       "        <a href=\"https://bokeh.pydata.org\" target=\"_blank\" class=\"bk-logo bk-logo-small bk-logo-notebook\"></a>\n",
       "        <span id=\"cfff9a77-167c-4601-9ec2-e443e5567cf7\">Loading BokehJS ...</span>\n",
       "    </div>"
      ]
     },
     "metadata": {},
     "output_type": "display_data"
    },
    {
     "data": {
      "application/javascript": [
       "\n",
       "(function(root) {\n",
       "  function now() {\n",
       "    return new Date();\n",
       "  }\n",
       "\n",
       "  var force = true;\n",
       "\n",
       "  if (typeof (root._bokeh_onload_callbacks) === \"undefined\" || force === true) {\n",
       "    root._bokeh_onload_callbacks = [];\n",
       "    root._bokeh_is_loading = undefined;\n",
       "  }\n",
       "\n",
       "  var JS_MIME_TYPE = 'application/javascript';\n",
       "  var HTML_MIME_TYPE = 'text/html';\n",
       "  var EXEC_MIME_TYPE = 'application/vnd.bokehjs_exec.v0+json';\n",
       "  var CLASS_NAME = 'output_bokeh rendered_html';\n",
       "\n",
       "  /**\n",
       "   * Render data to the DOM node\n",
       "   */\n",
       "  function render(props, node) {\n",
       "    var script = document.createElement(\"script\");\n",
       "    node.appendChild(script);\n",
       "  }\n",
       "\n",
       "  /**\n",
       "   * Handle when an output is cleared or removed\n",
       "   */\n",
       "  function handleClearOutput(event, handle) {\n",
       "    var cell = handle.cell;\n",
       "\n",
       "    var id = cell.output_area._bokeh_element_id;\n",
       "    var server_id = cell.output_area._bokeh_server_id;\n",
       "    // Clean up Bokeh references\n",
       "    if (id !== undefined) {\n",
       "      Bokeh.index[id].model.document.clear();\n",
       "      delete Bokeh.index[id];\n",
       "    }\n",
       "\n",
       "    if (server_id !== undefined) {\n",
       "      // Clean up Bokeh references\n",
       "      var cmd = \"from bokeh.io.state import curstate; print(curstate().uuid_to_server['\" + server_id + \"'].get_sessions()[0].document.roots[0]._id)\";\n",
       "      cell.notebook.kernel.execute(cmd, {\n",
       "        iopub: {\n",
       "          output: function(msg) {\n",
       "            var element_id = msg.content.text.trim();\n",
       "            Bokeh.index[element_id].model.document.clear();\n",
       "            delete Bokeh.index[element_id];\n",
       "          }\n",
       "        }\n",
       "      });\n",
       "      // Destroy server and session\n",
       "      var cmd = \"import bokeh.io.notebook as ion; ion.destroy_server('\" + server_id + \"')\";\n",
       "      cell.notebook.kernel.execute(cmd);\n",
       "    }\n",
       "  }\n",
       "\n",
       "  /**\n",
       "   * Handle when a new output is added\n",
       "   */\n",
       "  function handleAddOutput(event, handle) {\n",
       "    var output_area = handle.output_area;\n",
       "    var output = handle.output;\n",
       "\n",
       "    // limit handleAddOutput to display_data with EXEC_MIME_TYPE content only\n",
       "    if ((output.output_type != \"display_data\") || (!output.data.hasOwnProperty(EXEC_MIME_TYPE))) {\n",
       "      return\n",
       "    }\n",
       "\n",
       "    var toinsert = output_area.element.find(\".\" + CLASS_NAME.split(' ')[0]);\n",
       "\n",
       "    if (output.metadata[EXEC_MIME_TYPE][\"id\"] !== undefined) {\n",
       "      toinsert[toinsert.length - 1].firstChild.textContent = output.data[JS_MIME_TYPE];\n",
       "      // store reference to embed id on output_area\n",
       "      output_area._bokeh_element_id = output.metadata[EXEC_MIME_TYPE][\"id\"];\n",
       "    }\n",
       "    if (output.metadata[EXEC_MIME_TYPE][\"server_id\"] !== undefined) {\n",
       "      var bk_div = document.createElement(\"div\");\n",
       "      bk_div.innerHTML = output.data[HTML_MIME_TYPE];\n",
       "      var script_attrs = bk_div.children[0].attributes;\n",
       "      for (var i = 0; i < script_attrs.length; i++) {\n",
       "        toinsert[toinsert.length - 1].firstChild.setAttribute(script_attrs[i].name, script_attrs[i].value);\n",
       "      }\n",
       "      // store reference to server id on output_area\n",
       "      output_area._bokeh_server_id = output.metadata[EXEC_MIME_TYPE][\"server_id\"];\n",
       "    }\n",
       "  }\n",
       "\n",
       "  function register_renderer(events, OutputArea) {\n",
       "\n",
       "    function append_mime(data, metadata, element) {\n",
       "      // create a DOM node to render to\n",
       "      var toinsert = this.create_output_subarea(\n",
       "        metadata,\n",
       "        CLASS_NAME,\n",
       "        EXEC_MIME_TYPE\n",
       "      );\n",
       "      this.keyboard_manager.register_events(toinsert);\n",
       "      // Render to node\n",
       "      var props = {data: data, metadata: metadata[EXEC_MIME_TYPE]};\n",
       "      render(props, toinsert[toinsert.length - 1]);\n",
       "      element.append(toinsert);\n",
       "      return toinsert\n",
       "    }\n",
       "\n",
       "    /* Handle when an output is cleared or removed */\n",
       "    events.on('clear_output.CodeCell', handleClearOutput);\n",
       "    events.on('delete.Cell', handleClearOutput);\n",
       "\n",
       "    /* Handle when a new output is added */\n",
       "    events.on('output_added.OutputArea', handleAddOutput);\n",
       "\n",
       "    /**\n",
       "     * Register the mime type and append_mime function with output_area\n",
       "     */\n",
       "    OutputArea.prototype.register_mime_type(EXEC_MIME_TYPE, append_mime, {\n",
       "      /* Is output safe? */\n",
       "      safe: true,\n",
       "      /* Index of renderer in `output_area.display_order` */\n",
       "      index: 0\n",
       "    });\n",
       "  }\n",
       "\n",
       "  // register the mime type if in Jupyter Notebook environment and previously unregistered\n",
       "  if (root.Jupyter !== undefined) {\n",
       "    var events = require('base/js/events');\n",
       "    var OutputArea = require('notebook/js/outputarea').OutputArea;\n",
       "\n",
       "    if (OutputArea.prototype.mime_types().indexOf(EXEC_MIME_TYPE) == -1) {\n",
       "      register_renderer(events, OutputArea);\n",
       "    }\n",
       "  }\n",
       "\n",
       "  \n",
       "  if (typeof (root._bokeh_timeout) === \"undefined\" || force === true) {\n",
       "    root._bokeh_timeout = Date.now() + 5000;\n",
       "    root._bokeh_failed_load = false;\n",
       "  }\n",
       "\n",
       "  var NB_LOAD_WARNING = {'data': {'text/html':\n",
       "     \"<div style='background-color: #fdd'>\\n\"+\n",
       "     \"<p>\\n\"+\n",
       "     \"BokehJS does not appear to have successfully loaded. If loading BokehJS from CDN, this \\n\"+\n",
       "     \"may be due to a slow or bad network connection. Possible fixes:\\n\"+\n",
       "     \"</p>\\n\"+\n",
       "     \"<ul>\\n\"+\n",
       "     \"<li>re-rerun `output_notebook()` to attempt to load from CDN again, or</li>\\n\"+\n",
       "     \"<li>use INLINE resources instead, as so:</li>\\n\"+\n",
       "     \"</ul>\\n\"+\n",
       "     \"<code>\\n\"+\n",
       "     \"from bokeh.resources import INLINE\\n\"+\n",
       "     \"output_notebook(resources=INLINE)\\n\"+\n",
       "     \"</code>\\n\"+\n",
       "     \"</div>\"}};\n",
       "\n",
       "  function display_loaded() {\n",
       "    var el = document.getElementById(\"cfff9a77-167c-4601-9ec2-e443e5567cf7\");\n",
       "    if (el != null) {\n",
       "      el.textContent = \"BokehJS is loading...\";\n",
       "    }\n",
       "    if (root.Bokeh !== undefined) {\n",
       "      if (el != null) {\n",
       "        el.textContent = \"BokehJS \" + root.Bokeh.version + \" successfully loaded.\";\n",
       "      }\n",
       "    } else if (Date.now() < root._bokeh_timeout) {\n",
       "      setTimeout(display_loaded, 100)\n",
       "    }\n",
       "  }\n",
       "\n",
       "\n",
       "  function run_callbacks() {\n",
       "    try {\n",
       "      root._bokeh_onload_callbacks.forEach(function(callback) { callback() });\n",
       "    }\n",
       "    finally {\n",
       "      delete root._bokeh_onload_callbacks\n",
       "    }\n",
       "    console.info(\"Bokeh: all callbacks have finished\");\n",
       "  }\n",
       "\n",
       "  function load_libs(js_urls, callback) {\n",
       "    root._bokeh_onload_callbacks.push(callback);\n",
       "    if (root._bokeh_is_loading > 0) {\n",
       "      console.log(\"Bokeh: BokehJS is being loaded, scheduling callback at\", now());\n",
       "      return null;\n",
       "    }\n",
       "    if (js_urls == null || js_urls.length === 0) {\n",
       "      run_callbacks();\n",
       "      return null;\n",
       "    }\n",
       "    console.log(\"Bokeh: BokehJS not loaded, scheduling load and callback at\", now());\n",
       "    root._bokeh_is_loading = js_urls.length;\n",
       "    for (var i = 0; i < js_urls.length; i++) {\n",
       "      var url = js_urls[i];\n",
       "      var s = document.createElement('script');\n",
       "      s.src = url;\n",
       "      s.async = false;\n",
       "      s.onreadystatechange = s.onload = function() {\n",
       "        root._bokeh_is_loading--;\n",
       "        if (root._bokeh_is_loading === 0) {\n",
       "          console.log(\"Bokeh: all BokehJS libraries loaded\");\n",
       "          run_callbacks()\n",
       "        }\n",
       "      };\n",
       "      s.onerror = function() {\n",
       "        console.warn(\"failed to load library \" + url);\n",
       "      };\n",
       "      console.log(\"Bokeh: injecting script tag for BokehJS library: \", url);\n",
       "      document.getElementsByTagName(\"head\")[0].appendChild(s);\n",
       "    }\n",
       "  };var element = document.getElementById(\"cfff9a77-167c-4601-9ec2-e443e5567cf7\");\n",
       "  if (element == null) {\n",
       "    console.log(\"Bokeh: ERROR: autoload.js configured with elementid 'cfff9a77-167c-4601-9ec2-e443e5567cf7' but no matching script tag was found. \")\n",
       "    return false;\n",
       "  }\n",
       "\n",
       "  var js_urls = [\"https://cdn.pydata.org/bokeh/release/bokeh-0.12.15.min.js\", \"https://cdn.pydata.org/bokeh/release/bokeh-widgets-0.12.15.min.js\", \"https://cdn.pydata.org/bokeh/release/bokeh-tables-0.12.15.min.js\", \"https://cdn.pydata.org/bokeh/release/bokeh-gl-0.12.15.min.js\"];\n",
       "\n",
       "  var inline_js = [\n",
       "    function(Bokeh) {\n",
       "      Bokeh.set_log_level(\"info\");\n",
       "    },\n",
       "    \n",
       "    function(Bokeh) {\n",
       "      \n",
       "    },\n",
       "    function(Bokeh) {\n",
       "      console.log(\"Bokeh: injecting CSS: https://cdn.pydata.org/bokeh/release/bokeh-0.12.15.min.css\");\n",
       "      Bokeh.embed.inject_css(\"https://cdn.pydata.org/bokeh/release/bokeh-0.12.15.min.css\");\n",
       "      console.log(\"Bokeh: injecting CSS: https://cdn.pydata.org/bokeh/release/bokeh-widgets-0.12.15.min.css\");\n",
       "      Bokeh.embed.inject_css(\"https://cdn.pydata.org/bokeh/release/bokeh-widgets-0.12.15.min.css\");\n",
       "      console.log(\"Bokeh: injecting CSS: https://cdn.pydata.org/bokeh/release/bokeh-tables-0.12.15.min.css\");\n",
       "      Bokeh.embed.inject_css(\"https://cdn.pydata.org/bokeh/release/bokeh-tables-0.12.15.min.css\");\n",
       "    }\n",
       "  ];\n",
       "\n",
       "  function run_inline_js() {\n",
       "    \n",
       "    if ((root.Bokeh !== undefined) || (force === true)) {\n",
       "      for (var i = 0; i < inline_js.length; i++) {\n",
       "        inline_js[i].call(root, root.Bokeh);\n",
       "      }if (force === true) {\n",
       "        display_loaded();\n",
       "      }} else if (Date.now() < root._bokeh_timeout) {\n",
       "      setTimeout(run_inline_js, 100);\n",
       "    } else if (!root._bokeh_failed_load) {\n",
       "      console.log(\"Bokeh: BokehJS failed to load within specified timeout.\");\n",
       "      root._bokeh_failed_load = true;\n",
       "    } else if (force !== true) {\n",
       "      var cell = $(document.getElementById(\"cfff9a77-167c-4601-9ec2-e443e5567cf7\")).parents('.cell').data().cell;\n",
       "      cell.output_area.append_execute_result(NB_LOAD_WARNING)\n",
       "    }\n",
       "\n",
       "  }\n",
       "\n",
       "  if (root._bokeh_is_loading === 0) {\n",
       "    console.log(\"Bokeh: BokehJS loaded, going straight to plotting\");\n",
       "    run_inline_js();\n",
       "  } else {\n",
       "    load_libs(js_urls, function() {\n",
       "      console.log(\"Bokeh: BokehJS plotting callback run at\", now());\n",
       "      run_inline_js();\n",
       "    });\n",
       "  }\n",
       "}(window));"
      ],
      "application/vnd.bokehjs_load.v0+json": "\n(function(root) {\n  function now() {\n    return new Date();\n  }\n\n  var force = true;\n\n  if (typeof (root._bokeh_onload_callbacks) === \"undefined\" || force === true) {\n    root._bokeh_onload_callbacks = [];\n    root._bokeh_is_loading = undefined;\n  }\n\n  \n\n  \n  if (typeof (root._bokeh_timeout) === \"undefined\" || force === true) {\n    root._bokeh_timeout = Date.now() + 5000;\n    root._bokeh_failed_load = false;\n  }\n\n  var NB_LOAD_WARNING = {'data': {'text/html':\n     \"<div style='background-color: #fdd'>\\n\"+\n     \"<p>\\n\"+\n     \"BokehJS does not appear to have successfully loaded. If loading BokehJS from CDN, this \\n\"+\n     \"may be due to a slow or bad network connection. Possible fixes:\\n\"+\n     \"</p>\\n\"+\n     \"<ul>\\n\"+\n     \"<li>re-rerun `output_notebook()` to attempt to load from CDN again, or</li>\\n\"+\n     \"<li>use INLINE resources instead, as so:</li>\\n\"+\n     \"</ul>\\n\"+\n     \"<code>\\n\"+\n     \"from bokeh.resources import INLINE\\n\"+\n     \"output_notebook(resources=INLINE)\\n\"+\n     \"</code>\\n\"+\n     \"</div>\"}};\n\n  function display_loaded() {\n    var el = document.getElementById(\"cfff9a77-167c-4601-9ec2-e443e5567cf7\");\n    if (el != null) {\n      el.textContent = \"BokehJS is loading...\";\n    }\n    if (root.Bokeh !== undefined) {\n      if (el != null) {\n        el.textContent = \"BokehJS \" + root.Bokeh.version + \" successfully loaded.\";\n      }\n    } else if (Date.now() < root._bokeh_timeout) {\n      setTimeout(display_loaded, 100)\n    }\n  }\n\n\n  function run_callbacks() {\n    try {\n      root._bokeh_onload_callbacks.forEach(function(callback) { callback() });\n    }\n    finally {\n      delete root._bokeh_onload_callbacks\n    }\n    console.info(\"Bokeh: all callbacks have finished\");\n  }\n\n  function load_libs(js_urls, callback) {\n    root._bokeh_onload_callbacks.push(callback);\n    if (root._bokeh_is_loading > 0) {\n      console.log(\"Bokeh: BokehJS is being loaded, scheduling callback at\", now());\n      return null;\n    }\n    if (js_urls == null || js_urls.length === 0) {\n      run_callbacks();\n      return null;\n    }\n    console.log(\"Bokeh: BokehJS not loaded, scheduling load and callback at\", now());\n    root._bokeh_is_loading = js_urls.length;\n    for (var i = 0; i < js_urls.length; i++) {\n      var url = js_urls[i];\n      var s = document.createElement('script');\n      s.src = url;\n      s.async = false;\n      s.onreadystatechange = s.onload = function() {\n        root._bokeh_is_loading--;\n        if (root._bokeh_is_loading === 0) {\n          console.log(\"Bokeh: all BokehJS libraries loaded\");\n          run_callbacks()\n        }\n      };\n      s.onerror = function() {\n        console.warn(\"failed to load library \" + url);\n      };\n      console.log(\"Bokeh: injecting script tag for BokehJS library: \", url);\n      document.getElementsByTagName(\"head\")[0].appendChild(s);\n    }\n  };var element = document.getElementById(\"cfff9a77-167c-4601-9ec2-e443e5567cf7\");\n  if (element == null) {\n    console.log(\"Bokeh: ERROR: autoload.js configured with elementid 'cfff9a77-167c-4601-9ec2-e443e5567cf7' but no matching script tag was found. \")\n    return false;\n  }\n\n  var js_urls = [\"https://cdn.pydata.org/bokeh/release/bokeh-0.12.15.min.js\", \"https://cdn.pydata.org/bokeh/release/bokeh-widgets-0.12.15.min.js\", \"https://cdn.pydata.org/bokeh/release/bokeh-tables-0.12.15.min.js\", \"https://cdn.pydata.org/bokeh/release/bokeh-gl-0.12.15.min.js\"];\n\n  var inline_js = [\n    function(Bokeh) {\n      Bokeh.set_log_level(\"info\");\n    },\n    \n    function(Bokeh) {\n      \n    },\n    function(Bokeh) {\n      console.log(\"Bokeh: injecting CSS: https://cdn.pydata.org/bokeh/release/bokeh-0.12.15.min.css\");\n      Bokeh.embed.inject_css(\"https://cdn.pydata.org/bokeh/release/bokeh-0.12.15.min.css\");\n      console.log(\"Bokeh: injecting CSS: https://cdn.pydata.org/bokeh/release/bokeh-widgets-0.12.15.min.css\");\n      Bokeh.embed.inject_css(\"https://cdn.pydata.org/bokeh/release/bokeh-widgets-0.12.15.min.css\");\n      console.log(\"Bokeh: injecting CSS: https://cdn.pydata.org/bokeh/release/bokeh-tables-0.12.15.min.css\");\n      Bokeh.embed.inject_css(\"https://cdn.pydata.org/bokeh/release/bokeh-tables-0.12.15.min.css\");\n    }\n  ];\n\n  function run_inline_js() {\n    \n    if ((root.Bokeh !== undefined) || (force === true)) {\n      for (var i = 0; i < inline_js.length; i++) {\n        inline_js[i].call(root, root.Bokeh);\n      }if (force === true) {\n        display_loaded();\n      }} else if (Date.now() < root._bokeh_timeout) {\n      setTimeout(run_inline_js, 100);\n    } else if (!root._bokeh_failed_load) {\n      console.log(\"Bokeh: BokehJS failed to load within specified timeout.\");\n      root._bokeh_failed_load = true;\n    } else if (force !== true) {\n      var cell = $(document.getElementById(\"cfff9a77-167c-4601-9ec2-e443e5567cf7\")).parents('.cell').data().cell;\n      cell.output_area.append_execute_result(NB_LOAD_WARNING)\n    }\n\n  }\n\n  if (root._bokeh_is_loading === 0) {\n    console.log(\"Bokeh: BokehJS loaded, going straight to plotting\");\n    run_inline_js();\n  } else {\n    load_libs(js_urls, function() {\n      console.log(\"Bokeh: BokehJS plotting callback run at\", now());\n      run_inline_js();\n    });\n  }\n}(window));"
     },
     "metadata": {},
     "output_type": "display_data"
    }
   ],
   "source": [
    "\n",
    "# Standard imports \n",
    "from bokeh.io import output_notebook, show\n",
    "from bokeh.plotting import figure\n",
    "from bokeh.layouts import gridplot\n",
    "from bokeh.models.widgets import Panel, Tabs\n",
    "from bokeh.io import output_file, show\n",
    "from bokeh.plotting import figure\n",
    "from bokeh.models import BoxSelectTool\n",
    "from bokeh.models import HoverTool\n",
    "\n",
    "output_notebook()\n",
    "\n",
    "\n",
    "labelSize = 18\n",
    "titleSize = 22\n",
    "legendSize = 14\n",
    "axisTicksSize = 14\n",
    "\n",
    "lineWidth =1.5"
   ]
  },
  {
   "cell_type": "code",
   "execution_count": 7,
   "metadata": {},
   "outputs": [
    {
     "data": {
      "text/html": [
       "\n",
       "<div class=\"bk-root\">\n",
       "    <div class=\"bk-plotdiv\" id=\"54345893-d654-40f0-b2f2-fba5b9f65dfe\"></div>\n",
       "</div>"
      ]
     },
     "metadata": {},
     "output_type": "display_data"
    },
    {
     "data": {
      "application/javascript": [
       "(function(root) {\n",
       "  function embed_document(root) {\n",
       "    \n",
       "  var docs_json = {\"bf1c19f1-7246-4e6e-bf87-b5e2be29e297\":{\"roots\":{\"references\":[{\"attributes\":{},\"id\":\"a287dd53-af04-43d6-8fae-238aee7e2d31\",\"type\":\"WheelZoomTool\"},{\"attributes\":{\"overlay\":{\"id\":\"090a5fe0-3457-43a2-9a40-b4159990adef\",\"type\":\"BoxAnnotation\"}},\"id\":\"9d579df4-2d86-49ae-8438-37fc93f0c453\",\"type\":\"BoxZoomTool\"},{\"attributes\":{},\"id\":\"338896f3-cade-4223-8c7d-5eaa68ac42e9\",\"type\":\"ResetTool\"},{\"attributes\":{},\"id\":\"f0c2245c-ec54-42bf-aa8d-8bcd884cb105\",\"type\":\"BasicTickFormatter\"},{\"attributes\":{\"line_color\":\"red\",\"line_width\":1.5,\"x\":{\"field\":\"x\"},\"y\":{\"field\":\"y\"}},\"id\":\"62073747-2d03-46fb-8c62-21b1354a5668\",\"type\":\"Line\"},{\"attributes\":{\"click_policy\":\"hide\",\"items\":[{\"id\":\"5a976d2c-0b18-496b-933f-a8e3c77f2001\",\"type\":\"LegendItem\"},{\"id\":\"853eda8c-4aa3-46cd-853e-42e7d8d75379\",\"type\":\"LegendItem\"}],\"label_text_font_size\":{\"value\":\"14px\"},\"location\":\"top_left\",\"plot\":{\"id\":\"a47c2f1b-64f5-4ad6-b81e-2f230bffcb0f\",\"subtype\":\"Figure\",\"type\":\"Plot\"}},\"id\":\"1b652035-433a-4cf9-b399-7f3b6f7d3e88\",\"type\":\"Legend\"},{\"attributes\":{\"callback\":null,\"column_names\":[\"x\",\"y\"],\"data\":{\"x\":[-0.2,0.2],\"y\":[-0.6,-0.6]},\"selected\":null,\"selection_policy\":null},\"id\":\"c9d1f2c9-6080-4ca1-a635-fb9f52a997a2\",\"type\":\"ColumnDataSource\"},{\"attributes\":{\"label\":{\"value\":\"Centroids\"},\"renderers\":[{\"id\":\"aa39011a-ea46-4c78-a92a-515631c0447d\",\"type\":\"GlyphRenderer\"}]},\"id\":\"5a976d2c-0b18-496b-933f-a8e3c77f2001\",\"type\":\"LegendItem\"},{\"attributes\":{\"label\":{\"value\":\"layer\"},\"renderers\":[{\"id\":\"aab6d9cf-9b6d-4eeb-923f-f6d730c5987e\",\"type\":\"GlyphRenderer\"},{\"id\":\"5c7736e9-ec09-4129-a86b-1cb470809672\",\"type\":\"GlyphRenderer\"},{\"id\":\"e5d6c1b8-fe08-4736-8b63-962e74bf0388\",\"type\":\"GlyphRenderer\"},{\"id\":\"4d2cfb8d-a352-41b8-8a6b-3a6176a436fd\",\"type\":\"GlyphRenderer\"},{\"id\":\"15a78119-6c9e-4f55-8257-1fde79486f23\",\"type\":\"GlyphRenderer\"}]},\"id\":\"853eda8c-4aa3-46cd-853e-42e7d8d75379\",\"type\":\"LegendItem\"},{\"attributes\":{\"line_color\":\"red\",\"line_width\":1.5,\"x\":{\"field\":\"x\"},\"y\":{\"field\":\"y\"}},\"id\":\"563d9333-1bc5-4c56-9f63-d3d1e9358f35\",\"type\":\"Line\"},{\"attributes\":{\"line_alpha\":0.1,\"line_color\":\"#1f77b4\",\"line_width\":1.5,\"x\":{\"field\":\"x\"},\"y\":{\"field\":\"y\"}},\"id\":\"a3a51572-20bf-4f65-930f-b2da3109ca12\",\"type\":\"Line\"},{\"attributes\":{\"align\":\"center\",\"plot\":null,\"text\":\"Control volume centroids\",\"text_font_size\":{\"value\":\"22px\"}},\"id\":\"93e3114d-6ae6-48be-9442-77d422818f39\",\"type\":\"Title\"},{\"attributes\":{\"data_source\":{\"id\":\"22fdf8b0-7a01-4aa4-852a-aebf444096e8\",\"type\":\"ColumnDataSource\"},\"glyph\":{\"id\":\"62073747-2d03-46fb-8c62-21b1354a5668\",\"type\":\"Line\"},\"hover_glyph\":null,\"muted_glyph\":null,\"nonselection_glyph\":{\"id\":\"a3a51572-20bf-4f65-930f-b2da3109ca12\",\"type\":\"Line\"},\"selection_glyph\":null,\"view\":{\"id\":\"aa5399c4-35a6-490b-aebe-e16bd2b07bd4\",\"type\":\"CDSView\"}},\"id\":\"aab6d9cf-9b6d-4eeb-923f-f6d730c5987e\",\"type\":\"GlyphRenderer\"},{\"attributes\":{},\"id\":\"a98f88d9-60f0-4a65-bede-58a759060332\",\"type\":\"BasicTickFormatter\"},{\"attributes\":{\"source\":{\"id\":\"22fdf8b0-7a01-4aa4-852a-aebf444096e8\",\"type\":\"ColumnDataSource\"}},\"id\":\"aa5399c4-35a6-490b-aebe-e16bd2b07bd4\",\"type\":\"CDSView\"},{\"attributes\":{\"callback\":null,\"tooltips\":[[\"(x,y)\",\"($x, $y)\"]]},\"id\":\"5ba904e0-9912-42c8-944b-10a7d9825b15\",\"type\":\"HoverTool\"},{\"attributes\":{\"line_alpha\":0.1,\"line_color\":\"#1f77b4\",\"line_width\":1.5,\"x\":{\"field\":\"x\"},\"y\":{\"field\":\"y\"}},\"id\":\"0fe3adb4-2637-4962-9448-5470760cfaba\",\"type\":\"Line\"},{\"attributes\":{\"callback\":null,\"column_names\":[\"x\",\"y\"],\"data\":{\"x\":{\"__ndarray__\":\"AAAAAAAAAAAAAAAAAAAAAAAAAAAAAAAAAAAAAAAAAAAAAAAAAAAAAAAAAAAAAAAAAAAAAAAAAAAAAAAAAAAAAAAAAAAAAAAAAAAAAAAAAAAAAAAAAAAAAAAAAAAAAAAAAAAAAAAAAAAAAAAAAAAAAAAAAAAAAAAAAAAAAAAAAAAAAAAAAAAAAAAAAAAAAAAAAAAAAAAAAAAAAAAAAAAAAAAAAAAAAAAAAAAAAAAAAAAAAAAAAAAAAAAAAAAAAAAAAAAAAAAAAAAAAAAAAAAAAAAAAAAAAAAAAAAAAAAAAAAAAAAAAAAAAAAAAAAAAAAAAAAAAAAAAAAAAAAAAAAAAAAAAAAAAAAAAAAAAAAAAAAAAAAAAAAAAAAAAAAAAAAAAAAAAAAAAAAAAAAAAAAAAAAAAAAAAAAAAAAAAAAAAAAAAAAAAAAAAAAAAAAAAAAAAAAAAAAAAAAAAAAAAAAAAAAAAAAAAAAAAAAAAAAAAAAAAAAAAAAAAAAAAAAAAAAAAAAAAAAAAAAAAAAAAAAAAAAAAAAAAAAAAAAAAAAAAAAAAAAAAAAAAAAAAAAAAAAAAAAAAAAAAAAAAAAAAAAAAAAAAAAAAAAAAAAAAAAAAAAAAAAAAAAAAAAAAAAAAAAAAAAAAAAAAAAAAAAAAAAAAAAAAAAAAAAAAAAAAAAAAAAAAAAAAAAAAAAAAAAAAAAAAAAAAAAAAAAAAAAAAAAAAAAAAAAAAAAAAAAAAAAAAAAAAAAAAAAAAAAAAAAAAAAAAAAAAAAAAAAAAAAAAAAAAAAAAAAAAAAAAAAAAAAAAAAAAAAAAAAAAAAAAAAAAAAAAAAAAAAAAAAAAAAAAAAAAAAAAAAAAAAAAAAAAAAAAAAAAAAAAAAAAAAAAAAAAAAAAAAAAAAAAAAAAAAAAAAAAAAAAAAAAAAAAAAAAAAAAAAAAAAAAAAAAAAAAAAAAAAAAAAAAAAAAAAAAAAAAAAAAAAAAAAAAAAAAAAAAAAAAAAAAAAAAAAAAAAAAAAAAAAAAAAAAAAAAAAAAAAAAAAAAAAAAAAAAAAAAAAAAAAAAAAAAAAAAAAAAAAAAAAAAAAAAAAAAAAAAAAAAAAAAAAAAAAAAAAAAAAAAAAAAAAAAAAAAAAAAAAAAAAAAAAAAAAAAAAAAAAAAAAAAAAAAAAAAAAAAAAAAAAAAAAAAAAAAAAAAAAAAAAAAAAAAAAAAAAAAAAAAAAAAAAAAAAAAAAAAAAAAAAAAAAAAAAAAAAAAAAAAAAAAAAAAAAAAAAAAAAAAAAAAAAAAAAAAAAAAAAAAAAAAAAAAAAAAAAAAAAAAAAAAAAAAAAAAAAAAAAAAAAAAAAAAAAAAAAAAAAAAAAAAAAAAAAAAAAAAAAAAAAAAAAAAAAAAAAAAAAAAAAAAAAAAAAAAAAAAAAAAAAAAAAAAAAAAAAAAAAAAAAAAAAAAAAAAAAAAAAAAAAAAAAAAAAAAAAAAAAAAAAAAAAAAAAAAAAAAAAAAAAAAAAAAAAAAAAAAAAAAAAAAAAAAAAAAAAAAAAAAAAAAAAAAAAAAAAAAAAAAAAAAAAAAAAAAAAAAAAAAAAAAAAAAAAAAAAAAAAAAAAAAAAAAAAAAAAAAAAAAAAAAAAAAAAAAAAAAAAAAAAAAAAAAAAAAAAAAAAAAAAAAAAAAAAAAAAAAAAAAAAAAAAAAAAAAAAAAAAAAAAAAAAAAAAAAAAAAAAAAAAAAAAAAAAAAAAAAAAAAAAAAAAAAAAAAAAAAAAAAAAAAAAAAAAAAAAAAAAAAAAAAAAAAAAAAAAAAAAAAAAAAAAAAAAAAAAAAAAAAAAAAAAAAAAAAAAAAAAAAAAAAAAAAAAAAAAAAAAAAAAAAAAAAAAAAAAAAAAAAAAAAAAAAAAAAAAAAAAAAAAAAAAAAAAAAAAAAAAAAAAAAAAAAAAAAAAAAAAAAAAAAAAAAAAAAAAAAAAAAAAAAAAAAAAAAAAAAAAAAAAAAAAAAAAAAAAAAAAAAAAAAAAAAAAAAAAAAAAAAAAAAAAAAAAAAAAAAAAAAAAAAAAAAAAAAAAAAAAAAAAAAAAAAAAAAAAAAAAAAAAAAAAAAAAAAAAAAAAAAAAAAAAAAAAAAAAAAAAAAAAAAAAAAAAAAAAAAAAAAAAAAAAAAAAAAAAAAAAAAAAAAAAAAAAAAAAAAAAAAAAAAAAAAAAAAAAAAAAAAAAAAAAAAAAAAAAAAAAAAAAAAAAAAAAAAAAAAAAAAAAAAAAAAAAAAAAAAAAAAAAAAAAAAAAAAAAAAAAAAAAAAAAAAAAAAAAAAAAAAAAAAAAAAAAAAAAAAAAAAAAAAAAAAAAAAAAAAAAAAAAAAAAAAAAAAAAAAAAAAAAAAAAAAAAAAAAAAAAAAAAAAAAAAAAAAAAAAAAAAAAAAAAAAAAAAAAAAAAAAAAAAAAAAAAAAAAAAAAAAAAAAAAAAAAAAAAAAAAAAAAAAAAAAAAAAAAAAAAAAAAAAAAAAAAAAAAAAAAAAAAAAAAAAAAAAAAAAAAAAAAAAAAAAAAAAAAAAAAAAAAAAAAAAAAAAAAAAAAAAAAAAAAAAAAAAAAAAAAAAAAAAAAAAAAAAAAAAAAAAAAAAAAAAAAAAAAAAAAAAAAAAAAAAAAAAAAAAAAAAAAAAAAAAAAAAAAAAAAAAAAAAAAAAAAAAAAAAAAAAAAAAAAAAAAAAAAAAAAAAAAAAAAAAAAAAAAAAAAAAAAAAAAAAAAAAAAAAAAAAAAAAAAAAAAAAAAAAAAAAAAAAAAAAAAAAAAAAAAAAAAAAAAAAAAAAAAAAAAAAAAAAAAAAAAAAAAAAAAAAAAAAAAAAAAAAAAAAAAAAAAAAAAAAAAAAAAAAAAAAAAAAAAAAAAAAAAAAAAAAAAAAAAAAAAAAAAAAAAAAAAAAAAAAAAAAAAAAAAAAAAAAAAAAAAAAAAAAAAAAAAAAAAAAAAAAAAAAAAAAAAAAAAAAAAAAAAAAAAAAAAAAAAAAAAAAAAAAAAAAAAAAAAAAAAAAAAAAAAAAAAAAAAAAAAAAAAAAAAAAAAAAAAAAAAAAAAAAAAAAAAAAAAAAAAAAAAAAAAAAAAAAAAAAAAAAAAAAAAAAAAAAAAAAAAAAAAAAAAAAAAAAAAAAAAAAAAAAAAAAAAAAAAAAAAAAAAAAAAAAAAAAAAAAAAAAAAAAAAAAAAAAAAAAAAAAAAAAAAAAAAAAAAAAAA=\",\"dtype\":\"float64\",\"shape\":[301]},\"y\":{\"__ndarray__\":\"Vg4tsp3v/78CK4cW2c7/v65H4XoUrv+/WmQ730+N/78GgZVDi2z/v7Kd76fGS/+/XrpJDAIr/78K16NwPQr/v7bz/dR46f6/YhBYObTI/r8OLbKd76f+v7pJDAIrh/6/ZmZmZmZm/r8Sg8DKoUX+v76fGi/dJP6/arx0kxgE/r8W2c73U+P9v8L1KFyPwv2/bhKDwMqh/b8bL90kBoH9v8dLN4lBYP2/c2iR7Xw//b8fhetRuB79v8uhRbbz/fy/d76fGi/d/L8j2/l+arz8v8/3U+Olm/y/exSuR+F6/L8nMQisHFr8v9NNYhBYOfy/f2q8dJMY/L8rhxbZzvf7v9ejcD0K1/u/g8DKoUW2+78v3SQGgZX7v9v5fmq8dPu/hxbZzvdT+78zMzMzMzP7v99PjZduEvu/i2zn+6nx+r83iUFg5dD6v+Olm8QgsPq/j8L1KFyP+r8730+Nl276v+j7qfHSTfq/lBgEVg4t+r9ANV66SQz6v+xRuB6F6/m/mG4Sg8DK+b9Ei2zn+6n5v/Cnxks3ifm/nMQgsHJo+b9I4XoUrkf5v/T91HjpJvm/oBov3SQG+b9MN4lBYOX4v/hT46WbxPi/pHA9Ctej+L9QjZduEoP4v/yp8dJNYvi/qMZLN4lB+L9U46WbxCD4vwAAAAAAAPi/rBxaZDvf979YObTIdr73vwRWDi2ynfe/sHJoke18979cj8L1KFz3vwisHFpkO/e/tMh2vp8a979g5dAi2/n2vwwCK4cW2fa/uB6F61G49r9kO99PjZf2vxBYObTIdva/vHSTGARW9r9oke18PzX2vxSuR+F6FPa/wMqhRbbz9b9s5/up8dL1vxgEVg4tsvW/xCCwcmiR9b9wPQrXo3D1vxxaZDvfT/W/yHa+nxov9b90kxgEVg71vyCwcmiR7fS/zMzMzMzM9L956SYxCKz0vyUGgZVDi/S/0SLb+X5q9L99PzVeukn0vylcj8L1KPS/1XjpJjEI9L+BlUOLbOfzvy2yne+nxvO/2c73U+Ol87+F61G4HoXzvzEIrBxaZPO/3SQGgZVD87/0/dR46Sbzv3WTGARWDvO/9ihcj8L18r93vp8aL93yv/hT46WbxPK/eekmMQis8r/6fmq8dJPyv3sUrkfhevK//Knx0k1i8r99PzVeuknyv/7UeOkmMfK/f2q8dJMY8r8AAAAAAADyv4GVQ4ts5/G/AiuHFtnO8b+DwMqhRbbxvwRWDi2ynfG/hetRuB6F8b8GgZVDi2zxv4cW2c73U/G/CKwcWmQ78b+JQWDl0CLxvwrXo3A9CvG/jGzn+6nx8L8MAiuHFtnwv46XbhKDwPC/Di2yne+n8L+QwvUoXI/wvxBYObTIdvC/ku18PzVe8L8Tg8DKoUXwv5QYBFYOLfC/Fa5H4XoU8L8rhxbZzvfvvy2yne+nxu+/L90kBoGV778yCKwcWmTvvzQzMzMzM++/Nl66SQwC7784iUFg5dDuvzq0yHa+n+6/PN9PjZdu7r8+CtejcD3uv0A1XrpJDO6/QmDl0CLb7b9Ei2zn+6ntv0a28/3UeO2/SOF6FK5H7b9KDAIrhxbtv0w3iUFg5ey/TmIQWDm07L9QjZduEoPsv1K4HoXrUey/VOOlm8Qg7L9WDi2yne/rv1g5tMh2vuu/WmQ730+N679cj8L1KFzrv166SQwCK+u/YOXQItv56r9iEFg5tMjqv2Q730+Nl+q/ZmZmZmZm6r9oke18PzXqv2q8dJMYBOq/bOf7qfHS6b9uEoPAyqHpv3A9CtejcOm/cmiR7Xw/6b90kxgEVg7pv3a+nxov3ei/eekmMQis6L97FK5H4Xrov30/NV66Sei/f2q8dJMY6L+BlUOLbOfnv4PAyqFFtue/hetRuB6F57+HFtnO91Pnv4lBYOXQIue/i2zn+6nx5r+Nl24Sg8Dmv4/C9Shcj+a/ke18PzVe5r+TGARWDi3mv5VDi2zn++W/l24Sg8DK5b+ZmZmZmZnlv5vEILByaOW/ne+nxks35b+gGi/dJAblv6JFtvP91OS/pHA9Ctej5L+mm8QgsHLkv6jGSzeJQeS/qvHSTWIQ5L+sHFpkO9/jv65H4XoUruO/sHJoke1847+yne+nxkvjv7TIdr6fGuO/tvP91Hjp4r+4HoXrUbjiv7pJDAIrh+K/vHSTGARW4r++nxov3STiv8DKoUW28+G/wvUoXI/C4b/EILByaJHhv8ZLN4lBYOG/yHa+nxov4b/KoUW28/3gv8zMzMzMzOC/z/dT46Wb4L/RItv5fmrgv9NNYhBYOeC/1XjpJjEI4L+uR+F6FK7fv7Kd76fGS9+/tvP91Hjp3r+6SQwCK4fev76fGi/dJN6/wvUoXI/C3b/GSzeJQWDdv8qhRbbz/dy/zvdT46Wb3L/STWIQWDncv9ajcD0K19u/2vl+arx027/eT42XbhLbv+Olm8QgsNq/5/up8dJN2r/rUbgehevZv++nxks3idm/8/3UeOkm2b/4U+Olm8TYv/yp8dJNYti/AAAAAAAA2L8EVg4tsp3XvwisHFpkO9e/DAIrhxbZ1r8QWDm0yHbWvxSuR+F6FNa/GARWDi2y1b8cWmQ730/VvyCwcmiR7dS/JAaBlUOL1L8oXI/C9SjUvyyyne+nxtO/MQisHFpk0781XrpJDALTvzm0yHa+n9K/PQrXo3A90r9BYOXQItvRv0W28/3UeNG/SQwCK4cW0b9NYhBYObTQv1G4HoXrUdC/qhxaZDvfz7+0yHa+nxrPv7x0kxgEVs6/xCCwcmiRzb/MzMzMzMzMv9R46SYxCMy/3CQGgZVDy7/k0CLb+X7Kv+x8PzVeusm/9Chcj8L1yL/81HjpJjHIvwSBlUOLbMe/Di2yne+nxr8W2c73U+PFvx6F61G4HsW/JjEIrBxaxL8u3SQGgZXDvzaJQWDl0MK/PjVeukkMwr9G4XoUrkfBv06Nl24Sg8C/rHJoke18v7/AyqFFtvO9v9Ai2/l+ary/4HoUrkfhur/w0k1iEFi5vwArhxbZzre/EIPAyqFFtr8g2/l+ary0vzAzMzMzM7O/QIts5/upsb9Q46WbxCCwv8B2vp8aL62/4CYxCKwcqr8A16NwPQqnvyCHFtnO96O/QDeJQWDloL/AzvdT46WbvwAv3SQGgZW/wB6F61G4jr9A30+Nl26Cv/p+arx0k2i/AAAAAAAAAAA=\",\"dtype\":\"float64\",\"shape\":[301]}},\"selected\":null,\"selection_policy\":null},\"id\":\"58e456e5-1020-4981-a6a9-ba08043d392b\",\"type\":\"ColumnDataSource\"},{\"attributes\":{\"source\":{\"id\":\"c9d1f2c9-6080-4ca1-a635-fb9f52a997a2\",\"type\":\"ColumnDataSource\"}},\"id\":\"e975c5a5-7dfd-480c-b657-7a9f8fed2c07\",\"type\":\"CDSView\"},{\"attributes\":{\"below\":[{\"id\":\"5b8ff4b1-aba9-4ec9-ab1e-8c535775b930\",\"type\":\"LinearAxis\"}],\"left\":[{\"id\":\"c028666e-f0f1-4192-8311-0c0c4b4a9985\",\"type\":\"LinearAxis\"}],\"renderers\":[{\"id\":\"5b8ff4b1-aba9-4ec9-ab1e-8c535775b930\",\"type\":\"LinearAxis\"},{\"id\":\"13848602-6066-4497-8eb1-010ed4ae7be3\",\"type\":\"Grid\"},{\"id\":\"c028666e-f0f1-4192-8311-0c0c4b4a9985\",\"type\":\"LinearAxis\"},{\"id\":\"e9c57506-e08c-47b7-8db7-1d6bf46f451c\",\"type\":\"Grid\"},{\"id\":\"090a5fe0-3457-43a2-9a40-b4159990adef\",\"type\":\"BoxAnnotation\"},{\"id\":\"1b652035-433a-4cf9-b399-7f3b6f7d3e88\",\"type\":\"Legend\"},{\"id\":\"aa39011a-ea46-4c78-a92a-515631c0447d\",\"type\":\"GlyphRenderer\"},{\"id\":\"aab6d9cf-9b6d-4eeb-923f-f6d730c5987e\",\"type\":\"GlyphRenderer\"},{\"id\":\"5c7736e9-ec09-4129-a86b-1cb470809672\",\"type\":\"GlyphRenderer\"},{\"id\":\"e5d6c1b8-fe08-4736-8b63-962e74bf0388\",\"type\":\"GlyphRenderer\"},{\"id\":\"4d2cfb8d-a352-41b8-8a6b-3a6176a436fd\",\"type\":\"GlyphRenderer\"},{\"id\":\"15a78119-6c9e-4f55-8257-1fde79486f23\",\"type\":\"GlyphRenderer\"}],\"title\":{\"id\":\"93e3114d-6ae6-48be-9442-77d422818f39\",\"type\":\"Title\"},\"toolbar\":{\"id\":\"5cab77bc-ddae-4b88-8771-3504d1664d73\",\"type\":\"Toolbar\"},\"x_range\":{\"id\":\"cc54217e-0340-4f78-b92d-75803cb25ae3\",\"type\":\"Range1d\"},\"x_scale\":{\"id\":\"3e109212-9a1d-4151-a805-d69c33e29c3e\",\"type\":\"LinearScale\"},\"y_range\":{\"id\":\"6c5bb869-5ca9-4e2f-8ba2-8a6cb2e6357b\",\"type\":\"DataRange1d\"},\"y_scale\":{\"id\":\"afe2a12b-9b9e-4853-8221-20d8006b45bf\",\"type\":\"LinearScale\"}},\"id\":\"a47c2f1b-64f5-4ad6-b81e-2f230bffcb0f\",\"subtype\":\"Figure\",\"type\":\"Plot\"},{\"attributes\":{\"line_color\":\"red\",\"line_width\":1.5,\"x\":{\"field\":\"x\"},\"y\":{\"field\":\"y\"}},\"id\":\"bb84f1be-b62a-4e16-85f5-493cc0d8ffa1\",\"type\":\"Line\"},{\"attributes\":{\"callback\":null,\"end\":0.7,\"start\":-0.7},\"id\":\"cc54217e-0340-4f78-b92d-75803cb25ae3\",\"type\":\"Range1d\"},{\"attributes\":{\"source\":{\"id\":\"58e456e5-1020-4981-a6a9-ba08043d392b\",\"type\":\"ColumnDataSource\"}},\"id\":\"20eb8548-1d79-4a2f-9bcd-eeb47c54c189\",\"type\":\"CDSView\"},{\"attributes\":{\"callback\":null,\"column_names\":[\"x\",\"y\"],\"data\":{\"x\":[-0.2,0.2],\"y\":[-1.2,-1.2]},\"selected\":null,\"selection_policy\":null},\"id\":\"1d800e66-0ee6-4333-bf07-698faa9d11dc\",\"type\":\"ColumnDataSource\"},{\"attributes\":{\"callback\":null,\"column_names\":[\"x\",\"y\"],\"data\":{\"x\":[-0.2,0.2],\"y\":[0.0,0.0]},\"selected\":null,\"selection_policy\":null},\"id\":\"22fdf8b0-7a01-4aa4-852a-aebf444096e8\",\"type\":\"ColumnDataSource\"},{\"attributes\":{\"data_source\":{\"id\":\"c9d1f2c9-6080-4ca1-a635-fb9f52a997a2\",\"type\":\"ColumnDataSource\"},\"glyph\":{\"id\":\"bb84f1be-b62a-4e16-85f5-493cc0d8ffa1\",\"type\":\"Line\"},\"hover_glyph\":null,\"muted_glyph\":null,\"nonselection_glyph\":{\"id\":\"0fe3adb4-2637-4962-9448-5470760cfaba\",\"type\":\"Line\"},\"selection_glyph\":null,\"view\":{\"id\":\"e975c5a5-7dfd-480c-b657-7a9f8fed2c07\",\"type\":\"CDSView\"}},\"id\":\"5c7736e9-ec09-4129-a86b-1cb470809672\",\"type\":\"GlyphRenderer\"},{\"attributes\":{\"callback\":null},\"id\":\"6c5bb869-5ca9-4e2f-8ba2-8a6cb2e6357b\",\"type\":\"DataRange1d\"},{\"attributes\":{\"source\":{\"id\":\"1d800e66-0ee6-4333-bf07-698faa9d11dc\",\"type\":\"ColumnDataSource\"}},\"id\":\"18ffe421-2c5a-44a2-aad4-46b32e8f911d\",\"type\":\"CDSView\"},{\"attributes\":{},\"id\":\"3e109212-9a1d-4151-a805-d69c33e29c3e\",\"type\":\"LinearScale\"},{\"attributes\":{\"line_color\":\"red\",\"line_width\":1.5,\"x\":{\"field\":\"x\"},\"y\":{\"field\":\"y\"}},\"id\":\"a5a5711d-dc99-4491-bbf1-2656bc0e55ee\",\"type\":\"Line\"},{\"attributes\":{\"active_drag\":\"auto\",\"active_inspect\":\"auto\",\"active_scroll\":\"auto\",\"active_tap\":\"auto\",\"tools\":[{\"id\":\"5ba904e0-9912-42c8-944b-10a7d9825b15\",\"type\":\"HoverTool\"},{\"id\":\"924fb648-8d5b-409c-b161-1d7ced45f6a7\",\"type\":\"PanTool\"},{\"id\":\"a287dd53-af04-43d6-8fae-238aee7e2d31\",\"type\":\"WheelZoomTool\"},{\"id\":\"9d579df4-2d86-49ae-8438-37fc93f0c453\",\"type\":\"BoxZoomTool\"},{\"id\":\"338896f3-cade-4223-8c7d-5eaa68ac42e9\",\"type\":\"ResetTool\"}]},\"id\":\"5cab77bc-ddae-4b88-8771-3504d1664d73\",\"type\":\"Toolbar\"},{\"attributes\":{\"line_color\":\"red\",\"line_width\":1.5,\"x\":{\"field\":\"x\"},\"y\":{\"field\":\"y\"}},\"id\":\"ff14017d-1649-4c7d-aa97-0d02519b0474\",\"type\":\"Line\"},{\"attributes\":{},\"id\":\"afe2a12b-9b9e-4853-8221-20d8006b45bf\",\"type\":\"LinearScale\"},{\"attributes\":{\"source\":{\"id\":\"3525794b-47d2-4a12-8f75-6ed217867f5a\",\"type\":\"ColumnDataSource\"}},\"id\":\"95ea45dd-f9ab-49cb-adf3-3d655a602029\",\"type\":\"CDSView\"},{\"attributes\":{\"callback\":null,\"column_names\":[\"x\",\"y\"],\"data\":{\"x\":[-0.2,0.2],\"y\":[-2.0,-2.0]},\"selected\":null,\"selection_policy\":null},\"id\":\"3525794b-47d2-4a12-8f75-6ed217867f5a\",\"type\":\"ColumnDataSource\"},{\"attributes\":{\"formatter\":{\"id\":\"f0c2245c-ec54-42bf-aa8d-8bcd884cb105\",\"type\":\"BasicTickFormatter\"},\"plot\":{\"id\":\"a47c2f1b-64f5-4ad6-b81e-2f230bffcb0f\",\"subtype\":\"Figure\",\"type\":\"Plot\"},\"ticker\":{\"id\":\"cc773b23-9f28-429d-9e90-c37e13e90653\",\"type\":\"BasicTicker\"}},\"id\":\"5b8ff4b1-aba9-4ec9-ab1e-8c535775b930\",\"type\":\"LinearAxis\"},{\"attributes\":{\"data_source\":{\"id\":\"1d800e66-0ee6-4333-bf07-698faa9d11dc\",\"type\":\"ColumnDataSource\"},\"glyph\":{\"id\":\"a5a5711d-dc99-4491-bbf1-2656bc0e55ee\",\"type\":\"Line\"},\"hover_glyph\":null,\"muted_glyph\":null,\"nonselection_glyph\":{\"id\":\"bf4b64d5-75cf-4dac-b4a0-3acd27c4e1c3\",\"type\":\"Line\"},\"selection_glyph\":null,\"view\":{\"id\":\"18ffe421-2c5a-44a2-aad4-46b32e8f911d\",\"type\":\"CDSView\"}},\"id\":\"e5d6c1b8-fe08-4736-8b63-962e74bf0388\",\"type\":\"GlyphRenderer\"},{\"attributes\":{},\"id\":\"cc773b23-9f28-429d-9e90-c37e13e90653\",\"type\":\"BasicTicker\"},{\"attributes\":{\"fill_alpha\":{\"value\":0.1},\"fill_color\":{\"value\":\"#1f77b4\"},\"line_alpha\":{\"value\":0.1},\"line_color\":{\"value\":\"#1f77b4\"},\"x\":{\"field\":\"x\"},\"y\":{\"field\":\"y\"}},\"id\":\"2669b6e1-e6a7-4b59-8b72-3a110cf50c62\",\"type\":\"Circle\"},{\"attributes\":{\"line_alpha\":0.1,\"line_color\":\"#1f77b4\",\"line_width\":1.5,\"x\":{\"field\":\"x\"},\"y\":{\"field\":\"y\"}},\"id\":\"bf4b64d5-75cf-4dac-b4a0-3acd27c4e1c3\",\"type\":\"Line\"},{\"attributes\":{\"plot\":{\"id\":\"a47c2f1b-64f5-4ad6-b81e-2f230bffcb0f\",\"subtype\":\"Figure\",\"type\":\"Plot\"},\"ticker\":{\"id\":\"cc773b23-9f28-429d-9e90-c37e13e90653\",\"type\":\"BasicTicker\"}},\"id\":\"13848602-6066-4497-8eb1-010ed4ae7be3\",\"type\":\"Grid\"},{\"attributes\":{\"line_alpha\":0.1,\"line_color\":\"#1f77b4\",\"line_width\":1.5,\"x\":{\"field\":\"x\"},\"y\":{\"field\":\"y\"}},\"id\":\"18382fb4-f1dd-447e-8168-24df4100084c\",\"type\":\"Line\"},{\"attributes\":{\"axis_label\":\"\\u03b7 [m]\",\"axis_label_text_font_size\":{\"value\":\"18px\"},\"formatter\":{\"id\":\"a98f88d9-60f0-4a65-bede-58a759060332\",\"type\":\"BasicTickFormatter\"},\"plot\":{\"id\":\"a47c2f1b-64f5-4ad6-b81e-2f230bffcb0f\",\"subtype\":\"Figure\",\"type\":\"Plot\"},\"ticker\":{\"id\":\"5d7a28cd-bc09-4f7a-acf8-0e834ba11031\",\"type\":\"BasicTicker\"}},\"id\":\"c028666e-f0f1-4192-8311-0c0c4b4a9985\",\"type\":\"LinearAxis\"},{\"attributes\":{\"data_source\":{\"id\":\"4e0c0dac-9eba-4da5-8781-f5d934c8dcde\",\"type\":\"ColumnDataSource\"},\"glyph\":{\"id\":\"563d9333-1bc5-4c56-9f63-d3d1e9358f35\",\"type\":\"Line\"},\"hover_glyph\":null,\"muted_glyph\":null,\"nonselection_glyph\":{\"id\":\"18382fb4-f1dd-447e-8168-24df4100084c\",\"type\":\"Line\"},\"selection_glyph\":null,\"view\":{\"id\":\"2aeed65a-97e6-4bc1-b52c-f706812f6f06\",\"type\":\"CDSView\"}},\"id\":\"15a78119-6c9e-4f55-8257-1fde79486f23\",\"type\":\"GlyphRenderer\"},{\"attributes\":{},\"id\":\"5d7a28cd-bc09-4f7a-acf8-0e834ba11031\",\"type\":\"BasicTicker\"},{\"attributes\":{\"dimension\":1,\"plot\":{\"id\":\"a47c2f1b-64f5-4ad6-b81e-2f230bffcb0f\",\"subtype\":\"Figure\",\"type\":\"Plot\"},\"ticker\":{\"id\":\"5d7a28cd-bc09-4f7a-acf8-0e834ba11031\",\"type\":\"BasicTicker\"}},\"id\":\"e9c57506-e08c-47b7-8db7-1d6bf46f451c\",\"type\":\"Grid\"},{\"attributes\":{\"data_source\":{\"id\":\"3525794b-47d2-4a12-8f75-6ed217867f5a\",\"type\":\"ColumnDataSource\"},\"glyph\":{\"id\":\"ff14017d-1649-4c7d-aa97-0d02519b0474\",\"type\":\"Line\"},\"hover_glyph\":null,\"muted_glyph\":null,\"nonselection_glyph\":{\"id\":\"fa9205a0-4b39-4d6f-af43-6ee9880dc092\",\"type\":\"Line\"},\"selection_glyph\":null,\"view\":{\"id\":\"95ea45dd-f9ab-49cb-adf3-3d655a602029\",\"type\":\"CDSView\"}},\"id\":\"4d2cfb8d-a352-41b8-8a6b-3a6176a436fd\",\"type\":\"GlyphRenderer\"},{\"attributes\":{\"fill_color\":{\"value\":\"blue\"},\"line_color\":{\"value\":\"blue\"},\"x\":{\"field\":\"x\"},\"y\":{\"field\":\"y\"}},\"id\":\"2e093faa-5416-418a-9c48-9073f623a0ca\",\"type\":\"Circle\"},{\"attributes\":{\"data_source\":{\"id\":\"58e456e5-1020-4981-a6a9-ba08043d392b\",\"type\":\"ColumnDataSource\"},\"glyph\":{\"id\":\"2e093faa-5416-418a-9c48-9073f623a0ca\",\"type\":\"Circle\"},\"hover_glyph\":null,\"muted_glyph\":null,\"nonselection_glyph\":{\"id\":\"2669b6e1-e6a7-4b59-8b72-3a110cf50c62\",\"type\":\"Circle\"},\"selection_glyph\":null,\"view\":{\"id\":\"20eb8548-1d79-4a2f-9bcd-eeb47c54c189\",\"type\":\"CDSView\"}},\"id\":\"aa39011a-ea46-4c78-a92a-515631c0447d\",\"type\":\"GlyphRenderer\"},{\"attributes\":{\"callback\":null,\"column_names\":[\"x\",\"y\"],\"data\":{\"x\":[-0.2,0.2],\"y\":[-2.0,-2.0]},\"selected\":null,\"selection_policy\":null},\"id\":\"4e0c0dac-9eba-4da5-8781-f5d934c8dcde\",\"type\":\"ColumnDataSource\"},{\"attributes\":{\"line_alpha\":0.1,\"line_color\":\"#1f77b4\",\"line_width\":1.5,\"x\":{\"field\":\"x\"},\"y\":{\"field\":\"y\"}},\"id\":\"fa9205a0-4b39-4d6f-af43-6ee9880dc092\",\"type\":\"Line\"},{\"attributes\":{\"bottom_units\":\"screen\",\"fill_alpha\":{\"value\":0.5},\"fill_color\":{\"value\":\"lightgrey\"},\"left_units\":\"screen\",\"level\":\"overlay\",\"line_alpha\":{\"value\":1.0},\"line_color\":{\"value\":\"black\"},\"line_dash\":[4,4],\"line_width\":{\"value\":2},\"plot\":null,\"render_mode\":\"css\",\"right_units\":\"screen\",\"top_units\":\"screen\"},\"id\":\"090a5fe0-3457-43a2-9a40-b4159990adef\",\"type\":\"BoxAnnotation\"},{\"attributes\":{\"source\":{\"id\":\"4e0c0dac-9eba-4da5-8781-f5d934c8dcde\",\"type\":\"ColumnDataSource\"}},\"id\":\"2aeed65a-97e6-4bc1-b52c-f706812f6f06\",\"type\":\"CDSView\"},{\"attributes\":{},\"id\":\"924fb648-8d5b-409c-b161-1d7ced45f6a7\",\"type\":\"PanTool\"}],\"root_ids\":[\"a47c2f1b-64f5-4ad6-b81e-2f230bffcb0f\"]},\"title\":\"Bokeh Application\",\"version\":\"0.12.15\"}};\n",
       "  var render_items = [{\"docid\":\"bf1c19f1-7246-4e6e-bf87-b5e2be29e297\",\"elementid\":\"54345893-d654-40f0-b2f2-fba5b9f65dfe\",\"modelid\":\"a47c2f1b-64f5-4ad6-b81e-2f230bffcb0f\"}];\n",
       "  root.Bokeh.embed.embed_items_notebook(docs_json, render_items);\n",
       "\n",
       "  }\n",
       "  if (root.Bokeh !== undefined) {\n",
       "    embed_document(root);\n",
       "  } else {\n",
       "    var attempts = 0;\n",
       "    var timer = setInterval(function(root) {\n",
       "      if (root.Bokeh !== undefined) {\n",
       "        embed_document(root);\n",
       "        clearInterval(timer);\n",
       "      }\n",
       "      attempts++;\n",
       "      if (attempts > 100) {\n",
       "        console.log(\"Bokeh: ERROR: Unable to run BokehJS code because BokehJS library is missing\")\n",
       "        clearInterval(timer);\n",
       "      }\n",
       "    }, 10, root)\n",
       "  }\n",
       "})(window);"
      ],
      "application/vnd.bokehjs_exec.v0+json": ""
     },
     "metadata": {
      "application/vnd.bokehjs_exec.v0+json": {
       "id": "a47c2f1b-64f5-4ad6-b81e-2f230bffcb0f"
      }
     },
     "output_type": "display_data"
    }
   ],
   "source": [
    "x=np.zeros(np.size(z))\n",
    "\n",
    "hover = HoverTool(tooltips=[\n",
    "    (\"(x,y)\", \"($x, $y)\"),\n",
    "])\n",
    "\n",
    "p1 = figure(plot_width=600, plot_height=600,tools=['pan,wheel_zoom,box_zoom,reset',hover],\n",
    "           title=\"Mouse over the dots\",x_range=(-0.7, 0.7))\n",
    "p1.scatter(x,eta, color=\"blue\", marker='circle',legend='Centroids')\n",
    "\n",
    "for i in range(0,np.size(data.index)):\n",
    "    if data['Type'][i] == 'L':\n",
    "        c = 'red'\n",
    "        l = 'layer'\n",
    "    elif data['Type'][i] == 'M':\n",
    "        c = 'green'\n",
    "        l = 'meas. point'\n",
    "        \n",
    "    p1.line([-0.2,0.2], [data['eta'][i],data['eta'][i]], color=c,line_width=lineWidth,legend=l)\n",
    "p1.line([-0.2,0.2], [data['eta'][data['eta'].size-1],data['eta'][data['eta'].size-1]], color=\"red\",line_width=lineWidth,legend='layer')\n",
    "\n",
    "p1.yaxis.axis_label = '\\u03b7 [m]'\n",
    "p1.yaxis.axis_label_text_font_size = str(labelSize) + \"px\"\n",
    "p1.title.text = 'Control volume centroids'\n",
    "p1.title.align = \"center\"\n",
    "p1.title.text_font_size = str(titleSize) + \"px\"\n",
    "\n",
    "p1.legend.location = \"top_left\"\n",
    "p1.legend.label_text_font_size = str(legendSize) + \"px\"\n",
    "p1.legend.click_policy=\"hide\"\n",
    "\n",
    "show(p1)"
   ]
  },
  {
   "cell_type": "code",
   "execution_count": 8,
   "metadata": {},
   "outputs": [
    {
     "data": {
      "text/html": [
       "\n",
       "<div class=\"bk-root\">\n",
       "    <div class=\"bk-plotdiv\" id=\"5b7707d1-40ed-4d01-8429-feb357d448a5\"></div>\n",
       "</div>"
      ]
     },
     "metadata": {},
     "output_type": "display_data"
    },
    {
     "data": {
      "application/javascript": [
       "(function(root) {\n",
       "  function embed_document(root) {\n",
       "    \n",
       "  var docs_json = {\"78cad946-178d-4b99-b9db-ac4f824b0762\":{\"roots\":{\"references\":[{\"attributes\":{\"callback\":null,\"column_names\":[\"x\",\"y\"],\"data\":{\"x\":[-0.2,0.2],\"y\":[-0.6,-0.6]},\"selected\":null,\"selection_policy\":null},\"id\":\"7082d5cb-6bca-406b-af11-b3343b1a1152\",\"type\":\"ColumnDataSource\"},{\"attributes\":{\"line_alpha\":0.1,\"line_color\":\"#1f77b4\",\"line_width\":1.5,\"x\":{\"field\":\"x\"},\"y\":{\"field\":\"y\"}},\"id\":\"e5f41c93-9bde-4a61-8ae0-1ac69694913d\",\"type\":\"Line\"},{\"attributes\":{\"label\":{\"value\":\"layer\"},\"renderers\":[{\"id\":\"43b681c3-fe42-4b77-9f30-589dc296cdf0\",\"type\":\"GlyphRenderer\"},{\"id\":\"5af4bc74-2530-47ee-b835-748594049e33\",\"type\":\"GlyphRenderer\"},{\"id\":\"94ad6f74-8878-4228-a3db-a940c7d09515\",\"type\":\"GlyphRenderer\"},{\"id\":\"c6dde989-18ce-4a03-ae08-3594a63eab16\",\"type\":\"GlyphRenderer\"},{\"id\":\"de730171-0dbd-46c6-b922-e82064d0d258\",\"type\":\"GlyphRenderer\"}]},\"id\":\"ca024243-0f7c-4034-8418-cc3ce8b59a47\",\"type\":\"LegendItem\"},{\"attributes\":{\"align\":\"center\",\"plot\":null,\"text\":\"Control volume intefaces\",\"text_font_size\":{\"value\":\"22px\"}},\"id\":\"9028eee4-78e7-4723-a076-3cd8541a00a2\",\"type\":\"Title\"},{\"attributes\":{\"line_alpha\":0.1,\"line_color\":\"#1f77b4\",\"line_width\":1.5,\"x\":{\"field\":\"x\"},\"y\":{\"field\":\"y\"}},\"id\":\"d4837b18-a0fc-46cb-acfb-7617537e571f\",\"type\":\"Line\"},{\"attributes\":{\"fill_alpha\":{\"value\":0.1},\"fill_color\":{\"value\":\"#1f77b4\"},\"line_alpha\":{\"value\":0.1},\"line_color\":{\"value\":\"#1f77b4\"},\"x\":{\"field\":\"x\"},\"y\":{\"field\":\"y\"}},\"id\":\"5ed404c2-4ab7-4f80-a98a-3a56c1288a58\",\"type\":\"Cross\"},{\"attributes\":{\"source\":{\"id\":\"7082d5cb-6bca-406b-af11-b3343b1a1152\",\"type\":\"ColumnDataSource\"}},\"id\":\"a4f662c1-1c3a-46b9-8f35-624b84645e1f\",\"type\":\"CDSView\"},{\"attributes\":{\"callback\":null,\"tooltips\":[[\"(x,y)\",\"($x, $y)\"]]},\"id\":\"ecd7bf03-9221-4885-a357-92dc3db4d695\",\"type\":\"HoverTool\"},{\"attributes\":{\"line_color\":\"red\",\"line_width\":1.5,\"x\":{\"field\":\"x\"},\"y\":{\"field\":\"y\"}},\"id\":\"340ef67a-be6a-44d0-867d-9ba2ddaf2911\",\"type\":\"Line\"},{\"attributes\":{\"callback\":null,\"column_names\":[\"x\",\"y\"],\"data\":{\"x\":{\"__ndarray__\":\"AAAAAAAAAAAAAAAAAAAAAAAAAAAAAAAAAAAAAAAAAAAAAAAAAAAAAAAAAAAAAAAAAAAAAAAAAAAAAAAAAAAAAAAAAAAAAAAAAAAAAAAAAAAAAAAAAAAAAAAAAAAAAAAAAAAAAAAAAAAAAAAAAAAAAAAAAAAAAAAAAAAAAAAAAAAAAAAAAAAAAAAAAAAAAAAAAAAAAAAAAAAAAAAAAAAAAAAAAAAAAAAAAAAAAAAAAAAAAAAAAAAAAAAAAAAAAAAAAAAAAAAAAAAAAAAAAAAAAAAAAAAAAAAAAAAAAAAAAAAAAAAAAAAAAAAAAAAAAAAAAAAAAAAAAAAAAAAAAAAAAAAAAAAAAAAAAAAAAAAAAAAAAAAAAAAAAAAAAAAAAAAAAAAAAAAAAAAAAAAAAAAAAAAAAAAAAAAAAAAAAAAAAAAAAAAAAAAAAAAAAAAAAAAAAAAAAAAAAAAAAAAAAAAAAAAAAAAAAAAAAAAAAAAAAAAAAAAAAAAAAAAAAAAAAAAAAAAAAAAAAAAAAAAAAAAAAAAAAAAAAAAAAAAAAAAAAAAAAAAAAAAAAAAAAAAAAAAAAAAAAAAAAAAAAAAAAAAAAAAAAAAAAAAAAAAAAAAAAAAAAAAAAAAAAAAAAAAAAAAAAAAAAAAAAAAAAAAAAAAAAAAAAAAAAAAAAAAAAAAAAAAAAAAAAAAAAAAAAAAAAAAAAAAAAAAAAAAAAAAAAAAAAAAAAAAAAAAAAAAAAAAAAAAAAAAAAAAAAAAAAAAAAAAAAAAAAAAAAAAAAAAAAAAAAAAAAAAAAAAAAAAAAAAAAAAAAAAAAAAAAAAAAAAAAAAAAAAAAAAAAAAAAAAAAAAAAAAAAAAAAAAAAAAAAAAAAAAAAAAAAAAAAAAAAAAAAAAAAAAAAAAAAAAAAAAAAAAAAAAAAAAAAAAAAAAAAAAAAAAAAAAAAAAAAAAAAAAAAAAAAAAAAAAAAAAAAAAAAAAAAAAAAAAAAAAAAAAAAAAAAAAAAAAAAAAAAAAAAAAAAAAAAAAAAAAAAAAAAAAAAAAAAAAAAAAAAAAAAAAAAAAAAAAAAAAAAAAAAAAAAAAAAAAAAAAAAAAAAAAAAAAAAAAAAAAAAAAAAAAAAAAAAAAAAAAAAAAAAAAAAAAAAAAAAAAAAAAAAAAAAAAAAAAAAAAAAAAAAAAAAAAAAAAAAAAAAAAAAAAAAAAAAAAAAAAAAAAAAAAAAAAAAAAAAAAAAAAAAAAAAAAAAAAAAAAAAAAAAAAAAAAAAAAAAAAAAAAAAAAAAAAAAAAAAAAAAAAAAAAAAAAAAAAAAAAAAAAAAAAAAAAAAAAAAAAAAAAAAAAAAAAAAAAAAAAAAAAAAAAAAAAAAAAAAAAAAAAAAAAAAAAAAAAAAAAAAAAAAAAAAAAAAAAAAAAAAAAAAAAAAAAAAAAAAAAAAAAAAAAAAAAAAAAAAAAAAAAAAAAAAAAAAAAAAAAAAAAAAAAAAAAAAAAAAAAAAAAAAAAAAAAAAAAAAAAAAAAAAAAAAAAAAAAAAAAAAAAAAAAAAAAAAAAAAAAAAAAAAAAAAAAAAAAAAAAAAAAAAAAAAAAAAAAAAAAAAAAAAAAAAAAAAAAAAAAAAAAAAAAAAAAAAAAAAAAAAAAAAAAAAAAAAAAAAAAAAAAAAAAAAAAAAAAAAAAAAAAAAAAAAAAAAAAAAAAAAAAAAAAAAAAAAAAAAAAAAAAAAAAAAAAAAAAAAAAAAAAAAAAAAAAAAAAAAAAAAAAAAAAAAAAAAAAAAAAAAAAAAAAAAAAAAAAAAAAAAAAAAAAAAAAAAAAAAAAAAAAAAAAAAAAAAAAAAAAAAAAAAAAAAAAAAAAAAAAAAAAAAAAAAAAAAAAAAAAAAAAAAAAAAAAAAAAAAAAAAAAAAAAAAAAAAAAAAAAAAAAAAAAAAAAAAAAAAAAAAAAAAAAAAAAAAAAAAAAAAAAAAAAAAAAAAAAAAAAAAAAAAAAAAAAAAAAAAAAAAAAAAAAAAAAAAAAAAAAAAAAAAAAAAAAAAAAAAAAAAAAAAAAAAAAAAAAAAAAAAAAAAAAAAAAAAAAAAAAAAAAAAAAAAAAAAAAAAAAAAAAAAAAAAAAAAAAAAAAAAAAAAAAAAAAAAAAAAAAAAAAAAAAAAAAAAAAAAAAAAAAAAAAAAAAAAAAAAAAAAAAAAAAAAAAAAAAAAAAAAAAAAAAAAAAAAAAAAAAAAAAAAAAAAAAAAAAAAAAAAAAAAAAAAAAAAAAAAAAAAAAAAAAAAAAAAAAAAAAAAAAAAAAAAAAAAAAAAAAAAAAAAAAAAAAAAAAAAAAAAAAAAAAAAAAAAAAAAAAAAAAAAAAAAAAAAAAAAAAAAAAAAAAAAAAAAAAAAAAAAAAAAAAAAAAAAAAAAAAAAAAAAAAAAAAAAAAAAAAAAAAAAAAAAAAAAAAAAAAAAAAAAAAAAAAAAAAAAAAAAAAAAAAAAAAAAAAAAAAAAAAAAAAAAAAAAAAAAAAAAAAAAAAAAAAAAAAAAAAAAAAAAAAAAAAAAAAAAAAAAAAAAAAAAAAAAAAAAAAAAAAAAAAAAAAAAAAAAAAAAAAAAAAAAAAAAAAAAAAAAAAAAAAAAAAAAAAAAAAAAAAAAAAAAAAAAAAAAAAAAAAAAAAAAAAAAAAAAAAAAAAAAAAAAAAAAAAAAAAAAAAAAAAAAAAAAAAAAAAAAAAAAAAAAAAAAAAAAAAAAAAAAAAAAAAAAAAAAAAAAAAAAAAAAAAAAAAAAAAAAAAAAAAAAAAAAAAAAAAAAAAAAAAAAAAAAAAAAAAAAAAAAAAAAAAAAAAAAAAAAAAAAAAAAAAAAAAAAAAAAAAAAAAAAAAAAAAAAAAAAAAAAAAAAAAAAAAAAAAAAAAAAAAAAAAAAAAAAAAAAAAAAAAAAAAAAAAAAAAAAAAAAAAAAAAAAAAAAAAAAAAAAAAAAAAAAAAAAAAAAAAAAAAAAAAAAAAAAAAAAAAAAAAAAAAAAAAAAAAAAAAAAAAAAAAAAAAAAAAAAAAAAAAAAAAAAAAAAAAAAAAAAAAAAAAAAAAAAAAAAAAAAAAAAAAAAAAAAAAAAAAAAAAAAAAAAAAAAAAAAAAAAAAAAAAAAAAAAAAAAAAAAAAAAAAAAAAAAAAAAAAAAAAAAAAAAAAAAAAAAAAAAAAAAAAAAAAAAAAAAAAAAAAAAAAAAAAAAAAAAAAAAAAAAAAAAAAAAAA=\",\"dtype\":\"float64\",\"shape\":[301]},\"y\":[-2.0,-1.992,-1.984,-1.976,-1.968,-1.96,-1.952,-1.944,-1.936,-1.928,-1.92,-1.912,-1.904,-1.896,-1.888,-1.88,-1.8719999999999999,-1.8639999999999999,-1.8559999999999999,-1.848,-1.84,-1.832,-1.824,-1.816,-1.808,-1.8,-1.792,-1.784,-1.776,-1.768,-1.76,-1.752,-1.744,-1.736,-1.728,-1.72,-1.712,-1.704,-1.696,-1.688,-1.68,-1.672,-1.664,-1.656,-1.6480000000000001,-1.6400000000000001,-1.6320000000000001,-1.624,-1.616,-1.608,-1.6,-1.592,-1.584,-1.576,-1.568,-1.56,-1.552,-1.544,-1.536,-1.528,-1.52,-1.512,-1.504,-1.496,-1.488,-1.48,-1.472,-1.464,-1.456,-1.448,-1.44,-1.432,-1.424,-1.416,-1.408,-1.4,-1.392,-1.384,-1.376,-1.3679999999999999,-1.3599999999999999,-1.3519999999999999,-1.3439999999999999,-1.3359999999999999,-1.3279999999999998,-1.3199999999999998,-1.3119999999999998,-1.3039999999999998,-1.296,-1.288,-1.28,-1.272,-1.264,-1.256,-1.248,-1.24,-1.232,-1.224,-1.216,-1.208,-1.2,-1.194,-1.188,-1.182,-1.176,-1.17,-1.164,-1.158,-1.152,-1.146,-1.14,-1.134,-1.128,-1.1219999999999999,-1.1159999999999999,-1.1099999999999999,-1.1039999999999999,-1.0979999999999999,-1.0919999999999999,-1.0859999999999999,-1.08,-1.0739999999999998,-1.068,-1.0619999999999998,-1.056,-1.05,-1.044,-1.038,-1.032,-1.026,-1.02,-1.014,-1.008,-1.002,-0.996,-0.99,-0.984,-0.978,-0.972,-0.966,-0.96,-0.954,-0.948,-0.942,-0.9359999999999999,-0.9299999999999999,-0.9239999999999999,-0.9179999999999999,-0.9119999999999999,-0.9059999999999999,-0.8999999999999999,-0.8939999999999999,-0.8879999999999999,-0.8819999999999999,-0.8759999999999999,-0.8699999999999999,-0.8639999999999999,-0.8579999999999999,-0.8519999999999999,-0.846,-0.84,-0.834,-0.828,-0.822,-0.816,-0.8099999999999999,-0.8039999999999999,-0.7979999999999999,-0.7919999999999999,-0.7859999999999999,-0.78,-0.774,-0.768,-0.762,-0.756,-0.75,-0.744,-0.738,-0.732,-0.726,-0.72,-0.714,-0.708,-0.702,-0.696,-0.69,-0.6839999999999999,-0.6779999999999999,-0.6719999999999999,-0.6659999999999999,-0.6599999999999999,-0.6539999999999999,-0.6479999999999999,-0.6419999999999999,-0.6359999999999999,-0.6299999999999999,-0.6239999999999999,-0.618,-0.612,-0.606,-0.6,-0.594,-0.588,-0.582,-0.576,-0.57,-0.564,-0.5579999999999999,-0.5519999999999999,-0.5459999999999999,-0.54,-0.534,-0.528,-0.522,-0.516,-0.51,-0.504,-0.498,-0.492,-0.486,-0.48,-0.474,-0.46799999999999997,-0.46199999999999997,-0.45599999999999996,-0.44999999999999996,-0.44399999999999995,-0.43799999999999994,-0.43199999999999994,-0.42599999999999993,-0.42,-0.414,-0.408,-0.40199999999999997,-0.39599999999999996,-0.39,-0.384,-0.378,-0.372,-0.366,-0.36,-0.354,-0.348,-0.34199999999999997,-0.33599999999999997,-0.32999999999999996,-0.32399999999999995,-0.31799999999999995,-0.31199999999999994,-0.306,-0.3,-0.294,-0.288,-0.282,-0.27599999999999997,-0.26999999999999996,-0.26399999999999996,-0.25799999999999995,-0.25199999999999995,-0.246,-0.24,-0.23399999999999999,-0.22799999999999998,-0.22199999999999998,-0.21599999999999997,-0.20999999999999996,-0.20399999999999996,-0.19799999999999995,-0.19199999999999995,-0.18599999999999994,-0.18,-0.174,-0.16799999999999998,-0.16199999999999998,-0.15599999999999997,-0.14999999999999997,-0.14399999999999996,-0.13799999999999996,-0.13199999999999995,-0.12599999999999995,-0.12,-0.11399999999999999,-0.10799999999999998,-0.10199999999999998,-0.09599999999999997,-0.08999999999999997,-0.08399999999999996,-0.07799999999999996,-0.07199999999999995,-0.06599999999999995,-0.05999999999999994,-0.05399999999999994,-0.04799999999999993,-0.041999999999999926,-0.03599999999999992,-0.029999999999999916,-0.02399999999999991,-0.018000000000000016,-0.01200000000000001,-0.006000000000000005,0.0]},\"selected\":null,\"selection_policy\":null},\"id\":\"6f606c8f-28e8-46bb-bdfa-e9fc59aac7c7\",\"type\":\"ColumnDataSource\"},{\"attributes\":{\"callback\":null,\"column_names\":[\"x\",\"y\"],\"data\":{\"x\":[-0.2,0.2],\"y\":[-1.2,-1.2]},\"selected\":null,\"selection_policy\":null},\"id\":\"83688a61-008a-4ab2-bb20-7a9a167e6b56\",\"type\":\"ColumnDataSource\"},{\"attributes\":{\"below\":[{\"id\":\"60bb1975-85c1-40dd-a5f2-9235ba279efd\",\"type\":\"LinearAxis\"}],\"left\":[{\"id\":\"61e0f7af-6e64-413f-b3e9-329ea747b7f9\",\"type\":\"LinearAxis\"}],\"renderers\":[{\"id\":\"60bb1975-85c1-40dd-a5f2-9235ba279efd\",\"type\":\"LinearAxis\"},{\"id\":\"6037787a-ab60-4373-816a-5e2e325c4deb\",\"type\":\"Grid\"},{\"id\":\"61e0f7af-6e64-413f-b3e9-329ea747b7f9\",\"type\":\"LinearAxis\"},{\"id\":\"562c99e7-a1a6-4e8f-8269-fc3526ad729e\",\"type\":\"Grid\"},{\"id\":\"2f34c2f2-53e6-49ad-8bb3-bcb908c810ca\",\"type\":\"BoxAnnotation\"},{\"id\":\"e68e8371-3ae3-49d0-ae0e-6098e98fc39d\",\"type\":\"Legend\"},{\"id\":\"46bffbc1-85af-41d1-b1dd-9ad62d573234\",\"type\":\"GlyphRenderer\"},{\"id\":\"43b681c3-fe42-4b77-9f30-589dc296cdf0\",\"type\":\"GlyphRenderer\"},{\"id\":\"5af4bc74-2530-47ee-b835-748594049e33\",\"type\":\"GlyphRenderer\"},{\"id\":\"94ad6f74-8878-4228-a3db-a940c7d09515\",\"type\":\"GlyphRenderer\"},{\"id\":\"c6dde989-18ce-4a03-ae08-3594a63eab16\",\"type\":\"GlyphRenderer\"},{\"id\":\"de730171-0dbd-46c6-b922-e82064d0d258\",\"type\":\"GlyphRenderer\"}],\"title\":{\"id\":\"9028eee4-78e7-4723-a076-3cd8541a00a2\",\"type\":\"Title\"},\"toolbar\":{\"id\":\"462d6a58-3f8e-4804-a3d9-065e9987e296\",\"type\":\"Toolbar\"},\"x_range\":{\"id\":\"fed1be94-c97b-438a-b161-21763e6f6315\",\"type\":\"Range1d\"},\"x_scale\":{\"id\":\"951df8ec-1e3b-423f-a54e-a23bf111ca74\",\"type\":\"LinearScale\"},\"y_range\":{\"id\":\"66c3396e-721b-4dca-ac8f-e32d2f28c20d\",\"type\":\"DataRange1d\"},\"y_scale\":{\"id\":\"341567d7-6e93-460e-94d8-405fe8fb6430\",\"type\":\"LinearScale\"}},\"id\":\"8c7c5021-8256-4825-80a3-acfc716835ba\",\"subtype\":\"Figure\",\"type\":\"Plot\"},{\"attributes\":{\"data_source\":{\"id\":\"7082d5cb-6bca-406b-af11-b3343b1a1152\",\"type\":\"ColumnDataSource\"},\"glyph\":{\"id\":\"340ef67a-be6a-44d0-867d-9ba2ddaf2911\",\"type\":\"Line\"},\"hover_glyph\":null,\"muted_glyph\":null,\"nonselection_glyph\":{\"id\":\"d4837b18-a0fc-46cb-acfb-7617537e571f\",\"type\":\"Line\"},\"selection_glyph\":null,\"view\":{\"id\":\"a4f662c1-1c3a-46b9-8f35-624b84645e1f\",\"type\":\"CDSView\"}},\"id\":\"5af4bc74-2530-47ee-b835-748594049e33\",\"type\":\"GlyphRenderer\"},{\"attributes\":{\"callback\":null,\"end\":0.7,\"start\":-0.7},\"id\":\"fed1be94-c97b-438a-b161-21763e6f6315\",\"type\":\"Range1d\"},{\"attributes\":{},\"id\":\"951df8ec-1e3b-423f-a54e-a23bf111ca74\",\"type\":\"LinearScale\"},{\"attributes\":{\"source\":{\"id\":\"83688a61-008a-4ab2-bb20-7a9a167e6b56\",\"type\":\"ColumnDataSource\"}},\"id\":\"1c6f0f77-ac55-457f-a1c1-e02500044fce\",\"type\":\"CDSView\"},{\"attributes\":{},\"id\":\"341567d7-6e93-460e-94d8-405fe8fb6430\",\"type\":\"LinearScale\"},{\"attributes\":{\"line_color\":\"red\",\"line_width\":1.5,\"x\":{\"field\":\"x\"},\"y\":{\"field\":\"y\"}},\"id\":\"d9073802-b180-49db-956f-b6bc010b63bb\",\"type\":\"Line\"},{\"attributes\":{\"callback\":null},\"id\":\"66c3396e-721b-4dca-ac8f-e32d2f28c20d\",\"type\":\"DataRange1d\"},{\"attributes\":{\"line_color\":\"red\",\"line_width\":1.5,\"x\":{\"field\":\"x\"},\"y\":{\"field\":\"y\"}},\"id\":\"000ed472-8f2d-4c9b-9e6b-324550942f75\",\"type\":\"Line\"},{\"attributes\":{\"line_color\":\"red\",\"line_width\":1.5,\"x\":{\"field\":\"x\"},\"y\":{\"field\":\"y\"}},\"id\":\"af3c818c-53f5-4f23-860f-2b1c8704f9e4\",\"type\":\"Line\"},{\"attributes\":{\"source\":{\"id\":\"93ed9944-3348-49da-b4bb-1a1dfa9e1c12\",\"type\":\"ColumnDataSource\"}},\"id\":\"b0d8fbd6-46ca-4ea9-ade1-37bf9fa9ce31\",\"type\":\"CDSView\"},{\"attributes\":{\"active_drag\":\"auto\",\"active_inspect\":\"auto\",\"active_scroll\":\"auto\",\"active_tap\":\"auto\",\"tools\":[{\"id\":\"ecd7bf03-9221-4885-a357-92dc3db4d695\",\"type\":\"HoverTool\"},{\"id\":\"deb61361-8c93-407e-8534-c16e421e472c\",\"type\":\"PanTool\"},{\"id\":\"9f4f2c83-5bb5-4877-8325-7dc80ca99201\",\"type\":\"WheelZoomTool\"},{\"id\":\"5c02bd46-01d4-4d8b-9266-06db02706f20\",\"type\":\"BoxZoomTool\"},{\"id\":\"589c3d94-ee8c-4da7-9545-ab5c35fe6ea8\",\"type\":\"ResetTool\"}]},\"id\":\"462d6a58-3f8e-4804-a3d9-065e9987e296\",\"type\":\"Toolbar\"},{\"attributes\":{\"callback\":null,\"column_names\":[\"x\",\"y\"],\"data\":{\"x\":[-0.2,0.2],\"y\":[-2.0,-2.0]},\"selected\":null,\"selection_policy\":null},\"id\":\"93ed9944-3348-49da-b4bb-1a1dfa9e1c12\",\"type\":\"ColumnDataSource\"},{\"attributes\":{\"plot\":{\"id\":\"8c7c5021-8256-4825-80a3-acfc716835ba\",\"subtype\":\"Figure\",\"type\":\"Plot\"},\"ticker\":{\"id\":\"cdb5e1b5-6bd3-41b2-ab09-f05f6e0fec7b\",\"type\":\"BasicTicker\"}},\"id\":\"6037787a-ab60-4373-816a-5e2e325c4deb\",\"type\":\"Grid\"},{\"attributes\":{\"data_source\":{\"id\":\"83688a61-008a-4ab2-bb20-7a9a167e6b56\",\"type\":\"ColumnDataSource\"},\"glyph\":{\"id\":\"d9073802-b180-49db-956f-b6bc010b63bb\",\"type\":\"Line\"},\"hover_glyph\":null,\"muted_glyph\":null,\"nonselection_glyph\":{\"id\":\"29620b02-7e47-45d0-b033-fc7903cfaa33\",\"type\":\"Line\"},\"selection_glyph\":null,\"view\":{\"id\":\"1c6f0f77-ac55-457f-a1c1-e02500044fce\",\"type\":\"CDSView\"}},\"id\":\"94ad6f74-8878-4228-a3db-a940c7d09515\",\"type\":\"GlyphRenderer\"},{\"attributes\":{\"formatter\":{\"id\":\"6ea498da-b2f4-4915-82a1-c9dcb112613b\",\"type\":\"BasicTickFormatter\"},\"plot\":{\"id\":\"8c7c5021-8256-4825-80a3-acfc716835ba\",\"subtype\":\"Figure\",\"type\":\"Plot\"},\"ticker\":{\"id\":\"cdb5e1b5-6bd3-41b2-ab09-f05f6e0fec7b\",\"type\":\"BasicTicker\"}},\"id\":\"60bb1975-85c1-40dd-a5f2-9235ba279efd\",\"type\":\"LinearAxis\"},{\"attributes\":{\"line_alpha\":0.1,\"line_color\":\"#1f77b4\",\"line_width\":1.5,\"x\":{\"field\":\"x\"},\"y\":{\"field\":\"y\"}},\"id\":\"29620b02-7e47-45d0-b033-fc7903cfaa33\",\"type\":\"Line\"},{\"attributes\":{},\"id\":\"cdb5e1b5-6bd3-41b2-ab09-f05f6e0fec7b\",\"type\":\"BasicTicker\"},{\"attributes\":{\"data_source\":{\"id\":\"6813d234-c7d6-41b7-9863-b06c1643c899\",\"type\":\"ColumnDataSource\"},\"glyph\":{\"id\":\"22bc966d-3b17-4570-af98-196a9237941e\",\"type\":\"Line\"},\"hover_glyph\":null,\"muted_glyph\":null,\"nonselection_glyph\":{\"id\":\"e5f41c93-9bde-4a61-8ae0-1ac69694913d\",\"type\":\"Line\"},\"selection_glyph\":null,\"view\":{\"id\":\"6a2f6cac-4db1-4c79-8de4-24b5930ee246\",\"type\":\"CDSView\"}},\"id\":\"de730171-0dbd-46c6-b922-e82064d0d258\",\"type\":\"GlyphRenderer\"},{\"attributes\":{\"axis_label\":\"\\u03b7 [m]\",\"axis_label_text_font_size\":{\"value\":\"18px\"},\"formatter\":{\"id\":\"dd51d42a-e6c5-429e-b778-8693a63f31f8\",\"type\":\"BasicTickFormatter\"},\"plot\":{\"id\":\"8c7c5021-8256-4825-80a3-acfc716835ba\",\"subtype\":\"Figure\",\"type\":\"Plot\"},\"ticker\":{\"id\":\"370f6757-8ca9-40cd-8f5e-dd886024fd26\",\"type\":\"BasicTicker\"}},\"id\":\"61e0f7af-6e64-413f-b3e9-329ea747b7f9\",\"type\":\"LinearAxis\"},{\"attributes\":{},\"id\":\"370f6757-8ca9-40cd-8f5e-dd886024fd26\",\"type\":\"BasicTicker\"},{\"attributes\":{\"callback\":null,\"column_names\":[\"x\",\"y\"],\"data\":{\"x\":[-0.2,0.2],\"y\":[-2.0,-2.0]},\"selected\":null,\"selection_policy\":null},\"id\":\"6813d234-c7d6-41b7-9863-b06c1643c899\",\"type\":\"ColumnDataSource\"},{\"attributes\":{\"line_color\":\"red\",\"line_width\":1.5,\"x\":{\"field\":\"x\"},\"y\":{\"field\":\"y\"}},\"id\":\"22bc966d-3b17-4570-af98-196a9237941e\",\"type\":\"Line\"},{\"attributes\":{\"dimension\":1,\"plot\":{\"id\":\"8c7c5021-8256-4825-80a3-acfc716835ba\",\"subtype\":\"Figure\",\"type\":\"Plot\"},\"ticker\":{\"id\":\"370f6757-8ca9-40cd-8f5e-dd886024fd26\",\"type\":\"BasicTicker\"}},\"id\":\"562c99e7-a1a6-4e8f-8269-fc3526ad729e\",\"type\":\"Grid\"},{\"attributes\":{\"data_source\":{\"id\":\"93ed9944-3348-49da-b4bb-1a1dfa9e1c12\",\"type\":\"ColumnDataSource\"},\"glyph\":{\"id\":\"000ed472-8f2d-4c9b-9e6b-324550942f75\",\"type\":\"Line\"},\"hover_glyph\":null,\"muted_glyph\":null,\"nonselection_glyph\":{\"id\":\"4b6a807e-112a-46fe-8faa-44c971773895\",\"type\":\"Line\"},\"selection_glyph\":null,\"view\":{\"id\":\"b0d8fbd6-46ca-4ea9-ade1-37bf9fa9ce31\",\"type\":\"CDSView\"}},\"id\":\"c6dde989-18ce-4a03-ae08-3594a63eab16\",\"type\":\"GlyphRenderer\"},{\"attributes\":{\"fill_color\":{\"value\":\"blue\"},\"line_color\":{\"value\":\"blue\"},\"x\":{\"field\":\"x\"},\"y\":{\"field\":\"y\"}},\"id\":\"7d5a2917-88c9-43e8-9984-4e6cc1ac3f55\",\"type\":\"Cross\"},{\"attributes\":{\"line_alpha\":0.1,\"line_color\":\"#1f77b4\",\"line_width\":1.5,\"x\":{\"field\":\"x\"},\"y\":{\"field\":\"y\"}},\"id\":\"4b6a807e-112a-46fe-8faa-44c971773895\",\"type\":\"Line\"},{\"attributes\":{\"bottom_units\":\"screen\",\"fill_alpha\":{\"value\":0.5},\"fill_color\":{\"value\":\"lightgrey\"},\"left_units\":\"screen\",\"level\":\"overlay\",\"line_alpha\":{\"value\":1.0},\"line_color\":{\"value\":\"black\"},\"line_dash\":[4,4],\"line_width\":{\"value\":2},\"plot\":null,\"render_mode\":\"css\",\"right_units\":\"screen\",\"top_units\":\"screen\"},\"id\":\"2f34c2f2-53e6-49ad-8bb3-bcb908c810ca\",\"type\":\"BoxAnnotation\"},{\"attributes\":{},\"id\":\"deb61361-8c93-407e-8534-c16e421e472c\",\"type\":\"PanTool\"},{\"attributes\":{\"source\":{\"id\":\"6f606c8f-28e8-46bb-bdfa-e9fc59aac7c7\",\"type\":\"ColumnDataSource\"}},\"id\":\"d653e72e-3d42-489f-9295-1efe8f781a76\",\"type\":\"CDSView\"},{\"attributes\":{},\"id\":\"9f4f2c83-5bb5-4877-8325-7dc80ca99201\",\"type\":\"WheelZoomTool\"},{\"attributes\":{\"overlay\":{\"id\":\"2f34c2f2-53e6-49ad-8bb3-bcb908c810ca\",\"type\":\"BoxAnnotation\"}},\"id\":\"5c02bd46-01d4-4d8b-9266-06db02706f20\",\"type\":\"BoxZoomTool\"},{\"attributes\":{\"source\":{\"id\":\"6813d234-c7d6-41b7-9863-b06c1643c899\",\"type\":\"ColumnDataSource\"}},\"id\":\"6a2f6cac-4db1-4c79-8de4-24b5930ee246\",\"type\":\"CDSView\"},{\"attributes\":{},\"id\":\"589c3d94-ee8c-4da7-9545-ab5c35fe6ea8\",\"type\":\"ResetTool\"},{\"attributes\":{\"data_source\":{\"id\":\"6f606c8f-28e8-46bb-bdfa-e9fc59aac7c7\",\"type\":\"ColumnDataSource\"},\"glyph\":{\"id\":\"7d5a2917-88c9-43e8-9984-4e6cc1ac3f55\",\"type\":\"Cross\"},\"hover_glyph\":null,\"muted_glyph\":null,\"nonselection_glyph\":{\"id\":\"5ed404c2-4ab7-4f80-a98a-3a56c1288a58\",\"type\":\"Cross\"},\"selection_glyph\":null,\"view\":{\"id\":\"d653e72e-3d42-489f-9295-1efe8f781a76\",\"type\":\"CDSView\"}},\"id\":\"46bffbc1-85af-41d1-b1dd-9ad62d573234\",\"type\":\"GlyphRenderer\"},{\"attributes\":{},\"id\":\"dd51d42a-e6c5-429e-b778-8693a63f31f8\",\"type\":\"BasicTickFormatter\"},{\"attributes\":{},\"id\":\"6ea498da-b2f4-4915-82a1-c9dcb112613b\",\"type\":\"BasicTickFormatter\"},{\"attributes\":{\"callback\":null,\"column_names\":[\"x\",\"y\"],\"data\":{\"x\":[-0.2,0.2],\"y\":[0.0,0.0]},\"selected\":null,\"selection_policy\":null},\"id\":\"e1d65e56-a0b2-47b1-bf2a-c5a1082e57a5\",\"type\":\"ColumnDataSource\"},{\"attributes\":{\"click_policy\":\"hide\",\"items\":[{\"id\":\"6d0b4a19-05cc-4510-bf7c-c67f80fbb517\",\"type\":\"LegendItem\"},{\"id\":\"ca024243-0f7c-4034-8418-cc3ce8b59a47\",\"type\":\"LegendItem\"}],\"label_text_font_size\":{\"value\":\"14px\"},\"location\":\"top_left\",\"plot\":{\"id\":\"8c7c5021-8256-4825-80a3-acfc716835ba\",\"subtype\":\"Figure\",\"type\":\"Plot\"}},\"id\":\"e68e8371-3ae3-49d0-ae0e-6098e98fc39d\",\"type\":\"Legend\"},{\"attributes\":{\"line_alpha\":0.1,\"line_color\":\"#1f77b4\",\"line_width\":1.5,\"x\":{\"field\":\"x\"},\"y\":{\"field\":\"y\"}},\"id\":\"03b8da7a-ae86-4590-be31-90998b84accb\",\"type\":\"Line\"},{\"attributes\":{\"data_source\":{\"id\":\"e1d65e56-a0b2-47b1-bf2a-c5a1082e57a5\",\"type\":\"ColumnDataSource\"},\"glyph\":{\"id\":\"af3c818c-53f5-4f23-860f-2b1c8704f9e4\",\"type\":\"Line\"},\"hover_glyph\":null,\"muted_glyph\":null,\"nonselection_glyph\":{\"id\":\"03b8da7a-ae86-4590-be31-90998b84accb\",\"type\":\"Line\"},\"selection_glyph\":null,\"view\":{\"id\":\"99c55163-27a4-45c7-857d-ee4b70af40c1\",\"type\":\"CDSView\"}},\"id\":\"43b681c3-fe42-4b77-9f30-589dc296cdf0\",\"type\":\"GlyphRenderer\"},{\"attributes\":{\"label\":{\"value\":\"CV interface\"},\"renderers\":[{\"id\":\"46bffbc1-85af-41d1-b1dd-9ad62d573234\",\"type\":\"GlyphRenderer\"}]},\"id\":\"6d0b4a19-05cc-4510-bf7c-c67f80fbb517\",\"type\":\"LegendItem\"},{\"attributes\":{\"source\":{\"id\":\"e1d65e56-a0b2-47b1-bf2a-c5a1082e57a5\",\"type\":\"ColumnDataSource\"}},\"id\":\"99c55163-27a4-45c7-857d-ee4b70af40c1\",\"type\":\"CDSView\"}],\"root_ids\":[\"8c7c5021-8256-4825-80a3-acfc716835ba\"]},\"title\":\"Bokeh Application\",\"version\":\"0.12.15\"}};\n",
       "  var render_items = [{\"docid\":\"78cad946-178d-4b99-b9db-ac4f824b0762\",\"elementid\":\"5b7707d1-40ed-4d01-8429-feb357d448a5\",\"modelid\":\"8c7c5021-8256-4825-80a3-acfc716835ba\"}];\n",
       "  root.Bokeh.embed.embed_items_notebook(docs_json, render_items);\n",
       "\n",
       "  }\n",
       "  if (root.Bokeh !== undefined) {\n",
       "    embed_document(root);\n",
       "  } else {\n",
       "    var attempts = 0;\n",
       "    var timer = setInterval(function(root) {\n",
       "      if (root.Bokeh !== undefined) {\n",
       "        embed_document(root);\n",
       "        clearInterval(timer);\n",
       "      }\n",
       "      attempts++;\n",
       "      if (attempts > 100) {\n",
       "        console.log(\"Bokeh: ERROR: Unable to run BokehJS code because BokehJS library is missing\")\n",
       "        clearInterval(timer);\n",
       "      }\n",
       "    }, 10, root)\n",
       "  }\n",
       "})(window);"
      ],
      "application/vnd.bokehjs_exec.v0+json": ""
     },
     "metadata": {
      "application/vnd.bokehjs_exec.v0+json": {
       "id": "8c7c5021-8256-4825-80a3-acfc716835ba"
      }
     },
     "output_type": "display_data"
    }
   ],
   "source": [
    "## graphical representation of your grid\n",
    "\n",
    "x=np.zeros(np.size(zDual))\n",
    "\n",
    "hover = HoverTool(tooltips=[\n",
    "    (\"(x,y)\", \"($x, $y)\"),\n",
    "])\n",
    "\n",
    "p1 = figure(plot_width=600, plot_height=600,tools=['pan,wheel_zoom,box_zoom,reset',hover],\n",
    "           title=\"Mouse over the dots\",x_range=(-0.7, 0.7))\n",
    "p1.scatter(x,etaDual, color=\"blue\", marker='cross',legend='CV interface')\n",
    "for i in data.index:\n",
    "    if data['Type'][i] == 'L':\n",
    "        c = 'red'\n",
    "        l = 'layer'\n",
    "    elif data['Type'][i] == 'M':\n",
    "        c = 'green'\n",
    "        l = 'meas. point'\n",
    "        \n",
    "    p1.line([-0.2,0.2], [data['eta'][i],data['eta'][i]], color=c,line_width=lineWidth,legend=l)\n",
    "p1.line([-0.2,0.2], [data['eta'][data['eta'].size-1],data['eta'][data['eta'].size-1]], color=\"red\",line_width=lineWidth,legend='layer')\n",
    "\n",
    "p1.yaxis.axis_label = '\\u03b7 [m]'\n",
    "p1.yaxis.axis_label_text_font_size = str(labelSize) + \"px\"\n",
    "p1.title.text = 'Control volume intefaces'\n",
    "p1.title.align = \"center\"\n",
    "p1.title.text_font_size = str(titleSize) + \"px\"\n",
    "\n",
    "p1.legend.location = \"top_left\"\n",
    "p1.legend.label_text_font_size = str(legendSize) + \"px\"\n",
    "p1.legend.click_policy=\"hide\"\n",
    "\n",
    "show(p1)"
   ]
  },
  {
   "cell_type": "markdown",
   "metadata": {},
   "source": [
    "## Compute initial condition\n",
    "This section allows to compute the initial condition for the water suction. It is possible to define the initial condition in three ways:\n",
    "- hydrostatic distribution for a prescribed $\\psi$ @bottom;\n",
    "- linear interpolation of measuraments points and $\\psi$ @bottm and @surface;\n",
    "- constant hydraulic head for a prescribed $\\psi$ @bottom\n",
    "\n",
    "It is important to note that at the surface the hydraulic head is prescribed in the inputFile.csv. If it is positive means there is ponding water otherwise the matric suction of the uppermost layer of the soil.\n"
   ]
  },
  {
   "cell_type": "code",
   "execution_count": 9,
   "metadata": {},
   "outputs": [],
   "source": [
    "psiIC = []\n",
    "coordMeasPoint = []\n",
    "psiMeas = []\n",
    "\n",
    "for i in data.index:\n",
    "    if data['Type'][i] == 'M':\n",
    "        coordMeasPoint.append(data['eta'][i])\n",
    "        psiMeas.append(data['psi'][i])\n",
    "        \n",
    "coordMeasPoint = np.append(coordMeasPoint, data['eta'][np.size(data['eta'])-1])\n",
    "psiMeas = np.append(psiMeas,data['psi'][np.size(data['psi'])-1])"
   ]
  },
  {
   "cell_type": "code",
   "execution_count": 10,
   "metadata": {},
   "outputs": [
    {
     "data": {
      "text/plain": [
       "array([-2.])"
      ]
     },
     "execution_count": 10,
     "metadata": {},
     "output_type": "execute_result"
    }
   ],
   "source": [
    "coordMeasPoint"
   ]
  },
  {
   "cell_type": "code",
   "execution_count": 11,
   "metadata": {},
   "outputs": [
    {
     "data": {
      "text/plain": [
       "array([ 2.])"
      ]
     },
     "execution_count": 11,
     "metadata": {},
     "output_type": "execute_result"
    }
   ],
   "source": [
    "psiMeas"
   ]
  },
  {
   "cell_type": "markdown",
   "metadata": {},
   "source": [
    "#### Hydrostatic distribution for a given psi at the bottom"
   ]
  },
  {
   "cell_type": "code",
   "execution_count": 27,
   "metadata": {},
   "outputs": [],
   "source": [
    "\n",
    "for i in range(0,np.size(eta)-1):\n",
    "    psiIC = np.append(psiIC,data['psi'][np.size(data['psi'])-1]+(data['eta'][np.size(data['eta'])-1]-eta[i]))\n",
    "\n",
    "psiIC = np.append(psiIC,data['psi'][0] )"
   ]
  },
  {
   "cell_type": "code",
   "execution_count": 28,
   "metadata": {},
   "outputs": [
    {
     "data": {
      "text/html": [
       "\n",
       "<div class=\"bk-root\">\n",
       "    <div class=\"bk-plotdiv\" id=\"94f7f56a-72db-45c2-b476-74e5f7153a94\"></div>\n",
       "</div>"
      ]
     },
     "metadata": {},
     "output_type": "display_data"
    },
    {
     "data": {
      "application/javascript": [
       "(function(root) {\n",
       "  function embed_document(root) {\n",
       "    \n",
       "  var docs_json = {\"23d70fe8-3ac2-425f-a052-402ffa147b3b\":{\"roots\":{\"references\":[{\"attributes\":{\"plot\":{\"id\":\"0878583f-9de5-4ef3-b531-656ebb3ee4e9\",\"subtype\":\"Figure\",\"type\":\"Plot\"},\"ticker\":{\"id\":\"fb5370e6-634e-46a3-b2f4-4eab202547e5\",\"type\":\"BasicTicker\"}},\"id\":\"5855fc41-7f71-43cf-bb84-f3973768862d\",\"type\":\"Grid\"},{\"attributes\":{\"overlay\":{\"id\":\"00fcee35-2063-4ffc-b12d-eca35459fac2\",\"type\":\"BoxAnnotation\"}},\"id\":\"ca1b068e-3c06-44aa-a9a0-aece364e9f6d\",\"type\":\"BoxZoomTool\"},{\"attributes\":{\"axis_label\":\"\\u03b7 [m]\",\"axis_label_text_font_size\":{\"value\":\"18px\"},\"formatter\":{\"id\":\"c12fad21-fa0c-46c5-9b12-1cbef8bc3417\",\"type\":\"BasicTickFormatter\"},\"plot\":{\"id\":\"0878583f-9de5-4ef3-b531-656ebb3ee4e9\",\"subtype\":\"Figure\",\"type\":\"Plot\"},\"ticker\":{\"id\":\"e4ae448a-21de-4754-ae27-7f060834b8e0\",\"type\":\"BasicTicker\"}},\"id\":\"0ce06091-95a0-4220-9e24-73af142539c4\",\"type\":\"LinearAxis\"},{\"attributes\":{\"active_drag\":\"auto\",\"active_inspect\":\"auto\",\"active_scroll\":\"auto\",\"active_tap\":\"auto\",\"tools\":[{\"id\":\"c34798fe-1d4f-47b0-9a64-07e0912e1c77\",\"type\":\"HoverTool\"},{\"id\":\"a863303e-9a76-4cfe-86b0-b612dc68e729\",\"type\":\"PanTool\"},{\"id\":\"42c84aef-7989-4a6e-8e73-38049cc35884\",\"type\":\"WheelZoomTool\"},{\"id\":\"ca1b068e-3c06-44aa-a9a0-aece364e9f6d\",\"type\":\"BoxZoomTool\"},{\"id\":\"c7a5338a-6624-40f5-b7cc-d35336264eb9\",\"type\":\"ResetTool\"}]},\"id\":\"84faebf3-0296-452c-86af-9f71adbd9449\",\"type\":\"Toolbar\"},{\"attributes\":{\"callback\":null},\"id\":\"cce798f3-7745-4292-ace3-356fa422c8f1\",\"type\":\"DataRange1d\"},{\"attributes\":{},\"id\":\"2f216188-78a4-4b0e-b647-0dd957f00905\",\"type\":\"LinearScale\"},{\"attributes\":{\"source\":{\"id\":\"360a6715-ebb4-4ae7-87f7-4ee8933f7847\",\"type\":\"ColumnDataSource\"}},\"id\":\"bfedb2e4-9277-46f4-b705-42052b87cf3f\",\"type\":\"CDSView\"},{\"attributes\":{\"fill_color\":{\"value\":\"blue\"},\"line_color\":{\"value\":\"blue\"},\"x\":{\"field\":\"x\"},\"y\":{\"field\":\"y\"}},\"id\":\"de83413a-c511-4883-bfab-2662bc108f2e\",\"type\":\"Circle\"},{\"attributes\":{\"data_source\":{\"id\":\"360a6715-ebb4-4ae7-87f7-4ee8933f7847\",\"type\":\"ColumnDataSource\"},\"glyph\":{\"id\":\"de83413a-c511-4883-bfab-2662bc108f2e\",\"type\":\"Circle\"},\"hover_glyph\":null,\"muted_glyph\":null,\"nonselection_glyph\":{\"id\":\"cbda7ead-5aee-41d4-b21a-5a3601b11963\",\"type\":\"Circle\"},\"selection_glyph\":null,\"view\":{\"id\":\"bfedb2e4-9277-46f4-b705-42052b87cf3f\",\"type\":\"CDSView\"}},\"id\":\"09e2b974-8fb6-49e9-9181-aabcc35a207d\",\"type\":\"GlyphRenderer\"},{\"attributes\":{\"callback\":null,\"column_names\":[\"x\",\"y\"],\"data\":{\"x\":{\"__ndarray__\":\"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\",\"dtype\":\"float64\",\"shape\":[321]},\"y\":{\"__ndarray__\":\"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\",\"dtype\":\"float64\",\"shape\":[321]}},\"selected\":null,\"selection_policy\":null},\"id\":\"360a6715-ebb4-4ae7-87f7-4ee8933f7847\",\"type\":\"ColumnDataSource\"},{\"attributes\":{},\"id\":\"59ebe448-8580-49ce-adc6-7bb0c13dcdd4\",\"type\":\"LinearScale\"},{\"attributes\":{\"dimension\":1,\"plot\":{\"id\":\"0878583f-9de5-4ef3-b531-656ebb3ee4e9\",\"subtype\":\"Figure\",\"type\":\"Plot\"},\"ticker\":{\"id\":\"e4ae448a-21de-4754-ae27-7f060834b8e0\",\"type\":\"BasicTicker\"}},\"id\":\"88b4bd61-db8d-40fb-851e-e51ed182893b\",\"type\":\"Grid\"},{\"attributes\":{},\"id\":\"a863303e-9a76-4cfe-86b0-b612dc68e729\",\"type\":\"PanTool\"},{\"attributes\":{},\"id\":\"c12fad21-fa0c-46c5-9b12-1cbef8bc3417\",\"type\":\"BasicTickFormatter\"},{\"attributes\":{\"align\":\"center\",\"plot\":null,\"text\":\"Initial condition for \\u03c8: hydrostatic\",\"text_font_size\":{\"value\":\"22px\"}},\"id\":\"09e4e624-0d1e-402b-a36e-a89e0eab2a11\",\"type\":\"Title\"},{\"attributes\":{\"bottom_units\":\"screen\",\"fill_alpha\":{\"value\":0.5},\"fill_color\":{\"value\":\"lightgrey\"},\"left_units\":\"screen\",\"level\":\"overlay\",\"line_alpha\":{\"value\":1.0},\"line_color\":{\"value\":\"black\"},\"line_dash\":[4,4],\"line_width\":{\"value\":2},\"plot\":null,\"render_mode\":\"css\",\"right_units\":\"screen\",\"top_units\":\"screen\"},\"id\":\"00fcee35-2063-4ffc-b12d-eca35459fac2\",\"type\":\"BoxAnnotation\"},{\"attributes\":{\"callback\":null,\"tooltips\":[[\"(x,y)\",\"($x, $y)\"]]},\"id\":\"c34798fe-1d4f-47b0-9a64-07e0912e1c77\",\"type\":\"HoverTool\"},{\"attributes\":{},\"id\":\"65dd4ca4-ad40-4891-8413-1a92306bd743\",\"type\":\"BasicTickFormatter\"},{\"attributes\":{},\"id\":\"c7a5338a-6624-40f5-b7cc-d35336264eb9\",\"type\":\"ResetTool\"},{\"attributes\":{\"callback\":null},\"id\":\"82dfb4c1-848b-4a7e-8428-8dcf69a48b7d\",\"type\":\"DataRange1d\"},{\"attributes\":{\"axis_label\":\"\\u03c8 [m]\",\"axis_label_text_font_size\":{\"value\":\"18px\"},\"formatter\":{\"id\":\"65dd4ca4-ad40-4891-8413-1a92306bd743\",\"type\":\"BasicTickFormatter\"},\"plot\":{\"id\":\"0878583f-9de5-4ef3-b531-656ebb3ee4e9\",\"subtype\":\"Figure\",\"type\":\"Plot\"},\"ticker\":{\"id\":\"fb5370e6-634e-46a3-b2f4-4eab202547e5\",\"type\":\"BasicTicker\"}},\"id\":\"5a0264e6-29d2-47fc-9e54-b308a7da1398\",\"type\":\"LinearAxis\"},{\"attributes\":{},\"id\":\"fb5370e6-634e-46a3-b2f4-4eab202547e5\",\"type\":\"BasicTicker\"},{\"attributes\":{\"fill_alpha\":{\"value\":0.1},\"fill_color\":{\"value\":\"#1f77b4\"},\"line_alpha\":{\"value\":0.1},\"line_color\":{\"value\":\"#1f77b4\"},\"x\":{\"field\":\"x\"},\"y\":{\"field\":\"y\"}},\"id\":\"cbda7ead-5aee-41d4-b21a-5a3601b11963\",\"type\":\"Circle\"},{\"attributes\":{\"below\":[{\"id\":\"5a0264e6-29d2-47fc-9e54-b308a7da1398\",\"type\":\"LinearAxis\"}],\"left\":[{\"id\":\"0ce06091-95a0-4220-9e24-73af142539c4\",\"type\":\"LinearAxis\"}],\"renderers\":[{\"id\":\"5a0264e6-29d2-47fc-9e54-b308a7da1398\",\"type\":\"LinearAxis\"},{\"id\":\"5855fc41-7f71-43cf-bb84-f3973768862d\",\"type\":\"Grid\"},{\"id\":\"0ce06091-95a0-4220-9e24-73af142539c4\",\"type\":\"LinearAxis\"},{\"id\":\"88b4bd61-db8d-40fb-851e-e51ed182893b\",\"type\":\"Grid\"},{\"id\":\"00fcee35-2063-4ffc-b12d-eca35459fac2\",\"type\":\"BoxAnnotation\"},{\"id\":\"09e2b974-8fb6-49e9-9181-aabcc35a207d\",\"type\":\"GlyphRenderer\"}],\"title\":{\"id\":\"09e4e624-0d1e-402b-a36e-a89e0eab2a11\",\"type\":\"Title\"},\"toolbar\":{\"id\":\"84faebf3-0296-452c-86af-9f71adbd9449\",\"type\":\"Toolbar\"},\"x_range\":{\"id\":\"cce798f3-7745-4292-ace3-356fa422c8f1\",\"type\":\"DataRange1d\"},\"x_scale\":{\"id\":\"59ebe448-8580-49ce-adc6-7bb0c13dcdd4\",\"type\":\"LinearScale\"},\"y_range\":{\"id\":\"82dfb4c1-848b-4a7e-8428-8dcf69a48b7d\",\"type\":\"DataRange1d\"},\"y_scale\":{\"id\":\"2f216188-78a4-4b0e-b647-0dd957f00905\",\"type\":\"LinearScale\"}},\"id\":\"0878583f-9de5-4ef3-b531-656ebb3ee4e9\",\"subtype\":\"Figure\",\"type\":\"Plot\"},{\"attributes\":{},\"id\":\"42c84aef-7989-4a6e-8e73-38049cc35884\",\"type\":\"WheelZoomTool\"},{\"attributes\":{},\"id\":\"e4ae448a-21de-4754-ae27-7f060834b8e0\",\"type\":\"BasicTicker\"}],\"root_ids\":[\"0878583f-9de5-4ef3-b531-656ebb3ee4e9\"]},\"title\":\"Bokeh Application\",\"version\":\"0.12.15\"}};\n",
       "  var render_items = [{\"docid\":\"23d70fe8-3ac2-425f-a052-402ffa147b3b\",\"elementid\":\"94f7f56a-72db-45c2-b476-74e5f7153a94\",\"modelid\":\"0878583f-9de5-4ef3-b531-656ebb3ee4e9\"}];\n",
       "  root.Bokeh.embed.embed_items_notebook(docs_json, render_items);\n",
       "\n",
       "  }\n",
       "  if (root.Bokeh !== undefined) {\n",
       "    embed_document(root);\n",
       "  } else {\n",
       "    var attempts = 0;\n",
       "    var timer = setInterval(function(root) {\n",
       "      if (root.Bokeh !== undefined) {\n",
       "        embed_document(root);\n",
       "        clearInterval(timer);\n",
       "      }\n",
       "      attempts++;\n",
       "      if (attempts > 100) {\n",
       "        console.log(\"Bokeh: ERROR: Unable to run BokehJS code because BokehJS library is missing\")\n",
       "        clearInterval(timer);\n",
       "      }\n",
       "    }, 10, root)\n",
       "  }\n",
       "})(window);"
      ],
      "application/vnd.bokehjs_exec.v0+json": ""
     },
     "metadata": {
      "application/vnd.bokehjs_exec.v0+json": {
       "id": "0878583f-9de5-4ef3-b531-656ebb3ee4e9"
      }
     },
     "output_type": "display_data"
    }
   ],
   "source": [
    "\n",
    "\n",
    "p1 = figure(plot_width=600, plot_height=600,tools=['pan,wheel_zoom,box_zoom,reset',hover],\n",
    "           title=\"Mouse over the dots\")\n",
    "p1.scatter(psiIC,eta, color=\"blue\")\n",
    "\n",
    "p1.xaxis.axis_label = '\\u03C8 [m]'\n",
    "p1.xaxis.axis_label_text_font_size = str(labelSize) + \"px\"\n",
    "\n",
    "p1.yaxis.axis_label = '\\u03b7 [m]'\n",
    "p1.yaxis.axis_label_text_font_size = str(labelSize) + \"px\"\n",
    "p1.title.text = 'Initial condition for \\u03C8: hydrostatic'\n",
    "p1.title.align = \"center\"\n",
    "p1.title.text_font_size = str(titleSize) + \"px\"\n",
    "\n",
    "\n",
    "show(p1)"
   ]
  },
  {
   "cell_type": "markdown",
   "metadata": {},
   "source": [
    "The _full_ hydrostatic distribution is the state of equilibrium: the water flux is due to the spatial gradient of $\\psi+z$. Let us plot the total hydraulic head for the hydrostatic distribution and it is possible to observe that the spatial gradient is null every where:"
   ]
  },
  {
   "cell_type": "code",
   "execution_count": 45,
   "metadata": {},
   "outputs": [
    {
     "data": {
      "text/html": [
       "\n",
       "<div class=\"bk-root\">\n",
       "    <div class=\"bk-plotdiv\" id=\"b2c00f5c-f505-458b-99c4-49a2ec33201b\"></div>\n",
       "</div>"
      ]
     },
     "metadata": {},
     "output_type": "display_data"
    },
    {
     "data": {
      "application/javascript": [
       "(function(root) {\n",
       "  function embed_document(root) {\n",
       "    \n",
       "  var docs_json = {\"fa717284-1581-41da-9f08-94baec4d2a45\":{\"roots\":{\"references\":[{\"attributes\":{\"bottom_units\":\"screen\",\"fill_alpha\":{\"value\":0.5},\"fill_color\":{\"value\":\"lightgrey\"},\"left_units\":\"screen\",\"level\":\"overlay\",\"line_alpha\":{\"value\":1.0},\"line_color\":{\"value\":\"black\"},\"line_dash\":[4,4],\"line_width\":{\"value\":2},\"plot\":null,\"render_mode\":\"css\",\"right_units\":\"screen\",\"top_units\":\"screen\"},\"id\":\"12aa6cfe-2a98-4253-9a6f-24db59c82843\",\"type\":\"BoxAnnotation\"},{\"attributes\":{},\"id\":\"0ab7faf7-2d75-4882-867c-c5087263f853\",\"type\":\"PanTool\"},{\"attributes\":{\"callback\":null,\"column_names\":[\"x\",\"y\"],\"data\":{\"x\":{\"__ndarray__\":\"AAAAAAAAAAAAAAAAAAAAAAAAAAAAAAAAAAAAAAAAAAAAAAAAAAAAAAAAAAAAAAAAAAAAAAAAAAAAAAAAAAAAAAAAAAAAAAAAAAAAAAAAAAAAAAAAAAAAAAAAAAAAAAAAAAAAAAAAAAAAAAAAAAAAAAAAAAAAAAAAAAAAAAAAAAAAAAAAAAAAAAAAAAAAAAAAAAAAAAAAAAAAAAAAAAAAAAAAAAAAAAAAAAAAAAAAAAAAAAAAAAAAAAAAAAAAAAAAAAAAAAAAAAAAAAAAAAAAAAAAAAAAAAAAAAAAAAAAAAAAAAAAAAAAAAAAAAAAAAAAAAAAAAAAAAAAAAAAAAAAAAAAAAAAAAAAAAAAAAAAAAAAAAAAAAAAAAAAAAAAAAAAAAAAAAAAAAAAAAAAAAAAAAAAAAAAAAAAAAAAAAAAAAAAAAAAAAAAAAAAAAAAAAAAAAAAAAAAAAAAAAAAAAAAAAAAAAAAAAAAAAAAAAAAAAAAAAAAAAAAAAAAAAAAAAAAAAAAAAAAAAAAAAAAAAAAAAAAAAAAAAAAAAAAAAAAAAAAAAAAAAAAAAAAAAAAAAAAAAAAAAAAAAAAAAAAAAAAAAAAAAAAAAAAAAAAAAAAAAAAAAAAAAAAAAAAAAAAAAAAAAAAAAAAAAAAAAAAAAAAAAAAAAAAAAAAAAAAAAAAAAAAAAAAAAAAAAAAAAAAAAAAAAAAAAAAAAAAAAAAAAAAAAAAAAAAAAAAAAAAAAAAAAAAAAAAAAAAAAAAAAAAAAAAAAAAAAAAAAAAAAAAAAAAAAAAAAAAAAAAAAAAAAAAAAAAAAAAAAAAAAAAAAAAAAAAAAAAAAAAAAAAAAAAAAAAAAAAAAAAAAAAAAAAAAAAAAAAAAAAAAAAAAAAAAAAAAAAAAAAAAAAAAAAAAAAAAAAAAAAAAAAAAAAAAAAAAAAAAAAAAAAAAAAAAAAAAAAAAAAAAAAAAAAAAAAAAAAAAAAAAAAAAAAAAAAAAAAAAAAAAAAAAAAAAAAAAAAAAAAAAAAAAAAAAAAAAAAAAAAAAAAAAAAAAAAAAAAAAAAAAAAAAAAAAAAAAAAAAAAAAAAAAAAAAAAAAAAAAAAAAAAAAAAAAAAAAAAAAAAAAAAAAAAAAAAAAAAAAAAAAAAAAAAAAAAAAAAAAAAAAAAAAAAAAAAAAAAAAAAAAAAAAAAAAAAAAAAAAAAAAAAAAAAAAAAAAAAAAAAAAAAAAAAAAAAAAAAAAAAAAAAAAAAAAAAAAAAAAAAAAAAAAAAAAAAAAAAAAAAAAAAAAAAAAAAAAAAAAAAAAAAAAAAAAAAAAAAAAAAAAAAAAAAAAAAAAAAAAAAAAAAAAAAAAAAAAAAAAAAAAAAAAAAAAAAAAAAAAAAAAAAAAAAAAAAAAAAAAAAAAAAAAAAAAAAAAAAAAAAAAAAAAAAAAAAAAAAAAAAAAAAAAAAAAAAAAAAAAAAAAAAAAAAAAAAAAAAAAAAAAAAAAAAAAAAAAAAAAAAAAAAAAAAAAAAAAAAAAAAAAAAAAAAAAAAAAAAAAAAAAAAAAAAAAAAAAAAAAAAAAAAAAAAAAAAAAAAAAAAAAAAAAAAAAAAAAAAAAAAAAAAAAAAAAAAAAAAAAAAAAAAAAAAAAAAAAAAAAAAAAAAAAAAAAAAAAAAAAAAAAAAAAAAAAAAAAAAAAAAAAAAAAAAAAAAAAAAAAAAAAAAAAAAAAAAAAAAAAAAAAAAAAAAAAAAAAAAAAAAAAAAAAAAAAAAAAAAAAAAAAAAAAAAAAAAAAAAAAAAAAAAAAAAAAAAAAAAAAAAAAAAAAAAAAAAAAAAAAAAAAAAAAAAAAAAAAAAAAAAAAAAAAAAAAAAAAAAAAAAAAAAAAAAAAAAAAAAAAAAAAAAAAAAAAAAAAAAAAAAAAAAAAAAAAAAAAAAAAAAAAAAAAAAAAAAAAAAAAAAAAAAAAAAAAAAAAAAAAAAAAAAAAAAAAAAAAAAAAAAAAAAAAAAAAAAAAAAAAAAAAAAAAAAAAAAAAAAAAAAAAAAAAAAAAAAAAAAAAAAAAAAAAAAAAAAAAAAAAAAAAAAAAAAAAAAAAAAAAAAAAAAAAAAAAAAAAAAAAAAAAAAAAAAAAAAAAAAAAAAAAAAAAAAAAAAAAAAAAAAAAAAAAAAAAAAAAAAAAAAAAAAAAAAAAAAAAAAAAAAAAAAAAAAAAAAAAAAAAAAAAAAAAAAAAAAAAAAAAAAAAAAAAAAAAAAAAAAAAAAAAAAAAAAAAAAAAAAAAAAAAAAAAAAAAAAAAAAAAAAAAAAAAAAAAAAAAAAAAAAAAAAAAAAAAAAAAAAAAAAAAAAAAAAAAAAAAAAAAAAAAAAAAAAAAAAAAAAAAAAAAAAAAAAAAAAAAAAAAAAAAAAAAAAAAAAAAAAAAAAAAAAAAAAAAAAAAAAAAAAAAAAAAAAAAAAAAAAAAAAAAAAAAAAAAAAAAAAAAAAAAAAAAAAAAAAAAAAAAAAAAAAAAAAAAAAAAAAAAAAAAAAAAAAAAAAAAAAAAAAAAAAAAAAAAAAAAAAAAAAAAAAAAAAAAAAAAAAAAAAAAAAAAAAAAAAAAAAAAAAAAAAAAAAAAAAAAAAAAAAAAAAAAAAAAAAAAAAAAAAAAAAAAAAAAAAAAAAAAAAAAAAAAAAAAAAAAAAAAAAAAAAAAAAAAAAAAAAAAAAAAAAAAAAAAAAAAAAAAAAAAAAAAAAAAAAAAAAAAAAAAAAAAAAAAAAAAAAAAAAAAAAAAAAAAAAAAAAAAAAAAAAAAAAAAAAAAAAAAAAAAAAAAAAAAAAAAAAAAAAAAAAAAAAAAAAAAAAAAAAAAAAAAAAAAAAAAAAAAAAAAAAAAAAAAAAAAAAAAAAAAAAAAAAAAAAAAAAAAAAAAAAAAAAAAAAAAAAAAAAAAAAAAAAAAAAAAAAAAAAAAAAAAAAAAAAAAAAAAAAAAAAAAAAAAAAAAAAAAAAAAAAAAAAAAAAAAAAAAAAAAAAAAAAAAAAAAAAAAAAAAAAAAAAAAAAAAAAAAAAAAAAAAAAAAAAAAAAAAAAAAAAAAAAAAAAAAAAAAAAAAAAAAAAAAAAAAAAAAAAAAAAAAAAAAAAAAAAAAAAAAAAAAAAAAAAAAAAAAAAAAAAAAAAAAAAAAAAAAAAAAAAAAAAAAAAAAAAAAAAAAAAAAAAAAAAAAAAAAAAAAAAAAAAAAAAAAAAAAAAAAAAAAAAAAAAAAAAAAAAAAAAAAAAAAAAAAAAAAAAAAAAAAAAAAAAAAAAAAAAAAAAAAAAAAAAAAAAAAAAAAAAAAAAAAAAAAAAAAAAAAAAAAAAAAAAAAAAAAAAAAAAAAAAAAAAAAAAAAAAAAAAAAAAAAAAAAAAAAAAAAAAAAAAAAAAAAAAAAAAAAAAAAAAAAAAAAAAAAAAAAAAAAAAAAAAAAAAAAAAAAAA\",\"dtype\":\"float64\",\"shape\":[321]},\"y\":{\"__ndarray__\":\"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\",\"dtype\":\"float64\",\"shape\":[321]}},\"selected\":null,\"selection_policy\":null},\"id\":\"f2952610-6a24-4e86-8a88-7200d7f10cb0\",\"type\":\"ColumnDataSource\"},{\"attributes\":{\"dimension\":1,\"plot\":{\"id\":\"86b880e5-e811-4fca-bcea-f341d34b8cd8\",\"subtype\":\"Figure\",\"type\":\"Plot\"},\"ticker\":{\"id\":\"d8316ba6-fb8d-4d08-98bd-6c3d420bbf4f\",\"type\":\"BasicTicker\"}},\"id\":\"f6b446e7-8616-4d51-8a1c-171b8e5c26f5\",\"type\":\"Grid\"},{\"attributes\":{\"below\":[{\"id\":\"52fd7c7b-0b25-472d-bee7-cfbf3289e375\",\"type\":\"LinearAxis\"}],\"left\":[{\"id\":\"1bf8905d-29f9-43fb-9c16-4158c9ecf4a0\",\"type\":\"LinearAxis\"}],\"renderers\":[{\"id\":\"52fd7c7b-0b25-472d-bee7-cfbf3289e375\",\"type\":\"LinearAxis\"},{\"id\":\"0e7c7e63-3e4c-4673-92c2-036712a7206e\",\"type\":\"Grid\"},{\"id\":\"1bf8905d-29f9-43fb-9c16-4158c9ecf4a0\",\"type\":\"LinearAxis\"},{\"id\":\"f6b446e7-8616-4d51-8a1c-171b8e5c26f5\",\"type\":\"Grid\"},{\"id\":\"12aa6cfe-2a98-4253-9a6f-24db59c82843\",\"type\":\"BoxAnnotation\"},{\"id\":\"f4918a68-b41c-41d4-af8b-56a1b2c1c739\",\"type\":\"GlyphRenderer\"}],\"title\":{\"id\":\"c88690a2-5252-4eec-9239-a2b66454652e\",\"type\":\"Title\"},\"toolbar\":{\"id\":\"91d73351-97c3-4cd6-90a3-927e95d919fe\",\"type\":\"Toolbar\"},\"x_range\":{\"id\":\"c00ad664-7636-4c2e-b235-eb066d3027dd\",\"type\":\"DataRange1d\"},\"x_scale\":{\"id\":\"4a590ccb-8605-4e81-be15-f7b926d4a597\",\"type\":\"LinearScale\"},\"y_range\":{\"id\":\"cf72afdc-6605-4033-a340-c17e226bdbdc\",\"type\":\"DataRange1d\"},\"y_scale\":{\"id\":\"8f6b9165-a55e-43f4-983c-ed2ce669a17e\",\"type\":\"LinearScale\"}},\"id\":\"86b880e5-e811-4fca-bcea-f341d34b8cd8\",\"subtype\":\"Figure\",\"type\":\"Plot\"},{\"attributes\":{\"align\":\"center\",\"plot\":null,\"text\":\"Total hydraulic head\",\"text_font_size\":{\"value\":\"22px\"}},\"id\":\"c88690a2-5252-4eec-9239-a2b66454652e\",\"type\":\"Title\"},{\"attributes\":{\"overlay\":{\"id\":\"12aa6cfe-2a98-4253-9a6f-24db59c82843\",\"type\":\"BoxAnnotation\"}},\"id\":\"956b9880-5ecf-4d96-99fe-8068564f4723\",\"type\":\"BoxZoomTool\"},{\"attributes\":{},\"id\":\"ed621df1-4fb0-4efa-9553-882fafe6a025\",\"type\":\"ResetTool\"},{\"attributes\":{\"callback\":null},\"id\":\"c00ad664-7636-4c2e-b235-eb066d3027dd\",\"type\":\"DataRange1d\"},{\"attributes\":{},\"id\":\"657ac445-1057-4b3a-8567-930bd1acda32\",\"type\":\"BasicTickFormatter\"},{\"attributes\":{\"source\":{\"id\":\"f2952610-6a24-4e86-8a88-7200d7f10cb0\",\"type\":\"ColumnDataSource\"}},\"id\":\"e894fe6c-38f0-443c-a05f-87dce1a141fd\",\"type\":\"CDSView\"},{\"attributes\":{\"fill_color\":{\"value\":\"blue\"},\"line_color\":{\"value\":\"blue\"},\"x\":{\"field\":\"x\"},\"y\":{\"field\":\"y\"}},\"id\":\"33ed1975-a11f-4518-81d0-52a9171a8374\",\"type\":\"Circle\"},{\"attributes\":{},\"id\":\"3c17240e-8d31-4227-9ba9-ad9225723042\",\"type\":\"WheelZoomTool\"},{\"attributes\":{\"fill_alpha\":{\"value\":0.1},\"fill_color\":{\"value\":\"#1f77b4\"},\"line_alpha\":{\"value\":0.1},\"line_color\":{\"value\":\"#1f77b4\"},\"x\":{\"field\":\"x\"},\"y\":{\"field\":\"y\"}},\"id\":\"334f314d-3b5e-4551-a02b-7ecc55773bf6\",\"type\":\"Circle\"},{\"attributes\":{\"active_drag\":\"auto\",\"active_inspect\":\"auto\",\"active_scroll\":\"auto\",\"active_tap\":\"auto\",\"tools\":[{\"id\":\"fe65901c-6ee4-435e-aba1-3d01a6c4f5d6\",\"type\":\"HoverTool\"},{\"id\":\"0ab7faf7-2d75-4882-867c-c5087263f853\",\"type\":\"PanTool\"},{\"id\":\"3c17240e-8d31-4227-9ba9-ad9225723042\",\"type\":\"WheelZoomTool\"},{\"id\":\"956b9880-5ecf-4d96-99fe-8068564f4723\",\"type\":\"BoxZoomTool\"},{\"id\":\"ed621df1-4fb0-4efa-9553-882fafe6a025\",\"type\":\"ResetTool\"}]},\"id\":\"91d73351-97c3-4cd6-90a3-927e95d919fe\",\"type\":\"Toolbar\"},{\"attributes\":{\"axis_label\":\"\\u03c8 [m]\",\"axis_label_text_font_size\":{\"value\":\"18px\"},\"formatter\":{\"id\":\"ae9d5595-7369-40fb-adf1-bb96f4fd6ba3\",\"type\":\"BasicTickFormatter\"},\"plot\":{\"id\":\"86b880e5-e811-4fca-bcea-f341d34b8cd8\",\"subtype\":\"Figure\",\"type\":\"Plot\"},\"ticker\":{\"id\":\"cab6374f-9f1c-493f-8ee1-59f4b121cd05\",\"type\":\"BasicTicker\"}},\"id\":\"52fd7c7b-0b25-472d-bee7-cfbf3289e375\",\"type\":\"LinearAxis\"},{\"attributes\":{},\"id\":\"cab6374f-9f1c-493f-8ee1-59f4b121cd05\",\"type\":\"BasicTicker\"},{\"attributes\":{\"callback\":null,\"tooltips\":[[\"(x,y)\",\"($x, $y)\"]]},\"id\":\"fe65901c-6ee4-435e-aba1-3d01a6c4f5d6\",\"type\":\"HoverTool\"},{\"attributes\":{\"axis_label\":\"\\u03b7 [m]\",\"axis_label_text_font_size\":{\"value\":\"18px\"},\"formatter\":{\"id\":\"657ac445-1057-4b3a-8567-930bd1acda32\",\"type\":\"BasicTickFormatter\"},\"plot\":{\"id\":\"86b880e5-e811-4fca-bcea-f341d34b8cd8\",\"subtype\":\"Figure\",\"type\":\"Plot\"},\"ticker\":{\"id\":\"d8316ba6-fb8d-4d08-98bd-6c3d420bbf4f\",\"type\":\"BasicTicker\"}},\"id\":\"1bf8905d-29f9-43fb-9c16-4158c9ecf4a0\",\"type\":\"LinearAxis\"},{\"attributes\":{},\"id\":\"4a590ccb-8605-4e81-be15-f7b926d4a597\",\"type\":\"LinearScale\"},{\"attributes\":{},\"id\":\"ae9d5595-7369-40fb-adf1-bb96f4fd6ba3\",\"type\":\"BasicTickFormatter\"},{\"attributes\":{\"callback\":null},\"id\":\"cf72afdc-6605-4033-a340-c17e226bdbdc\",\"type\":\"DataRange1d\"},{\"attributes\":{\"plot\":{\"id\":\"86b880e5-e811-4fca-bcea-f341d34b8cd8\",\"subtype\":\"Figure\",\"type\":\"Plot\"},\"ticker\":{\"id\":\"cab6374f-9f1c-493f-8ee1-59f4b121cd05\",\"type\":\"BasicTicker\"}},\"id\":\"0e7c7e63-3e4c-4673-92c2-036712a7206e\",\"type\":\"Grid\"},{\"attributes\":{},\"id\":\"8f6b9165-a55e-43f4-983c-ed2ce669a17e\",\"type\":\"LinearScale\"},{\"attributes\":{},\"id\":\"d8316ba6-fb8d-4d08-98bd-6c3d420bbf4f\",\"type\":\"BasicTicker\"},{\"attributes\":{\"data_source\":{\"id\":\"f2952610-6a24-4e86-8a88-7200d7f10cb0\",\"type\":\"ColumnDataSource\"},\"glyph\":{\"id\":\"33ed1975-a11f-4518-81d0-52a9171a8374\",\"type\":\"Circle\"},\"hover_glyph\":null,\"muted_glyph\":null,\"nonselection_glyph\":{\"id\":\"334f314d-3b5e-4551-a02b-7ecc55773bf6\",\"type\":\"Circle\"},\"selection_glyph\":null,\"view\":{\"id\":\"e894fe6c-38f0-443c-a05f-87dce1a141fd\",\"type\":\"CDSView\"}},\"id\":\"f4918a68-b41c-41d4-af8b-56a1b2c1c739\",\"type\":\"GlyphRenderer\"}],\"root_ids\":[\"86b880e5-e811-4fca-bcea-f341d34b8cd8\"]},\"title\":\"Bokeh Application\",\"version\":\"0.12.15\"}};\n",
       "  var render_items = [{\"docid\":\"fa717284-1581-41da-9f08-94baec4d2a45\",\"elementid\":\"b2c00f5c-f505-458b-99c4-49a2ec33201b\",\"modelid\":\"86b880e5-e811-4fca-bcea-f341d34b8cd8\"}];\n",
       "  root.Bokeh.embed.embed_items_notebook(docs_json, render_items);\n",
       "\n",
       "  }\n",
       "  if (root.Bokeh !== undefined) {\n",
       "    embed_document(root);\n",
       "  } else {\n",
       "    var attempts = 0;\n",
       "    var timer = setInterval(function(root) {\n",
       "      if (root.Bokeh !== undefined) {\n",
       "        embed_document(root);\n",
       "        clearInterval(timer);\n",
       "      }\n",
       "      attempts++;\n",
       "      if (attempts > 100) {\n",
       "        console.log(\"Bokeh: ERROR: Unable to run BokehJS code because BokehJS library is missing\")\n",
       "        clearInterval(timer);\n",
       "      }\n",
       "    }, 10, root)\n",
       "  }\n",
       "})(window);"
      ],
      "application/vnd.bokehjs_exec.v0+json": ""
     },
     "metadata": {
      "application/vnd.bokehjs_exec.v0+json": {
       "id": "86b880e5-e811-4fca-bcea-f341d34b8cd8"
      }
     },
     "output_type": "display_data"
    }
   ],
   "source": [
    "\n",
    "\n",
    "p1 = figure(plot_width=600, plot_height=600,tools=['pan,wheel_zoom,box_zoom,reset',hover],\n",
    "           title=\"Mouse over the dots\")\n",
    "p1.scatter(psiIC+z,eta, color=\"blue\")\n",
    "\n",
    "p1.xaxis.axis_label = '\\u03C8 [m]'\n",
    "p1.xaxis.axis_label_text_font_size = str(labelSize) + \"px\"\n",
    "\n",
    "p1.yaxis.axis_label = '\\u03b7 [m]'\n",
    "p1.yaxis.axis_label_text_font_size = str(labelSize) + \"px\"\n",
    "p1.title.text = 'Total hydraulic head'\n",
    "p1.title.align = \"center\"\n",
    "p1.title.text_font_size = str(titleSize) + \"px\"\n",
    "\n",
    "\n",
    "show(p1)"
   ]
  },
  {
   "cell_type": "markdown",
   "metadata": {},
   "source": [
    "#### Constant pressure head distribution for a given psi at the bottom\n"
   ]
  },
  {
   "cell_type": "code",
   "execution_count": 12,
   "metadata": {},
   "outputs": [],
   "source": [
    "for i in range(0,np.size(eta)-1):\n",
    "    psiIC = np.append(psiIC,data['psi'][np.size(data['psi'])-1])\n",
    "\n",
    "psiIC = np.append(psiIC,data['psi'][0] )"
   ]
  },
  {
   "cell_type": "code",
   "execution_count": 13,
   "metadata": {},
   "outputs": [
    {
     "data": {
      "text/html": [
       "\n",
       "<div class=\"bk-root\">\n",
       "    <div class=\"bk-plotdiv\" id=\"3be84768-f2c5-4d8e-9496-c7539bcb8e88\"></div>\n",
       "</div>"
      ]
     },
     "metadata": {},
     "output_type": "display_data"
    },
    {
     "data": {
      "application/javascript": [
       "(function(root) {\n",
       "  function embed_document(root) {\n",
       "    \n",
       "  var docs_json = {\"01176fdc-d261-4d0c-af6e-9d70af0cdbba\":{\"roots\":{\"references\":[{\"attributes\":{\"fill_color\":{\"value\":\"blue\"},\"line_color\":{\"value\":\"blue\"},\"x\":{\"field\":\"x\"},\"y\":{\"field\":\"y\"}},\"id\":\"96f0e82f-0ef6-4075-a931-6e47dade8212\",\"type\":\"Circle\"},{\"attributes\":{},\"id\":\"ac4b9663-bd53-4df5-852f-2b4d240d0648\",\"type\":\"BasicTickFormatter\"},{\"attributes\":{\"overlay\":{\"id\":\"054a9f50-7aa6-48c8-a642-97152fbb222a\",\"type\":\"BoxAnnotation\"}},\"id\":\"e9cf730e-5cd0-4942-8851-63c1e5ab42b9\",\"type\":\"BoxZoomTool\"},{\"attributes\":{},\"id\":\"0ab87793-fd44-47f5-add6-f856695f1ec4\",\"type\":\"PanTool\"},{\"attributes\":{\"data_source\":{\"id\":\"e91c0ad7-1ca6-47f3-a174-353b973dab75\",\"type\":\"ColumnDataSource\"},\"glyph\":{\"id\":\"96f0e82f-0ef6-4075-a931-6e47dade8212\",\"type\":\"Circle\"},\"hover_glyph\":null,\"muted_glyph\":null,\"nonselection_glyph\":{\"id\":\"8232ac38-afa5-4991-9224-ac6eb23e9c97\",\"type\":\"Circle\"},\"selection_glyph\":null,\"view\":{\"id\":\"02775ae5-027a-4e5a-8e1d-7a241c772048\",\"type\":\"CDSView\"}},\"id\":\"508bacd0-834a-4adb-92a0-3d9ddb85d470\",\"type\":\"GlyphRenderer\"},{\"attributes\":{\"axis_label\":\"\\u03c8 [m]\",\"axis_label_text_font_size\":{\"value\":\"18px\"},\"formatter\":{\"id\":\"ac4b9663-bd53-4df5-852f-2b4d240d0648\",\"type\":\"BasicTickFormatter\"},\"plot\":{\"id\":\"f91e604d-7779-4841-b7a2-7aa0a1df41fd\",\"subtype\":\"Figure\",\"type\":\"Plot\"},\"ticker\":{\"id\":\"579d37fb-8957-49c9-a294-7b9016369320\",\"type\":\"BasicTicker\"}},\"id\":\"bcb701e8-37d8-4efd-b40b-14227f8c6ded\",\"type\":\"LinearAxis\"},{\"attributes\":{\"dimension\":1,\"plot\":{\"id\":\"f91e604d-7779-4841-b7a2-7aa0a1df41fd\",\"subtype\":\"Figure\",\"type\":\"Plot\"},\"ticker\":{\"id\":\"9e3adffb-61c1-4239-84d4-62877be2cba4\",\"type\":\"BasicTicker\"}},\"id\":\"0b72caf2-8223-4aab-8ced-791ab09eefc1\",\"type\":\"Grid\"},{\"attributes\":{\"plot\":{\"id\":\"f91e604d-7779-4841-b7a2-7aa0a1df41fd\",\"subtype\":\"Figure\",\"type\":\"Plot\"},\"ticker\":{\"id\":\"579d37fb-8957-49c9-a294-7b9016369320\",\"type\":\"BasicTicker\"}},\"id\":\"895d78de-e699-43a4-b041-b7748ba826d8\",\"type\":\"Grid\"},{\"attributes\":{\"below\":[{\"id\":\"bcb701e8-37d8-4efd-b40b-14227f8c6ded\",\"type\":\"LinearAxis\"}],\"left\":[{\"id\":\"d0ea372f-2cc5-4acf-be0d-6a206c061c9b\",\"type\":\"LinearAxis\"}],\"renderers\":[{\"id\":\"bcb701e8-37d8-4efd-b40b-14227f8c6ded\",\"type\":\"LinearAxis\"},{\"id\":\"895d78de-e699-43a4-b041-b7748ba826d8\",\"type\":\"Grid\"},{\"id\":\"d0ea372f-2cc5-4acf-be0d-6a206c061c9b\",\"type\":\"LinearAxis\"},{\"id\":\"0b72caf2-8223-4aab-8ced-791ab09eefc1\",\"type\":\"Grid\"},{\"id\":\"054a9f50-7aa6-48c8-a642-97152fbb222a\",\"type\":\"BoxAnnotation\"},{\"id\":\"508bacd0-834a-4adb-92a0-3d9ddb85d470\",\"type\":\"GlyphRenderer\"}],\"title\":{\"id\":\"24dac263-c98c-41cc-a181-d9fd251a6d16\",\"type\":\"Title\"},\"toolbar\":{\"id\":\"7ca7dbfc-1817-415c-a386-8cd125b9a012\",\"type\":\"Toolbar\"},\"x_range\":{\"id\":\"e6cf8c51-4c51-4731-812f-3d7ec599e842\",\"type\":\"DataRange1d\"},\"x_scale\":{\"id\":\"741e48ca-4800-4cf9-b28c-c4b29fc1a937\",\"type\":\"LinearScale\"},\"y_range\":{\"id\":\"073ac912-6c4e-417c-b8e6-ee06f51eda90\",\"type\":\"DataRange1d\"},\"y_scale\":{\"id\":\"40b56e91-9af5-4627-8c69-a6beb95321fe\",\"type\":\"LinearScale\"}},\"id\":\"f91e604d-7779-4841-b7a2-7aa0a1df41fd\",\"subtype\":\"Figure\",\"type\":\"Plot\"},{\"attributes\":{\"bottom_units\":\"screen\",\"fill_alpha\":{\"value\":0.5},\"fill_color\":{\"value\":\"lightgrey\"},\"left_units\":\"screen\",\"level\":\"overlay\",\"line_alpha\":{\"value\":1.0},\"line_color\":{\"value\":\"black\"},\"line_dash\":[4,4],\"line_width\":{\"value\":2},\"plot\":null,\"render_mode\":\"css\",\"right_units\":\"screen\",\"top_units\":\"screen\"},\"id\":\"054a9f50-7aa6-48c8-a642-97152fbb222a\",\"type\":\"BoxAnnotation\"},{\"attributes\":{\"callback\":null,\"column_names\":[\"x\",\"y\"],\"data\":{\"x\":{\"__ndarray__\":\"AAAAAAAAAEAAAAAAAAAAQAAAAAAAAABAAAAAAAAAAEAAAAAAAAAAQAAAAAAAAABAAAAAAAAAAEAAAAAAAAAAQAAAAAAAAABAAAAAAAAAAEAAAAAAAAAAQAAAAAAAAABAAAAAAAAAAEAAAAAAAAAAQAAAAAAAAABAAAAAAAAAAEAAAAAAAAAAQAAAAAAAAABAAAAAAAAAAEAAAAAAAAAAQAAAAAAAAABAAAAAAAAAAEAAAAAAAAAAQAAAAAAAAABAAAAAAAAAAEAAAAAAAAAAQAAAAAAAAABAAAAAAAAAAEAAAAAAAAAAQAAAAAAAAABAAAAAAAAAAEAAAAAAAAAAQAAAAAAAAABAAAAAAAAAAEAAAAAAAAAAQAAAAAAAAABAAAAAAAAAAEAAAAAAAAAAQAAAAAAAAABAAAAAAAAAAEAAAAAAAAAAQAAAAAAAAABAAAAAAAAAAEAAAAAAAAAAQAAAAAAAAABAAAAAAAAAAEAAAAAAAAAAQAAAAAAAAABAAAAAAAAAAEAAAAAAAAAAQAAAAAAAAABAAAAAAAAAAEAAAAAAAAAAQAAAAAAAAABAAAAAAAAAAEAAAAAAAAAAQAAAAAAAAABAAAAAAAAAAEAAAAAAAAAAQAAAAAAAAABAAAAAAAAAAEAAAAAAAAAAQAAAAAAAAABAAAAAAAAAAEAAAAAAAAAAQAAAAAAAAABAAAAAAAAAAEAAAAAAAAAAQAAAAAAAAABAAAAAAAAAAEAAAAAAAAAAQAAAAAAAAABAAAAAAAAAAEAAAAAAAAAAQAAAAAAAAABAAAAAAAAAAEAAAAAAAAAAQAAAAAAAAABAAAAAAAAAAEAAAAAAAAAAQAAAAAAAAABAAAAAAAAAAEAAAAAAAAAAQAAAAAAAAABAAAAAAAAAAEAAAAAAAAAAQAAAAAAAAABAAAAAAAAAAEAAAAAAAAAAQAAAAAAAAABAAAAAAAAAAEAAAAAAAAAAQAAAAAAAAABAAAAAAAAAAEAAAAAAAAAAQAAAAAAAAABAAAAAAAAAAEAAAAAAAAAAQAAAAAAAAABAAAAAAAAAAEAAAAAAAAAAQAAAAAAAAABAAAAAAAAAAEAAAAAAAAAAQAAAAAAAAABAAAAAAAAAAEAAAAAAAAAAQAAAAAAAAABAAAAAAAAAAEAAAAAAAAAAQAAAAAAAAABAAAAAAAAAAEAAAAAAAAAAQAAAAAAAAABAAAAAAAAAAEAAAAAAAAAAQAAAAAAAAABAAAAAAAAAAEAAAAAAAAAAQAAAAAAAAABAAAAAAAAAAEAAAAAAAAAAQAAAAAAAAABAAAAAAAAAAEAAAAAAAAAAQAAAAAAAAABAAAAAAAAAAEAAAAAAAAAAQAAAAAAAAABAAAAAAAAAAEAAAAAAAAAAQAAAAAAAAABAAAAAAAAAAEAAAAAAAAAAQAAAAAAAAABAAAAAAAAAAEAAAAAAAAAAQAAAAAAAAABAAAAAAAAAAEAAAAAAAAAAQAAAAAAAAABAAAAAAAAAAEAAAAAAAAAAQAAAAAAAAABAAAAAAAAAAEAAAAAAAAAAQAAAAAAAAABAAAAAAAAAAEAAAAAAAAAAQAAAAAAAAABAAAAAAAAAAEAAAAAAAAAAQAAAAAAAAABAAAAAAAAAAEAAAAAAAAAAQAAAAAAAAABAAAAAAAAAAEAAAAAAAAAAQAAAAAAAAABAAAAAAAAAAEAAAAAAAAAAQAAAAAAAAABAAAAAAAAAAEAAAAAAAAAAQAAAAAAAAABAAAAAAAAAAEAAAAAAAAAAQAAAAAAAAABAAAAAAAAAAEAAAAAAAAAAQAAAAAAAAABAAAAAAAAAAEAAAAAAAAAAQAAAAAAAAABAAAAAAAAAAEAAAAAAAAAAQAAAAAAAAABAAAAAAAAAAEAAAAAAAAAAQAAAAAAAAABAAAAAAAAAAEAAAAAAAAAAQAAAAAAAAABAAAAAAAAAAEAAAAAAAAAAQAAAAAAAAABAAAAAAAAAAEAAAAAAAAAAQAAAAAAAAABAAAAAAAAAAEAAAAAAAAAAQAAAAAAAAABAAAAAAAAAAEAAAAAAAAAAQAAAAAAAAABAAAAAAAAAAEAAAAAAAAAAQAAAAAAAAABAAAAAAAAAAEAAAAAAAAAAQAAAAAAAAABAAAAAAAAAAEAAAAAAAAAAQAAAAAAAAABAAAAAAAAAAEAAAAAAAAAAQAAAAAAAAABAAAAAAAAAAEAAAAAAAAAAQAAAAAAAAABAAAAAAAAAAEAAAAAAAAAAQAAAAAAAAABAAAAAAAAAAEAAAAAAAAAAQAAAAAAAAABAAAAAAAAAAEAAAAAAAAAAQAAAAAAAAABAAAAAAAAAAEAAAAAAAAAAQAAAAAAAAABAAAAAAAAAAEAAAAAAAAAAQAAAAAAAAABAAAAAAAAAAEAAAAAAAAAAQAAAAAAAAABAAAAAAAAAAEAAAAAAAAAAQAAAAAAAAABAAAAAAAAAAEAAAAAAAAAAQAAAAAAAAABAAAAAAAAAAEAAAAAAAAAAQAAAAAAAAABAAAAAAAAAAEAAAAAAAAAAQAAAAAAAAABAAAAAAAAAAEAAAAAAAAAAQAAAAAAAAABAAAAAAAAAAEAAAAAAAAAAQAAAAAAAAABAAAAAAAAAAEAAAAAAAAAAQAAAAAAAAABAAAAAAAAAAEAAAAAAAAAAQAAAAAAAAABAAAAAAAAAAEAAAAAAAAAAQAAAAAAAAABAAAAAAAAAAEAAAAAAAAAAQAAAAAAAAABAAAAAAAAAAEAAAAAAAAAAQAAAAAAAAABAAAAAAAAAAEAAAAAAAAAAQAAAAAAAAABAAAAAAAAAAEAAAAAAAAAAQAAAAAAAAABAAAAAAAAAAEAAAAAAAAAAQAAAAAAAAABAAAAAAAAAAEAAAAAAAAAAQAAAAAAAAABAAAAAAAAAAEAAAAAAAAAAQAAAAAAAAABAAAAAAAAAAEAAAAAAAAAAQAAAAAAAAABAAAAAAAAAAEAAAAAAAAAAQAAAAAAAAABAAAAAAAAAAEAAAAAAAAAAQAAAAAAAAABAAAAAAAAAAEAAAAAAAAAAQAAAAAAAAABAAAAAAAAAAEAAAAAAAAAAQAAAAAAAAABAAAAAAAAAAEAAAAAAAAAAQAAAAAAAAABAAAAAAAAAAEAAAAAAAAAAQAAAAAAAAABAAAAAAAAAAEAAAAAAAAAAQAAAAAAAAABAAAAAAAAAAEA=\",\"dtype\":\"float64\",\"shape\":[301]},\"y\":{\"__ndarray__\":\"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\",\"dtype\":\"float64\",\"shape\":[301]}},\"selected\":null,\"selection_policy\":null},\"id\":\"e91c0ad7-1ca6-47f3-a174-353b973dab75\",\"type\":\"ColumnDataSource\"},{\"attributes\":{\"callback\":null,\"tooltips\":[[\"(x,y)\",\"($x, $y)\"]]},\"id\":\"ecd7bf03-9221-4885-a357-92dc3db4d695\",\"type\":\"HoverTool\"},{\"attributes\":{\"align\":\"center\",\"plot\":null,\"text\":\"Initial condition for \\u03c8: constant\",\"text_font_size\":{\"value\":\"22px\"}},\"id\":\"24dac263-c98c-41cc-a181-d9fd251a6d16\",\"type\":\"Title\"},{\"attributes\":{\"axis_label\":\"\\u03b7 [m]\",\"axis_label_text_font_size\":{\"value\":\"18px\"},\"formatter\":{\"id\":\"1bbe0f8c-6db5-452b-98e9-1cee3e9e4d08\",\"type\":\"BasicTickFormatter\"},\"plot\":{\"id\":\"f91e604d-7779-4841-b7a2-7aa0a1df41fd\",\"subtype\":\"Figure\",\"type\":\"Plot\"},\"ticker\":{\"id\":\"9e3adffb-61c1-4239-84d4-62877be2cba4\",\"type\":\"BasicTicker\"}},\"id\":\"d0ea372f-2cc5-4acf-be0d-6a206c061c9b\",\"type\":\"LinearAxis\"},{\"attributes\":{\"callback\":null},\"id\":\"e6cf8c51-4c51-4731-812f-3d7ec599e842\",\"type\":\"DataRange1d\"},{\"attributes\":{},\"id\":\"a0a3e8d4-2285-4222-9dbf-0102e1de88d5\",\"type\":\"ResetTool\"},{\"attributes\":{\"active_drag\":\"auto\",\"active_inspect\":\"auto\",\"active_scroll\":\"auto\",\"active_tap\":\"auto\",\"tools\":[{\"id\":\"ecd7bf03-9221-4885-a357-92dc3db4d695\",\"type\":\"HoverTool\"},{\"id\":\"0ab87793-fd44-47f5-add6-f856695f1ec4\",\"type\":\"PanTool\"},{\"id\":\"d69305cc-6c79-4e7d-baf6-4c0080471a1b\",\"type\":\"WheelZoomTool\"},{\"id\":\"e9cf730e-5cd0-4942-8851-63c1e5ab42b9\",\"type\":\"BoxZoomTool\"},{\"id\":\"a0a3e8d4-2285-4222-9dbf-0102e1de88d5\",\"type\":\"ResetTool\"}]},\"id\":\"7ca7dbfc-1817-415c-a386-8cd125b9a012\",\"type\":\"Toolbar\"},{\"attributes\":{},\"id\":\"d69305cc-6c79-4e7d-baf6-4c0080471a1b\",\"type\":\"WheelZoomTool\"},{\"attributes\":{\"callback\":null},\"id\":\"073ac912-6c4e-417c-b8e6-ee06f51eda90\",\"type\":\"DataRange1d\"},{\"attributes\":{},\"id\":\"1bbe0f8c-6db5-452b-98e9-1cee3e9e4d08\",\"type\":\"BasicTickFormatter\"},{\"attributes\":{},\"id\":\"741e48ca-4800-4cf9-b28c-c4b29fc1a937\",\"type\":\"LinearScale\"},{\"attributes\":{},\"id\":\"9e3adffb-61c1-4239-84d4-62877be2cba4\",\"type\":\"BasicTicker\"},{\"attributes\":{},\"id\":\"40b56e91-9af5-4627-8c69-a6beb95321fe\",\"type\":\"LinearScale\"},{\"attributes\":{},\"id\":\"579d37fb-8957-49c9-a294-7b9016369320\",\"type\":\"BasicTicker\"},{\"attributes\":{\"fill_alpha\":{\"value\":0.1},\"fill_color\":{\"value\":\"#1f77b4\"},\"line_alpha\":{\"value\":0.1},\"line_color\":{\"value\":\"#1f77b4\"},\"x\":{\"field\":\"x\"},\"y\":{\"field\":\"y\"}},\"id\":\"8232ac38-afa5-4991-9224-ac6eb23e9c97\",\"type\":\"Circle\"},{\"attributes\":{\"source\":{\"id\":\"e91c0ad7-1ca6-47f3-a174-353b973dab75\",\"type\":\"ColumnDataSource\"}},\"id\":\"02775ae5-027a-4e5a-8e1d-7a241c772048\",\"type\":\"CDSView\"}],\"root_ids\":[\"f91e604d-7779-4841-b7a2-7aa0a1df41fd\"]},\"title\":\"Bokeh Application\",\"version\":\"0.12.15\"}};\n",
       "  var render_items = [{\"docid\":\"01176fdc-d261-4d0c-af6e-9d70af0cdbba\",\"elementid\":\"3be84768-f2c5-4d8e-9496-c7539bcb8e88\",\"modelid\":\"f91e604d-7779-4841-b7a2-7aa0a1df41fd\"}];\n",
       "  root.Bokeh.embed.embed_items_notebook(docs_json, render_items);\n",
       "\n",
       "  }\n",
       "  if (root.Bokeh !== undefined) {\n",
       "    embed_document(root);\n",
       "  } else {\n",
       "    var attempts = 0;\n",
       "    var timer = setInterval(function(root) {\n",
       "      if (root.Bokeh !== undefined) {\n",
       "        embed_document(root);\n",
       "        clearInterval(timer);\n",
       "      }\n",
       "      attempts++;\n",
       "      if (attempts > 100) {\n",
       "        console.log(\"Bokeh: ERROR: Unable to run BokehJS code because BokehJS library is missing\")\n",
       "        clearInterval(timer);\n",
       "      }\n",
       "    }, 10, root)\n",
       "  }\n",
       "})(window);"
      ],
      "application/vnd.bokehjs_exec.v0+json": ""
     },
     "metadata": {
      "application/vnd.bokehjs_exec.v0+json": {
       "id": "f91e604d-7779-4841-b7a2-7aa0a1df41fd"
      }
     },
     "output_type": "display_data"
    }
   ],
   "source": [
    "\n",
    "p1 = figure(plot_width=600, plot_height=600,tools=['pan,wheel_zoom,box_zoom,reset',hover],\n",
    "           title=\"Mouse over the dots\")\n",
    "p1.scatter(psiIC,eta, color=\"blue\")\n",
    "\n",
    "p1.xaxis.axis_label = '\\u03C8 [m]'\n",
    "p1.xaxis.axis_label_text_font_size = str(labelSize) + \"px\"\n",
    "\n",
    "p1.yaxis.axis_label = '\\u03b7 [m]'\n",
    "p1.yaxis.axis_label_text_font_size = str(labelSize) + \"px\"\n",
    "p1.title.text = 'Initial condition for \\u03C8: constant'\n",
    "p1.title.align = \"center\"\n",
    "p1.title.text_font_size = str(titleSize) + \"px\"\n",
    "\n",
    "\n",
    "show(p1)"
   ]
  },
  {
   "cell_type": "markdown",
   "metadata": {},
   "source": [
    "#### Linear interpolation of measuraments points"
   ]
  },
  {
   "cell_type": "code",
   "execution_count": 49,
   "metadata": {},
   "outputs": [],
   "source": [
    "\n",
    "for i in range(np.size(coordMeasPoint)-1,-1,-1):\n",
    "    etaInterp = []\n",
    "    if i==np.size(coordMeasPoint)-1:\n",
    "        etaInterp = eta[0:eta.tolist().index(coordMeasPoint[i-1])]\n",
    "        etap = [coordMeasPoint[i],coordMeasPoint[i-1]]\n",
    "        fp = [psiMeas[i],psiMeas[i-1]]\n",
    "        psiIC = np.append(psiIC, np.interp(etaInterp,etap,fp) )\n",
    "        #for j in range(0,np.size(etaInterp)):\n",
    "        #    psiIC = np.append(psiIC,psiMeas[i]+(coordMeasPoint[i]-etaInterp[j]))\n",
    "    elif i== 0:\n",
    "        etaInterp = eta[eta.tolist().index(coordMeasPoint[i]):np.size(eta)-1]\n",
    "        etap = [coordMeasPoint[i],0]\n",
    "        #fp = [psiMeas[i],data['psi'][0]]\n",
    "        fp = [psiMeas[i],-z[np.size(z)-1]]\n",
    "        psiIC = np.append(psiIC, np.interp(etaInterp,etap,fp) )\n",
    "    else:\n",
    "        etaInterp = eta[eta.tolist().index(coordMeasPoint[i-1]):eta.index(coordMeasPoint[i])]\n",
    "        etap = [coordMeasPoint[i],coordMeasPoint[i-1]]\n",
    "        fp = [psiMeas[i],psiMeas[i-1]]\n",
    "        psiIC = np.append(psiIC, np.interp(etaInterp,etap,fp) )\n",
    "\n",
    "psiIC = np.append(psiIC,data['psi'][0] )\n",
    "\n",
    " "
   ]
  },
  {
   "cell_type": "code",
   "execution_count": 50,
   "metadata": {},
   "outputs": [
    {
     "data": {
      "text/html": [
       "\n",
       "<div class=\"bk-root\">\n",
       "    <div class=\"bk-plotdiv\" id=\"06580453-e8cb-4025-a32b-1bc57eb635f2\"></div>\n",
       "</div>"
      ]
     },
     "metadata": {},
     "output_type": "display_data"
    },
    {
     "data": {
      "application/javascript": [
       "(function(root) {\n",
       "  function embed_document(root) {\n",
       "    \n",
       "  var docs_json = {\"7c6e65c0-c05b-4a90-8eff-79e39859a6a7\":{\"roots\":{\"references\":[{\"attributes\":{\"axis_label\":\"\\u03c8 [m]\",\"axis_label_text_font_size\":{\"value\":\"18px\"},\"formatter\":{\"id\":\"73f7708f-79f1-4071-bb3e-a07f464c3c1b\",\"type\":\"BasicTickFormatter\"},\"plot\":{\"id\":\"6bfd5ac4-12a4-4c4d-92e1-c78098d5d7ac\",\"subtype\":\"Figure\",\"type\":\"Plot\"},\"ticker\":{\"id\":\"4eaa30a1-7111-4809-86f5-7ae734e0a625\",\"type\":\"BasicTicker\"}},\"id\":\"c9a017f8-92ad-4068-a341-fae30a81f572\",\"type\":\"LinearAxis\"},{\"attributes\":{},\"id\":\"8468f61c-bcc4-47e0-a547-dfd8cf3c9db6\",\"type\":\"ResetTool\"},{\"attributes\":{\"bottom_units\":\"screen\",\"fill_alpha\":{\"value\":0.5},\"fill_color\":{\"value\":\"lightgrey\"},\"left_units\":\"screen\",\"level\":\"overlay\",\"line_alpha\":{\"value\":1.0},\"line_color\":{\"value\":\"black\"},\"line_dash\":[4,4],\"line_width\":{\"value\":2},\"plot\":null,\"render_mode\":\"css\",\"right_units\":\"screen\",\"top_units\":\"screen\"},\"id\":\"12eaaa06-4052-4bed-a3b7-39fcde7a000f\",\"type\":\"BoxAnnotation\"},{\"attributes\":{},\"id\":\"4eaa30a1-7111-4809-86f5-7ae734e0a625\",\"type\":\"BasicTicker\"},{\"attributes\":{},\"id\":\"207ca761-d995-443b-802e-2a430baa6dc6\",\"type\":\"PanTool\"},{\"attributes\":{\"callback\":null},\"id\":\"279260ed-24b9-425f-ae4e-802adf7a06c8\",\"type\":\"DataRange1d\"},{\"attributes\":{\"dimension\":1,\"plot\":{\"id\":\"6bfd5ac4-12a4-4c4d-92e1-c78098d5d7ac\",\"subtype\":\"Figure\",\"type\":\"Plot\"},\"ticker\":{\"id\":\"a341f54f-2c46-4f96-ba03-666efd08e222\",\"type\":\"BasicTicker\"}},\"id\":\"bab7535e-d923-4e07-bc1a-429e263705f3\",\"type\":\"Grid\"},{\"attributes\":{\"callback\":null},\"id\":\"1a1b77b4-1446-4266-9718-4a80a9e78553\",\"type\":\"DataRange1d\"},{\"attributes\":{\"callback\":null,\"tooltips\":[[\"(x,y)\",\"($x, $y)\"]]},\"id\":\"c790c0b2-c340-4384-9dde-caf3bc3d8b9b\",\"type\":\"HoverTool\"},{\"attributes\":{\"plot\":{\"id\":\"6bfd5ac4-12a4-4c4d-92e1-c78098d5d7ac\",\"subtype\":\"Figure\",\"type\":\"Plot\"},\"ticker\":{\"id\":\"4eaa30a1-7111-4809-86f5-7ae734e0a625\",\"type\":\"BasicTicker\"}},\"id\":\"31fea9e3-73ed-4566-848d-c03cc6eafef3\",\"type\":\"Grid\"},{\"attributes\":{},\"id\":\"89a0df05-9e01-49c1-886f-a0a91c134e20\",\"type\":\"WheelZoomTool\"},{\"attributes\":{},\"id\":\"73f7708f-79f1-4071-bb3e-a07f464c3c1b\",\"type\":\"BasicTickFormatter\"},{\"attributes\":{},\"id\":\"8320bae6-2add-4efa-8f1e-51eeab3665b9\",\"type\":\"LinearScale\"},{\"attributes\":{\"data_source\":{\"id\":\"2bd7a4e2-237b-4332-a7ef-931217c324a9\",\"type\":\"ColumnDataSource\"},\"glyph\":{\"id\":\"0f068cea-a2f7-4bc8-8f73-3f3141de4613\",\"type\":\"Circle\"},\"hover_glyph\":null,\"muted_glyph\":null,\"nonselection_glyph\":{\"id\":\"12162509-de4e-4213-830b-882798669e22\",\"type\":\"Circle\"},\"selection_glyph\":null,\"view\":{\"id\":\"ffcd49b3-9282-4c6a-932f-7e2ec22339fe\",\"type\":\"CDSView\"}},\"id\":\"5656d209-1eb8-4d35-87d7-69bb755fa2e9\",\"type\":\"GlyphRenderer\"},{\"attributes\":{\"source\":{\"id\":\"2bd7a4e2-237b-4332-a7ef-931217c324a9\",\"type\":\"ColumnDataSource\"}},\"id\":\"ffcd49b3-9282-4c6a-932f-7e2ec22339fe\",\"type\":\"CDSView\"},{\"attributes\":{},\"id\":\"f40cf969-84d5-41fc-9d4f-b5357a99a7a5\",\"type\":\"LinearScale\"},{\"attributes\":{\"below\":[{\"id\":\"c9a017f8-92ad-4068-a341-fae30a81f572\",\"type\":\"LinearAxis\"}],\"left\":[{\"id\":\"8fd6d0c7-7446-4913-abd4-3d432de6cb6a\",\"type\":\"LinearAxis\"}],\"renderers\":[{\"id\":\"c9a017f8-92ad-4068-a341-fae30a81f572\",\"type\":\"LinearAxis\"},{\"id\":\"31fea9e3-73ed-4566-848d-c03cc6eafef3\",\"type\":\"Grid\"},{\"id\":\"8fd6d0c7-7446-4913-abd4-3d432de6cb6a\",\"type\":\"LinearAxis\"},{\"id\":\"bab7535e-d923-4e07-bc1a-429e263705f3\",\"type\":\"Grid\"},{\"id\":\"12eaaa06-4052-4bed-a3b7-39fcde7a000f\",\"type\":\"BoxAnnotation\"},{\"id\":\"5656d209-1eb8-4d35-87d7-69bb755fa2e9\",\"type\":\"GlyphRenderer\"}],\"title\":{\"id\":\"1840afe2-707b-4e6b-8ab6-ceebde7486c6\",\"type\":\"Title\"},\"toolbar\":{\"id\":\"6b9d954d-dc3a-4e5b-bb83-1ada971de2a5\",\"type\":\"Toolbar\"},\"x_range\":{\"id\":\"279260ed-24b9-425f-ae4e-802adf7a06c8\",\"type\":\"DataRange1d\"},\"x_scale\":{\"id\":\"8320bae6-2add-4efa-8f1e-51eeab3665b9\",\"type\":\"LinearScale\"},\"y_range\":{\"id\":\"1a1b77b4-1446-4266-9718-4a80a9e78553\",\"type\":\"DataRange1d\"},\"y_scale\":{\"id\":\"f40cf969-84d5-41fc-9d4f-b5357a99a7a5\",\"type\":\"LinearScale\"}},\"id\":\"6bfd5ac4-12a4-4c4d-92e1-c78098d5d7ac\",\"subtype\":\"Figure\",\"type\":\"Plot\"},{\"attributes\":{\"overlay\":{\"id\":\"12eaaa06-4052-4bed-a3b7-39fcde7a000f\",\"type\":\"BoxAnnotation\"}},\"id\":\"885209f0-59fd-41d4-adcb-16476ce75b14\",\"type\":\"BoxZoomTool\"},{\"attributes\":{\"callback\":null,\"column_names\":[\"x\",\"y\"],\"data\":{\"x\":{\"__ndarray__\":\"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\",\"dtype\":\"float64\",\"shape\":[640]},\"y\":{\"__ndarray__\":\"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\",\"dtype\":\"float64\",\"shape\":[640]}},\"selected\":null,\"selection_policy\":null},\"id\":\"2bd7a4e2-237b-4332-a7ef-931217c324a9\",\"type\":\"ColumnDataSource\"},{\"attributes\":{\"fill_alpha\":{\"value\":0.1},\"fill_color\":{\"value\":\"#1f77b4\"},\"line_alpha\":{\"value\":0.1},\"line_color\":{\"value\":\"#1f77b4\"},\"x\":{\"field\":\"x\"},\"y\":{\"field\":\"y\"}},\"id\":\"12162509-de4e-4213-830b-882798669e22\",\"type\":\"Circle\"},{\"attributes\":{\"axis_label\":\"\\u03b7 [m]\",\"axis_label_text_font_size\":{\"value\":\"18px\"},\"formatter\":{\"id\":\"6118a37e-75cf-43fc-8b16-4b6955da810d\",\"type\":\"BasicTickFormatter\"},\"plot\":{\"id\":\"6bfd5ac4-12a4-4c4d-92e1-c78098d5d7ac\",\"subtype\":\"Figure\",\"type\":\"Plot\"},\"ticker\":{\"id\":\"a341f54f-2c46-4f96-ba03-666efd08e222\",\"type\":\"BasicTicker\"}},\"id\":\"8fd6d0c7-7446-4913-abd4-3d432de6cb6a\",\"type\":\"LinearAxis\"},{\"attributes\":{\"align\":\"center\",\"plot\":null,\"text\":\"Initial condition for \\u03c8:\\n interpolated from measuraments\",\"text_font_size\":{\"value\":\"22px\"}},\"id\":\"1840afe2-707b-4e6b-8ab6-ceebde7486c6\",\"type\":\"Title\"},{\"attributes\":{},\"id\":\"a341f54f-2c46-4f96-ba03-666efd08e222\",\"type\":\"BasicTicker\"},{\"attributes\":{\"active_drag\":\"auto\",\"active_inspect\":\"auto\",\"active_scroll\":\"auto\",\"active_tap\":\"auto\",\"tools\":[{\"id\":\"c790c0b2-c340-4384-9dde-caf3bc3d8b9b\",\"type\":\"HoverTool\"},{\"id\":\"207ca761-d995-443b-802e-2a430baa6dc6\",\"type\":\"PanTool\"},{\"id\":\"89a0df05-9e01-49c1-886f-a0a91c134e20\",\"type\":\"WheelZoomTool\"},{\"id\":\"885209f0-59fd-41d4-adcb-16476ce75b14\",\"type\":\"BoxZoomTool\"},{\"id\":\"8468f61c-bcc4-47e0-a547-dfd8cf3c9db6\",\"type\":\"ResetTool\"}]},\"id\":\"6b9d954d-dc3a-4e5b-bb83-1ada971de2a5\",\"type\":\"Toolbar\"},{\"attributes\":{\"fill_color\":{\"value\":\"blue\"},\"line_color\":{\"value\":\"blue\"},\"x\":{\"field\":\"x\"},\"y\":{\"field\":\"y\"}},\"id\":\"0f068cea-a2f7-4bc8-8f73-3f3141de4613\",\"type\":\"Circle\"},{\"attributes\":{},\"id\":\"6118a37e-75cf-43fc-8b16-4b6955da810d\",\"type\":\"BasicTickFormatter\"}],\"root_ids\":[\"6bfd5ac4-12a4-4c4d-92e1-c78098d5d7ac\"]},\"title\":\"Bokeh Application\",\"version\":\"0.12.15\"}};\n",
       "  var render_items = [{\"docid\":\"7c6e65c0-c05b-4a90-8eff-79e39859a6a7\",\"elementid\":\"06580453-e8cb-4025-a32b-1bc57eb635f2\",\"modelid\":\"6bfd5ac4-12a4-4c4d-92e1-c78098d5d7ac\"}];\n",
       "  root.Bokeh.embed.embed_items_notebook(docs_json, render_items);\n",
       "\n",
       "  }\n",
       "  if (root.Bokeh !== undefined) {\n",
       "    embed_document(root);\n",
       "  } else {\n",
       "    var attempts = 0;\n",
       "    var timer = setInterval(function(root) {\n",
       "      if (root.Bokeh !== undefined) {\n",
       "        embed_document(root);\n",
       "        clearInterval(timer);\n",
       "      }\n",
       "      attempts++;\n",
       "      if (attempts > 100) {\n",
       "        console.log(\"Bokeh: ERROR: Unable to run BokehJS code because BokehJS library is missing\")\n",
       "        clearInterval(timer);\n",
       "      }\n",
       "    }, 10, root)\n",
       "  }\n",
       "})(window);"
      ],
      "application/vnd.bokehjs_exec.v0+json": ""
     },
     "metadata": {
      "application/vnd.bokehjs_exec.v0+json": {
       "id": "6bfd5ac4-12a4-4c4d-92e1-c78098d5d7ac"
      }
     },
     "output_type": "display_data"
    }
   ],
   "source": [
    "p1 = figure(plot_width=600, plot_height=600,tools=['pan,wheel_zoom,box_zoom,reset',hover],\n",
    "           title=\"Mouse over the dots\")\n",
    "p1.scatter(psiIC,eta, color=\"blue\")\n",
    "\n",
    "p1.xaxis.axis_label = '\\u03C8 [m]'\n",
    "p1.xaxis.axis_label_text_font_size = str(labelSize) + \"px\"\n",
    "\n",
    "p1.yaxis.axis_label = '\\u03b7 [m]'\n",
    "p1.yaxis.axis_label_text_font_size = str(labelSize) + \"px\"\n",
    "p1.title.text = 'Initial condition for \\u03C8:\\n interpolated from measuraments'\n",
    "p1.title.align = \"center\"\n",
    "p1.title.text_font_size = str(titleSize) + \"px\"\n",
    "\n",
    "\n",
    "show(p1)  "
   ]
  },
  {
   "cell_type": "markdown",
   "metadata": {},
   "source": [
    "## Set parameters\n",
    "This section assing to each control volume of the domain its SWRC parameters accordingly with its depth"
   ]
  },
  {
   "cell_type": "code",
   "execution_count": 14,
   "metadata": {},
   "outputs": [],
   "source": [
    "thetaS = []\n",
    "thetaR = []\n",
    "Ks = []\n",
    "par1SWRC = []\n",
    "par2SWRC = []\n",
    "par3SWRC = []\n",
    "par4SWRC = []\n",
    "et = []\n",
    "\n",
    "\n",
    "coordLayer = []\n",
    "tempThetaS = []\n",
    "tempThetaR = []\n",
    "tempKs = []\n",
    "tempPar1 = []\n",
    "tempPar2 = []\n",
    "tempPar3 = []\n",
    "tempPar4 = []\n",
    "tempEt = []\n",
    "\n",
    "for i in data.index:\n",
    "    if data['Type'][i] == 'L':\n",
    "        coordLayer.append(data['eta'][i])\n",
    "        tempThetaS.append(data['thetaS'][i])\n",
    "        tempThetaR.append(data['thetaR'][i])\n",
    "        tempKs.append(data['Ks'][i])\n",
    "        tempPar1.append(data['par1SWRC'][i])\n",
    "        tempPar2.append(data['par2SWRC'][i])\n",
    "        tempPar3.append(data['alphaSpecificStorage'][i])\n",
    "        tempPar4.append(data['betaSpecificStorage'][i])\n",
    "        tempEt.append(data['et'][i])"
   ]
  },
  {
   "cell_type": "code",
   "execution_count": 15,
   "metadata": {},
   "outputs": [],
   "source": [
    "\n",
    "for i in range(np.size(coordLayer)-1,0,-1):\n",
    "    for j in range(0,np.size(eta)):\n",
    "        if(eta[j]>coordLayer[i] and eta[j]<coordLayer[i-1] ):\n",
    "            thetaS.append(tempThetaS[i-1])\n",
    "            thetaR.append(tempThetaR[i-1])\n",
    "            Ks.append(tempKs[i-1])\n",
    "            par1SWRC.append(tempPar1[i-1])\n",
    "            par2SWRC.append(tempPar2[i-1])\n",
    "            par3SWRC.append(tempPar3[i-1])\n",
    "            par4SWRC.append(tempPar4[i-1])\n",
    "            et.append(tempEt[i-1])\n",
    "    \n",
    "## add et coeff for free water\n",
    "et = np.append(et,0)"
   ]
  },
  {
   "cell_type": "markdown",
   "metadata": {},
   "source": [
    "## Grid plot\n",
    "The section below allows to plot the distribution of SWRC parameters in the soil column. In the first plot control volumes centroids are shown, whilst in the second one their interfaces. Moreover, in both plots soil layer and measurament points are drawn.\n",
    "\n",
    "These plots are drawn with bokeh library https://bokeh.pydata.org/en/latest/, and they are interactive."
   ]
  },
  {
   "cell_type": "code",
   "execution_count": 29,
   "metadata": {
    "scrolled": false
   },
   "outputs": [
    {
     "data": {
      "text/html": [
       "\n",
       "<div class=\"bk-root\">\n",
       "    <div class=\"bk-plotdiv\" id=\"e7d1a906-2e60-4964-a875-a9b486e925f0\"></div>\n",
       "</div>"
      ]
     },
     "metadata": {},
     "output_type": "display_data"
    },
    {
     "data": {
      "application/javascript": [
       "(function(root) {\n",
       "  function embed_document(root) {\n",
       "    \n",
       "  var docs_json = {\"1ce79eb3-4742-4f2f-958f-d36683d5df5d\":{\"roots\":{\"references\":[{\"attributes\":{\"child\":{\"id\":\"351c492d-ba04-4608-85a1-3e95d152ac79\",\"subtype\":\"Figure\",\"type\":\"Plot\"},\"title\":\"Theta_s\"},\"id\":\"a0f0aa10-8c30-46d1-a95e-360d6add88a4\",\"type\":\"Panel\"},{\"attributes\":{\"child\":{\"id\":\"9b0c5117-eddd-4042-a9ee-e3b05c792431\",\"subtype\":\"Figure\",\"type\":\"Plot\"},\"title\":\"\\u03b1\"},\"id\":\"7ba88713-c51e-4fb8-be3b-a036decbde6c\",\"type\":\"Panel\"},{\"attributes\":{\"dimension\":1,\"plot\":{\"id\":\"12703dc0-4b8c-46a8-bd1a-92bb86fe1c20\",\"subtype\":\"Figure\",\"type\":\"Plot\"},\"ticker\":{\"id\":\"36d4cda9-f2cb-45fc-9ce3-e0041ebd4594\",\"type\":\"BasicTicker\"}},\"id\":\"34c6cf82-dcd3-4d1a-9377-f779f0b79b45\",\"type\":\"Grid\"},{\"attributes\":{\"child\":{\"id\":\"12703dc0-4b8c-46a8-bd1a-92bb86fe1c20\",\"subtype\":\"Figure\",\"type\":\"Plot\"},\"title\":\"SWRC par1\"},\"id\":\"cc9e6387-3715-4fd1-9bf1-39da1a8fa0d9\",\"type\":\"Panel\"},{\"attributes\":{\"align\":\"center\",\"plot\":null,\"text\":\"Compressibility of water\",\"text_font_size\":{\"value\":\"22px\"}},\"id\":\"e4ebc4be-6176-448a-bf41-3cd12a4a38a3\",\"type\":\"Title\"},{\"attributes\":{\"align\":\"center\",\"plot\":null,\"text\":\"Residual water content\",\"text_font_size\":{\"value\":\"22px\"}},\"id\":\"158891de-f20b-44d9-b542-15433248b0ef\",\"type\":\"Title\"},{\"attributes\":{\"fill_color\":{\"value\":\"red\"},\"line_color\":{\"value\":\"red\"},\"line_width\":{\"value\":1.5},\"x\":{\"field\":\"x\"},\"y\":{\"field\":\"y\"}},\"id\":\"b02e5fcc-7c06-472c-8dcc-35f3a1532b05\",\"type\":\"Circle\"},{\"attributes\":{\"fill_color\":{\"value\":\"red\"},\"line_color\":{\"value\":\"red\"},\"line_width\":{\"value\":1.5},\"x\":{\"field\":\"x\"},\"y\":{\"field\":\"y\"}},\"id\":\"98d6c39c-99a7-449c-a18f-457fd2c605a3\",\"type\":\"Circle\"},{\"attributes\":{\"bottom_units\":\"screen\",\"fill_alpha\":{\"value\":0.5},\"fill_color\":{\"value\":\"lightgrey\"},\"left_units\":\"screen\",\"level\":\"overlay\",\"line_alpha\":{\"value\":1.0},\"line_color\":{\"value\":\"black\"},\"line_dash\":[4,4],\"line_width\":{\"value\":2},\"plot\":null,\"render_mode\":\"css\",\"right_units\":\"screen\",\"top_units\":\"screen\"},\"id\":\"f313de52-da93-4629-b90d-519751319b12\",\"type\":\"BoxAnnotation\"},{\"attributes\":{\"fill_color\":{\"value\":\"red\"},\"line_color\":{\"value\":\"red\"},\"line_width\":{\"value\":1.5},\"x\":{\"field\":\"x\"},\"y\":{\"field\":\"y\"}},\"id\":\"349945ef-b715-4eca-bd62-f9df7100443a\",\"type\":\"Circle\"},{\"attributes\":{\"callback\":null,\"column_names\":[\"x\",\"y\"],\"data\":{\"x\":[0,0,0,0,0,0,0,0,0,0,0,0,0,0,0,0,0,0,0,0,0,0,0,0,0,0,0,0,0,0,0,0,0,0,0,0,0,0,0,0,0,0,0,0,0,0,0,0,0,0,0,0,0,0,0,0,0,0,0,0,0,0,0,0,0,0,0,0,0,0,0,0,0,0,0,0,0,0,0,0,0,0,0,0,0,0,0,0,0,0,0,0,0,0,0,0,0,0,0,0,0,0,0,0,0,0,0,0,0,0,0,0,0,0,0,0,0,0,0,0,0,0,0,0,0,0,0,0,0,0,0,0,0,0,0,0,0,0,0,0,0,0,0,0,0,0,0,0,0,0,0,0,0,0,0,0,0,0,0,0,0,0,0,0,0,0,0,0,0,0,0,0,0,0,0,0,0,0,0,0,0,0,0,0,0,0,0,0,0,0,0,0,0,0,0,0,0,0,0,0,0,0,0,0,0,0,0,0,0,0,0,0,0,0,0,0,0,0,0,0,0,0,0,0,0,0,0,0,0,0,0,0,0,0,0,0,0,0,0,0,0,0,0,0,0,0,0,0,0,0,0,0,0,0,0,0,0,0,0,0,0,0,0,0,0,0,0,0,0,0,0,0,0,0,0,0,0,0,0,0,0,0,0,0,0,0,0,0,0,0,0,0,0,0,0,0,0,0,0,0],\"y\":{\"__ndarray__\":\"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\",\"dtype\":\"float64\",\"shape\":[300]}},\"selected\":null,\"selection_policy\":null},\"id\":\"f2aad91c-17aa-4444-998f-a701d687561a\",\"type\":\"ColumnDataSource\"},{\"attributes\":{\"below\":[{\"id\":\"e898b9f6-81e5-4466-85c5-5d7006f9eaca\",\"type\":\"LinearAxis\"}],\"left\":[{\"id\":\"3b174354-9633-4209-981d-2e4c05bc3444\",\"type\":\"LinearAxis\"}],\"renderers\":[{\"id\":\"e898b9f6-81e5-4466-85c5-5d7006f9eaca\",\"type\":\"LinearAxis\"},{\"id\":\"b4d4b03f-77bc-43c2-8545-abe8c9bc80d1\",\"type\":\"Grid\"},{\"id\":\"3b174354-9633-4209-981d-2e4c05bc3444\",\"type\":\"LinearAxis\"},{\"id\":\"15663f70-c8a8-4faf-b727-160d927b1e99\",\"type\":\"Grid\"},{\"id\":\"6f008643-a4a1-47ba-906d-5eb21a2e8eea\",\"type\":\"BoxAnnotation\"},{\"id\":\"e682c7f9-c631-42fa-b85e-539493cd07c7\",\"type\":\"GlyphRenderer\"}],\"title\":{\"id\":\"e4ebc4be-6176-448a-bf41-3cd12a4a38a3\",\"type\":\"Title\"},\"toolbar\":{\"id\":\"73c3db61-0211-4815-8814-a3b2cb685061\",\"type\":\"Toolbar\"},\"x_range\":{\"id\":\"199956cc-25d4-408e-9483-0f5b8b7b72b5\",\"type\":\"DataRange1d\"},\"x_scale\":{\"id\":\"d918cbd0-499f-4927-b929-e9df5ac2ecaf\",\"type\":\"LinearScale\"},\"y_range\":{\"id\":\"b895b2bf-c044-43e3-8072-caf2afeb6590\",\"type\":\"DataRange1d\"},\"y_scale\":{\"id\":\"0fc6ddbf-23aa-43f4-a191-7cf2f7a9c827\",\"type\":\"LinearScale\"}},\"id\":\"ad18fab8-4fe8-4282-8353-bf85a26045e8\",\"subtype\":\"Figure\",\"type\":\"Plot\"},{\"attributes\":{\"callback\":null,\"column_names\":[\"x\",\"y\"],\"data\":{\"x\":[0.07,0.07,0.07,0.07,0.07,0.07,0.07,0.07,0.07,0.07,0.07,0.07,0.07,0.07,0.07,0.07,0.07,0.07,0.07,0.07,0.07,0.07,0.07,0.07,0.07,0.07,0.07,0.07,0.07,0.07,0.07,0.07,0.07,0.07,0.07,0.07,0.07,0.07,0.07,0.07,0.07,0.07,0.07,0.07,0.07,0.07,0.07,0.07,0.07,0.07,0.07,0.07,0.07,0.07,0.07,0.07,0.07,0.07,0.07,0.07,0.07,0.07,0.07,0.07,0.07,0.07,0.07,0.07,0.07,0.07,0.07,0.07,0.07,0.07,0.07,0.07,0.07,0.07,0.07,0.07,0.07,0.07,0.07,0.07,0.07,0.07,0.07,0.07,0.07,0.07,0.07,0.07,0.07,0.07,0.07,0.07,0.07,0.07,0.07,0.07,0.035,0.035,0.035,0.035,0.035,0.035,0.035,0.035,0.035,0.035,0.035,0.035,0.035,0.035,0.035,0.035,0.035,0.035,0.035,0.035,0.035,0.035,0.035,0.035,0.035,0.035,0.035,0.035,0.035,0.035,0.035,0.035,0.035,0.035,0.035,0.035,0.035,0.035,0.035,0.035,0.035,0.035,0.035,0.035,0.035,0.035,0.035,0.035,0.035,0.035,0.035,0.035,0.035,0.035,0.035,0.035,0.035,0.035,0.035,0.035,0.035,0.035,0.035,0.035,0.035,0.035,0.035,0.035,0.035,0.035,0.035,0.035,0.035,0.035,0.035,0.035,0.035,0.035,0.035,0.035,0.035,0.035,0.035,0.035,0.035,0.035,0.035,0.035,0.035,0.035,0.035,0.035,0.035,0.035,0.035,0.035,0.035,0.035,0.035,0.035,0.07,0.07,0.07,0.07,0.07,0.07,0.07,0.07,0.07,0.07,0.07,0.07,0.07,0.07,0.07,0.07,0.07,0.07,0.07,0.07,0.07,0.07,0.07,0.07,0.07,0.07,0.07,0.07,0.07,0.07,0.07,0.07,0.07,0.07,0.07,0.07,0.07,0.07,0.07,0.07,0.07,0.07,0.07,0.07,0.07,0.07,0.07,0.07,0.07,0.07,0.07,0.07,0.07,0.07,0.07,0.07,0.07,0.07,0.07,0.07,0.07,0.07,0.07,0.07,0.07,0.07,0.07,0.07,0.07,0.07,0.07,0.07,0.07,0.07,0.07,0.07,0.07,0.07,0.07,0.07,0.07,0.07,0.07,0.07,0.07,0.07,0.07,0.07,0.07,0.07,0.07,0.07,0.07,0.07,0.07,0.07,0.07,0.07,0.07,0.07],\"y\":{\"__ndarray__\":\"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\",\"dtype\":\"float64\",\"shape\":[300]}},\"selected\":null,\"selection_policy\":null},\"id\":\"732866ef-c3b1-4509-860e-233bca5a4470\",\"type\":\"ColumnDataSource\"},{\"attributes\":{},\"id\":\"59eb03a7-8a52-4852-9f68-8d803182da39\",\"type\":\"PanTool\"},{\"attributes\":{\"below\":[{\"id\":\"be7bd3a8-86ed-4835-a093-08d2bfcd030a\",\"type\":\"LinearAxis\"}],\"left\":[{\"id\":\"d47b00bb-46c9-4bbb-b9f8-9b125e2d23c9\",\"type\":\"LinearAxis\"}],\"renderers\":[{\"id\":\"be7bd3a8-86ed-4835-a093-08d2bfcd030a\",\"type\":\"LinearAxis\"},{\"id\":\"100f9ea0-97c8-4afd-a0ae-f8da8fbc69af\",\"type\":\"Grid\"},{\"id\":\"d47b00bb-46c9-4bbb-b9f8-9b125e2d23c9\",\"type\":\"LinearAxis\"},{\"id\":\"a216c12b-6c36-4dcf-9bab-2f447c5fd926\",\"type\":\"Grid\"},{\"id\":\"2e8d741d-c01f-4b3c-8734-21b1cb46f498\",\"type\":\"BoxAnnotation\"},{\"id\":\"3fb64f05-c462-4e61-a1cd-02a6b612b3f3\",\"type\":\"GlyphRenderer\"}],\"title\":{\"id\":\"158891de-f20b-44d9-b542-15433248b0ef\",\"type\":\"Title\"},\"toolbar\":{\"id\":\"12c3aa0d-2a51-444d-a8d9-e51f5ca32aed\",\"type\":\"Toolbar\"},\"x_range\":{\"id\":\"556555c8-284b-4992-968a-32265148b86e\",\"type\":\"DataRange1d\"},\"x_scale\":{\"id\":\"f4827893-4020-4ba8-97cf-35ad0f99fe9e\",\"type\":\"LinearScale\"},\"y_range\":{\"id\":\"d0769d92-8fe7-424f-9064-8e48e0271833\",\"type\":\"DataRange1d\"},\"y_scale\":{\"id\":\"d7469dff-e830-4778-9914-b6798bbd6faa\",\"type\":\"LinearScale\"}},\"id\":\"a3051978-b059-465c-abba-3eaeaab3d42a\",\"subtype\":\"Figure\",\"type\":\"Plot\"},{\"attributes\":{\"callback\":null},\"id\":\"199956cc-25d4-408e-9483-0f5b8b7b72b5\",\"type\":\"DataRange1d\"},{\"attributes\":{},\"id\":\"4ae5db00-bef4-43bc-af39-c6eaa7d97032\",\"type\":\"WheelZoomTool\"},{\"attributes\":{\"callback\":null},\"id\":\"556555c8-284b-4992-968a-32265148b86e\",\"type\":\"DataRange1d\"},{\"attributes\":{\"active_drag\":\"auto\",\"active_inspect\":\"auto\",\"active_scroll\":\"auto\",\"active_tap\":\"auto\",\"tools\":[{\"id\":\"cb616404-5000-4558-b0bb-67620f7dc6cb\",\"type\":\"HoverTool\"},{\"id\":\"dc2a3221-6221-49be-af70-49fe3249916e\",\"type\":\"PanTool\"},{\"id\":\"1bc9bd02-bfc1-4d69-98a8-37a5c735ed2f\",\"type\":\"WheelZoomTool\"},{\"id\":\"50e61146-5e8f-43a4-bc8e-5dfc4e1d7240\",\"type\":\"BoxZoomTool\"},{\"id\":\"a2c75f10-bc03-41cd-8dc4-7bc9c5bee940\",\"type\":\"ResetTool\"}]},\"id\":\"73c3db61-0211-4815-8814-a3b2cb685061\",\"type\":\"Toolbar\"},{\"attributes\":{\"overlay\":{\"id\":\"f313de52-da93-4629-b90d-519751319b12\",\"type\":\"BoxAnnotation\"}},\"id\":\"a4abb9ff-e380-432b-860e-2032739dc3f5\",\"type\":\"BoxZoomTool\"},{\"attributes\":{\"active_drag\":\"auto\",\"active_inspect\":\"auto\",\"active_scroll\":\"auto\",\"active_tap\":\"auto\",\"tools\":[{\"id\":\"cb616404-5000-4558-b0bb-67620f7dc6cb\",\"type\":\"HoverTool\"},{\"id\":\"bb22b699-966d-4bf7-b529-8e90e52b86d9\",\"type\":\"PanTool\"},{\"id\":\"d95d5786-5d6e-4c50-b9b3-122887553575\",\"type\":\"WheelZoomTool\"},{\"id\":\"5722436a-759f-4514-8b93-89a9af108ab2\",\"type\":\"BoxZoomTool\"},{\"id\":\"f28977c6-f1c2-41d4-95f4-6c6fb531047a\",\"type\":\"ResetTool\"}]},\"id\":\"12c3aa0d-2a51-444d-a8d9-e51f5ca32aed\",\"type\":\"Toolbar\"},{\"attributes\":{\"callback\":null},\"id\":\"b895b2bf-c044-43e3-8072-caf2afeb6590\",\"type\":\"DataRange1d\"},{\"attributes\":{},\"id\":\"4ecd2783-6810-4c4c-b982-29ad3ac66012\",\"type\":\"ResetTool\"},{\"attributes\":{\"callback\":null},\"id\":\"d0769d92-8fe7-424f-9064-8e48e0271833\",\"type\":\"DataRange1d\"},{\"attributes\":{},\"id\":\"d918cbd0-499f-4927-b929-e9df5ac2ecaf\",\"type\":\"LinearScale\"},{\"attributes\":{\"fill_alpha\":{\"value\":0.1},\"fill_color\":{\"value\":\"#1f77b4\"},\"line_alpha\":{\"value\":0.1},\"line_color\":{\"value\":\"#1f77b4\"},\"line_width\":{\"value\":1.5},\"x\":{\"field\":\"x\"},\"y\":{\"field\":\"y\"}},\"id\":\"77a02093-f966-4368-9497-4e52c85f40fd\",\"type\":\"Circle\"},{\"attributes\":{},\"id\":\"f4827893-4020-4ba8-97cf-35ad0f99fe9e\",\"type\":\"LinearScale\"},{\"attributes\":{\"data_source\":{\"id\":\"7cd982a7-f01b-4dd0-876e-a9ceb7443048\",\"type\":\"ColumnDataSource\"},\"glyph\":{\"id\":\"b02e5fcc-7c06-472c-8dcc-35f3a1532b05\",\"type\":\"Circle\"},\"hover_glyph\":null,\"muted_glyph\":null,\"nonselection_glyph\":{\"id\":\"77a02093-f966-4368-9497-4e52c85f40fd\",\"type\":\"Circle\"},\"selection_glyph\":null,\"view\":{\"id\":\"af676f02-c608-47ae-9ec9-67189ffe0b4e\",\"type\":\"CDSView\"}},\"id\":\"400402c2-7465-4e6d-86ce-7fcc1cc2f80e\",\"type\":\"GlyphRenderer\"},{\"attributes\":{},\"id\":\"0fc6ddbf-23aa-43f4-a191-7cf2f7a9c827\",\"type\":\"LinearScale\"},{\"attributes\":{},\"id\":\"d7469dff-e830-4778-9914-b6798bbd6faa\",\"type\":\"LinearScale\"},{\"attributes\":{\"plot\":{\"id\":\"ad18fab8-4fe8-4282-8353-bf85a26045e8\",\"subtype\":\"Figure\",\"type\":\"Plot\"},\"ticker\":{\"id\":\"99b7a1d8-de7d-47eb-b635-d7612ebb3346\",\"type\":\"BasicTicker\"}},\"id\":\"b4d4b03f-77bc-43c2-8545-abe8c9bc80d1\",\"type\":\"Grid\"},{\"attributes\":{\"source\":{\"id\":\"7cd982a7-f01b-4dd0-876e-a9ceb7443048\",\"type\":\"ColumnDataSource\"}},\"id\":\"af676f02-c608-47ae-9ec9-67189ffe0b4e\",\"type\":\"CDSView\"},{\"attributes\":{\"plot\":{\"id\":\"a3051978-b059-465c-abba-3eaeaab3d42a\",\"subtype\":\"Figure\",\"type\":\"Plot\"},\"ticker\":{\"id\":\"529f8699-d24a-4cef-838f-97a0cbcaf683\",\"type\":\"BasicTicker\"}},\"id\":\"100f9ea0-97c8-4afd-a0ae-f8da8fbc69af\",\"type\":\"Grid\"},{\"attributes\":{\"axis_label\":\"\\u03b2 [1/Pa]\",\"axis_label_text_font_size\":{\"value\":\"18px\"},\"formatter\":{\"id\":\"fe15883d-ff0d-4233-935d-f9339cc74f21\",\"type\":\"BasicTickFormatter\"},\"plot\":{\"id\":\"ad18fab8-4fe8-4282-8353-bf85a26045e8\",\"subtype\":\"Figure\",\"type\":\"Plot\"},\"ticker\":{\"id\":\"99b7a1d8-de7d-47eb-b635-d7612ebb3346\",\"type\":\"BasicTicker\"}},\"id\":\"e898b9f6-81e5-4466-85c5-5d7006f9eaca\",\"type\":\"LinearAxis\"},{\"attributes\":{},\"id\":\"d3a05e25-5306-4ba9-81c5-3f99dd843b08\",\"type\":\"BasicTickFormatter\"},{\"attributes\":{\"axis_label\":\"residual water content [-]\",\"axis_label_text_font_size\":{\"value\":\"18px\"},\"formatter\":{\"id\":\"b829bb18-cf00-4784-acf1-f4928ce825ee\",\"type\":\"BasicTickFormatter\"},\"plot\":{\"id\":\"a3051978-b059-465c-abba-3eaeaab3d42a\",\"subtype\":\"Figure\",\"type\":\"Plot\"},\"ticker\":{\"id\":\"529f8699-d24a-4cef-838f-97a0cbcaf683\",\"type\":\"BasicTicker\"}},\"id\":\"be7bd3a8-86ed-4835-a093-08d2bfcd030a\",\"type\":\"LinearAxis\"},{\"attributes\":{\"fill_color\":{\"value\":\"red\"},\"line_color\":{\"value\":\"red\"},\"line_width\":{\"value\":1.5},\"x\":{\"field\":\"x\"},\"y\":{\"field\":\"y\"}},\"id\":\"08ff319c-a8cf-412c-910d-35ddff41d825\",\"type\":\"Circle\"},{\"attributes\":{},\"id\":\"99b7a1d8-de7d-47eb-b635-d7612ebb3346\",\"type\":\"BasicTicker\"},{\"attributes\":{\"axis_label\":\"\\u03b7 [m]\",\"axis_label_text_font_size\":{\"value\":\"18px\"},\"formatter\":{\"id\":\"b9855230-5418-46c5-8ae3-dd191300eb81\",\"type\":\"BasicTickFormatter\"},\"plot\":{\"id\":\"ad18fab8-4fe8-4282-8353-bf85a26045e8\",\"subtype\":\"Figure\",\"type\":\"Plot\"},\"ticker\":{\"id\":\"81f7536d-41d5-4238-9b96-0cca2d504acb\",\"type\":\"BasicTicker\"}},\"id\":\"3b174354-9633-4209-981d-2e4c05bc3444\",\"type\":\"LinearAxis\"},{\"attributes\":{},\"id\":\"529f8699-d24a-4cef-838f-97a0cbcaf683\",\"type\":\"BasicTicker\"},{\"attributes\":{\"axis_label\":\"\\u03b7 [m]\",\"axis_label_text_font_size\":{\"value\":\"18px\"},\"formatter\":{\"id\":\"cc220ea3-c568-48af-a279-da879ecbead0\",\"type\":\"BasicTickFormatter\"},\"plot\":{\"id\":\"a3051978-b059-465c-abba-3eaeaab3d42a\",\"subtype\":\"Figure\",\"type\":\"Plot\"},\"ticker\":{\"id\":\"544e2b2f-8eb9-4dc1-bf26-508f041ec905\",\"type\":\"BasicTicker\"}},\"id\":\"d47b00bb-46c9-4bbb-b9f8-9b125e2d23c9\",\"type\":\"LinearAxis\"},{\"attributes\":{},\"id\":\"899c3f77-fead-40cd-8ca7-ed2276497c31\",\"type\":\"BasicTickFormatter\"},{\"attributes\":{},\"id\":\"81f7536d-41d5-4238-9b96-0cca2d504acb\",\"type\":\"BasicTicker\"},{\"attributes\":{\"align\":\"center\",\"plot\":null,\"text\":\"SWRC parameter 2\",\"text_font_size\":{\"value\":\"22px\"}},\"id\":\"3643e01f-27b8-49d8-b85b-16bf1f042845\",\"type\":\"Title\"},{\"attributes\":{\"dimension\":1,\"plot\":{\"id\":\"ad18fab8-4fe8-4282-8353-bf85a26045e8\",\"subtype\":\"Figure\",\"type\":\"Plot\"},\"ticker\":{\"id\":\"81f7536d-41d5-4238-9b96-0cca2d504acb\",\"type\":\"BasicTicker\"}},\"id\":\"15663f70-c8a8-4faf-b727-160d927b1e99\",\"type\":\"Grid\"},{\"attributes\":{},\"id\":\"544e2b2f-8eb9-4dc1-bf26-508f041ec905\",\"type\":\"BasicTicker\"},{\"attributes\":{\"child\":{\"id\":\"ad18fab8-4fe8-4282-8353-bf85a26045e8\",\"subtype\":\"Figure\",\"type\":\"Plot\"},\"title\":\"\\u03b2\"},\"id\":\"4401fdab-c1ed-4c0e-a3f2-8ca95b7696bf\",\"type\":\"Panel\"},{\"attributes\":{\"dimension\":1,\"plot\":{\"id\":\"a3051978-b059-465c-abba-3eaeaab3d42a\",\"subtype\":\"Figure\",\"type\":\"Plot\"},\"ticker\":{\"id\":\"544e2b2f-8eb9-4dc1-bf26-508f041ec905\",\"type\":\"BasicTicker\"}},\"id\":\"a216c12b-6c36-4dcf-9bab-2f447c5fd926\",\"type\":\"Grid\"},{\"attributes\":{\"child\":{\"id\":\"a3051978-b059-465c-abba-3eaeaab3d42a\",\"subtype\":\"Figure\",\"type\":\"Plot\"},\"title\":\"Theta_r\"},\"id\":\"b879e2c4-fef5-42cc-a65b-32786f0b58dd\",\"type\":\"Panel\"},{\"attributes\":{\"callback\":null},\"id\":\"fd449a1c-5716-4bfb-8450-db87410efea3\",\"type\":\"DataRange1d\"},{\"attributes\":{\"bottom_units\":\"screen\",\"fill_alpha\":{\"value\":0.5},\"fill_color\":{\"value\":\"lightgrey\"},\"left_units\":\"screen\",\"level\":\"overlay\",\"line_alpha\":{\"value\":1.0},\"line_color\":{\"value\":\"black\"},\"line_dash\":[4,4],\"line_width\":{\"value\":2},\"plot\":null,\"render_mode\":\"css\",\"right_units\":\"screen\",\"top_units\":\"screen\"},\"id\":\"6f008643-a4a1-47ba-906d-5eb21a2e8eea\",\"type\":\"BoxAnnotation\"},{\"attributes\":{\"bottom_units\":\"screen\",\"fill_alpha\":{\"value\":0.5},\"fill_color\":{\"value\":\"lightgrey\"},\"left_units\":\"screen\",\"level\":\"overlay\",\"line_alpha\":{\"value\":1.0},\"line_color\":{\"value\":\"black\"},\"line_dash\":[4,4],\"line_width\":{\"value\":2},\"plot\":null,\"render_mode\":\"css\",\"right_units\":\"screen\",\"top_units\":\"screen\"},\"id\":\"2e8d741d-c01f-4b3c-8734-21b1cb46f498\",\"type\":\"BoxAnnotation\"},{\"attributes\":{\"callback\":null,\"column_names\":[\"x\",\"y\"],\"data\":{\"x\":[-34.96,-34.96,-34.96,-34.96,-34.96,-34.96,-34.96,-34.96,-34.96,-34.96,-34.96,-34.96,-34.96,-34.96,-34.96,-34.96,-34.96,-34.96,-34.96,-34.96,-34.96,-34.96,-34.96,-34.96,-34.96,-34.96,-34.96,-34.96,-34.96,-34.96,-34.96,-34.96,-34.96,-34.96,-34.96,-34.96,-34.96,-34.96,-34.96,-34.96,-34.96,-34.96,-34.96,-34.96,-34.96,-34.96,-34.96,-34.96,-34.96,-34.96,-34.96,-34.96,-34.96,-34.96,-34.96,-34.96,-34.96,-34.96,-34.96,-34.96,-34.96,-34.96,-34.96,-34.96,-34.96,-34.96,-34.96,-34.96,-34.96,-34.96,-34.96,-34.96,-34.96,-34.96,-34.96,-34.96,-34.96,-34.96,-34.96,-34.96,-34.96,-34.96,-34.96,-34.96,-34.96,-34.96,-34.96,-34.96,-34.96,-34.96,-34.96,-34.96,-34.96,-34.96,-34.96,-34.96,-34.96,-34.96,-34.96,-34.96,-14.992,-14.992,-14.992,-14.992,-14.992,-14.992,-14.992,-14.992,-14.992,-14.992,-14.992,-14.992,-14.992,-14.992,-14.992,-14.992,-14.992,-14.992,-14.992,-14.992,-14.992,-14.992,-14.992,-14.992,-14.992,-14.992,-14.992,-14.992,-14.992,-14.992,-14.992,-14.992,-14.992,-14.992,-14.992,-14.992,-14.992,-14.992,-14.992,-14.992,-14.992,-14.992,-14.992,-14.992,-14.992,-14.992,-14.992,-14.992,-14.992,-14.992,-14.992,-14.992,-14.992,-14.992,-14.992,-14.992,-14.992,-14.992,-14.992,-14.992,-14.992,-14.992,-14.992,-14.992,-14.992,-14.992,-14.992,-14.992,-14.992,-14.992,-14.992,-14.992,-14.992,-14.992,-14.992,-14.992,-14.992,-14.992,-14.992,-14.992,-14.992,-14.992,-14.992,-14.992,-14.992,-14.992,-14.992,-14.992,-14.992,-14.992,-14.992,-14.992,-14.992,-14.992,-14.992,-14.992,-14.992,-14.992,-14.992,-14.992,-34.96,-34.96,-34.96,-34.96,-34.96,-34.96,-34.96,-34.96,-34.96,-34.96,-34.96,-34.96,-34.96,-34.96,-34.96,-34.96,-34.96,-34.96,-34.96,-34.96,-34.96,-34.96,-34.96,-34.96,-34.96,-34.96,-34.96,-34.96,-34.96,-34.96,-34.96,-34.96,-34.96,-34.96,-34.96,-34.96,-34.96,-34.96,-34.96,-34.96,-34.96,-34.96,-34.96,-34.96,-34.96,-34.96,-34.96,-34.96,-34.96,-34.96,-34.96,-34.96,-34.96,-34.96,-34.96,-34.96,-34.96,-34.96,-34.96,-34.96,-34.96,-34.96,-34.96,-34.96,-34.96,-34.96,-34.96,-34.96,-34.96,-34.96,-34.96,-34.96,-34.96,-34.96,-34.96,-34.96,-34.96,-34.96,-34.96,-34.96,-34.96,-34.96,-34.96,-34.96,-34.96,-34.96,-34.96,-34.96,-34.96,-34.96,-34.96,-34.96,-34.96,-34.96,-34.96,-34.96,-34.96,-34.96,-34.96,-34.96],\"y\":{\"__ndarray__\":\"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\",\"dtype\":\"float64\",\"shape\":[300]}},\"selected\":null,\"selection_policy\":null},\"id\":\"9d5b4a7e-49f9-4407-b0f0-632f22031ad9\",\"type\":\"ColumnDataSource\"},{\"attributes\":{},\"id\":\"dc2a3221-6221-49be-af70-49fe3249916e\",\"type\":\"PanTool\"},{\"attributes\":{\"child\":{\"id\":\"a61ee633-6b08-449f-9e88-e78351a2fd3b\",\"subtype\":\"Figure\",\"type\":\"Plot\"},\"title\":\"et\"},\"id\":\"b9e0e605-212c-4846-acec-efd0ad111420\",\"type\":\"Panel\"},{\"attributes\":{\"below\":[{\"id\":\"e0f300c5-239a-4540-a38b-3c50b21ad10c\",\"type\":\"LinearAxis\"}],\"left\":[{\"id\":\"3b670bed-117d-4bfe-bdd1-67686b383979\",\"type\":\"LinearAxis\"}],\"renderers\":[{\"id\":\"e0f300c5-239a-4540-a38b-3c50b21ad10c\",\"type\":\"LinearAxis\"},{\"id\":\"724381bf-2201-4dff-8349-87b568f1a7bb\",\"type\":\"Grid\"},{\"id\":\"3b670bed-117d-4bfe-bdd1-67686b383979\",\"type\":\"LinearAxis\"},{\"id\":\"4bd593a3-ac96-4d4d-964a-95a8f74ca8db\",\"type\":\"Grid\"},{\"id\":\"50f5a9e0-3477-4832-8d72-238da3a68c20\",\"type\":\"BoxAnnotation\"},{\"id\":\"59e1d5d0-4ec3-4111-8237-e6c052dc3efa\",\"type\":\"GlyphRenderer\"}],\"title\":{\"id\":\"3643e01f-27b8-49d8-b85b-16bf1f042845\",\"type\":\"Title\"},\"toolbar\":{\"id\":\"05bb49d8-f676-4e7b-8bf0-89363f0a06ff\",\"type\":\"Toolbar\"},\"x_range\":{\"id\":\"fd449a1c-5716-4bfb-8450-db87410efea3\",\"type\":\"DataRange1d\"},\"x_scale\":{\"id\":\"92df4dc4-ec2d-4f2c-9898-a3f792587d66\",\"type\":\"LinearScale\"},\"y_range\":{\"id\":\"f6a7e0b0-7bad-4cbb-a541-381c9b73d4f8\",\"type\":\"DataRange1d\"},\"y_scale\":{\"id\":\"6f97dbb0-b381-4e69-aa1d-baf521bfdd1f\",\"type\":\"LinearScale\"}},\"id\":\"87913be3-3116-4e2d-854e-0bd2260f8650\",\"subtype\":\"Figure\",\"type\":\"Plot\"},{\"attributes\":{},\"id\":\"bb22b699-966d-4bf7-b529-8e90e52b86d9\",\"type\":\"PanTool\"},{\"attributes\":{\"active_drag\":\"auto\",\"active_inspect\":\"auto\",\"active_scroll\":\"auto\",\"active_tap\":\"auto\",\"tools\":[{\"id\":\"cb616404-5000-4558-b0bb-67620f7dc6cb\",\"type\":\"HoverTool\"},{\"id\":\"1e47ef51-ff30-445b-99df-9787332c11d1\",\"type\":\"PanTool\"},{\"id\":\"cdec041e-e49d-4f7b-918b-9204c7f1b928\",\"type\":\"WheelZoomTool\"},{\"id\":\"daf24bca-1723-4c60-b279-fc35932516f3\",\"type\":\"BoxZoomTool\"},{\"id\":\"4987aad7-20a4-4e12-9f4c-f52914a9b025\",\"type\":\"ResetTool\"}]},\"id\":\"05bb49d8-f676-4e7b-8bf0-89363f0a06ff\",\"type\":\"Toolbar\"},{\"attributes\":{},\"id\":\"cc220ea3-c568-48af-a279-da879ecbead0\",\"type\":\"BasicTickFormatter\"},{\"attributes\":{},\"id\":\"1bc9bd02-bfc1-4d69-98a8-37a5c735ed2f\",\"type\":\"WheelZoomTool\"},{\"attributes\":{\"callback\":null},\"id\":\"f6a7e0b0-7bad-4cbb-a541-381c9b73d4f8\",\"type\":\"DataRange1d\"},{\"attributes\":{},\"id\":\"d95d5786-5d6e-4c50-b9b3-122887553575\",\"type\":\"WheelZoomTool\"},{\"attributes\":{\"overlay\":{\"id\":\"6f008643-a4a1-47ba-906d-5eb21a2e8eea\",\"type\":\"BoxAnnotation\"}},\"id\":\"50e61146-5e8f-43a4-bc8e-5dfc4e1d7240\",\"type\":\"BoxZoomTool\"},{\"attributes\":{},\"id\":\"92df4dc4-ec2d-4f2c-9898-a3f792587d66\",\"type\":\"LinearScale\"},{\"attributes\":{\"overlay\":{\"id\":\"2e8d741d-c01f-4b3c-8734-21b1cb46f498\",\"type\":\"BoxAnnotation\"}},\"id\":\"5722436a-759f-4514-8b93-89a9af108ab2\",\"type\":\"BoxZoomTool\"},{\"attributes\":{},\"id\":\"a2c75f10-bc03-41cd-8dc4-7bc9c5bee940\",\"type\":\"ResetTool\"},{\"attributes\":{},\"id\":\"6f97dbb0-b381-4e69-aa1d-baf521bfdd1f\",\"type\":\"LinearScale\"},{\"attributes\":{},\"id\":\"f28977c6-f1c2-41d4-95f4-6c6fb531047a\",\"type\":\"ResetTool\"},{\"attributes\":{\"fill_alpha\":{\"value\":0.1},\"fill_color\":{\"value\":\"#1f77b4\"},\"line_alpha\":{\"value\":0.1},\"line_color\":{\"value\":\"#1f77b4\"},\"line_width\":{\"value\":1.5},\"x\":{\"field\":\"x\"},\"y\":{\"field\":\"y\"}},\"id\":\"5486e8e2-473d-43f6-b83d-c13f3260eb90\",\"type\":\"Circle\"},{\"attributes\":{\"source\":{\"id\":\"4fea519e-790b-453c-a48a-30cef1df9fe5\",\"type\":\"ColumnDataSource\"}},\"id\":\"cda3b501-8476-404b-a081-f2a711d6f773\",\"type\":\"CDSView\"},{\"attributes\":{\"plot\":{\"id\":\"87913be3-3116-4e2d-854e-0bd2260f8650\",\"subtype\":\"Figure\",\"type\":\"Plot\"},\"ticker\":{\"id\":\"e8594053-e6d7-468e-a681-ca889c78e548\",\"type\":\"BasicTicker\"}},\"id\":\"724381bf-2201-4dff-8349-87b568f1a7bb\",\"type\":\"Grid\"},{\"attributes\":{\"data_source\":{\"id\":\"f2aad91c-17aa-4444-998f-a701d687561a\",\"type\":\"ColumnDataSource\"},\"glyph\":{\"id\":\"98d6c39c-99a7-449c-a18f-457fd2c605a3\",\"type\":\"Circle\"},\"hover_glyph\":null,\"muted_glyph\":null,\"nonselection_glyph\":{\"id\":\"5486e8e2-473d-43f6-b83d-c13f3260eb90\",\"type\":\"Circle\"},\"selection_glyph\":null,\"view\":{\"id\":\"cdc09cc4-cad7-445c-9823-44f1c9a3e1d5\",\"type\":\"CDSView\"}},\"id\":\"e682c7f9-c631-42fa-b85e-539493cd07c7\",\"type\":\"GlyphRenderer\"},{\"attributes\":{\"source\":{\"id\":\"732866ef-c3b1-4509-860e-233bca5a4470\",\"type\":\"ColumnDataSource\"}},\"id\":\"c3ea0a97-eea0-4d04-b18c-41524b47e030\",\"type\":\"CDSView\"},{\"attributes\":{\"axis_label\":\" \",\"axis_label_text_font_size\":{\"value\":\"18px\"},\"formatter\":{\"id\":\"205c1a22-ff84-48d9-87dc-852b71fcb989\",\"type\":\"BasicTickFormatter\"},\"plot\":{\"id\":\"87913be3-3116-4e2d-854e-0bd2260f8650\",\"subtype\":\"Figure\",\"type\":\"Plot\"},\"ticker\":{\"id\":\"e8594053-e6d7-468e-a681-ca889c78e548\",\"type\":\"BasicTicker\"}},\"id\":\"e0f300c5-239a-4540-a38b-3c50b21ad10c\",\"type\":\"LinearAxis\"},{\"attributes\":{\"source\":{\"id\":\"f2aad91c-17aa-4444-998f-a701d687561a\",\"type\":\"ColumnDataSource\"}},\"id\":\"cdc09cc4-cad7-445c-9823-44f1c9a3e1d5\",\"type\":\"CDSView\"},{\"attributes\":{},\"id\":\"b829bb18-cf00-4784-acf1-f4928ce825ee\",\"type\":\"BasicTickFormatter\"},{\"attributes\":{},\"id\":\"e8594053-e6d7-468e-a681-ca889c78e548\",\"type\":\"BasicTicker\"},{\"attributes\":{},\"id\":\"fe15883d-ff0d-4233-935d-f9339cc74f21\",\"type\":\"BasicTickFormatter\"},{\"attributes\":{\"axis_label\":\"\\u03b7 [m]\",\"axis_label_text_font_size\":{\"value\":\"18px\"},\"formatter\":{\"id\":\"f1d62116-b452-4d15-b52b-a82017a6f49c\",\"type\":\"BasicTickFormatter\"},\"plot\":{\"id\":\"87913be3-3116-4e2d-854e-0bd2260f8650\",\"subtype\":\"Figure\",\"type\":\"Plot\"},\"ticker\":{\"id\":\"291f6cbb-0515-4b97-906a-cc9b4d985e65\",\"type\":\"BasicTicker\"}},\"id\":\"3b670bed-117d-4bfe-bdd1-67686b383979\",\"type\":\"LinearAxis\"},{\"attributes\":{\"callback\":null,\"column_names\":[\"x\",\"y\"],\"data\":{\"x\":[9.81e-05,9.81e-05,9.81e-05,9.81e-05,9.81e-05,9.81e-05,9.81e-05,9.81e-05,9.81e-05,9.81e-05,9.81e-05,9.81e-05,9.81e-05,9.81e-05,9.81e-05,9.81e-05,9.81e-05,9.81e-05,9.81e-05,9.81e-05,9.81e-05,9.81e-05,9.81e-05,9.81e-05,9.81e-05,9.81e-05,9.81e-05,9.81e-05,9.81e-05,9.81e-05,9.81e-05,9.81e-05,9.81e-05,9.81e-05,9.81e-05,9.81e-05,9.81e-05,9.81e-05,9.81e-05,9.81e-05,9.81e-05,9.81e-05,9.81e-05,9.81e-05,9.81e-05,9.81e-05,9.81e-05,9.81e-05,9.81e-05,9.81e-05,9.81e-05,9.81e-05,9.81e-05,9.81e-05,9.81e-05,9.81e-05,9.81e-05,9.81e-05,9.81e-05,9.81e-05,9.81e-05,9.81e-05,9.81e-05,9.81e-05,9.81e-05,9.81e-05,9.81e-05,9.81e-05,9.81e-05,9.81e-05,9.81e-05,9.81e-05,9.81e-05,9.81e-05,9.81e-05,9.81e-05,9.81e-05,9.81e-05,9.81e-05,9.81e-05,9.81e-05,9.81e-05,9.81e-05,9.81e-05,9.81e-05,9.81e-05,9.81e-05,9.81e-05,9.81e-05,9.81e-05,9.81e-05,9.81e-05,9.81e-05,9.81e-05,9.81e-05,9.81e-05,9.81e-05,9.81e-05,9.81e-05,9.81e-05,0.00981,0.00981,0.00981,0.00981,0.00981,0.00981,0.00981,0.00981,0.00981,0.00981,0.00981,0.00981,0.00981,0.00981,0.00981,0.00981,0.00981,0.00981,0.00981,0.00981,0.00981,0.00981,0.00981,0.00981,0.00981,0.00981,0.00981,0.00981,0.00981,0.00981,0.00981,0.00981,0.00981,0.00981,0.00981,0.00981,0.00981,0.00981,0.00981,0.00981,0.00981,0.00981,0.00981,0.00981,0.00981,0.00981,0.00981,0.00981,0.00981,0.00981,0.00981,0.00981,0.00981,0.00981,0.00981,0.00981,0.00981,0.00981,0.00981,0.00981,0.00981,0.00981,0.00981,0.00981,0.00981,0.00981,0.00981,0.00981,0.00981,0.00981,0.00981,0.00981,0.00981,0.00981,0.00981,0.00981,0.00981,0.00981,0.00981,0.00981,0.00981,0.00981,0.00981,0.00981,0.00981,0.00981,0.00981,0.00981,0.00981,0.00981,0.00981,0.00981,0.00981,0.00981,0.00981,0.00981,0.00981,0.00981,0.00981,0.00981,9.81e-05,9.81e-05,9.81e-05,9.81e-05,9.81e-05,9.81e-05,9.81e-05,9.81e-05,9.81e-05,9.81e-05,9.81e-05,9.81e-05,9.81e-05,9.81e-05,9.81e-05,9.81e-05,9.81e-05,9.81e-05,9.81e-05,9.81e-05,9.81e-05,9.81e-05,9.81e-05,9.81e-05,9.81e-05,9.81e-05,9.81e-05,9.81e-05,9.81e-05,9.81e-05,9.81e-05,9.81e-05,9.81e-05,9.81e-05,9.81e-05,9.81e-05,9.81e-05,9.81e-05,9.81e-05,9.81e-05,9.81e-05,9.81e-05,9.81e-05,9.81e-05,9.81e-05,9.81e-05,9.81e-05,9.81e-05,9.81e-05,9.81e-05,9.81e-05,9.81e-05,9.81e-05,9.81e-05,9.81e-05,9.81e-05,9.81e-05,9.81e-05,9.81e-05,9.81e-05,9.81e-05,9.81e-05,9.81e-05,9.81e-05,9.81e-05,9.81e-05,9.81e-05,9.81e-05,9.81e-05,9.81e-05,9.81e-05,9.81e-05,9.81e-05,9.81e-05,9.81e-05,9.81e-05,9.81e-05,9.81e-05,9.81e-05,9.81e-05,9.81e-05,9.81e-05,9.81e-05,9.81e-05,9.81e-05,9.81e-05,9.81e-05,9.81e-05,9.81e-05,9.81e-05,9.81e-05,9.81e-05,9.81e-05,9.81e-05,9.81e-05,9.81e-05,9.81e-05,9.81e-05,9.81e-05,9.81e-05],\"y\":{\"__ndarray__\":\"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\",\"dtype\":\"float64\",\"shape\":[300]}},\"selected\":null,\"selection_policy\":null},\"id\":\"3abbcf16-024b-4065-9010-50ae7b7611cc\",\"type\":\"ColumnDataSource\"},{\"attributes\":{},\"id\":\"291f6cbb-0515-4b97-906a-cc9b4d985e65\",\"type\":\"BasicTicker\"},{\"attributes\":{\"align\":\"center\",\"plot\":null,\"text\":\"Saturated hydraulic conductivity\",\"text_font_size\":{\"value\":\"22px\"}},\"id\":\"e2ea06bf-f424-46a9-8ba2-a7d63a429c69\",\"type\":\"Title\"},{\"attributes\":{\"dimension\":1,\"plot\":{\"id\":\"87913be3-3116-4e2d-854e-0bd2260f8650\",\"subtype\":\"Figure\",\"type\":\"Plot\"},\"ticker\":{\"id\":\"291f6cbb-0515-4b97-906a-cc9b4d985e65\",\"type\":\"BasicTicker\"}},\"id\":\"4bd593a3-ac96-4d4d-964a-95a8f74ca8db\",\"type\":\"Grid\"},{\"attributes\":{},\"id\":\"b9855230-5418-46c5-8ae3-dd191300eb81\",\"type\":\"BasicTickFormatter\"},{\"attributes\":{\"child\":{\"id\":\"87913be3-3116-4e2d-854e-0bd2260f8650\",\"subtype\":\"Figure\",\"type\":\"Plot\"},\"title\":\"SWRC par2\"},\"id\":\"df0e7855-07d5-43e2-a5e2-1654706942a0\",\"type\":\"Panel\"},{\"attributes\":{\"align\":\"center\",\"plot\":null,\"text\":\"Source sink term\",\"text_font_size\":{\"value\":\"22px\"}},\"id\":\"fe02b578-0d27-443d-accc-6ca562d7f76d\",\"type\":\"Title\"},{\"attributes\":{\"callback\":null},\"id\":\"db32d90e-17cb-40d4-823f-1d1017d903e2\",\"type\":\"DataRange1d\"},{\"attributes\":{\"bottom_units\":\"screen\",\"fill_alpha\":{\"value\":0.5},\"fill_color\":{\"value\":\"lightgrey\"},\"left_units\":\"screen\",\"level\":\"overlay\",\"line_alpha\":{\"value\":1.0},\"line_color\":{\"value\":\"black\"},\"line_dash\":[4,4],\"line_width\":{\"value\":2},\"plot\":null,\"render_mode\":\"css\",\"right_units\":\"screen\",\"top_units\":\"screen\"},\"id\":\"50f5a9e0-3477-4832-8d72-238da3a68c20\",\"type\":\"BoxAnnotation\"},{\"attributes\":{\"callback\":null},\"id\":\"65533c0b-378c-41db-974e-9944bd5670b8\",\"type\":\"DataRange1d\"},{\"attributes\":{\"fill_alpha\":{\"value\":0.1},\"fill_color\":{\"value\":\"#1f77b4\"},\"line_alpha\":{\"value\":0.1},\"line_color\":{\"value\":\"#1f77b4\"},\"line_width\":{\"value\":1.5},\"x\":{\"field\":\"x\"},\"y\":{\"field\":\"y\"}},\"id\":\"9766e4f9-11d2-4aa8-9e43-51a02fedcac0\",\"type\":\"Circle\"},{\"attributes\":{\"fill_color\":{\"value\":\"red\"},\"line_color\":{\"value\":\"red\"},\"line_width\":{\"value\":1.5},\"x\":{\"field\":\"x\"},\"y\":{\"field\":\"y\"}},\"id\":\"9e708cbc-0d9f-42d8-b3be-409edbe5687d\",\"type\":\"Circle\"},{\"attributes\":{\"below\":[{\"id\":\"0d834776-26c0-4eb4-abcd-e77dace2607d\",\"type\":\"LinearAxis\"}],\"left\":[{\"id\":\"5676297f-3e31-4c00-81a8-ed33a8dd1757\",\"type\":\"LinearAxis\"}],\"renderers\":[{\"id\":\"0d834776-26c0-4eb4-abcd-e77dace2607d\",\"type\":\"LinearAxis\"},{\"id\":\"91dcdf83-8518-422a-bcf8-a175857d3a2d\",\"type\":\"Grid\"},{\"id\":\"5676297f-3e31-4c00-81a8-ed33a8dd1757\",\"type\":\"LinearAxis\"},{\"id\":\"1061971d-17db-4663-9358-e99c3cb98f6d\",\"type\":\"Grid\"},{\"id\":\"2a1a2893-8852-4db1-9204-6a62df9d179b\",\"type\":\"BoxAnnotation\"},{\"id\":\"bb5b4f3b-d629-47eb-bc14-a222188c9eba\",\"type\":\"GlyphRenderer\"}],\"title\":{\"id\":\"e2ea06bf-f424-46a9-8ba2-a7d63a429c69\",\"type\":\"Title\"},\"toolbar\":{\"id\":\"f8d9a98f-de71-4d2d-a317-71639374d860\",\"type\":\"Toolbar\"},\"x_range\":{\"id\":\"db32d90e-17cb-40d4-823f-1d1017d903e2\",\"type\":\"DataRange1d\"},\"x_scale\":{\"id\":\"ab124923-4b8d-47e2-b6fc-2fd840398a00\",\"type\":\"LinearScale\"},\"y_range\":{\"id\":\"9e1042d7-110a-4d0f-a358-6847cf24860f\",\"type\":\"DataRange1d\"},\"y_scale\":{\"id\":\"76c2b892-1216-43e0-ba1d-eaa465ba3829\",\"type\":\"LinearScale\"}},\"id\":\"e16c1faf-1534-4f34-acfc-22dea4c4a174\",\"subtype\":\"Figure\",\"type\":\"Plot\"},{\"attributes\":{},\"id\":\"1e47ef51-ff30-445b-99df-9787332c11d1\",\"type\":\"PanTool\"},{\"attributes\":{\"callback\":null,\"column_names\":[\"x\",\"y\"],\"data\":{\"x\":[0,0,0,0,0,0,0,0,0,0,0,0,0,0,0,0,0,0,0,0,0,0,0,0,0,0,0,0,0,0,0,0,0,0,0,0,0,0,0,0,0,0,0,0,0,0,0,0,0,0,0,0,0,0,0,0,0,0,0,0,0,0,0,0,0,0,0,0,0,0,0,0,0,0,0,0,0,0,0,0,0,0,0,0,0,0,0,0,0,0,0,0,0,0,0,0,0,0,0,0,0,0,0,0,0,0,0,0,0,0,0,0,0,0,0,0,0,0,0,0,0,0,0,0,0,0,0,0,0,0,0,0,0,0,0,0,0,0,0,0,0,0,0,0,0,0,0,0,0,0,0,0,0,0,0,0,0,0,0,0,0,0,0,0,0,0,0,0,0,0,0,0,0,0,0,0,0,0,0,0,0,0,0,0,0,0,0,0,0,0,0,0,0,0,0,0,0,0,0,0,0,0,0,0,0,0,0,0,0,0,0,0,0,0,0,0,0,0,0,0,0,0,0,0,0,0,0,0,0,0,0,0,0,0,0,0,0,0,0,0,0,0,0,0,0,0,0,0,0,0,0,0,0,0,0,0,0,0,0,0,0,0,0,0,0,0,0,0,0,0,0,0,0,0,0,0,0,0,0,0,0,0,0,0,0,0,0,0,0,0,0,0,0,0,0,0,0,0,0,0,0],\"y\":{\"__ndarray__\":\"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\",\"dtype\":\"float64\",\"shape\":[301]}},\"selected\":null,\"selection_policy\":null},\"id\":\"4fea519e-790b-453c-a48a-30cef1df9fe5\",\"type\":\"ColumnDataSource\"},{\"attributes\":{\"active_drag\":\"auto\",\"active_inspect\":\"auto\",\"active_scroll\":\"auto\",\"active_tap\":\"auto\",\"tools\":[{\"id\":\"cb616404-5000-4558-b0bb-67620f7dc6cb\",\"type\":\"HoverTool\"},{\"id\":\"d91beb94-4b91-4b84-937d-100292505cee\",\"type\":\"PanTool\"},{\"id\":\"7bb97864-65f9-4345-85b0-05c0a7fe4038\",\"type\":\"WheelZoomTool\"},{\"id\":\"b946609b-3951-43bd-bfb7-a462e3ad4676\",\"type\":\"BoxZoomTool\"},{\"id\":\"d928bb62-a729-446a-965c-3b4f58bec26a\",\"type\":\"ResetTool\"}]},\"id\":\"f8d9a98f-de71-4d2d-a317-71639374d860\",\"type\":\"Toolbar\"},{\"attributes\":{\"below\":[{\"id\":\"64196408-d82a-4bca-b680-02743c72c890\",\"type\":\"LinearAxis\"}],\"left\":[{\"id\":\"39ecdf7c-de75-4d97-8a2b-16cfffa2f857\",\"type\":\"LinearAxis\"}],\"renderers\":[{\"id\":\"64196408-d82a-4bca-b680-02743c72c890\",\"type\":\"LinearAxis\"},{\"id\":\"83896a87-f605-47c7-bc1f-ff34c9c162de\",\"type\":\"Grid\"},{\"id\":\"39ecdf7c-de75-4d97-8a2b-16cfffa2f857\",\"type\":\"LinearAxis\"},{\"id\":\"21e69a45-3043-4819-8bdb-a34c0eaae5ee\",\"type\":\"Grid\"},{\"id\":\"76575e2f-8dd1-47fa-85d0-dee21c7fa0c2\",\"type\":\"BoxAnnotation\"},{\"id\":\"e370e338-24eb-4096-b588-c3f83dc39455\",\"type\":\"GlyphRenderer\"}],\"title\":{\"id\":\"fe02b578-0d27-443d-accc-6ca562d7f76d\",\"type\":\"Title\"},\"toolbar\":{\"id\":\"9cc321b6-d52d-4c7b-a6f4-4c8aaeb8ff0c\",\"type\":\"Toolbar\"},\"x_range\":{\"id\":\"65533c0b-378c-41db-974e-9944bd5670b8\",\"type\":\"DataRange1d\"},\"x_scale\":{\"id\":\"5bf88b1d-4e3f-456e-a8cc-f24bb425810f\",\"type\":\"LinearScale\"},\"y_range\":{\"id\":\"fe90f71a-bb10-45b4-aadf-23652f04c1a4\",\"type\":\"DataRange1d\"},\"y_scale\":{\"id\":\"a1a5dfd7-8beb-481b-a467-70ecfcfd65ae\",\"type\":\"LinearScale\"}},\"id\":\"a61ee633-6b08-449f-9e88-e78351a2fd3b\",\"subtype\":\"Figure\",\"type\":\"Plot\"},{\"attributes\":{},\"id\":\"cdec041e-e49d-4f7b-918b-9204c7f1b928\",\"type\":\"WheelZoomTool\"},{\"attributes\":{\"callback\":null},\"id\":\"9e1042d7-110a-4d0f-a358-6847cf24860f\",\"type\":\"DataRange1d\"},{\"attributes\":{\"active_drag\":\"auto\",\"active_inspect\":\"auto\",\"active_scroll\":\"auto\",\"active_tap\":\"auto\",\"tools\":[{\"id\":\"cb616404-5000-4558-b0bb-67620f7dc6cb\",\"type\":\"HoverTool\"},{\"id\":\"07b7cd3c-5da0-49c1-b663-9e41ede24a6d\",\"type\":\"PanTool\"},{\"id\":\"2cfc1f4a-7c63-4c2d-975f-2cf01e7c5923\",\"type\":\"WheelZoomTool\"},{\"id\":\"5fa6211a-fa7c-4176-968c-9ee11d55877e\",\"type\":\"BoxZoomTool\"},{\"id\":\"46ba04d4-c407-4aba-80d9-6b9f0019d21d\",\"type\":\"ResetTool\"}]},\"id\":\"9cc321b6-d52d-4c7b-a6f4-4c8aaeb8ff0c\",\"type\":\"Toolbar\"},{\"attributes\":{\"overlay\":{\"id\":\"50f5a9e0-3477-4832-8d72-238da3a68c20\",\"type\":\"BoxAnnotation\"}},\"id\":\"daf24bca-1723-4c60-b279-fc35932516f3\",\"type\":\"BoxZoomTool\"},{\"attributes\":{},\"id\":\"ab124923-4b8d-47e2-b6fc-2fd840398a00\",\"type\":\"LinearScale\"},{\"attributes\":{\"callback\":null},\"id\":\"fe90f71a-bb10-45b4-aadf-23652f04c1a4\",\"type\":\"DataRange1d\"},{\"attributes\":{},\"id\":\"4987aad7-20a4-4e12-9f4c-f52914a9b025\",\"type\":\"ResetTool\"},{\"attributes\":{},\"id\":\"76c2b892-1216-43e0-ba1d-eaa465ba3829\",\"type\":\"LinearScale\"},{\"attributes\":{},\"id\":\"5bf88b1d-4e3f-456e-a8cc-f24bb425810f\",\"type\":\"LinearScale\"},{\"attributes\":{\"fill_alpha\":{\"value\":0.1},\"fill_color\":{\"value\":\"#1f77b4\"},\"line_alpha\":{\"value\":0.1},\"line_color\":{\"value\":\"#1f77b4\"},\"line_width\":{\"value\":1.5},\"x\":{\"field\":\"x\"},\"y\":{\"field\":\"y\"}},\"id\":\"54b65dda-97f7-4283-b7e0-4a565c470b8f\",\"type\":\"Circle\"},{\"attributes\":{},\"id\":\"46ba04d4-c407-4aba-80d9-6b9f0019d21d\",\"type\":\"ResetTool\"},{\"attributes\":{\"plot\":{\"id\":\"e16c1faf-1534-4f34-acfc-22dea4c4a174\",\"subtype\":\"Figure\",\"type\":\"Plot\"},\"ticker\":{\"id\":\"07030569-a534-4bab-a1cc-39970e234f87\",\"type\":\"BasicTicker\"}},\"id\":\"91dcdf83-8518-422a-bcf8-a175857d3a2d\",\"type\":\"Grid\"},{\"attributes\":{\"data_source\":{\"id\":\"9d5b4a7e-49f9-4407-b0f0-632f22031ad9\",\"type\":\"ColumnDataSource\"},\"glyph\":{\"id\":\"08ff319c-a8cf-412c-910d-35ddff41d825\",\"type\":\"Circle\"},\"hover_glyph\":null,\"muted_glyph\":null,\"nonselection_glyph\":{\"id\":\"54b65dda-97f7-4283-b7e0-4a565c470b8f\",\"type\":\"Circle\"},\"selection_glyph\":null,\"view\":{\"id\":\"f777107e-762a-483d-99f3-84957284df90\",\"type\":\"CDSView\"}},\"id\":\"59e1d5d0-4ec3-4111-8237-e6c052dc3efa\",\"type\":\"GlyphRenderer\"},{\"attributes\":{},\"id\":\"a1a5dfd7-8beb-481b-a467-70ecfcfd65ae\",\"type\":\"LinearScale\"},{\"attributes\":{\"axis_label\":\"Ks [m/s]\",\"axis_label_text_font_size\":{\"value\":\"18px\"},\"formatter\":{\"id\":\"dc12e585-c730-47c4-9fd9-de9c15d27b56\",\"type\":\"BasicTickFormatter\"},\"plot\":{\"id\":\"e16c1faf-1534-4f34-acfc-22dea4c4a174\",\"subtype\":\"Figure\",\"type\":\"Plot\"},\"ticker\":{\"id\":\"07030569-a534-4bab-a1cc-39970e234f87\",\"type\":\"BasicTicker\"}},\"id\":\"0d834776-26c0-4eb4-abcd-e77dace2607d\",\"type\":\"LinearAxis\"},{\"attributes\":{\"plot\":{\"id\":\"a61ee633-6b08-449f-9e88-e78351a2fd3b\",\"subtype\":\"Figure\",\"type\":\"Plot\"},\"ticker\":{\"id\":\"42a7ba16-8c36-43d3-ae0d-1083e296b867\",\"type\":\"BasicTicker\"}},\"id\":\"83896a87-f605-47c7-bc1f-ff34c9c162de\",\"type\":\"Grid\"},{\"attributes\":{\"source\":{\"id\":\"9d5b4a7e-49f9-4407-b0f0-632f22031ad9\",\"type\":\"ColumnDataSource\"}},\"id\":\"f777107e-762a-483d-99f3-84957284df90\",\"type\":\"CDSView\"},{\"attributes\":{\"axis_label\":\"et coeff. [1/s]\",\"axis_label_text_font_size\":{\"value\":\"18px\"},\"formatter\":{\"id\":\"fdde7189-505d-4da3-af41-c346e587f682\",\"type\":\"BasicTickFormatter\"},\"plot\":{\"id\":\"a61ee633-6b08-449f-9e88-e78351a2fd3b\",\"subtype\":\"Figure\",\"type\":\"Plot\"},\"ticker\":{\"id\":\"42a7ba16-8c36-43d3-ae0d-1083e296b867\",\"type\":\"BasicTicker\"}},\"id\":\"64196408-d82a-4bca-b680-02743c72c890\",\"type\":\"LinearAxis\"},{\"attributes\":{},\"id\":\"07030569-a534-4bab-a1cc-39970e234f87\",\"type\":\"BasicTicker\"},{\"attributes\":{},\"id\":\"205c1a22-ff84-48d9-87dc-852b71fcb989\",\"type\":\"BasicTickFormatter\"},{\"attributes\":{\"axis_label\":\"\\u03b7 [m]\",\"axis_label_text_font_size\":{\"value\":\"18px\"},\"formatter\":{\"id\":\"814fe330-d6a1-423c-b09a-903df6a6f493\",\"type\":\"BasicTickFormatter\"},\"plot\":{\"id\":\"e16c1faf-1534-4f34-acfc-22dea4c4a174\",\"subtype\":\"Figure\",\"type\":\"Plot\"},\"ticker\":{\"id\":\"9ef37b86-2031-43b4-b7f9-710514e38a5f\",\"type\":\"BasicTicker\"}},\"id\":\"5676297f-3e31-4c00-81a8-ed33a8dd1757\",\"type\":\"LinearAxis\"},{\"attributes\":{\"fill_color\":{\"value\":\"red\"},\"line_color\":{\"value\":\"red\"},\"line_width\":{\"value\":1.5},\"x\":{\"field\":\"x\"},\"y\":{\"field\":\"y\"}},\"id\":\"a113087e-8695-491c-9410-3667e1240a92\",\"type\":\"Circle\"},{\"attributes\":{},\"id\":\"42a7ba16-8c36-43d3-ae0d-1083e296b867\",\"type\":\"BasicTicker\"},{\"attributes\":{\"axis_label\":\"\\u03b7 [m]\",\"axis_label_text_font_size\":{\"value\":\"18px\"},\"formatter\":{\"id\":\"4869d5b6-0338-4d20-8470-caf92e2307fc\",\"type\":\"BasicTickFormatter\"},\"plot\":{\"id\":\"a61ee633-6b08-449f-9e88-e78351a2fd3b\",\"subtype\":\"Figure\",\"type\":\"Plot\"},\"ticker\":{\"id\":\"968f2402-e02e-4440-83a3-842846daf07f\",\"type\":\"BasicTicker\"}},\"id\":\"39ecdf7c-de75-4d97-8a2b-16cfffa2f857\",\"type\":\"LinearAxis\"},{\"attributes\":{},\"id\":\"9ef37b86-2031-43b4-b7f9-710514e38a5f\",\"type\":\"BasicTicker\"},{\"attributes\":{\"dimension\":1,\"plot\":{\"id\":\"e16c1faf-1534-4f34-acfc-22dea4c4a174\",\"subtype\":\"Figure\",\"type\":\"Plot\"},\"ticker\":{\"id\":\"9ef37b86-2031-43b4-b7f9-710514e38a5f\",\"type\":\"BasicTicker\"}},\"id\":\"1061971d-17db-4663-9358-e99c3cb98f6d\",\"type\":\"Grid\"},{\"attributes\":{\"fill_color\":{\"value\":\"blue\"},\"line_color\":{\"value\":\"blue\"},\"line_width\":{\"value\":1.5},\"x\":{\"field\":\"x\"},\"y\":{\"field\":\"y\"}},\"id\":\"1bde01f9-7790-45cf-bee2-8be4bba9a6f2\",\"type\":\"Circle\"},{\"attributes\":{},\"id\":\"f1d62116-b452-4d15-b52b-a82017a6f49c\",\"type\":\"BasicTickFormatter\"},{\"attributes\":{},\"id\":\"968f2402-e02e-4440-83a3-842846daf07f\",\"type\":\"BasicTicker\"},{\"attributes\":{\"child\":{\"id\":\"e16c1faf-1534-4f34-acfc-22dea4c4a174\",\"subtype\":\"Figure\",\"type\":\"Plot\"},\"title\":\"Ks\"},\"id\":\"b3b3a508-df35-4c66-9629-92a2bce6caa4\",\"type\":\"Panel\"},{\"attributes\":{\"align\":\"center\",\"plot\":null,\"text\":\"Compressibility of soil\",\"text_font_size\":{\"value\":\"22px\"}},\"id\":\"f5319fa9-2228-4e79-886f-528fc3335e63\",\"type\":\"Title\"},{\"attributes\":{\"dimension\":1,\"plot\":{\"id\":\"a61ee633-6b08-449f-9e88-e78351a2fd3b\",\"subtype\":\"Figure\",\"type\":\"Plot\"},\"ticker\":{\"id\":\"968f2402-e02e-4440-83a3-842846daf07f\",\"type\":\"BasicTicker\"}},\"id\":\"21e69a45-3043-4819-8bdb-a34c0eaae5ee\",\"type\":\"Grid\"},{\"attributes\":{\"align\":\"center\",\"plot\":null,\"text\":\"Water content at saturation\",\"text_font_size\":{\"value\":\"22px\"}},\"id\":\"42c53ced-865e-4420-a4a7-faaf1d5f2328\",\"type\":\"Title\"},{\"attributes\":{\"bottom_units\":\"screen\",\"fill_alpha\":{\"value\":0.5},\"fill_color\":{\"value\":\"lightgrey\"},\"left_units\":\"screen\",\"level\":\"overlay\",\"line_alpha\":{\"value\":1.0},\"line_color\":{\"value\":\"black\"},\"line_dash\":[4,4],\"line_width\":{\"value\":2},\"plot\":null,\"render_mode\":\"css\",\"right_units\":\"screen\",\"top_units\":\"screen\"},\"id\":\"2a1a2893-8852-4db1-9204-6a62df9d179b\",\"type\":\"BoxAnnotation\"},{\"attributes\":{\"callback\":null,\"tooltips\":[[\"(x,y)\",\"($x, $y)\"]]},\"id\":\"cb616404-5000-4558-b0bb-67620f7dc6cb\",\"type\":\"HoverTool\"},{\"attributes\":{\"below\":[{\"id\":\"70078a17-6e94-4662-b12a-20d167203e6e\",\"type\":\"LinearAxis\"}],\"left\":[{\"id\":\"bc1a41f8-996c-4dc0-a285-0aef8e20cafb\",\"type\":\"LinearAxis\"}],\"renderers\":[{\"id\":\"70078a17-6e94-4662-b12a-20d167203e6e\",\"type\":\"LinearAxis\"},{\"id\":\"9fe66f89-85f7-4171-a01a-112f9e252e73\",\"type\":\"Grid\"},{\"id\":\"bc1a41f8-996c-4dc0-a285-0aef8e20cafb\",\"type\":\"LinearAxis\"},{\"id\":\"a4cf0a82-3875-4da9-818a-505cfb526502\",\"type\":\"Grid\"},{\"id\":\"147d9844-aaa0-4242-9159-c09220e0d5fd\",\"type\":\"BoxAnnotation\"},{\"id\":\"58c4b93b-745e-473e-8949-72e5d6ee4ee3\",\"type\":\"GlyphRenderer\"}],\"title\":{\"id\":\"42c53ced-865e-4420-a4a7-faaf1d5f2328\",\"type\":\"Title\"},\"toolbar\":{\"id\":\"08739de0-8965-4c63-b14b-28c08e40b845\",\"type\":\"Toolbar\"},\"x_range\":{\"id\":\"968fbfcd-1de8-47a0-9f17-4cd2084e2d09\",\"type\":\"DataRange1d\"},\"x_scale\":{\"id\":\"12103722-5995-4c41-8eb5-2a28a599312d\",\"type\":\"LinearScale\"},\"y_range\":{\"id\":\"3398bf95-f206-4af7-9ba0-b99f2d1234ab\",\"type\":\"DataRange1d\"},\"y_scale\":{\"id\":\"7d2481f1-862b-4f43-bb3d-747bc03a0e3d\",\"type\":\"LinearScale\"}},\"id\":\"351c492d-ba04-4608-85a1-3e95d152ac79\",\"subtype\":\"Figure\",\"type\":\"Plot\"},{\"attributes\":{\"callback\":null},\"id\":\"bdd53217-13ac-496c-a986-fcf9b634661d\",\"type\":\"DataRange1d\"},{\"attributes\":{\"bottom_units\":\"screen\",\"fill_alpha\":{\"value\":0.5},\"fill_color\":{\"value\":\"lightgrey\"},\"left_units\":\"screen\",\"level\":\"overlay\",\"line_alpha\":{\"value\":1.0},\"line_color\":{\"value\":\"black\"},\"line_dash\":[4,4],\"line_width\":{\"value\":2},\"plot\":null,\"render_mode\":\"css\",\"right_units\":\"screen\",\"top_units\":\"screen\"},\"id\":\"76575e2f-8dd1-47fa-85d0-dee21c7fa0c2\",\"type\":\"BoxAnnotation\"},{\"attributes\":{\"callback\":null,\"column_names\":[\"x\",\"y\"],\"data\":{\"x\":[0.35,0.35,0.35,0.35,0.35,0.35,0.35,0.35,0.35,0.35,0.35,0.35,0.35,0.35,0.35,0.35,0.35,0.35,0.35,0.35,0.35,0.35,0.35,0.35,0.35,0.35,0.35,0.35,0.35,0.35,0.35,0.35,0.35,0.35,0.35,0.35,0.35,0.35,0.35,0.35,0.35,0.35,0.35,0.35,0.35,0.35,0.35,0.35,0.35,0.35,0.35,0.35,0.35,0.35,0.35,0.35,0.35,0.35,0.35,0.35,0.35,0.35,0.35,0.35,0.35,0.35,0.35,0.35,0.35,0.35,0.35,0.35,0.35,0.35,0.35,0.35,0.35,0.35,0.35,0.35,0.35,0.35,0.35,0.35,0.35,0.35,0.35,0.35,0.35,0.35,0.35,0.35,0.35,0.35,0.35,0.35,0.35,0.35,0.35,0.35,0.35,0.35,0.35,0.35,0.35,0.35,0.35,0.35,0.35,0.35,0.35,0.35,0.35,0.35,0.35,0.35,0.35,0.35,0.35,0.35,0.35,0.35,0.35,0.35,0.35,0.35,0.35,0.35,0.35,0.35,0.35,0.35,0.35,0.35,0.35,0.35,0.35,0.35,0.35,0.35,0.35,0.35,0.35,0.35,0.35,0.35,0.35,0.35,0.35,0.35,0.35,0.35,0.35,0.35,0.35,0.35,0.35,0.35,0.35,0.35,0.35,0.35,0.35,0.35,0.35,0.35,0.35,0.35,0.35,0.35,0.35,0.35,0.35,0.35,0.35,0.35,0.35,0.35,0.35,0.35,0.35,0.35,0.35,0.35,0.35,0.35,0.35,0.35,0.35,0.35,0.35,0.35,0.35,0.35,0.35,0.35,0.35,0.35,0.35,0.35,0.35,0.35,0.35,0.35,0.35,0.35,0.35,0.35,0.35,0.35,0.35,0.35,0.35,0.35,0.35,0.35,0.35,0.35,0.35,0.35,0.35,0.35,0.35,0.35,0.35,0.35,0.35,0.35,0.35,0.35,0.35,0.35,0.35,0.35,0.35,0.35,0.35,0.35,0.35,0.35,0.35,0.35,0.35,0.35,0.35,0.35,0.35,0.35,0.35,0.35,0.35,0.35,0.35,0.35,0.35,0.35,0.35,0.35,0.35,0.35,0.35,0.35,0.35,0.35,0.35,0.35,0.35,0.35,0.35,0.35,0.35,0.35,0.35,0.35,0.35,0.35,0.35,0.35,0.35,0.35,0.35,0.35,0.35,0.35,0.35,0.35,0.35,0.35,0.35,0.35,0.35,0.35,0.35,0.35,0.35,0.35,0.35,0.35,0.35,0.35],\"y\":{\"__ndarray__\":\"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\",\"dtype\":\"float64\",\"shape\":[300]}},\"selected\":null,\"selection_policy\":null},\"id\":\"d5e310c7-f654-420b-8c83-678f8086164c\",\"type\":\"ColumnDataSource\"},{\"attributes\":{},\"id\":\"d91beb94-4b91-4b84-937d-100292505cee\",\"type\":\"PanTool\"},{\"attributes\":{},\"id\":\"36d4cda9-f2cb-45fc-9ce3-e0041ebd4594\",\"type\":\"BasicTicker\"},{\"attributes\":{\"callback\":null,\"column_names\":[\"x\",\"y\"],\"data\":{\"x\":[0,0,0,0,0,0,0,0,0,0,0,0,0,0,0,0,0,0,0,0,0,0,0,0,0,0,0,0,0,0,0,0,0,0,0,0,0,0,0,0,0,0,0,0,0,0,0,0,0,0,0,0,0,0,0,0,0,0,0,0,0,0,0,0,0,0,0,0,0,0,0,0,0,0,0,0,0,0,0,0,0,0,0,0,0,0,0,0,0,0,0,0,0,0,0,0,0,0,0,0,0,0,0,0,0,0,0,0,0,0,0,0,0,0,0,0,0,0,0,0,0,0,0,0,0,0,0,0,0,0,0,0,0,0,0,0,0,0,0,0,0,0,0,0,0,0,0,0,0,0,0,0,0,0,0,0,0,0,0,0,0,0,0,0,0,0,0,0,0,0,0,0,0,0,0,0,0,0,0,0,0,0,0,0,0,0,0,0,0,0,0,0,0,0,0,0,0,0,0,0,0,0,0,0,0,0,0,0,0,0,0,0,0,0,0,0,0,0,0,0,0,0,0,0,0,0,0,0,0,0,0,0,0,0,0,0,0,0,0,0,0,0,0,0,0,0,0,0,0,0,0,0,0,0,0,0,0,0,0,0,0,0,0,0,0,0,0,0,0,0,0,0,0,0,0,0,0,0,0,0,0,0,0,0,0,0,0,0,0,0,0,0,0,0,0,0,0,0,0,0],\"y\":{\"__ndarray__\":\"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\",\"dtype\":\"float64\",\"shape\":[300]}},\"selected\":null,\"selection_policy\":null},\"id\":\"ab4b44de-1f99-4d04-98c5-729c87cbf570\",\"type\":\"ColumnDataSource\"},{\"attributes\":{\"below\":[{\"id\":\"b179f3e3-fc76-4995-858d-384c59c90ee7\",\"type\":\"LinearAxis\"}],\"left\":[{\"id\":\"ed7d7c01-8f67-4631-8aed-e74b6db02674\",\"type\":\"LinearAxis\"}],\"renderers\":[{\"id\":\"b179f3e3-fc76-4995-858d-384c59c90ee7\",\"type\":\"LinearAxis\"},{\"id\":\"cc29eebe-1a56-4a19-8afd-23efd1c925cb\",\"type\":\"Grid\"},{\"id\":\"ed7d7c01-8f67-4631-8aed-e74b6db02674\",\"type\":\"LinearAxis\"},{\"id\":\"a6742cca-f9b6-4db8-9194-47d9a1e8a604\",\"type\":\"Grid\"},{\"id\":\"42809ac5-464d-431e-b5fa-0bbb8d2780b8\",\"type\":\"BoxAnnotation\"},{\"id\":\"8bcd4737-ea55-4308-bd56-232bb2a5d712\",\"type\":\"GlyphRenderer\"}],\"title\":{\"id\":\"f5319fa9-2228-4e79-886f-528fc3335e63\",\"type\":\"Title\"},\"toolbar\":{\"id\":\"ce6d3fa4-159f-4a57-8229-efb0e782f7b7\",\"type\":\"Toolbar\"},\"x_range\":{\"id\":\"bdd53217-13ac-496c-a986-fcf9b634661d\",\"type\":\"DataRange1d\"},\"x_scale\":{\"id\":\"b8adf6db-c817-45e6-8d86-b35ba8a4d787\",\"type\":\"LinearScale\"},\"y_range\":{\"id\":\"97d516f6-70b5-4a4c-8d53-31c7b106470a\",\"type\":\"DataRange1d\"},\"y_scale\":{\"id\":\"1a0603c6-a005-4a1b-abbc-c22102bd66f0\",\"type\":\"LinearScale\"}},\"id\":\"9b0c5117-eddd-4042-a9ee-e3b05c792431\",\"subtype\":\"Figure\",\"type\":\"Plot\"},{\"attributes\":{\"callback\":null},\"id\":\"968fbfcd-1de8-47a0-9f17-4cd2084e2d09\",\"type\":\"DataRange1d\"},{\"attributes\":{},\"id\":\"7bb97864-65f9-4345-85b0-05c0a7fe4038\",\"type\":\"WheelZoomTool\"},{\"attributes\":{\"active_drag\":\"auto\",\"active_inspect\":\"auto\",\"active_scroll\":\"auto\",\"active_tap\":\"auto\",\"tools\":[{\"id\":\"cb616404-5000-4558-b0bb-67620f7dc6cb\",\"type\":\"HoverTool\"},{\"id\":\"8660bfe7-1421-4816-96fa-16476108aa92\",\"type\":\"PanTool\"},{\"id\":\"972e7f40-58bf-4d07-a425-bd7f9e4cac0b\",\"type\":\"WheelZoomTool\"},{\"id\":\"2efea07d-9074-41a1-93e1-0d98d3dbf550\",\"type\":\"BoxZoomTool\"},{\"id\":\"d8f7f10a-7664-44dd-a336-57ffcd652f6c\",\"type\":\"ResetTool\"}]},\"id\":\"ce6d3fa4-159f-4a57-8229-efb0e782f7b7\",\"type\":\"Toolbar\"},{\"attributes\":{\"overlay\":{\"id\":\"2a1a2893-8852-4db1-9204-6a62df9d179b\",\"type\":\"BoxAnnotation\"}},\"id\":\"b946609b-3951-43bd-bfb7-a462e3ad4676\",\"type\":\"BoxZoomTool\"},{\"attributes\":{},\"id\":\"07b7cd3c-5da0-49c1-b663-9e41ede24a6d\",\"type\":\"PanTool\"},{\"attributes\":{},\"id\":\"2cfc1f4a-7c63-4c2d-975f-2cf01e7c5923\",\"type\":\"WheelZoomTool\"},{\"attributes\":{\"callback\":null},\"id\":\"3398bf95-f206-4af7-9ba0-b99f2d1234ab\",\"type\":\"DataRange1d\"},{\"attributes\":{\"callback\":null},\"id\":\"97d516f6-70b5-4a4c-8d53-31c7b106470a\",\"type\":\"DataRange1d\"},{\"attributes\":{},\"id\":\"d928bb62-a729-446a-965c-3b4f58bec26a\",\"type\":\"ResetTool\"},{\"attributes\":{},\"id\":\"12103722-5995-4c41-8eb5-2a28a599312d\",\"type\":\"LinearScale\"},{\"attributes\":{},\"id\":\"b8adf6db-c817-45e6-8d86-b35ba8a4d787\",\"type\":\"LinearScale\"},{\"attributes\":{\"fill_alpha\":{\"value\":0.1},\"fill_color\":{\"value\":\"#1f77b4\"},\"line_alpha\":{\"value\":0.1},\"line_color\":{\"value\":\"#1f77b4\"},\"line_width\":{\"value\":1.5},\"x\":{\"field\":\"x\"},\"y\":{\"field\":\"y\"}},\"id\":\"cee5513b-5d8d-4d18-b36c-ba3c892f99f7\",\"type\":\"Circle\"},{\"attributes\":{\"overlay\":{\"id\":\"76575e2f-8dd1-47fa-85d0-dee21c7fa0c2\",\"type\":\"BoxAnnotation\"}},\"id\":\"5fa6211a-fa7c-4176-968c-9ee11d55877e\",\"type\":\"BoxZoomTool\"},{\"attributes\":{\"active_drag\":\"auto\",\"active_inspect\":\"auto\",\"active_scroll\":\"auto\",\"active_tap\":\"auto\",\"tools\":[{\"id\":\"cb616404-5000-4558-b0bb-67620f7dc6cb\",\"type\":\"HoverTool\"},{\"id\":\"607428ce-2de2-4ab3-ba1c-63ef37f7d75b\",\"type\":\"PanTool\"},{\"id\":\"8dd50355-d173-4bcc-90c1-8a9170fdf175\",\"type\":\"WheelZoomTool\"},{\"id\":\"c38a8f4f-4d72-4cf2-9c0c-c2dd9db616c8\",\"type\":\"BoxZoomTool\"},{\"id\":\"6f5e7936-cfd5-4ee5-96f6-bd6764d4ba45\",\"type\":\"ResetTool\"}]},\"id\":\"08739de0-8965-4c63-b14b-28c08e40b845\",\"type\":\"Toolbar\"},{\"attributes\":{\"data_source\":{\"id\":\"3abbcf16-024b-4065-9010-50ae7b7611cc\",\"type\":\"ColumnDataSource\"},\"glyph\":{\"id\":\"9e708cbc-0d9f-42d8-b3be-409edbe5687d\",\"type\":\"Circle\"},\"hover_glyph\":null,\"muted_glyph\":null,\"nonselection_glyph\":{\"id\":\"cee5513b-5d8d-4d18-b36c-ba3c892f99f7\",\"type\":\"Circle\"},\"selection_glyph\":null,\"view\":{\"id\":\"5ad10c8c-615e-4718-99ff-1dce6c1846f1\",\"type\":\"CDSView\"}},\"id\":\"bb5b4f3b-d629-47eb-bc14-a222188c9eba\",\"type\":\"GlyphRenderer\"},{\"attributes\":{},\"id\":\"1a0603c6-a005-4a1b-abbc-c22102bd66f0\",\"type\":\"LinearScale\"},{\"attributes\":{},\"id\":\"7d2481f1-862b-4f43-bb3d-747bc03a0e3d\",\"type\":\"LinearScale\"},{\"attributes\":{\"plot\":{\"id\":\"9b0c5117-eddd-4042-a9ee-e3b05c792431\",\"subtype\":\"Figure\",\"type\":\"Plot\"},\"ticker\":{\"id\":\"d29acb7b-660f-4887-9783-0c20707984f8\",\"type\":\"BasicTicker\"}},\"id\":\"cc29eebe-1a56-4a19-8afd-23efd1c925cb\",\"type\":\"Grid\"},{\"attributes\":{\"source\":{\"id\":\"3abbcf16-024b-4065-9010-50ae7b7611cc\",\"type\":\"ColumnDataSource\"}},\"id\":\"5ad10c8c-615e-4718-99ff-1dce6c1846f1\",\"type\":\"CDSView\"},{\"attributes\":{\"fill_color\":{\"value\":\"red\"},\"line_color\":{\"value\":\"red\"},\"line_width\":{\"value\":1.5},\"x\":{\"field\":\"x\"},\"y\":{\"field\":\"y\"}},\"id\":\"0d99a6e0-c051-43a2-864f-671111050804\",\"type\":\"Circle\"},{\"attributes\":{\"plot\":{\"id\":\"351c492d-ba04-4608-85a1-3e95d152ac79\",\"subtype\":\"Figure\",\"type\":\"Plot\"},\"ticker\":{\"id\":\"09afb8b8-bc62-4e9c-8ba0-faa9f4c5740d\",\"type\":\"BasicTicker\"}},\"id\":\"9fe66f89-85f7-4171-a01a-112f9e252e73\",\"type\":\"Grid\"},{\"attributes\":{\"axis_label\":\"\\u03b1 [1/Pa]\",\"axis_label_text_font_size\":{\"value\":\"18px\"},\"formatter\":{\"id\":\"a266ec43-8e00-4cb2-aab8-d2aa5d653a05\",\"type\":\"BasicTickFormatter\"},\"plot\":{\"id\":\"9b0c5117-eddd-4042-a9ee-e3b05c792431\",\"subtype\":\"Figure\",\"type\":\"Plot\"},\"ticker\":{\"id\":\"d29acb7b-660f-4887-9783-0c20707984f8\",\"type\":\"BasicTicker\"}},\"id\":\"b179f3e3-fc76-4995-858d-384c59c90ee7\",\"type\":\"LinearAxis\"},{\"attributes\":{\"data_source\":{\"id\":\"4fea519e-790b-453c-a48a-30cef1df9fe5\",\"type\":\"ColumnDataSource\"},\"glyph\":{\"id\":\"0d99a6e0-c051-43a2-864f-671111050804\",\"type\":\"Circle\"},\"hover_glyph\":null,\"muted_glyph\":null,\"nonselection_glyph\":{\"id\":\"359f60d4-ed0a-45bf-b611-2133fedef682\",\"type\":\"Circle\"},\"selection_glyph\":null,\"view\":{\"id\":\"cda3b501-8476-404b-a081-f2a711d6f773\",\"type\":\"CDSView\"}},\"id\":\"e370e338-24eb-4096-b588-c3f83dc39455\",\"type\":\"GlyphRenderer\"},{\"attributes\":{\"axis_label\":\" water content at saturation [-]\",\"axis_label_text_font_size\":{\"value\":\"18px\"},\"formatter\":{\"id\":\"9d89bee2-70b2-46f8-a75f-87cb047698ca\",\"type\":\"BasicTickFormatter\"},\"plot\":{\"id\":\"351c492d-ba04-4608-85a1-3e95d152ac79\",\"subtype\":\"Figure\",\"type\":\"Plot\"},\"ticker\":{\"id\":\"09afb8b8-bc62-4e9c-8ba0-faa9f4c5740d\",\"type\":\"BasicTicker\"}},\"id\":\"70078a17-6e94-4662-b12a-20d167203e6e\",\"type\":\"LinearAxis\"},{\"attributes\":{},\"id\":\"dc12e585-c730-47c4-9fd9-de9c15d27b56\",\"type\":\"BasicTickFormatter\"},{\"attributes\":{},\"id\":\"d29acb7b-660f-4887-9783-0c20707984f8\",\"type\":\"BasicTicker\"},{\"attributes\":{\"axis_label\":\"\\u03b7 [m]\",\"axis_label_text_font_size\":{\"value\":\"18px\"},\"formatter\":{\"id\":\"83d4db06-3ec9-4854-b863-4e84ff326707\",\"type\":\"BasicTickFormatter\"},\"plot\":{\"id\":\"9b0c5117-eddd-4042-a9ee-e3b05c792431\",\"subtype\":\"Figure\",\"type\":\"Plot\"},\"ticker\":{\"id\":\"df9401b8-0fe6-4113-b7cb-dfe886341e3f\",\"type\":\"BasicTicker\"}},\"id\":\"ed7d7c01-8f67-4631-8aed-e74b6db02674\",\"type\":\"LinearAxis\"},{\"attributes\":{},\"id\":\"09afb8b8-bc62-4e9c-8ba0-faa9f4c5740d\",\"type\":\"BasicTicker\"},{\"attributes\":{\"axis_label\":\"\\u03b7 [m]\",\"axis_label_text_font_size\":{\"value\":\"18px\"},\"formatter\":{\"id\":\"61f07f1d-159e-4569-82a4-3e68706ad2a7\",\"type\":\"BasicTickFormatter\"},\"plot\":{\"id\":\"351c492d-ba04-4608-85a1-3e95d152ac79\",\"subtype\":\"Figure\",\"type\":\"Plot\"},\"ticker\":{\"id\":\"f3fa8ffa-e922-4c73-8d71-5613956bfd28\",\"type\":\"BasicTicker\"}},\"id\":\"bc1a41f8-996c-4dc0-a285-0aef8e20cafb\",\"type\":\"LinearAxis\"},{\"attributes\":{},\"id\":\"814fe330-d6a1-423c-b09a-903df6a6f493\",\"type\":\"BasicTickFormatter\"},{\"attributes\":{},\"id\":\"df9401b8-0fe6-4113-b7cb-dfe886341e3f\",\"type\":\"BasicTicker\"},{\"attributes\":{},\"id\":\"4869d5b6-0338-4d20-8470-caf92e2307fc\",\"type\":\"BasicTickFormatter\"},{\"attributes\":{\"align\":\"center\",\"plot\":null,\"text\":\"SWRC parameter 2\",\"text_font_size\":{\"value\":\"22px\"}},\"id\":\"721006c8-a3c7-428b-a02b-da8b9e2224c6\",\"type\":\"Title\"},{\"attributes\":{\"dimension\":1,\"plot\":{\"id\":\"9b0c5117-eddd-4042-a9ee-e3b05c792431\",\"subtype\":\"Figure\",\"type\":\"Plot\"},\"ticker\":{\"id\":\"df9401b8-0fe6-4113-b7cb-dfe886341e3f\",\"type\":\"BasicTicker\"}},\"id\":\"a6742cca-f9b6-4db8-9194-47d9a1e8a604\",\"type\":\"Grid\"},{\"attributes\":{},\"id\":\"f3fa8ffa-e922-4c73-8d71-5613956bfd28\",\"type\":\"BasicTicker\"},{\"attributes\":{\"dimension\":1,\"plot\":{\"id\":\"351c492d-ba04-4608-85a1-3e95d152ac79\",\"subtype\":\"Figure\",\"type\":\"Plot\"},\"ticker\":{\"id\":\"f3fa8ffa-e922-4c73-8d71-5613956bfd28\",\"type\":\"BasicTicker\"}},\"id\":\"a4cf0a82-3875-4da9-818a-505cfb526502\",\"type\":\"Grid\"},{\"attributes\":{},\"id\":\"fdde7189-505d-4da3-af41-c346e587f682\",\"type\":\"BasicTickFormatter\"},{\"attributes\":{\"callback\":null},\"id\":\"25a0d28b-f814-446c-a331-457a7ce368c3\",\"type\":\"DataRange1d\"},{\"attributes\":{\"bottom_units\":\"screen\",\"fill_alpha\":{\"value\":0.5},\"fill_color\":{\"value\":\"lightgrey\"},\"left_units\":\"screen\",\"level\":\"overlay\",\"line_alpha\":{\"value\":1.0},\"line_color\":{\"value\":\"black\"},\"line_dash\":[4,4],\"line_width\":{\"value\":2},\"plot\":null,\"render_mode\":\"css\",\"right_units\":\"screen\",\"top_units\":\"screen\"},\"id\":\"42809ac5-464d-431e-b5fa-0bbb8d2780b8\",\"type\":\"BoxAnnotation\"},{\"attributes\":{\"bottom_units\":\"screen\",\"fill_alpha\":{\"value\":0.5},\"fill_color\":{\"value\":\"lightgrey\"},\"left_units\":\"screen\",\"level\":\"overlay\",\"line_alpha\":{\"value\":1.0},\"line_color\":{\"value\":\"black\"},\"line_dash\":[4,4],\"line_width\":{\"value\":2},\"plot\":null,\"render_mode\":\"css\",\"right_units\":\"screen\",\"top_units\":\"screen\"},\"id\":\"147d9844-aaa0-4242-9159-c09220e0d5fd\",\"type\":\"BoxAnnotation\"},{\"attributes\":{\"callback\":null,\"column_names\":[\"x\",\"y\"],\"data\":{\"x\":[1.5,1.5,1.5,1.5,1.5,1.5,1.5,1.5,1.5,1.5,1.5,1.5,1.5,1.5,1.5,1.5,1.5,1.5,1.5,1.5,1.5,1.5,1.5,1.5,1.5,1.5,1.5,1.5,1.5,1.5,1.5,1.5,1.5,1.5,1.5,1.5,1.5,1.5,1.5,1.5,1.5,1.5,1.5,1.5,1.5,1.5,1.5,1.5,1.5,1.5,1.5,1.5,1.5,1.5,1.5,1.5,1.5,1.5,1.5,1.5,1.5,1.5,1.5,1.5,1.5,1.5,1.5,1.5,1.5,1.5,1.5,1.5,1.5,1.5,1.5,1.5,1.5,1.5,1.5,1.5,1.5,1.5,1.5,1.5,1.5,1.5,1.5,1.5,1.5,1.5,1.5,1.5,1.5,1.5,1.5,1.5,1.5,1.5,1.5,1.5,3.0,3.0,3.0,3.0,3.0,3.0,3.0,3.0,3.0,3.0,3.0,3.0,3.0,3.0,3.0,3.0,3.0,3.0,3.0,3.0,3.0,3.0,3.0,3.0,3.0,3.0,3.0,3.0,3.0,3.0,3.0,3.0,3.0,3.0,3.0,3.0,3.0,3.0,3.0,3.0,3.0,3.0,3.0,3.0,3.0,3.0,3.0,3.0,3.0,3.0,3.0,3.0,3.0,3.0,3.0,3.0,3.0,3.0,3.0,3.0,3.0,3.0,3.0,3.0,3.0,3.0,3.0,3.0,3.0,3.0,3.0,3.0,3.0,3.0,3.0,3.0,3.0,3.0,3.0,3.0,3.0,3.0,3.0,3.0,3.0,3.0,3.0,3.0,3.0,3.0,3.0,3.0,3.0,3.0,3.0,3.0,3.0,3.0,3.0,3.0,1.5,1.5,1.5,1.5,1.5,1.5,1.5,1.5,1.5,1.5,1.5,1.5,1.5,1.5,1.5,1.5,1.5,1.5,1.5,1.5,1.5,1.5,1.5,1.5,1.5,1.5,1.5,1.5,1.5,1.5,1.5,1.5,1.5,1.5,1.5,1.5,1.5,1.5,1.5,1.5,1.5,1.5,1.5,1.5,1.5,1.5,1.5,1.5,1.5,1.5,1.5,1.5,1.5,1.5,1.5,1.5,1.5,1.5,1.5,1.5,1.5,1.5,1.5,1.5,1.5,1.5,1.5,1.5,1.5,1.5,1.5,1.5,1.5,1.5,1.5,1.5,1.5,1.5,1.5,1.5,1.5,1.5,1.5,1.5,1.5,1.5,1.5,1.5,1.5,1.5,1.5,1.5,1.5,1.5,1.5,1.5,1.5,1.5,1.5,1.5],\"y\":{\"__ndarray__\":\"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\",\"dtype\":\"float64\",\"shape\":[300]}},\"selected\":null,\"selection_policy\":null},\"id\":\"7cd982a7-f01b-4dd0-876e-a9ceb7443048\",\"type\":\"ColumnDataSource\"},{\"attributes\":{},\"id\":\"8660bfe7-1421-4816-96fa-16476108aa92\",\"type\":\"PanTool\"},{\"attributes\":{\"below\":[{\"id\":\"96000bbd-f4c8-4c93-a3e2-555ac02f7e00\",\"type\":\"LinearAxis\"}],\"left\":[{\"id\":\"ed17cb4b-d6f6-4071-9e19-96d01e2a0634\",\"type\":\"LinearAxis\"}],\"renderers\":[{\"id\":\"96000bbd-f4c8-4c93-a3e2-555ac02f7e00\",\"type\":\"LinearAxis\"},{\"id\":\"bd523581-8982-48cb-84d4-6a3d5ca835f2\",\"type\":\"Grid\"},{\"id\":\"ed17cb4b-d6f6-4071-9e19-96d01e2a0634\",\"type\":\"LinearAxis\"},{\"id\":\"34c6cf82-dcd3-4d1a-9377-f779f0b79b45\",\"type\":\"Grid\"},{\"id\":\"f313de52-da93-4629-b90d-519751319b12\",\"type\":\"BoxAnnotation\"},{\"id\":\"400402c2-7465-4e6d-86ce-7fcc1cc2f80e\",\"type\":\"GlyphRenderer\"}],\"title\":{\"id\":\"721006c8-a3c7-428b-a02b-da8b9e2224c6\",\"type\":\"Title\"},\"toolbar\":{\"id\":\"e1bb99d3-dc36-4abe-9aa3-215e98fce772\",\"type\":\"Toolbar\"},\"x_range\":{\"id\":\"25a0d28b-f814-446c-a331-457a7ce368c3\",\"type\":\"DataRange1d\"},\"x_scale\":{\"id\":\"6a470d79-9eb0-49db-9e16-a03ae2dcdb28\",\"type\":\"LinearScale\"},\"y_range\":{\"id\":\"b22eaede-7b3a-49e0-a8c5-c5c90bb7e894\",\"type\":\"DataRange1d\"},\"y_scale\":{\"id\":\"c3dffbd9-48fd-4a5e-982f-3e6d9fb1acd7\",\"type\":\"LinearScale\"}},\"id\":\"12703dc0-4b8c-46a8-bd1a-92bb86fe1c20\",\"subtype\":\"Figure\",\"type\":\"Plot\"},{\"attributes\":{},\"id\":\"607428ce-2de2-4ab3-ba1c-63ef37f7d75b\",\"type\":\"PanTool\"},{\"attributes\":{},\"id\":\"83d4db06-3ec9-4854-b863-4e84ff326707\",\"type\":\"BasicTickFormatter\"},{\"attributes\":{\"callback\":null,\"tabs\":[{\"id\":\"a0f0aa10-8c30-46d1-a95e-360d6add88a4\",\"type\":\"Panel\"},{\"id\":\"b879e2c4-fef5-42cc-a65b-32786f0b58dd\",\"type\":\"Panel\"},{\"id\":\"b3b3a508-df35-4c66-9629-92a2bce6caa4\",\"type\":\"Panel\"},{\"id\":\"cc9e6387-3715-4fd1-9bf1-39da1a8fa0d9\",\"type\":\"Panel\"},{\"id\":\"df0e7855-07d5-43e2-a5e2-1654706942a0\",\"type\":\"Panel\"},{\"id\":\"7ba88713-c51e-4fb8-be3b-a036decbde6c\",\"type\":\"Panel\"},{\"id\":\"4401fdab-c1ed-4c0e-a3f2-8ca95b7696bf\",\"type\":\"Panel\"},{\"id\":\"b9e0e605-212c-4846-acec-efd0ad111420\",\"type\":\"Panel\"}]},\"id\":\"21db1726-3991-4add-8cd7-3f4d6f87279e\",\"type\":\"Tabs\"},{\"attributes\":{\"active_drag\":\"auto\",\"active_inspect\":\"auto\",\"active_scroll\":\"auto\",\"active_tap\":\"auto\",\"tools\":[{\"id\":\"cb616404-5000-4558-b0bb-67620f7dc6cb\",\"type\":\"HoverTool\"},{\"id\":\"59eb03a7-8a52-4852-9f68-8d803182da39\",\"type\":\"PanTool\"},{\"id\":\"4ae5db00-bef4-43bc-af39-c6eaa7d97032\",\"type\":\"WheelZoomTool\"},{\"id\":\"a4abb9ff-e380-432b-860e-2032739dc3f5\",\"type\":\"BoxZoomTool\"},{\"id\":\"4ecd2783-6810-4c4c-b982-29ad3ac66012\",\"type\":\"ResetTool\"}]},\"id\":\"e1bb99d3-dc36-4abe-9aa3-215e98fce772\",\"type\":\"Toolbar\"},{\"attributes\":{},\"id\":\"61f07f1d-159e-4569-82a4-3e68706ad2a7\",\"type\":\"BasicTickFormatter\"},{\"attributes\":{},\"id\":\"972e7f40-58bf-4d07-a425-bd7f9e4cac0b\",\"type\":\"WheelZoomTool\"},{\"attributes\":{\"callback\":null},\"id\":\"b22eaede-7b3a-49e0-a8c5-c5c90bb7e894\",\"type\":\"DataRange1d\"},{\"attributes\":{},\"id\":\"8dd50355-d173-4bcc-90c1-8a9170fdf175\",\"type\":\"WheelZoomTool\"},{\"attributes\":{\"overlay\":{\"id\":\"42809ac5-464d-431e-b5fa-0bbb8d2780b8\",\"type\":\"BoxAnnotation\"}},\"id\":\"2efea07d-9074-41a1-93e1-0d98d3dbf550\",\"type\":\"BoxZoomTool\"},{\"attributes\":{},\"id\":\"6a470d79-9eb0-49db-9e16-a03ae2dcdb28\",\"type\":\"LinearScale\"},{\"attributes\":{\"overlay\":{\"id\":\"147d9844-aaa0-4242-9159-c09220e0d5fd\",\"type\":\"BoxAnnotation\"}},\"id\":\"c38a8f4f-4d72-4cf2-9c0c-c2dd9db616c8\",\"type\":\"BoxZoomTool\"},{\"attributes\":{},\"id\":\"d8f7f10a-7664-44dd-a336-57ffcd652f6c\",\"type\":\"ResetTool\"},{\"attributes\":{},\"id\":\"c3dffbd9-48fd-4a5e-982f-3e6d9fb1acd7\",\"type\":\"LinearScale\"},{\"attributes\":{},\"id\":\"6f5e7936-cfd5-4ee5-96f6-bd6764d4ba45\",\"type\":\"ResetTool\"},{\"attributes\":{\"fill_alpha\":{\"value\":0.1},\"fill_color\":{\"value\":\"#1f77b4\"},\"line_alpha\":{\"value\":0.1},\"line_color\":{\"value\":\"#1f77b4\"},\"line_width\":{\"value\":1.5},\"x\":{\"field\":\"x\"},\"y\":{\"field\":\"y\"}},\"id\":\"cec74930-ccaa-4015-b7d6-1754e9fbf1e5\",\"type\":\"Circle\"},{\"attributes\":{\"plot\":{\"id\":\"12703dc0-4b8c-46a8-bd1a-92bb86fe1c20\",\"subtype\":\"Figure\",\"type\":\"Plot\"},\"ticker\":{\"id\":\"0625e768-bd47-4fa2-a33f-51d9e32ee09f\",\"type\":\"BasicTicker\"}},\"id\":\"bd523581-8982-48cb-84d4-6a3d5ca835f2\",\"type\":\"Grid\"},{\"attributes\":{\"data_source\":{\"id\":\"ab4b44de-1f99-4d04-98c5-729c87cbf570\",\"type\":\"ColumnDataSource\"},\"glyph\":{\"id\":\"a113087e-8695-491c-9410-3667e1240a92\",\"type\":\"Circle\"},\"hover_glyph\":null,\"muted_glyph\":null,\"nonselection_glyph\":{\"id\":\"cec74930-ccaa-4015-b7d6-1754e9fbf1e5\",\"type\":\"Circle\"},\"selection_glyph\":null,\"view\":{\"id\":\"b75af147-ee94-4d99-98a1-558331885d6e\",\"type\":\"CDSView\"}},\"id\":\"8bcd4737-ea55-4308-bd56-232bb2a5d712\",\"type\":\"GlyphRenderer\"},{\"attributes\":{\"fill_alpha\":{\"value\":0.1},\"fill_color\":{\"value\":\"#1f77b4\"},\"line_alpha\":{\"value\":0.1},\"line_color\":{\"value\":\"#1f77b4\"},\"line_width\":{\"value\":1.5},\"x\":{\"field\":\"x\"},\"y\":{\"field\":\"y\"}},\"id\":\"97da84d4-ce3c-4565-a24e-2c8704e81b81\",\"type\":\"Circle\"},{\"attributes\":{\"data_source\":{\"id\":\"d5e310c7-f654-420b-8c83-678f8086164c\",\"type\":\"ColumnDataSource\"},\"glyph\":{\"id\":\"1bde01f9-7790-45cf-bee2-8be4bba9a6f2\",\"type\":\"Circle\"},\"hover_glyph\":null,\"muted_glyph\":null,\"nonselection_glyph\":{\"id\":\"97da84d4-ce3c-4565-a24e-2c8704e81b81\",\"type\":\"Circle\"},\"selection_glyph\":null,\"view\":{\"id\":\"e51e476d-53b2-4a7d-a704-a5c3c824a4c7\",\"type\":\"CDSView\"}},\"id\":\"58c4b93b-745e-473e-8949-72e5d6ee4ee3\",\"type\":\"GlyphRenderer\"},{\"attributes\":{\"axis_label\":\" \",\"axis_label_text_font_size\":{\"value\":\"18px\"},\"formatter\":{\"id\":\"d3a05e25-5306-4ba9-81c5-3f99dd843b08\",\"type\":\"BasicTickFormatter\"},\"plot\":{\"id\":\"12703dc0-4b8c-46a8-bd1a-92bb86fe1c20\",\"subtype\":\"Figure\",\"type\":\"Plot\"},\"ticker\":{\"id\":\"0625e768-bd47-4fa2-a33f-51d9e32ee09f\",\"type\":\"BasicTicker\"}},\"id\":\"96000bbd-f4c8-4c93-a3e2-555ac02f7e00\",\"type\":\"LinearAxis\"},{\"attributes\":{\"source\":{\"id\":\"ab4b44de-1f99-4d04-98c5-729c87cbf570\",\"type\":\"ColumnDataSource\"}},\"id\":\"b75af147-ee94-4d99-98a1-558331885d6e\",\"type\":\"CDSView\"},{\"attributes\":{\"source\":{\"id\":\"d5e310c7-f654-420b-8c83-678f8086164c\",\"type\":\"ColumnDataSource\"}},\"id\":\"e51e476d-53b2-4a7d-a704-a5c3c824a4c7\",\"type\":\"CDSView\"},{\"attributes\":{},\"id\":\"0625e768-bd47-4fa2-a33f-51d9e32ee09f\",\"type\":\"BasicTicker\"},{\"attributes\":{},\"id\":\"a266ec43-8e00-4cb2-aab8-d2aa5d653a05\",\"type\":\"BasicTickFormatter\"},{\"attributes\":{\"axis_label\":\"\\u03b7 [m]\",\"axis_label_text_font_size\":{\"value\":\"18px\"},\"formatter\":{\"id\":\"899c3f77-fead-40cd-8ca7-ed2276497c31\",\"type\":\"BasicTickFormatter\"},\"plot\":{\"id\":\"12703dc0-4b8c-46a8-bd1a-92bb86fe1c20\",\"subtype\":\"Figure\",\"type\":\"Plot\"},\"ticker\":{\"id\":\"36d4cda9-f2cb-45fc-9ce3-e0041ebd4594\",\"type\":\"BasicTicker\"}},\"id\":\"ed17cb4b-d6f6-4071-9e19-96d01e2a0634\",\"type\":\"LinearAxis\"},{\"attributes\":{},\"id\":\"9d89bee2-70b2-46f8-a75f-87cb047698ca\",\"type\":\"BasicTickFormatter\"},{\"attributes\":{\"fill_alpha\":{\"value\":0.1},\"fill_color\":{\"value\":\"#1f77b4\"},\"line_alpha\":{\"value\":0.1},\"line_color\":{\"value\":\"#1f77b4\"},\"line_width\":{\"value\":1.5},\"x\":{\"field\":\"x\"},\"y\":{\"field\":\"y\"}},\"id\":\"359f60d4-ed0a-45bf-b611-2133fedef682\",\"type\":\"Circle\"},{\"attributes\":{\"data_source\":{\"id\":\"732866ef-c3b1-4509-860e-233bca5a4470\",\"type\":\"ColumnDataSource\"},\"glyph\":{\"id\":\"349945ef-b715-4eca-bd62-f9df7100443a\",\"type\":\"Circle\"},\"hover_glyph\":null,\"muted_glyph\":null,\"nonselection_glyph\":{\"id\":\"9766e4f9-11d2-4aa8-9e43-51a02fedcac0\",\"type\":\"Circle\"},\"selection_glyph\":null,\"view\":{\"id\":\"c3ea0a97-eea0-4d04-b18c-41524b47e030\",\"type\":\"CDSView\"}},\"id\":\"3fb64f05-c462-4e61-a1cd-02a6b612b3f3\",\"type\":\"GlyphRenderer\"}],\"root_ids\":[\"21db1726-3991-4add-8cd7-3f4d6f87279e\"]},\"title\":\"Bokeh Application\",\"version\":\"0.12.15\"}};\n",
       "  var render_items = [{\"docid\":\"1ce79eb3-4742-4f2f-958f-d36683d5df5d\",\"elementid\":\"e7d1a906-2e60-4964-a875-a9b486e925f0\",\"modelid\":\"21db1726-3991-4add-8cd7-3f4d6f87279e\"}];\n",
       "  root.Bokeh.embed.embed_items_notebook(docs_json, render_items);\n",
       "\n",
       "  }\n",
       "  if (root.Bokeh !== undefined) {\n",
       "    embed_document(root);\n",
       "  } else {\n",
       "    var attempts = 0;\n",
       "    var timer = setInterval(function(root) {\n",
       "      if (root.Bokeh !== undefined) {\n",
       "        embed_document(root);\n",
       "        clearInterval(timer);\n",
       "      }\n",
       "      attempts++;\n",
       "      if (attempts > 100) {\n",
       "        console.log(\"Bokeh: ERROR: Unable to run BokehJS code because BokehJS library is missing\")\n",
       "        clearInterval(timer);\n",
       "      }\n",
       "    }, 10, root)\n",
       "  }\n",
       "})(window);"
      ],
      "application/vnd.bokehjs_exec.v0+json": ""
     },
     "metadata": {
      "application/vnd.bokehjs_exec.v0+json": {
       "id": "21db1726-3991-4add-8cd7-3f4d6f87279e"
      }
     },
     "output_type": "display_data"
    }
   ],
   "source": [
    "\n",
    "hover = HoverTool(tooltips=[\n",
    "    (\"(x,y)\", \"($x, $y)\"),\n",
    "])\n",
    "\n",
    "p1 = figure(plot_width=600, plot_height=600,tools=['pan,wheel_zoom,box_zoom,reset',hover],\n",
    "           title=\"Mouse over the dots\")\n",
    "\n",
    "p1.scatter(thetaS, eta[0:np.size(eta)-1], color=\"blue\", line_width=lineWidth)\n",
    "p1.xaxis.axis_label = ' water content at saturation [-]'\n",
    "p1.xaxis.axis_label_text_font_size = str(labelSize) + \"px\"\n",
    "p1.yaxis.axis_label = '\\u03b7 [m]'\n",
    "p1.yaxis.axis_label_text_font_size = str(labelSize) + \"px\"\n",
    "p1.title.text = 'Water content at saturation'\n",
    "p1.title.align = \"center\"\n",
    "p1.title.text_font_size = str(titleSize) + \"px\"\n",
    "tab1 = Panel(child=p1, title=\"Theta_s\")\n",
    "\n",
    "p2 = figure(plot_width=600, plot_height=600,tools=['pan,wheel_zoom,box_zoom,reset',hover],\n",
    "           title=\"Mouse over the dots\")\n",
    "p2.scatter(thetaR, eta[0:np.size(eta)-1],line_width=lineWidth, color=\"red\")\n",
    "p2.xaxis.axis_label = 'residual water content [-]'\n",
    "p2.xaxis.axis_label_text_font_size = str(labelSize) + \"px\"\n",
    "p2.yaxis.axis_label = '\\u03b7 [m]'\n",
    "p2.yaxis.axis_label_text_font_size = str(labelSize) + \"px\"\n",
    "p2.title.text = 'Residual water content'\n",
    "p2.title.align = \"center\"\n",
    "p2.title.text_font_size = str(titleSize) + \"px\"\n",
    "tab2 = Panel(child=p2, title=\"Theta_r\")\n",
    "\n",
    "p3 = figure(plot_width=600, plot_height=600,tools=['pan,wheel_zoom,box_zoom,reset',hover],\n",
    "           title=\"Mouse over the dots\" )\n",
    "p3.scatter(Ks, eta[0:np.size(eta)-1],line_width=lineWidth, color=\"red\")\n",
    "p3.xaxis.axis_label = 'Ks [m/s]'\n",
    "p3.xaxis.axis_label_text_font_size = str(labelSize) + \"px\"\n",
    "p3.yaxis.axis_label = '\\u03b7 [m]'\n",
    "p3.yaxis.axis_label_text_font_size = str(labelSize) + \"px\"\n",
    "p3.title.text = 'Saturated hydraulic conductivity'\n",
    "p3.title.align = \"center\"\n",
    "p3.title.text_font_size = str(titleSize) + \"px\"\n",
    "tab3= Panel(child=p3, title=\"Ks\")\n",
    "\n",
    "p4 = figure(plot_width=600, plot_height=600,tools=['pan,wheel_zoom,box_zoom,reset',hover],\n",
    "           title=\"Mouse over the dots\" )\n",
    "p4.scatter(par1SWRC, eta[0:np.size(eta)-1],line_width=lineWidth, color=\"red\")\n",
    "p4.xaxis.axis_label = ' '\n",
    "p4.xaxis.axis_label_text_font_size = str(labelSize) + \"px\"\n",
    "p4.yaxis.axis_label = '\\u03b7 [m]'\n",
    "p4.yaxis.axis_label_text_font_size = str(labelSize) + \"px\"\n",
    "p4.title.text = 'SWRC parameter 2'\n",
    "p4.title.align = \"center\"\n",
    "p4.title.text_font_size = str(titleSize) + \"px\"\n",
    "tab4= Panel(child=p4, title=\"SWRC par1\")\n",
    "\n",
    "p5 = figure(plot_width=600, plot_height=600,tools=['pan,wheel_zoom,box_zoom,reset',hover],\n",
    "           title=\"Mouse over the dots\" )\n",
    "p5.scatter(par2SWRC, eta[0:np.size(eta)-1],line_width=lineWidth, color=\"red\")\n",
    "p5.xaxis.axis_label = ' '\n",
    "p5.xaxis.axis_label_text_font_size = str(labelSize) + \"px\"\n",
    "p5.yaxis.axis_label = '\\u03b7 [m]'\n",
    "p5.yaxis.axis_label_text_font_size = str(labelSize) + \"px\"\n",
    "p5.title.text = 'SWRC parameter 2'\n",
    "p5.title.align = \"center\"\n",
    "p5.title.text_font_size = str(titleSize) + \"px\"\n",
    "tab5= Panel(child=p5, title=\"SWRC par2\")\n",
    "\n",
    "p6 = figure(plot_width=600, plot_height=600,tools=['pan,wheel_zoom,box_zoom,reset',hover],\n",
    "           title=\"Mouse over the dots\" )\n",
    "p6.scatter(par3SWRC, eta[0:np.size(eta)-1],line_width=lineWidth, color=\"red\")\n",
    "p6.xaxis.axis_label = '\\u03b1 [1/Pa]'\n",
    "p6.xaxis.axis_label_text_font_size = str(labelSize) + \"px\"\n",
    "p6.yaxis.axis_label = '\\u03b7 [m]'\n",
    "p6.yaxis.axis_label_text_font_size = str(labelSize) + \"px\"\n",
    "p6.title.text = 'Compressibility of soil'\n",
    "p6.title.align = \"center\"\n",
    "p6.title.text_font_size = str(titleSize) + \"px\"\n",
    "tab6= Panel(child=p6, title=\"\\u03b1\")\n",
    "\n",
    "p7 = figure(plot_width=600, plot_height=600,tools=['pan,wheel_zoom,box_zoom,reset',hover],\n",
    "           title=\"Mouse over the dots\" )\n",
    "p7.scatter(par4SWRC, eta[0:np.size(eta)-1],line_width=lineWidth, color=\"red\")\n",
    "p7.xaxis.axis_label = '\\u03b2 [1/Pa]'\n",
    "p7.xaxis.axis_label_text_font_size = str(labelSize) + \"px\"\n",
    "p7.yaxis.axis_label = '\\u03b7 [m]'\n",
    "p7.yaxis.axis_label_text_font_size = str(labelSize) + \"px\"\n",
    "p7.title.text = 'Compressibility of water'\n",
    "p7.title.align = \"center\"\n",
    "p7.title.text_font_size = str(titleSize) + \"px\"\n",
    "tab7= Panel(child=p7, title=\"\\u03b2\")\n",
    "\n",
    "p8 = figure(plot_width=600, plot_height=600,tools=['pan,wheel_zoom,box_zoom,reset',hover],\n",
    "           title=\"Mouse over the dots\" )\n",
    "p8.scatter(et, eta,line_width=lineWidth, color=\"red\")\n",
    "p8.xaxis.axis_label = 'et coeff. [1/s]'\n",
    "p8.xaxis.axis_label_text_font_size = str(labelSize) + \"px\"\n",
    "p8.yaxis.axis_label = '\\u03b7 [m]'\n",
    "p8.yaxis.axis_label_text_font_size = str(labelSize) + \"px\"\n",
    "p8.title.text = 'Source sink term'\n",
    "p8.title.align = \"center\"\n",
    "p8.title.text_font_size = str(titleSize) + \"px\"\n",
    "tab8= Panel(child=p8, title=\"et\")\n",
    "\n",
    "tabs = Tabs(tabs=[ tab1, tab2, tab3, tab4, tab5, tab6, tab7, tab8 ])\n",
    "show(tabs)"
   ]
  },
  {
   "cell_type": "markdown",
   "metadata": {},
   "source": [
    "## Save data in a NetCDF\n",
    "\n",
    "All data computed above are saved in NetCDF file"
   ]
  },
  {
   "cell_type": "code",
   "execution_count": 16,
   "metadata": {},
   "outputs": [],
   "source": [
    "## enter the following string to write your NetCDF\n",
    "\n",
    "fileName = \"C:\\\\Users\\\\Niccolo\\\\OMS\\\\OMS_Project_Richards1D\\\\data\\\\Grid_NetCDF\\\\Casulli2010_test2.nc\"\n",
    "\n",
    "## file attributes\n",
    "\n",
    "title = '''Grid 3 layers soil1, soil2, soil1, no ponding water, constant psi with 2m at bottom, \n",
    "            soil1 thetaS =  0.35, thetaR = 0.07, Ks = 0.0000981m/s, alphaSpecificStorage = 0, betaSpecificStorage = 0\n",
    "                  BC model: n = 1.5, psiD = -0.3496m \n",
    "            soil2 thetaS =  0.35, thetaR = 0.035, Ks = 0.00981m/s, alphaSpecificStorage = 0, betaSpecificStorage = 0\n",
    "                  BC model: n = 3, psiD = -0.14992m\n",
    "            inputfile: data\\\\RichardMeshGen_input\\\\Casulli2010_test2.csv'''\n",
    "institution = 'Geoframe'\n",
    "summary = 'This file stores all grid information (geometry, soiAll data computed above are saved in NetCDF file'\n",
    "date = '5/23/2018' \n"
   ]
  },
  {
   "cell_type": "code",
   "execution_count": 17,
   "metadata": {
    "scrolled": false
   },
   "outputs": [
    {
     "name": "stdout",
     "output_type": "stream",
     "text": [
      "*** SUCCESS writing!  C:\\Users\\Niccolo\\OMS\\OMS_Project_Richards1D\\data\\Grid_NetCDF\\Casulli2010_test2.nc\n"
     ]
    }
   ],
   "source": [
    "\n",
    "from netCDF4 import Dataset\n",
    "\n",
    "\n",
    "\n",
    "# the output array to write will be nx x ny\n",
    "dim = np.size(eta);\n",
    "dim1 = np.size(thetaS)\n",
    "# open a new netCDF file for writing.\n",
    "ncfile = Dataset(fileName,'w') \n",
    "\n",
    "# Create global attributes\n",
    "ncfile.title = title\n",
    "ncfile.institution =  institution\n",
    "ncfile.summary = summary\n",
    "#ncfile.acknowledgment = \"\"\n",
    "ncfile.date_created = date\n",
    "\n",
    "\n",
    "# create the z dimensions.\n",
    "ncfile.createDimension('z',dim)\n",
    "ncfile.createDimension('zz',dim1)\n",
    "\n",
    "# create the variable\n",
    "# first argument is name of variable, second is datatype, third is\n",
    "# a tuple with the names of dimensions.\n",
    "dataEta = ncfile.createVariable('eta','f8',('z'))\n",
    "dataEta.unit = 'm'\n",
    "dataEta.long_name = '\\u03b7 coordinate of volume centroids: zero is at soil surface and and positive upward'\n",
    "\n",
    "dataEtaDual = ncfile.createVariable('etaDual','f8',('z'))\n",
    "dataEtaDual.unit = 'm'\n",
    "dataEtaDual.long_name = '\\u03b7 coordinate of volume interfaces: zero is at soil surface and and positive upward. '\n",
    "\n",
    "dataZ = ncfile.createVariable('z','f8',('z'))\n",
    "dataZ.unit = 'm'\n",
    "dataZ.long_name = 'z coordinate  of volume centroids: zero is at the bottom of the column and and positive upward'\n",
    "\n",
    "dataZDual = ncfile.createVariable('zDual','f8',('z'))\n",
    "dataZDual.unit = 'm'\n",
    "dataZDual.long_name = 'z coordinate of volume interfaces: zero is at soil surface and and positive upward.'\n",
    "\n",
    "\n",
    "dataPsiIC = ncfile.createVariable('psiIC','f8',('z'))\n",
    "dataPsiIC.units = 'm'\n",
    "dataPsiIC.long_name = 'initial condition for water suction'\n",
    "\n",
    "dataSpaceDelta = ncfile.createVariable('spaceDelta','f8',('z'))\n",
    "dataSpaceDelta.unit = 'm'\n",
    "dataSpaceDelta.long_name = 'Distance between consecutive controids, is used to compute gradients'\n",
    "\n",
    "dataEt = ncfile.createVariable('et','f8',('z'))\n",
    "dataEt.units = '1/s'\n",
    "dataEt.long_name = 'Coefficient to simulate ET'\n",
    "\n",
    "\n",
    "\n",
    "\n",
    "dataDeltaZ = ncfile.createVariable('deltaZ','f8',('zz'))\n",
    "dataDeltaZ.unit = 'm'\n",
    "dataDeltaZ.long_name = 'Length of each control volume'\n",
    "\n",
    "dataThetaS = ncfile.createVariable('thetaS','f8',('zz'))\n",
    "dataThetaS.units = '-'\n",
    "dataThetaS.long_name = 'adimensional water content at saturation'\n",
    "\n",
    "dataThetaR = ncfile.createVariable('thetaR','f8',('zz'))\n",
    "dataThetaR.units = '-'\n",
    "dataThetaR.long_name = 'adimensional residual water content'\n",
    "\n",
    "dataKs = ncfile.createVariable('Ks','f8',('zz'))\n",
    "dataKs.units = 'm/s'\n",
    "dataKs.long_name = 'hydraulic conductivity at saturation'\n",
    "\n",
    "## enter the long_name of par1SWRC, as an example  Parameter n of Van Genuchten model\n",
    "dataPar1SWRC = ncfile.createVariable('par1SWRC','f8',('zz'))\n",
    "dataPar1SWRC.units = '-'\n",
    "dataPar1SWRC.long_name = 'Parameter n of Brooks and Corey model'#'Parameter n of Van Genuchten model'\n",
    "\n",
    "## enter the long_name of par2SWRC, as an example  Parameter alpha of Van Genuchten model\n",
    "dataPar2SWRC = ncfile.createVariable('par2SWRC','f8',('zz'))\n",
    "dataPar2SWRC.units = '1/m'\n",
    "dataPar2SWRC.long_name = 'Parameter psiD of Brooks and Corey model'#'Parameter alpha of Van Genuchten model'\n",
    "\n",
    "dataPar3SWRC = ncfile.createVariable('par3SWRC','f8',('zz'))\n",
    "dataPar3SWRC.units = '1/Pa'\n",
    "dataPar3SWRC.long_name = 'Aquitard compressibility'\n",
    "\n",
    "dataPar4SWRC = ncfile.createVariable('par4SWRC','f8',('zz'))\n",
    "dataPar4SWRC.units = '1/Pa'\n",
    "dataPar4SWRC.long_name = 'Water compressibility'\n",
    "\n",
    "\n",
    "\n",
    "# write data to variable.\n",
    "for i in range(0,dim):\n",
    "    dataEta[i] = eta[i]\n",
    "    dataEtaDual[i] = etaDual[i]\n",
    "    dataZ[i] = z[i]\n",
    "    dataZDual[i] = zDual[i]\n",
    "    dataPsiIC[i] = psiIC[i]\n",
    "    dataSpaceDelta[i] = spaceDelta[i]\n",
    "    dataEt[i] = et[i]\n",
    "   \n",
    "\n",
    "for i in range(0,dim1):\n",
    "    dataDeltaZ[i] = length[i]\n",
    "    dataThetaS[i] = thetaS[i]\n",
    "    dataThetaR[i] = thetaR[i]\n",
    "    dataKs[i] = Ks[i]\n",
    "    dataPar1SWRC[i] = par1SWRC[i]\n",
    "    dataPar2SWRC[i] = par2SWRC[i]\n",
    "    dataPar3SWRC[i] = par3SWRC[i]\n",
    "    dataPar4SWRC[i] = par4SWRC[i]\n",
    "   \n",
    "    \n",
    "## close the file.\n",
    "ncfile.close()\n",
    "print ('*** SUCCESS writing!  '+fileName)\n"
   ]
  },
  {
   "cell_type": "code",
   "execution_count": null,
   "metadata": {},
   "outputs": [],
   "source": []
  }
 ],
 "metadata": {
  "kernelspec": {
   "display_name": "Python 3",
   "language": "python",
   "name": "python3"
  },
  "language_info": {
   "codemirror_mode": {
    "name": "ipython",
    "version": 3
   },
   "file_extension": ".py",
   "mimetype": "text/x-python",
   "name": "python",
   "nbconvert_exporter": "python",
   "pygments_lexer": "ipython3",
   "version": "3.6.3"
  }
 },
 "nbformat": 4,
 "nbformat_minor": 2
}
