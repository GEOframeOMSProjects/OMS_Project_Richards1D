{
 "cells": [
  {
   "cell_type": "markdown",
   "metadata": {},
   "source": [
    "# Create the grid for Richards 1D\n",
    "\n",
    "This code allows to create a mesh for 1D PDE problem:\n",
    "    - domain discretization\n",
    "    - parameters setting\n",
    "All output data are stored in a NetCDF file"
   ]
  },
  {
   "cell_type": "code",
   "execution_count": 1,
   "metadata": {},
   "outputs": [],
   "source": [
    "# -*- coding: utf-8 -*-\n",
    "\"\"\"\n",
    "  GNU GPL v3 License\n",
    " \n",
    "  Copyright 2018 Niccolo` Tubini\n",
    " \n",
    "  This program is free software: you can redistribute it and/or modify\n",
    "  it under the terms of the GNU General Public License as published by\n",
    "  the Free Software Foundation, either version 3 of the License, or\n",
    "  (at your option) any later version.\n",
    " \n",
    "  This program is distributed in the hope that it will be useful,\n",
    "  but WITHOUT ANY WARRANTY; without even the implied warranty of\n",
    "  MERCHANTABILITY or FITNESS FOR A PARTICULAR PURPOSE.  See the\n",
    "  GNU General Public License for more details.\n",
    " \n",
    "  You should have received a copy of the GNU General Public License\n",
    "  along with this program.  If not, see <http://www.gnu.org/licenses/>.\n",
    "\"\"\"\n",
    "\n",
    "\n",
    "import os\n",
    "import pandas as pd\n",
    "import numpy as np\n",
    "import matplotlib.pyplot as plt\n"
   ]
  },
  {
   "cell_type": "code",
   "execution_count": 2,
   "metadata": {},
   "outputs": [
    {
     "data": {
      "text/plain": [
       "['Casulli2010_test2.csv',\n",
       " 'Casulli2010_test2VG.csv',\n",
       " 'ClaySand_noPonding.csv',\n",
       " 'ClaySand_noPonding.PNG',\n",
       " 'Clay_noPonding.csv',\n",
       " 'Clay_noPonding.PNG',\n",
       " 'Clay_noPondingBC.csv',\n",
       " 'Clay_noPonding_Dry.csv',\n",
       " 'SandClay_01Ponding_Measurement.csv',\n",
       " 'SandClay_01Ponding_Measurement.PNG',\n",
       " 'SandClay_noPonding.csv',\n",
       " 'Sand_01Ponding.csv',\n",
       " 'Sand_01Ponding.PNG']"
      ]
     },
     "execution_count": 2,
     "metadata": {},
     "output_type": "execute_result"
    }
   ],
   "source": [
    "os.chdir(\"C:\\\\Users\\\\Niccolo\\\\OMS\\\\OMS_Project_Richards1D\\\\data\\\\RichardMeshGen_input\")\n",
    "os.listdir()"
   ]
  },
  {
   "cell_type": "markdown",
   "metadata": {},
   "source": [
    "### Read the input file in format .csv"
   ]
  },
  {
   "cell_type": "code",
   "execution_count": 3,
   "metadata": {},
   "outputs": [],
   "source": [
    "\n",
    "data = pd.read_csv(\"Clay_noPonding_Dry.csv\")\n",
    "#print(data.head())\n",
    "#print(data.index)\n",
    "#print(data.columns)"
   ]
  },
  {
   "cell_type": "markdown",
   "metadata": {},
   "source": [
    "### This section computes geometrical quantities of the discretized domain\n",
    "- eta is the vertical coordinate of the control volumes centroids. eta is positive upward and its origin is set at the soil surface. This coordinate will be used to compute intial condition and plot outputs such as water head and water content\n",
    "- etaDual is the vertical coordiante of control volumes interfaces. etaDual is positive upward and its origin is set at the soil surface. This coordinate will be used to plot output velocities.\n",
    "- z is the vertical coordinate of the control volumes centroids. z is positive upward and its origin is set at the bottom of the soil column.\n",
    "- zDual is the vertical coordiante of control volumes interfaces. zDual is positive upward and its origin is set at the bottom of the soil column."
   ]
  },
  {
   "cell_type": "code",
   "execution_count": 4,
   "metadata": {},
   "outputs": [],
   "source": [
    "\n",
    "## list containing centroids coordinates\n",
    "eta = [] \n",
    "## list containing control volumes interface coordinates\n",
    "etaDual = []\n",
    "\n",
    "    \n",
    "for i in range(np.size(data.index)-1,0,-1):\n",
    "    if data['Type'][i]=='L' and data['Type'][i-1]=='L':\n",
    "        #print(\"Layer layer\")\n",
    "        deta = ( data['eta'][i]-data['eta'][i-1])/data['N'][i-1]\n",
    "        eta=np.append(eta, np.linspace(data['eta'][i]-deta/2,data['eta'][i-1]+deta/2,num=data['N'][i-1],endpoint=True) )\n",
    "        etaDual=np.append(etaDual, np.linspace(data['eta'][i],data['eta'][i-1],num=data['N'][i-1]+1,endpoint=True) )\n",
    "    elif data['Type'][i]=='L' and data['Type'][i-1]=='M':\n",
    "        #print(\"Layer Meas\")\n",
    "        deta = ( data['eta'][i]-data['eta'][i-1])/data['N'][i-1]\n",
    "        eta=np.append(eta, np.linspace(data['eta'][i]-deta/2,data['eta'][i-1],num=data['N'][i-1],endpoint=True) )\n",
    "        etaDual=np.append(etaDual, np.linspace(data['eta'][i],data['eta'][i-1]+deta/2,num=data['N'][i-1],endpoint=True) )\n",
    "    elif data['Type'][i]=='M' and data['Type'][i-1]=='L':\n",
    "        #print(\"Meas layer\")\n",
    "        deta = ( data['eta'][i]-data['eta'][i-1])/data['N'][i-1]\n",
    "        eta=np.append(eta, np.linspace(data['eta'][i],data['eta'][i-1]+deta/2,num=data['N'][i-1],endpoint=True) )\n",
    "        etaDual=np.append(etaDual, np.linspace(data['eta'][i]-deta/2,data['eta'][i-1],num=data['N'][i-1],endpoint=True) )\n",
    "    else:\n",
    "        print(\"ERROR!!\")  \n",
    "        \n",
    "## to eliminate doubles\n",
    "eta=[ii for n,ii in enumerate(eta) if ii not in eta[:n]]\n",
    "etaDual=[ii for n,ii in enumerate(etaDual) if ii not in etaDual[:n]]\n",
    "\n",
    "\n",
    "## control volume length\n",
    "length = []\n",
    "\n",
    "for i in range(0,np.size(etaDual)-1):\n",
    "    length = np.append(length, np.abs(etaDual[i]-etaDual[i+1]) )\n",
    "\n",
    "    \n",
    "## space length: is used to cumpute gradients\n",
    "spaceDelta = []\n",
    "\n",
    "for i in range(0,np.size(etaDual)):\n",
    "    if i==0:\n",
    "        spaceDelta = np.append(spaceDelta, np.abs(etaDual[i]-eta[i]) )\n",
    "    elif i==np.size(etaDual)-1:\n",
    "        spaceDelta = np.append(spaceDelta, np.abs(etaDual[i]-eta[i-1]) )\n",
    "    else:\n",
    "         spaceDelta = np.append(spaceDelta, np.abs(eta[i-1]-eta[i]) )\n",
    "   \n",
    "\n",
    "eta= np.append(eta,data['eta'][0])\n"
   ]
  },
  {
   "cell_type": "code",
   "execution_count": 5,
   "metadata": {},
   "outputs": [],
   "source": [
    "## DA AGGIUNGERE ALLA FINE PERCHE SONO QUELLE CHE SERVONO IN ECLIPSE\n",
    "z = []\n",
    "zDual = []\n",
    "for i in range(0, np.size(eta)):\n",
    "    z = np.append(z,eta[i]-data['eta'][np.size(data['eta'])-1])\n",
    "    \n",
    "for i in range(0, np.size(etaDual)):\n",
    "    zDual = np.append(zDual,etaDual[i]-data['eta'][np.size(data['eta'])-1])"
   ]
  },
  {
   "cell_type": "markdown",
   "metadata": {},
   "source": [
    "## Grid plot\n",
    "The sections below allows to plot the discretized domain. In the first plot control volumes centroids are shown, whilst in the second one their interfaces. Moreover, in both plots soil layer and measurament points are drawn.\n",
    "\n",
    "These plots are drawn with bokeh library https://bokeh.pydata.org/en/latest/, and they are interactive."
   ]
  },
  {
   "cell_type": "code",
   "execution_count": 6,
   "metadata": {},
   "outputs": [
    {
     "data": {
      "text/html": [
       "\n",
       "    <div class=\"bk-root\">\n",
       "        <a href=\"https://bokeh.pydata.org\" target=\"_blank\" class=\"bk-logo bk-logo-small bk-logo-notebook\"></a>\n",
       "        <span id=\"f2c7f612-263e-479a-a2bc-c90b26f484cd\">Loading BokehJS ...</span>\n",
       "    </div>"
      ]
     },
     "metadata": {},
     "output_type": "display_data"
    },
    {
     "data": {
      "application/javascript": [
       "\n",
       "(function(root) {\n",
       "  function now() {\n",
       "    return new Date();\n",
       "  }\n",
       "\n",
       "  var force = true;\n",
       "\n",
       "  if (typeof (root._bokeh_onload_callbacks) === \"undefined\" || force === true) {\n",
       "    root._bokeh_onload_callbacks = [];\n",
       "    root._bokeh_is_loading = undefined;\n",
       "  }\n",
       "\n",
       "  var JS_MIME_TYPE = 'application/javascript';\n",
       "  var HTML_MIME_TYPE = 'text/html';\n",
       "  var EXEC_MIME_TYPE = 'application/vnd.bokehjs_exec.v0+json';\n",
       "  var CLASS_NAME = 'output_bokeh rendered_html';\n",
       "\n",
       "  /**\n",
       "   * Render data to the DOM node\n",
       "   */\n",
       "  function render(props, node) {\n",
       "    var script = document.createElement(\"script\");\n",
       "    node.appendChild(script);\n",
       "  }\n",
       "\n",
       "  /**\n",
       "   * Handle when an output is cleared or removed\n",
       "   */\n",
       "  function handleClearOutput(event, handle) {\n",
       "    var cell = handle.cell;\n",
       "\n",
       "    var id = cell.output_area._bokeh_element_id;\n",
       "    var server_id = cell.output_area._bokeh_server_id;\n",
       "    // Clean up Bokeh references\n",
       "    if (id !== undefined) {\n",
       "      Bokeh.index[id].model.document.clear();\n",
       "      delete Bokeh.index[id];\n",
       "    }\n",
       "\n",
       "    if (server_id !== undefined) {\n",
       "      // Clean up Bokeh references\n",
       "      var cmd = \"from bokeh.io.state import curstate; print(curstate().uuid_to_server['\" + server_id + \"'].get_sessions()[0].document.roots[0]._id)\";\n",
       "      cell.notebook.kernel.execute(cmd, {\n",
       "        iopub: {\n",
       "          output: function(msg) {\n",
       "            var element_id = msg.content.text.trim();\n",
       "            Bokeh.index[element_id].model.document.clear();\n",
       "            delete Bokeh.index[element_id];\n",
       "          }\n",
       "        }\n",
       "      });\n",
       "      // Destroy server and session\n",
       "      var cmd = \"import bokeh.io.notebook as ion; ion.destroy_server('\" + server_id + \"')\";\n",
       "      cell.notebook.kernel.execute(cmd);\n",
       "    }\n",
       "  }\n",
       "\n",
       "  /**\n",
       "   * Handle when a new output is added\n",
       "   */\n",
       "  function handleAddOutput(event, handle) {\n",
       "    var output_area = handle.output_area;\n",
       "    var output = handle.output;\n",
       "\n",
       "    // limit handleAddOutput to display_data with EXEC_MIME_TYPE content only\n",
       "    if ((output.output_type != \"display_data\") || (!output.data.hasOwnProperty(EXEC_MIME_TYPE))) {\n",
       "      return\n",
       "    }\n",
       "\n",
       "    var toinsert = output_area.element.find(\".\" + CLASS_NAME.split(' ')[0]);\n",
       "\n",
       "    if (output.metadata[EXEC_MIME_TYPE][\"id\"] !== undefined) {\n",
       "      toinsert[toinsert.length - 1].firstChild.textContent = output.data[JS_MIME_TYPE];\n",
       "      // store reference to embed id on output_area\n",
       "      output_area._bokeh_element_id = output.metadata[EXEC_MIME_TYPE][\"id\"];\n",
       "    }\n",
       "    if (output.metadata[EXEC_MIME_TYPE][\"server_id\"] !== undefined) {\n",
       "      var bk_div = document.createElement(\"div\");\n",
       "      bk_div.innerHTML = output.data[HTML_MIME_TYPE];\n",
       "      var script_attrs = bk_div.children[0].attributes;\n",
       "      for (var i = 0; i < script_attrs.length; i++) {\n",
       "        toinsert[toinsert.length - 1].firstChild.setAttribute(script_attrs[i].name, script_attrs[i].value);\n",
       "      }\n",
       "      // store reference to server id on output_area\n",
       "      output_area._bokeh_server_id = output.metadata[EXEC_MIME_TYPE][\"server_id\"];\n",
       "    }\n",
       "  }\n",
       "\n",
       "  function register_renderer(events, OutputArea) {\n",
       "\n",
       "    function append_mime(data, metadata, element) {\n",
       "      // create a DOM node to render to\n",
       "      var toinsert = this.create_output_subarea(\n",
       "        metadata,\n",
       "        CLASS_NAME,\n",
       "        EXEC_MIME_TYPE\n",
       "      );\n",
       "      this.keyboard_manager.register_events(toinsert);\n",
       "      // Render to node\n",
       "      var props = {data: data, metadata: metadata[EXEC_MIME_TYPE]};\n",
       "      render(props, toinsert[toinsert.length - 1]);\n",
       "      element.append(toinsert);\n",
       "      return toinsert\n",
       "    }\n",
       "\n",
       "    /* Handle when an output is cleared or removed */\n",
       "    events.on('clear_output.CodeCell', handleClearOutput);\n",
       "    events.on('delete.Cell', handleClearOutput);\n",
       "\n",
       "    /* Handle when a new output is added */\n",
       "    events.on('output_added.OutputArea', handleAddOutput);\n",
       "\n",
       "    /**\n",
       "     * Register the mime type and append_mime function with output_area\n",
       "     */\n",
       "    OutputArea.prototype.register_mime_type(EXEC_MIME_TYPE, append_mime, {\n",
       "      /* Is output safe? */\n",
       "      safe: true,\n",
       "      /* Index of renderer in `output_area.display_order` */\n",
       "      index: 0\n",
       "    });\n",
       "  }\n",
       "\n",
       "  // register the mime type if in Jupyter Notebook environment and previously unregistered\n",
       "  if (root.Jupyter !== undefined) {\n",
       "    var events = require('base/js/events');\n",
       "    var OutputArea = require('notebook/js/outputarea').OutputArea;\n",
       "\n",
       "    if (OutputArea.prototype.mime_types().indexOf(EXEC_MIME_TYPE) == -1) {\n",
       "      register_renderer(events, OutputArea);\n",
       "    }\n",
       "  }\n",
       "\n",
       "  \n",
       "  if (typeof (root._bokeh_timeout) === \"undefined\" || force === true) {\n",
       "    root._bokeh_timeout = Date.now() + 5000;\n",
       "    root._bokeh_failed_load = false;\n",
       "  }\n",
       "\n",
       "  var NB_LOAD_WARNING = {'data': {'text/html':\n",
       "     \"<div style='background-color: #fdd'>\\n\"+\n",
       "     \"<p>\\n\"+\n",
       "     \"BokehJS does not appear to have successfully loaded. If loading BokehJS from CDN, this \\n\"+\n",
       "     \"may be due to a slow or bad network connection. Possible fixes:\\n\"+\n",
       "     \"</p>\\n\"+\n",
       "     \"<ul>\\n\"+\n",
       "     \"<li>re-rerun `output_notebook()` to attempt to load from CDN again, or</li>\\n\"+\n",
       "     \"<li>use INLINE resources instead, as so:</li>\\n\"+\n",
       "     \"</ul>\\n\"+\n",
       "     \"<code>\\n\"+\n",
       "     \"from bokeh.resources import INLINE\\n\"+\n",
       "     \"output_notebook(resources=INLINE)\\n\"+\n",
       "     \"</code>\\n\"+\n",
       "     \"</div>\"}};\n",
       "\n",
       "  function display_loaded() {\n",
       "    var el = document.getElementById(\"f2c7f612-263e-479a-a2bc-c90b26f484cd\");\n",
       "    if (el != null) {\n",
       "      el.textContent = \"BokehJS is loading...\";\n",
       "    }\n",
       "    if (root.Bokeh !== undefined) {\n",
       "      if (el != null) {\n",
       "        el.textContent = \"BokehJS \" + root.Bokeh.version + \" successfully loaded.\";\n",
       "      }\n",
       "    } else if (Date.now() < root._bokeh_timeout) {\n",
       "      setTimeout(display_loaded, 100)\n",
       "    }\n",
       "  }\n",
       "\n",
       "\n",
       "  function run_callbacks() {\n",
       "    try {\n",
       "      root._bokeh_onload_callbacks.forEach(function(callback) { callback() });\n",
       "    }\n",
       "    finally {\n",
       "      delete root._bokeh_onload_callbacks\n",
       "    }\n",
       "    console.info(\"Bokeh: all callbacks have finished\");\n",
       "  }\n",
       "\n",
       "  function load_libs(js_urls, callback) {\n",
       "    root._bokeh_onload_callbacks.push(callback);\n",
       "    if (root._bokeh_is_loading > 0) {\n",
       "      console.log(\"Bokeh: BokehJS is being loaded, scheduling callback at\", now());\n",
       "      return null;\n",
       "    }\n",
       "    if (js_urls == null || js_urls.length === 0) {\n",
       "      run_callbacks();\n",
       "      return null;\n",
       "    }\n",
       "    console.log(\"Bokeh: BokehJS not loaded, scheduling load and callback at\", now());\n",
       "    root._bokeh_is_loading = js_urls.length;\n",
       "    for (var i = 0; i < js_urls.length; i++) {\n",
       "      var url = js_urls[i];\n",
       "      var s = document.createElement('script');\n",
       "      s.src = url;\n",
       "      s.async = false;\n",
       "      s.onreadystatechange = s.onload = function() {\n",
       "        root._bokeh_is_loading--;\n",
       "        if (root._bokeh_is_loading === 0) {\n",
       "          console.log(\"Bokeh: all BokehJS libraries loaded\");\n",
       "          run_callbacks()\n",
       "        }\n",
       "      };\n",
       "      s.onerror = function() {\n",
       "        console.warn(\"failed to load library \" + url);\n",
       "      };\n",
       "      console.log(\"Bokeh: injecting script tag for BokehJS library: \", url);\n",
       "      document.getElementsByTagName(\"head\")[0].appendChild(s);\n",
       "    }\n",
       "  };var element = document.getElementById(\"f2c7f612-263e-479a-a2bc-c90b26f484cd\");\n",
       "  if (element == null) {\n",
       "    console.log(\"Bokeh: ERROR: autoload.js configured with elementid 'f2c7f612-263e-479a-a2bc-c90b26f484cd' but no matching script tag was found. \")\n",
       "    return false;\n",
       "  }\n",
       "\n",
       "  var js_urls = [\"https://cdn.pydata.org/bokeh/release/bokeh-0.12.15.min.js\", \"https://cdn.pydata.org/bokeh/release/bokeh-widgets-0.12.15.min.js\", \"https://cdn.pydata.org/bokeh/release/bokeh-tables-0.12.15.min.js\", \"https://cdn.pydata.org/bokeh/release/bokeh-gl-0.12.15.min.js\"];\n",
       "\n",
       "  var inline_js = [\n",
       "    function(Bokeh) {\n",
       "      Bokeh.set_log_level(\"info\");\n",
       "    },\n",
       "    \n",
       "    function(Bokeh) {\n",
       "      \n",
       "    },\n",
       "    function(Bokeh) {\n",
       "      console.log(\"Bokeh: injecting CSS: https://cdn.pydata.org/bokeh/release/bokeh-0.12.15.min.css\");\n",
       "      Bokeh.embed.inject_css(\"https://cdn.pydata.org/bokeh/release/bokeh-0.12.15.min.css\");\n",
       "      console.log(\"Bokeh: injecting CSS: https://cdn.pydata.org/bokeh/release/bokeh-widgets-0.12.15.min.css\");\n",
       "      Bokeh.embed.inject_css(\"https://cdn.pydata.org/bokeh/release/bokeh-widgets-0.12.15.min.css\");\n",
       "      console.log(\"Bokeh: injecting CSS: https://cdn.pydata.org/bokeh/release/bokeh-tables-0.12.15.min.css\");\n",
       "      Bokeh.embed.inject_css(\"https://cdn.pydata.org/bokeh/release/bokeh-tables-0.12.15.min.css\");\n",
       "    }\n",
       "  ];\n",
       "\n",
       "  function run_inline_js() {\n",
       "    \n",
       "    if ((root.Bokeh !== undefined) || (force === true)) {\n",
       "      for (var i = 0; i < inline_js.length; i++) {\n",
       "        inline_js[i].call(root, root.Bokeh);\n",
       "      }if (force === true) {\n",
       "        display_loaded();\n",
       "      }} else if (Date.now() < root._bokeh_timeout) {\n",
       "      setTimeout(run_inline_js, 100);\n",
       "    } else if (!root._bokeh_failed_load) {\n",
       "      console.log(\"Bokeh: BokehJS failed to load within specified timeout.\");\n",
       "      root._bokeh_failed_load = true;\n",
       "    } else if (force !== true) {\n",
       "      var cell = $(document.getElementById(\"f2c7f612-263e-479a-a2bc-c90b26f484cd\")).parents('.cell').data().cell;\n",
       "      cell.output_area.append_execute_result(NB_LOAD_WARNING)\n",
       "    }\n",
       "\n",
       "  }\n",
       "\n",
       "  if (root._bokeh_is_loading === 0) {\n",
       "    console.log(\"Bokeh: BokehJS loaded, going straight to plotting\");\n",
       "    run_inline_js();\n",
       "  } else {\n",
       "    load_libs(js_urls, function() {\n",
       "      console.log(\"Bokeh: BokehJS plotting callback run at\", now());\n",
       "      run_inline_js();\n",
       "    });\n",
       "  }\n",
       "}(window));"
      ],
      "application/vnd.bokehjs_load.v0+json": "\n(function(root) {\n  function now() {\n    return new Date();\n  }\n\n  var force = true;\n\n  if (typeof (root._bokeh_onload_callbacks) === \"undefined\" || force === true) {\n    root._bokeh_onload_callbacks = [];\n    root._bokeh_is_loading = undefined;\n  }\n\n  \n\n  \n  if (typeof (root._bokeh_timeout) === \"undefined\" || force === true) {\n    root._bokeh_timeout = Date.now() + 5000;\n    root._bokeh_failed_load = false;\n  }\n\n  var NB_LOAD_WARNING = {'data': {'text/html':\n     \"<div style='background-color: #fdd'>\\n\"+\n     \"<p>\\n\"+\n     \"BokehJS does not appear to have successfully loaded. If loading BokehJS from CDN, this \\n\"+\n     \"may be due to a slow or bad network connection. Possible fixes:\\n\"+\n     \"</p>\\n\"+\n     \"<ul>\\n\"+\n     \"<li>re-rerun `output_notebook()` to attempt to load from CDN again, or</li>\\n\"+\n     \"<li>use INLINE resources instead, as so:</li>\\n\"+\n     \"</ul>\\n\"+\n     \"<code>\\n\"+\n     \"from bokeh.resources import INLINE\\n\"+\n     \"output_notebook(resources=INLINE)\\n\"+\n     \"</code>\\n\"+\n     \"</div>\"}};\n\n  function display_loaded() {\n    var el = document.getElementById(\"f2c7f612-263e-479a-a2bc-c90b26f484cd\");\n    if (el != null) {\n      el.textContent = \"BokehJS is loading...\";\n    }\n    if (root.Bokeh !== undefined) {\n      if (el != null) {\n        el.textContent = \"BokehJS \" + root.Bokeh.version + \" successfully loaded.\";\n      }\n    } else if (Date.now() < root._bokeh_timeout) {\n      setTimeout(display_loaded, 100)\n    }\n  }\n\n\n  function run_callbacks() {\n    try {\n      root._bokeh_onload_callbacks.forEach(function(callback) { callback() });\n    }\n    finally {\n      delete root._bokeh_onload_callbacks\n    }\n    console.info(\"Bokeh: all callbacks have finished\");\n  }\n\n  function load_libs(js_urls, callback) {\n    root._bokeh_onload_callbacks.push(callback);\n    if (root._bokeh_is_loading > 0) {\n      console.log(\"Bokeh: BokehJS is being loaded, scheduling callback at\", now());\n      return null;\n    }\n    if (js_urls == null || js_urls.length === 0) {\n      run_callbacks();\n      return null;\n    }\n    console.log(\"Bokeh: BokehJS not loaded, scheduling load and callback at\", now());\n    root._bokeh_is_loading = js_urls.length;\n    for (var i = 0; i < js_urls.length; i++) {\n      var url = js_urls[i];\n      var s = document.createElement('script');\n      s.src = url;\n      s.async = false;\n      s.onreadystatechange = s.onload = function() {\n        root._bokeh_is_loading--;\n        if (root._bokeh_is_loading === 0) {\n          console.log(\"Bokeh: all BokehJS libraries loaded\");\n          run_callbacks()\n        }\n      };\n      s.onerror = function() {\n        console.warn(\"failed to load library \" + url);\n      };\n      console.log(\"Bokeh: injecting script tag for BokehJS library: \", url);\n      document.getElementsByTagName(\"head\")[0].appendChild(s);\n    }\n  };var element = document.getElementById(\"f2c7f612-263e-479a-a2bc-c90b26f484cd\");\n  if (element == null) {\n    console.log(\"Bokeh: ERROR: autoload.js configured with elementid 'f2c7f612-263e-479a-a2bc-c90b26f484cd' but no matching script tag was found. \")\n    return false;\n  }\n\n  var js_urls = [\"https://cdn.pydata.org/bokeh/release/bokeh-0.12.15.min.js\", \"https://cdn.pydata.org/bokeh/release/bokeh-widgets-0.12.15.min.js\", \"https://cdn.pydata.org/bokeh/release/bokeh-tables-0.12.15.min.js\", \"https://cdn.pydata.org/bokeh/release/bokeh-gl-0.12.15.min.js\"];\n\n  var inline_js = [\n    function(Bokeh) {\n      Bokeh.set_log_level(\"info\");\n    },\n    \n    function(Bokeh) {\n      \n    },\n    function(Bokeh) {\n      console.log(\"Bokeh: injecting CSS: https://cdn.pydata.org/bokeh/release/bokeh-0.12.15.min.css\");\n      Bokeh.embed.inject_css(\"https://cdn.pydata.org/bokeh/release/bokeh-0.12.15.min.css\");\n      console.log(\"Bokeh: injecting CSS: https://cdn.pydata.org/bokeh/release/bokeh-widgets-0.12.15.min.css\");\n      Bokeh.embed.inject_css(\"https://cdn.pydata.org/bokeh/release/bokeh-widgets-0.12.15.min.css\");\n      console.log(\"Bokeh: injecting CSS: https://cdn.pydata.org/bokeh/release/bokeh-tables-0.12.15.min.css\");\n      Bokeh.embed.inject_css(\"https://cdn.pydata.org/bokeh/release/bokeh-tables-0.12.15.min.css\");\n    }\n  ];\n\n  function run_inline_js() {\n    \n    if ((root.Bokeh !== undefined) || (force === true)) {\n      for (var i = 0; i < inline_js.length; i++) {\n        inline_js[i].call(root, root.Bokeh);\n      }if (force === true) {\n        display_loaded();\n      }} else if (Date.now() < root._bokeh_timeout) {\n      setTimeout(run_inline_js, 100);\n    } else if (!root._bokeh_failed_load) {\n      console.log(\"Bokeh: BokehJS failed to load within specified timeout.\");\n      root._bokeh_failed_load = true;\n    } else if (force !== true) {\n      var cell = $(document.getElementById(\"f2c7f612-263e-479a-a2bc-c90b26f484cd\")).parents('.cell').data().cell;\n      cell.output_area.append_execute_result(NB_LOAD_WARNING)\n    }\n\n  }\n\n  if (root._bokeh_is_loading === 0) {\n    console.log(\"Bokeh: BokehJS loaded, going straight to plotting\");\n    run_inline_js();\n  } else {\n    load_libs(js_urls, function() {\n      console.log(\"Bokeh: BokehJS plotting callback run at\", now());\n      run_inline_js();\n    });\n  }\n}(window));"
     },
     "metadata": {},
     "output_type": "display_data"
    }
   ],
   "source": [
    "\n",
    "# Standard imports \n",
    "from bokeh.io import output_notebook, show\n",
    "from bokeh.plotting import figure\n",
    "from bokeh.layouts import gridplot\n",
    "from bokeh.models.widgets import Panel, Tabs\n",
    "from bokeh.io import output_file, show\n",
    "from bokeh.plotting import figure\n",
    "from bokeh.models import BoxSelectTool\n",
    "from bokeh.models import HoverTool\n",
    "\n",
    "output_notebook()\n",
    "\n",
    "\n",
    "labelSize = 18\n",
    "titleSize = 22\n",
    "legendSize = 14\n",
    "axisTicksSize = 14\n",
    "\n",
    "lineWidth =1.5"
   ]
  },
  {
   "cell_type": "code",
   "execution_count": 7,
   "metadata": {},
   "outputs": [
    {
     "data": {
      "text/html": [
       "\n",
       "<div class=\"bk-root\">\n",
       "    <div class=\"bk-plotdiv\" id=\"56b4fc71-4020-4f1c-818f-76ae35e9c3d0\"></div>\n",
       "</div>"
      ]
     },
     "metadata": {},
     "output_type": "display_data"
    },
    {
     "data": {
      "application/javascript": [
       "(function(root) {\n",
       "  function embed_document(root) {\n",
       "    \n",
       "  var docs_json = {\"60cae2aa-6e0f-4de2-93a3-cdf0baa559ab\":{\"roots\":{\"references\":[{\"attributes\":{\"overlay\":{\"id\":\"c2d33a39-7065-47f6-be1e-4a1957028186\",\"type\":\"BoxAnnotation\"}},\"id\":\"c548ba08-1cec-4e20-b6a7-cc9867e394cd\",\"type\":\"BoxZoomTool\"},{\"attributes\":{},\"id\":\"0d381084-1aa0-47a5-a40d-aab6162f41d3\",\"type\":\"ResetTool\"},{\"attributes\":{},\"id\":\"0655c110-7656-42ed-aaca-edde9f977f4a\",\"type\":\"BasicTickFormatter\"},{\"attributes\":{\"line_alpha\":0.1,\"line_color\":\"#1f77b4\",\"line_width\":1.5,\"x\":{\"field\":\"x\"},\"y\":{\"field\":\"y\"}},\"id\":\"a76d5908-a301-4e68-9464-1abee16ed9d0\",\"type\":\"Line\"},{\"attributes\":{},\"id\":\"f258d3a5-43d3-416f-ba1a-d7eac1297c20\",\"type\":\"BasicTickFormatter\"},{\"attributes\":{\"label\":{\"value\":\"layer\"},\"renderers\":[{\"id\":\"cd0a474a-c466-46dc-882c-789590055a12\",\"type\":\"GlyphRenderer\"},{\"id\":\"ff6f1f84-80dd-4f1d-8417-f194ebb29a93\",\"type\":\"GlyphRenderer\"},{\"id\":\"f03a0bc2-5eaa-4c6b-9b06-e5802879c89f\",\"type\":\"GlyphRenderer\"}]},\"id\":\"c80b25bf-c8a3-4c0e-b5ce-3648e331012a\",\"type\":\"LegendItem\"},{\"attributes\":{\"click_policy\":\"hide\",\"items\":[{\"id\":\"ca2cf5eb-5fb7-4ebf-b4db-3669074a1afb\",\"type\":\"LegendItem\"},{\"id\":\"c80b25bf-c8a3-4c0e-b5ce-3648e331012a\",\"type\":\"LegendItem\"}],\"label_text_font_size\":{\"value\":\"14px\"},\"location\":\"top_left\",\"plot\":{\"id\":\"cf557367-50fe-4e67-85fe-2887d19aec14\",\"subtype\":\"Figure\",\"type\":\"Plot\"}},\"id\":\"83a44577-fba0-4870-9823-c10756255e4c\",\"type\":\"Legend\"},{\"attributes\":{\"label\":{\"value\":\"Centroids\"},\"renderers\":[{\"id\":\"a1801906-3bbe-4744-a5b3-19183082c998\",\"type\":\"GlyphRenderer\"}]},\"id\":\"ca2cf5eb-5fb7-4ebf-b4db-3669074a1afb\",\"type\":\"LegendItem\"},{\"attributes\":{\"source\":{\"id\":\"4b63fca6-bb65-4c2b-a12d-79aea4b7eaec\",\"type\":\"ColumnDataSource\"}},\"id\":\"0c96d7f8-05f5-4993-b3bf-964deb11a48c\",\"type\":\"CDSView\"},{\"attributes\":{\"align\":\"center\",\"plot\":null,\"text\":\"Control volume centroids\",\"text_font_size\":{\"value\":\"22px\"}},\"id\":\"58ff6ba3-92e3-4b00-89a7-74743477aaeb\",\"type\":\"Title\"},{\"attributes\":{\"callback\":null,\"column_names\":[\"x\",\"y\"],\"data\":{\"x\":[-0.2,0.2],\"y\":[-2,-2]},\"selected\":null,\"selection_policy\":null},\"id\":\"a1615280-49a5-4a55-9d89-18fb0e26fd6d\",\"type\":\"ColumnDataSource\"},{\"attributes\":{\"line_color\":\"red\",\"line_width\":1.5,\"x\":{\"field\":\"x\"},\"y\":{\"field\":\"y\"}},\"id\":\"2241390d-8da2-4a57-8b8c-f6acb01217a2\",\"type\":\"Line\"},{\"attributes\":{\"callback\":null,\"tooltips\":[[\"(x,y)\",\"($x, $y)\"]]},\"id\":\"bdddbde9-df3f-402d-bc3d-98fa6fa6de11\",\"type\":\"HoverTool\"},{\"attributes\":{\"data_source\":{\"id\":\"4b63fca6-bb65-4c2b-a12d-79aea4b7eaec\",\"type\":\"ColumnDataSource\"},\"glyph\":{\"id\":\"9d4b49d4-2100-4781-8dd8-fcfff27200f4\",\"type\":\"Line\"},\"hover_glyph\":null,\"muted_glyph\":null,\"nonselection_glyph\":{\"id\":\"a76d5908-a301-4e68-9464-1abee16ed9d0\",\"type\":\"Line\"},\"selection_glyph\":null,\"view\":{\"id\":\"0c96d7f8-05f5-4993-b3bf-964deb11a48c\",\"type\":\"CDSView\"}},\"id\":\"cd0a474a-c466-46dc-882c-789590055a12\",\"type\":\"GlyphRenderer\"},{\"attributes\":{\"callback\":null,\"column_names\":[\"x\",\"y\"],\"data\":{\"x\":{\"__ndarray__\":\"AAAAAAAAAAAAAAAAAAAAAAAAAAAAAAAAAAAAAAAAAAAAAAAAAAAAAAAAAAAAAAAAAAAAAAAAAAAAAAAAAAAAAAAAAAAAAAAAAAAAAAAAAAAAAAAAAAAAAAAAAAAAAAAAAAAAAAAAAAAAAAAAAAAAAAAAAAAAAAAAAAAAAAAAAAAAAAAAAAAAAAAAAAAAAAAAAAAAAAAAAAAAAAAAAAAAAAAAAAAAAAAAAAAAAAAAAAAAAAAAAAAAAAAAAAAAAAAAAAAAAAAAAAAAAAAAAAAAAAAAAAAAAAAAAAAAAAAAAAAAAAAAAAAAAAAAAAAAAAAAAAAAAAAAAAAAAAAAAAAAAAAAAAAAAAAAAAAAAAAAAAAAAAAAAAAAAAAAAAAAAAAAAAAAAAAAAAAAAAAAAAAAAAAAAAAAAAAAAAAAAAAAAAAAAAAAAAAAAAAAAAAAAAAAAAAAAAAAAAAAAAAAAAAAAAAAAAAAAAAAAAAAAAAAAAAAAAAAAAAAAAAAAAAAAAAAAAAAAAAAAAAAAAAAAAAAAAAAAAAAAAAAAAAAAAAAAAAAAAAAAAAAAAAAAAAAAAAAAAAAAAAAAAAAAAAAAAAAAAAAAAAAAAAAAAAAAAAAAAAAAAAAAAAAAAAAAAAAAAAAAAAAAAAAAAAAAAAAAAAAAAAAAAAAAAAAAAAAAAAAAAAAAAAAAAAAAAAAAAAAAAAAAAAAAAAAAAAAAAAAAAAAAAAAAAAAAAAAAAAAAAAAAAAAAAAAAAAAAAAAAAAAAAAAAAAAAAAAAAAAAAAAAAAAAAAAAAAAAAAAAAAAAAAAAAAAAAAAAAAAAAAAAAAAAAAAAAAAAAAAAAAAAAAAAAAAAAAAAAAAAAAAAAAAAAAAAAAAAAAAAAAAAAAAAAAAAAAAAAAAAAAAAAAAAAAAAAAAAAAAAAAAAAAAAAAAAAAAAAAAAAAAAAAAAAAAAAAAAAAAAAAAAAAAAAAAAAAAAAAAAAAAAAAAAAAAAAAAAAAAAAAAAAAAAAAAAAAAAAAAAAAAAAAAAAAAAAAAAAAAAAAAAAAAAAAAAAAAAAAAAAAAAAAAAAAAAAAAAAAAAAAAAAAAAAAAAAAAAAAAAAAAAAAAAAAAAAAAAAAAAAAAAAAAAAAAAAAAAAAAAAAAAAAAAAAAAAAAAAAAAAAAAAAAAAAAAAAAAAAAAAAAAAAAAAAAAAAAAAAAAAAAAAAAAAAAAAAAAAAAAAAAAAAAAAAAAAAAAAAAAAAAAAAAAAAAAAAAAAAAAAAAAAAAAAAAAAAAAAAAAAAAAAAAAAAAAAAAAAAAAAAAAAAAAAAAAAAAAAAAAAAAAAAAAAAAAAAAAAAAAAAAAAAAAAAAAAAAAAAAAAAAAAAAAAAAAAAAAAAAAAAAAAAAAAAAAAAAAAAAAAAAAAAAAAAAAAAAAAAAAAAAAAAAAAAAAAAAAAAAAAAAAAAAAAAAAAAAAAAAAAAAAAAAAAAAAAAAAAAAAAAAAAAAAAAAAAAAAAAAAAAAAAAAAAAAAAAAAAAAAAAAAAAAAAAAAAAAAAAAAAAAAAAAAAAAAAAAAAAAAAAAAAAAAAAAAAAAAAAAAAAAAAAAAAAAAAAAAAAAAAAAAAAAAAAAAAAAAAAAAAAAAAAAAAAAAAAAAAAAAAAAAAAAAAAAAAAAAAAAAAAAAAAAAAAAAAAAAAAAAAAAAAAAAAAAAAAAAAAAAAAAAAAAAAAAAAAAAAAAAAAAAAAAAAAAAAAAAAAAAAAAAAAAAAAAAAAAAAAAAAAAAAAAAAAAAAAAAAAAAAAAAAAAAAAAAAAAAAAAAAAAAAAAAAAAAAAAAAAAAAAAAAAAAAAAAAAAAAAAAAAAAAAAAAAAAAAAAAAAAAAAAAAAAAAAAAAAAAAAAAAAAAAAAAAAAAAAAAAAAAAAAAAAAAAAAAAAAAAAAAAAAAAAAAAAAAAAAAAAAAAAAAAAAAAAAAAAAAAAAAAAAAAAAAAAAAAAAAAAAAAAAAAAAAAAAAAAAAAAAAAAAAAAAAAAAAAAAAAAAAAAAAAAAAAAAAAAAAAAAAAAAAAAAAAAAAAAAAAAAAAAAAAAAAAAAAAAAAAAAAAAAAAAAAAAAAAAAAAAAAAAAAAAAAAAAAAAAAAAAAAAAAAAAAAAAAAAAAAAAAAAAAAAAAAAAAAAAAAAAAAAAAAAAAAAAAAAAAAAAAAAAAAAAAAAAAAAAAAAAAAAAAAAAAAAAAAAAAAAAAAAAAAAAAAAAAAAAAAAAAAAAAAAAAAAAAAAAAAAAAAAAAAAAAAAAAAAAAAAAAAAAAAAAAAAAAAAAAAAAAAAAAAAAAAAAAAAAAAAAAAAAAAAAAAAAAAAAAAAAAAAAAAAAAAAAAAAAAAAAAAAAAAAAAAAAAAAAAAAAAAAAAAAAAAAAAAAAAAAAAAAAAAAAAAAAAAAAAAAAAAAAAAAAAAAAAAAAAAAAAAAAAAAAAAAAAAAAAAAAAAAAAAAAAAAAAAAAAAAAAAAAAAAAAAAAAAAAAAAAAAAAAAAAAAAAAAAAAAAAAAAAAAAAAAAAAAAAAAAAAAAAAAAAAAAAAAAAAAAAAAAAAAAAAAAAAAAAAAAAAAAAAAAAAAAAAAAAAAAAAAAAAAAAAAAAAAAAAAAAAAAAAAAAAAAAAAAAAAAAAAAAAAAAAAAAAAAAAAAAAAAAAAAAAAAAAAAAAAAAAAAAAAAAAAAAAAAAAAAAAAAAAAAAAAAAAAAAAAAAAAAAAAAAAAAAAAAAAAAAAAAAAAAAAAAAAAAAAAAAAAAAAAAAAAAAAAAAAAAAAAAAAAAAAAAAAAAAAAAAAAAAAAAAAAAAAAAAAAAAAAAAAAAAAAAAAAAAAAAAAAAAAAAAAAAAAAAAAAAAAAAAAAAAAAAAAAAAAAAAAAAAAAAAAAAAAAAAAAAAAAAAAAAAAAAAAAAAAAAAAAAAAAAAAAAAAAAAAAAAAAAAAAAAAAAAAAAAAAAAAAAAAAAAAAAAAAAAAAAAAAAAAAAAAAAAAAAAAAAAAAAAAAAAAAAAAAAAAAAAAAAAAAAAAAAAAAAAAAAAAAAAAAAAAAAAAAAAAAAAAAAAAAAAAAAAAAAAAAAAAAAAAAAAAAAAAAAAAAAAAAAAAAAAAAAAAAAAAAAAAAAAAAAAAAAAAAAAAAAAAAAAAAAAAAAAAAAAAAAAAAAAAAAAAAAAAAAAAAAAAAAAAAAAAAAAAAAAAAAAAAAAAAAAAAAAAAAAAAAAAAAAAAAAAAAAAAAAAAAAAAAAAAAAAAAAAAAAAAAAAAAAAAAAAAAAAAAAAAAAAAAAAAAAAAAAAAAAAAAAAAAAAAAAAAAAAAAAAAAAAAAAAAAAAAAAAAAAAAAAAAAAAAAAAAAAAAAAAAAAAAAAAAAAAAAAAAAAAAAAAAAAAAAAAAAAAAAAAAAAAAAAAAAAAAAAAAAAAAAAAAA\",\"dtype\":\"float64\",\"shape\":[321]},\"y\":{\"__ndarray__\":\"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\",\"dtype\":\"float64\",\"shape\":[321]}},\"selected\":null,\"selection_policy\":null},\"id\":\"5315fc59-f02b-4e4d-821d-96d1d0141e3b\",\"type\":\"ColumnDataSource\"},{\"attributes\":{\"line_color\":\"red\",\"line_width\":1.5,\"x\":{\"field\":\"x\"},\"y\":{\"field\":\"y\"}},\"id\":\"f058e16c-ec25-4a4d-a61c-670aa6383f38\",\"type\":\"Line\"},{\"attributes\":{\"below\":[{\"id\":\"3ed99452-a8af-470b-a767-91f4ff3a3e47\",\"type\":\"LinearAxis\"}],\"left\":[{\"id\":\"d455b031-4495-4b6d-b3ed-546968372cff\",\"type\":\"LinearAxis\"}],\"renderers\":[{\"id\":\"3ed99452-a8af-470b-a767-91f4ff3a3e47\",\"type\":\"LinearAxis\"},{\"id\":\"d839224a-007a-41bc-8cc4-8bac65984a06\",\"type\":\"Grid\"},{\"id\":\"d455b031-4495-4b6d-b3ed-546968372cff\",\"type\":\"LinearAxis\"},{\"id\":\"01d6682a-f1f6-4741-8f8c-509b3559fcee\",\"type\":\"Grid\"},{\"id\":\"c2d33a39-7065-47f6-be1e-4a1957028186\",\"type\":\"BoxAnnotation\"},{\"id\":\"83a44577-fba0-4870-9823-c10756255e4c\",\"type\":\"Legend\"},{\"id\":\"a1801906-3bbe-4744-a5b3-19183082c998\",\"type\":\"GlyphRenderer\"},{\"id\":\"cd0a474a-c466-46dc-882c-789590055a12\",\"type\":\"GlyphRenderer\"},{\"id\":\"ff6f1f84-80dd-4f1d-8417-f194ebb29a93\",\"type\":\"GlyphRenderer\"},{\"id\":\"f03a0bc2-5eaa-4c6b-9b06-e5802879c89f\",\"type\":\"GlyphRenderer\"}],\"title\":{\"id\":\"58ff6ba3-92e3-4b00-89a7-74743477aaeb\",\"type\":\"Title\"},\"toolbar\":{\"id\":\"f9425d7d-038b-40b1-aba7-e2c5bc634a10\",\"type\":\"Toolbar\"},\"x_range\":{\"id\":\"3b73c6a0-5483-43a7-92d2-428dd18be265\",\"type\":\"Range1d\"},\"x_scale\":{\"id\":\"0b7e3904-c045-479c-a7e6-cc126fdda798\",\"type\":\"LinearScale\"},\"y_range\":{\"id\":\"e4e55c72-1677-4c64-ae9c-dfb9fcf8af09\",\"type\":\"DataRange1d\"},\"y_scale\":{\"id\":\"0c988eb8-fed3-469a-b9d0-563fd6cccc05\",\"type\":\"LinearScale\"}},\"id\":\"cf557367-50fe-4e67-85fe-2887d19aec14\",\"subtype\":\"Figure\",\"type\":\"Plot\"},{\"attributes\":{\"data_source\":{\"id\":\"a1615280-49a5-4a55-9d89-18fb0e26fd6d\",\"type\":\"ColumnDataSource\"},\"glyph\":{\"id\":\"f058e16c-ec25-4a4d-a61c-670aa6383f38\",\"type\":\"Line\"},\"hover_glyph\":null,\"muted_glyph\":null,\"nonselection_glyph\":{\"id\":\"468eb77d-a4ea-4af7-a975-adc6cefc72f7\",\"type\":\"Line\"},\"selection_glyph\":null,\"view\":{\"id\":\"6016f735-8c17-4099-865a-98d33c662541\",\"type\":\"CDSView\"}},\"id\":\"ff6f1f84-80dd-4f1d-8417-f194ebb29a93\",\"type\":\"GlyphRenderer\"},{\"attributes\":{\"callback\":null,\"end\":0.7,\"start\":-0.7},\"id\":\"3b73c6a0-5483-43a7-92d2-428dd18be265\",\"type\":\"Range1d\"},{\"attributes\":{\"data_source\":{\"id\":\"34a14386-510f-4177-9b6e-051f0b7bc1d2\",\"type\":\"ColumnDataSource\"},\"glyph\":{\"id\":\"2241390d-8da2-4a57-8b8c-f6acb01217a2\",\"type\":\"Line\"},\"hover_glyph\":null,\"muted_glyph\":null,\"nonselection_glyph\":{\"id\":\"1159061b-d52f-4912-bf15-012273f17557\",\"type\":\"Line\"},\"selection_glyph\":null,\"view\":{\"id\":\"7a78c8fd-f365-474f-bb28-22e55bd581b7\",\"type\":\"CDSView\"}},\"id\":\"f03a0bc2-5eaa-4c6b-9b06-e5802879c89f\",\"type\":\"GlyphRenderer\"},{\"attributes\":{\"source\":{\"id\":\"5315fc59-f02b-4e4d-821d-96d1d0141e3b\",\"type\":\"ColumnDataSource\"}},\"id\":\"f45bbd69-a74d-471f-93ac-1bec10b028da\",\"type\":\"CDSView\"},{\"attributes\":{\"callback\":null,\"column_names\":[\"x\",\"y\"],\"data\":{\"x\":[-0.2,0.2],\"y\":[0,0]},\"selected\":null,\"selection_policy\":null},\"id\":\"4b63fca6-bb65-4c2b-a12d-79aea4b7eaec\",\"type\":\"ColumnDataSource\"},{\"attributes\":{\"source\":{\"id\":\"a1615280-49a5-4a55-9d89-18fb0e26fd6d\",\"type\":\"ColumnDataSource\"}},\"id\":\"6016f735-8c17-4099-865a-98d33c662541\",\"type\":\"CDSView\"},{\"attributes\":{\"callback\":null},\"id\":\"e4e55c72-1677-4c64-ae9c-dfb9fcf8af09\",\"type\":\"DataRange1d\"},{\"attributes\":{},\"id\":\"0b7e3904-c045-479c-a7e6-cc126fdda798\",\"type\":\"LinearScale\"},{\"attributes\":{\"line_alpha\":0.1,\"line_color\":\"#1f77b4\",\"line_width\":1.5,\"x\":{\"field\":\"x\"},\"y\":{\"field\":\"y\"}},\"id\":\"468eb77d-a4ea-4af7-a975-adc6cefc72f7\",\"type\":\"Line\"},{\"attributes\":{\"active_drag\":\"auto\",\"active_inspect\":\"auto\",\"active_scroll\":\"auto\",\"active_tap\":\"auto\",\"tools\":[{\"id\":\"bdddbde9-df3f-402d-bc3d-98fa6fa6de11\",\"type\":\"HoverTool\"},{\"id\":\"c3a5ec65-8814-4b34-98ff-fae17ad989a6\",\"type\":\"PanTool\"},{\"id\":\"fec2839b-f98c-4984-b92e-8ce0cfaaf138\",\"type\":\"WheelZoomTool\"},{\"id\":\"c548ba08-1cec-4e20-b6a7-cc9867e394cd\",\"type\":\"BoxZoomTool\"},{\"id\":\"0d381084-1aa0-47a5-a40d-aab6162f41d3\",\"type\":\"ResetTool\"}]},\"id\":\"f9425d7d-038b-40b1-aba7-e2c5bc634a10\",\"type\":\"Toolbar\"},{\"attributes\":{\"line_alpha\":0.1,\"line_color\":\"#1f77b4\",\"line_width\":1.5,\"x\":{\"field\":\"x\"},\"y\":{\"field\":\"y\"}},\"id\":\"1159061b-d52f-4912-bf15-012273f17557\",\"type\":\"Line\"},{\"attributes\":{},\"id\":\"0c988eb8-fed3-469a-b9d0-563fd6cccc05\",\"type\":\"LinearScale\"},{\"attributes\":{\"source\":{\"id\":\"34a14386-510f-4177-9b6e-051f0b7bc1d2\",\"type\":\"ColumnDataSource\"}},\"id\":\"7a78c8fd-f365-474f-bb28-22e55bd581b7\",\"type\":\"CDSView\"},{\"attributes\":{\"callback\":null,\"column_names\":[\"x\",\"y\"],\"data\":{\"x\":[-0.2,0.2],\"y\":[-2,-2]},\"selected\":null,\"selection_policy\":null},\"id\":\"34a14386-510f-4177-9b6e-051f0b7bc1d2\",\"type\":\"ColumnDataSource\"},{\"attributes\":{\"formatter\":{\"id\":\"f258d3a5-43d3-416f-ba1a-d7eac1297c20\",\"type\":\"BasicTickFormatter\"},\"plot\":{\"id\":\"cf557367-50fe-4e67-85fe-2887d19aec14\",\"subtype\":\"Figure\",\"type\":\"Plot\"},\"ticker\":{\"id\":\"1369408b-9a93-4917-8fcb-2ccfc930617c\",\"type\":\"BasicTicker\"}},\"id\":\"3ed99452-a8af-470b-a767-91f4ff3a3e47\",\"type\":\"LinearAxis\"},{\"attributes\":{},\"id\":\"1369408b-9a93-4917-8fcb-2ccfc930617c\",\"type\":\"BasicTicker\"},{\"attributes\":{\"fill_alpha\":{\"value\":0.1},\"fill_color\":{\"value\":\"#1f77b4\"},\"line_alpha\":{\"value\":0.1},\"line_color\":{\"value\":\"#1f77b4\"},\"x\":{\"field\":\"x\"},\"y\":{\"field\":\"y\"}},\"id\":\"3a1b677c-72e1-42a3-b80b-4482742c208c\",\"type\":\"Circle\"},{\"attributes\":{\"plot\":{\"id\":\"cf557367-50fe-4e67-85fe-2887d19aec14\",\"subtype\":\"Figure\",\"type\":\"Plot\"},\"ticker\":{\"id\":\"1369408b-9a93-4917-8fcb-2ccfc930617c\",\"type\":\"BasicTicker\"}},\"id\":\"d839224a-007a-41bc-8cc4-8bac65984a06\",\"type\":\"Grid\"},{\"attributes\":{\"axis_label\":\"\\u03b7 [m]\",\"axis_label_text_font_size\":{\"value\":\"18px\"},\"formatter\":{\"id\":\"0655c110-7656-42ed-aaca-edde9f977f4a\",\"type\":\"BasicTickFormatter\"},\"plot\":{\"id\":\"cf557367-50fe-4e67-85fe-2887d19aec14\",\"subtype\":\"Figure\",\"type\":\"Plot\"},\"ticker\":{\"id\":\"91299098-8a65-40a2-b5cb-68b8c14c256b\",\"type\":\"BasicTicker\"}},\"id\":\"d455b031-4495-4b6d-b3ed-546968372cff\",\"type\":\"LinearAxis\"},{\"attributes\":{},\"id\":\"91299098-8a65-40a2-b5cb-68b8c14c256b\",\"type\":\"BasicTicker\"},{\"attributes\":{\"dimension\":1,\"plot\":{\"id\":\"cf557367-50fe-4e67-85fe-2887d19aec14\",\"subtype\":\"Figure\",\"type\":\"Plot\"},\"ticker\":{\"id\":\"91299098-8a65-40a2-b5cb-68b8c14c256b\",\"type\":\"BasicTicker\"}},\"id\":\"01d6682a-f1f6-4741-8f8c-509b3559fcee\",\"type\":\"Grid\"},{\"attributes\":{\"fill_color\":{\"value\":\"blue\"},\"line_color\":{\"value\":\"blue\"},\"x\":{\"field\":\"x\"},\"y\":{\"field\":\"y\"}},\"id\":\"24966abb-a6a2-4b30-a9de-a8944d2cd60d\",\"type\":\"Circle\"},{\"attributes\":{\"data_source\":{\"id\":\"5315fc59-f02b-4e4d-821d-96d1d0141e3b\",\"type\":\"ColumnDataSource\"},\"glyph\":{\"id\":\"24966abb-a6a2-4b30-a9de-a8944d2cd60d\",\"type\":\"Circle\"},\"hover_glyph\":null,\"muted_glyph\":null,\"nonselection_glyph\":{\"id\":\"3a1b677c-72e1-42a3-b80b-4482742c208c\",\"type\":\"Circle\"},\"selection_glyph\":null,\"view\":{\"id\":\"f45bbd69-a74d-471f-93ac-1bec10b028da\",\"type\":\"CDSView\"}},\"id\":\"a1801906-3bbe-4744-a5b3-19183082c998\",\"type\":\"GlyphRenderer\"},{\"attributes\":{\"line_color\":\"red\",\"line_width\":1.5,\"x\":{\"field\":\"x\"},\"y\":{\"field\":\"y\"}},\"id\":\"9d4b49d4-2100-4781-8dd8-fcfff27200f4\",\"type\":\"Line\"},{\"attributes\":{\"bottom_units\":\"screen\",\"fill_alpha\":{\"value\":0.5},\"fill_color\":{\"value\":\"lightgrey\"},\"left_units\":\"screen\",\"level\":\"overlay\",\"line_alpha\":{\"value\":1.0},\"line_color\":{\"value\":\"black\"},\"line_dash\":[4,4],\"line_width\":{\"value\":2},\"plot\":null,\"render_mode\":\"css\",\"right_units\":\"screen\",\"top_units\":\"screen\"},\"id\":\"c2d33a39-7065-47f6-be1e-4a1957028186\",\"type\":\"BoxAnnotation\"},{\"attributes\":{},\"id\":\"c3a5ec65-8814-4b34-98ff-fae17ad989a6\",\"type\":\"PanTool\"},{\"attributes\":{},\"id\":\"fec2839b-f98c-4984-b92e-8ce0cfaaf138\",\"type\":\"WheelZoomTool\"}],\"root_ids\":[\"cf557367-50fe-4e67-85fe-2887d19aec14\"]},\"title\":\"Bokeh Application\",\"version\":\"0.12.15\"}};\n",
       "  var render_items = [{\"docid\":\"60cae2aa-6e0f-4de2-93a3-cdf0baa559ab\",\"elementid\":\"56b4fc71-4020-4f1c-818f-76ae35e9c3d0\",\"modelid\":\"cf557367-50fe-4e67-85fe-2887d19aec14\"}];\n",
       "  root.Bokeh.embed.embed_items_notebook(docs_json, render_items);\n",
       "\n",
       "  }\n",
       "  if (root.Bokeh !== undefined) {\n",
       "    embed_document(root);\n",
       "  } else {\n",
       "    var attempts = 0;\n",
       "    var timer = setInterval(function(root) {\n",
       "      if (root.Bokeh !== undefined) {\n",
       "        embed_document(root);\n",
       "        clearInterval(timer);\n",
       "      }\n",
       "      attempts++;\n",
       "      if (attempts > 100) {\n",
       "        console.log(\"Bokeh: ERROR: Unable to run BokehJS code because BokehJS library is missing\")\n",
       "        clearInterval(timer);\n",
       "      }\n",
       "    }, 10, root)\n",
       "  }\n",
       "})(window);"
      ],
      "application/vnd.bokehjs_exec.v0+json": ""
     },
     "metadata": {
      "application/vnd.bokehjs_exec.v0+json": {
       "id": "cf557367-50fe-4e67-85fe-2887d19aec14"
      }
     },
     "output_type": "display_data"
    }
   ],
   "source": [
    "x=np.zeros(np.size(z))\n",
    "\n",
    "hover = HoverTool(tooltips=[\n",
    "    (\"(x,y)\", \"($x, $y)\"),\n",
    "])\n",
    "\n",
    "p1 = figure(plot_width=600, plot_height=600,tools=['pan,wheel_zoom,box_zoom,reset',hover],\n",
    "           title=\"Mouse over the dots\",x_range=(-0.7, 0.7))\n",
    "p1.scatter(x,eta, color=\"blue\", marker='circle',legend='Centroids')\n",
    "\n",
    "for i in range(0,np.size(data.index)):\n",
    "    if data['Type'][i] == 'L':\n",
    "        c = 'red'\n",
    "        l = 'layer'\n",
    "    elif data['Type'][i] == 'M':\n",
    "        c = 'green'\n",
    "        l = 'meas. point'\n",
    "        \n",
    "    p1.line([-0.2,0.2], [data['eta'][i],data['eta'][i]], color=c,line_width=lineWidth,legend=l)\n",
    "p1.line([-0.2,0.2], [data['eta'][data['eta'].size-1],data['eta'][data['eta'].size-1]], color=\"red\",line_width=lineWidth,legend='layer')\n",
    "\n",
    "p1.yaxis.axis_label = '\\u03b7 [m]'\n",
    "p1.yaxis.axis_label_text_font_size = str(labelSize) + \"px\"\n",
    "p1.title.text = 'Control volume centroids'\n",
    "p1.title.align = \"center\"\n",
    "p1.title.text_font_size = str(titleSize) + \"px\"\n",
    "\n",
    "p1.legend.location = \"top_left\"\n",
    "p1.legend.label_text_font_size = str(legendSize) + \"px\"\n",
    "p1.legend.click_policy=\"hide\"\n",
    "\n",
    "show(p1)"
   ]
  },
  {
   "cell_type": "code",
   "execution_count": 8,
   "metadata": {},
   "outputs": [
    {
     "data": {
      "text/html": [
       "\n",
       "<div class=\"bk-root\">\n",
       "    <div class=\"bk-plotdiv\" id=\"f9bf3b75-13c2-46df-ad3f-7112b92fc76d\"></div>\n",
       "</div>"
      ]
     },
     "metadata": {},
     "output_type": "display_data"
    },
    {
     "data": {
      "application/javascript": [
       "(function(root) {\n",
       "  function embed_document(root) {\n",
       "    \n",
       "  var docs_json = {\"3c477c4d-aea5-4052-bfff-ec10da6ec4a5\":{\"roots\":{\"references\":[{\"attributes\":{},\"id\":\"734556bb-c703-4329-9842-16f3929e4376\",\"type\":\"BasicTicker\"},{\"attributes\":{\"source\":{\"id\":\"89174f68-1720-4183-b6e8-f00d09b10c1d\",\"type\":\"ColumnDataSource\"}},\"id\":\"d0930c6f-8aa4-41e6-b838-f56b7767d693\",\"type\":\"CDSView\"},{\"attributes\":{},\"id\":\"70da5e34-3cdc-4ba6-8963-d2f03344f6d1\",\"type\":\"LinearScale\"},{\"attributes\":{\"axis_label\":\"\\u03b7 [m]\",\"axis_label_text_font_size\":{\"value\":\"18px\"},\"formatter\":{\"id\":\"980e65b4-1cc6-42f0-9696-f6646a54e666\",\"type\":\"BasicTickFormatter\"},\"plot\":{\"id\":\"5e8e5496-9847-4377-af12-e0311e6e2b53\",\"subtype\":\"Figure\",\"type\":\"Plot\"},\"ticker\":{\"id\":\"7df0002c-be02-4f5e-b1a3-691b539569d5\",\"type\":\"BasicTicker\"}},\"id\":\"e09efcbb-eb4b-40e3-be14-bd16fac167d4\",\"type\":\"LinearAxis\"},{\"attributes\":{},\"id\":\"980e65b4-1cc6-42f0-9696-f6646a54e666\",\"type\":\"BasicTickFormatter\"},{\"attributes\":{\"plot\":{\"id\":\"5e8e5496-9847-4377-af12-e0311e6e2b53\",\"subtype\":\"Figure\",\"type\":\"Plot\"},\"ticker\":{\"id\":\"734556bb-c703-4329-9842-16f3929e4376\",\"type\":\"BasicTicker\"}},\"id\":\"6320ae74-90a3-475f-8a64-af606bf80030\",\"type\":\"Grid\"},{\"attributes\":{\"click_policy\":\"hide\",\"items\":[{\"id\":\"87375bc3-530c-48b5-82a9-6060a91e0b31\",\"type\":\"LegendItem\"},{\"id\":\"54933b9b-eb6d-40a3-81e7-b4c22f4cf339\",\"type\":\"LegendItem\"}],\"label_text_font_size\":{\"value\":\"14px\"},\"location\":\"top_left\",\"plot\":{\"id\":\"5e8e5496-9847-4377-af12-e0311e6e2b53\",\"subtype\":\"Figure\",\"type\":\"Plot\"}},\"id\":\"1ffdf595-52b6-46ea-b12a-07d931b85fe3\",\"type\":\"Legend\"},{\"attributes\":{\"label\":{\"value\":\"CV interface\"},\"renderers\":[{\"id\":\"b42bc32d-a25e-4d6c-85e3-9978a1a3028c\",\"type\":\"GlyphRenderer\"}]},\"id\":\"87375bc3-530c-48b5-82a9-6060a91e0b31\",\"type\":\"LegendItem\"},{\"attributes\":{},\"id\":\"7df0002c-be02-4f5e-b1a3-691b539569d5\",\"type\":\"BasicTicker\"},{\"attributes\":{\"dimension\":1,\"plot\":{\"id\":\"5e8e5496-9847-4377-af12-e0311e6e2b53\",\"subtype\":\"Figure\",\"type\":\"Plot\"},\"ticker\":{\"id\":\"7df0002c-be02-4f5e-b1a3-691b539569d5\",\"type\":\"BasicTicker\"}},\"id\":\"a8e59df6-72d9-4ec6-b3e6-64cce1aed7a2\",\"type\":\"Grid\"},{\"attributes\":{\"formatter\":{\"id\":\"534c06a6-1cc1-4a56-a7a4-12567067efb7\",\"type\":\"BasicTickFormatter\"},\"plot\":{\"id\":\"5e8e5496-9847-4377-af12-e0311e6e2b53\",\"subtype\":\"Figure\",\"type\":\"Plot\"},\"ticker\":{\"id\":\"734556bb-c703-4329-9842-16f3929e4376\",\"type\":\"BasicTicker\"}},\"id\":\"153b1e74-4763-4879-ab5c-3d2673e6bbc7\",\"type\":\"LinearAxis\"},{\"attributes\":{\"fill_color\":{\"value\":\"blue\"},\"line_color\":{\"value\":\"blue\"},\"x\":{\"field\":\"x\"},\"y\":{\"field\":\"y\"}},\"id\":\"a9b58035-d3ed-492d-8989-9197b0806572\",\"type\":\"Cross\"},{\"attributes\":{\"bottom_units\":\"screen\",\"fill_alpha\":{\"value\":0.5},\"fill_color\":{\"value\":\"lightgrey\"},\"left_units\":\"screen\",\"level\":\"overlay\",\"line_alpha\":{\"value\":1.0},\"line_color\":{\"value\":\"black\"},\"line_dash\":[4,4],\"line_width\":{\"value\":2},\"plot\":null,\"render_mode\":\"css\",\"right_units\":\"screen\",\"top_units\":\"screen\"},\"id\":\"183ec4a0-7325-4361-ae7d-c9abbfe09f99\",\"type\":\"BoxAnnotation\"},{\"attributes\":{},\"id\":\"141c9956-b995-4d66-8302-2954ede41769\",\"type\":\"PanTool\"},{\"attributes\":{\"line_alpha\":0.1,\"line_color\":\"#1f77b4\",\"line_width\":1.5,\"x\":{\"field\":\"x\"},\"y\":{\"field\":\"y\"}},\"id\":\"e1fbe805-c3f5-41d6-93b1-86eb2327a42b\",\"type\":\"Line\"},{\"attributes\":{},\"id\":\"729bddfb-ec68-4d0c-ab23-57d5819bd0e4\",\"type\":\"WheelZoomTool\"},{\"attributes\":{\"overlay\":{\"id\":\"183ec4a0-7325-4361-ae7d-c9abbfe09f99\",\"type\":\"BoxAnnotation\"}},\"id\":\"5ef0ed55-b7d7-459a-a2d8-81015afc6896\",\"type\":\"BoxZoomTool\"},{\"attributes\":{},\"id\":\"0bb9e62f-4c5c-4d95-be4d-99dbd3aebeb3\",\"type\":\"ResetTool\"},{\"attributes\":{\"fill_alpha\":{\"value\":0.1},\"fill_color\":{\"value\":\"#1f77b4\"},\"line_alpha\":{\"value\":0.1},\"line_color\":{\"value\":\"#1f77b4\"},\"x\":{\"field\":\"x\"},\"y\":{\"field\":\"y\"}},\"id\":\"ccd07522-1e4e-413e-803d-6ddac4479239\",\"type\":\"Cross\"},{\"attributes\":{\"data_source\":{\"id\":\"79eae5e1-6853-4c3b-aa06-cc73cea4cc16\",\"type\":\"ColumnDataSource\"},\"glyph\":{\"id\":\"a9b58035-d3ed-492d-8989-9197b0806572\",\"type\":\"Cross\"},\"hover_glyph\":null,\"muted_glyph\":null,\"nonselection_glyph\":{\"id\":\"ccd07522-1e4e-413e-803d-6ddac4479239\",\"type\":\"Cross\"},\"selection_glyph\":null,\"view\":{\"id\":\"80584021-818a-44b0-9f82-dc071c5b2d2b\",\"type\":\"CDSView\"}},\"id\":\"b42bc32d-a25e-4d6c-85e3-9978a1a3028c\",\"type\":\"GlyphRenderer\"},{\"attributes\":{\"source\":{\"id\":\"79eae5e1-6853-4c3b-aa06-cc73cea4cc16\",\"type\":\"ColumnDataSource\"}},\"id\":\"80584021-818a-44b0-9f82-dc071c5b2d2b\",\"type\":\"CDSView\"},{\"attributes\":{},\"id\":\"534c06a6-1cc1-4a56-a7a4-12567067efb7\",\"type\":\"BasicTickFormatter\"},{\"attributes\":{\"callback\":null,\"column_names\":[\"x\",\"y\"],\"data\":{\"x\":[-0.2,0.2],\"y\":[0,0]},\"selected\":null,\"selection_policy\":null},\"id\":\"67a0885d-9cfb-43fe-ada2-772db16a66bd\",\"type\":\"ColumnDataSource\"},{\"attributes\":{\"callback\":null,\"column_names\":[\"x\",\"y\"],\"data\":{\"x\":[-0.2,0.2],\"y\":[-2,-2]},\"selected\":null,\"selection_policy\":null},\"id\":\"5657805c-fc20-4872-97ee-ec6a72735535\",\"type\":\"ColumnDataSource\"},{\"attributes\":{\"source\":{\"id\":\"67a0885d-9cfb-43fe-ada2-772db16a66bd\",\"type\":\"ColumnDataSource\"}},\"id\":\"5c50daf8-90b9-403e-a0c2-d56c654ef6bf\",\"type\":\"CDSView\"},{\"attributes\":{\"line_color\":\"red\",\"line_width\":1.5,\"x\":{\"field\":\"x\"},\"y\":{\"field\":\"y\"}},\"id\":\"4d25a93f-af72-4399-947a-02479775496d\",\"type\":\"Line\"},{\"attributes\":{\"line_alpha\":0.1,\"line_color\":\"#1f77b4\",\"line_width\":1.5,\"x\":{\"field\":\"x\"},\"y\":{\"field\":\"y\"}},\"id\":\"c8cbedd6-882f-40a9-9e45-110d883af2e1\",\"type\":\"Line\"},{\"attributes\":{\"align\":\"center\",\"plot\":null,\"text\":\"Control volume intefaces\",\"text_font_size\":{\"value\":\"22px\"}},\"id\":\"6ce217b4-91b8-42ca-9f9b-87381932b916\",\"type\":\"Title\"},{\"attributes\":{\"data_source\":{\"id\":\"67a0885d-9cfb-43fe-ada2-772db16a66bd\",\"type\":\"ColumnDataSource\"},\"glyph\":{\"id\":\"4d25a93f-af72-4399-947a-02479775496d\",\"type\":\"Line\"},\"hover_glyph\":null,\"muted_glyph\":null,\"nonselection_glyph\":{\"id\":\"c8cbedd6-882f-40a9-9e45-110d883af2e1\",\"type\":\"Line\"},\"selection_glyph\":null,\"view\":{\"id\":\"5c50daf8-90b9-403e-a0c2-d56c654ef6bf\",\"type\":\"CDSView\"}},\"id\":\"3b2b05ec-5b0c-4740-bb63-a5d44d8a9939\",\"type\":\"GlyphRenderer\"},{\"attributes\":{\"callback\":null,\"column_names\":[\"x\",\"y\"],\"data\":{\"x\":[-0.2,0.2],\"y\":[-2,-2]},\"selected\":null,\"selection_policy\":null},\"id\":\"89174f68-1720-4183-b6e8-f00d09b10c1d\",\"type\":\"ColumnDataSource\"},{\"attributes\":{\"label\":{\"value\":\"layer\"},\"renderers\":[{\"id\":\"3b2b05ec-5b0c-4740-bb63-a5d44d8a9939\",\"type\":\"GlyphRenderer\"},{\"id\":\"407ee701-4284-4af1-a2f7-02c0f3d6d3af\",\"type\":\"GlyphRenderer\"},{\"id\":\"c4eb1b26-a20c-4bef-a46e-14a9f03d2fb7\",\"type\":\"GlyphRenderer\"}]},\"id\":\"54933b9b-eb6d-40a3-81e7-b4c22f4cf339\",\"type\":\"LegendItem\"},{\"attributes\":{\"callback\":null,\"tooltips\":[[\"(x,y)\",\"($x, $y)\"]]},\"id\":\"67cd0b07-dda9-4225-a6b9-cfc8d7e5aaba\",\"type\":\"HoverTool\"},{\"attributes\":{\"source\":{\"id\":\"5657805c-fc20-4872-97ee-ec6a72735535\",\"type\":\"ColumnDataSource\"}},\"id\":\"02b51489-20af-4977-8908-a465f1a7a719\",\"type\":\"CDSView\"},{\"attributes\":{\"callback\":null,\"column_names\":[\"x\",\"y\"],\"data\":{\"x\":{\"__ndarray__\":\"AAAAAAAAAAAAAAAAAAAAAAAAAAAAAAAAAAAAAAAAAAAAAAAAAAAAAAAAAAAAAAAAAAAAAAAAAAAAAAAAAAAAAAAAAAAAAAAAAAAAAAAAAAAAAAAAAAAAAAAAAAAAAAAAAAAAAAAAAAAAAAAAAAAAAAAAAAAAAAAAAAAAAAAAAAAAAAAAAAAAAAAAAAAAAAAAAAAAAAAAAAAAAAAAAAAAAAAAAAAAAAAAAAAAAAAAAAAAAAAAAAAAAAAAAAAAAAAAAAAAAAAAAAAAAAAAAAAAAAAAAAAAAAAAAAAAAAAAAAAAAAAAAAAAAAAAAAAAAAAAAAAAAAAAAAAAAAAAAAAAAAAAAAAAAAAAAAAAAAAAAAAAAAAAAAAAAAAAAAAAAAAAAAAAAAAAAAAAAAAAAAAAAAAAAAAAAAAAAAAAAAAAAAAAAAAAAAAAAAAAAAAAAAAAAAAAAAAAAAAAAAAAAAAAAAAAAAAAAAAAAAAAAAAAAAAAAAAAAAAAAAAAAAAAAAAAAAAAAAAAAAAAAAAAAAAAAAAAAAAAAAAAAAAAAAAAAAAAAAAAAAAAAAAAAAAAAAAAAAAAAAAAAAAAAAAAAAAAAAAAAAAAAAAAAAAAAAAAAAAAAAAAAAAAAAAAAAAAAAAAAAAAAAAAAAAAAAAAAAAAAAAAAAAAAAAAAAAAAAAAAAAAAAAAAAAAAAAAAAAAAAAAAAAAAAAAAAAAAAAAAAAAAAAAAAAAAAAAAAAAAAAAAAAAAAAAAAAAAAAAAAAAAAAAAAAAAAAAAAAAAAAAAAAAAAAAAAAAAAAAAAAAAAAAAAAAAAAAAAAAAAAAAAAAAAAAAAAAAAAAAAAAAAAAAAAAAAAAAAAAAAAAAAAAAAAAAAAAAAAAAAAAAAAAAAAAAAAAAAAAAAAAAAAAAAAAAAAAAAAAAAAAAAAAAAAAAAAAAAAAAAAAAAAAAAAAAAAAAAAAAAAAAAAAAAAAAAAAAAAAAAAAAAAAAAAAAAAAAAAAAAAAAAAAAAAAAAAAAAAAAAAAAAAAAAAAAAAAAAAAAAAAAAAAAAAAAAAAAAAAAAAAAAAAAAAAAAAAAAAAAAAAAAAAAAAAAAAAAAAAAAAAAAAAAAAAAAAAAAAAAAAAAAAAAAAAAAAAAAAAAAAAAAAAAAAAAAAAAAAAAAAAAAAAAAAAAAAAAAAAAAAAAAAAAAAAAAAAAAAAAAAAAAAAAAAAAAAAAAAAAAAAAAAAAAAAAAAAAAAAAAAAAAAAAAAAAAAAAAAAAAAAAAAAAAAAAAAAAAAAAAAAAAAAAAAAAAAAAAAAAAAAAAAAAAAAAAAAAAAAAAAAAAAAAAAAAAAAAAAAAAAAAAAAAAAAAAAAAAAAAAAAAAAAAAAAAAAAAAAAAAAAAAAAAAAAAAAAAAAAAAAAAAAAAAAAAAAAAAAAAAAAAAAAAAAAAAAAAAAAAAAAAAAAAAAAAAAAAAAAAAAAAAAAAAAAAAAAAAAAAAAAAAAAAAAAAAAAAAAAAAAAAAAAAAAAAAAAAAAAAAAAAAAAAAAAAAAAAAAAAAAAAAAAAAAAAAAAAAAAAAAAAAAAAAAAAAAAAAAAAAAAAAAAAAAAAAAAAAAAAAAAAAAAAAAAAAAAAAAAAAAAAAAAAAAAAAAAAAAAAAAAAAAAAAAAAAAAAAAAAAAAAAAAAAAAAAAAAAAAAAAAAAAAAAAAAAAAAAAAAAAAAAAAAAAAAAAAAAAAAAAAAAAAAAAAAAAAAAAAAAAAAAAAAAAAAAAAAAAAAAAAAAAAAAAAAAAAAAAAAAAAAAAAAAAAAAAAAAAAAAAAAAAAAAAAAAAAAAAAAAAAAAAAAAAAAAAAAAAAAAAAAAAAAAAAAAAAAAAAAAAAAAAAAAAAAAAAAAAAAAAAAAAAAAAAAAAAAAAAAAAAAAAAAAAAAAAAAAAAAAAAAAAAAAAAAAAAAAAAAAAAAAAAAAAAAAAAAAAAAAAAAAAAAAAAAAAAAAAAAAAAAAAAAAAAAAAAAAAAAAAAAAAAAAAAAAAAAAAAAAAAAAAAAAAAAAAAAAAAAAAAAAAAAAAAAAAAAAAAAAAAAAAAAAAAAAAAAAAAAAAAAAAAAAAAAAAAAAAAAAAAAAAAAAAAAAAAAAAAAAAAAAAAAAAAAAAAAAAAAAAAAAAAAAAAAAAAAAAAAAAAAAAAAAAAAAAAAAAAAAAAAAAAAAAAAAAAAAAAAAAAAAAAAAAAAAAAAAAAAAAAAAAAAAAAAAAAAAAAAAAAAAAAAAAAAAAAAAAAAAAAAAAAAAAAAAAAAAAAAAAAAAAAAAAAAAAAAAAAAAAAAAAAAAAAAAAAAAAAAAAAAAAAAAAAAAAAAAAAAAAAAAAAAAAAAAAAAAAAAAAAAAAAAAAAAAAAAAAAAAAAAAAAAAAAAAAAAAAAAAAAAAAAAAAAAAAAAAAAAAAAAAAAAAAAAAAAAAAAAAAAAAAAAAAAAAAAAAAAAAAAAAAAAAAAAAAAAAAAAAAAAAAAAAAAAAAAAAAAAAAAAAAAAAAAAAAAAAAAAAAAAAAAAAAAAAAAAAAAAAAAAAAAAAAAAAAAAAAAAAAAAAAAAAAAAAAAAAAAAAAAAAAAAAAAAAAAAAAAAAAAAAAAAAAAAAAAAAAAAAAAAAAAAAAAAAAAAAAAAAAAAAAAAAAAAAAAAAAAAAAAAAAAAAAAAAAAAAAAAAAAAAAAAAAAAAAAAAAAAAAAAAAAAAAAAAAAAAAAAAAAAAAAAAAAAAAAAAAAAAAAAAAAAAAAAAAAAAAAAAAAAAAAAAAAAAAAAAAAAAAAAAAAAAAAAAAAAAAAAAAAAAAAAAAAAAAAAAAAAAAAAAAAAAAAAAAAAAAAAAAAAAAAAAAAAAAAAAAAAAAAAAAAAAAAAAAAAAAAAAAAAAAAAAAAAAAAAAAAAAAAAAAAAAAAAAAAAAAAAAAAAAAAAAAAAAAAAAAAAAAAAAAAAAAAAAAAAAAAAAAAAAAAAAAAAAAAAAAAAAAAAAAAAAAAAAAAAAAAAAAAAAAAAAAAAAAAAAAAAAAAAAAAAAAAAAAAAAAAAAAAAAAAAAAAAAAAAAAAAAAAAAAAAAAAAAAAAAAAAAAAAAAAAAAAAAAAAAAAAAAAAAAAAAAAAAAAAAAAAAAAAAAAAAAAAAAAAAAAAAAAAAAAAAAAAAAAAAAAAAAAAAAAAAAAAAAAAAAAAAAAAAAAAAAAAAAAAAAAAAAAAAAAAAAAAAAAAAAAAAAAAAAAAAAAAAAAAAAAAAAAAAAAAAAAAAAAAAAAAAAAAAAAAAAAAAAAAAAAAAAAAAAAAAAAAAAAAAAAAAAAAAAAAAAAAAAAAAAAAAAAAAAAAAAAAAAAAAAAAAAAAAAAAAAAAAAAAAAAAAAAAAAAAAAAAAAAAAAAAAAAAAAAAAAAAAAAAAAAAAAAAAAAAAAAAAAAAAAAAAAA\",\"dtype\":\"float64\",\"shape\":[321]},\"y\":[-2.0,-1.99375,-1.9875,-1.98125,-1.975,-1.96875,-1.9625,-1.95625,-1.95,-1.94375,-1.9375,-1.93125,-1.925,-1.91875,-1.9125,-1.90625,-1.9,-1.89375,-1.8875,-1.88125,-1.875,-1.86875,-1.8625,-1.85625,-1.85,-1.84375,-1.8375,-1.83125,-1.825,-1.81875,-1.8125,-1.80625,-1.8,-1.79375,-1.7875,-1.78125,-1.775,-1.76875,-1.7625,-1.75625,-1.75,-1.74375,-1.7375,-1.73125,-1.725,-1.71875,-1.7125,-1.70625,-1.7,-1.69375,-1.6875,-1.68125,-1.675,-1.66875,-1.6625,-1.65625,-1.65,-1.64375,-1.6375,-1.63125,-1.625,-1.61875,-1.6125,-1.60625,-1.6,-1.59375,-1.5875,-1.58125,-1.575,-1.56875,-1.5625,-1.55625,-1.55,-1.54375,-1.5375,-1.53125,-1.525,-1.51875,-1.5125,-1.50625,-1.5,-1.49375,-1.4874999999999998,-1.48125,-1.475,-1.46875,-1.4625,-1.4562499999999998,-1.45,-1.44375,-1.4375,-1.43125,-1.4249999999999998,-1.41875,-1.4125,-1.40625,-1.4,-1.3937499999999998,-1.3875,-1.38125,-1.375,-1.36875,-1.3624999999999998,-1.35625,-1.35,-1.34375,-1.3375,-1.3312499999999998,-1.325,-1.31875,-1.3125,-1.30625,-1.2999999999999998,-1.29375,-1.2875,-1.28125,-1.275,-1.2687499999999998,-1.2625,-1.25625,-1.25,-1.24375,-1.2374999999999998,-1.23125,-1.225,-1.21875,-1.2125,-1.2062499999999998,-1.2,-1.19375,-1.1875,-1.18125,-1.1749999999999998,-1.16875,-1.1625,-1.15625,-1.15,-1.1437499999999998,-1.1375,-1.13125,-1.125,-1.11875,-1.1124999999999998,-1.10625,-1.1,-1.09375,-1.0875,-1.0812499999999998,-1.075,-1.06875,-1.0625,-1.05625,-1.0499999999999998,-1.04375,-1.0375,-1.03125,-1.025,-1.0187499999999998,-1.0125,-1.00625,-1.0,-0.9937499999999999,-0.9875,-0.98125,-0.9749999999999999,-0.96875,-0.9624999999999999,-0.95625,-0.95,-0.9437499999999999,-0.9375,-0.9312499999999999,-0.925,-0.91875,-0.9124999999999999,-0.90625,-0.8999999999999999,-0.89375,-0.8875,-0.8812499999999999,-0.875,-0.8687499999999999,-0.8625,-0.85625,-0.8499999999999999,-0.84375,-0.8374999999999999,-0.83125,-0.825,-0.8187499999999999,-0.8125,-0.8062499999999999,-0.7999999999999998,-0.79375,-0.7874999999999999,-0.78125,-0.7749999999999999,-0.7687499999999998,-0.7625,-0.7562499999999999,-0.75,-0.7437499999999999,-0.7374999999999998,-0.73125,-0.7249999999999999,-0.71875,-0.7124999999999999,-0.7062499999999998,-0.7,-0.6937499999999999,-0.6875,-0.6812499999999999,-0.6749999999999998,-0.66875,-0.6624999999999999,-0.65625,-0.6499999999999999,-0.6437499999999998,-0.6375,-0.6312499999999999,-0.625,-0.6187499999999999,-0.6124999999999998,-0.60625,-0.5999999999999999,-0.59375,-0.5874999999999999,-0.5812499999999998,-0.575,-0.5687499999999999,-0.5625,-0.5562499999999999,-0.5499999999999998,-0.54375,-0.5374999999999999,-0.53125,-0.5249999999999999,-0.5187499999999998,-0.5125,-0.5062499999999999,-0.5,-0.4937499999999999,-0.4874999999999998,-0.48124999999999996,-0.47499999999999987,-0.46875,-0.4624999999999999,-0.4562499999999998,-0.44999999999999996,-0.44374999999999987,-0.4375,-0.4312499999999999,-0.4249999999999998,-0.41874999999999996,-0.41249999999999987,-0.40625,-0.3999999999999999,-0.3937499999999998,-0.38749999999999996,-0.38124999999999987,-0.375,-0.3687499999999999,-0.3624999999999998,-0.35624999999999996,-0.34999999999999987,-0.34375,-0.3374999999999999,-0.3312499999999998,-0.32499999999999996,-0.31874999999999987,-0.3125,-0.3062499999999999,-0.2999999999999998,-0.29374999999999996,-0.28749999999999987,-0.28125,-0.2749999999999999,-0.2687499999999998,-0.26249999999999996,-0.25624999999999987,-0.25,-0.2437499999999999,-0.23749999999999982,-0.23124999999999996,-0.22499999999999987,-0.21875,-0.2124999999999999,-0.20624999999999982,-0.19999999999999996,-0.19374999999999987,-0.1875,-0.1812499999999999,-0.17499999999999982,-0.16874999999999996,-0.16249999999999987,-0.15625,-0.1499999999999999,-0.14374999999999982,-0.13749999999999996,-0.13124999999999987,-0.125,-0.11874999999999991,-0.11249999999999982,-0.10624999999999996,-0.09999999999999987,-0.09375,-0.08749999999999991,-0.08124999999999982,-0.07499999999999996,-0.06874999999999987,-0.0625,-0.05624999999999991,-0.04999999999999982,-0.043749999999999956,-0.03749999999999987,-0.03125,-0.02499999999999991,-0.018749999999999822,-0.012499999999999956,-0.006249999999999867,0.0]},\"selected\":null,\"selection_policy\":null},\"id\":\"79eae5e1-6853-4c3b-aa06-cc73cea4cc16\",\"type\":\"ColumnDataSource\"},{\"attributes\":{\"below\":[{\"id\":\"153b1e74-4763-4879-ab5c-3d2673e6bbc7\",\"type\":\"LinearAxis\"}],\"left\":[{\"id\":\"e09efcbb-eb4b-40e3-be14-bd16fac167d4\",\"type\":\"LinearAxis\"}],\"renderers\":[{\"id\":\"153b1e74-4763-4879-ab5c-3d2673e6bbc7\",\"type\":\"LinearAxis\"},{\"id\":\"6320ae74-90a3-475f-8a64-af606bf80030\",\"type\":\"Grid\"},{\"id\":\"e09efcbb-eb4b-40e3-be14-bd16fac167d4\",\"type\":\"LinearAxis\"},{\"id\":\"a8e59df6-72d9-4ec6-b3e6-64cce1aed7a2\",\"type\":\"Grid\"},{\"id\":\"183ec4a0-7325-4361-ae7d-c9abbfe09f99\",\"type\":\"BoxAnnotation\"},{\"id\":\"1ffdf595-52b6-46ea-b12a-07d931b85fe3\",\"type\":\"Legend\"},{\"id\":\"b42bc32d-a25e-4d6c-85e3-9978a1a3028c\",\"type\":\"GlyphRenderer\"},{\"id\":\"3b2b05ec-5b0c-4740-bb63-a5d44d8a9939\",\"type\":\"GlyphRenderer\"},{\"id\":\"407ee701-4284-4af1-a2f7-02c0f3d6d3af\",\"type\":\"GlyphRenderer\"},{\"id\":\"c4eb1b26-a20c-4bef-a46e-14a9f03d2fb7\",\"type\":\"GlyphRenderer\"}],\"title\":{\"id\":\"6ce217b4-91b8-42ca-9f9b-87381932b916\",\"type\":\"Title\"},\"toolbar\":{\"id\":\"0ab0125b-2172-489b-9c75-e8d2ffd30802\",\"type\":\"Toolbar\"},\"x_range\":{\"id\":\"4aadc335-50c4-4d60-bffa-7e18b7cd361b\",\"type\":\"Range1d\"},\"x_scale\":{\"id\":\"7207df7f-4213-4bb4-becf-00670a066f70\",\"type\":\"LinearScale\"},\"y_range\":{\"id\":\"ea06a496-1c27-4b04-9456-53331f50573b\",\"type\":\"DataRange1d\"},\"y_scale\":{\"id\":\"70da5e34-3cdc-4ba6-8963-d2f03344f6d1\",\"type\":\"LinearScale\"}},\"id\":\"5e8e5496-9847-4377-af12-e0311e6e2b53\",\"subtype\":\"Figure\",\"type\":\"Plot\"},{\"attributes\":{\"line_color\":\"red\",\"line_width\":1.5,\"x\":{\"field\":\"x\"},\"y\":{\"field\":\"y\"}},\"id\":\"6114ca5b-f2bd-4a81-918e-acd9d99ff4d4\",\"type\":\"Line\"},{\"attributes\":{\"callback\":null,\"end\":0.7,\"start\":-0.7},\"id\":\"4aadc335-50c4-4d60-bffa-7e18b7cd361b\",\"type\":\"Range1d\"},{\"attributes\":{\"line_color\":\"red\",\"line_width\":1.5,\"x\":{\"field\":\"x\"},\"y\":{\"field\":\"y\"}},\"id\":\"80a4dad7-5610-4e68-8b78-13ae5a13a6e5\",\"type\":\"Line\"},{\"attributes\":{},\"id\":\"7207df7f-4213-4bb4-becf-00670a066f70\",\"type\":\"LinearScale\"},{\"attributes\":{\"data_source\":{\"id\":\"5657805c-fc20-4872-97ee-ec6a72735535\",\"type\":\"ColumnDataSource\"},\"glyph\":{\"id\":\"6114ca5b-f2bd-4a81-918e-acd9d99ff4d4\",\"type\":\"Line\"},\"hover_glyph\":null,\"muted_glyph\":null,\"nonselection_glyph\":{\"id\":\"51c573d4-9420-4ec9-93ed-515213113d8a\",\"type\":\"Line\"},\"selection_glyph\":null,\"view\":{\"id\":\"02b51489-20af-4977-8908-a465f1a7a719\",\"type\":\"CDSView\"}},\"id\":\"407ee701-4284-4af1-a2f7-02c0f3d6d3af\",\"type\":\"GlyphRenderer\"},{\"attributes\":{\"callback\":null},\"id\":\"ea06a496-1c27-4b04-9456-53331f50573b\",\"type\":\"DataRange1d\"},{\"attributes\":{\"line_alpha\":0.1,\"line_color\":\"#1f77b4\",\"line_width\":1.5,\"x\":{\"field\":\"x\"},\"y\":{\"field\":\"y\"}},\"id\":\"51c573d4-9420-4ec9-93ed-515213113d8a\",\"type\":\"Line\"},{\"attributes\":{\"active_drag\":\"auto\",\"active_inspect\":\"auto\",\"active_scroll\":\"auto\",\"active_tap\":\"auto\",\"tools\":[{\"id\":\"67cd0b07-dda9-4225-a6b9-cfc8d7e5aaba\",\"type\":\"HoverTool\"},{\"id\":\"141c9956-b995-4d66-8302-2954ede41769\",\"type\":\"PanTool\"},{\"id\":\"729bddfb-ec68-4d0c-ab23-57d5819bd0e4\",\"type\":\"WheelZoomTool\"},{\"id\":\"5ef0ed55-b7d7-459a-a2d8-81015afc6896\",\"type\":\"BoxZoomTool\"},{\"id\":\"0bb9e62f-4c5c-4d95-be4d-99dbd3aebeb3\",\"type\":\"ResetTool\"}]},\"id\":\"0ab0125b-2172-489b-9c75-e8d2ffd30802\",\"type\":\"Toolbar\"},{\"attributes\":{\"data_source\":{\"id\":\"89174f68-1720-4183-b6e8-f00d09b10c1d\",\"type\":\"ColumnDataSource\"},\"glyph\":{\"id\":\"80a4dad7-5610-4e68-8b78-13ae5a13a6e5\",\"type\":\"Line\"},\"hover_glyph\":null,\"muted_glyph\":null,\"nonselection_glyph\":{\"id\":\"e1fbe805-c3f5-41d6-93b1-86eb2327a42b\",\"type\":\"Line\"},\"selection_glyph\":null,\"view\":{\"id\":\"d0930c6f-8aa4-41e6-b838-f56b7767d693\",\"type\":\"CDSView\"}},\"id\":\"c4eb1b26-a20c-4bef-a46e-14a9f03d2fb7\",\"type\":\"GlyphRenderer\"}],\"root_ids\":[\"5e8e5496-9847-4377-af12-e0311e6e2b53\"]},\"title\":\"Bokeh Application\",\"version\":\"0.12.15\"}};\n",
       "  var render_items = [{\"docid\":\"3c477c4d-aea5-4052-bfff-ec10da6ec4a5\",\"elementid\":\"f9bf3b75-13c2-46df-ad3f-7112b92fc76d\",\"modelid\":\"5e8e5496-9847-4377-af12-e0311e6e2b53\"}];\n",
       "  root.Bokeh.embed.embed_items_notebook(docs_json, render_items);\n",
       "\n",
       "  }\n",
       "  if (root.Bokeh !== undefined) {\n",
       "    embed_document(root);\n",
       "  } else {\n",
       "    var attempts = 0;\n",
       "    var timer = setInterval(function(root) {\n",
       "      if (root.Bokeh !== undefined) {\n",
       "        embed_document(root);\n",
       "        clearInterval(timer);\n",
       "      }\n",
       "      attempts++;\n",
       "      if (attempts > 100) {\n",
       "        console.log(\"Bokeh: ERROR: Unable to run BokehJS code because BokehJS library is missing\")\n",
       "        clearInterval(timer);\n",
       "      }\n",
       "    }, 10, root)\n",
       "  }\n",
       "})(window);"
      ],
      "application/vnd.bokehjs_exec.v0+json": ""
     },
     "metadata": {
      "application/vnd.bokehjs_exec.v0+json": {
       "id": "5e8e5496-9847-4377-af12-e0311e6e2b53"
      }
     },
     "output_type": "display_data"
    }
   ],
   "source": [
    "## graphical representation of your grid\n",
    "\n",
    "x=np.zeros(np.size(zDual))\n",
    "\n",
    "hover = HoverTool(tooltips=[\n",
    "    (\"(x,y)\", \"($x, $y)\"),\n",
    "])\n",
    "\n",
    "p1 = figure(plot_width=600, plot_height=600,tools=['pan,wheel_zoom,box_zoom,reset',hover],\n",
    "           title=\"Mouse over the dots\",x_range=(-0.7, 0.7))\n",
    "p1.scatter(x,etaDual, color=\"blue\", marker='cross',legend='CV interface')\n",
    "for i in data.index:\n",
    "    if data['Type'][i] == 'L':\n",
    "        c = 'red'\n",
    "        l = 'layer'\n",
    "    elif data['Type'][i] == 'M':\n",
    "        c = 'green'\n",
    "        l = 'meas. point'\n",
    "        \n",
    "    p1.line([-0.2,0.2], [data['eta'][i],data['eta'][i]], color=c,line_width=lineWidth,legend=l)\n",
    "p1.line([-0.2,0.2], [data['eta'][data['eta'].size-1],data['eta'][data['eta'].size-1]], color=\"red\",line_width=lineWidth,legend='layer')\n",
    "\n",
    "p1.yaxis.axis_label = '\\u03b7 [m]'\n",
    "p1.yaxis.axis_label_text_font_size = str(labelSize) + \"px\"\n",
    "p1.title.text = 'Control volume intefaces'\n",
    "p1.title.align = \"center\"\n",
    "p1.title.text_font_size = str(titleSize) + \"px\"\n",
    "\n",
    "p1.legend.location = \"top_left\"\n",
    "p1.legend.label_text_font_size = str(legendSize) + \"px\"\n",
    "p1.legend.click_policy=\"hide\"\n",
    "\n",
    "show(p1)"
   ]
  },
  {
   "cell_type": "markdown",
   "metadata": {},
   "source": [
    "## Compute initial condition\n",
    "This section allows to compute the initial condition for the water suction. It is possible to define the initial condition in three ways:\n",
    "- hydrostatic distribution for a prescribed $\\psi$ @bottom;\n",
    "- linear interpolation of measuraments points and $\\psi$ @bottm and @surface;\n",
    "- constant hydraulic head for a prescribed $\\psi$ @bottom\n",
    "\n",
    "It is important to note that at the surface the hydraulic head is prescribed in the inputFile.csv. If it is positive means there is ponding water otherwise the matric suction of the uppermost layer of the soil.\n"
   ]
  },
  {
   "cell_type": "code",
   "execution_count": 9,
   "metadata": {},
   "outputs": [],
   "source": [
    "psiIC = []\n",
    "coordMeasPoint = []\n",
    "psiMeas = []\n",
    "\n",
    "for i in data.index:\n",
    "    if data['Type'][i] == 'M':\n",
    "        coordMeasPoint.append(data['eta'][i])\n",
    "        psiMeas.append(data['psi'][i])\n",
    "        \n",
    "coordMeasPoint = np.append(coordMeasPoint, data['eta'][np.size(data['eta'])-1])\n",
    "psiMeas = np.append(psiMeas,data['psi'][np.size(data['psi'])-1])"
   ]
  },
  {
   "cell_type": "code",
   "execution_count": 10,
   "metadata": {},
   "outputs": [
    {
     "data": {
      "text/plain": [
       "array([-2.])"
      ]
     },
     "execution_count": 10,
     "metadata": {},
     "output_type": "execute_result"
    }
   ],
   "source": [
    "coordMeasPoint"
   ]
  },
  {
   "cell_type": "code",
   "execution_count": 11,
   "metadata": {},
   "outputs": [
    {
     "data": {
      "text/plain": [
       "array([-50.])"
      ]
     },
     "execution_count": 11,
     "metadata": {},
     "output_type": "execute_result"
    }
   ],
   "source": [
    "psiMeas"
   ]
  },
  {
   "cell_type": "markdown",
   "metadata": {},
   "source": [
    "#### Hydrostatic distribution for a given psi at the bottom"
   ]
  },
  {
   "cell_type": "code",
   "execution_count": 27,
   "metadata": {},
   "outputs": [],
   "source": [
    "\n",
    "for i in range(0,np.size(eta)-1):\n",
    "    psiIC = np.append(psiIC,data['psi'][np.size(data['psi'])-1]+(data['eta'][np.size(data['eta'])-1]-eta[i]))\n",
    "\n",
    "psiIC = np.append(psiIC,data['psi'][0] )"
   ]
  },
  {
   "cell_type": "code",
   "execution_count": 28,
   "metadata": {},
   "outputs": [
    {
     "data": {
      "text/html": [
       "\n",
       "<div class=\"bk-root\">\n",
       "    <div class=\"bk-plotdiv\" id=\"94f7f56a-72db-45c2-b476-74e5f7153a94\"></div>\n",
       "</div>"
      ]
     },
     "metadata": {},
     "output_type": "display_data"
    },
    {
     "data": {
      "application/javascript": [
       "(function(root) {\n",
       "  function embed_document(root) {\n",
       "    \n",
       "  var docs_json = {\"23d70fe8-3ac2-425f-a052-402ffa147b3b\":{\"roots\":{\"references\":[{\"attributes\":{\"plot\":{\"id\":\"0878583f-9de5-4ef3-b531-656ebb3ee4e9\",\"subtype\":\"Figure\",\"type\":\"Plot\"},\"ticker\":{\"id\":\"fb5370e6-634e-46a3-b2f4-4eab202547e5\",\"type\":\"BasicTicker\"}},\"id\":\"5855fc41-7f71-43cf-bb84-f3973768862d\",\"type\":\"Grid\"},{\"attributes\":{\"overlay\":{\"id\":\"00fcee35-2063-4ffc-b12d-eca35459fac2\",\"type\":\"BoxAnnotation\"}},\"id\":\"ca1b068e-3c06-44aa-a9a0-aece364e9f6d\",\"type\":\"BoxZoomTool\"},{\"attributes\":{\"axis_label\":\"\\u03b7 [m]\",\"axis_label_text_font_size\":{\"value\":\"18px\"},\"formatter\":{\"id\":\"c12fad21-fa0c-46c5-9b12-1cbef8bc3417\",\"type\":\"BasicTickFormatter\"},\"plot\":{\"id\":\"0878583f-9de5-4ef3-b531-656ebb3ee4e9\",\"subtype\":\"Figure\",\"type\":\"Plot\"},\"ticker\":{\"id\":\"e4ae448a-21de-4754-ae27-7f060834b8e0\",\"type\":\"BasicTicker\"}},\"id\":\"0ce06091-95a0-4220-9e24-73af142539c4\",\"type\":\"LinearAxis\"},{\"attributes\":{\"active_drag\":\"auto\",\"active_inspect\":\"auto\",\"active_scroll\":\"auto\",\"active_tap\":\"auto\",\"tools\":[{\"id\":\"c34798fe-1d4f-47b0-9a64-07e0912e1c77\",\"type\":\"HoverTool\"},{\"id\":\"a863303e-9a76-4cfe-86b0-b612dc68e729\",\"type\":\"PanTool\"},{\"id\":\"42c84aef-7989-4a6e-8e73-38049cc35884\",\"type\":\"WheelZoomTool\"},{\"id\":\"ca1b068e-3c06-44aa-a9a0-aece364e9f6d\",\"type\":\"BoxZoomTool\"},{\"id\":\"c7a5338a-6624-40f5-b7cc-d35336264eb9\",\"type\":\"ResetTool\"}]},\"id\":\"84faebf3-0296-452c-86af-9f71adbd9449\",\"type\":\"Toolbar\"},{\"attributes\":{\"callback\":null},\"id\":\"cce798f3-7745-4292-ace3-356fa422c8f1\",\"type\":\"DataRange1d\"},{\"attributes\":{},\"id\":\"2f216188-78a4-4b0e-b647-0dd957f00905\",\"type\":\"LinearScale\"},{\"attributes\":{\"source\":{\"id\":\"360a6715-ebb4-4ae7-87f7-4ee8933f7847\",\"type\":\"ColumnDataSource\"}},\"id\":\"bfedb2e4-9277-46f4-b705-42052b87cf3f\",\"type\":\"CDSView\"},{\"attributes\":{\"fill_color\":{\"value\":\"blue\"},\"line_color\":{\"value\":\"blue\"},\"x\":{\"field\":\"x\"},\"y\":{\"field\":\"y\"}},\"id\":\"de83413a-c511-4883-bfab-2662bc108f2e\",\"type\":\"Circle\"},{\"attributes\":{\"data_source\":{\"id\":\"360a6715-ebb4-4ae7-87f7-4ee8933f7847\",\"type\":\"ColumnDataSource\"},\"glyph\":{\"id\":\"de83413a-c511-4883-bfab-2662bc108f2e\",\"type\":\"Circle\"},\"hover_glyph\":null,\"muted_glyph\":null,\"nonselection_glyph\":{\"id\":\"cbda7ead-5aee-41d4-b21a-5a3601b11963\",\"type\":\"Circle\"},\"selection_glyph\":null,\"view\":{\"id\":\"bfedb2e4-9277-46f4-b705-42052b87cf3f\",\"type\":\"CDSView\"}},\"id\":\"09e2b974-8fb6-49e9-9181-aabcc35a207d\",\"type\":\"GlyphRenderer\"},{\"attributes\":{\"callback\":null,\"column_names\":[\"x\",\"y\"],\"data\":{\"x\":{\"__ndarray__\":\"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\",\"dtype\":\"float64\",\"shape\":[321]},\"y\":{\"__ndarray__\":\"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\",\"dtype\":\"float64\",\"shape\":[321]}},\"selected\":null,\"selection_policy\":null},\"id\":\"360a6715-ebb4-4ae7-87f7-4ee8933f7847\",\"type\":\"ColumnDataSource\"},{\"attributes\":{},\"id\":\"59ebe448-8580-49ce-adc6-7bb0c13dcdd4\",\"type\":\"LinearScale\"},{\"attributes\":{\"dimension\":1,\"plot\":{\"id\":\"0878583f-9de5-4ef3-b531-656ebb3ee4e9\",\"subtype\":\"Figure\",\"type\":\"Plot\"},\"ticker\":{\"id\":\"e4ae448a-21de-4754-ae27-7f060834b8e0\",\"type\":\"BasicTicker\"}},\"id\":\"88b4bd61-db8d-40fb-851e-e51ed182893b\",\"type\":\"Grid\"},{\"attributes\":{},\"id\":\"a863303e-9a76-4cfe-86b0-b612dc68e729\",\"type\":\"PanTool\"},{\"attributes\":{},\"id\":\"c12fad21-fa0c-46c5-9b12-1cbef8bc3417\",\"type\":\"BasicTickFormatter\"},{\"attributes\":{\"align\":\"center\",\"plot\":null,\"text\":\"Initial condition for \\u03c8: hydrostatic\",\"text_font_size\":{\"value\":\"22px\"}},\"id\":\"09e4e624-0d1e-402b-a36e-a89e0eab2a11\",\"type\":\"Title\"},{\"attributes\":{\"bottom_units\":\"screen\",\"fill_alpha\":{\"value\":0.5},\"fill_color\":{\"value\":\"lightgrey\"},\"left_units\":\"screen\",\"level\":\"overlay\",\"line_alpha\":{\"value\":1.0},\"line_color\":{\"value\":\"black\"},\"line_dash\":[4,4],\"line_width\":{\"value\":2},\"plot\":null,\"render_mode\":\"css\",\"right_units\":\"screen\",\"top_units\":\"screen\"},\"id\":\"00fcee35-2063-4ffc-b12d-eca35459fac2\",\"type\":\"BoxAnnotation\"},{\"attributes\":{\"callback\":null,\"tooltips\":[[\"(x,y)\",\"($x, $y)\"]]},\"id\":\"c34798fe-1d4f-47b0-9a64-07e0912e1c77\",\"type\":\"HoverTool\"},{\"attributes\":{},\"id\":\"65dd4ca4-ad40-4891-8413-1a92306bd743\",\"type\":\"BasicTickFormatter\"},{\"attributes\":{},\"id\":\"c7a5338a-6624-40f5-b7cc-d35336264eb9\",\"type\":\"ResetTool\"},{\"attributes\":{\"callback\":null},\"id\":\"82dfb4c1-848b-4a7e-8428-8dcf69a48b7d\",\"type\":\"DataRange1d\"},{\"attributes\":{\"axis_label\":\"\\u03c8 [m]\",\"axis_label_text_font_size\":{\"value\":\"18px\"},\"formatter\":{\"id\":\"65dd4ca4-ad40-4891-8413-1a92306bd743\",\"type\":\"BasicTickFormatter\"},\"plot\":{\"id\":\"0878583f-9de5-4ef3-b531-656ebb3ee4e9\",\"subtype\":\"Figure\",\"type\":\"Plot\"},\"ticker\":{\"id\":\"fb5370e6-634e-46a3-b2f4-4eab202547e5\",\"type\":\"BasicTicker\"}},\"id\":\"5a0264e6-29d2-47fc-9e54-b308a7da1398\",\"type\":\"LinearAxis\"},{\"attributes\":{},\"id\":\"fb5370e6-634e-46a3-b2f4-4eab202547e5\",\"type\":\"BasicTicker\"},{\"attributes\":{\"fill_alpha\":{\"value\":0.1},\"fill_color\":{\"value\":\"#1f77b4\"},\"line_alpha\":{\"value\":0.1},\"line_color\":{\"value\":\"#1f77b4\"},\"x\":{\"field\":\"x\"},\"y\":{\"field\":\"y\"}},\"id\":\"cbda7ead-5aee-41d4-b21a-5a3601b11963\",\"type\":\"Circle\"},{\"attributes\":{\"below\":[{\"id\":\"5a0264e6-29d2-47fc-9e54-b308a7da1398\",\"type\":\"LinearAxis\"}],\"left\":[{\"id\":\"0ce06091-95a0-4220-9e24-73af142539c4\",\"type\":\"LinearAxis\"}],\"renderers\":[{\"id\":\"5a0264e6-29d2-47fc-9e54-b308a7da1398\",\"type\":\"LinearAxis\"},{\"id\":\"5855fc41-7f71-43cf-bb84-f3973768862d\",\"type\":\"Grid\"},{\"id\":\"0ce06091-95a0-4220-9e24-73af142539c4\",\"type\":\"LinearAxis\"},{\"id\":\"88b4bd61-db8d-40fb-851e-e51ed182893b\",\"type\":\"Grid\"},{\"id\":\"00fcee35-2063-4ffc-b12d-eca35459fac2\",\"type\":\"BoxAnnotation\"},{\"id\":\"09e2b974-8fb6-49e9-9181-aabcc35a207d\",\"type\":\"GlyphRenderer\"}],\"title\":{\"id\":\"09e4e624-0d1e-402b-a36e-a89e0eab2a11\",\"type\":\"Title\"},\"toolbar\":{\"id\":\"84faebf3-0296-452c-86af-9f71adbd9449\",\"type\":\"Toolbar\"},\"x_range\":{\"id\":\"cce798f3-7745-4292-ace3-356fa422c8f1\",\"type\":\"DataRange1d\"},\"x_scale\":{\"id\":\"59ebe448-8580-49ce-adc6-7bb0c13dcdd4\",\"type\":\"LinearScale\"},\"y_range\":{\"id\":\"82dfb4c1-848b-4a7e-8428-8dcf69a48b7d\",\"type\":\"DataRange1d\"},\"y_scale\":{\"id\":\"2f216188-78a4-4b0e-b647-0dd957f00905\",\"type\":\"LinearScale\"}},\"id\":\"0878583f-9de5-4ef3-b531-656ebb3ee4e9\",\"subtype\":\"Figure\",\"type\":\"Plot\"},{\"attributes\":{},\"id\":\"42c84aef-7989-4a6e-8e73-38049cc35884\",\"type\":\"WheelZoomTool\"},{\"attributes\":{},\"id\":\"e4ae448a-21de-4754-ae27-7f060834b8e0\",\"type\":\"BasicTicker\"}],\"root_ids\":[\"0878583f-9de5-4ef3-b531-656ebb3ee4e9\"]},\"title\":\"Bokeh Application\",\"version\":\"0.12.15\"}};\n",
       "  var render_items = [{\"docid\":\"23d70fe8-3ac2-425f-a052-402ffa147b3b\",\"elementid\":\"94f7f56a-72db-45c2-b476-74e5f7153a94\",\"modelid\":\"0878583f-9de5-4ef3-b531-656ebb3ee4e9\"}];\n",
       "  root.Bokeh.embed.embed_items_notebook(docs_json, render_items);\n",
       "\n",
       "  }\n",
       "  if (root.Bokeh !== undefined) {\n",
       "    embed_document(root);\n",
       "  } else {\n",
       "    var attempts = 0;\n",
       "    var timer = setInterval(function(root) {\n",
       "      if (root.Bokeh !== undefined) {\n",
       "        embed_document(root);\n",
       "        clearInterval(timer);\n",
       "      }\n",
       "      attempts++;\n",
       "      if (attempts > 100) {\n",
       "        console.log(\"Bokeh: ERROR: Unable to run BokehJS code because BokehJS library is missing\")\n",
       "        clearInterval(timer);\n",
       "      }\n",
       "    }, 10, root)\n",
       "  }\n",
       "})(window);"
      ],
      "application/vnd.bokehjs_exec.v0+json": ""
     },
     "metadata": {
      "application/vnd.bokehjs_exec.v0+json": {
       "id": "0878583f-9de5-4ef3-b531-656ebb3ee4e9"
      }
     },
     "output_type": "display_data"
    }
   ],
   "source": [
    "\n",
    "\n",
    "p1 = figure(plot_width=600, plot_height=600,tools=['pan,wheel_zoom,box_zoom,reset',hover],\n",
    "           title=\"Mouse over the dots\")\n",
    "p1.scatter(psiIC,eta, color=\"blue\")\n",
    "\n",
    "p1.xaxis.axis_label = '\\u03C8 [m]'\n",
    "p1.xaxis.axis_label_text_font_size = str(labelSize) + \"px\"\n",
    "\n",
    "p1.yaxis.axis_label = '\\u03b7 [m]'\n",
    "p1.yaxis.axis_label_text_font_size = str(labelSize) + \"px\"\n",
    "p1.title.text = 'Initial condition for \\u03C8: hydrostatic'\n",
    "p1.title.align = \"center\"\n",
    "p1.title.text_font_size = str(titleSize) + \"px\"\n",
    "\n",
    "\n",
    "show(p1)"
   ]
  },
  {
   "cell_type": "markdown",
   "metadata": {},
   "source": [
    "The _full_ hydrostatic distribution is the state of equilibrium: the water flux is due to the spatial gradient of $\\psi+z$. Let us plot the total hydraulic head for the hydrostatic distribution and it is possible to observe that the spatial gradient is null every where:"
   ]
  },
  {
   "cell_type": "code",
   "execution_count": 45,
   "metadata": {},
   "outputs": [
    {
     "data": {
      "text/html": [
       "\n",
       "<div class=\"bk-root\">\n",
       "    <div class=\"bk-plotdiv\" id=\"b2c00f5c-f505-458b-99c4-49a2ec33201b\"></div>\n",
       "</div>"
      ]
     },
     "metadata": {},
     "output_type": "display_data"
    },
    {
     "data": {
      "application/javascript": [
       "(function(root) {\n",
       "  function embed_document(root) {\n",
       "    \n",
       "  var docs_json = {\"fa717284-1581-41da-9f08-94baec4d2a45\":{\"roots\":{\"references\":[{\"attributes\":{\"bottom_units\":\"screen\",\"fill_alpha\":{\"value\":0.5},\"fill_color\":{\"value\":\"lightgrey\"},\"left_units\":\"screen\",\"level\":\"overlay\",\"line_alpha\":{\"value\":1.0},\"line_color\":{\"value\":\"black\"},\"line_dash\":[4,4],\"line_width\":{\"value\":2},\"plot\":null,\"render_mode\":\"css\",\"right_units\":\"screen\",\"top_units\":\"screen\"},\"id\":\"12aa6cfe-2a98-4253-9a6f-24db59c82843\",\"type\":\"BoxAnnotation\"},{\"attributes\":{},\"id\":\"0ab7faf7-2d75-4882-867c-c5087263f853\",\"type\":\"PanTool\"},{\"attributes\":{\"callback\":null,\"column_names\":[\"x\",\"y\"],\"data\":{\"x\":{\"__ndarray__\":\"AAAAAAAAAAAAAAAAAAAAAAAAAAAAAAAAAAAAAAAAAAAAAAAAAAAAAAAAAAAAAAAAAAAAAAAAAAAAAAAAAAAAAAAAAAAAAAAAAAAAAAAAAAAAAAAAAAAAAAAAAAAAAAAAAAAAAAAAAAAAAAAAAAAAAAAAAAAAAAAAAAAAAAAAAAAAAAAAAAAAAAAAAAAAAAAAAAAAAAAAAAAAAAAAAAAAAAAAAAAAAAAAAAAAAAAAAAAAAAAAAAAAAAAAAAAAAAAAAAAAAAAAAAAAAAAAAAAAAAAAAAAAAAAAAAAAAAAAAAAAAAAAAAAAAAAAAAAAAAAAAAAAAAAAAAAAAAAAAAAAAAAAAAAAAAAAAAAAAAAAAAAAAAAAAAAAAAAAAAAAAAAAAAAAAAAAAAAAAAAAAAAAAAAAAAAAAAAAAAAAAAAAAAAAAAAAAAAAAAAAAAAAAAAAAAAAAAAAAAAAAAAAAAAAAAAAAAAAAAAAAAAAAAAAAAAAAAAAAAAAAAAAAAAAAAAAAAAAAAAAAAAAAAAAAAAAAAAAAAAAAAAAAAAAAAAAAAAAAAAAAAAAAAAAAAAAAAAAAAAAAAAAAAAAAAAAAAAAAAAAAAAAAAAAAAAAAAAAAAAAAAAAAAAAAAAAAAAAAAAAAAAAAAAAAAAAAAAAAAAAAAAAAAAAAAAAAAAAAAAAAAAAAAAAAAAAAAAAAAAAAAAAAAAAAAAAAAAAAAAAAAAAAAAAAAAAAAAAAAAAAAAAAAAAAAAAAAAAAAAAAAAAAAAAAAAAAAAAAAAAAAAAAAAAAAAAAAAAAAAAAAAAAAAAAAAAAAAAAAAAAAAAAAAAAAAAAAAAAAAAAAAAAAAAAAAAAAAAAAAAAAAAAAAAAAAAAAAAAAAAAAAAAAAAAAAAAAAAAAAAAAAAAAAAAAAAAAAAAAAAAAAAAAAAAAAAAAAAAAAAAAAAAAAAAAAAAAAAAAAAAAAAAAAAAAAAAAAAAAAAAAAAAAAAAAAAAAAAAAAAAAAAAAAAAAAAAAAAAAAAAAAAAAAAAAAAAAAAAAAAAAAAAAAAAAAAAAAAAAAAAAAAAAAAAAAAAAAAAAAAAAAAAAAAAAAAAAAAAAAAAAAAAAAAAAAAAAAAAAAAAAAAAAAAAAAAAAAAAAAAAAAAAAAAAAAAAAAAAAAAAAAAAAAAAAAAAAAAAAAAAAAAAAAAAAAAAAAAAAAAAAAAAAAAAAAAAAAAAAAAAAAAAAAAAAAAAAAAAAAAAAAAAAAAAAAAAAAAAAAAAAAAAAAAAAAAAAAAAAAAAAAAAAAAAAAAAAAAAAAAAAAAAAAAAAAAAAAAAAAAAAAAAAAAAAAAAAAAAAAAAAAAAAAAAAAAAAAAAAAAAAAAAAAAAAAAAAAAAAAAAAAAAAAAAAAAAAAAAAAAAAAAAAAAAAAAAAAAAAAAAAAAAAAAAAAAAAAAAAAAAAAAAAAAAAAAAAAAAAAAAAAAAAAAAAAAAAAAAAAAAAAAAAAAAAAAAAAAAAAAAAAAAAAAAAAAAAAAAAAAAAAAAAAAAAAAAAAAAAAAAAAAAAAAAAAAAAAAAAAAAAAAAAAAAAAAAAAAAAAAAAAAAAAAAAAAAAAAAAAAAAAAAAAAAAAAAAAAAAAAAAAAAAAAAAAAAAAAAAAAAAAAAAAAAAAAAAAAAAAAAAAAAAAAAAAAAAAAAAAAAAAAAAAAAAAAAAAAAAAAAAAAAAAAAAAAAAAAAAAAAAAAAAAAAAAAAAAAAAAAAAAAAAAAAAAAAAAAAAAAAAAAAAAAAAAAAAAAAAAAAAAAAAAAAAAAAAAAAAAAAAAAAAAAAAAAAAAAAAAAAAAAAAAAAAAAAAAAAAAAAAAAAAAAAAAAAAAAAAAAAAAAAAAAAAAAAAAAAAAAAAAAAAAAAAAAAAAAAAAAAAAAAAAAAAAAAAAAAAAAAAAAAAAAAAAAAAAAAAAAAAAAAAAAAAAAAAAAAAAAAAAAAAAAAAAAAAAAAAAAAAAAAAAAAAAAAAAAAAAAAAAAAAAAAAAAAAAAAAAAAAAAAAAAAAAAAAAAAAAAAAAAAAAAAAAAAAAAAAAAAAAAAAAAAAAAAAAAAAAAAAAAAAAAAAAAAAAAAAAAAAAAAAAAAAAAAAAAAAAAAAAAAAAAAAAAAAAAAAAAAAAAAAAAAAAAAAAAAAAAAAAAAAAAAAAAAAAAAAAAAAAAAAAAAAAAAAAAAAAAAAAAAAAAAAAAAAAAAAAAAAAAAAAAAAAAAAAAAAAAAAAAAAAAAAAAAAAAAAAAAAAAAAAAAAAAAAAAAAAAAAAAAAAAAAAAAAAAAAAAAAAAAAAAAAAAAAAAAAAAAAAAAAAAAAAAAAAAAAAAAAAAAAAAAAAAAAAAAAAAAAAAAAAAAAAAAAAAAAAAAAAAAAAAAAAAAAAAAAAAAAAAAAAAAAAAAAAAAAAAAAAAAAAAAAAAAAAAAAAAAAAAAAAAAAAAAAAAAAAAAAAAAAAAAAAAAAAAAAAAAAAAAAAAAAAAAAAAAAAAAAAAAAAAAAAAAAAAAAAAAAAAAAAAAAAAAAAAAAAAAAAAAAAAAAAAAAAAAAAAAAAAAAAAAAAAAAAAAAAAAAAAAAAAAAAAAAAAAAAAAAAAAAAAAAAAAAAAAAAAAAAAAAAAAAAAAAAAAAAAAAAAAAAAAAAAAAAAAAAAAAAAAAAAAAAAAAAAAAAAAAAAAAAAAAAAAAAAAAAAAAAAAAAAAAAAAAAAAAAAAAAAAAAAAAAAAAAAAAAAAAAAAAAAAAAAAAAAAAAAAAAAAAAAAAAAAAAAAAAAAAAAAAAAAAAAAAAAAAAAAAAAAAAAAAAAAAAAAAAAAAAAAAAAAAAAAAAAAAAAAAAAAAAAAAAAAAAAAAAAAAAAAAAAAAAAAAAAAAAAAAAAAAAAAAAAAAAAAAAAAAAAAAAAAAAAAAAAAAAAAAAAAAAAAAAAAAAAAAAAAAAAAAAAAAAAAAAAAAAAAAAAAAAAAAAAAAAAAAAAAAAAAAAAAAAAAAAAAAAAAAAAAAAAAAAAAAAAAAAAAAAAAAAAAAAAAAAAAAAAAAAAAAAAAAAAAAAAAAAAAAAAAAAAAAAAAAAAAAAAAAAAAAAAAAAAAAAAAAAAAAAAAAAAAAAAAAAAAAAAAAAAAAAAAAAAAAAAAAAAAAAAAAAAAAAAAAAAAAAAAAAAAAAAAAAAAAAAAAAAAAAAAAAAAAAAAAAAAAAAAAAAAAAAAAAAAAAAAAAAAAAAAAAAAAAAAAAAAAAAAAAAAAAAAAAAAAAAAAAAAAAAAAAAAAAAAAAAAAAAAAAAAAAAAAAAAAAAAAAAAAAAAAAAAAAAAAAAAAAAAAAAAAAAAAAAAAAAAAAAAAAAAAAAAAAAAAAAAAAAAAAAAAAAAAAAAAAAAAAAAAAAAAAAAAAAAAAAAAAAAAAAAAAAAAAAAAAAAAAAAAAA\",\"dtype\":\"float64\",\"shape\":[321]},\"y\":{\"__ndarray__\":\"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\",\"dtype\":\"float64\",\"shape\":[321]}},\"selected\":null,\"selection_policy\":null},\"id\":\"f2952610-6a24-4e86-8a88-7200d7f10cb0\",\"type\":\"ColumnDataSource\"},{\"attributes\":{\"dimension\":1,\"plot\":{\"id\":\"86b880e5-e811-4fca-bcea-f341d34b8cd8\",\"subtype\":\"Figure\",\"type\":\"Plot\"},\"ticker\":{\"id\":\"d8316ba6-fb8d-4d08-98bd-6c3d420bbf4f\",\"type\":\"BasicTicker\"}},\"id\":\"f6b446e7-8616-4d51-8a1c-171b8e5c26f5\",\"type\":\"Grid\"},{\"attributes\":{\"below\":[{\"id\":\"52fd7c7b-0b25-472d-bee7-cfbf3289e375\",\"type\":\"LinearAxis\"}],\"left\":[{\"id\":\"1bf8905d-29f9-43fb-9c16-4158c9ecf4a0\",\"type\":\"LinearAxis\"}],\"renderers\":[{\"id\":\"52fd7c7b-0b25-472d-bee7-cfbf3289e375\",\"type\":\"LinearAxis\"},{\"id\":\"0e7c7e63-3e4c-4673-92c2-036712a7206e\",\"type\":\"Grid\"},{\"id\":\"1bf8905d-29f9-43fb-9c16-4158c9ecf4a0\",\"type\":\"LinearAxis\"},{\"id\":\"f6b446e7-8616-4d51-8a1c-171b8e5c26f5\",\"type\":\"Grid\"},{\"id\":\"12aa6cfe-2a98-4253-9a6f-24db59c82843\",\"type\":\"BoxAnnotation\"},{\"id\":\"f4918a68-b41c-41d4-af8b-56a1b2c1c739\",\"type\":\"GlyphRenderer\"}],\"title\":{\"id\":\"c88690a2-5252-4eec-9239-a2b66454652e\",\"type\":\"Title\"},\"toolbar\":{\"id\":\"91d73351-97c3-4cd6-90a3-927e95d919fe\",\"type\":\"Toolbar\"},\"x_range\":{\"id\":\"c00ad664-7636-4c2e-b235-eb066d3027dd\",\"type\":\"DataRange1d\"},\"x_scale\":{\"id\":\"4a590ccb-8605-4e81-be15-f7b926d4a597\",\"type\":\"LinearScale\"},\"y_range\":{\"id\":\"cf72afdc-6605-4033-a340-c17e226bdbdc\",\"type\":\"DataRange1d\"},\"y_scale\":{\"id\":\"8f6b9165-a55e-43f4-983c-ed2ce669a17e\",\"type\":\"LinearScale\"}},\"id\":\"86b880e5-e811-4fca-bcea-f341d34b8cd8\",\"subtype\":\"Figure\",\"type\":\"Plot\"},{\"attributes\":{\"align\":\"center\",\"plot\":null,\"text\":\"Total hydraulic head\",\"text_font_size\":{\"value\":\"22px\"}},\"id\":\"c88690a2-5252-4eec-9239-a2b66454652e\",\"type\":\"Title\"},{\"attributes\":{\"overlay\":{\"id\":\"12aa6cfe-2a98-4253-9a6f-24db59c82843\",\"type\":\"BoxAnnotation\"}},\"id\":\"956b9880-5ecf-4d96-99fe-8068564f4723\",\"type\":\"BoxZoomTool\"},{\"attributes\":{},\"id\":\"ed621df1-4fb0-4efa-9553-882fafe6a025\",\"type\":\"ResetTool\"},{\"attributes\":{\"callback\":null},\"id\":\"c00ad664-7636-4c2e-b235-eb066d3027dd\",\"type\":\"DataRange1d\"},{\"attributes\":{},\"id\":\"657ac445-1057-4b3a-8567-930bd1acda32\",\"type\":\"BasicTickFormatter\"},{\"attributes\":{\"source\":{\"id\":\"f2952610-6a24-4e86-8a88-7200d7f10cb0\",\"type\":\"ColumnDataSource\"}},\"id\":\"e894fe6c-38f0-443c-a05f-87dce1a141fd\",\"type\":\"CDSView\"},{\"attributes\":{\"fill_color\":{\"value\":\"blue\"},\"line_color\":{\"value\":\"blue\"},\"x\":{\"field\":\"x\"},\"y\":{\"field\":\"y\"}},\"id\":\"33ed1975-a11f-4518-81d0-52a9171a8374\",\"type\":\"Circle\"},{\"attributes\":{},\"id\":\"3c17240e-8d31-4227-9ba9-ad9225723042\",\"type\":\"WheelZoomTool\"},{\"attributes\":{\"fill_alpha\":{\"value\":0.1},\"fill_color\":{\"value\":\"#1f77b4\"},\"line_alpha\":{\"value\":0.1},\"line_color\":{\"value\":\"#1f77b4\"},\"x\":{\"field\":\"x\"},\"y\":{\"field\":\"y\"}},\"id\":\"334f314d-3b5e-4551-a02b-7ecc55773bf6\",\"type\":\"Circle\"},{\"attributes\":{\"active_drag\":\"auto\",\"active_inspect\":\"auto\",\"active_scroll\":\"auto\",\"active_tap\":\"auto\",\"tools\":[{\"id\":\"fe65901c-6ee4-435e-aba1-3d01a6c4f5d6\",\"type\":\"HoverTool\"},{\"id\":\"0ab7faf7-2d75-4882-867c-c5087263f853\",\"type\":\"PanTool\"},{\"id\":\"3c17240e-8d31-4227-9ba9-ad9225723042\",\"type\":\"WheelZoomTool\"},{\"id\":\"956b9880-5ecf-4d96-99fe-8068564f4723\",\"type\":\"BoxZoomTool\"},{\"id\":\"ed621df1-4fb0-4efa-9553-882fafe6a025\",\"type\":\"ResetTool\"}]},\"id\":\"91d73351-97c3-4cd6-90a3-927e95d919fe\",\"type\":\"Toolbar\"},{\"attributes\":{\"axis_label\":\"\\u03c8 [m]\",\"axis_label_text_font_size\":{\"value\":\"18px\"},\"formatter\":{\"id\":\"ae9d5595-7369-40fb-adf1-bb96f4fd6ba3\",\"type\":\"BasicTickFormatter\"},\"plot\":{\"id\":\"86b880e5-e811-4fca-bcea-f341d34b8cd8\",\"subtype\":\"Figure\",\"type\":\"Plot\"},\"ticker\":{\"id\":\"cab6374f-9f1c-493f-8ee1-59f4b121cd05\",\"type\":\"BasicTicker\"}},\"id\":\"52fd7c7b-0b25-472d-bee7-cfbf3289e375\",\"type\":\"LinearAxis\"},{\"attributes\":{},\"id\":\"cab6374f-9f1c-493f-8ee1-59f4b121cd05\",\"type\":\"BasicTicker\"},{\"attributes\":{\"callback\":null,\"tooltips\":[[\"(x,y)\",\"($x, $y)\"]]},\"id\":\"fe65901c-6ee4-435e-aba1-3d01a6c4f5d6\",\"type\":\"HoverTool\"},{\"attributes\":{\"axis_label\":\"\\u03b7 [m]\",\"axis_label_text_font_size\":{\"value\":\"18px\"},\"formatter\":{\"id\":\"657ac445-1057-4b3a-8567-930bd1acda32\",\"type\":\"BasicTickFormatter\"},\"plot\":{\"id\":\"86b880e5-e811-4fca-bcea-f341d34b8cd8\",\"subtype\":\"Figure\",\"type\":\"Plot\"},\"ticker\":{\"id\":\"d8316ba6-fb8d-4d08-98bd-6c3d420bbf4f\",\"type\":\"BasicTicker\"}},\"id\":\"1bf8905d-29f9-43fb-9c16-4158c9ecf4a0\",\"type\":\"LinearAxis\"},{\"attributes\":{},\"id\":\"4a590ccb-8605-4e81-be15-f7b926d4a597\",\"type\":\"LinearScale\"},{\"attributes\":{},\"id\":\"ae9d5595-7369-40fb-adf1-bb96f4fd6ba3\",\"type\":\"BasicTickFormatter\"},{\"attributes\":{\"callback\":null},\"id\":\"cf72afdc-6605-4033-a340-c17e226bdbdc\",\"type\":\"DataRange1d\"},{\"attributes\":{\"plot\":{\"id\":\"86b880e5-e811-4fca-bcea-f341d34b8cd8\",\"subtype\":\"Figure\",\"type\":\"Plot\"},\"ticker\":{\"id\":\"cab6374f-9f1c-493f-8ee1-59f4b121cd05\",\"type\":\"BasicTicker\"}},\"id\":\"0e7c7e63-3e4c-4673-92c2-036712a7206e\",\"type\":\"Grid\"},{\"attributes\":{},\"id\":\"8f6b9165-a55e-43f4-983c-ed2ce669a17e\",\"type\":\"LinearScale\"},{\"attributes\":{},\"id\":\"d8316ba6-fb8d-4d08-98bd-6c3d420bbf4f\",\"type\":\"BasicTicker\"},{\"attributes\":{\"data_source\":{\"id\":\"f2952610-6a24-4e86-8a88-7200d7f10cb0\",\"type\":\"ColumnDataSource\"},\"glyph\":{\"id\":\"33ed1975-a11f-4518-81d0-52a9171a8374\",\"type\":\"Circle\"},\"hover_glyph\":null,\"muted_glyph\":null,\"nonselection_glyph\":{\"id\":\"334f314d-3b5e-4551-a02b-7ecc55773bf6\",\"type\":\"Circle\"},\"selection_glyph\":null,\"view\":{\"id\":\"e894fe6c-38f0-443c-a05f-87dce1a141fd\",\"type\":\"CDSView\"}},\"id\":\"f4918a68-b41c-41d4-af8b-56a1b2c1c739\",\"type\":\"GlyphRenderer\"}],\"root_ids\":[\"86b880e5-e811-4fca-bcea-f341d34b8cd8\"]},\"title\":\"Bokeh Application\",\"version\":\"0.12.15\"}};\n",
       "  var render_items = [{\"docid\":\"fa717284-1581-41da-9f08-94baec4d2a45\",\"elementid\":\"b2c00f5c-f505-458b-99c4-49a2ec33201b\",\"modelid\":\"86b880e5-e811-4fca-bcea-f341d34b8cd8\"}];\n",
       "  root.Bokeh.embed.embed_items_notebook(docs_json, render_items);\n",
       "\n",
       "  }\n",
       "  if (root.Bokeh !== undefined) {\n",
       "    embed_document(root);\n",
       "  } else {\n",
       "    var attempts = 0;\n",
       "    var timer = setInterval(function(root) {\n",
       "      if (root.Bokeh !== undefined) {\n",
       "        embed_document(root);\n",
       "        clearInterval(timer);\n",
       "      }\n",
       "      attempts++;\n",
       "      if (attempts > 100) {\n",
       "        console.log(\"Bokeh: ERROR: Unable to run BokehJS code because BokehJS library is missing\")\n",
       "        clearInterval(timer);\n",
       "      }\n",
       "    }, 10, root)\n",
       "  }\n",
       "})(window);"
      ],
      "application/vnd.bokehjs_exec.v0+json": ""
     },
     "metadata": {
      "application/vnd.bokehjs_exec.v0+json": {
       "id": "86b880e5-e811-4fca-bcea-f341d34b8cd8"
      }
     },
     "output_type": "display_data"
    }
   ],
   "source": [
    "\n",
    "\n",
    "p1 = figure(plot_width=600, plot_height=600,tools=['pan,wheel_zoom,box_zoom,reset',hover],\n",
    "           title=\"Mouse over the dots\")\n",
    "p1.scatter(psiIC+z,eta, color=\"blue\")\n",
    "\n",
    "p1.xaxis.axis_label = '\\u03C8 [m]'\n",
    "p1.xaxis.axis_label_text_font_size = str(labelSize) + \"px\"\n",
    "\n",
    "p1.yaxis.axis_label = '\\u03b7 [m]'\n",
    "p1.yaxis.axis_label_text_font_size = str(labelSize) + \"px\"\n",
    "p1.title.text = 'Total hydraulic head'\n",
    "p1.title.align = \"center\"\n",
    "p1.title.text_font_size = str(titleSize) + \"px\"\n",
    "\n",
    "\n",
    "show(p1)"
   ]
  },
  {
   "cell_type": "markdown",
   "metadata": {},
   "source": [
    "#### Constant pressure head distribution for a given psi at the bottom\n"
   ]
  },
  {
   "cell_type": "code",
   "execution_count": 12,
   "metadata": {},
   "outputs": [],
   "source": [
    "for i in range(0,np.size(eta)-1):\n",
    "    psiIC = np.append(psiIC,data['psi'][np.size(data['psi'])-1])\n",
    "\n",
    "psiIC = np.append(psiIC,data['psi'][0] )"
   ]
  },
  {
   "cell_type": "code",
   "execution_count": 13,
   "metadata": {},
   "outputs": [
    {
     "data": {
      "text/html": [
       "\n",
       "<div class=\"bk-root\">\n",
       "    <div class=\"bk-plotdiv\" id=\"70b62836-7220-49b8-bb8e-9f926a32f608\"></div>\n",
       "</div>"
      ]
     },
     "metadata": {},
     "output_type": "display_data"
    },
    {
     "data": {
      "application/javascript": [
       "(function(root) {\n",
       "  function embed_document(root) {\n",
       "    \n",
       "  var docs_json = {\"fb895341-2823-4b52-8825-ed4f690345d6\":{\"roots\":{\"references\":[{\"attributes\":{\"data_source\":{\"id\":\"fb859fa0-466f-4621-b4fd-cbcefde1ce57\",\"type\":\"ColumnDataSource\"},\"glyph\":{\"id\":\"cff32cbf-3eb9-4769-b80d-26842b0eecc4\",\"type\":\"Circle\"},\"hover_glyph\":null,\"muted_glyph\":null,\"nonselection_glyph\":{\"id\":\"54860402-54ca-45d9-8dfd-bd34e6813070\",\"type\":\"Circle\"},\"selection_glyph\":null,\"view\":{\"id\":\"70ff1e3c-17fa-4482-82df-d2a2878b5075\",\"type\":\"CDSView\"}},\"id\":\"5d918d9d-db11-4a62-b3e8-14ba21e29fd0\",\"type\":\"GlyphRenderer\"},{\"attributes\":{\"fill_alpha\":{\"value\":0.1},\"fill_color\":{\"value\":\"#1f77b4\"},\"line_alpha\":{\"value\":0.1},\"line_color\":{\"value\":\"#1f77b4\"},\"x\":{\"field\":\"x\"},\"y\":{\"field\":\"y\"}},\"id\":\"54860402-54ca-45d9-8dfd-bd34e6813070\",\"type\":\"Circle\"},{\"attributes\":{\"below\":[{\"id\":\"a9c9f1b9-a8cd-4ab5-b8de-433055166e71\",\"type\":\"LinearAxis\"}],\"left\":[{\"id\":\"ac8e3209-665b-4dad-8e84-b998609cc1ab\",\"type\":\"LinearAxis\"}],\"renderers\":[{\"id\":\"a9c9f1b9-a8cd-4ab5-b8de-433055166e71\",\"type\":\"LinearAxis\"},{\"id\":\"83d4032b-7678-4205-8264-8785579d35dc\",\"type\":\"Grid\"},{\"id\":\"ac8e3209-665b-4dad-8e84-b998609cc1ab\",\"type\":\"LinearAxis\"},{\"id\":\"f4203a70-a141-425c-9a86-ff813def792e\",\"type\":\"Grid\"},{\"id\":\"b6fc1bd3-6a40-4c67-80ab-9cc1d3630269\",\"type\":\"BoxAnnotation\"},{\"id\":\"5d918d9d-db11-4a62-b3e8-14ba21e29fd0\",\"type\":\"GlyphRenderer\"}],\"title\":{\"id\":\"364be69f-606d-4609-80f3-349a9d669c30\",\"type\":\"Title\"},\"toolbar\":{\"id\":\"41214825-cd1c-433d-8da8-fdde6594b47e\",\"type\":\"Toolbar\"},\"x_range\":{\"id\":\"04c91c15-32a3-4105-8b48-6104cb5e7f7c\",\"type\":\"DataRange1d\"},\"x_scale\":{\"id\":\"d405260e-8f4d-4a93-bb96-c8b65dfe3ee0\",\"type\":\"LinearScale\"},\"y_range\":{\"id\":\"909851dd-cf50-4758-8ebe-06c06c58016c\",\"type\":\"DataRange1d\"},\"y_scale\":{\"id\":\"93b755e7-bc7e-4301-b6c6-6f5e1399aa2e\",\"type\":\"LinearScale\"}},\"id\":\"2596eb8c-9836-4cbd-bc56-79363a4743ab\",\"subtype\":\"Figure\",\"type\":\"Plot\"},{\"attributes\":{\"dimension\":1,\"plot\":{\"id\":\"2596eb8c-9836-4cbd-bc56-79363a4743ab\",\"subtype\":\"Figure\",\"type\":\"Plot\"},\"ticker\":{\"id\":\"0aed9ce2-1d25-42ee-8851-7bd908c5fab9\",\"type\":\"BasicTicker\"}},\"id\":\"f4203a70-a141-425c-9a86-ff813def792e\",\"type\":\"Grid\"},{\"attributes\":{},\"id\":\"f666295d-d5a4-4d49-9e7d-257ee1d7bdbb\",\"type\":\"ResetTool\"},{\"attributes\":{\"align\":\"center\",\"plot\":null,\"text\":\"Initial condition for \\u03c8: constant\",\"text_font_size\":{\"value\":\"22px\"}},\"id\":\"364be69f-606d-4609-80f3-349a9d669c30\",\"type\":\"Title\"},{\"attributes\":{},\"id\":\"0aed9ce2-1d25-42ee-8851-7bd908c5fab9\",\"type\":\"BasicTicker\"},{\"attributes\":{\"plot\":{\"id\":\"2596eb8c-9836-4cbd-bc56-79363a4743ab\",\"subtype\":\"Figure\",\"type\":\"Plot\"},\"ticker\":{\"id\":\"10852831-f2fc-40ec-bf56-ce59f240b735\",\"type\":\"BasicTicker\"}},\"id\":\"83d4032b-7678-4205-8264-8785579d35dc\",\"type\":\"Grid\"},{\"attributes\":{\"callback\":null},\"id\":\"04c91c15-32a3-4105-8b48-6104cb5e7f7c\",\"type\":\"DataRange1d\"},{\"attributes\":{\"axis_label\":\"\\u03b7 [m]\",\"axis_label_text_font_size\":{\"value\":\"18px\"},\"formatter\":{\"id\":\"a3a424fb-eb3f-47ae-9ac5-9b6fdf412a17\",\"type\":\"BasicTickFormatter\"},\"plot\":{\"id\":\"2596eb8c-9836-4cbd-bc56-79363a4743ab\",\"subtype\":\"Figure\",\"type\":\"Plot\"},\"ticker\":{\"id\":\"0aed9ce2-1d25-42ee-8851-7bd908c5fab9\",\"type\":\"BasicTicker\"}},\"id\":\"ac8e3209-665b-4dad-8e84-b998609cc1ab\",\"type\":\"LinearAxis\"},{\"attributes\":{\"active_drag\":\"auto\",\"active_inspect\":\"auto\",\"active_scroll\":\"auto\",\"active_tap\":\"auto\",\"tools\":[{\"id\":\"67cd0b07-dda9-4225-a6b9-cfc8d7e5aaba\",\"type\":\"HoverTool\"},{\"id\":\"0b5fc038-4531-4c06-83f4-478073199df6\",\"type\":\"PanTool\"},{\"id\":\"31376893-2bed-41c3-a9d4-8904f4381c30\",\"type\":\"WheelZoomTool\"},{\"id\":\"87e14c38-2b49-4b61-afa1-83a28818d447\",\"type\":\"BoxZoomTool\"},{\"id\":\"f666295d-d5a4-4d49-9e7d-257ee1d7bdbb\",\"type\":\"ResetTool\"}]},\"id\":\"41214825-cd1c-433d-8da8-fdde6594b47e\",\"type\":\"Toolbar\"},{\"attributes\":{},\"id\":\"10852831-f2fc-40ec-bf56-ce59f240b735\",\"type\":\"BasicTicker\"},{\"attributes\":{\"callback\":null},\"id\":\"909851dd-cf50-4758-8ebe-06c06c58016c\",\"type\":\"DataRange1d\"},{\"attributes\":{\"fill_color\":{\"value\":\"blue\"},\"line_color\":{\"value\":\"blue\"},\"x\":{\"field\":\"x\"},\"y\":{\"field\":\"y\"}},\"id\":\"cff32cbf-3eb9-4769-b80d-26842b0eecc4\",\"type\":\"Circle\"},{\"attributes\":{\"bottom_units\":\"screen\",\"fill_alpha\":{\"value\":0.5},\"fill_color\":{\"value\":\"lightgrey\"},\"left_units\":\"screen\",\"level\":\"overlay\",\"line_alpha\":{\"value\":1.0},\"line_color\":{\"value\":\"black\"},\"line_dash\":[4,4],\"line_width\":{\"value\":2},\"plot\":null,\"render_mode\":\"css\",\"right_units\":\"screen\",\"top_units\":\"screen\"},\"id\":\"b6fc1bd3-6a40-4c67-80ab-9cc1d3630269\",\"type\":\"BoxAnnotation\"},{\"attributes\":{},\"id\":\"d405260e-8f4d-4a93-bb96-c8b65dfe3ee0\",\"type\":\"LinearScale\"},{\"attributes\":{},\"id\":\"93b755e7-bc7e-4301-b6c6-6f5e1399aa2e\",\"type\":\"LinearScale\"},{\"attributes\":{\"axis_label\":\"\\u03c8 [m]\",\"axis_label_text_font_size\":{\"value\":\"18px\"},\"formatter\":{\"id\":\"806b0aff-3e20-4b29-a481-dcc3a86911c9\",\"type\":\"BasicTickFormatter\"},\"plot\":{\"id\":\"2596eb8c-9836-4cbd-bc56-79363a4743ab\",\"subtype\":\"Figure\",\"type\":\"Plot\"},\"ticker\":{\"id\":\"10852831-f2fc-40ec-bf56-ce59f240b735\",\"type\":\"BasicTicker\"}},\"id\":\"a9c9f1b9-a8cd-4ab5-b8de-433055166e71\",\"type\":\"LinearAxis\"},{\"attributes\":{\"callback\":null,\"tooltips\":[[\"(x,y)\",\"($x, $y)\"]]},\"id\":\"67cd0b07-dda9-4225-a6b9-cfc8d7e5aaba\",\"type\":\"HoverTool\"},{\"attributes\":{},\"id\":\"0b5fc038-4531-4c06-83f4-478073199df6\",\"type\":\"PanTool\"},{\"attributes\":{},\"id\":\"806b0aff-3e20-4b29-a481-dcc3a86911c9\",\"type\":\"BasicTickFormatter\"},{\"attributes\":{\"callback\":null,\"column_names\":[\"x\",\"y\"],\"data\":{\"x\":{\"__ndarray__\":\"AAAAAAAAScAAAAAAAABJwAAAAAAAAEnAAAAAAAAAScAAAAAAAABJwAAAAAAAAEnAAAAAAAAAScAAAAAAAABJwAAAAAAAAEnAAAAAAAAAScAAAAAAAABJwAAAAAAAAEnAAAAAAAAAScAAAAAAAABJwAAAAAAAAEnAAAAAAAAAScAAAAAAAABJwAAAAAAAAEnAAAAAAAAAScAAAAAAAABJwAAAAAAAAEnAAAAAAAAAScAAAAAAAABJwAAAAAAAAEnAAAAAAAAAScAAAAAAAABJwAAAAAAAAEnAAAAAAAAAScAAAAAAAABJwAAAAAAAAEnAAAAAAAAAScAAAAAAAABJwAAAAAAAAEnAAAAAAAAAScAAAAAAAABJwAAAAAAAAEnAAAAAAAAAScAAAAAAAABJwAAAAAAAAEnAAAAAAAAAScAAAAAAAABJwAAAAAAAAEnAAAAAAAAAScAAAAAAAABJwAAAAAAAAEnAAAAAAAAAScAAAAAAAABJwAAAAAAAAEnAAAAAAAAAScAAAAAAAABJwAAAAAAAAEnAAAAAAAAAScAAAAAAAABJwAAAAAAAAEnAAAAAAAAAScAAAAAAAABJwAAAAAAAAEnAAAAAAAAAScAAAAAAAABJwAAAAAAAAEnAAAAAAAAAScAAAAAAAABJwAAAAAAAAEnAAAAAAAAAScAAAAAAAABJwAAAAAAAAEnAAAAAAAAAScAAAAAAAABJwAAAAAAAAEnAAAAAAAAAScAAAAAAAABJwAAAAAAAAEnAAAAAAAAAScAAAAAAAABJwAAAAAAAAEnAAAAAAAAAScAAAAAAAABJwAAAAAAAAEnAAAAAAAAAScAAAAAAAABJwAAAAAAAAEnAAAAAAAAAScAAAAAAAABJwAAAAAAAAEnAAAAAAAAAScAAAAAAAABJwAAAAAAAAEnAAAAAAAAAScAAAAAAAABJwAAAAAAAAEnAAAAAAAAAScAAAAAAAABJwAAAAAAAAEnAAAAAAAAAScAAAAAAAABJwAAAAAAAAEnAAAAAAAAAScAAAAAAAABJwAAAAAAAAEnAAAAAAAAAScAAAAAAAABJwAAAAAAAAEnAAAAAAAAAScAAAAAAAABJwAAAAAAAAEnAAAAAAAAAScAAAAAAAABJwAAAAAAAAEnAAAAAAAAAScAAAAAAAABJwAAAAAAAAEnAAAAAAAAAScAAAAAAAABJwAAAAAAAAEnAAAAAAAAAScAAAAAAAABJwAAAAAAAAEnAAAAAAAAAScAAAAAAAABJwAAAAAAAAEnAAAAAAAAAScAAAAAAAABJwAAAAAAAAEnAAAAAAAAAScAAAAAAAABJwAAAAAAAAEnAAAAAAAAAScAAAAAAAABJwAAAAAAAAEnAAAAAAAAAScAAAAAAAABJwAAAAAAAAEnAAAAAAAAAScAAAAAAAABJwAAAAAAAAEnAAAAAAAAAScAAAAAAAABJwAAAAAAAAEnAAAAAAAAAScAAAAAAAABJwAAAAAAAAEnAAAAAAAAAScAAAAAAAABJwAAAAAAAAEnAAAAAAAAAScAAAAAAAABJwAAAAAAAAEnAAAAAAAAAScAAAAAAAABJwAAAAAAAAEnAAAAAAAAAScAAAAAAAABJwAAAAAAAAEnAAAAAAAAAScAAAAAAAABJwAAAAAAAAEnAAAAAAAAAScAAAAAAAABJwAAAAAAAAEnAAAAAAAAAScAAAAAAAABJwAAAAAAAAEnAAAAAAAAAScAAAAAAAABJwAAAAAAAAEnAAAAAAAAAScAAAAAAAABJwAAAAAAAAEnAAAAAAAAAScAAAAAAAABJwAAAAAAAAEnAAAAAAAAAScAAAAAAAABJwAAAAAAAAEnAAAAAAAAAScAAAAAAAABJwAAAAAAAAEnAAAAAAAAAScAAAAAAAABJwAAAAAAAAEnAAAAAAAAAScAAAAAAAABJwAAAAAAAAEnAAAAAAAAAScAAAAAAAABJwAAAAAAAAEnAAAAAAAAAScAAAAAAAABJwAAAAAAAAEnAAAAAAAAAScAAAAAAAABJwAAAAAAAAEnAAAAAAAAAScAAAAAAAABJwAAAAAAAAEnAAAAAAAAAScAAAAAAAABJwAAAAAAAAEnAAAAAAAAAScAAAAAAAABJwAAAAAAAAEnAAAAAAAAAScAAAAAAAABJwAAAAAAAAEnAAAAAAAAAScAAAAAAAABJwAAAAAAAAEnAAAAAAAAAScAAAAAAAABJwAAAAAAAAEnAAAAAAAAAScAAAAAAAABJwAAAAAAAAEnAAAAAAAAAScAAAAAAAABJwAAAAAAAAEnAAAAAAAAAScAAAAAAAABJwAAAAAAAAEnAAAAAAAAAScAAAAAAAABJwAAAAAAAAEnAAAAAAAAAScAAAAAAAABJwAAAAAAAAEnAAAAAAAAAScAAAAAAAABJwAAAAAAAAEnAAAAAAAAAScAAAAAAAABJwAAAAAAAAEnAAAAAAAAAScAAAAAAAABJwAAAAAAAAEnAAAAAAAAAScAAAAAAAABJwAAAAAAAAEnAAAAAAAAAScAAAAAAAABJwAAAAAAAAEnAAAAAAAAAScAAAAAAAABJwAAAAAAAAEnAAAAAAAAAScAAAAAAAABJwAAAAAAAAEnAAAAAAAAAScAAAAAAAABJwAAAAAAAAEnAAAAAAAAAScAAAAAAAABJwAAAAAAAAEnAAAAAAAAAScAAAAAAAABJwAAAAAAAAEnAAAAAAAAAScAAAAAAAABJwAAAAAAAAEnAAAAAAAAAScAAAAAAAABJwAAAAAAAAEnAAAAAAAAAScAAAAAAAABJwAAAAAAAAEnAAAAAAAAAScAAAAAAAABJwAAAAAAAAEnAAAAAAAAAScAAAAAAAABJwAAAAAAAAEnAAAAAAAAAScAAAAAAAABJwAAAAAAAAEnAAAAAAAAAScAAAAAAAABJwAAAAAAAAEnAAAAAAAAAScAAAAAAAABJwAAAAAAAAEnAAAAAAAAAScAAAAAAAABJwAAAAAAAAEnAAAAAAAAAScAAAAAAAABJwAAAAAAAAEnAAAAAAAAAScAAAAAAAABJwAAAAAAAAEnAAAAAAAAAScAAAAAAAABJwAAAAAAAAEnAAAAAAAAAScAAAAAAAABJwAAAAAAAAEnAAAAAAAAAScAAAAAAAABJwAAAAAAAAEnAAAAAAAAAScAAAAAAAABJwAAAAAAAAEnAAAAAAAAAScAAAAAAAABJwAAAAAAAAEnAAAAAAAAAScAAAAAAAABJwAAAAAAAAEnAAAAAAAAAScAAAAAAAABJwAAAAAAAAEnAAAAAAAAAScAAAAAAAABJwAAAAAAAAEnAAAAAAAAAScAAAAAAAABJwAAAAAAAAEnAAAAAAAAAScAAAAAAAABJwAAAAAAAAEnAAAAAAAAAScAAAAAAAABJwAAAAAAAAEnA\",\"dtype\":\"float64\",\"shape\":[321]},\"y\":{\"__ndarray__\":\"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\",\"dtype\":\"float64\",\"shape\":[321]}},\"selected\":null,\"selection_policy\":null},\"id\":\"fb859fa0-466f-4621-b4fd-cbcefde1ce57\",\"type\":\"ColumnDataSource\"},{\"attributes\":{},\"id\":\"31376893-2bed-41c3-a9d4-8904f4381c30\",\"type\":\"WheelZoomTool\"},{\"attributes\":{\"overlay\":{\"id\":\"b6fc1bd3-6a40-4c67-80ab-9cc1d3630269\",\"type\":\"BoxAnnotation\"}},\"id\":\"87e14c38-2b49-4b61-afa1-83a28818d447\",\"type\":\"BoxZoomTool\"},{\"attributes\":{\"source\":{\"id\":\"fb859fa0-466f-4621-b4fd-cbcefde1ce57\",\"type\":\"ColumnDataSource\"}},\"id\":\"70ff1e3c-17fa-4482-82df-d2a2878b5075\",\"type\":\"CDSView\"},{\"attributes\":{},\"id\":\"a3a424fb-eb3f-47ae-9ac5-9b6fdf412a17\",\"type\":\"BasicTickFormatter\"}],\"root_ids\":[\"2596eb8c-9836-4cbd-bc56-79363a4743ab\"]},\"title\":\"Bokeh Application\",\"version\":\"0.12.15\"}};\n",
       "  var render_items = [{\"docid\":\"fb895341-2823-4b52-8825-ed4f690345d6\",\"elementid\":\"70b62836-7220-49b8-bb8e-9f926a32f608\",\"modelid\":\"2596eb8c-9836-4cbd-bc56-79363a4743ab\"}];\n",
       "  root.Bokeh.embed.embed_items_notebook(docs_json, render_items);\n",
       "\n",
       "  }\n",
       "  if (root.Bokeh !== undefined) {\n",
       "    embed_document(root);\n",
       "  } else {\n",
       "    var attempts = 0;\n",
       "    var timer = setInterval(function(root) {\n",
       "      if (root.Bokeh !== undefined) {\n",
       "        embed_document(root);\n",
       "        clearInterval(timer);\n",
       "      }\n",
       "      attempts++;\n",
       "      if (attempts > 100) {\n",
       "        console.log(\"Bokeh: ERROR: Unable to run BokehJS code because BokehJS library is missing\")\n",
       "        clearInterval(timer);\n",
       "      }\n",
       "    }, 10, root)\n",
       "  }\n",
       "})(window);"
      ],
      "application/vnd.bokehjs_exec.v0+json": ""
     },
     "metadata": {
      "application/vnd.bokehjs_exec.v0+json": {
       "id": "2596eb8c-9836-4cbd-bc56-79363a4743ab"
      }
     },
     "output_type": "display_data"
    }
   ],
   "source": [
    "\n",
    "p1 = figure(plot_width=600, plot_height=600,tools=['pan,wheel_zoom,box_zoom,reset',hover],\n",
    "           title=\"Mouse over the dots\")\n",
    "p1.scatter(psiIC,eta, color=\"blue\")\n",
    "\n",
    "p1.xaxis.axis_label = '\\u03C8 [m]'\n",
    "p1.xaxis.axis_label_text_font_size = str(labelSize) + \"px\"\n",
    "\n",
    "p1.yaxis.axis_label = '\\u03b7 [m]'\n",
    "p1.yaxis.axis_label_text_font_size = str(labelSize) + \"px\"\n",
    "p1.title.text = 'Initial condition for \\u03C8: constant'\n",
    "p1.title.align = \"center\"\n",
    "p1.title.text_font_size = str(titleSize) + \"px\"\n",
    "\n",
    "\n",
    "show(p1)"
   ]
  },
  {
   "cell_type": "markdown",
   "metadata": {},
   "source": [
    "#### Linear interpolation of measuraments points"
   ]
  },
  {
   "cell_type": "code",
   "execution_count": 49,
   "metadata": {},
   "outputs": [],
   "source": [
    "\n",
    "for i in range(np.size(coordMeasPoint)-1,-1,-1):\n",
    "    etaInterp = []\n",
    "    if i==np.size(coordMeasPoint)-1:\n",
    "        etaInterp = eta[0:eta.tolist().index(coordMeasPoint[i-1])]\n",
    "        etap = [coordMeasPoint[i],coordMeasPoint[i-1]]\n",
    "        fp = [psiMeas[i],psiMeas[i-1]]\n",
    "        psiIC = np.append(psiIC, np.interp(etaInterp,etap,fp) )\n",
    "        #for j in range(0,np.size(etaInterp)):\n",
    "        #    psiIC = np.append(psiIC,psiMeas[i]+(coordMeasPoint[i]-etaInterp[j]))\n",
    "    elif i== 0:\n",
    "        etaInterp = eta[eta.tolist().index(coordMeasPoint[i]):np.size(eta)-1]\n",
    "        etap = [coordMeasPoint[i],0]\n",
    "        #fp = [psiMeas[i],data['psi'][0]]\n",
    "        fp = [psiMeas[i],-z[np.size(z)-1]]\n",
    "        psiIC = np.append(psiIC, np.interp(etaInterp,etap,fp) )\n",
    "    else:\n",
    "        etaInterp = eta[eta.tolist().index(coordMeasPoint[i-1]):eta.index(coordMeasPoint[i])]\n",
    "        etap = [coordMeasPoint[i],coordMeasPoint[i-1]]\n",
    "        fp = [psiMeas[i],psiMeas[i-1]]\n",
    "        psiIC = np.append(psiIC, np.interp(etaInterp,etap,fp) )\n",
    "\n",
    "psiIC = np.append(psiIC,data['psi'][0] )\n",
    "\n",
    " "
   ]
  },
  {
   "cell_type": "code",
   "execution_count": 50,
   "metadata": {},
   "outputs": [
    {
     "data": {
      "text/html": [
       "\n",
       "<div class=\"bk-root\">\n",
       "    <div class=\"bk-plotdiv\" id=\"06580453-e8cb-4025-a32b-1bc57eb635f2\"></div>\n",
       "</div>"
      ]
     },
     "metadata": {},
     "output_type": "display_data"
    },
    {
     "data": {
      "application/javascript": [
       "(function(root) {\n",
       "  function embed_document(root) {\n",
       "    \n",
       "  var docs_json = {\"7c6e65c0-c05b-4a90-8eff-79e39859a6a7\":{\"roots\":{\"references\":[{\"attributes\":{\"axis_label\":\"\\u03c8 [m]\",\"axis_label_text_font_size\":{\"value\":\"18px\"},\"formatter\":{\"id\":\"73f7708f-79f1-4071-bb3e-a07f464c3c1b\",\"type\":\"BasicTickFormatter\"},\"plot\":{\"id\":\"6bfd5ac4-12a4-4c4d-92e1-c78098d5d7ac\",\"subtype\":\"Figure\",\"type\":\"Plot\"},\"ticker\":{\"id\":\"4eaa30a1-7111-4809-86f5-7ae734e0a625\",\"type\":\"BasicTicker\"}},\"id\":\"c9a017f8-92ad-4068-a341-fae30a81f572\",\"type\":\"LinearAxis\"},{\"attributes\":{},\"id\":\"8468f61c-bcc4-47e0-a547-dfd8cf3c9db6\",\"type\":\"ResetTool\"},{\"attributes\":{\"bottom_units\":\"screen\",\"fill_alpha\":{\"value\":0.5},\"fill_color\":{\"value\":\"lightgrey\"},\"left_units\":\"screen\",\"level\":\"overlay\",\"line_alpha\":{\"value\":1.0},\"line_color\":{\"value\":\"black\"},\"line_dash\":[4,4],\"line_width\":{\"value\":2},\"plot\":null,\"render_mode\":\"css\",\"right_units\":\"screen\",\"top_units\":\"screen\"},\"id\":\"12eaaa06-4052-4bed-a3b7-39fcde7a000f\",\"type\":\"BoxAnnotation\"},{\"attributes\":{},\"id\":\"4eaa30a1-7111-4809-86f5-7ae734e0a625\",\"type\":\"BasicTicker\"},{\"attributes\":{},\"id\":\"207ca761-d995-443b-802e-2a430baa6dc6\",\"type\":\"PanTool\"},{\"attributes\":{\"callback\":null},\"id\":\"279260ed-24b9-425f-ae4e-802adf7a06c8\",\"type\":\"DataRange1d\"},{\"attributes\":{\"dimension\":1,\"plot\":{\"id\":\"6bfd5ac4-12a4-4c4d-92e1-c78098d5d7ac\",\"subtype\":\"Figure\",\"type\":\"Plot\"},\"ticker\":{\"id\":\"a341f54f-2c46-4f96-ba03-666efd08e222\",\"type\":\"BasicTicker\"}},\"id\":\"bab7535e-d923-4e07-bc1a-429e263705f3\",\"type\":\"Grid\"},{\"attributes\":{\"callback\":null},\"id\":\"1a1b77b4-1446-4266-9718-4a80a9e78553\",\"type\":\"DataRange1d\"},{\"attributes\":{\"callback\":null,\"tooltips\":[[\"(x,y)\",\"($x, $y)\"]]},\"id\":\"c790c0b2-c340-4384-9dde-caf3bc3d8b9b\",\"type\":\"HoverTool\"},{\"attributes\":{\"plot\":{\"id\":\"6bfd5ac4-12a4-4c4d-92e1-c78098d5d7ac\",\"subtype\":\"Figure\",\"type\":\"Plot\"},\"ticker\":{\"id\":\"4eaa30a1-7111-4809-86f5-7ae734e0a625\",\"type\":\"BasicTicker\"}},\"id\":\"31fea9e3-73ed-4566-848d-c03cc6eafef3\",\"type\":\"Grid\"},{\"attributes\":{},\"id\":\"89a0df05-9e01-49c1-886f-a0a91c134e20\",\"type\":\"WheelZoomTool\"},{\"attributes\":{},\"id\":\"73f7708f-79f1-4071-bb3e-a07f464c3c1b\",\"type\":\"BasicTickFormatter\"},{\"attributes\":{},\"id\":\"8320bae6-2add-4efa-8f1e-51eeab3665b9\",\"type\":\"LinearScale\"},{\"attributes\":{\"data_source\":{\"id\":\"2bd7a4e2-237b-4332-a7ef-931217c324a9\",\"type\":\"ColumnDataSource\"},\"glyph\":{\"id\":\"0f068cea-a2f7-4bc8-8f73-3f3141de4613\",\"type\":\"Circle\"},\"hover_glyph\":null,\"muted_glyph\":null,\"nonselection_glyph\":{\"id\":\"12162509-de4e-4213-830b-882798669e22\",\"type\":\"Circle\"},\"selection_glyph\":null,\"view\":{\"id\":\"ffcd49b3-9282-4c6a-932f-7e2ec22339fe\",\"type\":\"CDSView\"}},\"id\":\"5656d209-1eb8-4d35-87d7-69bb755fa2e9\",\"type\":\"GlyphRenderer\"},{\"attributes\":{\"source\":{\"id\":\"2bd7a4e2-237b-4332-a7ef-931217c324a9\",\"type\":\"ColumnDataSource\"}},\"id\":\"ffcd49b3-9282-4c6a-932f-7e2ec22339fe\",\"type\":\"CDSView\"},{\"attributes\":{},\"id\":\"f40cf969-84d5-41fc-9d4f-b5357a99a7a5\",\"type\":\"LinearScale\"},{\"attributes\":{\"below\":[{\"id\":\"c9a017f8-92ad-4068-a341-fae30a81f572\",\"type\":\"LinearAxis\"}],\"left\":[{\"id\":\"8fd6d0c7-7446-4913-abd4-3d432de6cb6a\",\"type\":\"LinearAxis\"}],\"renderers\":[{\"id\":\"c9a017f8-92ad-4068-a341-fae30a81f572\",\"type\":\"LinearAxis\"},{\"id\":\"31fea9e3-73ed-4566-848d-c03cc6eafef3\",\"type\":\"Grid\"},{\"id\":\"8fd6d0c7-7446-4913-abd4-3d432de6cb6a\",\"type\":\"LinearAxis\"},{\"id\":\"bab7535e-d923-4e07-bc1a-429e263705f3\",\"type\":\"Grid\"},{\"id\":\"12eaaa06-4052-4bed-a3b7-39fcde7a000f\",\"type\":\"BoxAnnotation\"},{\"id\":\"5656d209-1eb8-4d35-87d7-69bb755fa2e9\",\"type\":\"GlyphRenderer\"}],\"title\":{\"id\":\"1840afe2-707b-4e6b-8ab6-ceebde7486c6\",\"type\":\"Title\"},\"toolbar\":{\"id\":\"6b9d954d-dc3a-4e5b-bb83-1ada971de2a5\",\"type\":\"Toolbar\"},\"x_range\":{\"id\":\"279260ed-24b9-425f-ae4e-802adf7a06c8\",\"type\":\"DataRange1d\"},\"x_scale\":{\"id\":\"8320bae6-2add-4efa-8f1e-51eeab3665b9\",\"type\":\"LinearScale\"},\"y_range\":{\"id\":\"1a1b77b4-1446-4266-9718-4a80a9e78553\",\"type\":\"DataRange1d\"},\"y_scale\":{\"id\":\"f40cf969-84d5-41fc-9d4f-b5357a99a7a5\",\"type\":\"LinearScale\"}},\"id\":\"6bfd5ac4-12a4-4c4d-92e1-c78098d5d7ac\",\"subtype\":\"Figure\",\"type\":\"Plot\"},{\"attributes\":{\"overlay\":{\"id\":\"12eaaa06-4052-4bed-a3b7-39fcde7a000f\",\"type\":\"BoxAnnotation\"}},\"id\":\"885209f0-59fd-41d4-adcb-16476ce75b14\",\"type\":\"BoxZoomTool\"},{\"attributes\":{\"callback\":null,\"column_names\":[\"x\",\"y\"],\"data\":{\"x\":{\"__ndarray__\":\"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\",\"dtype\":\"float64\",\"shape\":[640]},\"y\":{\"__ndarray__\":\"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\",\"dtype\":\"float64\",\"shape\":[640]}},\"selected\":null,\"selection_policy\":null},\"id\":\"2bd7a4e2-237b-4332-a7ef-931217c324a9\",\"type\":\"ColumnDataSource\"},{\"attributes\":{\"fill_alpha\":{\"value\":0.1},\"fill_color\":{\"value\":\"#1f77b4\"},\"line_alpha\":{\"value\":0.1},\"line_color\":{\"value\":\"#1f77b4\"},\"x\":{\"field\":\"x\"},\"y\":{\"field\":\"y\"}},\"id\":\"12162509-de4e-4213-830b-882798669e22\",\"type\":\"Circle\"},{\"attributes\":{\"axis_label\":\"\\u03b7 [m]\",\"axis_label_text_font_size\":{\"value\":\"18px\"},\"formatter\":{\"id\":\"6118a37e-75cf-43fc-8b16-4b6955da810d\",\"type\":\"BasicTickFormatter\"},\"plot\":{\"id\":\"6bfd5ac4-12a4-4c4d-92e1-c78098d5d7ac\",\"subtype\":\"Figure\",\"type\":\"Plot\"},\"ticker\":{\"id\":\"a341f54f-2c46-4f96-ba03-666efd08e222\",\"type\":\"BasicTicker\"}},\"id\":\"8fd6d0c7-7446-4913-abd4-3d432de6cb6a\",\"type\":\"LinearAxis\"},{\"attributes\":{\"align\":\"center\",\"plot\":null,\"text\":\"Initial condition for \\u03c8:\\n interpolated from measuraments\",\"text_font_size\":{\"value\":\"22px\"}},\"id\":\"1840afe2-707b-4e6b-8ab6-ceebde7486c6\",\"type\":\"Title\"},{\"attributes\":{},\"id\":\"a341f54f-2c46-4f96-ba03-666efd08e222\",\"type\":\"BasicTicker\"},{\"attributes\":{\"active_drag\":\"auto\",\"active_inspect\":\"auto\",\"active_scroll\":\"auto\",\"active_tap\":\"auto\",\"tools\":[{\"id\":\"c790c0b2-c340-4384-9dde-caf3bc3d8b9b\",\"type\":\"HoverTool\"},{\"id\":\"207ca761-d995-443b-802e-2a430baa6dc6\",\"type\":\"PanTool\"},{\"id\":\"89a0df05-9e01-49c1-886f-a0a91c134e20\",\"type\":\"WheelZoomTool\"},{\"id\":\"885209f0-59fd-41d4-adcb-16476ce75b14\",\"type\":\"BoxZoomTool\"},{\"id\":\"8468f61c-bcc4-47e0-a547-dfd8cf3c9db6\",\"type\":\"ResetTool\"}]},\"id\":\"6b9d954d-dc3a-4e5b-bb83-1ada971de2a5\",\"type\":\"Toolbar\"},{\"attributes\":{\"fill_color\":{\"value\":\"blue\"},\"line_color\":{\"value\":\"blue\"},\"x\":{\"field\":\"x\"},\"y\":{\"field\":\"y\"}},\"id\":\"0f068cea-a2f7-4bc8-8f73-3f3141de4613\",\"type\":\"Circle\"},{\"attributes\":{},\"id\":\"6118a37e-75cf-43fc-8b16-4b6955da810d\",\"type\":\"BasicTickFormatter\"}],\"root_ids\":[\"6bfd5ac4-12a4-4c4d-92e1-c78098d5d7ac\"]},\"title\":\"Bokeh Application\",\"version\":\"0.12.15\"}};\n",
       "  var render_items = [{\"docid\":\"7c6e65c0-c05b-4a90-8eff-79e39859a6a7\",\"elementid\":\"06580453-e8cb-4025-a32b-1bc57eb635f2\",\"modelid\":\"6bfd5ac4-12a4-4c4d-92e1-c78098d5d7ac\"}];\n",
       "  root.Bokeh.embed.embed_items_notebook(docs_json, render_items);\n",
       "\n",
       "  }\n",
       "  if (root.Bokeh !== undefined) {\n",
       "    embed_document(root);\n",
       "  } else {\n",
       "    var attempts = 0;\n",
       "    var timer = setInterval(function(root) {\n",
       "      if (root.Bokeh !== undefined) {\n",
       "        embed_document(root);\n",
       "        clearInterval(timer);\n",
       "      }\n",
       "      attempts++;\n",
       "      if (attempts > 100) {\n",
       "        console.log(\"Bokeh: ERROR: Unable to run BokehJS code because BokehJS library is missing\")\n",
       "        clearInterval(timer);\n",
       "      }\n",
       "    }, 10, root)\n",
       "  }\n",
       "})(window);"
      ],
      "application/vnd.bokehjs_exec.v0+json": ""
     },
     "metadata": {
      "application/vnd.bokehjs_exec.v0+json": {
       "id": "6bfd5ac4-12a4-4c4d-92e1-c78098d5d7ac"
      }
     },
     "output_type": "display_data"
    }
   ],
   "source": [
    "p1 = figure(plot_width=600, plot_height=600,tools=['pan,wheel_zoom,box_zoom,reset',hover],\n",
    "           title=\"Mouse over the dots\")\n",
    "p1.scatter(psiIC,eta, color=\"blue\")\n",
    "\n",
    "p1.xaxis.axis_label = '\\u03C8 [m]'\n",
    "p1.xaxis.axis_label_text_font_size = str(labelSize) + \"px\"\n",
    "\n",
    "p1.yaxis.axis_label = '\\u03b7 [m]'\n",
    "p1.yaxis.axis_label_text_font_size = str(labelSize) + \"px\"\n",
    "p1.title.text = 'Initial condition for \\u03C8:\\n interpolated from measuraments'\n",
    "p1.title.align = \"center\"\n",
    "p1.title.text_font_size = str(titleSize) + \"px\"\n",
    "\n",
    "\n",
    "show(p1)  "
   ]
  },
  {
   "cell_type": "markdown",
   "metadata": {},
   "source": [
    "## Set parameters\n",
    "This section assing to each control volume of the domain its SWRC parameters accordingly with its depth"
   ]
  },
  {
   "cell_type": "code",
   "execution_count": 14,
   "metadata": {},
   "outputs": [],
   "source": [
    "thetaS = []\n",
    "thetaR = []\n",
    "Ks = []\n",
    "par1SWRC = []\n",
    "par2SWRC = []\n",
    "par3SWRC = []\n",
    "par4SWRC = []\n",
    "et = []\n",
    "\n",
    "\n",
    "coordLayer = []\n",
    "tempThetaS = []\n",
    "tempThetaR = []\n",
    "tempKs = []\n",
    "tempPar1 = []\n",
    "tempPar2 = []\n",
    "tempPar3 = []\n",
    "tempPar4 = []\n",
    "tempEt = []\n",
    "\n",
    "for i in data.index:\n",
    "    if data['Type'][i] == 'L':\n",
    "        coordLayer.append(data['eta'][i])\n",
    "        tempThetaS.append(data['thetaS'][i])\n",
    "        tempThetaR.append(data['thetaR'][i])\n",
    "        tempKs.append(data['Ks'][i])\n",
    "        tempPar1.append(data['par1SWRC'][i])\n",
    "        tempPar2.append(data['par2SWRC'][i])\n",
    "        tempPar3.append(data['alphaSpecificStorage'][i])\n",
    "        tempPar4.append(data['betaSpecificStorage'][i])\n",
    "        tempEt.append(data['et'][i])"
   ]
  },
  {
   "cell_type": "code",
   "execution_count": 15,
   "metadata": {},
   "outputs": [],
   "source": [
    "\n",
    "for i in range(np.size(coordLayer)-1,0,-1):\n",
    "    for j in range(0,np.size(eta)):\n",
    "        if(eta[j]>coordLayer[i] and eta[j]<coordLayer[i-1] ):\n",
    "            thetaS.append(tempThetaS[i-1])\n",
    "            thetaR.append(tempThetaR[i-1])\n",
    "            Ks.append(tempKs[i-1])\n",
    "            par1SWRC.append(tempPar1[i-1])\n",
    "            par2SWRC.append(tempPar2[i-1])\n",
    "            par3SWRC.append(tempPar3[i-1])\n",
    "            par4SWRC.append(tempPar4[i-1])\n",
    "            et.append(tempEt[i-1])\n",
    "    \n",
    "## add et coeff for free water\n",
    "et = np.append(et,0)"
   ]
  },
  {
   "cell_type": "markdown",
   "metadata": {},
   "source": [
    "## Grid plot\n",
    "The section below allows to plot the distribution of SWRC parameters in the soil column. In the first plot control volumes centroids are shown, whilst in the second one their interfaces. Moreover, in both plots soil layer and measurament points are drawn.\n",
    "\n",
    "These plots are drawn with bokeh library https://bokeh.pydata.org/en/latest/, and they are interactive."
   ]
  },
  {
   "cell_type": "code",
   "execution_count": 16,
   "metadata": {
    "scrolled": false
   },
   "outputs": [
    {
     "data": {
      "text/html": [
       "\n",
       "<div class=\"bk-root\">\n",
       "    <div class=\"bk-plotdiv\" id=\"d922c621-23f0-4403-9f5b-8cc9c6cfc16b\"></div>\n",
       "</div>"
      ]
     },
     "metadata": {},
     "output_type": "display_data"
    },
    {
     "data": {
      "application/javascript": [
       "(function(root) {\n",
       "  function embed_document(root) {\n",
       "    \n",
       "  var docs_json = {\"b1fec04d-e2f9-4c4a-9038-97485efc0aae\":{\"roots\":{\"references\":[{\"attributes\":{\"bottom_units\":\"screen\",\"fill_alpha\":{\"value\":0.5},\"fill_color\":{\"value\":\"lightgrey\"},\"left_units\":\"screen\",\"level\":\"overlay\",\"line_alpha\":{\"value\":1.0},\"line_color\":{\"value\":\"black\"},\"line_dash\":[4,4],\"line_width\":{\"value\":2},\"plot\":null,\"render_mode\":\"css\",\"right_units\":\"screen\",\"top_units\":\"screen\"},\"id\":\"52b2f434-58d7-4521-9a3a-3e7e271508e0\",\"type\":\"BoxAnnotation\"},{\"attributes\":{},\"id\":\"dc2075af-8672-42d9-b70f-3fddb1613a21\",\"type\":\"LinearScale\"},{\"attributes\":{\"fill_color\":{\"value\":\"red\"},\"line_color\":{\"value\":\"red\"},\"line_width\":{\"value\":1.5},\"x\":{\"field\":\"x\"},\"y\":{\"field\":\"y\"}},\"id\":\"5fb278d5-e984-4f82-95c4-79d894f27189\",\"type\":\"Circle\"},{\"attributes\":{},\"id\":\"4b8849e0-f6c2-43cb-ab64-347a4b3eb126\",\"type\":\"LinearScale\"},{\"attributes\":{\"fill_color\":{\"value\":\"red\"},\"line_color\":{\"value\":\"red\"},\"line_width\":{\"value\":1.5},\"x\":{\"field\":\"x\"},\"y\":{\"field\":\"y\"}},\"id\":\"322af66d-2847-4422-8062-ac699fafa81c\",\"type\":\"Circle\"},{\"attributes\":{},\"id\":\"9532e72e-c99a-4acb-ae12-945102dffc15\",\"type\":\"BasicTickFormatter\"},{\"attributes\":{\"plot\":{\"id\":\"1ad1a6ae-fd42-4601-834b-ad921250fd9c\",\"subtype\":\"Figure\",\"type\":\"Plot\"},\"ticker\":{\"id\":\"34ed67d4-d193-4514-bb33-fdf2eaff9f14\",\"type\":\"BasicTicker\"}},\"id\":\"a334dd9b-1c09-4f7c-a999-82af7cd72e14\",\"type\":\"Grid\"},{\"attributes\":{},\"id\":\"d750ee8b-56dc-4989-8572-ed0a2949db95\",\"type\":\"LinearScale\"},{\"attributes\":{},\"id\":\"5ddb5469-2544-499b-aa86-3711bc10471d\",\"type\":\"BasicTickFormatter\"},{\"attributes\":{\"axis_label\":\" water content at saturation [-]\",\"axis_label_text_font_size\":{\"value\":\"18px\"},\"formatter\":{\"id\":\"ff5ad01e-02b4-434f-ba87-4c1559b1aa05\",\"type\":\"BasicTickFormatter\"},\"plot\":{\"id\":\"1ad1a6ae-fd42-4601-834b-ad921250fd9c\",\"subtype\":\"Figure\",\"type\":\"Plot\"},\"ticker\":{\"id\":\"34ed67d4-d193-4514-bb33-fdf2eaff9f14\",\"type\":\"BasicTicker\"}},\"id\":\"b913b804-584f-4ac4-8e50-cb65675f3128\",\"type\":\"LinearAxis\"},{\"attributes\":{\"plot\":{\"id\":\"cd93fe56-9a9e-4e7e-9fcc-b982879cfbf2\",\"subtype\":\"Figure\",\"type\":\"Plot\"},\"ticker\":{\"id\":\"effe0d0a-2ab4-4679-b089-6ebaf7cffccd\",\"type\":\"BasicTicker\"}},\"id\":\"d5c2416e-7fc4-4c75-8481-b55da7276626\",\"type\":\"Grid\"},{\"attributes\":{\"source\":{\"id\":\"61e62c71-b583-40d3-9ac7-d96f7f587e3f\",\"type\":\"ColumnDataSource\"}},\"id\":\"37a7b1cc-5876-4772-8555-544839063b48\",\"type\":\"CDSView\"},{\"attributes\":{\"axis_label\":\"\\u03b1 [1/Pa]\",\"axis_label_text_font_size\":{\"value\":\"18px\"},\"formatter\":{\"id\":\"4e331e68-c8d9-4f1e-beb9-f747e57d7c54\",\"type\":\"BasicTickFormatter\"},\"plot\":{\"id\":\"cd93fe56-9a9e-4e7e-9fcc-b982879cfbf2\",\"subtype\":\"Figure\",\"type\":\"Plot\"},\"ticker\":{\"id\":\"effe0d0a-2ab4-4679-b089-6ebaf7cffccd\",\"type\":\"BasicTicker\"}},\"id\":\"276a4ca2-a0fa-4f3e-a337-8e2efde4059d\",\"type\":\"LinearAxis\"},{\"attributes\":{},\"id\":\"34ed67d4-d193-4514-bb33-fdf2eaff9f14\",\"type\":\"BasicTicker\"},{\"attributes\":{},\"id\":\"69293e80-35fb-4432-aadc-192f2147c32d\",\"type\":\"BasicTickFormatter\"},{\"attributes\":{\"axis_label\":\"\\u03b7 [m]\",\"axis_label_text_font_size\":{\"value\":\"18px\"},\"formatter\":{\"id\":\"316e8334-2de2-424f-b34b-601decb62eab\",\"type\":\"BasicTickFormatter\"},\"plot\":{\"id\":\"1ad1a6ae-fd42-4601-834b-ad921250fd9c\",\"subtype\":\"Figure\",\"type\":\"Plot\"},\"ticker\":{\"id\":\"b1c1447e-c4e5-4ff4-bd69-eb328164acf2\",\"type\":\"BasicTicker\"}},\"id\":\"de730909-b9c5-45a7-9d15-d460cc9cc395\",\"type\":\"LinearAxis\"},{\"attributes\":{\"callback\":null},\"id\":\"38cfef24-d545-49a5-b167-223056e1ed31\",\"type\":\"DataRange1d\"},{\"attributes\":{},\"id\":\"effe0d0a-2ab4-4679-b089-6ebaf7cffccd\",\"type\":\"BasicTicker\"},{\"attributes\":{\"below\":[{\"id\":\"edcd58ff-e44e-40f9-b456-d7af0ad723e9\",\"type\":\"LinearAxis\"}],\"left\":[{\"id\":\"eb081af4-bfe1-4f17-b19d-a094e88bfc9d\",\"type\":\"LinearAxis\"}],\"renderers\":[{\"id\":\"edcd58ff-e44e-40f9-b456-d7af0ad723e9\",\"type\":\"LinearAxis\"},{\"id\":\"0a0bf258-207a-4dc8-b879-ba556b3f0666\",\"type\":\"Grid\"},{\"id\":\"eb081af4-bfe1-4f17-b19d-a094e88bfc9d\",\"type\":\"LinearAxis\"},{\"id\":\"54d435b0-03da-4a01-8653-43a5812733c6\",\"type\":\"Grid\"},{\"id\":\"f507e889-8244-4406-9abf-f4d0788aaab2\",\"type\":\"BoxAnnotation\"},{\"id\":\"17a5784c-ec52-407d-9bf7-f1e25672bf61\",\"type\":\"GlyphRenderer\"}],\"title\":{\"id\":\"fa9cde46-d643-4adc-8405-89affd2395cc\",\"type\":\"Title\"},\"toolbar\":{\"id\":\"4dc61d4f-7c89-45f5-a1a3-4037bdc7ae05\",\"type\":\"Toolbar\"},\"x_range\":{\"id\":\"37287af3-20e6-49fa-94ea-38665c346fa4\",\"type\":\"DataRange1d\"},\"x_scale\":{\"id\":\"af860ef6-12c2-4873-8e2c-d0bf123ffd16\",\"type\":\"LinearScale\"},\"y_range\":{\"id\":\"c4892920-2d15-43ec-b990-4d2846245068\",\"type\":\"DataRange1d\"},\"y_scale\":{\"id\":\"20ce68c6-d2fd-45b7-8074-a8a4f2b1d8bc\",\"type\":\"LinearScale\"}},\"id\":\"0dbdc976-7cf5-47b4-b273-8f7ef92cad0e\",\"subtype\":\"Figure\",\"type\":\"Plot\"},{\"attributes\":{\"axis_label\":\"\\u03b7 [m]\",\"axis_label_text_font_size\":{\"value\":\"18px\"},\"formatter\":{\"id\":\"9532e72e-c99a-4acb-ae12-945102dffc15\",\"type\":\"BasicTickFormatter\"},\"plot\":{\"id\":\"cd93fe56-9a9e-4e7e-9fcc-b982879cfbf2\",\"subtype\":\"Figure\",\"type\":\"Plot\"},\"ticker\":{\"id\":\"be3ec57a-2329-4322-a634-05e03ade1533\",\"type\":\"BasicTicker\"}},\"id\":\"687b729a-5c0a-4238-85b7-12a022dc28df\",\"type\":\"LinearAxis\"},{\"attributes\":{},\"id\":\"316e8334-2de2-424f-b34b-601decb62eab\",\"type\":\"BasicTickFormatter\"},{\"attributes\":{},\"id\":\"be3ec57a-2329-4322-a634-05e03ade1533\",\"type\":\"BasicTicker\"},{\"attributes\":{\"child\":{\"id\":\"f7fc879e-b74d-4b07-ae9d-3e65295abcda\",\"subtype\":\"Figure\",\"type\":\"Plot\"},\"title\":\"Ks\"},\"id\":\"2ce49887-19e3-4c6b-a6a3-b5776845224e\",\"type\":\"Panel\"},{\"attributes\":{\"dimension\":1,\"plot\":{\"id\":\"cd93fe56-9a9e-4e7e-9fcc-b982879cfbf2\",\"subtype\":\"Figure\",\"type\":\"Plot\"},\"ticker\":{\"id\":\"be3ec57a-2329-4322-a634-05e03ade1533\",\"type\":\"BasicTicker\"}},\"id\":\"50c3f1eb-5583-4d28-9d26-1fe39c5439fa\",\"type\":\"Grid\"},{\"attributes\":{},\"id\":\"b1c1447e-c4e5-4ff4-bd69-eb328164acf2\",\"type\":\"BasicTicker\"},{\"attributes\":{\"dimension\":1,\"plot\":{\"id\":\"1ad1a6ae-fd42-4601-834b-ad921250fd9c\",\"subtype\":\"Figure\",\"type\":\"Plot\"},\"ticker\":{\"id\":\"b1c1447e-c4e5-4ff4-bd69-eb328164acf2\",\"type\":\"BasicTicker\"}},\"id\":\"3b69ffeb-efda-4816-8470-fb3d2687dcbd\",\"type\":\"Grid\"},{\"attributes\":{\"fill_color\":{\"value\":\"red\"},\"line_color\":{\"value\":\"red\"},\"line_width\":{\"value\":1.5},\"x\":{\"field\":\"x\"},\"y\":{\"field\":\"y\"}},\"id\":\"5e34aeee-8ca4-42c2-aae1-b7967c4d24ac\",\"type\":\"Circle\"},{\"attributes\":{\"align\":\"center\",\"plot\":null,\"text\":\"SWRC parameter 2\",\"text_font_size\":{\"value\":\"22px\"}},\"id\":\"cafcd94e-e852-4ae6-b9a6-dd621c470e50\",\"type\":\"Title\"},{\"attributes\":{\"bottom_units\":\"screen\",\"fill_alpha\":{\"value\":0.5},\"fill_color\":{\"value\":\"lightgrey\"},\"left_units\":\"screen\",\"level\":\"overlay\",\"line_alpha\":{\"value\":1.0},\"line_color\":{\"value\":\"black\"},\"line_dash\":[4,4],\"line_width\":{\"value\":2},\"plot\":null,\"render_mode\":\"css\",\"right_units\":\"screen\",\"top_units\":\"screen\"},\"id\":\"420fd870-d8cb-4c82-b387-304aabade5c4\",\"type\":\"BoxAnnotation\"},{\"attributes\":{\"fill_color\":{\"value\":\"blue\"},\"line_color\":{\"value\":\"blue\"},\"line_width\":{\"value\":1.5},\"x\":{\"field\":\"x\"},\"y\":{\"field\":\"y\"}},\"id\":\"c99c0ab2-973f-447f-9b85-ecd8fe49bb8b\",\"type\":\"Circle\"},{\"attributes\":{\"bottom_units\":\"screen\",\"fill_alpha\":{\"value\":0.5},\"fill_color\":{\"value\":\"lightgrey\"},\"left_units\":\"screen\",\"level\":\"overlay\",\"line_alpha\":{\"value\":1.0},\"line_color\":{\"value\":\"black\"},\"line_dash\":[4,4],\"line_width\":{\"value\":2},\"plot\":null,\"render_mode\":\"css\",\"right_units\":\"screen\",\"top_units\":\"screen\"},\"id\":\"87e0cf71-9220-4d0a-8b7a-5f2b4c3ed522\",\"type\":\"BoxAnnotation\"},{\"attributes\":{\"callback\":null,\"column_names\":[\"x\",\"y\"],\"data\":{\"x\":[1.16,1.16,1.16,1.16,1.16,1.16,1.16,1.16,1.16,1.16,1.16,1.16,1.16,1.16,1.16,1.16,1.16,1.16,1.16,1.16,1.16,1.16,1.16,1.16,1.16,1.16,1.16,1.16,1.16,1.16,1.16,1.16,1.16,1.16,1.16,1.16,1.16,1.16,1.16,1.16,1.16,1.16,1.16,1.16,1.16,1.16,1.16,1.16,1.16,1.16,1.16,1.16,1.16,1.16,1.16,1.16,1.16,1.16,1.16,1.16,1.16,1.16,1.16,1.16,1.16,1.16,1.16,1.16,1.16,1.16,1.16,1.16,1.16,1.16,1.16,1.16,1.16,1.16,1.16,1.16,1.16,1.16,1.16,1.16,1.16,1.16,1.16,1.16,1.16,1.16,1.16,1.16,1.16,1.16,1.16,1.16,1.16,1.16,1.16,1.16,1.16,1.16,1.16,1.16,1.16,1.16,1.16,1.16,1.16,1.16,1.16,1.16,1.16,1.16,1.16,1.16,1.16,1.16,1.16,1.16,1.16,1.16,1.16,1.16,1.16,1.16,1.16,1.16,1.16,1.16,1.16,1.16,1.16,1.16,1.16,1.16,1.16,1.16,1.16,1.16,1.16,1.16,1.16,1.16,1.16,1.16,1.16,1.16,1.16,1.16,1.16,1.16,1.16,1.16,1.16,1.16,1.16,1.16,1.16,1.16,1.16,1.16,1.16,1.16,1.16,1.16,1.16,1.16,1.16,1.16,1.16,1.16,1.16,1.16,1.16,1.16,1.16,1.16,1.16,1.16,1.16,1.16,1.16,1.16,1.16,1.16,1.16,1.16,1.16,1.16,1.16,1.16,1.16,1.16,1.16,1.16,1.16,1.16,1.16,1.16,1.16,1.16,1.16,1.16,1.16,1.16,1.16,1.16,1.16,1.16,1.16,1.16,1.16,1.16,1.16,1.16,1.16,1.16,1.16,1.16,1.16,1.16,1.16,1.16,1.16,1.16,1.16,1.16,1.16,1.16,1.16,1.16,1.16,1.16,1.16,1.16,1.16,1.16,1.16,1.16,1.16,1.16,1.16,1.16,1.16,1.16,1.16,1.16,1.16,1.16,1.16,1.16,1.16,1.16,1.16,1.16,1.16,1.16,1.16,1.16,1.16,1.16,1.16,1.16,1.16,1.16,1.16,1.16,1.16,1.16,1.16,1.16,1.16,1.16,1.16,1.16,1.16,1.16,1.16,1.16,1.16,1.16,1.16,1.16,1.16,1.16,1.16,1.16,1.16,1.16,1.16,1.16,1.16,1.16,1.16,1.16,1.16,1.16,1.16,1.16,1.16,1.16,1.16,1.16,1.16,1.16,1.16,1.16,1.16,1.16,1.16,1.16,1.16,1.16,1.16,1.16,1.16,1.16,1.16,1.16],\"y\":{\"__ndarray__\":\"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\",\"dtype\":\"float64\",\"shape\":[320]}},\"selected\":null,\"selection_policy\":null},\"id\":\"e6c01954-5db0-461b-bac4-a7401380de80\",\"type\":\"ColumnDataSource\"},{\"attributes\":{},\"id\":\"4ee2d589-b784-41bb-b244-180e4ca5e17f\",\"type\":\"PanTool\"},{\"attributes\":{\"below\":[{\"id\":\"4e1ed656-6fd0-49d5-bc48-b27253dbcc8d\",\"type\":\"LinearAxis\"}],\"left\":[{\"id\":\"0ee77641-a25c-4214-99e6-b50a206b59ec\",\"type\":\"LinearAxis\"}],\"renderers\":[{\"id\":\"4e1ed656-6fd0-49d5-bc48-b27253dbcc8d\",\"type\":\"LinearAxis\"},{\"id\":\"dc1541e3-8cc1-434f-a1f3-6a707830d3e2\",\"type\":\"Grid\"},{\"id\":\"0ee77641-a25c-4214-99e6-b50a206b59ec\",\"type\":\"LinearAxis\"},{\"id\":\"64f29102-9609-4090-9960-60ff7673ad4a\",\"type\":\"Grid\"},{\"id\":\"7f5a4122-f4e8-44b5-b9e7-19c31625b099\",\"type\":\"BoxAnnotation\"},{\"id\":\"985a0c82-6148-4ad3-8067-55e0e831603c\",\"type\":\"GlyphRenderer\"}],\"title\":{\"id\":\"cafcd94e-e852-4ae6-b9a6-dd621c470e50\",\"type\":\"Title\"},\"toolbar\":{\"id\":\"36866d65-e590-4293-82fc-e0876bb257be\",\"type\":\"Toolbar\"},\"x_range\":{\"id\":\"38cfef24-d545-49a5-b167-223056e1ed31\",\"type\":\"DataRange1d\"},\"x_scale\":{\"id\":\"bef48fe7-cb4e-42b6-96c0-f6fa54b08df5\",\"type\":\"LinearScale\"},\"y_range\":{\"id\":\"900b03e2-2bb0-41ce-9ad6-68be589ee9ec\",\"type\":\"DataRange1d\"},\"y_scale\":{\"id\":\"3584fe78-bcf2-4702-a786-9b1efb3d6025\",\"type\":\"LinearScale\"}},\"id\":\"9b2f3a42-3ecc-4ae5-9eb5-9cd884650122\",\"subtype\":\"Figure\",\"type\":\"Plot\"},{\"attributes\":{},\"id\":\"2b96193d-efba-4ced-987e-5197023909a5\",\"type\":\"PanTool\"},{\"attributes\":{\"fill_color\":{\"value\":\"red\"},\"line_color\":{\"value\":\"red\"},\"line_width\":{\"value\":1.5},\"x\":{\"field\":\"x\"},\"y\":{\"field\":\"y\"}},\"id\":\"9363ab71-ef26-4a44-b834-19d636740148\",\"type\":\"Circle\"},{\"attributes\":{\"active_drag\":\"auto\",\"active_inspect\":\"auto\",\"active_scroll\":\"auto\",\"active_tap\":\"auto\",\"tools\":[{\"id\":\"b0936ba4-b576-4590-9519-2ae250ffa134\",\"type\":\"HoverTool\"},{\"id\":\"eb315d6f-c1c4-4281-9d38-8ae5d6240cd2\",\"type\":\"PanTool\"},{\"id\":\"ae705fdc-219a-4375-bb61-3f527a2aa169\",\"type\":\"WheelZoomTool\"},{\"id\":\"a4b39114-83b9-4a17-b894-8421bb0f778b\",\"type\":\"BoxZoomTool\"},{\"id\":\"10f205f8-4d0e-4b8c-b040-3b1790c582d8\",\"type\":\"ResetTool\"}]},\"id\":\"36866d65-e590-4293-82fc-e0876bb257be\",\"type\":\"Toolbar\"},{\"attributes\":{\"callback\":null,\"column_names\":[\"x\",\"y\"],\"data\":{\"x\":[0.07,0.07,0.07,0.07,0.07,0.07,0.07,0.07,0.07,0.07,0.07,0.07,0.07,0.07,0.07,0.07,0.07,0.07,0.07,0.07,0.07,0.07,0.07,0.07,0.07,0.07,0.07,0.07,0.07,0.07,0.07,0.07,0.07,0.07,0.07,0.07,0.07,0.07,0.07,0.07,0.07,0.07,0.07,0.07,0.07,0.07,0.07,0.07,0.07,0.07,0.07,0.07,0.07,0.07,0.07,0.07,0.07,0.07,0.07,0.07,0.07,0.07,0.07,0.07,0.07,0.07,0.07,0.07,0.07,0.07,0.07,0.07,0.07,0.07,0.07,0.07,0.07,0.07,0.07,0.07,0.07,0.07,0.07,0.07,0.07,0.07,0.07,0.07,0.07,0.07,0.07,0.07,0.07,0.07,0.07,0.07,0.07,0.07,0.07,0.07,0.07,0.07,0.07,0.07,0.07,0.07,0.07,0.07,0.07,0.07,0.07,0.07,0.07,0.07,0.07,0.07,0.07,0.07,0.07,0.07,0.07,0.07,0.07,0.07,0.07,0.07,0.07,0.07,0.07,0.07,0.07,0.07,0.07,0.07,0.07,0.07,0.07,0.07,0.07,0.07,0.07,0.07,0.07,0.07,0.07,0.07,0.07,0.07,0.07,0.07,0.07,0.07,0.07,0.07,0.07,0.07,0.07,0.07,0.07,0.07,0.07,0.07,0.07,0.07,0.07,0.07,0.07,0.07,0.07,0.07,0.07,0.07,0.07,0.07,0.07,0.07,0.07,0.07,0.07,0.07,0.07,0.07,0.07,0.07,0.07,0.07,0.07,0.07,0.07,0.07,0.07,0.07,0.07,0.07,0.07,0.07,0.07,0.07,0.07,0.07,0.07,0.07,0.07,0.07,0.07,0.07,0.07,0.07,0.07,0.07,0.07,0.07,0.07,0.07,0.07,0.07,0.07,0.07,0.07,0.07,0.07,0.07,0.07,0.07,0.07,0.07,0.07,0.07,0.07,0.07,0.07,0.07,0.07,0.07,0.07,0.07,0.07,0.07,0.07,0.07,0.07,0.07,0.07,0.07,0.07,0.07,0.07,0.07,0.07,0.07,0.07,0.07,0.07,0.07,0.07,0.07,0.07,0.07,0.07,0.07,0.07,0.07,0.07,0.07,0.07,0.07,0.07,0.07,0.07,0.07,0.07,0.07,0.07,0.07,0.07,0.07,0.07,0.07,0.07,0.07,0.07,0.07,0.07,0.07,0.07,0.07,0.07,0.07,0.07,0.07,0.07,0.07,0.07,0.07,0.07,0.07,0.07,0.07,0.07,0.07,0.07,0.07,0.07,0.07,0.07,0.07,0.07,0.07,0.07,0.07,0.07,0.07,0.07,0.07,0.07,0.07,0.07,0.07,0.07,0.07],\"y\":{\"__ndarray__\":\"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\",\"dtype\":\"float64\",\"shape\":[320]}},\"selected\":null,\"selection_policy\":null},\"id\":\"b40ff056-0eb3-4ea8-b7fb-46b20efe2b66\",\"type\":\"ColumnDataSource\"},{\"attributes\":{},\"id\":\"7895ae00-1b59-4eed-9d67-472d42037471\",\"type\":\"WheelZoomTool\"},{\"attributes\":{\"callback\":null},\"id\":\"900b03e2-2bb0-41ce-9ad6-68be589ee9ec\",\"type\":\"DataRange1d\"},{\"attributes\":{},\"id\":\"4bbb9e4b-c12a-479f-8681-1ed734e02d7a\",\"type\":\"WheelZoomTool\"},{\"attributes\":{\"overlay\":{\"id\":\"420fd870-d8cb-4c82-b387-304aabade5c4\",\"type\":\"BoxAnnotation\"}},\"id\":\"a46a0199-8940-461b-bd07-4544cb375cf9\",\"type\":\"BoxZoomTool\"},{\"attributes\":{},\"id\":\"bef48fe7-cb4e-42b6-96c0-f6fa54b08df5\",\"type\":\"LinearScale\"},{\"attributes\":{\"overlay\":{\"id\":\"87e0cf71-9220-4d0a-8b7a-5f2b4c3ed522\",\"type\":\"BoxAnnotation\"}},\"id\":\"0d953443-18f3-4ebb-84c9-2a6d8f5f2856\",\"type\":\"BoxZoomTool\"},{\"attributes\":{},\"id\":\"9746149b-715a-44ce-9397-19a8144a953d\",\"type\":\"ResetTool\"},{\"attributes\":{},\"id\":\"3584fe78-bcf2-4702-a786-9b1efb3d6025\",\"type\":\"LinearScale\"},{\"attributes\":{},\"id\":\"b9074f08-9e92-4083-a274-19470cc0825f\",\"type\":\"ResetTool\"},{\"attributes\":{\"fill_alpha\":{\"value\":0.1},\"fill_color\":{\"value\":\"#1f77b4\"},\"line_alpha\":{\"value\":0.1},\"line_color\":{\"value\":\"#1f77b4\"},\"line_width\":{\"value\":1.5},\"x\":{\"field\":\"x\"},\"y\":{\"field\":\"y\"}},\"id\":\"1e49e677-676c-47a6-825d-de695285c2c2\",\"type\":\"Circle\"},{\"attributes\":{\"plot\":{\"id\":\"9b2f3a42-3ecc-4ae5-9eb5-9cd884650122\",\"subtype\":\"Figure\",\"type\":\"Plot\"},\"ticker\":{\"id\":\"98cad840-25a8-4be5-b219-3782122923b8\",\"type\":\"BasicTicker\"}},\"id\":\"dc1541e3-8cc1-434f-a1f3-6a707830d3e2\",\"type\":\"Grid\"},{\"attributes\":{\"data_source\":{\"id\":\"4d48d50b-f10a-42ac-a5b0-21bdaf234ba8\",\"type\":\"ColumnDataSource\"},\"glyph\":{\"id\":\"5e34aeee-8ca4-42c2-aae1-b7967c4d24ac\",\"type\":\"Circle\"},\"hover_glyph\":null,\"muted_glyph\":null,\"nonselection_glyph\":{\"id\":\"1e49e677-676c-47a6-825d-de695285c2c2\",\"type\":\"Circle\"},\"selection_glyph\":null,\"view\":{\"id\":\"806f39a0-a618-49bc-b5ad-b1de4c8c723b\",\"type\":\"CDSView\"}},\"id\":\"e1fc2005-13ef-4825-a5e2-a138a36e1454\",\"type\":\"GlyphRenderer\"},{\"attributes\":{\"fill_alpha\":{\"value\":0.1},\"fill_color\":{\"value\":\"#1f77b4\"},\"line_alpha\":{\"value\":0.1},\"line_color\":{\"value\":\"#1f77b4\"},\"line_width\":{\"value\":1.5},\"x\":{\"field\":\"x\"},\"y\":{\"field\":\"y\"}},\"id\":\"276cc839-d065-410d-88b8-50e8d0911111\",\"type\":\"Circle\"},{\"attributes\":{\"data_source\":{\"id\":\"743976cb-9449-45ff-b5c7-5e2ecdd97d1b\",\"type\":\"ColumnDataSource\"},\"glyph\":{\"id\":\"c99c0ab2-973f-447f-9b85-ecd8fe49bb8b\",\"type\":\"Circle\"},\"hover_glyph\":null,\"muted_glyph\":null,\"nonselection_glyph\":{\"id\":\"276cc839-d065-410d-88b8-50e8d0911111\",\"type\":\"Circle\"},\"selection_glyph\":null,\"view\":{\"id\":\"8127b49d-f2bd-437d-9542-4a6c5b2898ef\",\"type\":\"CDSView\"}},\"id\":\"bf8a25e8-b02b-4bfb-ab0d-73388ffafd4f\",\"type\":\"GlyphRenderer\"},{\"attributes\":{\"axis_label\":\" \",\"axis_label_text_font_size\":{\"value\":\"18px\"},\"formatter\":{\"id\":\"ddfa797a-ec1c-4929-be15-62539bcade9a\",\"type\":\"BasicTickFormatter\"},\"plot\":{\"id\":\"9b2f3a42-3ecc-4ae5-9eb5-9cd884650122\",\"subtype\":\"Figure\",\"type\":\"Plot\"},\"ticker\":{\"id\":\"98cad840-25a8-4be5-b219-3782122923b8\",\"type\":\"BasicTicker\"}},\"id\":\"4e1ed656-6fd0-49d5-bc48-b27253dbcc8d\",\"type\":\"LinearAxis\"},{\"attributes\":{\"source\":{\"id\":\"4d48d50b-f10a-42ac-a5b0-21bdaf234ba8\",\"type\":\"ColumnDataSource\"}},\"id\":\"806f39a0-a618-49bc-b5ad-b1de4c8c723b\",\"type\":\"CDSView\"},{\"attributes\":{\"source\":{\"id\":\"743976cb-9449-45ff-b5c7-5e2ecdd97d1b\",\"type\":\"ColumnDataSource\"}},\"id\":\"8127b49d-f2bd-437d-9542-4a6c5b2898ef\",\"type\":\"CDSView\"},{\"attributes\":{},\"id\":\"98cad840-25a8-4be5-b219-3782122923b8\",\"type\":\"BasicTicker\"},{\"attributes\":{},\"id\":\"4e331e68-c8d9-4f1e-beb9-f747e57d7c54\",\"type\":\"BasicTickFormatter\"},{\"attributes\":{\"axis_label\":\"\\u03b7 [m]\",\"axis_label_text_font_size\":{\"value\":\"18px\"},\"formatter\":{\"id\":\"87ef8119-4972-40e4-b586-91f6887b2789\",\"type\":\"BasicTickFormatter\"},\"plot\":{\"id\":\"9b2f3a42-3ecc-4ae5-9eb5-9cd884650122\",\"subtype\":\"Figure\",\"type\":\"Plot\"},\"ticker\":{\"id\":\"82e146d6-5f9d-4a24-a6c3-95f4b1772b93\",\"type\":\"BasicTicker\"}},\"id\":\"0ee77641-a25c-4214-99e6-b50a206b59ec\",\"type\":\"LinearAxis\"},{\"attributes\":{\"callback\":null},\"id\":\"a17be1c6-d0de-442e-bd66-3d62da04946b\",\"type\":\"DataRange1d\"},{\"attributes\":{},\"id\":\"ff5ad01e-02b4-434f-ba87-4c1559b1aa05\",\"type\":\"BasicTickFormatter\"},{\"attributes\":{\"active_drag\":\"auto\",\"active_inspect\":\"auto\",\"active_scroll\":\"auto\",\"active_tap\":\"auto\",\"tools\":[{\"id\":\"b0936ba4-b576-4590-9519-2ae250ffa134\",\"type\":\"HoverTool\"},{\"id\":\"3a0e4155-7cbc-4f7e-beb6-2a43513864b3\",\"type\":\"PanTool\"},{\"id\":\"a3d6533f-bf1e-43dc-bf98-ed2a5aefab11\",\"type\":\"WheelZoomTool\"},{\"id\":\"a9a47849-6dc2-49d2-af5e-46c70b06639f\",\"type\":\"BoxZoomTool\"},{\"id\":\"e44cb27a-9590-42bd-8e1f-ffd4a69cf4e3\",\"type\":\"ResetTool\"}]},\"id\":\"4dc61d4f-7c89-45f5-a1a3-4037bdc7ae05\",\"type\":\"Toolbar\"},{\"attributes\":{},\"id\":\"82e146d6-5f9d-4a24-a6c3-95f4b1772b93\",\"type\":\"BasicTicker\"},{\"attributes\":{\"callback\":null},\"id\":\"c4892920-2d15-43ec-b990-4d2846245068\",\"type\":\"DataRange1d\"},{\"attributes\":{\"dimension\":1,\"plot\":{\"id\":\"9b2f3a42-3ecc-4ae5-9eb5-9cd884650122\",\"subtype\":\"Figure\",\"type\":\"Plot\"},\"ticker\":{\"id\":\"82e146d6-5f9d-4a24-a6c3-95f4b1772b93\",\"type\":\"BasicTicker\"}},\"id\":\"64f29102-9609-4090-9960-60ff7673ad4a\",\"type\":\"Grid\"},{\"attributes\":{\"child\":{\"id\":\"cd93fe56-9a9e-4e7e-9fcc-b982879cfbf2\",\"subtype\":\"Figure\",\"type\":\"Plot\"},\"title\":\"\\u03b1\"},\"id\":\"caf54491-7f2d-4a8e-affc-d75033fdf6e7\",\"type\":\"Panel\"},{\"attributes\":{},\"id\":\"87ef8119-4972-40e4-b586-91f6887b2789\",\"type\":\"BasicTickFormatter\"},{\"attributes\":{\"child\":{\"id\":\"1ad1a6ae-fd42-4601-834b-ad921250fd9c\",\"subtype\":\"Figure\",\"type\":\"Plot\"},\"title\":\"Theta_s\"},\"id\":\"505f39c3-5bbd-44ef-a7bd-fcc808dc22c6\",\"type\":\"Panel\"},{\"attributes\":{\"bottom_units\":\"screen\",\"fill_alpha\":{\"value\":0.5},\"fill_color\":{\"value\":\"lightgrey\"},\"left_units\":\"screen\",\"level\":\"overlay\",\"line_alpha\":{\"value\":1.0},\"line_color\":{\"value\":\"black\"},\"line_dash\":[4,4],\"line_width\":{\"value\":2},\"plot\":null,\"render_mode\":\"css\",\"right_units\":\"screen\",\"top_units\":\"screen\"},\"id\":\"7f5a4122-f4e8-44b5-b9e7-19c31625b099\",\"type\":\"BoxAnnotation\"},{\"attributes\":{\"align\":\"center\",\"plot\":null,\"text\":\"Compressibility of water\",\"text_font_size\":{\"value\":\"22px\"}},\"id\":\"e8b64a62-4b1b-4391-ac33-d3a44ec161ff\",\"type\":\"Title\"},{\"attributes\":{},\"id\":\"eb315d6f-c1c4-4281-9d38-8ae5d6240cd2\",\"type\":\"PanTool\"},{\"attributes\":{\"align\":\"center\",\"plot\":null,\"text\":\"Residual water content\",\"text_font_size\":{\"value\":\"22px\"}},\"id\":\"fa9cde46-d643-4adc-8405-89affd2395cc\",\"type\":\"Title\"},{\"attributes\":{\"fill_color\":{\"value\":\"red\"},\"line_color\":{\"value\":\"red\"},\"line_width\":{\"value\":1.5},\"x\":{\"field\":\"x\"},\"y\":{\"field\":\"y\"}},\"id\":\"e5ba15d1-8291-42d4-b3d7-abb82e72755e\",\"type\":\"Circle\"},{\"attributes\":{\"callback\":null,\"column_names\":[\"x\",\"y\"],\"data\":{\"x\":[0,0,0,0,0,0,0,0,0,0,0,0,0,0,0,0,0,0,0,0,0,0,0,0,0,0,0,0,0,0,0,0,0,0,0,0,0,0,0,0,0,0,0,0,0,0,0,0,0,0,0,0,0,0,0,0,0,0,0,0,0,0,0,0,0,0,0,0,0,0,0,0,0,0,0,0,0,0,0,0,0,0,0,0,0,0,0,0,0,0,0,0,0,0,0,0,0,0,0,0,0,0,0,0,0,0,0,0,0,0,0,0,0,0,0,0,0,0,0,0,0,0,0,0,0,0,0,0,0,0,0,0,0,0,0,0,0,0,0,0,0,0,0,0,0,0,0,0,0,0,0,0,0,0,0,0,0,0,0,0,0,0,0,0,0,0,0,0,0,0,0,0,0,0,0,0,0,0,0,0,0,0,0,0,0,0,0,0,0,0,0,0,0,0,0,0,0,0,0,0,0,0,0,0,0,0,0,0,0,0,0,0,0,0,0,0,0,0,0,0,0,0,0,0,0,0,0,0,0,0,0,0,0,0,0,0,0,0,0,0,0,0,0,0,0,0,0,0,0,0,0,0,0,0,0,0,0,0,0,0,0,0,0,0,0,0,0,0,0,0,0,0,0,0,0,0,0,0,0,0,0,0,0,0,0,0,0,0,0,0,0,0,0,0,0,0,0,0,0,0,0,0,0,0,0,0,0,0,0,0,0,0,0,0,0,0,0,0,0,0],\"y\":{\"__ndarray__\":\"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\",\"dtype\":\"float64\",\"shape\":[320]}},\"selected\":null,\"selection_policy\":null},\"id\":\"a8a3e16f-719b-4c4c-b1e5-d22fbded8a86\",\"type\":\"ColumnDataSource\"},{\"attributes\":{\"below\":[{\"id\":\"cf2029f2-5d50-407c-90b6-2be713b73951\",\"type\":\"LinearAxis\"}],\"left\":[{\"id\":\"50d1c8e3-e408-4450-b535-f750d2a54e8d\",\"type\":\"LinearAxis\"}],\"renderers\":[{\"id\":\"cf2029f2-5d50-407c-90b6-2be713b73951\",\"type\":\"LinearAxis\"},{\"id\":\"e043d499-4ff3-4b18-8685-438b4d2daa84\",\"type\":\"Grid\"},{\"id\":\"50d1c8e3-e408-4450-b535-f750d2a54e8d\",\"type\":\"LinearAxis\"},{\"id\":\"305d9240-7428-42e1-abc6-0fddae278dda\",\"type\":\"Grid\"},{\"id\":\"a69d97f7-ccfd-48d0-8349-8ea09a858af1\",\"type\":\"BoxAnnotation\"},{\"id\":\"6642d03a-97e6-4a7a-b8bb-40e707dce7a6\",\"type\":\"GlyphRenderer\"}],\"title\":{\"id\":\"e8b64a62-4b1b-4391-ac33-d3a44ec161ff\",\"type\":\"Title\"},\"toolbar\":{\"id\":\"aa75ac30-10ac-4755-a243-7acd551322b6\",\"type\":\"Toolbar\"},\"x_range\":{\"id\":\"a17be1c6-d0de-442e-bd66-3d62da04946b\",\"type\":\"DataRange1d\"},\"x_scale\":{\"id\":\"2ca79457-7a9d-43b7-bc46-c3c1800bde44\",\"type\":\"LinearScale\"},\"y_range\":{\"id\":\"e68ca145-e06e-4af3-98c4-11fb4975fd7d\",\"type\":\"DataRange1d\"},\"y_scale\":{\"id\":\"d103400c-6985-403f-a44d-3128cd36ab6b\",\"type\":\"LinearScale\"}},\"id\":\"088812c6-1222-4bbe-a278-781bf4743337\",\"subtype\":\"Figure\",\"type\":\"Plot\"},{\"attributes\":{},\"id\":\"ae705fdc-219a-4375-bb61-3f527a2aa169\",\"type\":\"WheelZoomTool\"},{\"attributes\":{\"callback\":null},\"id\":\"37287af3-20e6-49fa-94ea-38665c346fa4\",\"type\":\"DataRange1d\"},{\"attributes\":{\"active_drag\":\"auto\",\"active_inspect\":\"auto\",\"active_scroll\":\"auto\",\"active_tap\":\"auto\",\"tools\":[{\"id\":\"b0936ba4-b576-4590-9519-2ae250ffa134\",\"type\":\"HoverTool\"},{\"id\":\"eafb66dc-c14f-4620-9ad7-26a295a3cefc\",\"type\":\"PanTool\"},{\"id\":\"71a9f53c-6ea2-40d0-8db6-3c5b66a5b6e7\",\"type\":\"WheelZoomTool\"},{\"id\":\"13c6cd13-ce04-451d-b32f-9a2daebf7339\",\"type\":\"BoxZoomTool\"},{\"id\":\"5fcf8c41-f63a-4b64-8a3b-6fa532fa0978\",\"type\":\"ResetTool\"}]},\"id\":\"aa75ac30-10ac-4755-a243-7acd551322b6\",\"type\":\"Toolbar\"},{\"attributes\":{\"overlay\":{\"id\":\"7f5a4122-f4e8-44b5-b9e7-19c31625b099\",\"type\":\"BoxAnnotation\"}},\"id\":\"a4b39114-83b9-4a17-b894-8421bb0f778b\",\"type\":\"BoxZoomTool\"},{\"attributes\":{},\"id\":\"af860ef6-12c2-4873-8e2c-d0bf123ffd16\",\"type\":\"LinearScale\"},{\"attributes\":{\"callback\":null},\"id\":\"e68ca145-e06e-4af3-98c4-11fb4975fd7d\",\"type\":\"DataRange1d\"},{\"attributes\":{},\"id\":\"10f205f8-4d0e-4b8c-b040-3b1790c582d8\",\"type\":\"ResetTool\"},{\"attributes\":{},\"id\":\"20ce68c6-d2fd-45b7-8074-a8a4f2b1d8bc\",\"type\":\"LinearScale\"},{\"attributes\":{},\"id\":\"2ca79457-7a9d-43b7-bc46-c3c1800bde44\",\"type\":\"LinearScale\"},{\"attributes\":{\"fill_alpha\":{\"value\":0.1},\"fill_color\":{\"value\":\"#1f77b4\"},\"line_alpha\":{\"value\":0.1},\"line_color\":{\"value\":\"#1f77b4\"},\"line_width\":{\"value\":1.5},\"x\":{\"field\":\"x\"},\"y\":{\"field\":\"y\"}},\"id\":\"7e315888-e6b3-46df-a6bf-410ec94dbcb6\",\"type\":\"Circle\"},{\"attributes\":{\"plot\":{\"id\":\"0dbdc976-7cf5-47b4-b273-8f7ef92cad0e\",\"subtype\":\"Figure\",\"type\":\"Plot\"},\"ticker\":{\"id\":\"1d84e849-bde1-4df2-a149-09ad9fe54da0\",\"type\":\"BasicTicker\"}},\"id\":\"0a0bf258-207a-4dc8-b879-ba556b3f0666\",\"type\":\"Grid\"},{\"attributes\":{\"data_source\":{\"id\":\"e6c01954-5db0-461b-bac4-a7401380de80\",\"type\":\"ColumnDataSource\"},\"glyph\":{\"id\":\"322af66d-2847-4422-8062-ac699fafa81c\",\"type\":\"Circle\"},\"hover_glyph\":null,\"muted_glyph\":null,\"nonselection_glyph\":{\"id\":\"7e315888-e6b3-46df-a6bf-410ec94dbcb6\",\"type\":\"Circle\"},\"selection_glyph\":null,\"view\":{\"id\":\"2386b738-ef5f-48b4-ac2c-f46c2a4d2918\",\"type\":\"CDSView\"}},\"id\":\"985a0c82-6148-4ad3-8067-55e0e831603c\",\"type\":\"GlyphRenderer\"},{\"attributes\":{},\"id\":\"d103400c-6985-403f-a44d-3128cd36ab6b\",\"type\":\"LinearScale\"},{\"attributes\":{\"axis_label\":\"residual water content [-]\",\"axis_label_text_font_size\":{\"value\":\"18px\"},\"formatter\":{\"id\":\"eb2bb168-c5d7-4fbb-89bc-691bac0b8bfe\",\"type\":\"BasicTickFormatter\"},\"plot\":{\"id\":\"0dbdc976-7cf5-47b4-b273-8f7ef92cad0e\",\"subtype\":\"Figure\",\"type\":\"Plot\"},\"ticker\":{\"id\":\"1d84e849-bde1-4df2-a149-09ad9fe54da0\",\"type\":\"BasicTicker\"}},\"id\":\"edcd58ff-e44e-40f9-b456-d7af0ad723e9\",\"type\":\"LinearAxis\"},{\"attributes\":{\"plot\":{\"id\":\"088812c6-1222-4bbe-a278-781bf4743337\",\"subtype\":\"Figure\",\"type\":\"Plot\"},\"ticker\":{\"id\":\"8a916a2d-046e-40f3-8820-fd0599f8c194\",\"type\":\"BasicTicker\"}},\"id\":\"e043d499-4ff3-4b18-8685-438b4d2daa84\",\"type\":\"Grid\"},{\"attributes\":{\"source\":{\"id\":\"e6c01954-5db0-461b-bac4-a7401380de80\",\"type\":\"ColumnDataSource\"}},\"id\":\"2386b738-ef5f-48b4-ac2c-f46c2a4d2918\",\"type\":\"CDSView\"},{\"attributes\":{\"axis_label\":\"\\u03b2 [1/Pa]\",\"axis_label_text_font_size\":{\"value\":\"18px\"},\"formatter\":{\"id\":\"aaa4596d-7c42-401b-aebc-f1e1ffd6667b\",\"type\":\"BasicTickFormatter\"},\"plot\":{\"id\":\"088812c6-1222-4bbe-a278-781bf4743337\",\"subtype\":\"Figure\",\"type\":\"Plot\"},\"ticker\":{\"id\":\"8a916a2d-046e-40f3-8820-fd0599f8c194\",\"type\":\"BasicTicker\"}},\"id\":\"cf2029f2-5d50-407c-90b6-2be713b73951\",\"type\":\"LinearAxis\"},{\"attributes\":{},\"id\":\"1d84e849-bde1-4df2-a149-09ad9fe54da0\",\"type\":\"BasicTicker\"},{\"attributes\":{},\"id\":\"ddfa797a-ec1c-4929-be15-62539bcade9a\",\"type\":\"BasicTickFormatter\"},{\"attributes\":{\"callback\":null},\"id\":\"73901397-e147-4330-8f10-ed45b3bbc692\",\"type\":\"DataRange1d\"},{\"attributes\":{\"axis_label\":\"\\u03b7 [m]\",\"axis_label_text_font_size\":{\"value\":\"18px\"},\"formatter\":{\"id\":\"e53717b8-305c-493a-bda0-97e69e48d94c\",\"type\":\"BasicTickFormatter\"},\"plot\":{\"id\":\"0dbdc976-7cf5-47b4-b273-8f7ef92cad0e\",\"subtype\":\"Figure\",\"type\":\"Plot\"},\"ticker\":{\"id\":\"03f4508b-01bb-4b9d-8158-ccd8b91e3c2f\",\"type\":\"BasicTicker\"}},\"id\":\"eb081af4-bfe1-4f17-b19d-a094e88bfc9d\",\"type\":\"LinearAxis\"},{\"attributes\":{},\"id\":\"8a916a2d-046e-40f3-8820-fd0599f8c194\",\"type\":\"BasicTicker\"},{\"attributes\":{\"axis_label\":\"\\u03b7 [m]\",\"axis_label_text_font_size\":{\"value\":\"18px\"},\"formatter\":{\"id\":\"1a036298-a2dc-4a96-8c6e-b1b2463eb989\",\"type\":\"BasicTickFormatter\"},\"plot\":{\"id\":\"088812c6-1222-4bbe-a278-781bf4743337\",\"subtype\":\"Figure\",\"type\":\"Plot\"},\"ticker\":{\"id\":\"6e37f2f3-810d-4c90-ac92-2453b49efd64\",\"type\":\"BasicTicker\"}},\"id\":\"50d1c8e3-e408-4450-b535-f750d2a54e8d\",\"type\":\"LinearAxis\"},{\"attributes\":{},\"id\":\"03f4508b-01bb-4b9d-8158-ccd8b91e3c2f\",\"type\":\"BasicTicker\"},{\"attributes\":{\"dimension\":1,\"plot\":{\"id\":\"0dbdc976-7cf5-47b4-b273-8f7ef92cad0e\",\"subtype\":\"Figure\",\"type\":\"Plot\"},\"ticker\":{\"id\":\"03f4508b-01bb-4b9d-8158-ccd8b91e3c2f\",\"type\":\"BasicTicker\"}},\"id\":\"54d435b0-03da-4a01-8653-43a5812733c6\",\"type\":\"Grid\"},{\"attributes\":{},\"id\":\"6e37f2f3-810d-4c90-ac92-2453b49efd64\",\"type\":\"BasicTicker\"},{\"attributes\":{\"child\":{\"id\":\"9b2f3a42-3ecc-4ae5-9eb5-9cd884650122\",\"subtype\":\"Figure\",\"type\":\"Plot\"},\"title\":\"SWRC par1\"},\"id\":\"3a677ac6-a144-438c-8d03-f179825e6db6\",\"type\":\"Panel\"},{\"attributes\":{\"dimension\":1,\"plot\":{\"id\":\"088812c6-1222-4bbe-a278-781bf4743337\",\"subtype\":\"Figure\",\"type\":\"Plot\"},\"ticker\":{\"id\":\"6e37f2f3-810d-4c90-ac92-2453b49efd64\",\"type\":\"BasicTicker\"}},\"id\":\"305d9240-7428-42e1-abc6-0fddae278dda\",\"type\":\"Grid\"},{\"attributes\":{},\"id\":\"e53717b8-305c-493a-bda0-97e69e48d94c\",\"type\":\"BasicTickFormatter\"},{\"attributes\":{\"bottom_units\":\"screen\",\"fill_alpha\":{\"value\":0.5},\"fill_color\":{\"value\":\"lightgrey\"},\"left_units\":\"screen\",\"level\":\"overlay\",\"line_alpha\":{\"value\":1.0},\"line_color\":{\"value\":\"black\"},\"line_dash\":[4,4],\"line_width\":{\"value\":2},\"plot\":null,\"render_mode\":\"css\",\"right_units\":\"screen\",\"top_units\":\"screen\"},\"id\":\"f507e889-8244-4406-9abf-f4d0788aaab2\",\"type\":\"BoxAnnotation\"},{\"attributes\":{},\"id\":\"1a036298-a2dc-4a96-8c6e-b1b2463eb989\",\"type\":\"BasicTickFormatter\"},{\"attributes\":{\"align\":\"center\",\"plot\":null,\"text\":\"SWRC parameter 2\",\"text_font_size\":{\"value\":\"22px\"}},\"id\":\"6f0375c0-6fe0-4cbc-b1f0-e5baa321f3b8\",\"type\":\"Title\"},{\"attributes\":{\"bottom_units\":\"screen\",\"fill_alpha\":{\"value\":0.5},\"fill_color\":{\"value\":\"lightgrey\"},\"left_units\":\"screen\",\"level\":\"overlay\",\"line_alpha\":{\"value\":1.0},\"line_color\":{\"value\":\"black\"},\"line_dash\":[4,4],\"line_width\":{\"value\":2},\"plot\":null,\"render_mode\":\"css\",\"right_units\":\"screen\",\"top_units\":\"screen\"},\"id\":\"a69d97f7-ccfd-48d0-8349-8ea09a858af1\",\"type\":\"BoxAnnotation\"},{\"attributes\":{},\"id\":\"3a0e4155-7cbc-4f7e-beb6-2a43513864b3\",\"type\":\"PanTool\"},{\"attributes\":{\"fill_color\":{\"value\":\"red\"},\"line_color\":{\"value\":\"red\"},\"line_width\":{\"value\":1.5},\"x\":{\"field\":\"x\"},\"y\":{\"field\":\"y\"}},\"id\":\"302b9644-db82-4458-86bc-9ccb762c86ed\",\"type\":\"Circle\"},{\"attributes\":{\"callback\":null,\"column_names\":[\"x\",\"y\"],\"data\":{\"x\":[5.88,5.88,5.88,5.88,5.88,5.88,5.88,5.88,5.88,5.88,5.88,5.88,5.88,5.88,5.88,5.88,5.88,5.88,5.88,5.88,5.88,5.88,5.88,5.88,5.88,5.88,5.88,5.88,5.88,5.88,5.88,5.88,5.88,5.88,5.88,5.88,5.88,5.88,5.88,5.88,5.88,5.88,5.88,5.88,5.88,5.88,5.88,5.88,5.88,5.88,5.88,5.88,5.88,5.88,5.88,5.88,5.88,5.88,5.88,5.88,5.88,5.88,5.88,5.88,5.88,5.88,5.88,5.88,5.88,5.88,5.88,5.88,5.88,5.88,5.88,5.88,5.88,5.88,5.88,5.88,5.88,5.88,5.88,5.88,5.88,5.88,5.88,5.88,5.88,5.88,5.88,5.88,5.88,5.88,5.88,5.88,5.88,5.88,5.88,5.88,5.88,5.88,5.88,5.88,5.88,5.88,5.88,5.88,5.88,5.88,5.88,5.88,5.88,5.88,5.88,5.88,5.88,5.88,5.88,5.88,5.88,5.88,5.88,5.88,5.88,5.88,5.88,5.88,5.88,5.88,5.88,5.88,5.88,5.88,5.88,5.88,5.88,5.88,5.88,5.88,5.88,5.88,5.88,5.88,5.88,5.88,5.88,5.88,5.88,5.88,5.88,5.88,5.88,5.88,5.88,5.88,5.88,5.88,5.88,5.88,5.88,5.88,5.88,5.88,5.88,5.88,5.88,5.88,5.88,5.88,5.88,5.88,5.88,5.88,5.88,5.88,5.88,5.88,5.88,5.88,5.88,5.88,5.88,5.88,5.88,5.88,5.88,5.88,5.88,5.88,5.88,5.88,5.88,5.88,5.88,5.88,5.88,5.88,5.88,5.88,5.88,5.88,5.88,5.88,5.88,5.88,5.88,5.88,5.88,5.88,5.88,5.88,5.88,5.88,5.88,5.88,5.88,5.88,5.88,5.88,5.88,5.88,5.88,5.88,5.88,5.88,5.88,5.88,5.88,5.88,5.88,5.88,5.88,5.88,5.88,5.88,5.88,5.88,5.88,5.88,5.88,5.88,5.88,5.88,5.88,5.88,5.88,5.88,5.88,5.88,5.88,5.88,5.88,5.88,5.88,5.88,5.88,5.88,5.88,5.88,5.88,5.88,5.88,5.88,5.88,5.88,5.88,5.88,5.88,5.88,5.88,5.88,5.88,5.88,5.88,5.88,5.88,5.88,5.88,5.88,5.88,5.88,5.88,5.88,5.88,5.88,5.88,5.88,5.88,5.88,5.88,5.88,5.88,5.88,5.88,5.88,5.88,5.88,5.88,5.88,5.88,5.88,5.88,5.88,5.88,5.88,5.88,5.88,5.88,5.88,5.88,5.88,5.88,5.88,5.88,5.88,5.88,5.88,5.88,5.88],\"y\":{\"__ndarray__\":\"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\",\"dtype\":\"float64\",\"shape\":[320]}},\"selected\":null,\"selection_policy\":null},\"id\":\"40b246ff-79b7-4755-9acf-c28199ad4d7a\",\"type\":\"ColumnDataSource\"},{\"attributes\":{},\"id\":\"eafb66dc-c14f-4620-9ad7-26a295a3cefc\",\"type\":\"PanTool\"},{\"attributes\":{\"below\":[{\"id\":\"bd7acc5d-a0ad-48f6-b989-7453e29c55b5\",\"type\":\"LinearAxis\"}],\"left\":[{\"id\":\"9c786a32-826e-4288-913a-9194895254d4\",\"type\":\"LinearAxis\"}],\"renderers\":[{\"id\":\"bd7acc5d-a0ad-48f6-b989-7453e29c55b5\",\"type\":\"LinearAxis\"},{\"id\":\"89afdb30-6cb6-4529-8f6b-1e9f4aa4aa23\",\"type\":\"Grid\"},{\"id\":\"9c786a32-826e-4288-913a-9194895254d4\",\"type\":\"LinearAxis\"},{\"id\":\"502f4e72-9d75-43f8-9e1f-edb087181803\",\"type\":\"Grid\"},{\"id\":\"3bbd1dd4-c206-4bc1-98e9-393b5cac5873\",\"type\":\"BoxAnnotation\"},{\"id\":\"4e8ea00a-cce6-4faf-a247-90adad77bab7\",\"type\":\"GlyphRenderer\"}],\"title\":{\"id\":\"6f0375c0-6fe0-4cbc-b1f0-e5baa321f3b8\",\"type\":\"Title\"},\"toolbar\":{\"id\":\"5ca9c130-c34f-461e-9e22-8329a3f0761e\",\"type\":\"Toolbar\"},\"x_range\":{\"id\":\"73901397-e147-4330-8f10-ed45b3bbc692\",\"type\":\"DataRange1d\"},\"x_scale\":{\"id\":\"ab9bbcb3-63a8-4d51-8b93-0d8a02804370\",\"type\":\"LinearScale\"},\"y_range\":{\"id\":\"092c4839-07d1-4e5e-86d9-5d6b2b7c36d7\",\"type\":\"DataRange1d\"},\"y_scale\":{\"id\":\"fc12a368-2c37-4739-a56a-70662f5d833a\",\"type\":\"LinearScale\"}},\"id\":\"e07237c0-125b-4201-83f6-e9c5b8d02776\",\"subtype\":\"Figure\",\"type\":\"Plot\"},{\"attributes\":{},\"id\":\"a3d6533f-bf1e-43dc-bf98-ed2a5aefab11\",\"type\":\"WheelZoomTool\"},{\"attributes\":{\"fill_alpha\":{\"value\":0.1},\"fill_color\":{\"value\":\"#1f77b4\"},\"line_alpha\":{\"value\":0.1},\"line_color\":{\"value\":\"#1f77b4\"},\"line_width\":{\"value\":1.5},\"x\":{\"field\":\"x\"},\"y\":{\"field\":\"y\"}},\"id\":\"f7c4b1d7-48c8-4bb3-ab15-ff7596be5f85\",\"type\":\"Circle\"},{\"attributes\":{\"active_drag\":\"auto\",\"active_inspect\":\"auto\",\"active_scroll\":\"auto\",\"active_tap\":\"auto\",\"tools\":[{\"id\":\"b0936ba4-b576-4590-9519-2ae250ffa134\",\"type\":\"HoverTool\"},{\"id\":\"74312e43-025a-4ce7-94ad-955fe6919f80\",\"type\":\"PanTool\"},{\"id\":\"2ef0bcad-202a-49da-a240-897fc7b83584\",\"type\":\"WheelZoomTool\"},{\"id\":\"13aae984-83a9-4451-8bd0-cdcc3592ca07\",\"type\":\"BoxZoomTool\"},{\"id\":\"31130e55-2de9-4879-9684-100df9fdb476\",\"type\":\"ResetTool\"}]},\"id\":\"5ca9c130-c34f-461e-9e22-8329a3f0761e\",\"type\":\"Toolbar\"},{\"attributes\":{\"overlay\":{\"id\":\"f507e889-8244-4406-9abf-f4d0788aaab2\",\"type\":\"BoxAnnotation\"}},\"id\":\"a9a47849-6dc2-49d2-af5e-46c70b06639f\",\"type\":\"BoxZoomTool\"},{\"attributes\":{},\"id\":\"71a9f53c-6ea2-40d0-8db6-3c5b66a5b6e7\",\"type\":\"WheelZoomTool\"},{\"attributes\":{\"callback\":null},\"id\":\"092c4839-07d1-4e5e-86d9-5d6b2b7c36d7\",\"type\":\"DataRange1d\"},{\"attributes\":{},\"id\":\"e44cb27a-9590-42bd-8e1f-ffd4a69cf4e3\",\"type\":\"ResetTool\"},{\"attributes\":{\"overlay\":{\"id\":\"a69d97f7-ccfd-48d0-8349-8ea09a858af1\",\"type\":\"BoxAnnotation\"}},\"id\":\"13c6cd13-ce04-451d-b32f-9a2daebf7339\",\"type\":\"BoxZoomTool\"},{\"attributes\":{},\"id\":\"ab9bbcb3-63a8-4d51-8b93-0d8a02804370\",\"type\":\"LinearScale\"},{\"attributes\":{\"fill_alpha\":{\"value\":0.1},\"fill_color\":{\"value\":\"#1f77b4\"},\"line_alpha\":{\"value\":0.1},\"line_color\":{\"value\":\"#1f77b4\"},\"line_width\":{\"value\":1.5},\"x\":{\"field\":\"x\"},\"y\":{\"field\":\"y\"}},\"id\":\"1617a53b-60ae-4190-b053-7724a24b5e15\",\"type\":\"Circle\"},{\"attributes\":{},\"id\":\"5fcf8c41-f63a-4b64-8a3b-6fa532fa0978\",\"type\":\"ResetTool\"},{\"attributes\":{\"data_source\":{\"id\":\"b40ff056-0eb3-4ea8-b7fb-46b20efe2b66\",\"type\":\"ColumnDataSource\"},\"glyph\":{\"id\":\"5fb278d5-e984-4f82-95c4-79d894f27189\",\"type\":\"Circle\"},\"hover_glyph\":null,\"muted_glyph\":null,\"nonselection_glyph\":{\"id\":\"1617a53b-60ae-4190-b053-7724a24b5e15\",\"type\":\"Circle\"},\"selection_glyph\":null,\"view\":{\"id\":\"aa8164ae-ac74-4a08-aaf7-f18bc827e6ba\",\"type\":\"CDSView\"}},\"id\":\"17a5784c-ec52-407d-9bf7-f1e25672bf61\",\"type\":\"GlyphRenderer\"},{\"attributes\":{},\"id\":\"fc12a368-2c37-4739-a56a-70662f5d833a\",\"type\":\"LinearScale\"},{\"attributes\":{\"fill_alpha\":{\"value\":0.1},\"fill_color\":{\"value\":\"#1f77b4\"},\"line_alpha\":{\"value\":0.1},\"line_color\":{\"value\":\"#1f77b4\"},\"line_width\":{\"value\":1.5},\"x\":{\"field\":\"x\"},\"y\":{\"field\":\"y\"}},\"id\":\"6576681d-d763-44c8-b159-3ae2ce96fba6\",\"type\":\"Circle\"},{\"attributes\":{\"plot\":{\"id\":\"e07237c0-125b-4201-83f6-e9c5b8d02776\",\"subtype\":\"Figure\",\"type\":\"Plot\"},\"ticker\":{\"id\":\"bb317311-1157-4279-80d1-6f1500740da1\",\"type\":\"BasicTicker\"}},\"id\":\"89afdb30-6cb6-4529-8f6b-1e9f4aa4aa23\",\"type\":\"Grid\"},{\"attributes\":{\"data_source\":{\"id\":\"a8a3e16f-719b-4c4c-b1e5-d22fbded8a86\",\"type\":\"ColumnDataSource\"},\"glyph\":{\"id\":\"9363ab71-ef26-4a44-b834-19d636740148\",\"type\":\"Circle\"},\"hover_glyph\":null,\"muted_glyph\":null,\"nonselection_glyph\":{\"id\":\"6576681d-d763-44c8-b159-3ae2ce96fba6\",\"type\":\"Circle\"},\"selection_glyph\":null,\"view\":{\"id\":\"09b36afa-1b07-44d1-a19b-00e73de458c2\",\"type\":\"CDSView\"}},\"id\":\"6642d03a-97e6-4a7a-b8bb-40e707dce7a6\",\"type\":\"GlyphRenderer\"},{\"attributes\":{\"source\":{\"id\":\"b40ff056-0eb3-4ea8-b7fb-46b20efe2b66\",\"type\":\"ColumnDataSource\"}},\"id\":\"aa8164ae-ac74-4a08-aaf7-f18bc827e6ba\",\"type\":\"CDSView\"},{\"attributes\":{\"axis_label\":\" \",\"axis_label_text_font_size\":{\"value\":\"18px\"},\"formatter\":{\"id\":\"eff2081c-9441-468c-a418-72750e2d4edd\",\"type\":\"BasicTickFormatter\"},\"plot\":{\"id\":\"e07237c0-125b-4201-83f6-e9c5b8d02776\",\"subtype\":\"Figure\",\"type\":\"Plot\"},\"ticker\":{\"id\":\"bb317311-1157-4279-80d1-6f1500740da1\",\"type\":\"BasicTicker\"}},\"id\":\"bd7acc5d-a0ad-48f6-b989-7453e29c55b5\",\"type\":\"LinearAxis\"},{\"attributes\":{},\"id\":\"eb2bb168-c5d7-4fbb-89bc-691bac0b8bfe\",\"type\":\"BasicTickFormatter\"},{\"attributes\":{\"source\":{\"id\":\"a8a3e16f-719b-4c4c-b1e5-d22fbded8a86\",\"type\":\"ColumnDataSource\"}},\"id\":\"09b36afa-1b07-44d1-a19b-00e73de458c2\",\"type\":\"CDSView\"},{\"attributes\":{\"callback\":null},\"id\":\"9cb1b168-5bfb-4044-80bd-3dc8182f1747\",\"type\":\"DataRange1d\"},{\"attributes\":{},\"id\":\"bb317311-1157-4279-80d1-6f1500740da1\",\"type\":\"BasicTicker\"},{\"attributes\":{},\"id\":\"aaa4596d-7c42-401b-aebc-f1e1ffd6667b\",\"type\":\"BasicTickFormatter\"},{\"attributes\":{\"axis_label\":\"\\u03b7 [m]\",\"axis_label_text_font_size\":{\"value\":\"18px\"},\"formatter\":{\"id\":\"77d9ca8f-b4df-43e0-8ba7-d2870fa28b45\",\"type\":\"BasicTickFormatter\"},\"plot\":{\"id\":\"e07237c0-125b-4201-83f6-e9c5b8d02776\",\"subtype\":\"Figure\",\"type\":\"Plot\"},\"ticker\":{\"id\":\"2517f023-c38b-4a5b-94fa-015b8f4f4f34\",\"type\":\"BasicTicker\"}},\"id\":\"9c786a32-826e-4288-913a-9194895254d4\",\"type\":\"LinearAxis\"},{\"attributes\":{\"callback\":null},\"id\":\"843e58c4-fe7a-45e2-80da-3d8b8a908730\",\"type\":\"DataRange1d\"},{\"attributes\":{},\"id\":\"2517f023-c38b-4a5b-94fa-015b8f4f4f34\",\"type\":\"BasicTicker\"},{\"attributes\":{\"child\":{\"id\":\"0dbdc976-7cf5-47b4-b273-8f7ef92cad0e\",\"subtype\":\"Figure\",\"type\":\"Plot\"},\"title\":\"Theta_r\"},\"id\":\"d2ce4907-41ad-4778-9ae6-7b623960a1f3\",\"type\":\"Panel\"},{\"attributes\":{\"dimension\":1,\"plot\":{\"id\":\"e07237c0-125b-4201-83f6-e9c5b8d02776\",\"subtype\":\"Figure\",\"type\":\"Plot\"},\"ticker\":{\"id\":\"2517f023-c38b-4a5b-94fa-015b8f4f4f34\",\"type\":\"BasicTicker\"}},\"id\":\"502f4e72-9d75-43f8-9e1f-edb087181803\",\"type\":\"Grid\"},{\"attributes\":{\"child\":{\"id\":\"088812c6-1222-4bbe-a278-781bf4743337\",\"subtype\":\"Figure\",\"type\":\"Plot\"},\"title\":\"\\u03b2\"},\"id\":\"d7ff5240-8a67-4420-b526-1e4442e49c92\",\"type\":\"Panel\"},{\"attributes\":{},\"id\":\"77d9ca8f-b4df-43e0-8ba7-d2870fa28b45\",\"type\":\"BasicTickFormatter\"},{\"attributes\":{\"align\":\"center\",\"plot\":null,\"text\":\"Saturated hydraulic conductivity\",\"text_font_size\":{\"value\":\"22px\"}},\"id\":\"ae6bedea-87ae-4f99-bfac-8bd075c6ff30\",\"type\":\"Title\"},{\"attributes\":{\"bottom_units\":\"screen\",\"fill_alpha\":{\"value\":0.5},\"fill_color\":{\"value\":\"lightgrey\"},\"left_units\":\"screen\",\"level\":\"overlay\",\"line_alpha\":{\"value\":1.0},\"line_color\":{\"value\":\"black\"},\"line_dash\":[4,4],\"line_width\":{\"value\":2},\"plot\":null,\"render_mode\":\"css\",\"right_units\":\"screen\",\"top_units\":\"screen\"},\"id\":\"3bbd1dd4-c206-4bc1-98e9-393b5cac5873\",\"type\":\"BoxAnnotation\"},{\"attributes\":{\"align\":\"center\",\"plot\":null,\"text\":\"Source sink term\",\"text_font_size\":{\"value\":\"22px\"}},\"id\":\"7702ea88-27e6-42d7-9d3b-35a1b7070f54\",\"type\":\"Title\"},{\"attributes\":{\"callback\":null,\"column_names\":[\"x\",\"y\"],\"data\":{\"x\":[2.3e-07,2.3e-07,2.3e-07,2.3e-07,2.3e-07,2.3e-07,2.3e-07,2.3e-07,2.3e-07,2.3e-07,2.3e-07,2.3e-07,2.3e-07,2.3e-07,2.3e-07,2.3e-07,2.3e-07,2.3e-07,2.3e-07,2.3e-07,2.3e-07,2.3e-07,2.3e-07,2.3e-07,2.3e-07,2.3e-07,2.3e-07,2.3e-07,2.3e-07,2.3e-07,2.3e-07,2.3e-07,2.3e-07,2.3e-07,2.3e-07,2.3e-07,2.3e-07,2.3e-07,2.3e-07,2.3e-07,2.3e-07,2.3e-07,2.3e-07,2.3e-07,2.3e-07,2.3e-07,2.3e-07,2.3e-07,2.3e-07,2.3e-07,2.3e-07,2.3e-07,2.3e-07,2.3e-07,2.3e-07,2.3e-07,2.3e-07,2.3e-07,2.3e-07,2.3e-07,2.3e-07,2.3e-07,2.3e-07,2.3e-07,2.3e-07,2.3e-07,2.3e-07,2.3e-07,2.3e-07,2.3e-07,2.3e-07,2.3e-07,2.3e-07,2.3e-07,2.3e-07,2.3e-07,2.3e-07,2.3e-07,2.3e-07,2.3e-07,2.3e-07,2.3e-07,2.3e-07,2.3e-07,2.3e-07,2.3e-07,2.3e-07,2.3e-07,2.3e-07,2.3e-07,2.3e-07,2.3e-07,2.3e-07,2.3e-07,2.3e-07,2.3e-07,2.3e-07,2.3e-07,2.3e-07,2.3e-07,2.3e-07,2.3e-07,2.3e-07,2.3e-07,2.3e-07,2.3e-07,2.3e-07,2.3e-07,2.3e-07,2.3e-07,2.3e-07,2.3e-07,2.3e-07,2.3e-07,2.3e-07,2.3e-07,2.3e-07,2.3e-07,2.3e-07,2.3e-07,2.3e-07,2.3e-07,2.3e-07,2.3e-07,2.3e-07,2.3e-07,2.3e-07,2.3e-07,2.3e-07,2.3e-07,2.3e-07,2.3e-07,2.3e-07,2.3e-07,2.3e-07,2.3e-07,2.3e-07,2.3e-07,2.3e-07,2.3e-07,2.3e-07,2.3e-07,2.3e-07,2.3e-07,2.3e-07,2.3e-07,2.3e-07,2.3e-07,2.3e-07,2.3e-07,2.3e-07,2.3e-07,2.3e-07,2.3e-07,2.3e-07,2.3e-07,2.3e-07,2.3e-07,2.3e-07,2.3e-07,2.3e-07,2.3e-07,2.3e-07,2.3e-07,2.3e-07,2.3e-07,2.3e-07,2.3e-07,2.3e-07,2.3e-07,2.3e-07,2.3e-07,2.3e-07,2.3e-07,2.3e-07,2.3e-07,2.3e-07,2.3e-07,2.3e-07,2.3e-07,2.3e-07,2.3e-07,2.3e-07,2.3e-07,2.3e-07,2.3e-07,2.3e-07,2.3e-07,2.3e-07,2.3e-07,2.3e-07,2.3e-07,2.3e-07,2.3e-07,2.3e-07,2.3e-07,2.3e-07,2.3e-07,2.3e-07,2.3e-07,2.3e-07,2.3e-07,2.3e-07,2.3e-07,2.3e-07,2.3e-07,2.3e-07,2.3e-07,2.3e-07,2.3e-07,2.3e-07,2.3e-07,2.3e-07,2.3e-07,2.3e-07,2.3e-07,2.3e-07,2.3e-07,2.3e-07,2.3e-07,2.3e-07,2.3e-07,2.3e-07,2.3e-07,2.3e-07,2.3e-07,2.3e-07,2.3e-07,2.3e-07,2.3e-07,2.3e-07,2.3e-07,2.3e-07,2.3e-07,2.3e-07,2.3e-07,2.3e-07,2.3e-07,2.3e-07,2.3e-07,2.3e-07,2.3e-07,2.3e-07,2.3e-07,2.3e-07,2.3e-07,2.3e-07,2.3e-07,2.3e-07,2.3e-07,2.3e-07,2.3e-07,2.3e-07,2.3e-07,2.3e-07,2.3e-07,2.3e-07,2.3e-07,2.3e-07,2.3e-07,2.3e-07,2.3e-07,2.3e-07,2.3e-07,2.3e-07,2.3e-07,2.3e-07,2.3e-07,2.3e-07,2.3e-07,2.3e-07,2.3e-07,2.3e-07,2.3e-07,2.3e-07,2.3e-07,2.3e-07,2.3e-07,2.3e-07,2.3e-07,2.3e-07,2.3e-07,2.3e-07,2.3e-07,2.3e-07,2.3e-07,2.3e-07,2.3e-07,2.3e-07,2.3e-07,2.3e-07,2.3e-07,2.3e-07,2.3e-07,2.3e-07,2.3e-07,2.3e-07,2.3e-07,2.3e-07,2.3e-07,2.3e-07,2.3e-07,2.3e-07,2.3e-07,2.3e-07,2.3e-07,2.3e-07,2.3e-07,2.3e-07,2.3e-07,2.3e-07,2.3e-07,2.3e-07,2.3e-07,2.3e-07,2.3e-07,2.3e-07,2.3e-07,2.3e-07,2.3e-07],\"y\":{\"__ndarray__\":\"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\",\"dtype\":\"float64\",\"shape\":[320]}},\"selected\":null,\"selection_policy\":null},\"id\":\"61e62c71-b583-40d3-9ac7-d96f7f587e3f\",\"type\":\"ColumnDataSource\"},{\"attributes\":{},\"id\":\"74312e43-025a-4ce7-94ad-955fe6919f80\",\"type\":\"PanTool\"},{\"attributes\":{\"below\":[{\"id\":\"b69154ab-d764-4ed6-b2bf-4f1e6458fb47\",\"type\":\"LinearAxis\"}],\"left\":[{\"id\":\"e0be3a19-2927-4651-b078-0e21443139c6\",\"type\":\"LinearAxis\"}],\"renderers\":[{\"id\":\"b69154ab-d764-4ed6-b2bf-4f1e6458fb47\",\"type\":\"LinearAxis\"},{\"id\":\"b7510a58-a621-473b-b22d-ca55ca6b611c\",\"type\":\"Grid\"},{\"id\":\"e0be3a19-2927-4651-b078-0e21443139c6\",\"type\":\"LinearAxis\"},{\"id\":\"628ae137-6ab4-41bf-9e02-eabb1ca98dc4\",\"type\":\"Grid\"},{\"id\":\"52b2f434-58d7-4521-9a3a-3e7e271508e0\",\"type\":\"BoxAnnotation\"},{\"id\":\"a532c3ba-14b4-4baa-950b-5840966e7818\",\"type\":\"GlyphRenderer\"}],\"title\":{\"id\":\"ae6bedea-87ae-4f99-bfac-8bd075c6ff30\",\"type\":\"Title\"},\"toolbar\":{\"id\":\"bf72cceb-b9b8-467d-99b9-29e03e913853\",\"type\":\"Toolbar\"},\"x_range\":{\"id\":\"9cb1b168-5bfb-4044-80bd-3dc8182f1747\",\"type\":\"DataRange1d\"},\"x_scale\":{\"id\":\"afe87eeb-5649-4fd1-bac0-08d289d2ae09\",\"type\":\"LinearScale\"},\"y_range\":{\"id\":\"7172f55f-0acc-4ac1-9730-9918baa5d192\",\"type\":\"DataRange1d\"},\"y_scale\":{\"id\":\"b08e3f66-32f0-402d-8573-3d7fadf02383\",\"type\":\"LinearScale\"}},\"id\":\"f7fc879e-b74d-4b07-ae9d-3e65295abcda\",\"subtype\":\"Figure\",\"type\":\"Plot\"},{\"attributes\":{\"callback\":null,\"column_names\":[\"x\",\"y\"],\"data\":{\"x\":[0,0,0,0,0,0,0,0,0,0,0,0,0,0,0,0,0,0,0,0,0,0,0,0,0,0,0,0,0,0,0,0,0,0,0,0,0,0,0,0,0,0,0,0,0,0,0,0,0,0,0,0,0,0,0,0,0,0,0,0,0,0,0,0,0,0,0,0,0,0,0,0,0,0,0,0,0,0,0,0,0,0,0,0,0,0,0,0,0,0,0,0,0,0,0,0,0,0,0,0,0,0,0,0,0,0,0,0,0,0,0,0,0,0,0,0,0,0,0,0,0,0,0,0,0,0,0,0,0,0,0,0,0,0,0,0,0,0,0,0,0,0,0,0,0,0,0,0,0,0,0,0,0,0,0,0,0,0,0,0,0,0,0,0,0,0,0,0,0,0,0,0,0,0,0,0,0,0,0,0,0,0,0,0,0,0,0,0,0,0,0,0,0,0,0,0,0,0,0,0,0,0,0,0,0,0,0,0,0,0,0,0,0,0,0,0,0,0,0,0,0,0,0,0,0,0,0,0,0,0,0,0,0,0,0,0,0,0,0,0,0,0,0,0,0,0,0,0,0,0,0,0,0,0,0,0,0,0,0,0,0,0,0,0,0,0,0,0,0,0,0,0,0,0,0,0,0,0,0,0,0,0,0,0,0,0,0,0,0,0,0,0,0,0,0,0,0,0,0,0,0,0,0,0,0,0,0,0,0,0,0,0,0,0,0,0,0,0,0,0,0],\"y\":{\"__ndarray__\":\"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\",\"dtype\":\"float64\",\"shape\":[321]}},\"selected\":null,\"selection_policy\":null},\"id\":\"2675fe09-57ac-4d96-92f3-5b757afbecb0\",\"type\":\"ColumnDataSource\"},{\"attributes\":{\"below\":[{\"id\":\"587da1cb-fe69-4105-99e3-f942009edeff\",\"type\":\"LinearAxis\"}],\"left\":[{\"id\":\"e032e473-f49b-421f-a212-9a41f886dd40\",\"type\":\"LinearAxis\"}],\"renderers\":[{\"id\":\"587da1cb-fe69-4105-99e3-f942009edeff\",\"type\":\"LinearAxis\"},{\"id\":\"963485a6-b138-4b63-a687-15bf290e2e02\",\"type\":\"Grid\"},{\"id\":\"e032e473-f49b-421f-a212-9a41f886dd40\",\"type\":\"LinearAxis\"},{\"id\":\"5c5d626b-034a-4b56-9c4c-ede51144ae3d\",\"type\":\"Grid\"},{\"id\":\"9df1dba1-538e-4d71-8ca3-0d12c3c303c2\",\"type\":\"BoxAnnotation\"},{\"id\":\"5311ba36-16e4-477f-b908-18257855589f\",\"type\":\"GlyphRenderer\"}],\"title\":{\"id\":\"7702ea88-27e6-42d7-9d3b-35a1b7070f54\",\"type\":\"Title\"},\"toolbar\":{\"id\":\"d911d12c-1d88-4e8a-91d2-1d41b93572fa\",\"type\":\"Toolbar\"},\"x_range\":{\"id\":\"843e58c4-fe7a-45e2-80da-3d8b8a908730\",\"type\":\"DataRange1d\"},\"x_scale\":{\"id\":\"3e5f51b9-6b5c-465a-a563-d4d4b36bf163\",\"type\":\"LinearScale\"},\"y_range\":{\"id\":\"2ce8e56e-6273-49ab-a562-61ab61d95cdc\",\"type\":\"DataRange1d\"},\"y_scale\":{\"id\":\"7b27d42e-9b06-41d1-90d0-58921863ae84\",\"type\":\"LinearScale\"}},\"id\":\"79c02955-5817-47ce-a852-6ec415d765a4\",\"subtype\":\"Figure\",\"type\":\"Plot\"},{\"attributes\":{\"active_drag\":\"auto\",\"active_inspect\":\"auto\",\"active_scroll\":\"auto\",\"active_tap\":\"auto\",\"tools\":[{\"id\":\"b0936ba4-b576-4590-9519-2ae250ffa134\",\"type\":\"HoverTool\"},{\"id\":\"b2dc1d97-2aa1-49f3-bcc9-dd1e7ae761d7\",\"type\":\"PanTool\"},{\"id\":\"4032055a-c532-4599-9ff0-a6175c49c542\",\"type\":\"WheelZoomTool\"},{\"id\":\"79a3e31e-9dd2-4541-a0b8-3e5301967aab\",\"type\":\"BoxZoomTool\"},{\"id\":\"4f223636-b309-41c6-82e1-f6742be7f901\",\"type\":\"ResetTool\"}]},\"id\":\"bf72cceb-b9b8-467d-99b9-29e03e913853\",\"type\":\"Toolbar\"},{\"attributes\":{},\"id\":\"2ef0bcad-202a-49da-a240-897fc7b83584\",\"type\":\"WheelZoomTool\"},{\"attributes\":{\"callback\":null},\"id\":\"7172f55f-0acc-4ac1-9730-9918baa5d192\",\"type\":\"DataRange1d\"},{\"attributes\":{\"active_drag\":\"auto\",\"active_inspect\":\"auto\",\"active_scroll\":\"auto\",\"active_tap\":\"auto\",\"tools\":[{\"id\":\"b0936ba4-b576-4590-9519-2ae250ffa134\",\"type\":\"HoverTool\"},{\"id\":\"3bab0744-21b1-4a28-aaf5-f22ac83d2d43\",\"type\":\"PanTool\"},{\"id\":\"8704e864-b39a-4c27-b527-0e3ef4c107b7\",\"type\":\"WheelZoomTool\"},{\"id\":\"459387c7-bb49-4b94-a1f1-9e46b8396e08\",\"type\":\"BoxZoomTool\"},{\"id\":\"d6f342de-0132-4979-ae9a-fbb30e452b68\",\"type\":\"ResetTool\"}]},\"id\":\"d911d12c-1d88-4e8a-91d2-1d41b93572fa\",\"type\":\"Toolbar\"},{\"attributes\":{\"overlay\":{\"id\":\"3bbd1dd4-c206-4bc1-98e9-393b5cac5873\",\"type\":\"BoxAnnotation\"}},\"id\":\"13aae984-83a9-4451-8bd0-cdcc3592ca07\",\"type\":\"BoxZoomTool\"},{\"attributes\":{},\"id\":\"afe87eeb-5649-4fd1-bac0-08d289d2ae09\",\"type\":\"LinearScale\"},{\"attributes\":{\"callback\":null},\"id\":\"2ce8e56e-6273-49ab-a562-61ab61d95cdc\",\"type\":\"DataRange1d\"},{\"attributes\":{},\"id\":\"31130e55-2de9-4879-9684-100df9fdb476\",\"type\":\"ResetTool\"},{\"attributes\":{},\"id\":\"b08e3f66-32f0-402d-8573-3d7fadf02383\",\"type\":\"LinearScale\"},{\"attributes\":{},\"id\":\"3e5f51b9-6b5c-465a-a563-d4d4b36bf163\",\"type\":\"LinearScale\"},{\"attributes\":{\"fill_alpha\":{\"value\":0.1},\"fill_color\":{\"value\":\"#1f77b4\"},\"line_alpha\":{\"value\":0.1},\"line_color\":{\"value\":\"#1f77b4\"},\"line_width\":{\"value\":1.5},\"x\":{\"field\":\"x\"},\"y\":{\"field\":\"y\"}},\"id\":\"ab0fed31-d712-44c5-ab46-ab61aa45295f\",\"type\":\"Circle\"},{\"attributes\":{\"plot\":{\"id\":\"f7fc879e-b74d-4b07-ae9d-3e65295abcda\",\"subtype\":\"Figure\",\"type\":\"Plot\"},\"ticker\":{\"id\":\"908fd3e6-2f87-402e-ab25-4ce653c2cf4a\",\"type\":\"BasicTicker\"}},\"id\":\"b7510a58-a621-473b-b22d-ca55ca6b611c\",\"type\":\"Grid\"},{\"attributes\":{\"data_source\":{\"id\":\"40b246ff-79b7-4755-9acf-c28199ad4d7a\",\"type\":\"ColumnDataSource\"},\"glyph\":{\"id\":\"e5ba15d1-8291-42d4-b3d7-abb82e72755e\",\"type\":\"Circle\"},\"hover_glyph\":null,\"muted_glyph\":null,\"nonselection_glyph\":{\"id\":\"ab0fed31-d712-44c5-ab46-ab61aa45295f\",\"type\":\"Circle\"},\"selection_glyph\":null,\"view\":{\"id\":\"89ab8df1-42a8-432e-b454-072385232dce\",\"type\":\"CDSView\"}},\"id\":\"4e8ea00a-cce6-4faf-a247-90adad77bab7\",\"type\":\"GlyphRenderer\"},{\"attributes\":{},\"id\":\"7b27d42e-9b06-41d1-90d0-58921863ae84\",\"type\":\"LinearScale\"},{\"attributes\":{\"axis_label\":\"Ks [m/s]\",\"axis_label_text_font_size\":{\"value\":\"18px\"},\"formatter\":{\"id\":\"69293e80-35fb-4432-aadc-192f2147c32d\",\"type\":\"BasicTickFormatter\"},\"plot\":{\"id\":\"f7fc879e-b74d-4b07-ae9d-3e65295abcda\",\"subtype\":\"Figure\",\"type\":\"Plot\"},\"ticker\":{\"id\":\"908fd3e6-2f87-402e-ab25-4ce653c2cf4a\",\"type\":\"BasicTicker\"}},\"id\":\"b69154ab-d764-4ed6-b2bf-4f1e6458fb47\",\"type\":\"LinearAxis\"},{\"attributes\":{\"plot\":{\"id\":\"79c02955-5817-47ce-a852-6ec415d765a4\",\"subtype\":\"Figure\",\"type\":\"Plot\"},\"ticker\":{\"id\":\"232f838f-c18b-4157-8a7a-791c059c4c53\",\"type\":\"BasicTicker\"}},\"id\":\"963485a6-b138-4b63-a687-15bf290e2e02\",\"type\":\"Grid\"},{\"attributes\":{\"source\":{\"id\":\"40b246ff-79b7-4755-9acf-c28199ad4d7a\",\"type\":\"ColumnDataSource\"}},\"id\":\"89ab8df1-42a8-432e-b454-072385232dce\",\"type\":\"CDSView\"},{\"attributes\":{\"axis_label\":\"et coeff. [1/s]\",\"axis_label_text_font_size\":{\"value\":\"18px\"},\"formatter\":{\"id\":\"63708b34-61b3-4fd0-9fea-7d05e33c4f18\",\"type\":\"BasicTickFormatter\"},\"plot\":{\"id\":\"79c02955-5817-47ce-a852-6ec415d765a4\",\"subtype\":\"Figure\",\"type\":\"Plot\"},\"ticker\":{\"id\":\"232f838f-c18b-4157-8a7a-791c059c4c53\",\"type\":\"BasicTicker\"}},\"id\":\"587da1cb-fe69-4105-99e3-f942009edeff\",\"type\":\"LinearAxis\"},{\"attributes\":{},\"id\":\"908fd3e6-2f87-402e-ab25-4ce653c2cf4a\",\"type\":\"BasicTicker\"},{\"attributes\":{},\"id\":\"eff2081c-9441-468c-a418-72750e2d4edd\",\"type\":\"BasicTickFormatter\"},{\"attributes\":{\"axis_label\":\"\\u03b7 [m]\",\"axis_label_text_font_size\":{\"value\":\"18px\"},\"formatter\":{\"id\":\"5ddb5469-2544-499b-aa86-3711bc10471d\",\"type\":\"BasicTickFormatter\"},\"plot\":{\"id\":\"f7fc879e-b74d-4b07-ae9d-3e65295abcda\",\"subtype\":\"Figure\",\"type\":\"Plot\"},\"ticker\":{\"id\":\"d8effc76-c9a6-40c2-8bde-969ec92ffc1f\",\"type\":\"BasicTicker\"}},\"id\":\"e0be3a19-2927-4651-b078-0e21443139c6\",\"type\":\"LinearAxis\"},{\"attributes\":{\"callback\":null},\"id\":\"03046741-7f80-4b6e-8237-08aa3d4a5823\",\"type\":\"DataRange1d\"},{\"attributes\":{},\"id\":\"232f838f-c18b-4157-8a7a-791c059c4c53\",\"type\":\"BasicTicker\"},{\"attributes\":{\"callback\":null},\"id\":\"d726cf3a-e073-4796-bbfd-67e26695e52a\",\"type\":\"DataRange1d\"},{\"attributes\":{\"axis_label\":\"\\u03b7 [m]\",\"axis_label_text_font_size\":{\"value\":\"18px\"},\"formatter\":{\"id\":\"44e9e1b6-041e-4877-98d1-7b3030424ee1\",\"type\":\"BasicTickFormatter\"},\"plot\":{\"id\":\"79c02955-5817-47ce-a852-6ec415d765a4\",\"subtype\":\"Figure\",\"type\":\"Plot\"},\"ticker\":{\"id\":\"edcb99e6-34b6-42c8-a887-9fec68a17c70\",\"type\":\"BasicTicker\"}},\"id\":\"e032e473-f49b-421f-a212-9a41f886dd40\",\"type\":\"LinearAxis\"},{\"attributes\":{},\"id\":\"d8effc76-c9a6-40c2-8bde-969ec92ffc1f\",\"type\":\"BasicTicker\"},{\"attributes\":{\"dimension\":1,\"plot\":{\"id\":\"f7fc879e-b74d-4b07-ae9d-3e65295abcda\",\"subtype\":\"Figure\",\"type\":\"Plot\"},\"ticker\":{\"id\":\"d8effc76-c9a6-40c2-8bde-969ec92ffc1f\",\"type\":\"BasicTicker\"}},\"id\":\"628ae137-6ab4-41bf-9e02-eabb1ca98dc4\",\"type\":\"Grid\"},{\"attributes\":{},\"id\":\"edcb99e6-34b6-42c8-a887-9fec68a17c70\",\"type\":\"BasicTicker\"},{\"attributes\":{\"child\":{\"id\":\"e07237c0-125b-4201-83f6-e9c5b8d02776\",\"subtype\":\"Figure\",\"type\":\"Plot\"},\"title\":\"SWRC par2\"},\"id\":\"97030579-b02b-4f7d-94ea-93164326fc5e\",\"type\":\"Panel\"},{\"attributes\":{\"data_source\":{\"id\":\"61e62c71-b583-40d3-9ac7-d96f7f587e3f\",\"type\":\"ColumnDataSource\"},\"glyph\":{\"id\":\"302b9644-db82-4458-86bc-9ccb762c86ed\",\"type\":\"Circle\"},\"hover_glyph\":null,\"muted_glyph\":null,\"nonselection_glyph\":{\"id\":\"c169321c-ce8b-46e6-a5a0-dae6abbb4029\",\"type\":\"Circle\"},\"selection_glyph\":null,\"view\":{\"id\":\"37a7b1cc-5876-4772-8555-544839063b48\",\"type\":\"CDSView\"}},\"id\":\"a532c3ba-14b4-4baa-950b-5840966e7818\",\"type\":\"GlyphRenderer\"},{\"attributes\":{\"dimension\":1,\"plot\":{\"id\":\"79c02955-5817-47ce-a852-6ec415d765a4\",\"subtype\":\"Figure\",\"type\":\"Plot\"},\"ticker\":{\"id\":\"edcb99e6-34b6-42c8-a887-9fec68a17c70\",\"type\":\"BasicTicker\"}},\"id\":\"5c5d626b-034a-4b56-9c4c-ede51144ae3d\",\"type\":\"Grid\"},{\"attributes\":{\"fill_alpha\":{\"value\":0.1},\"fill_color\":{\"value\":\"#1f77b4\"},\"line_alpha\":{\"value\":0.1},\"line_color\":{\"value\":\"#1f77b4\"},\"line_width\":{\"value\":1.5},\"x\":{\"field\":\"x\"},\"y\":{\"field\":\"y\"}},\"id\":\"c169321c-ce8b-46e6-a5a0-dae6abbb4029\",\"type\":\"Circle\"},{\"attributes\":{\"align\":\"center\",\"plot\":null,\"text\":\"Compressibility of soil\",\"text_font_size\":{\"value\":\"22px\"}},\"id\":\"5f9dd246-3f12-49b1-881a-8cd3ca6593ac\",\"type\":\"Title\"},{\"attributes\":{},\"id\":\"b2dc1d97-2aa1-49f3-bcc9-dd1e7ae761d7\",\"type\":\"PanTool\"},{\"attributes\":{\"fill_color\":{\"value\":\"red\"},\"line_color\":{\"value\":\"red\"},\"line_width\":{\"value\":1.5},\"x\":{\"field\":\"x\"},\"y\":{\"field\":\"y\"}},\"id\":\"f2ea331d-3f25-45fb-be86-bf6bf131d2e6\",\"type\":\"Circle\"},{\"attributes\":{},\"id\":\"4f223636-b309-41c6-82e1-f6742be7f901\",\"type\":\"ResetTool\"},{\"attributes\":{\"callback\":null,\"column_names\":[\"x\",\"y\"],\"data\":{\"x\":[0,0,0,0,0,0,0,0,0,0,0,0,0,0,0,0,0,0,0,0,0,0,0,0,0,0,0,0,0,0,0,0,0,0,0,0,0,0,0,0,0,0,0,0,0,0,0,0,0,0,0,0,0,0,0,0,0,0,0,0,0,0,0,0,0,0,0,0,0,0,0,0,0,0,0,0,0,0,0,0,0,0,0,0,0,0,0,0,0,0,0,0,0,0,0,0,0,0,0,0,0,0,0,0,0,0,0,0,0,0,0,0,0,0,0,0,0,0,0,0,0,0,0,0,0,0,0,0,0,0,0,0,0,0,0,0,0,0,0,0,0,0,0,0,0,0,0,0,0,0,0,0,0,0,0,0,0,0,0,0,0,0,0,0,0,0,0,0,0,0,0,0,0,0,0,0,0,0,0,0,0,0,0,0,0,0,0,0,0,0,0,0,0,0,0,0,0,0,0,0,0,0,0,0,0,0,0,0,0,0,0,0,0,0,0,0,0,0,0,0,0,0,0,0,0,0,0,0,0,0,0,0,0,0,0,0,0,0,0,0,0,0,0,0,0,0,0,0,0,0,0,0,0,0,0,0,0,0,0,0,0,0,0,0,0,0,0,0,0,0,0,0,0,0,0,0,0,0,0,0,0,0,0,0,0,0,0,0,0,0,0,0,0,0,0,0,0,0,0,0,0,0,0,0,0,0,0,0,0,0,0,0,0,0,0,0,0,0,0,0],\"y\":{\"__ndarray__\":\"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\",\"dtype\":\"float64\",\"shape\":[320]}},\"selected\":null,\"selection_policy\":null},\"id\":\"4d48d50b-f10a-42ac-a5b0-21bdaf234ba8\",\"type\":\"ColumnDataSource\"},{\"attributes\":{},\"id\":\"3bab0744-21b1-4a28-aaf5-f22ac83d2d43\",\"type\":\"PanTool\"},{\"attributes\":{\"below\":[{\"id\":\"276a4ca2-a0fa-4f3e-a337-8e2efde4059d\",\"type\":\"LinearAxis\"}],\"left\":[{\"id\":\"687b729a-5c0a-4238-85b7-12a022dc28df\",\"type\":\"LinearAxis\"}],\"renderers\":[{\"id\":\"276a4ca2-a0fa-4f3e-a337-8e2efde4059d\",\"type\":\"LinearAxis\"},{\"id\":\"d5c2416e-7fc4-4c75-8481-b55da7276626\",\"type\":\"Grid\"},{\"id\":\"687b729a-5c0a-4238-85b7-12a022dc28df\",\"type\":\"LinearAxis\"},{\"id\":\"50c3f1eb-5583-4d28-9d26-1fe39c5439fa\",\"type\":\"Grid\"},{\"id\":\"420fd870-d8cb-4c82-b387-304aabade5c4\",\"type\":\"BoxAnnotation\"},{\"id\":\"e1fc2005-13ef-4825-a5e2-a138a36e1454\",\"type\":\"GlyphRenderer\"}],\"title\":{\"id\":\"5f9dd246-3f12-49b1-881a-8cd3ca6593ac\",\"type\":\"Title\"},\"toolbar\":{\"id\":\"5ea7baa5-b764-4696-8282-12a0dcb4df5f\",\"type\":\"Toolbar\"},\"x_range\":{\"id\":\"03046741-7f80-4b6e-8237-08aa3d4a5823\",\"type\":\"DataRange1d\"},\"x_scale\":{\"id\":\"dc2075af-8672-42d9-b70f-3fddb1613a21\",\"type\":\"LinearScale\"},\"y_range\":{\"id\":\"d726cf3a-e073-4796-bbfd-67e26695e52a\",\"type\":\"DataRange1d\"},\"y_scale\":{\"id\":\"d750ee8b-56dc-4989-8572-ed0a2949db95\",\"type\":\"LinearScale\"}},\"id\":\"cd93fe56-9a9e-4e7e-9fcc-b982879cfbf2\",\"subtype\":\"Figure\",\"type\":\"Plot\"},{\"attributes\":{},\"id\":\"4032055a-c532-4599-9ff0-a6175c49c542\",\"type\":\"WheelZoomTool\"},{\"attributes\":{\"overlay\":{\"id\":\"9df1dba1-538e-4d71-8ca3-0d12c3c303c2\",\"type\":\"BoxAnnotation\"}},\"id\":\"459387c7-bb49-4b94-a1f1-9e46b8396e08\",\"type\":\"BoxZoomTool\"},{\"attributes\":{\"active_drag\":\"auto\",\"active_inspect\":\"auto\",\"active_scroll\":\"auto\",\"active_tap\":\"auto\",\"tools\":[{\"id\":\"b0936ba4-b576-4590-9519-2ae250ffa134\",\"type\":\"HoverTool\"},{\"id\":\"4ee2d589-b784-41bb-b244-180e4ca5e17f\",\"type\":\"PanTool\"},{\"id\":\"7895ae00-1b59-4eed-9d67-472d42037471\",\"type\":\"WheelZoomTool\"},{\"id\":\"a46a0199-8940-461b-bd07-4544cb375cf9\",\"type\":\"BoxZoomTool\"},{\"id\":\"9746149b-715a-44ce-9397-19a8144a953d\",\"type\":\"ResetTool\"}]},\"id\":\"5ea7baa5-b764-4696-8282-12a0dcb4df5f\",\"type\":\"Toolbar\"},{\"attributes\":{\"overlay\":{\"id\":\"52b2f434-58d7-4521-9a3a-3e7e271508e0\",\"type\":\"BoxAnnotation\"}},\"id\":\"79a3e31e-9dd2-4541-a0b8-3e5301967aab\",\"type\":\"BoxZoomTool\"},{\"attributes\":{},\"id\":\"8704e864-b39a-4c27-b527-0e3ef4c107b7\",\"type\":\"WheelZoomTool\"},{\"attributes\":{\"source\":{\"id\":\"2675fe09-57ac-4d96-92f3-5b757afbecb0\",\"type\":\"ColumnDataSource\"}},\"id\":\"acd19c3c-c3fa-4914-9328-7b3420f3fae8\",\"type\":\"CDSView\"},{\"attributes\":{},\"id\":\"d6f342de-0132-4979-ae9a-fbb30e452b68\",\"type\":\"ResetTool\"},{\"attributes\":{\"bottom_units\":\"screen\",\"fill_alpha\":{\"value\":0.5},\"fill_color\":{\"value\":\"lightgrey\"},\"left_units\":\"screen\",\"level\":\"overlay\",\"line_alpha\":{\"value\":1.0},\"line_color\":{\"value\":\"black\"},\"line_dash\":[4,4],\"line_width\":{\"value\":2},\"plot\":null,\"render_mode\":\"css\",\"right_units\":\"screen\",\"top_units\":\"screen\"},\"id\":\"9df1dba1-538e-4d71-8ca3-0d12c3c303c2\",\"type\":\"BoxAnnotation\"},{\"attributes\":{},\"id\":\"44e9e1b6-041e-4877-98d1-7b3030424ee1\",\"type\":\"BasicTickFormatter\"},{\"attributes\":{\"data_source\":{\"id\":\"2675fe09-57ac-4d96-92f3-5b757afbecb0\",\"type\":\"ColumnDataSource\"},\"glyph\":{\"id\":\"f2ea331d-3f25-45fb-be86-bf6bf131d2e6\",\"type\":\"Circle\"},\"hover_glyph\":null,\"muted_glyph\":null,\"nonselection_glyph\":{\"id\":\"f7c4b1d7-48c8-4bb3-ab15-ff7596be5f85\",\"type\":\"Circle\"},\"selection_glyph\":null,\"view\":{\"id\":\"acd19c3c-c3fa-4914-9328-7b3420f3fae8\",\"type\":\"CDSView\"}},\"id\":\"5311ba36-16e4-477f-b908-18257855589f\",\"type\":\"GlyphRenderer\"},{\"attributes\":{\"child\":{\"id\":\"79c02955-5817-47ce-a852-6ec415d765a4\",\"subtype\":\"Figure\",\"type\":\"Plot\"},\"title\":\"et\"},\"id\":\"2e4aefc5-6461-4dd0-8038-20821bff77f3\",\"type\":\"Panel\"},{\"attributes\":{},\"id\":\"63708b34-61b3-4fd0-9fea-7d05e33c4f18\",\"type\":\"BasicTickFormatter\"},{\"attributes\":{\"callback\":null,\"tabs\":[{\"id\":\"505f39c3-5bbd-44ef-a7bd-fcc808dc22c6\",\"type\":\"Panel\"},{\"id\":\"d2ce4907-41ad-4778-9ae6-7b623960a1f3\",\"type\":\"Panel\"},{\"id\":\"2ce49887-19e3-4c6b-a6a3-b5776845224e\",\"type\":\"Panel\"},{\"id\":\"3a677ac6-a144-438c-8d03-f179825e6db6\",\"type\":\"Panel\"},{\"id\":\"97030579-b02b-4f7d-94ea-93164326fc5e\",\"type\":\"Panel\"},{\"id\":\"caf54491-7f2d-4a8e-affc-d75033fdf6e7\",\"type\":\"Panel\"},{\"id\":\"d7ff5240-8a67-4420-b526-1e4442e49c92\",\"type\":\"Panel\"},{\"id\":\"2e4aefc5-6461-4dd0-8038-20821bff77f3\",\"type\":\"Panel\"}]},\"id\":\"f23b6792-292d-4db9-a112-5d1fc1ab335c\",\"type\":\"Tabs\"},{\"attributes\":{\"callback\":null,\"tooltips\":[[\"(x,y)\",\"($x, $y)\"]]},\"id\":\"b0936ba4-b576-4590-9519-2ae250ffa134\",\"type\":\"HoverTool\"},{\"attributes\":{\"align\":\"center\",\"plot\":null,\"text\":\"Water content at saturation\",\"text_font_size\":{\"value\":\"22px\"}},\"id\":\"063dfae9-049c-45fd-a478-b35c5be1574f\",\"type\":\"Title\"},{\"attributes\":{\"below\":[{\"id\":\"b913b804-584f-4ac4-8e50-cb65675f3128\",\"type\":\"LinearAxis\"}],\"left\":[{\"id\":\"de730909-b9c5-45a7-9d15-d460cc9cc395\",\"type\":\"LinearAxis\"}],\"renderers\":[{\"id\":\"b913b804-584f-4ac4-8e50-cb65675f3128\",\"type\":\"LinearAxis\"},{\"id\":\"a334dd9b-1c09-4f7c-a999-82af7cd72e14\",\"type\":\"Grid\"},{\"id\":\"de730909-b9c5-45a7-9d15-d460cc9cc395\",\"type\":\"LinearAxis\"},{\"id\":\"3b69ffeb-efda-4816-8470-fb3d2687dcbd\",\"type\":\"Grid\"},{\"id\":\"87e0cf71-9220-4d0a-8b7a-5f2b4c3ed522\",\"type\":\"BoxAnnotation\"},{\"id\":\"bf8a25e8-b02b-4bfb-ab0d-73388ffafd4f\",\"type\":\"GlyphRenderer\"}],\"title\":{\"id\":\"063dfae9-049c-45fd-a478-b35c5be1574f\",\"type\":\"Title\"},\"toolbar\":{\"id\":\"4ec916db-9150-4f5b-a47f-9ede88b47a05\",\"type\":\"Toolbar\"},\"x_range\":{\"id\":\"babd5649-d0ac-4edb-952c-764854ce9778\",\"type\":\"DataRange1d\"},\"x_scale\":{\"id\":\"7aa7247c-8d75-4afb-80d6-9ed395224f4c\",\"type\":\"LinearScale\"},\"y_range\":{\"id\":\"fea1fd61-c95d-4a40-bff7-6118c8fd0d54\",\"type\":\"DataRange1d\"},\"y_scale\":{\"id\":\"4b8849e0-f6c2-43cb-ab64-347a4b3eb126\",\"type\":\"LinearScale\"}},\"id\":\"1ad1a6ae-fd42-4601-834b-ad921250fd9c\",\"subtype\":\"Figure\",\"type\":\"Plot\"},{\"attributes\":{\"callback\":null,\"column_names\":[\"x\",\"y\"],\"data\":{\"x\":[0.5,0.5,0.5,0.5,0.5,0.5,0.5,0.5,0.5,0.5,0.5,0.5,0.5,0.5,0.5,0.5,0.5,0.5,0.5,0.5,0.5,0.5,0.5,0.5,0.5,0.5,0.5,0.5,0.5,0.5,0.5,0.5,0.5,0.5,0.5,0.5,0.5,0.5,0.5,0.5,0.5,0.5,0.5,0.5,0.5,0.5,0.5,0.5,0.5,0.5,0.5,0.5,0.5,0.5,0.5,0.5,0.5,0.5,0.5,0.5,0.5,0.5,0.5,0.5,0.5,0.5,0.5,0.5,0.5,0.5,0.5,0.5,0.5,0.5,0.5,0.5,0.5,0.5,0.5,0.5,0.5,0.5,0.5,0.5,0.5,0.5,0.5,0.5,0.5,0.5,0.5,0.5,0.5,0.5,0.5,0.5,0.5,0.5,0.5,0.5,0.5,0.5,0.5,0.5,0.5,0.5,0.5,0.5,0.5,0.5,0.5,0.5,0.5,0.5,0.5,0.5,0.5,0.5,0.5,0.5,0.5,0.5,0.5,0.5,0.5,0.5,0.5,0.5,0.5,0.5,0.5,0.5,0.5,0.5,0.5,0.5,0.5,0.5,0.5,0.5,0.5,0.5,0.5,0.5,0.5,0.5,0.5,0.5,0.5,0.5,0.5,0.5,0.5,0.5,0.5,0.5,0.5,0.5,0.5,0.5,0.5,0.5,0.5,0.5,0.5,0.5,0.5,0.5,0.5,0.5,0.5,0.5,0.5,0.5,0.5,0.5,0.5,0.5,0.5,0.5,0.5,0.5,0.5,0.5,0.5,0.5,0.5,0.5,0.5,0.5,0.5,0.5,0.5,0.5,0.5,0.5,0.5,0.5,0.5,0.5,0.5,0.5,0.5,0.5,0.5,0.5,0.5,0.5,0.5,0.5,0.5,0.5,0.5,0.5,0.5,0.5,0.5,0.5,0.5,0.5,0.5,0.5,0.5,0.5,0.5,0.5,0.5,0.5,0.5,0.5,0.5,0.5,0.5,0.5,0.5,0.5,0.5,0.5,0.5,0.5,0.5,0.5,0.5,0.5,0.5,0.5,0.5,0.5,0.5,0.5,0.5,0.5,0.5,0.5,0.5,0.5,0.5,0.5,0.5,0.5,0.5,0.5,0.5,0.5,0.5,0.5,0.5,0.5,0.5,0.5,0.5,0.5,0.5,0.5,0.5,0.5,0.5,0.5,0.5,0.5,0.5,0.5,0.5,0.5,0.5,0.5,0.5,0.5,0.5,0.5,0.5,0.5,0.5,0.5,0.5,0.5,0.5,0.5,0.5,0.5,0.5,0.5,0.5,0.5,0.5,0.5,0.5,0.5,0.5,0.5,0.5,0.5,0.5,0.5,0.5,0.5,0.5,0.5,0.5,0.5],\"y\":{\"__ndarray__\":\"MzMzMzPz/7+ZmZmZmdn/vwAAAAAAwP+/ZmZmZmam/7/NzMzMzIz/vzMzMzMzc/+/mZmZmZlZ/78AAAAAAED/v2ZmZmZmJv+/zczMzMwM/78zMzMzM/P+v5mZmZmZ2f6/AAAAAADA/r9mZmZmZqb+v83MzMzMjP6/MzMzMzNz/r+ZmZmZmVn+vwAAAAAAQP6/ZmZmZmYm/r/NzMzMzAz+vzMzMzMz8/2/mpmZmZnZ/b8AAAAAAMD9v2ZmZmZmpv2/zczMzMyM/b8zMzMzM3P9v5qZmZmZWf2/AAAAAABA/b9mZmZmZib9v83MzMzMDP2/MzMzMzPz/L+amZmZmdn8vwAAAAAAwPy/ZmZmZmam/L/NzMzMzIz8vzMzMzMzc/y/mpmZmZlZ/L8AAAAAAED8v2ZmZmZmJvy/zczMzMwM/L8zMzMzM/P7v5qZmZmZ2fu/AAAAAADA+79mZmZmZqb7v83MzMzMjPu/MzMzMzNz+7+amZmZmVn7vwAAAAAAQPu/ZmZmZmYm+7/NzMzMzAz7vzMzMzMz8/q/mpmZmZnZ+r8AAAAAAMD6v2ZmZmZmpvq/zczMzMyM+r8zMzMzM3P6v5qZmZmZWfq/AAAAAABA+r9mZmZmZib6v83MzMzMDPq/MzMzMzPz+b+amZmZmdn5vwAAAAAAwPm/ZmZmZmam+b/NzMzMzIz5vzMzMzMzc/m/mpmZmZlZ+b8AAAAAAED5v2ZmZmZmJvm/zczMzMwM+b8zMzMzM/P4v5qZmZmZ2fi/AAAAAADA+L9mZmZmZqb4v83MzMzMjPi/MzMzMzNz+L+amZmZmVn4vwAAAAAAQPi/ZmZmZmYm+L/NzMzMzAz4vzMzMzMz8/e/mpmZmZnZ978AAAAAAMD3v2ZmZmZmpve/zczMzMyM978zMzMzM3P3v5qZmZmZWfe/AAAAAABA979mZmZmZib3v83MzMzMDPe/MzMzMzPz9r+amZmZmdn2vwAAAAAAwPa/ZmZmZmam9r/NzMzMzIz2vzMzMzMzc/a/mpmZmZlZ9r8AAAAAAED2v2ZmZmZmJva/zczMzMwM9r8zMzMzM/P1v5qZmZmZ2fW/AAAAAADA9b9mZmZmZqb1v83MzMzMjPW/MzMzMzNz9b+amZmZmVn1vwAAAAAAQPW/ZmZmZmYm9b/NzMzMzAz1vzQzMzMz8/S/mpmZmZnZ9L8AAAAAAMD0v2ZmZmZmpvS/zczMzMyM9L80MzMzM3P0v5qZmZmZWfS/AAAAAABA9L9mZmZmZib0v83MzMzMDPS/NDMzMzPz87+amZmZmdnzvwAAAAAAwPO/ZmZmZmam87/NzMzMzIzzvzQzMzMzc/O/mpmZmZlZ878AAAAAAEDzv2ZmZmZmJvO/zczMzMwM8780MzMzM/Pyv5qZmZmZ2fK/AAAAAADA8r9mZmZmZqbyv83MzMzMjPK/NDMzMzNz8r+amZmZmVnyvwAAAAAAQPK/ZmZmZmYm8r/NzMzMzAzyvzQzMzMz8/G/mpmZmZnZ8b8AAAAAAMDxv2ZmZmZmpvG/zczMzMyM8b80MzMzM3Pxv5qZmZmZWfG/AAAAAABA8b9mZmZmZibxv83MzMzMDPG/NDMzMzPz8L+amZmZmdnwvwAAAAAAwPC/ZmZmZmam8L/NzMzMzIzwvzQzMzMzc/C/mpmZmZlZ8L8AAAAAAEDwv2ZmZmZmJvC/zczMzMwM8L9nZmZmZubvvzQzMzMzs++/AAAAAACA77/OzMzMzEzvv5qZmZmZGe+/ZmZmZmbm7r80MzMzM7PuvwAAAAAAgO6/zszMzMxM7r+amZmZmRnuv2ZmZmZm5u2/NDMzMzOz7b8AAAAAAIDtv87MzMzMTO2/mpmZmZkZ7b9mZmZmZubsvzQzMzMzs+y/AAAAAACA7L/OzMzMzEzsv5qZmZmZGey/ZmZmZmbm6780MzMzM7PrvwAAAAAAgOu/zszMzMxM67+amZmZmRnrv2ZmZmZm5uq/NDMzMzOz6r8AAAAAAIDqv87MzMzMTOq/mpmZmZkZ6r9mZmZmZubpvzQzMzMzs+m/AAAAAACA6b/OzMzMzEzpv5qZmZmZGem/ZmZmZmbm6L80MzMzM7PovwAAAAAAgOi/zszMzMxM6L+amZmZmRnov2ZmZmZm5ue/NDMzMzOz578AAAAAAIDnv87MzMzMTOe/mpmZmZkZ579mZmZmZubmvzQzMzMzs+a/AAAAAACA5r/OzMzMzEzmv5qZmZmZGea/ZmZmZmbm5b80MzMzM7PlvwAAAAAAgOW/zszMzMxM5b+amZmZmRnlv2hmZmZm5uS/NDMzMzOz5L8AAAAAAIDkv87MzMzMTOS/mpmZmZkZ5L9oZmZmZubjvzQzMzMzs+O/AAAAAACA47/OzMzMzEzjv5qZmZmZGeO/aGZmZmbm4r80MzMzM7PivwAAAAAAgOK/zszMzMxM4r+amZmZmRniv2hmZmZm5uG/NDMzMzOz4b8AAAAAAIDhv87MzMzMTOG/mpmZmZkZ4b9oZmZmZubgvzQzMzMzs+C/AAAAAACA4L/OzMzMzEzgv5qZmZmZGeC/0MzMzMzM379oZmZmZmbfvwAAAAAAAN+/nJmZmZmZ3r80MzMzMzPev9DMzMzMzN2/aGZmZmZm3b8AAAAAAADdv5yZmZmZmdy/NDMzMzMz3L/QzMzMzMzbv2hmZmZmZtu/AAAAAAAA27+cmZmZmZnavzQzMzMzM9q/0MzMzMzM2b9oZmZmZmbZvwAAAAAAANm/nJmZmZmZ2L80MzMzMzPYv9DMzMzMzNe/aGZmZmZm178AAAAAAADXv5yZmZmZmda/NDMzMzMz1r/QzMzMzMzVv2hmZmZmZtW/AAAAAAAA1b+cmZmZmZnUvzQzMzMzM9S/0MzMzMzM079oZmZmZmbTvwAAAAAAANO/nJmZmZmZ0r80MzMzMzPSv9DMzMzMzNG/aGZmZmZm0b8AAAAAAADRv5yZmZmZmdC/NDMzMzMz0L+gmZmZmZnPv9DMzMzMzM6/AAAAAAAAzr84MzMzMzPNv2hmZmZmZsy/oJmZmZmZy7/QzMzMzMzKvwAAAAAAAMq/ODMzMzMzyb9oZmZmZmbIv6CZmZmZmce/0MzMzMzMxr8AAAAAAADGvzgzMzMzM8W/aGZmZmZmxL+gmZmZmZnDv9DMzMzMzMK/AAAAAAAAwr84MzMzMzPBv2hmZmZmZsC/QDMzMzMzv7+gmZmZmZm9vxAAAAAAALy/cGZmZmZmur/QzMzMzMy4v0AzMzMzM7e/oJmZmZmZtb8QAAAAAAC0v3BmZmZmZrK/0MzMzMzMsL+AZmZmZmauv0AzMzMzM6u/IAAAAAAAqL/gzMzMzMykv6CZmZmZmaG/AM3MzMzMnL+AZmZmZmaWv0AAAAAAAJC/gDMzMzMzg7+amZmZmZlpvw==\",\"dtype\":\"float64\",\"shape\":[320]}},\"selected\":null,\"selection_policy\":null},\"id\":\"743976cb-9449-45ff-b5c7-5e2ecdd97d1b\",\"type\":\"ColumnDataSource\"},{\"attributes\":{\"callback\":null},\"id\":\"babd5649-d0ac-4edb-952c-764854ce9778\",\"type\":\"DataRange1d\"},{\"attributes\":{},\"id\":\"7aa7247c-8d75-4afb-80d6-9ed395224f4c\",\"type\":\"LinearScale\"},{\"attributes\":{\"callback\":null},\"id\":\"fea1fd61-c95d-4a40-bff7-6118c8fd0d54\",\"type\":\"DataRange1d\"},{\"attributes\":{\"active_drag\":\"auto\",\"active_inspect\":\"auto\",\"active_scroll\":\"auto\",\"active_tap\":\"auto\",\"tools\":[{\"id\":\"b0936ba4-b576-4590-9519-2ae250ffa134\",\"type\":\"HoverTool\"},{\"id\":\"2b96193d-efba-4ced-987e-5197023909a5\",\"type\":\"PanTool\"},{\"id\":\"4bbb9e4b-c12a-479f-8681-1ed734e02d7a\",\"type\":\"WheelZoomTool\"},{\"id\":\"0d953443-18f3-4ebb-84c9-2a6d8f5f2856\",\"type\":\"BoxZoomTool\"},{\"id\":\"b9074f08-9e92-4083-a274-19470cc0825f\",\"type\":\"ResetTool\"}]},\"id\":\"4ec916db-9150-4f5b-a47f-9ede88b47a05\",\"type\":\"Toolbar\"}],\"root_ids\":[\"f23b6792-292d-4db9-a112-5d1fc1ab335c\"]},\"title\":\"Bokeh Application\",\"version\":\"0.12.15\"}};\n",
       "  var render_items = [{\"docid\":\"b1fec04d-e2f9-4c4a-9038-97485efc0aae\",\"elementid\":\"d922c621-23f0-4403-9f5b-8cc9c6cfc16b\",\"modelid\":\"f23b6792-292d-4db9-a112-5d1fc1ab335c\"}];\n",
       "  root.Bokeh.embed.embed_items_notebook(docs_json, render_items);\n",
       "\n",
       "  }\n",
       "  if (root.Bokeh !== undefined) {\n",
       "    embed_document(root);\n",
       "  } else {\n",
       "    var attempts = 0;\n",
       "    var timer = setInterval(function(root) {\n",
       "      if (root.Bokeh !== undefined) {\n",
       "        embed_document(root);\n",
       "        clearInterval(timer);\n",
       "      }\n",
       "      attempts++;\n",
       "      if (attempts > 100) {\n",
       "        console.log(\"Bokeh: ERROR: Unable to run BokehJS code because BokehJS library is missing\")\n",
       "        clearInterval(timer);\n",
       "      }\n",
       "    }, 10, root)\n",
       "  }\n",
       "})(window);"
      ],
      "application/vnd.bokehjs_exec.v0+json": ""
     },
     "metadata": {
      "application/vnd.bokehjs_exec.v0+json": {
       "id": "f23b6792-292d-4db9-a112-5d1fc1ab335c"
      }
     },
     "output_type": "display_data"
    }
   ],
   "source": [
    "\n",
    "hover = HoverTool(tooltips=[\n",
    "    (\"(x,y)\", \"($x, $y)\"),\n",
    "])\n",
    "\n",
    "p1 = figure(plot_width=600, plot_height=600,tools=['pan,wheel_zoom,box_zoom,reset',hover],\n",
    "           title=\"Mouse over the dots\")\n",
    "\n",
    "p1.scatter(thetaS, eta[0:np.size(eta)-1], color=\"blue\", line_width=lineWidth)\n",
    "p1.xaxis.axis_label = ' water content at saturation [-]'\n",
    "p1.xaxis.axis_label_text_font_size = str(labelSize) + \"px\"\n",
    "p1.yaxis.axis_label = '\\u03b7 [m]'\n",
    "p1.yaxis.axis_label_text_font_size = str(labelSize) + \"px\"\n",
    "p1.title.text = 'Water content at saturation'\n",
    "p1.title.align = \"center\"\n",
    "p1.title.text_font_size = str(titleSize) + \"px\"\n",
    "tab1 = Panel(child=p1, title=\"Theta_s\")\n",
    "\n",
    "p2 = figure(plot_width=600, plot_height=600,tools=['pan,wheel_zoom,box_zoom,reset',hover],\n",
    "           title=\"Mouse over the dots\")\n",
    "p2.scatter(thetaR, eta[0:np.size(eta)-1],line_width=lineWidth, color=\"red\")\n",
    "p2.xaxis.axis_label = 'residual water content [-]'\n",
    "p2.xaxis.axis_label_text_font_size = str(labelSize) + \"px\"\n",
    "p2.yaxis.axis_label = '\\u03b7 [m]'\n",
    "p2.yaxis.axis_label_text_font_size = str(labelSize) + \"px\"\n",
    "p2.title.text = 'Residual water content'\n",
    "p2.title.align = \"center\"\n",
    "p2.title.text_font_size = str(titleSize) + \"px\"\n",
    "tab2 = Panel(child=p2, title=\"Theta_r\")\n",
    "\n",
    "p3 = figure(plot_width=600, plot_height=600,tools=['pan,wheel_zoom,box_zoom,reset',hover],\n",
    "           title=\"Mouse over the dots\" )\n",
    "p3.scatter(Ks, eta[0:np.size(eta)-1],line_width=lineWidth, color=\"red\")\n",
    "p3.xaxis.axis_label = 'Ks [m/s]'\n",
    "p3.xaxis.axis_label_text_font_size = str(labelSize) + \"px\"\n",
    "p3.yaxis.axis_label = '\\u03b7 [m]'\n",
    "p3.yaxis.axis_label_text_font_size = str(labelSize) + \"px\"\n",
    "p3.title.text = 'Saturated hydraulic conductivity'\n",
    "p3.title.align = \"center\"\n",
    "p3.title.text_font_size = str(titleSize) + \"px\"\n",
    "tab3= Panel(child=p3, title=\"Ks\")\n",
    "\n",
    "p4 = figure(plot_width=600, plot_height=600,tools=['pan,wheel_zoom,box_zoom,reset',hover],\n",
    "           title=\"Mouse over the dots\" )\n",
    "p4.scatter(par1SWRC, eta[0:np.size(eta)-1],line_width=lineWidth, color=\"red\")\n",
    "p4.xaxis.axis_label = ' '\n",
    "p4.xaxis.axis_label_text_font_size = str(labelSize) + \"px\"\n",
    "p4.yaxis.axis_label = '\\u03b7 [m]'\n",
    "p4.yaxis.axis_label_text_font_size = str(labelSize) + \"px\"\n",
    "p4.title.text = 'SWRC parameter 2'\n",
    "p4.title.align = \"center\"\n",
    "p4.title.text_font_size = str(titleSize) + \"px\"\n",
    "tab4= Panel(child=p4, title=\"SWRC par1\")\n",
    "\n",
    "p5 = figure(plot_width=600, plot_height=600,tools=['pan,wheel_zoom,box_zoom,reset',hover],\n",
    "           title=\"Mouse over the dots\" )\n",
    "p5.scatter(par2SWRC, eta[0:np.size(eta)-1],line_width=lineWidth, color=\"red\")\n",
    "p5.xaxis.axis_label = ' '\n",
    "p5.xaxis.axis_label_text_font_size = str(labelSize) + \"px\"\n",
    "p5.yaxis.axis_label = '\\u03b7 [m]'\n",
    "p5.yaxis.axis_label_text_font_size = str(labelSize) + \"px\"\n",
    "p5.title.text = 'SWRC parameter 2'\n",
    "p5.title.align = \"center\"\n",
    "p5.title.text_font_size = str(titleSize) + \"px\"\n",
    "tab5= Panel(child=p5, title=\"SWRC par2\")\n",
    "\n",
    "p6 = figure(plot_width=600, plot_height=600,tools=['pan,wheel_zoom,box_zoom,reset',hover],\n",
    "           title=\"Mouse over the dots\" )\n",
    "p6.scatter(par3SWRC, eta[0:np.size(eta)-1],line_width=lineWidth, color=\"red\")\n",
    "p6.xaxis.axis_label = '\\u03b1 [1/Pa]'\n",
    "p6.xaxis.axis_label_text_font_size = str(labelSize) + \"px\"\n",
    "p6.yaxis.axis_label = '\\u03b7 [m]'\n",
    "p6.yaxis.axis_label_text_font_size = str(labelSize) + \"px\"\n",
    "p6.title.text = 'Compressibility of soil'\n",
    "p6.title.align = \"center\"\n",
    "p6.title.text_font_size = str(titleSize) + \"px\"\n",
    "tab6= Panel(child=p6, title=\"\\u03b1\")\n",
    "\n",
    "p7 = figure(plot_width=600, plot_height=600,tools=['pan,wheel_zoom,box_zoom,reset',hover],\n",
    "           title=\"Mouse over the dots\" )\n",
    "p7.scatter(par4SWRC, eta[0:np.size(eta)-1],line_width=lineWidth, color=\"red\")\n",
    "p7.xaxis.axis_label = '\\u03b2 [1/Pa]'\n",
    "p7.xaxis.axis_label_text_font_size = str(labelSize) + \"px\"\n",
    "p7.yaxis.axis_label = '\\u03b7 [m]'\n",
    "p7.yaxis.axis_label_text_font_size = str(labelSize) + \"px\"\n",
    "p7.title.text = 'Compressibility of water'\n",
    "p7.title.align = \"center\"\n",
    "p7.title.text_font_size = str(titleSize) + \"px\"\n",
    "tab7= Panel(child=p7, title=\"\\u03b2\")\n",
    "\n",
    "p8 = figure(plot_width=600, plot_height=600,tools=['pan,wheel_zoom,box_zoom,reset',hover],\n",
    "           title=\"Mouse over the dots\" )\n",
    "p8.scatter(et, eta,line_width=lineWidth, color=\"red\")\n",
    "p8.xaxis.axis_label = 'et coeff. [1/s]'\n",
    "p8.xaxis.axis_label_text_font_size = str(labelSize) + \"px\"\n",
    "p8.yaxis.axis_label = '\\u03b7 [m]'\n",
    "p8.yaxis.axis_label_text_font_size = str(labelSize) + \"px\"\n",
    "p8.title.text = 'Source sink term'\n",
    "p8.title.align = \"center\"\n",
    "p8.title.text_font_size = str(titleSize) + \"px\"\n",
    "tab8= Panel(child=p8, title=\"et\")\n",
    "\n",
    "tabs = Tabs(tabs=[ tab1, tab2, tab3, tab4, tab5, tab6, tab7, tab8 ])\n",
    "show(tabs)"
   ]
  },
  {
   "cell_type": "markdown",
   "metadata": {},
   "source": [
    "## Save data in a NetCDF\n",
    "\n",
    "All data computed above are saved in NetCDF file"
   ]
  },
  {
   "cell_type": "code",
   "execution_count": 17,
   "metadata": {},
   "outputs": [],
   "source": [
    "## enter the following string to write your NetCDF\n",
    "\n",
    "fileName = \"C:\\\\Users\\\\Niccolo\\\\OMS\\\\OMS_Project_Richards1D\\\\data\\\\Grid_NetCDF\\\\Clay_noPonding_Dry.nc\"\n",
    "\n",
    "## file attributes\n",
    "\n",
    "title = '''Grid 1 layer clay no ponding water, constant psi with -50m at bottom, \n",
    "            clay thetaS =  0.5, thetaR = 0.07, Ks = 0.00000023m/s, alphaSpecificStorage = 0, betaSpecificStorage = 0\n",
    "                  VG model: n = 1.16, alpha = 5.58m \n",
    "            inputfile: data\\\\RichardMeshGen_input\\\\Clay_noPonding_Dry.csv'''\n",
    "institution = 'Geoframe'\n",
    "summary = 'This file stores all grid information (geometry, soiAll data computed above are saved in NetCDF file'\n",
    "date = '5/23/2018' \n"
   ]
  },
  {
   "cell_type": "code",
   "execution_count": 18,
   "metadata": {
    "scrolled": false
   },
   "outputs": [
    {
     "name": "stdout",
     "output_type": "stream",
     "text": [
      "*** SUCCESS writing!  C:\\Users\\Niccolo\\OMS\\OMS_Project_Richards1D\\data\\Grid_NetCDF\\Clay_noPonding_Dry.nc\n"
     ]
    }
   ],
   "source": [
    "\n",
    "from netCDF4 import Dataset\n",
    "\n",
    "\n",
    "\n",
    "# the output array to write will be nx x ny\n",
    "dim = np.size(eta);\n",
    "dim1 = np.size(thetaS)\n",
    "# open a new netCDF file for writing.\n",
    "ncfile = Dataset(fileName,'w') \n",
    "\n",
    "# Create global attributes\n",
    "ncfile.title = title\n",
    "ncfile.institution =  institution\n",
    "ncfile.summary = summary\n",
    "#ncfile.acknowledgment = \"\"\n",
    "ncfile.date_created = date\n",
    "\n",
    "\n",
    "# create the z dimensions.\n",
    "ncfile.createDimension('z',dim)\n",
    "ncfile.createDimension('zz',dim1)\n",
    "\n",
    "# create the variable\n",
    "# first argument is name of variable, second is datatype, third is\n",
    "# a tuple with the names of dimensions.\n",
    "dataEta = ncfile.createVariable('eta','f8',('z'))\n",
    "dataEta.unit = 'm'\n",
    "dataEta.long_name = '\\u03b7 coordinate of volume centroids: zero is at soil surface and and positive upward'\n",
    "\n",
    "dataEtaDual = ncfile.createVariable('etaDual','f8',('z'))\n",
    "dataEtaDual.unit = 'm'\n",
    "dataEtaDual.long_name = '\\u03b7 coordinate of volume interfaces: zero is at soil surface and and positive upward. '\n",
    "\n",
    "dataZ = ncfile.createVariable('z','f8',('z'))\n",
    "dataZ.unit = 'm'\n",
    "dataZ.long_name = 'z coordinate  of volume centroids: zero is at the bottom of the column and and positive upward'\n",
    "\n",
    "dataZDual = ncfile.createVariable('zDual','f8',('z'))\n",
    "dataZDual.unit = 'm'\n",
    "dataZDual.long_name = 'z coordinate of volume interfaces: zero is at soil surface and and positive upward.'\n",
    "\n",
    "\n",
    "dataPsiIC = ncfile.createVariable('psiIC','f8',('z'))\n",
    "dataPsiIC.units = 'm'\n",
    "dataPsiIC.long_name = 'initial condition for water suction'\n",
    "\n",
    "dataSpaceDelta = ncfile.createVariable('spaceDelta','f8',('z'))\n",
    "dataSpaceDelta.unit = 'm'\n",
    "dataSpaceDelta.long_name = 'Distance between consecutive controids, is used to compute gradients'\n",
    "\n",
    "dataEt = ncfile.createVariable('et','f8',('z'))\n",
    "dataEt.units = '1/s'\n",
    "dataEt.long_name = 'Coefficient to simulate ET'\n",
    "\n",
    "\n",
    "\n",
    "\n",
    "dataDeltaZ = ncfile.createVariable('deltaZ','f8',('zz'))\n",
    "dataDeltaZ.unit = 'm'\n",
    "dataDeltaZ.long_name = 'Length of each control volume'\n",
    "\n",
    "dataThetaS = ncfile.createVariable('thetaS','f8',('zz'))\n",
    "dataThetaS.units = '-'\n",
    "dataThetaS.long_name = 'adimensional water content at saturation'\n",
    "\n",
    "dataThetaR = ncfile.createVariable('thetaR','f8',('zz'))\n",
    "dataThetaR.units = '-'\n",
    "dataThetaR.long_name = 'adimensional residual water content'\n",
    "\n",
    "dataKs = ncfile.createVariable('Ks','f8',('zz'))\n",
    "dataKs.units = 'm/s'\n",
    "dataKs.long_name = 'hydraulic conductivity at saturation'\n",
    "\n",
    "## enter the long_name of par1SWRC, as an example  Parameter n of Van Genuchten model\n",
    "dataPar1SWRC = ncfile.createVariable('par1SWRC','f8',('zz'))\n",
    "dataPar1SWRC.units = '-'\n",
    "dataPar1SWRC.long_name = 'Parameter n of Van Genuchten model'#'Parameter n of Brooks and Corey model'#\n",
    "\n",
    "## enter the long_name of par2SWRC, as an example  Parameter alpha of Van Genuchten model\n",
    "dataPar2SWRC = ncfile.createVariable('par2SWRC','f8',('zz'))\n",
    "dataPar2SWRC.units = 'm'\n",
    "dataPar2SWRC.long_name = 'Parameter alpha of Van Genuchten model'#'Parameter psiD of Brooks and Corey model'#\n",
    "\n",
    "dataPar3SWRC = ncfile.createVariable('par3SWRC','f8',('zz'))\n",
    "dataPar3SWRC.units = '1/Pa'\n",
    "dataPar3SWRC.long_name = 'Aquitard compressibility'\n",
    "\n",
    "dataPar4SWRC = ncfile.createVariable('par4SWRC','f8',('zz'))\n",
    "dataPar4SWRC.units = '1/Pa'\n",
    "dataPar4SWRC.long_name = 'Water compressibility'\n",
    "\n",
    "\n",
    "\n",
    "# write data to variable.\n",
    "for i in range(0,dim):\n",
    "    dataEta[i] = eta[i]\n",
    "    dataEtaDual[i] = etaDual[i]\n",
    "    dataZ[i] = z[i]\n",
    "    dataZDual[i] = zDual[i]\n",
    "    dataPsiIC[i] = psiIC[i]\n",
    "    dataSpaceDelta[i] = spaceDelta[i]\n",
    "    dataEt[i] = et[i]\n",
    "   \n",
    "\n",
    "for i in range(0,dim1):\n",
    "    dataDeltaZ[i] = length[i]\n",
    "    dataThetaS[i] = thetaS[i]\n",
    "    dataThetaR[i] = thetaR[i]\n",
    "    dataKs[i] = Ks[i]\n",
    "    dataPar1SWRC[i] = par1SWRC[i]\n",
    "    dataPar2SWRC[i] = par2SWRC[i]\n",
    "    dataPar3SWRC[i] = par3SWRC[i]\n",
    "    dataPar4SWRC[i] = par4SWRC[i]\n",
    "   \n",
    "    \n",
    "## close the file.\n",
    "ncfile.close()\n",
    "print ('*** SUCCESS writing!  '+fileName)\n"
   ]
  },
  {
   "cell_type": "code",
   "execution_count": null,
   "metadata": {},
   "outputs": [],
   "source": []
  }
 ],
 "metadata": {
  "kernelspec": {
   "display_name": "Python 3",
   "language": "python",
   "name": "python3"
  },
  "language_info": {
   "codemirror_mode": {
    "name": "ipython",
    "version": 3
   },
   "file_extension": ".py",
   "mimetype": "text/x-python",
   "name": "python",
   "nbconvert_exporter": "python",
   "pygments_lexer": "ipython3",
   "version": "3.6.3"
  }
 },
 "nbformat": 4,
 "nbformat_minor": 2
}
