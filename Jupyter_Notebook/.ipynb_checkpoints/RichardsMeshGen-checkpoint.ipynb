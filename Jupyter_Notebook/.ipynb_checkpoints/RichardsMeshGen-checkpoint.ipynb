{
 "cells": [
  {
   "cell_type": "markdown",
   "metadata": {},
   "source": [
    "# Create the grid for Richards 1D\n",
    "\n",
    "This code allows to create a mesh for 1D PDE problem:\n",
    "    - domain discretization\n",
    "    - parameters setting\n",
    "All output data are stored in a NetCDF file"
   ]
  },
  {
   "cell_type": "code",
   "execution_count": 2,
   "metadata": {},
   "outputs": [],
   "source": [
    "# -*- coding: utf-8 -*-\n",
    "\"\"\"\n",
    "  GNU GPL v3 License\n",
    " \n",
    "  Copyright 2018 Niccolo` Tubini\n",
    " \n",
    "  This program is free software: you can redistribute it and/or modify\n",
    "  it under the terms of the GNU General Public License as published by\n",
    "  the Free Software Foundation, either version 3 of the License, or\n",
    "  (at your option) any later version.\n",
    " \n",
    "  This program is distributed in the hope that it will be useful,\n",
    "  but WITHOUT ANY WARRANTY; without even the implied warranty of\n",
    "  MERCHANTABILITY or FITNESS FOR A PARTICULAR PURPOSE.  See the\n",
    "  GNU General Public License for more details.\n",
    " \n",
    "  You should have received a copy of the GNU General Public License\n",
    "  along with this program.  If not, see <http://www.gnu.org/licenses/>.\n",
    "\"\"\"\n",
    "\n",
    "\n",
    "import os\n",
    "import pandas as pd\n",
    "import numpy as np\n",
    "import matplotlib.pyplot as plt\n"
   ]
  },
  {
   "cell_type": "code",
   "execution_count": 4,
   "metadata": {},
   "outputs": [
    {
     "data": {
      "text/plain": [
       "['ClaySand_noPonding.csv',\n",
       " 'Clay_noPonding.csv',\n",
       " 'SandClay_01Ponding_Measurement.csv',\n",
       " 'Sand_01Ponding.csv']"
      ]
     },
     "execution_count": 4,
     "metadata": {},
     "output_type": "execute_result"
    }
   ],
   "source": [
    "os.chdir(\"C:\\\\Users\\\\Niccolo\\\\OMS\\\\OMS_Project_Richards1D_Newest\\\\data\\\\RichardMeshGen_input\")\n",
    "os.listdir()"
   ]
  },
  {
   "cell_type": "markdown",
   "metadata": {},
   "source": [
    "### Read the input file in format .csv"
   ]
  },
  {
   "cell_type": "code",
   "execution_count": 5,
   "metadata": {},
   "outputs": [],
   "source": [
    "\n",
    "data = pd.read_csv(\"Sand_01Ponding.csv\")\n",
    "#print(data.head())\n",
    "#print(data.index)\n",
    "#print(data.columns)"
   ]
  },
  {
   "cell_type": "markdown",
   "metadata": {},
   "source": [
    "### This section computes geometrical quantities of the discretized domain\n",
    "- eta is the vertical coordinate of the control volumes centroids. eta is positive upward and its origin is set at the soil surface. This coordinate will be used to compute intial condition and plot outputs such as water head and water content\n",
    "- etaDual is the vertical coordiante of control volumes interfaces. etaDual is positive upward and its origin is set at the soil surface. This coordinate will be used to plot output velocities.\n",
    "- z is the vertical coordinate of the control volumes centroids. z is positive upward and its origin is set at the bottom of the soil column.\n",
    "- zDual is the vertical coordiante of control volumes interfaces. zDual is positive upward and its origin is set at the bottom of the soil column."
   ]
  },
  {
   "cell_type": "code",
   "execution_count": 6,
   "metadata": {},
   "outputs": [],
   "source": [
    "\n",
    "## list containing centroids coordinates\n",
    "eta = [] \n",
    "## list containing control volumes interface coordinates\n",
    "etaDual = []\n",
    "\n",
    "    \n",
    "for i in range(np.size(data.index)-1,0,-1):\n",
    "    if data['Type'][i]=='L' and data['Type'][i-1]=='L':\n",
    "        #print(\"Layer layer\")\n",
    "        deta = ( data['eta'][i]-data['eta'][i-1])/data['N'][i-1]\n",
    "        eta=np.append(eta, np.linspace(data['eta'][i]-deta/2,data['eta'][i-1]+deta/2,num=data['N'][i-1],endpoint=True) )\n",
    "        etaDual=np.append(etaDual, np.linspace(data['eta'][i],data['eta'][i-1],num=data['N'][i-1]+1,endpoint=True) )\n",
    "    elif data['Type'][i]=='L' and data['Type'][i-1]=='M':\n",
    "        #print(\"Layer Meas\")\n",
    "        deta = ( data['eta'][i]-data['eta'][i-1])/data['N'][i-1]\n",
    "        eta=np.append(eta, np.linspace(data['eta'][i]-deta/2,data['eta'][i-1],num=data['N'][i-1],endpoint=True) )\n",
    "        etaDual=np.append(etaDual, np.linspace(data['eta'][i],data['eta'][i-1]+deta/2,num=data['N'][i-1],endpoint=True) )\n",
    "    elif data['Type'][i]=='M' and data['Type'][i-1]=='L':\n",
    "        #print(\"Meas layer\")\n",
    "        deta = ( data['eta'][i]-data['eta'][i-1])/data['N'][i-1]\n",
    "        eta=np.append(eta, np.linspace(data['eta'][i],data['eta'][i-1]+deta/2,num=data['N'][i-1],endpoint=True) )\n",
    "        etaDual=np.append(etaDual, np.linspace(data['eta'][i]-deta/2,data['eta'][i-1],num=data['N'][i-1],endpoint=True) )\n",
    "    else:\n",
    "        print(\"ERROR!!\")  \n",
    "        \n",
    "## to eliminate doubles\n",
    "eta=[ii for n,ii in enumerate(eta) if ii not in eta[:n]]\n",
    "etaDual=[ii for n,ii in enumerate(etaDual) if ii not in etaDual[:n]]\n",
    "\n",
    "\n",
    "## control volume length\n",
    "length = []\n",
    "\n",
    "for i in range(0,np.size(etaDual)-1):\n",
    "    length = np.append(length, np.abs(etaDual[i]-etaDual[i+1]) )\n",
    "\n",
    "    \n",
    "## space length: is used to cumpute gradients\n",
    "spaceDelta = []\n",
    "\n",
    "for i in range(0,np.size(etaDual)):\n",
    "    if i==0:\n",
    "        spaceDelta = np.append(spaceDelta, np.abs(etaDual[i]-eta[i]) )\n",
    "    elif i==np.size(etaDual)-1:\n",
    "        spaceDelta = np.append(spaceDelta, np.abs(etaDual[i]-eta[i-1]) )\n",
    "    else:\n",
    "         spaceDelta = np.append(spaceDelta, np.abs(eta[i-1]-eta[i]) )\n",
    "   \n",
    "\n",
    "eta= np.append(eta,data['eta'][0])\n"
   ]
  },
  {
   "cell_type": "code",
   "execution_count": 7,
   "metadata": {},
   "outputs": [],
   "source": [
    "## DA AGGIUNGERE ALLA FINE PERCHE SONO QUELLE CHE SERVONO IN ECLIPSE\n",
    "z = []\n",
    "zDual = []\n",
    "for i in range(0, np.size(eta)):\n",
    "    z = np.append(z,eta[i]-data['eta'][np.size(data['eta'])-1])\n",
    "    \n",
    "for i in range(0, np.size(etaDual)):\n",
    "    zDual = np.append(zDual,etaDual[i]-data['eta'][np.size(data['eta'])-1])"
   ]
  },
  {
   "cell_type": "markdown",
   "metadata": {},
   "source": [
    "## Grid plot\n",
    "The sections below allows to plot the discretized domain. In the first plot control volumes centroids are shown, whilst in the second one their interfaces. Moreover, in both plots soil layer and measurament points are drawn.\n",
    "\n",
    "These plots are drawn with bokeh library https://bokeh.pydata.org/en/latest/, and they are interactive."
   ]
  },
  {
   "cell_type": "code",
   "execution_count": 8,
   "metadata": {},
   "outputs": [
    {
     "data": {
      "text/html": [
       "\n",
       "    <div class=\"bk-root\">\n",
       "        <a href=\"https://bokeh.pydata.org\" target=\"_blank\" class=\"bk-logo bk-logo-small bk-logo-notebook\"></a>\n",
       "        <span id=\"04df8244-09ee-4022-a776-74b0d46690f7\">Loading BokehJS ...</span>\n",
       "    </div>"
      ]
     },
     "metadata": {},
     "output_type": "display_data"
    },
    {
     "data": {
      "application/javascript": [
       "\n",
       "(function(root) {\n",
       "  function now() {\n",
       "    return new Date();\n",
       "  }\n",
       "\n",
       "  var force = true;\n",
       "\n",
       "  if (typeof (root._bokeh_onload_callbacks) === \"undefined\" || force === true) {\n",
       "    root._bokeh_onload_callbacks = [];\n",
       "    root._bokeh_is_loading = undefined;\n",
       "  }\n",
       "\n",
       "  var JS_MIME_TYPE = 'application/javascript';\n",
       "  var HTML_MIME_TYPE = 'text/html';\n",
       "  var EXEC_MIME_TYPE = 'application/vnd.bokehjs_exec.v0+json';\n",
       "  var CLASS_NAME = 'output_bokeh rendered_html';\n",
       "\n",
       "  /**\n",
       "   * Render data to the DOM node\n",
       "   */\n",
       "  function render(props, node) {\n",
       "    var script = document.createElement(\"script\");\n",
       "    node.appendChild(script);\n",
       "  }\n",
       "\n",
       "  /**\n",
       "   * Handle when an output is cleared or removed\n",
       "   */\n",
       "  function handleClearOutput(event, handle) {\n",
       "    var cell = handle.cell;\n",
       "\n",
       "    var id = cell.output_area._bokeh_element_id;\n",
       "    var server_id = cell.output_area._bokeh_server_id;\n",
       "    // Clean up Bokeh references\n",
       "    if (id !== undefined) {\n",
       "      Bokeh.index[id].model.document.clear();\n",
       "      delete Bokeh.index[id];\n",
       "    }\n",
       "\n",
       "    if (server_id !== undefined) {\n",
       "      // Clean up Bokeh references\n",
       "      var cmd = \"from bokeh.io.state import curstate; print(curstate().uuid_to_server['\" + server_id + \"'].get_sessions()[0].document.roots[0]._id)\";\n",
       "      cell.notebook.kernel.execute(cmd, {\n",
       "        iopub: {\n",
       "          output: function(msg) {\n",
       "            var element_id = msg.content.text.trim();\n",
       "            Bokeh.index[element_id].model.document.clear();\n",
       "            delete Bokeh.index[element_id];\n",
       "          }\n",
       "        }\n",
       "      });\n",
       "      // Destroy server and session\n",
       "      var cmd = \"import bokeh.io.notebook as ion; ion.destroy_server('\" + server_id + \"')\";\n",
       "      cell.notebook.kernel.execute(cmd);\n",
       "    }\n",
       "  }\n",
       "\n",
       "  /**\n",
       "   * Handle when a new output is added\n",
       "   */\n",
       "  function handleAddOutput(event, handle) {\n",
       "    var output_area = handle.output_area;\n",
       "    var output = handle.output;\n",
       "\n",
       "    // limit handleAddOutput to display_data with EXEC_MIME_TYPE content only\n",
       "    if ((output.output_type != \"display_data\") || (!output.data.hasOwnProperty(EXEC_MIME_TYPE))) {\n",
       "      return\n",
       "    }\n",
       "\n",
       "    var toinsert = output_area.element.find(\".\" + CLASS_NAME.split(' ')[0]);\n",
       "\n",
       "    if (output.metadata[EXEC_MIME_TYPE][\"id\"] !== undefined) {\n",
       "      toinsert[toinsert.length - 1].firstChild.textContent = output.data[JS_MIME_TYPE];\n",
       "      // store reference to embed id on output_area\n",
       "      output_area._bokeh_element_id = output.metadata[EXEC_MIME_TYPE][\"id\"];\n",
       "    }\n",
       "    if (output.metadata[EXEC_MIME_TYPE][\"server_id\"] !== undefined) {\n",
       "      var bk_div = document.createElement(\"div\");\n",
       "      bk_div.innerHTML = output.data[HTML_MIME_TYPE];\n",
       "      var script_attrs = bk_div.children[0].attributes;\n",
       "      for (var i = 0; i < script_attrs.length; i++) {\n",
       "        toinsert[toinsert.length - 1].firstChild.setAttribute(script_attrs[i].name, script_attrs[i].value);\n",
       "      }\n",
       "      // store reference to server id on output_area\n",
       "      output_area._bokeh_server_id = output.metadata[EXEC_MIME_TYPE][\"server_id\"];\n",
       "    }\n",
       "  }\n",
       "\n",
       "  function register_renderer(events, OutputArea) {\n",
       "\n",
       "    function append_mime(data, metadata, element) {\n",
       "      // create a DOM node to render to\n",
       "      var toinsert = this.create_output_subarea(\n",
       "        metadata,\n",
       "        CLASS_NAME,\n",
       "        EXEC_MIME_TYPE\n",
       "      );\n",
       "      this.keyboard_manager.register_events(toinsert);\n",
       "      // Render to node\n",
       "      var props = {data: data, metadata: metadata[EXEC_MIME_TYPE]};\n",
       "      render(props, toinsert[toinsert.length - 1]);\n",
       "      element.append(toinsert);\n",
       "      return toinsert\n",
       "    }\n",
       "\n",
       "    /* Handle when an output is cleared or removed */\n",
       "    events.on('clear_output.CodeCell', handleClearOutput);\n",
       "    events.on('delete.Cell', handleClearOutput);\n",
       "\n",
       "    /* Handle when a new output is added */\n",
       "    events.on('output_added.OutputArea', handleAddOutput);\n",
       "\n",
       "    /**\n",
       "     * Register the mime type and append_mime function with output_area\n",
       "     */\n",
       "    OutputArea.prototype.register_mime_type(EXEC_MIME_TYPE, append_mime, {\n",
       "      /* Is output safe? */\n",
       "      safe: true,\n",
       "      /* Index of renderer in `output_area.display_order` */\n",
       "      index: 0\n",
       "    });\n",
       "  }\n",
       "\n",
       "  // register the mime type if in Jupyter Notebook environment and previously unregistered\n",
       "  if (root.Jupyter !== undefined) {\n",
       "    var events = require('base/js/events');\n",
       "    var OutputArea = require('notebook/js/outputarea').OutputArea;\n",
       "\n",
       "    if (OutputArea.prototype.mime_types().indexOf(EXEC_MIME_TYPE) == -1) {\n",
       "      register_renderer(events, OutputArea);\n",
       "    }\n",
       "  }\n",
       "\n",
       "  \n",
       "  if (typeof (root._bokeh_timeout) === \"undefined\" || force === true) {\n",
       "    root._bokeh_timeout = Date.now() + 5000;\n",
       "    root._bokeh_failed_load = false;\n",
       "  }\n",
       "\n",
       "  var NB_LOAD_WARNING = {'data': {'text/html':\n",
       "     \"<div style='background-color: #fdd'>\\n\"+\n",
       "     \"<p>\\n\"+\n",
       "     \"BokehJS does not appear to have successfully loaded. If loading BokehJS from CDN, this \\n\"+\n",
       "     \"may be due to a slow or bad network connection. Possible fixes:\\n\"+\n",
       "     \"</p>\\n\"+\n",
       "     \"<ul>\\n\"+\n",
       "     \"<li>re-rerun `output_notebook()` to attempt to load from CDN again, or</li>\\n\"+\n",
       "     \"<li>use INLINE resources instead, as so:</li>\\n\"+\n",
       "     \"</ul>\\n\"+\n",
       "     \"<code>\\n\"+\n",
       "     \"from bokeh.resources import INLINE\\n\"+\n",
       "     \"output_notebook(resources=INLINE)\\n\"+\n",
       "     \"</code>\\n\"+\n",
       "     \"</div>\"}};\n",
       "\n",
       "  function display_loaded() {\n",
       "    var el = document.getElementById(\"04df8244-09ee-4022-a776-74b0d46690f7\");\n",
       "    if (el != null) {\n",
       "      el.textContent = \"BokehJS is loading...\";\n",
       "    }\n",
       "    if (root.Bokeh !== undefined) {\n",
       "      if (el != null) {\n",
       "        el.textContent = \"BokehJS \" + root.Bokeh.version + \" successfully loaded.\";\n",
       "      }\n",
       "    } else if (Date.now() < root._bokeh_timeout) {\n",
       "      setTimeout(display_loaded, 100)\n",
       "    }\n",
       "  }\n",
       "\n",
       "\n",
       "  function run_callbacks() {\n",
       "    try {\n",
       "      root._bokeh_onload_callbacks.forEach(function(callback) { callback() });\n",
       "    }\n",
       "    finally {\n",
       "      delete root._bokeh_onload_callbacks\n",
       "    }\n",
       "    console.info(\"Bokeh: all callbacks have finished\");\n",
       "  }\n",
       "\n",
       "  function load_libs(js_urls, callback) {\n",
       "    root._bokeh_onload_callbacks.push(callback);\n",
       "    if (root._bokeh_is_loading > 0) {\n",
       "      console.log(\"Bokeh: BokehJS is being loaded, scheduling callback at\", now());\n",
       "      return null;\n",
       "    }\n",
       "    if (js_urls == null || js_urls.length === 0) {\n",
       "      run_callbacks();\n",
       "      return null;\n",
       "    }\n",
       "    console.log(\"Bokeh: BokehJS not loaded, scheduling load and callback at\", now());\n",
       "    root._bokeh_is_loading = js_urls.length;\n",
       "    for (var i = 0; i < js_urls.length; i++) {\n",
       "      var url = js_urls[i];\n",
       "      var s = document.createElement('script');\n",
       "      s.src = url;\n",
       "      s.async = false;\n",
       "      s.onreadystatechange = s.onload = function() {\n",
       "        root._bokeh_is_loading--;\n",
       "        if (root._bokeh_is_loading === 0) {\n",
       "          console.log(\"Bokeh: all BokehJS libraries loaded\");\n",
       "          run_callbacks()\n",
       "        }\n",
       "      };\n",
       "      s.onerror = function() {\n",
       "        console.warn(\"failed to load library \" + url);\n",
       "      };\n",
       "      console.log(\"Bokeh: injecting script tag for BokehJS library: \", url);\n",
       "      document.getElementsByTagName(\"head\")[0].appendChild(s);\n",
       "    }\n",
       "  };var element = document.getElementById(\"04df8244-09ee-4022-a776-74b0d46690f7\");\n",
       "  if (element == null) {\n",
       "    console.log(\"Bokeh: ERROR: autoload.js configured with elementid '04df8244-09ee-4022-a776-74b0d46690f7' but no matching script tag was found. \")\n",
       "    return false;\n",
       "  }\n",
       "\n",
       "  var js_urls = [\"https://cdn.pydata.org/bokeh/release/bokeh-0.12.15.min.js\", \"https://cdn.pydata.org/bokeh/release/bokeh-widgets-0.12.15.min.js\", \"https://cdn.pydata.org/bokeh/release/bokeh-tables-0.12.15.min.js\", \"https://cdn.pydata.org/bokeh/release/bokeh-gl-0.12.15.min.js\"];\n",
       "\n",
       "  var inline_js = [\n",
       "    function(Bokeh) {\n",
       "      Bokeh.set_log_level(\"info\");\n",
       "    },\n",
       "    \n",
       "    function(Bokeh) {\n",
       "      \n",
       "    },\n",
       "    function(Bokeh) {\n",
       "      console.log(\"Bokeh: injecting CSS: https://cdn.pydata.org/bokeh/release/bokeh-0.12.15.min.css\");\n",
       "      Bokeh.embed.inject_css(\"https://cdn.pydata.org/bokeh/release/bokeh-0.12.15.min.css\");\n",
       "      console.log(\"Bokeh: injecting CSS: https://cdn.pydata.org/bokeh/release/bokeh-widgets-0.12.15.min.css\");\n",
       "      Bokeh.embed.inject_css(\"https://cdn.pydata.org/bokeh/release/bokeh-widgets-0.12.15.min.css\");\n",
       "      console.log(\"Bokeh: injecting CSS: https://cdn.pydata.org/bokeh/release/bokeh-tables-0.12.15.min.css\");\n",
       "      Bokeh.embed.inject_css(\"https://cdn.pydata.org/bokeh/release/bokeh-tables-0.12.15.min.css\");\n",
       "    }\n",
       "  ];\n",
       "\n",
       "  function run_inline_js() {\n",
       "    \n",
       "    if ((root.Bokeh !== undefined) || (force === true)) {\n",
       "      for (var i = 0; i < inline_js.length; i++) {\n",
       "        inline_js[i].call(root, root.Bokeh);\n",
       "      }if (force === true) {\n",
       "        display_loaded();\n",
       "      }} else if (Date.now() < root._bokeh_timeout) {\n",
       "      setTimeout(run_inline_js, 100);\n",
       "    } else if (!root._bokeh_failed_load) {\n",
       "      console.log(\"Bokeh: BokehJS failed to load within specified timeout.\");\n",
       "      root._bokeh_failed_load = true;\n",
       "    } else if (force !== true) {\n",
       "      var cell = $(document.getElementById(\"04df8244-09ee-4022-a776-74b0d46690f7\")).parents('.cell').data().cell;\n",
       "      cell.output_area.append_execute_result(NB_LOAD_WARNING)\n",
       "    }\n",
       "\n",
       "  }\n",
       "\n",
       "  if (root._bokeh_is_loading === 0) {\n",
       "    console.log(\"Bokeh: BokehJS loaded, going straight to plotting\");\n",
       "    run_inline_js();\n",
       "  } else {\n",
       "    load_libs(js_urls, function() {\n",
       "      console.log(\"Bokeh: BokehJS plotting callback run at\", now());\n",
       "      run_inline_js();\n",
       "    });\n",
       "  }\n",
       "}(window));"
      ],
      "application/vnd.bokehjs_load.v0+json": "\n(function(root) {\n  function now() {\n    return new Date();\n  }\n\n  var force = true;\n\n  if (typeof (root._bokeh_onload_callbacks) === \"undefined\" || force === true) {\n    root._bokeh_onload_callbacks = [];\n    root._bokeh_is_loading = undefined;\n  }\n\n  \n\n  \n  if (typeof (root._bokeh_timeout) === \"undefined\" || force === true) {\n    root._bokeh_timeout = Date.now() + 5000;\n    root._bokeh_failed_load = false;\n  }\n\n  var NB_LOAD_WARNING = {'data': {'text/html':\n     \"<div style='background-color: #fdd'>\\n\"+\n     \"<p>\\n\"+\n     \"BokehJS does not appear to have successfully loaded. If loading BokehJS from CDN, this \\n\"+\n     \"may be due to a slow or bad network connection. Possible fixes:\\n\"+\n     \"</p>\\n\"+\n     \"<ul>\\n\"+\n     \"<li>re-rerun `output_notebook()` to attempt to load from CDN again, or</li>\\n\"+\n     \"<li>use INLINE resources instead, as so:</li>\\n\"+\n     \"</ul>\\n\"+\n     \"<code>\\n\"+\n     \"from bokeh.resources import INLINE\\n\"+\n     \"output_notebook(resources=INLINE)\\n\"+\n     \"</code>\\n\"+\n     \"</div>\"}};\n\n  function display_loaded() {\n    var el = document.getElementById(\"04df8244-09ee-4022-a776-74b0d46690f7\");\n    if (el != null) {\n      el.textContent = \"BokehJS is loading...\";\n    }\n    if (root.Bokeh !== undefined) {\n      if (el != null) {\n        el.textContent = \"BokehJS \" + root.Bokeh.version + \" successfully loaded.\";\n      }\n    } else if (Date.now() < root._bokeh_timeout) {\n      setTimeout(display_loaded, 100)\n    }\n  }\n\n\n  function run_callbacks() {\n    try {\n      root._bokeh_onload_callbacks.forEach(function(callback) { callback() });\n    }\n    finally {\n      delete root._bokeh_onload_callbacks\n    }\n    console.info(\"Bokeh: all callbacks have finished\");\n  }\n\n  function load_libs(js_urls, callback) {\n    root._bokeh_onload_callbacks.push(callback);\n    if (root._bokeh_is_loading > 0) {\n      console.log(\"Bokeh: BokehJS is being loaded, scheduling callback at\", now());\n      return null;\n    }\n    if (js_urls == null || js_urls.length === 0) {\n      run_callbacks();\n      return null;\n    }\n    console.log(\"Bokeh: BokehJS not loaded, scheduling load and callback at\", now());\n    root._bokeh_is_loading = js_urls.length;\n    for (var i = 0; i < js_urls.length; i++) {\n      var url = js_urls[i];\n      var s = document.createElement('script');\n      s.src = url;\n      s.async = false;\n      s.onreadystatechange = s.onload = function() {\n        root._bokeh_is_loading--;\n        if (root._bokeh_is_loading === 0) {\n          console.log(\"Bokeh: all BokehJS libraries loaded\");\n          run_callbacks()\n        }\n      };\n      s.onerror = function() {\n        console.warn(\"failed to load library \" + url);\n      };\n      console.log(\"Bokeh: injecting script tag for BokehJS library: \", url);\n      document.getElementsByTagName(\"head\")[0].appendChild(s);\n    }\n  };var element = document.getElementById(\"04df8244-09ee-4022-a776-74b0d46690f7\");\n  if (element == null) {\n    console.log(\"Bokeh: ERROR: autoload.js configured with elementid '04df8244-09ee-4022-a776-74b0d46690f7' but no matching script tag was found. \")\n    return false;\n  }\n\n  var js_urls = [\"https://cdn.pydata.org/bokeh/release/bokeh-0.12.15.min.js\", \"https://cdn.pydata.org/bokeh/release/bokeh-widgets-0.12.15.min.js\", \"https://cdn.pydata.org/bokeh/release/bokeh-tables-0.12.15.min.js\", \"https://cdn.pydata.org/bokeh/release/bokeh-gl-0.12.15.min.js\"];\n\n  var inline_js = [\n    function(Bokeh) {\n      Bokeh.set_log_level(\"info\");\n    },\n    \n    function(Bokeh) {\n      \n    },\n    function(Bokeh) {\n      console.log(\"Bokeh: injecting CSS: https://cdn.pydata.org/bokeh/release/bokeh-0.12.15.min.css\");\n      Bokeh.embed.inject_css(\"https://cdn.pydata.org/bokeh/release/bokeh-0.12.15.min.css\");\n      console.log(\"Bokeh: injecting CSS: https://cdn.pydata.org/bokeh/release/bokeh-widgets-0.12.15.min.css\");\n      Bokeh.embed.inject_css(\"https://cdn.pydata.org/bokeh/release/bokeh-widgets-0.12.15.min.css\");\n      console.log(\"Bokeh: injecting CSS: https://cdn.pydata.org/bokeh/release/bokeh-tables-0.12.15.min.css\");\n      Bokeh.embed.inject_css(\"https://cdn.pydata.org/bokeh/release/bokeh-tables-0.12.15.min.css\");\n    }\n  ];\n\n  function run_inline_js() {\n    \n    if ((root.Bokeh !== undefined) || (force === true)) {\n      for (var i = 0; i < inline_js.length; i++) {\n        inline_js[i].call(root, root.Bokeh);\n      }if (force === true) {\n        display_loaded();\n      }} else if (Date.now() < root._bokeh_timeout) {\n      setTimeout(run_inline_js, 100);\n    } else if (!root._bokeh_failed_load) {\n      console.log(\"Bokeh: BokehJS failed to load within specified timeout.\");\n      root._bokeh_failed_load = true;\n    } else if (force !== true) {\n      var cell = $(document.getElementById(\"04df8244-09ee-4022-a776-74b0d46690f7\")).parents('.cell').data().cell;\n      cell.output_area.append_execute_result(NB_LOAD_WARNING)\n    }\n\n  }\n\n  if (root._bokeh_is_loading === 0) {\n    console.log(\"Bokeh: BokehJS loaded, going straight to plotting\");\n    run_inline_js();\n  } else {\n    load_libs(js_urls, function() {\n      console.log(\"Bokeh: BokehJS plotting callback run at\", now());\n      run_inline_js();\n    });\n  }\n}(window));"
     },
     "metadata": {},
     "output_type": "display_data"
    }
   ],
   "source": [
    "\n",
    "# Standard imports \n",
    "from bokeh.io import output_notebook, show\n",
    "from bokeh.plotting import figure\n",
    "from bokeh.layouts import gridplot\n",
    "from bokeh.models.widgets import Panel, Tabs\n",
    "from bokeh.io import output_file, show\n",
    "from bokeh.plotting import figure\n",
    "from bokeh.models import BoxSelectTool\n",
    "from bokeh.models import HoverTool\n",
    "\n",
    "output_notebook()\n",
    "\n",
    "\n",
    "labelSize = 18\n",
    "titleSize = 22\n",
    "legendSize = 14\n",
    "axisTicksSize = 14\n",
    "\n",
    "lineWidth =1.5"
   ]
  },
  {
   "cell_type": "code",
   "execution_count": 9,
   "metadata": {},
   "outputs": [
    {
     "data": {
      "text/html": [
       "\n",
       "<div class=\"bk-root\">\n",
       "    <div class=\"bk-plotdiv\" id=\"b2fd171c-629f-4498-b7d5-bd79e5028cdf\"></div>\n",
       "</div>"
      ]
     },
     "metadata": {},
     "output_type": "display_data"
    },
    {
     "data": {
      "application/javascript": [
       "(function(root) {\n",
       "  function embed_document(root) {\n",
       "    \n",
       "  var docs_json = {\"53fcaded-cd2b-4acb-b1f7-5c12ace64834\":{\"roots\":{\"references\":[{\"attributes\":{\"callback\":null,\"column_names\":[\"x\",\"y\"],\"data\":{\"x\":[-0.2,0.2],\"y\":[0,0]},\"selected\":null,\"selection_policy\":null},\"id\":\"d14d43b9-b699-48e7-b66e-0a515f9ddccb\",\"type\":\"ColumnDataSource\"},{\"attributes\":{},\"id\":\"abf30d06-47e4-41c8-a1a8-d13cbf7b6937\",\"type\":\"BasicTickFormatter\"},{\"attributes\":{\"callback\":null,\"column_names\":[\"x\",\"y\"],\"data\":{\"x\":[-0.2,0.2],\"y\":[-2,-2]},\"selected\":null,\"selection_policy\":null},\"id\":\"d58c6715-ba15-4c90-a07b-b31e17f0658d\",\"type\":\"ColumnDataSource\"},{\"attributes\":{\"line_color\":\"red\",\"line_width\":1.5,\"x\":{\"field\":\"x\"},\"y\":{\"field\":\"y\"}},\"id\":\"a8dc3667-0b76-46af-828d-70580a008e28\",\"type\":\"Line\"},{\"attributes\":{\"click_policy\":\"hide\",\"items\":[{\"id\":\"5e2ea395-c7bc-4182-b1de-36a2e4fff3e7\",\"type\":\"LegendItem\"},{\"id\":\"0f3acb60-377b-46fd-ae2f-b382e82e07c4\",\"type\":\"LegendItem\"}],\"label_text_font_size\":{\"value\":\"14px\"},\"location\":\"top_left\",\"plot\":{\"id\":\"ac1bc285-32dc-4268-9b9d-b1b641bae116\",\"subtype\":\"Figure\",\"type\":\"Plot\"}},\"id\":\"581d1750-a372-4690-82dd-e911c552f185\",\"type\":\"Legend\"},{\"attributes\":{\"label\":{\"value\":\"layer\"},\"renderers\":[{\"id\":\"d614f657-e44e-4f13-bc66-bed2dd729448\",\"type\":\"GlyphRenderer\"},{\"id\":\"200ebd89-f9f1-423d-a35d-7ff0c167b8b9\",\"type\":\"GlyphRenderer\"},{\"id\":\"32eb56a6-f75f-4bcc-88b0-e352b4830cf2\",\"type\":\"GlyphRenderer\"}]},\"id\":\"0f3acb60-377b-46fd-ae2f-b382e82e07c4\",\"type\":\"LegendItem\"},{\"attributes\":{\"align\":\"center\",\"plot\":null,\"text\":\"Control volume centroids\",\"text_font_size\":{\"value\":\"22px\"}},\"id\":\"c0826d46-73bc-4b86-a54a-9cb52f232670\",\"type\":\"Title\"},{\"attributes\":{\"line_color\":\"red\",\"line_width\":1.5,\"x\":{\"field\":\"x\"},\"y\":{\"field\":\"y\"}},\"id\":\"48e3e074-a770-41db-b82c-65aa690d4b7a\",\"type\":\"Line\"},{\"attributes\":{\"line_alpha\":0.1,\"line_color\":\"#1f77b4\",\"line_width\":1.5,\"x\":{\"field\":\"x\"},\"y\":{\"field\":\"y\"}},\"id\":\"a860c589-6679-4e06-808b-5fcbe695a209\",\"type\":\"Line\"},{\"attributes\":{\"callback\":null,\"tooltips\":[[\"(x,y)\",\"($x, $y)\"]]},\"id\":\"26759feb-1818-4590-8def-40677536bdbb\",\"type\":\"HoverTool\"},{\"attributes\":{\"data_source\":{\"id\":\"d14d43b9-b699-48e7-b66e-0a515f9ddccb\",\"type\":\"ColumnDataSource\"},\"glyph\":{\"id\":\"48e3e074-a770-41db-b82c-65aa690d4b7a\",\"type\":\"Line\"},\"hover_glyph\":null,\"muted_glyph\":null,\"nonselection_glyph\":{\"id\":\"a860c589-6679-4e06-808b-5fcbe695a209\",\"type\":\"Line\"},\"selection_glyph\":null,\"view\":{\"id\":\"6dfcd85e-4912-4aea-8c69-bcbc01da04c9\",\"type\":\"CDSView\"}},\"id\":\"d614f657-e44e-4f13-bc66-bed2dd729448\",\"type\":\"GlyphRenderer\"},{\"attributes\":{\"callback\":null,\"column_names\":[\"x\",\"y\"],\"data\":{\"x\":{\"__ndarray__\":\"AAAAAAAAAAAAAAAAAAAAAAAAAAAAAAAAAAAAAAAAAAAAAAAAAAAAAAAAAAAAAAAAAAAAAAAAAAAAAAAAAAAAAAAAAAAAAAAAAAAAAAAAAAAAAAAAAAAAAAAAAAAAAAAAAAAAAAAAAAAAAAAAAAAAAAAAAAAAAAAAAAAAAAAAAAAAAAAAAAAAAAAAAAAAAAAAAAAAAAAAAAAAAAAAAAAAAAAAAAAAAAAAAAAAAAAAAAAAAAAAAAAAAAAAAAAAAAAAAAAAAAAAAAAAAAAAAAAAAAAAAAAAAAAAAAAAAAAAAAAAAAAAAAAAAAAAAAAAAAAAAAAAAAAAAAAAAAAAAAAAAAAAAAAAAAAAAAAAAAAAAAAAAAAAAAAAAAAAAAAAAAAAAAAAAAAAAAAAAAAAAAAAAAAAAAAAAAAAAAAAAAAAAAAAAAAAAAAAAAAAAAAAAAAAAAAAAAAAAAAAAAAAAAAAAAAAAAAAAAAAAAAAAAAAAAAAAAAAAAAAAAAAAAAAAAAAAAAAAAAAAAAAAAAAAAAAAAAAAAAAAAAAAAAAAAAAAAAAAAAAAAAAAAAAAAAAAAAAAAAAAAAAAAAAAAAAAAAAAAAAAAAAAAAAAAAAAAAAAAAAAAAAAAAAAAAAAAAAAAAAAAAAAAAAAAAAAAAAAAAAAAAAAAAAAAAAAAAAAAAAAAAAAAAAAAAAAAAAAAAAAAAAAAAAAAAAAAAAAAAAAAAAAAAAAAAAAAAAAAAAAAAAAAAAAAAAAAAAAAAAAAAAAAAAAAAAAAAAAAAAAAAAAAAAAAAAAAAAAAAAAAAAAAAAAAAAAAAAAAAAAAAAAAAAAAAAAAAAAAAAAAAAAAAAAAAAAAAAAAAAAAAAAAAAAAAAAAAAAAAAAAAAAAAAAAAAAAAAAAAAAAAAAAAAAAAAAAAAAAAAAAAAAAAAAAAAAAAAAAAAAAAAAAAAAAAAAAAAAAAAAAAAAAAAAAAAAAAAAAAAAAAAAAAAAAAAAAAAAAAAAAAAAAAAAAAAAAAAAAAAAAAAAAAAAAAAAAAAAAAAAAAAAAAAAAAAAAAAAAAAAAAAAAAAAAAAAAAAAAAAAAAAAAAAAAAAAAAAAAAAAAAAAAAAAAAAAAAAAAAAAAAAAAAAAAAAAAAAAAAAAAAAAAAAAAAAAAAAAAAAAAAAAAAAAAAAAAAAAAAAAAAAAAAAAAAAAAAAAAAAAAAAAAAAAAAAAAAAAAAAAAAAAAAAAAAAAAAAAAAAAAAAAAAAAAAAAAAAAAAAAAAAAAAAAAAAAAAAAAAAAAAAAAAAAAAAAAAAAAAAAAAAAAAAAAAAAAAAAAAAAAAAAAAAAAAAAAAAAAAAAAAAAAAAAAAAAAAAAAAAAAAAAAAAAAAAAAAAAAAAAAAAAAAAAAAAAAAAAAAAAAAAAAAAAAAAAAAAAAAAAAAAAAAAAAAAAAAAAAAAAAAAAAAAAAAAAAAAAAAAAAAAAAAAAAAAAAAAAAAAAAAAAAAAAAAAAAAAAAAAAAAAAAAAAAAAAAAAAAAAAAAAAAAAAAAAAAAAAAAAAAAAAAAAAAAAAAAAAAAAAAAAAAAAAAAAAAAAAAAAAAAAAAAAAAAAAAAAAAAAAAAAAAAAAAAAAAAAAAAAAAAAAAAAAAAAAAAAAAAAAAAAAAAAAAAAAAAAAAAAAAAAAAAAAAAAAAAAAAAAAAAAAAAAAAAAAAAAAAAAAAAAAAAAAAAAAAAAAAAAAAAAAAAAAAAAAAAAAAAAAAAAAAAAAAAAAAAAAAAAAAAAAAAAAAAAAAAAAAAAAAAAAAAAAAAAAAAAAAAAAAAAAAAAAAAAAAAAAAAAAAAAAAAAAAAAAAAAAAAAAAAAAAAAAAAAAAAAAAAAAAAAAAAAAAAAAAAAAAAAAAAAAAAAAAAAAAAAAAAAAAAAAAAAAAAAAAAAAAAAAAAAAAAAAAAAAAAAAAAAAAAAAAAAAAAAAAAAAAAAAAAAAAAAAAAAAAAAAAAAAAAAAAAAAAAAAAAAAAAAAAAAAAAAAAAAAAAAAAAAAAAAAAAAAAAAAAAAAAAAAAAAAAAAAAAAAAAAAAAAAAAAAAAAAAAAAAAAAAAAAAAAAAAAAAAAAAAAAAAAAAAAAAAAAAAAAAAAAAAAAAAAAAAAAAAAAAAAAAAAAAAAAAAAAAAAAAAAAAAAAAAAAAAAAAAAAAAAAAAAAAAAAAAAAAAAAAAAAAAAAAAAAAAAAAAAAAAAAAAAAAAAAAAAAAAAAAAAAAAAAAAAAAAAAAAAAAAAAAAAAAAAAAAAAAAAAAAAAAAAAAAAAAAAAAAAAAAAAAAAAAAAAAAAAAAAAAAAAAAAAAAAAAAAAAAAAAAAAAAAAAAAAAAAAAAAAAAAAAAAAAAAAAAAAAAAAAAAAAAAAAAAAAAAAAAAAAAAAAAAAAAAAAAAAAAAAAAAAAAAAAAAAAAAAAAAAAAAAAAAAAAAAAAAAAAAAAAAAAAAAAAAAAAAAAAAAAAAAAAAAAAAAAAAAAAAAAAAAAAAAAAAAAAAAAAAAAAAAAAAAAAAAAAAAAAAAAAAAAAAAAAAAAAAAAAAAAAAAAAAAAAAAAAAAAAAAAAAAAAAAAAAAAAAAAAAAAAAAAAAAAAAAAAAAAAAAAAAAAAAAAAAAAAAAAAAAAAAAAAAAAAAAAAAAAAAAAAAAAAAAAAAAAAAAAAAAAAAAAAAAAAAAAAAAAAAAAAAAAAAAAAAAAAAAAAAAAAAAAAAAAAAAAAAAAAAAAAAAAAAAAAAAAAAAAAAAAAAAAAAAAAAAAAAAAAAAAAAAAAAAAAAAAAAAAAAAAAAAAAAAAAAAAAAAAAAAAAAAAAAAAAAAAAAAAAAAAAAAAAAAAAAAAAAAAAAAAAAAAAAAAAAAAAAAAAAAAAAAAAAAAAAAAAAAAAAAAAAAAAAAAAAAAAAAAAAAAAAAAAAAAAAAAAAAAAAAAAAAAAAAAAAAAAAAAAAAAAAAAAAAAAAAAAAAAAAAAAAAAAAAAAAAAAAAAAAAAAAAAAAAAAAAAAAAAAAAAAAAAAAAAAAAAAAAAAAAAAAAAAAAAAAAAAAAAAAAAAAAAAAAAAAAAAAAAAAAAAAAAAAAAAAAAAAAAAAAAAAAAAAAAAAAAAAAAAAAAAAAAAAAAAAAAAAAAAAAAAAAAAAAAAAAAAAAAAAAAAAAAAAAAAAAAAAAAAAAAAAAAAAAAAAAAAAAAAAAAAAAAAAAAAAAAAAAAAAAAAAAAAAAAAAAAAAAAAAAAAAAAAAAAAAAAAAAAAAAAAAAAAAAAAAAAAAAAAAAAAAAAAAAAAAAAAAAAAAAAAAAAAAAAAAAAAAAAAAAAAAAAAAAAAAAAAAAAAAAAAAAAAAAAAAAAAAAAAAAAAAAAAAAAAAAAAAAAAAAAAAAAAAAAAAAAAAAAAAAAAAAAAAAAAAAAAAAAAAAAAAAAAAAAAA\",\"dtype\":\"float64\",\"shape\":[321]},\"y\":{\"__ndarray__\":\"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\",\"dtype\":\"float64\",\"shape\":[321]}},\"selected\":null,\"selection_policy\":null},\"id\":\"90c1d9b5-7c72-405d-91ca-bb4e2cd43036\",\"type\":\"ColumnDataSource\"},{\"attributes\":{\"source\":{\"id\":\"d14d43b9-b699-48e7-b66e-0a515f9ddccb\",\"type\":\"ColumnDataSource\"}},\"id\":\"6dfcd85e-4912-4aea-8c69-bcbc01da04c9\",\"type\":\"CDSView\"},{\"attributes\":{\"below\":[{\"id\":\"56f26a34-da9d-499b-8708-ccdf87866560\",\"type\":\"LinearAxis\"}],\"left\":[{\"id\":\"45bd8a10-6cec-49e4-b7aa-2917975bbe08\",\"type\":\"LinearAxis\"}],\"renderers\":[{\"id\":\"56f26a34-da9d-499b-8708-ccdf87866560\",\"type\":\"LinearAxis\"},{\"id\":\"e145c694-e3fb-4df1-8435-e1adbbb44df8\",\"type\":\"Grid\"},{\"id\":\"45bd8a10-6cec-49e4-b7aa-2917975bbe08\",\"type\":\"LinearAxis\"},{\"id\":\"9fab4fa2-b759-4de8-9455-5dcbc4b0c9bf\",\"type\":\"Grid\"},{\"id\":\"7ac62c86-6995-4baa-8e53-03af1d97af34\",\"type\":\"BoxAnnotation\"},{\"id\":\"581d1750-a372-4690-82dd-e911c552f185\",\"type\":\"Legend\"},{\"id\":\"d39f67d5-3f6b-4a60-bdc3-7c3293d486bf\",\"type\":\"GlyphRenderer\"},{\"id\":\"d614f657-e44e-4f13-bc66-bed2dd729448\",\"type\":\"GlyphRenderer\"},{\"id\":\"200ebd89-f9f1-423d-a35d-7ff0c167b8b9\",\"type\":\"GlyphRenderer\"},{\"id\":\"32eb56a6-f75f-4bcc-88b0-e352b4830cf2\",\"type\":\"GlyphRenderer\"}],\"title\":{\"id\":\"c0826d46-73bc-4b86-a54a-9cb52f232670\",\"type\":\"Title\"},\"toolbar\":{\"id\":\"aeb7b4a1-fdb1-496b-9d07-b677218cae5f\",\"type\":\"Toolbar\"},\"x_range\":{\"id\":\"daf7285a-71fc-477e-b49e-d6170c686eb4\",\"type\":\"Range1d\"},\"x_scale\":{\"id\":\"c99af31a-5d11-46fb-bafa-ad6799a0407c\",\"type\":\"LinearScale\"},\"y_range\":{\"id\":\"536a9ab4-1362-4a6a-860a-b44499b3d965\",\"type\":\"DataRange1d\"},\"y_scale\":{\"id\":\"29fcbb90-c65f-4754-9898-4dda6c3a0532\",\"type\":\"LinearScale\"}},\"id\":\"ac1bc285-32dc-4268-9b9d-b1b641bae116\",\"subtype\":\"Figure\",\"type\":\"Plot\"},{\"attributes\":{\"data_source\":{\"id\":\"d58c6715-ba15-4c90-a07b-b31e17f0658d\",\"type\":\"ColumnDataSource\"},\"glyph\":{\"id\":\"6b5ea1ce-90c1-4542-aab4-d1b41401cbdb\",\"type\":\"Line\"},\"hover_glyph\":null,\"muted_glyph\":null,\"nonselection_glyph\":{\"id\":\"ab9f71a9-ded9-463d-b864-0d6837d22554\",\"type\":\"Line\"},\"selection_glyph\":null,\"view\":{\"id\":\"3ddf7431-0e08-47d7-b00f-01443898d1a0\",\"type\":\"CDSView\"}},\"id\":\"200ebd89-f9f1-423d-a35d-7ff0c167b8b9\",\"type\":\"GlyphRenderer\"},{\"attributes\":{\"callback\":null,\"end\":0.7,\"start\":-0.7},\"id\":\"daf7285a-71fc-477e-b49e-d6170c686eb4\",\"type\":\"Range1d\"},{\"attributes\":{\"dimension\":1,\"plot\":{\"id\":\"ac1bc285-32dc-4268-9b9d-b1b641bae116\",\"subtype\":\"Figure\",\"type\":\"Plot\"},\"ticker\":{\"id\":\"55baadd5-fafe-4343-8671-8eeeddafa220\",\"type\":\"BasicTicker\"}},\"id\":\"9fab4fa2-b759-4de8-9455-5dcbc4b0c9bf\",\"type\":\"Grid\"},{\"attributes\":{\"source\":{\"id\":\"d58c6715-ba15-4c90-a07b-b31e17f0658d\",\"type\":\"ColumnDataSource\"}},\"id\":\"3ddf7431-0e08-47d7-b00f-01443898d1a0\",\"type\":\"CDSView\"},{\"attributes\":{\"callback\":null},\"id\":\"536a9ab4-1362-4a6a-860a-b44499b3d965\",\"type\":\"DataRange1d\"},{\"attributes\":{\"line_color\":\"red\",\"line_width\":1.5,\"x\":{\"field\":\"x\"},\"y\":{\"field\":\"y\"}},\"id\":\"6b5ea1ce-90c1-4542-aab4-d1b41401cbdb\",\"type\":\"Line\"},{\"attributes\":{\"callback\":null,\"column_names\":[\"x\",\"y\"],\"data\":{\"x\":[-0.2,0.2],\"y\":[-2,-2]},\"selected\":null,\"selection_policy\":null},\"id\":\"7dbd2ba0-d7c8-4470-89c2-8686d98cade5\",\"type\":\"ColumnDataSource\"},{\"attributes\":{\"active_drag\":\"auto\",\"active_inspect\":\"auto\",\"active_scroll\":\"auto\",\"active_tap\":\"auto\",\"tools\":[{\"id\":\"26759feb-1818-4590-8def-40677536bdbb\",\"type\":\"HoverTool\"},{\"id\":\"d5f1b5e2-44ba-4fb4-b65d-c9e6a2d676f9\",\"type\":\"PanTool\"},{\"id\":\"ad339c67-15fa-4545-bc02-12c88bcb9bf0\",\"type\":\"WheelZoomTool\"},{\"id\":\"624137ed-a8b1-4a34-8cf1-eef419065b24\",\"type\":\"BoxZoomTool\"},{\"id\":\"7db2cb61-c4f1-4733-b949-712236a2a587\",\"type\":\"ResetTool\"}]},\"id\":\"aeb7b4a1-fdb1-496b-9d07-b677218cae5f\",\"type\":\"Toolbar\"},{\"attributes\":{\"line_alpha\":0.1,\"line_color\":\"#1f77b4\",\"line_width\":1.5,\"x\":{\"field\":\"x\"},\"y\":{\"field\":\"y\"}},\"id\":\"ab9f71a9-ded9-463d-b864-0d6837d22554\",\"type\":\"Line\"},{\"attributes\":{},\"id\":\"c99af31a-5d11-46fb-bafa-ad6799a0407c\",\"type\":\"LinearScale\"},{\"attributes\":{\"line_alpha\":0.1,\"line_color\":\"#1f77b4\",\"line_width\":1.5,\"x\":{\"field\":\"x\"},\"y\":{\"field\":\"y\"}},\"id\":\"8714a133-90b3-4c9f-943e-9cf78d866fd7\",\"type\":\"Line\"},{\"attributes\":{\"label\":{\"value\":\"Centroids\"},\"renderers\":[{\"id\":\"d39f67d5-3f6b-4a60-bdc3-7c3293d486bf\",\"type\":\"GlyphRenderer\"}]},\"id\":\"5e2ea395-c7bc-4182-b1de-36a2e4fff3e7\",\"type\":\"LegendItem\"},{\"attributes\":{},\"id\":\"29fcbb90-c65f-4754-9898-4dda6c3a0532\",\"type\":\"LinearScale\"},{\"attributes\":{\"data_source\":{\"id\":\"7dbd2ba0-d7c8-4470-89c2-8686d98cade5\",\"type\":\"ColumnDataSource\"},\"glyph\":{\"id\":\"a8dc3667-0b76-46af-828d-70580a008e28\",\"type\":\"Line\"},\"hover_glyph\":null,\"muted_glyph\":null,\"nonselection_glyph\":{\"id\":\"8714a133-90b3-4c9f-943e-9cf78d866fd7\",\"type\":\"Line\"},\"selection_glyph\":null,\"view\":{\"id\":\"8d5b8458-a904-42ff-a530-a1c5d6094904\",\"type\":\"CDSView\"}},\"id\":\"32eb56a6-f75f-4bcc-88b0-e352b4830cf2\",\"type\":\"GlyphRenderer\"},{\"attributes\":{\"formatter\":{\"id\":\"abf30d06-47e4-41c8-a1a8-d13cbf7b6937\",\"type\":\"BasicTickFormatter\"},\"plot\":{\"id\":\"ac1bc285-32dc-4268-9b9d-b1b641bae116\",\"subtype\":\"Figure\",\"type\":\"Plot\"},\"ticker\":{\"id\":\"174f363d-9bcb-4d16-b79b-15112d007aa0\",\"type\":\"BasicTicker\"}},\"id\":\"56f26a34-da9d-499b-8708-ccdf87866560\",\"type\":\"LinearAxis\"},{\"attributes\":{},\"id\":\"174f363d-9bcb-4d16-b79b-15112d007aa0\",\"type\":\"BasicTicker\"},{\"attributes\":{\"source\":{\"id\":\"7dbd2ba0-d7c8-4470-89c2-8686d98cade5\",\"type\":\"ColumnDataSource\"}},\"id\":\"8d5b8458-a904-42ff-a530-a1c5d6094904\",\"type\":\"CDSView\"},{\"attributes\":{\"plot\":{\"id\":\"ac1bc285-32dc-4268-9b9d-b1b641bae116\",\"subtype\":\"Figure\",\"type\":\"Plot\"},\"ticker\":{\"id\":\"174f363d-9bcb-4d16-b79b-15112d007aa0\",\"type\":\"BasicTicker\"}},\"id\":\"e145c694-e3fb-4df1-8435-e1adbbb44df8\",\"type\":\"Grid\"},{\"attributes\":{\"axis_label\":\"\\u03b7 [m]\",\"axis_label_text_font_size\":{\"value\":\"18px\"},\"formatter\":{\"id\":\"a9a17b1c-b56b-4a2a-a907-eeef974799be\",\"type\":\"BasicTickFormatter\"},\"plot\":{\"id\":\"ac1bc285-32dc-4268-9b9d-b1b641bae116\",\"subtype\":\"Figure\",\"type\":\"Plot\"},\"ticker\":{\"id\":\"55baadd5-fafe-4343-8671-8eeeddafa220\",\"type\":\"BasicTicker\"}},\"id\":\"45bd8a10-6cec-49e4-b7aa-2917975bbe08\",\"type\":\"LinearAxis\"},{\"attributes\":{},\"id\":\"55baadd5-fafe-4343-8671-8eeeddafa220\",\"type\":\"BasicTicker\"},{\"attributes\":{\"source\":{\"id\":\"90c1d9b5-7c72-405d-91ca-bb4e2cd43036\",\"type\":\"ColumnDataSource\"}},\"id\":\"697898ad-fa17-4982-a0ec-c0287120d212\",\"type\":\"CDSView\"},{\"attributes\":{\"bottom_units\":\"screen\",\"fill_alpha\":{\"value\":0.5},\"fill_color\":{\"value\":\"lightgrey\"},\"left_units\":\"screen\",\"level\":\"overlay\",\"line_alpha\":{\"value\":1.0},\"line_color\":{\"value\":\"black\"},\"line_dash\":[4,4],\"line_width\":{\"value\":2},\"plot\":null,\"render_mode\":\"css\",\"right_units\":\"screen\",\"top_units\":\"screen\"},\"id\":\"7ac62c86-6995-4baa-8e53-03af1d97af34\",\"type\":\"BoxAnnotation\"},{\"attributes\":{},\"id\":\"d5f1b5e2-44ba-4fb4-b65d-c9e6a2d676f9\",\"type\":\"PanTool\"},{\"attributes\":{},\"id\":\"a9a17b1c-b56b-4a2a-a907-eeef974799be\",\"type\":\"BasicTickFormatter\"},{\"attributes\":{\"fill_alpha\":{\"value\":0.1},\"fill_color\":{\"value\":\"#1f77b4\"},\"line_alpha\":{\"value\":0.1},\"line_color\":{\"value\":\"#1f77b4\"},\"x\":{\"field\":\"x\"},\"y\":{\"field\":\"y\"}},\"id\":\"631e89c0-8be2-4d2d-b343-8cc975437fdf\",\"type\":\"Circle\"},{\"attributes\":{},\"id\":\"ad339c67-15fa-4545-bc02-12c88bcb9bf0\",\"type\":\"WheelZoomTool\"},{\"attributes\":{\"overlay\":{\"id\":\"7ac62c86-6995-4baa-8e53-03af1d97af34\",\"type\":\"BoxAnnotation\"}},\"id\":\"624137ed-a8b1-4a34-8cf1-eef419065b24\",\"type\":\"BoxZoomTool\"},{\"attributes\":{},\"id\":\"7db2cb61-c4f1-4733-b949-712236a2a587\",\"type\":\"ResetTool\"},{\"attributes\":{\"fill_color\":{\"value\":\"blue\"},\"line_color\":{\"value\":\"blue\"},\"x\":{\"field\":\"x\"},\"y\":{\"field\":\"y\"}},\"id\":\"1eb58739-9f9e-496c-8775-077cf4ec275e\",\"type\":\"Circle\"},{\"attributes\":{\"data_source\":{\"id\":\"90c1d9b5-7c72-405d-91ca-bb4e2cd43036\",\"type\":\"ColumnDataSource\"},\"glyph\":{\"id\":\"1eb58739-9f9e-496c-8775-077cf4ec275e\",\"type\":\"Circle\"},\"hover_glyph\":null,\"muted_glyph\":null,\"nonselection_glyph\":{\"id\":\"631e89c0-8be2-4d2d-b343-8cc975437fdf\",\"type\":\"Circle\"},\"selection_glyph\":null,\"view\":{\"id\":\"697898ad-fa17-4982-a0ec-c0287120d212\",\"type\":\"CDSView\"}},\"id\":\"d39f67d5-3f6b-4a60-bdc3-7c3293d486bf\",\"type\":\"GlyphRenderer\"}],\"root_ids\":[\"ac1bc285-32dc-4268-9b9d-b1b641bae116\"]},\"title\":\"Bokeh Application\",\"version\":\"0.12.15\"}};\n",
       "  var render_items = [{\"docid\":\"53fcaded-cd2b-4acb-b1f7-5c12ace64834\",\"elementid\":\"b2fd171c-629f-4498-b7d5-bd79e5028cdf\",\"modelid\":\"ac1bc285-32dc-4268-9b9d-b1b641bae116\"}];\n",
       "  root.Bokeh.embed.embed_items_notebook(docs_json, render_items);\n",
       "\n",
       "  }\n",
       "  if (root.Bokeh !== undefined) {\n",
       "    embed_document(root);\n",
       "  } else {\n",
       "    var attempts = 0;\n",
       "    var timer = setInterval(function(root) {\n",
       "      if (root.Bokeh !== undefined) {\n",
       "        embed_document(root);\n",
       "        clearInterval(timer);\n",
       "      }\n",
       "      attempts++;\n",
       "      if (attempts > 100) {\n",
       "        console.log(\"Bokeh: ERROR: Unable to run BokehJS code because BokehJS library is missing\")\n",
       "        clearInterval(timer);\n",
       "      }\n",
       "    }, 10, root)\n",
       "  }\n",
       "})(window);"
      ],
      "application/vnd.bokehjs_exec.v0+json": ""
     },
     "metadata": {
      "application/vnd.bokehjs_exec.v0+json": {
       "id": "ac1bc285-32dc-4268-9b9d-b1b641bae116"
      }
     },
     "output_type": "display_data"
    }
   ],
   "source": [
    "x=np.zeros(np.size(z))\n",
    "\n",
    "hover = HoverTool(tooltips=[\n",
    "    (\"(x,y)\", \"($x, $y)\"),\n",
    "])\n",
    "\n",
    "p1 = figure(plot_width=600, plot_height=600,tools=['pan,wheel_zoom,box_zoom,reset',hover],\n",
    "           title=\"Mouse over the dots\",x_range=(-0.7, 0.7))\n",
    "p1.scatter(x,eta, color=\"blue\", marker='circle',legend='Centroids')\n",
    "\n",
    "for i in range(0,np.size(data.index)):\n",
    "    if data['Type'][i] == 'L':\n",
    "        c = 'red'\n",
    "        l = 'layer'\n",
    "    elif data['Type'][i] == 'M':\n",
    "        c = 'green'\n",
    "        l = 'meas. point'\n",
    "        \n",
    "    p1.line([-0.2,0.2], [data['eta'][i],data['eta'][i]], color=c,line_width=lineWidth,legend=l)\n",
    "p1.line([-0.2,0.2], [data['eta'][data['eta'].size-1],data['eta'][data['eta'].size-1]], color=\"red\",line_width=lineWidth,legend='layer')\n",
    "\n",
    "p1.yaxis.axis_label = '\\u03b7 [m]'\n",
    "p1.yaxis.axis_label_text_font_size = str(labelSize) + \"px\"\n",
    "p1.title.text = 'Control volume centroids'\n",
    "p1.title.align = \"center\"\n",
    "p1.title.text_font_size = str(titleSize) + \"px\"\n",
    "\n",
    "p1.legend.location = \"top_left\"\n",
    "p1.legend.label_text_font_size = str(legendSize) + \"px\"\n",
    "p1.legend.click_policy=\"hide\"\n",
    "\n",
    "show(p1)"
   ]
  },
  {
   "cell_type": "code",
   "execution_count": 10,
   "metadata": {},
   "outputs": [
    {
     "data": {
      "text/html": [
       "\n",
       "<div class=\"bk-root\">\n",
       "    <div class=\"bk-plotdiv\" id=\"7e1ad79d-0a5a-4d1b-83fa-c049b668fe7e\"></div>\n",
       "</div>"
      ]
     },
     "metadata": {},
     "output_type": "display_data"
    },
    {
     "data": {
      "application/javascript": [
       "(function(root) {\n",
       "  function embed_document(root) {\n",
       "    \n",
       "  var docs_json = {\"09c12126-52c2-4402-8884-eeb343c985ff\":{\"roots\":{\"references\":[{\"attributes\":{\"axis_label\":\"\\u03b7 [m]\",\"axis_label_text_font_size\":{\"value\":\"18px\"},\"formatter\":{\"id\":\"f44cfad6-d9b4-41f7-b8fd-947c300c7ab6\",\"type\":\"BasicTickFormatter\"},\"plot\":{\"id\":\"f07447d3-64fb-47b6-9bf8-b2882a7db1d8\",\"subtype\":\"Figure\",\"type\":\"Plot\"},\"ticker\":{\"id\":\"68798511-2a48-471a-a0f7-f2e636365911\",\"type\":\"BasicTicker\"}},\"id\":\"f9cb35a5-ff99-439a-9bec-7abdf042cb9d\",\"type\":\"LinearAxis\"},{\"attributes\":{},\"id\":\"68798511-2a48-471a-a0f7-f2e636365911\",\"type\":\"BasicTicker\"},{\"attributes\":{\"dimension\":1,\"plot\":{\"id\":\"f07447d3-64fb-47b6-9bf8-b2882a7db1d8\",\"subtype\":\"Figure\",\"type\":\"Plot\"},\"ticker\":{\"id\":\"68798511-2a48-471a-a0f7-f2e636365911\",\"type\":\"BasicTicker\"}},\"id\":\"1da6ce0a-e39a-478b-b8b8-7f156fe48bfb\",\"type\":\"Grid\"},{\"attributes\":{\"data_source\":{\"id\":\"bd80dc2a-e9db-4d09-a6d5-7a4472a24a50\",\"type\":\"ColumnDataSource\"},\"glyph\":{\"id\":\"84902faa-523c-4f50-8f56-bfe4d30de9f2\",\"type\":\"Line\"},\"hover_glyph\":null,\"muted_glyph\":null,\"nonselection_glyph\":{\"id\":\"b2432414-649b-4ead-acab-4975835c78b7\",\"type\":\"Line\"},\"selection_glyph\":null,\"view\":{\"id\":\"47cb56cc-fbb1-4881-ae9b-96c8527b788e\",\"type\":\"CDSView\"}},\"id\":\"c3970dcc-4dec-4ef7-913a-cf17ff64fdc5\",\"type\":\"GlyphRenderer\"},{\"attributes\":{\"bottom_units\":\"screen\",\"fill_alpha\":{\"value\":0.5},\"fill_color\":{\"value\":\"lightgrey\"},\"left_units\":\"screen\",\"level\":\"overlay\",\"line_alpha\":{\"value\":1.0},\"line_color\":{\"value\":\"black\"},\"line_dash\":[4,4],\"line_width\":{\"value\":2},\"plot\":null,\"render_mode\":\"css\",\"right_units\":\"screen\",\"top_units\":\"screen\"},\"id\":\"94f2ce70-ac1d-4f11-ba19-ed9bf81e40e4\",\"type\":\"BoxAnnotation\"},{\"attributes\":{},\"id\":\"3704b50b-1eb1-4565-b2f5-e767bac3aba2\",\"type\":\"PanTool\"},{\"attributes\":{\"label\":{\"value\":\"layer\"},\"renderers\":[{\"id\":\"37f7b9f5-a706-40c2-9e58-22bad5b78ab3\",\"type\":\"GlyphRenderer\"},{\"id\":\"c3970dcc-4dec-4ef7-913a-cf17ff64fdc5\",\"type\":\"GlyphRenderer\"},{\"id\":\"d65f5d34-8d5c-4f9b-a828-6406ac2aa401\",\"type\":\"GlyphRenderer\"}]},\"id\":\"70a6d53c-1ce6-49a3-9be5-4ef7ff36e24c\",\"type\":\"LegendItem\"},{\"attributes\":{},\"id\":\"511f2b23-68cd-4c5d-8605-30d9c0dcd958\",\"type\":\"WheelZoomTool\"},{\"attributes\":{\"overlay\":{\"id\":\"94f2ce70-ac1d-4f11-ba19-ed9bf81e40e4\",\"type\":\"BoxAnnotation\"}},\"id\":\"ce2b08ec-0f88-4d77-be4f-a918f30cf36a\",\"type\":\"BoxZoomTool\"},{\"attributes\":{},\"id\":\"fbbcf573-ec48-4e78-a8d2-afd0e87a9bd5\",\"type\":\"ResetTool\"},{\"attributes\":{\"fill_alpha\":{\"value\":0.1},\"fill_color\":{\"value\":\"#1f77b4\"},\"line_alpha\":{\"value\":0.1},\"line_color\":{\"value\":\"#1f77b4\"},\"x\":{\"field\":\"x\"},\"y\":{\"field\":\"y\"}},\"id\":\"51d7a964-8ab2-419c-8c86-dcc3b6ef4cb0\",\"type\":\"Cross\"},{\"attributes\":{\"callback\":null,\"column_names\":[\"x\",\"y\"],\"data\":{\"x\":[-0.2,0.2],\"y\":[-2,-2]},\"selected\":null,\"selection_policy\":null},\"id\":\"bd80dc2a-e9db-4d09-a6d5-7a4472a24a50\",\"type\":\"ColumnDataSource\"},{\"attributes\":{},\"id\":\"f44cfad6-d9b4-41f7-b8fd-947c300c7ab6\",\"type\":\"BasicTickFormatter\"},{\"attributes\":{\"data_source\":{\"id\":\"1b5fb520-f26a-44d5-8959-cbc23841ebc1\",\"type\":\"ColumnDataSource\"},\"glyph\":{\"id\":\"f0d189e7-3daf-4163-9a13-11e869d00767\",\"type\":\"Cross\"},\"hover_glyph\":null,\"muted_glyph\":null,\"nonselection_glyph\":{\"id\":\"51d7a964-8ab2-419c-8c86-dcc3b6ef4cb0\",\"type\":\"Cross\"},\"selection_glyph\":null,\"view\":{\"id\":\"9e2f3013-eedd-4e96-87ec-617eccc895cc\",\"type\":\"CDSView\"}},\"id\":\"68e7b591-b70e-4de8-a64f-6e80a08445a0\",\"type\":\"GlyphRenderer\"},{\"attributes\":{\"source\":{\"id\":\"1b5fb520-f26a-44d5-8959-cbc23841ebc1\",\"type\":\"ColumnDataSource\"}},\"id\":\"9e2f3013-eedd-4e96-87ec-617eccc895cc\",\"type\":\"CDSView\"},{\"attributes\":{},\"id\":\"2fdcffd7-2ef8-48eb-895f-5e1edf03e17b\",\"type\":\"BasicTickFormatter\"},{\"attributes\":{\"click_policy\":\"hide\",\"items\":[{\"id\":\"27e70f75-cdeb-48d3-9432-39fb940c6a00\",\"type\":\"LegendItem\"},{\"id\":\"70a6d53c-1ce6-49a3-9be5-4ef7ff36e24c\",\"type\":\"LegendItem\"}],\"label_text_font_size\":{\"value\":\"14px\"},\"location\":\"top_left\",\"plot\":{\"id\":\"f07447d3-64fb-47b6-9bf8-b2882a7db1d8\",\"subtype\":\"Figure\",\"type\":\"Plot\"}},\"id\":\"598318b9-7f5d-4ede-99bd-40478268e4ad\",\"type\":\"Legend\"},{\"attributes\":{\"source\":{\"id\":\"3aed6f88-73ef-425d-b900-7ef3c71ca6d9\",\"type\":\"ColumnDataSource\"}},\"id\":\"d3e63ca7-db48-4cf3-8d63-b705693af10d\",\"type\":\"CDSView\"},{\"attributes\":{\"label\":{\"value\":\"CV interface\"},\"renderers\":[{\"id\":\"68e7b591-b70e-4de8-a64f-6e80a08445a0\",\"type\":\"GlyphRenderer\"}]},\"id\":\"27e70f75-cdeb-48d3-9432-39fb940c6a00\",\"type\":\"LegendItem\"},{\"attributes\":{\"line_color\":\"red\",\"line_width\":1.5,\"x\":{\"field\":\"x\"},\"y\":{\"field\":\"y\"}},\"id\":\"67b231ae-502e-4f26-bf90-784fbfcb13da\",\"type\":\"Line\"},{\"attributes\":{\"line_alpha\":0.1,\"line_color\":\"#1f77b4\",\"line_width\":1.5,\"x\":{\"field\":\"x\"},\"y\":{\"field\":\"y\"}},\"id\":\"1b60aa78-05c0-48a4-8f11-edd71201afd3\",\"type\":\"Line\"},{\"attributes\":{\"data_source\":{\"id\":\"3aed6f88-73ef-425d-b900-7ef3c71ca6d9\",\"type\":\"ColumnDataSource\"},\"glyph\":{\"id\":\"67b231ae-502e-4f26-bf90-784fbfcb13da\",\"type\":\"Line\"},\"hover_glyph\":null,\"muted_glyph\":null,\"nonselection_glyph\":{\"id\":\"6996f619-b8a2-41a0-bf64-1b472ed93208\",\"type\":\"Line\"},\"selection_glyph\":null,\"view\":{\"id\":\"d3e63ca7-db48-4cf3-8d63-b705693af10d\",\"type\":\"CDSView\"}},\"id\":\"37f7b9f5-a706-40c2-9e58-22bad5b78ab3\",\"type\":\"GlyphRenderer\"},{\"attributes\":{\"line_alpha\":0.1,\"line_color\":\"#1f77b4\",\"line_width\":1.5,\"x\":{\"field\":\"x\"},\"y\":{\"field\":\"y\"}},\"id\":\"6996f619-b8a2-41a0-bf64-1b472ed93208\",\"type\":\"Line\"},{\"attributes\":{\"line_color\":\"red\",\"line_width\":1.5,\"x\":{\"field\":\"x\"},\"y\":{\"field\":\"y\"}},\"id\":\"5a1226ad-6713-49a3-b65b-4415450f3865\",\"type\":\"Line\"},{\"attributes\":{\"align\":\"center\",\"plot\":null,\"text\":\"Control volume intefaces\",\"text_font_size\":{\"value\":\"22px\"}},\"id\":\"8d59b753-99b3-41ba-9d9f-76f3e87f4bb6\",\"type\":\"Title\"},{\"attributes\":{\"fill_color\":{\"value\":\"blue\"},\"line_color\":{\"value\":\"blue\"},\"x\":{\"field\":\"x\"},\"y\":{\"field\":\"y\"}},\"id\":\"f0d189e7-3daf-4163-9a13-11e869d00767\",\"type\":\"Cross\"},{\"attributes\":{\"line_color\":\"red\",\"line_width\":1.5,\"x\":{\"field\":\"x\"},\"y\":{\"field\":\"y\"}},\"id\":\"84902faa-523c-4f50-8f56-bfe4d30de9f2\",\"type\":\"Line\"},{\"attributes\":{\"callback\":null,\"tooltips\":[[\"(x,y)\",\"($x, $y)\"]]},\"id\":\"8e24ebfb-68b6-4515-93e1-e6cb547e1db8\",\"type\":\"HoverTool\"},{\"attributes\":{\"source\":{\"id\":\"bd80dc2a-e9db-4d09-a6d5-7a4472a24a50\",\"type\":\"ColumnDataSource\"}},\"id\":\"47cb56cc-fbb1-4881-ae9b-96c8527b788e\",\"type\":\"CDSView\"},{\"attributes\":{\"callback\":null,\"column_names\":[\"x\",\"y\"],\"data\":{\"x\":{\"__ndarray__\":\"AAAAAAAAAAAAAAAAAAAAAAAAAAAAAAAAAAAAAAAAAAAAAAAAAAAAAAAAAAAAAAAAAAAAAAAAAAAAAAAAAAAAAAAAAAAAAAAAAAAAAAAAAAAAAAAAAAAAAAAAAAAAAAAAAAAAAAAAAAAAAAAAAAAAAAAAAAAAAAAAAAAAAAAAAAAAAAAAAAAAAAAAAAAAAAAAAAAAAAAAAAAAAAAAAAAAAAAAAAAAAAAAAAAAAAAAAAAAAAAAAAAAAAAAAAAAAAAAAAAAAAAAAAAAAAAAAAAAAAAAAAAAAAAAAAAAAAAAAAAAAAAAAAAAAAAAAAAAAAAAAAAAAAAAAAAAAAAAAAAAAAAAAAAAAAAAAAAAAAAAAAAAAAAAAAAAAAAAAAAAAAAAAAAAAAAAAAAAAAAAAAAAAAAAAAAAAAAAAAAAAAAAAAAAAAAAAAAAAAAAAAAAAAAAAAAAAAAAAAAAAAAAAAAAAAAAAAAAAAAAAAAAAAAAAAAAAAAAAAAAAAAAAAAAAAAAAAAAAAAAAAAAAAAAAAAAAAAAAAAAAAAAAAAAAAAAAAAAAAAAAAAAAAAAAAAAAAAAAAAAAAAAAAAAAAAAAAAAAAAAAAAAAAAAAAAAAAAAAAAAAAAAAAAAAAAAAAAAAAAAAAAAAAAAAAAAAAAAAAAAAAAAAAAAAAAAAAAAAAAAAAAAAAAAAAAAAAAAAAAAAAAAAAAAAAAAAAAAAAAAAAAAAAAAAAAAAAAAAAAAAAAAAAAAAAAAAAAAAAAAAAAAAAAAAAAAAAAAAAAAAAAAAAAAAAAAAAAAAAAAAAAAAAAAAAAAAAAAAAAAAAAAAAAAAAAAAAAAAAAAAAAAAAAAAAAAAAAAAAAAAAAAAAAAAAAAAAAAAAAAAAAAAAAAAAAAAAAAAAAAAAAAAAAAAAAAAAAAAAAAAAAAAAAAAAAAAAAAAAAAAAAAAAAAAAAAAAAAAAAAAAAAAAAAAAAAAAAAAAAAAAAAAAAAAAAAAAAAAAAAAAAAAAAAAAAAAAAAAAAAAAAAAAAAAAAAAAAAAAAAAAAAAAAAAAAAAAAAAAAAAAAAAAAAAAAAAAAAAAAAAAAAAAAAAAAAAAAAAAAAAAAAAAAAAAAAAAAAAAAAAAAAAAAAAAAAAAAAAAAAAAAAAAAAAAAAAAAAAAAAAAAAAAAAAAAAAAAAAAAAAAAAAAAAAAAAAAAAAAAAAAAAAAAAAAAAAAAAAAAAAAAAAAAAAAAAAAAAAAAAAAAAAAAAAAAAAAAAAAAAAAAAAAAAAAAAAAAAAAAAAAAAAAAAAAAAAAAAAAAAAAAAAAAAAAAAAAAAAAAAAAAAAAAAAAAAAAAAAAAAAAAAAAAAAAAAAAAAAAAAAAAAAAAAAAAAAAAAAAAAAAAAAAAAAAAAAAAAAAAAAAAAAAAAAAAAAAAAAAAAAAAAAAAAAAAAAAAAAAAAAAAAAAAAAAAAAAAAAAAAAAAAAAAAAAAAAAAAAAAAAAAAAAAAAAAAAAAAAAAAAAAAAAAAAAAAAAAAAAAAAAAAAAAAAAAAAAAAAAAAAAAAAAAAAAAAAAAAAAAAAAAAAAAAAAAAAAAAAAAAAAAAAAAAAAAAAAAAAAAAAAAAAAAAAAAAAAAAAAAAAAAAAAAAAAAAAAAAAAAAAAAAAAAAAAAAAAAAAAAAAAAAAAAAAAAAAAAAAAAAAAAAAAAAAAAAAAAAAAAAAAAAAAAAAAAAAAAAAAAAAAAAAAAAAAAAAAAAAAAAAAAAAAAAAAAAAAAAAAAAAAAAAAAAAAAAAAAAAAAAAAAAAAAAAAAAAAAAAAAAAAAAAAAAAAAAAAAAAAAAAAAAAAAAAAAAAAAAAAAAAAAAAAAAAAAAAAAAAAAAAAAAAAAAAAAAAAAAAAAAAAAAAAAAAAAAAAAAAAAAAAAAAAAAAAAAAAAAAAAAAAAAAAAAAAAAAAAAAAAAAAAAAAAAAAAAAAAAAAAAAAAAAAAAAAAAAAAAAAAAAAAAAAAAAAAAAAAAAAAAAAAAAAAAAAAAAAAAAAAAAAAAAAAAAAAAAAAAAAAAAAAAAAAAAAAAAAAAAAAAAAAAAAAAAAAAAAAAAAAAAAAAAAAAAAAAAAAAAAAAAAAAAAAAAAAAAAAAAAAAAAAAAAAAAAAAAAAAAAAAAAAAAAAAAAAAAAAAAAAAAAAAAAAAAAAAAAAAAAAAAAAAAAAAAAAAAAAAAAAAAAAAAAAAAAAAAAAAAAAAAAAAAAAAAAAAAAAAAAAAAAAAAAAAAAAAAAAAAAAAAAAAAAAAAAAAAAAAAAAAAAAAAAAAAAAAAAAAAAAAAAAAAAAAAAAAAAAAAAAAAAAAAAAAAAAAAAAAAAAAAAAAAAAAAAAAAAAAAAAAAAAAAAAAAAAAAAAAAAAAAAAAAAAAAAAAAAAAAAAAAAAAAAAAAAAAAAAAAAAAAAAAAAAAAAAAAAAAAAAAAAAAAAAAAAAAAAAAAAAAAAAAAAAAAAAAAAAAAAAAAAAAAAAAAAAAAAAAAAAAAAAAAAAAAAAAAAAAAAAAAAAAAAAAAAAAAAAAAAAAAAAAAAAAAAAAAAAAAAAAAAAAAAAAAAAAAAAAAAAAAAAAAAAAAAAAAAAAAAAAAAAAAAAAAAAAAAAAAAAAAAAAAAAAAAAAAAAAAAAAAAAAAAAAAAAAAAAAAAAAAAAAAAAAAAAAAAAAAAAAAAAAAAAAAAAAAAAAAAAAAAAAAAAAAAAAAAAAAAAAAAAAAAAAAAAAAAAAAAAAAAAAAAAAAAAAAAAAAAAAAAAAAAAAAAAAAAAAAAAAAAAAAAAAAAAAAAAAAAAAAAAAAAAAAAAAAAAAAAAAAAAAAAAAAAAAAAAAAAAAAAAAAAAAAAAAAAAAAAAAAAAAAAAAAAAAAAAAAAAAAAAAAAAAAAAAAAAAAAAAAAAAAAAAAAAAAAAAAAAAAAAAAAAAAAAAAAAAAAAAAAAAAAAAAAAAAAAAAAAAAAAAAAAAAAAAAAAAAAAAAAAAAAAAAAAAAAAAAAAAAAAAAAAAAAAAAAAAAAAAAAAAAAAAAAAAAAAAAAAAAAAAAAAAAAAAAAAAAAAAAAAAAAAAAAAAAAAAAAAAAAAAAAAAAAAAAAAAAAAAAAAAAAAAAAAAAAAAAAAAAAAAAAAAAAAAAAAAAAAAAAAAAAAAAAAAAAAAAAAAAAAAAAAAAAAAAAAAAAAAAAAAAAAAAAAAAAAAAAAAAAAAAAAAAAAAAAAAAAAAAAAAAAAAAAAAAAAAAAAAAAAAAAAAAAAAAAAAAAAAAAAAAAAAAAAAAAAAAAAAAAAAAAAAAAAAAAAAAAAAAAAAAAAAAAAAAAAAAAAAAAAAAAAAAAAAAAAAAAAAAAAAAAAAAAAAAAAAAAAAAAAAAAAAAAAAAAAAAAAAAAAAAAAAAAAAAAAAAAAAAAAAAAAAAAAAAAAAAAAAAAAA\",\"dtype\":\"float64\",\"shape\":[321]},\"y\":[-2.0,-1.99375,-1.9875,-1.98125,-1.975,-1.96875,-1.9625,-1.95625,-1.95,-1.94375,-1.9375,-1.93125,-1.925,-1.91875,-1.9125,-1.90625,-1.9,-1.89375,-1.8875,-1.88125,-1.875,-1.86875,-1.8625,-1.85625,-1.85,-1.84375,-1.8375,-1.83125,-1.825,-1.81875,-1.8125,-1.80625,-1.8,-1.79375,-1.7875,-1.78125,-1.775,-1.76875,-1.7625,-1.75625,-1.75,-1.74375,-1.7375,-1.73125,-1.725,-1.71875,-1.7125,-1.70625,-1.7,-1.69375,-1.6875,-1.68125,-1.675,-1.66875,-1.6625,-1.65625,-1.65,-1.64375,-1.6375,-1.63125,-1.625,-1.61875,-1.6125,-1.60625,-1.6,-1.59375,-1.5875,-1.58125,-1.575,-1.56875,-1.5625,-1.55625,-1.55,-1.54375,-1.5375,-1.53125,-1.525,-1.51875,-1.5125,-1.50625,-1.5,-1.49375,-1.4874999999999998,-1.48125,-1.475,-1.46875,-1.4625,-1.4562499999999998,-1.45,-1.44375,-1.4375,-1.43125,-1.4249999999999998,-1.41875,-1.4125,-1.40625,-1.4,-1.3937499999999998,-1.3875,-1.38125,-1.375,-1.36875,-1.3624999999999998,-1.35625,-1.35,-1.34375,-1.3375,-1.3312499999999998,-1.325,-1.31875,-1.3125,-1.30625,-1.2999999999999998,-1.29375,-1.2875,-1.28125,-1.275,-1.2687499999999998,-1.2625,-1.25625,-1.25,-1.24375,-1.2374999999999998,-1.23125,-1.225,-1.21875,-1.2125,-1.2062499999999998,-1.2,-1.19375,-1.1875,-1.18125,-1.1749999999999998,-1.16875,-1.1625,-1.15625,-1.15,-1.1437499999999998,-1.1375,-1.13125,-1.125,-1.11875,-1.1124999999999998,-1.10625,-1.1,-1.09375,-1.0875,-1.0812499999999998,-1.075,-1.06875,-1.0625,-1.05625,-1.0499999999999998,-1.04375,-1.0375,-1.03125,-1.025,-1.0187499999999998,-1.0125,-1.00625,-1.0,-0.9937499999999999,-0.9875,-0.98125,-0.9749999999999999,-0.96875,-0.9624999999999999,-0.95625,-0.95,-0.9437499999999999,-0.9375,-0.9312499999999999,-0.925,-0.91875,-0.9124999999999999,-0.90625,-0.8999999999999999,-0.89375,-0.8875,-0.8812499999999999,-0.875,-0.8687499999999999,-0.8625,-0.85625,-0.8499999999999999,-0.84375,-0.8374999999999999,-0.83125,-0.825,-0.8187499999999999,-0.8125,-0.8062499999999999,-0.7999999999999998,-0.79375,-0.7874999999999999,-0.78125,-0.7749999999999999,-0.7687499999999998,-0.7625,-0.7562499999999999,-0.75,-0.7437499999999999,-0.7374999999999998,-0.73125,-0.7249999999999999,-0.71875,-0.7124999999999999,-0.7062499999999998,-0.7,-0.6937499999999999,-0.6875,-0.6812499999999999,-0.6749999999999998,-0.66875,-0.6624999999999999,-0.65625,-0.6499999999999999,-0.6437499999999998,-0.6375,-0.6312499999999999,-0.625,-0.6187499999999999,-0.6124999999999998,-0.60625,-0.5999999999999999,-0.59375,-0.5874999999999999,-0.5812499999999998,-0.575,-0.5687499999999999,-0.5625,-0.5562499999999999,-0.5499999999999998,-0.54375,-0.5374999999999999,-0.53125,-0.5249999999999999,-0.5187499999999998,-0.5125,-0.5062499999999999,-0.5,-0.4937499999999999,-0.4874999999999998,-0.48124999999999996,-0.47499999999999987,-0.46875,-0.4624999999999999,-0.4562499999999998,-0.44999999999999996,-0.44374999999999987,-0.4375,-0.4312499999999999,-0.4249999999999998,-0.41874999999999996,-0.41249999999999987,-0.40625,-0.3999999999999999,-0.3937499999999998,-0.38749999999999996,-0.38124999999999987,-0.375,-0.3687499999999999,-0.3624999999999998,-0.35624999999999996,-0.34999999999999987,-0.34375,-0.3374999999999999,-0.3312499999999998,-0.32499999999999996,-0.31874999999999987,-0.3125,-0.3062499999999999,-0.2999999999999998,-0.29374999999999996,-0.28749999999999987,-0.28125,-0.2749999999999999,-0.2687499999999998,-0.26249999999999996,-0.25624999999999987,-0.25,-0.2437499999999999,-0.23749999999999982,-0.23124999999999996,-0.22499999999999987,-0.21875,-0.2124999999999999,-0.20624999999999982,-0.19999999999999996,-0.19374999999999987,-0.1875,-0.1812499999999999,-0.17499999999999982,-0.16874999999999996,-0.16249999999999987,-0.15625,-0.1499999999999999,-0.14374999999999982,-0.13749999999999996,-0.13124999999999987,-0.125,-0.11874999999999991,-0.11249999999999982,-0.10624999999999996,-0.09999999999999987,-0.09375,-0.08749999999999991,-0.08124999999999982,-0.07499999999999996,-0.06874999999999987,-0.0625,-0.05624999999999991,-0.04999999999999982,-0.043749999999999956,-0.03749999999999987,-0.03125,-0.02499999999999991,-0.018749999999999822,-0.012499999999999956,-0.006249999999999867,0.0]},\"selected\":null,\"selection_policy\":null},\"id\":\"1b5fb520-f26a-44d5-8959-cbc23841ebc1\",\"type\":\"ColumnDataSource\"},{\"attributes\":{},\"id\":\"41e0c6b5-d2ef-44ac-a561-06b658076572\",\"type\":\"LinearScale\"},{\"attributes\":{\"below\":[{\"id\":\"07ad7be2-0e38-48fe-8601-22823c479ca4\",\"type\":\"LinearAxis\"}],\"left\":[{\"id\":\"f9cb35a5-ff99-439a-9bec-7abdf042cb9d\",\"type\":\"LinearAxis\"}],\"renderers\":[{\"id\":\"07ad7be2-0e38-48fe-8601-22823c479ca4\",\"type\":\"LinearAxis\"},{\"id\":\"49f1b4f6-ffcf-4b59-a6f9-03f3c81676a9\",\"type\":\"Grid\"},{\"id\":\"f9cb35a5-ff99-439a-9bec-7abdf042cb9d\",\"type\":\"LinearAxis\"},{\"id\":\"1da6ce0a-e39a-478b-b8b8-7f156fe48bfb\",\"type\":\"Grid\"},{\"id\":\"94f2ce70-ac1d-4f11-ba19-ed9bf81e40e4\",\"type\":\"BoxAnnotation\"},{\"id\":\"598318b9-7f5d-4ede-99bd-40478268e4ad\",\"type\":\"Legend\"},{\"id\":\"68e7b591-b70e-4de8-a64f-6e80a08445a0\",\"type\":\"GlyphRenderer\"},{\"id\":\"37f7b9f5-a706-40c2-9e58-22bad5b78ab3\",\"type\":\"GlyphRenderer\"},{\"id\":\"c3970dcc-4dec-4ef7-913a-cf17ff64fdc5\",\"type\":\"GlyphRenderer\"},{\"id\":\"d65f5d34-8d5c-4f9b-a828-6406ac2aa401\",\"type\":\"GlyphRenderer\"}],\"title\":{\"id\":\"8d59b753-99b3-41ba-9d9f-76f3e87f4bb6\",\"type\":\"Title\"},\"toolbar\":{\"id\":\"2994e02d-64e8-427e-823b-ed921814a41f\",\"type\":\"Toolbar\"},\"x_range\":{\"id\":\"54c7a4b1-ec58-42fb-ad71-d3cd1e8fb3b4\",\"type\":\"Range1d\"},\"x_scale\":{\"id\":\"f3a62fcd-d820-4b0d-8243-62839bf6711e\",\"type\":\"LinearScale\"},\"y_range\":{\"id\":\"2ffc13b4-061c-4404-8ba9-db3d7c0ae29c\",\"type\":\"DataRange1d\"},\"y_scale\":{\"id\":\"41e0c6b5-d2ef-44ac-a561-06b658076572\",\"type\":\"LinearScale\"}},\"id\":\"f07447d3-64fb-47b6-9bf8-b2882a7db1d8\",\"subtype\":\"Figure\",\"type\":\"Plot\"},{\"attributes\":{\"line_alpha\":0.1,\"line_color\":\"#1f77b4\",\"line_width\":1.5,\"x\":{\"field\":\"x\"},\"y\":{\"field\":\"y\"}},\"id\":\"b2432414-649b-4ead-acab-4975835c78b7\",\"type\":\"Line\"},{\"attributes\":{\"callback\":null,\"end\":0.7,\"start\":-0.7},\"id\":\"54c7a4b1-ec58-42fb-ad71-d3cd1e8fb3b4\",\"type\":\"Range1d\"},{\"attributes\":{\"data_source\":{\"id\":\"8acef9fe-dcc2-45e6-ba14-7347fa395498\",\"type\":\"ColumnDataSource\"},\"glyph\":{\"id\":\"5a1226ad-6713-49a3-b65b-4415450f3865\",\"type\":\"Line\"},\"hover_glyph\":null,\"muted_glyph\":null,\"nonselection_glyph\":{\"id\":\"1b60aa78-05c0-48a4-8f11-edd71201afd3\",\"type\":\"Line\"},\"selection_glyph\":null,\"view\":{\"id\":\"5b93cbeb-aef1-459c-8a7e-844162d3ee27\",\"type\":\"CDSView\"}},\"id\":\"d65f5d34-8d5c-4f9b-a828-6406ac2aa401\",\"type\":\"GlyphRenderer\"},{\"attributes\":{\"formatter\":{\"id\":\"2fdcffd7-2ef8-48eb-895f-5e1edf03e17b\",\"type\":\"BasicTickFormatter\"},\"plot\":{\"id\":\"f07447d3-64fb-47b6-9bf8-b2882a7db1d8\",\"subtype\":\"Figure\",\"type\":\"Plot\"},\"ticker\":{\"id\":\"21709487-8454-4654-8374-5bdef2bc1e80\",\"type\":\"BasicTicker\"}},\"id\":\"07ad7be2-0e38-48fe-8601-22823c479ca4\",\"type\":\"LinearAxis\"},{\"attributes\":{\"callback\":null},\"id\":\"2ffc13b4-061c-4404-8ba9-db3d7c0ae29c\",\"type\":\"DataRange1d\"},{\"attributes\":{},\"id\":\"f3a62fcd-d820-4b0d-8243-62839bf6711e\",\"type\":\"LinearScale\"},{\"attributes\":{\"source\":{\"id\":\"8acef9fe-dcc2-45e6-ba14-7347fa395498\",\"type\":\"ColumnDataSource\"}},\"id\":\"5b93cbeb-aef1-459c-8a7e-844162d3ee27\",\"type\":\"CDSView\"},{\"attributes\":{\"active_drag\":\"auto\",\"active_inspect\":\"auto\",\"active_scroll\":\"auto\",\"active_tap\":\"auto\",\"tools\":[{\"id\":\"8e24ebfb-68b6-4515-93e1-e6cb547e1db8\",\"type\":\"HoverTool\"},{\"id\":\"3704b50b-1eb1-4565-b2f5-e767bac3aba2\",\"type\":\"PanTool\"},{\"id\":\"511f2b23-68cd-4c5d-8605-30d9c0dcd958\",\"type\":\"WheelZoomTool\"},{\"id\":\"ce2b08ec-0f88-4d77-be4f-a918f30cf36a\",\"type\":\"BoxZoomTool\"},{\"id\":\"fbbcf573-ec48-4e78-a8d2-afd0e87a9bd5\",\"type\":\"ResetTool\"}]},\"id\":\"2994e02d-64e8-427e-823b-ed921814a41f\",\"type\":\"Toolbar\"},{\"attributes\":{\"callback\":null,\"column_names\":[\"x\",\"y\"],\"data\":{\"x\":[-0.2,0.2],\"y\":[-2,-2]},\"selected\":null,\"selection_policy\":null},\"id\":\"8acef9fe-dcc2-45e6-ba14-7347fa395498\",\"type\":\"ColumnDataSource\"},{\"attributes\":{\"callback\":null,\"column_names\":[\"x\",\"y\"],\"data\":{\"x\":[-0.2,0.2],\"y\":[0,0]},\"selected\":null,\"selection_policy\":null},\"id\":\"3aed6f88-73ef-425d-b900-7ef3c71ca6d9\",\"type\":\"ColumnDataSource\"},{\"attributes\":{\"plot\":{\"id\":\"f07447d3-64fb-47b6-9bf8-b2882a7db1d8\",\"subtype\":\"Figure\",\"type\":\"Plot\"},\"ticker\":{\"id\":\"21709487-8454-4654-8374-5bdef2bc1e80\",\"type\":\"BasicTicker\"}},\"id\":\"49f1b4f6-ffcf-4b59-a6f9-03f3c81676a9\",\"type\":\"Grid\"},{\"attributes\":{},\"id\":\"21709487-8454-4654-8374-5bdef2bc1e80\",\"type\":\"BasicTicker\"}],\"root_ids\":[\"f07447d3-64fb-47b6-9bf8-b2882a7db1d8\"]},\"title\":\"Bokeh Application\",\"version\":\"0.12.15\"}};\n",
       "  var render_items = [{\"docid\":\"09c12126-52c2-4402-8884-eeb343c985ff\",\"elementid\":\"7e1ad79d-0a5a-4d1b-83fa-c049b668fe7e\",\"modelid\":\"f07447d3-64fb-47b6-9bf8-b2882a7db1d8\"}];\n",
       "  root.Bokeh.embed.embed_items_notebook(docs_json, render_items);\n",
       "\n",
       "  }\n",
       "  if (root.Bokeh !== undefined) {\n",
       "    embed_document(root);\n",
       "  } else {\n",
       "    var attempts = 0;\n",
       "    var timer = setInterval(function(root) {\n",
       "      if (root.Bokeh !== undefined) {\n",
       "        embed_document(root);\n",
       "        clearInterval(timer);\n",
       "      }\n",
       "      attempts++;\n",
       "      if (attempts > 100) {\n",
       "        console.log(\"Bokeh: ERROR: Unable to run BokehJS code because BokehJS library is missing\")\n",
       "        clearInterval(timer);\n",
       "      }\n",
       "    }, 10, root)\n",
       "  }\n",
       "})(window);"
      ],
      "application/vnd.bokehjs_exec.v0+json": ""
     },
     "metadata": {
      "application/vnd.bokehjs_exec.v0+json": {
       "id": "f07447d3-64fb-47b6-9bf8-b2882a7db1d8"
      }
     },
     "output_type": "display_data"
    }
   ],
   "source": [
    "## graphical representation of your grid\n",
    "\n",
    "x=np.zeros(np.size(zDual))\n",
    "\n",
    "hover = HoverTool(tooltips=[\n",
    "    (\"(x,y)\", \"($x, $y)\"),\n",
    "])\n",
    "\n",
    "p1 = figure(plot_width=600, plot_height=600,tools=['pan,wheel_zoom,box_zoom,reset',hover],\n",
    "           title=\"Mouse over the dots\",x_range=(-0.7, 0.7))\n",
    "p1.scatter(x,etaDual, color=\"blue\", marker='cross',legend='CV interface')\n",
    "for i in data.index:\n",
    "    if data['Type'][i] == 'L':\n",
    "        c = 'red'\n",
    "        l = 'layer'\n",
    "    elif data['Type'][i] == 'M':\n",
    "        c = 'green'\n",
    "        l = 'meas. point'\n",
    "        \n",
    "    p1.line([-0.2,0.2], [data['eta'][i],data['eta'][i]], color=c,line_width=lineWidth,legend=l)\n",
    "p1.line([-0.2,0.2], [data['eta'][data['eta'].size-1],data['eta'][data['eta'].size-1]], color=\"red\",line_width=lineWidth,legend='layer')\n",
    "\n",
    "p1.yaxis.axis_label = '\\u03b7 [m]'\n",
    "p1.yaxis.axis_label_text_font_size = str(labelSize) + \"px\"\n",
    "p1.title.text = 'Control volume intefaces'\n",
    "p1.title.align = \"center\"\n",
    "p1.title.text_font_size = str(titleSize) + \"px\"\n",
    "\n",
    "p1.legend.location = \"top_left\"\n",
    "p1.legend.label_text_font_size = str(legendSize) + \"px\"\n",
    "p1.legend.click_policy=\"hide\"\n",
    "\n",
    "show(p1)"
   ]
  },
  {
   "cell_type": "markdown",
   "metadata": {},
   "source": [
    "## Compute initial condition\n",
    "This section allows to compute the initial condition for the water suction. It is possible to define the initial condition in three ways:\n",
    "- hydrostatic distribution for a prescribed $\\psi$ @bottom;\n",
    "- linear interpolation of measuraments points and $\\psi$ @bottm and @surface;\n",
    "- constant hydraulic head for a prescribed $\\psi$ @bottom\n",
    "\n",
    "It is important to note that at the surface the hydraulic head is prescribed in the inputFile.csv. If it is positive means there is ponding water otherwise the matric suction of the uppermost layer of the soil.\n"
   ]
  },
  {
   "cell_type": "code",
   "execution_count": 16,
   "metadata": {},
   "outputs": [],
   "source": [
    "psiIC = []\n",
    "coordMeasPoint = []\n",
    "psiMeas = []\n",
    "\n",
    "for i in data.index:\n",
    "    if data['Type'][i] == 'M':\n",
    "        coordMeasPoint.append(data['eta'][i])\n",
    "        psiMeas.append(data['psi'][i])\n",
    "        \n",
    "coordMeasPoint = np.append(coordMeasPoint, data['eta'][np.size(data['eta'])-1])\n",
    "psiMeas = np.append(psiMeas,data['psi'][np.size(data['psi'])-1])"
   ]
  },
  {
   "cell_type": "code",
   "execution_count": 17,
   "metadata": {},
   "outputs": [
    {
     "data": {
      "text/plain": [
       "array([-2.])"
      ]
     },
     "execution_count": 17,
     "metadata": {},
     "output_type": "execute_result"
    }
   ],
   "source": [
    "coordMeasPoint"
   ]
  },
  {
   "cell_type": "code",
   "execution_count": 18,
   "metadata": {},
   "outputs": [
    {
     "data": {
      "text/plain": [
       "array([ 0.])"
      ]
     },
     "execution_count": 18,
     "metadata": {},
     "output_type": "execute_result"
    }
   ],
   "source": [
    "psiMeas"
   ]
  },
  {
   "cell_type": "markdown",
   "metadata": {},
   "source": [
    "#### Hydrostatic distribution for a given psi at the bottom"
   ]
  },
  {
   "cell_type": "code",
   "execution_count": 19,
   "metadata": {},
   "outputs": [],
   "source": [
    "\n",
    "for i in range(0,np.size(eta)-1):\n",
    "    psiIC = np.append(psiIC,data['psi'][np.size(data['psi'])-1]+(data['eta'][np.size(data['eta'])-1]-eta[i]))\n",
    "\n",
    "psiIC = np.append(psiIC,data['psi'][0] )"
   ]
  },
  {
   "cell_type": "code",
   "execution_count": 20,
   "metadata": {},
   "outputs": [
    {
     "data": {
      "text/html": [
       "\n",
       "<div class=\"bk-root\">\n",
       "    <div class=\"bk-plotdiv\" id=\"57ba4ff2-7c52-441c-9927-7dc874472a07\"></div>\n",
       "</div>"
      ]
     },
     "metadata": {},
     "output_type": "display_data"
    },
    {
     "data": {
      "application/javascript": [
       "(function(root) {\n",
       "  function embed_document(root) {\n",
       "    \n",
       "  var docs_json = {\"cff27705-350a-458b-9534-29eee9d7006c\":{\"roots\":{\"references\":[{\"attributes\":{},\"id\":\"918be0a2-cf29-42dc-995e-d7651181ef88\",\"type\":\"LinearScale\"},{\"attributes\":{\"callback\":null},\"id\":\"d9713538-ff31-4675-8a80-e4e66ba761c4\",\"type\":\"DataRange1d\"},{\"attributes\":{},\"id\":\"6ff475b2-1cbe-4681-81fb-4e10748e9071\",\"type\":\"BasicTickFormatter\"},{\"attributes\":{},\"id\":\"c79258fb-d255-4dd2-8353-f08006bb905a\",\"type\":\"LinearScale\"},{\"attributes\":{},\"id\":\"dd903721-9f54-4b38-9191-ca6d7b335b08\",\"type\":\"ResetTool\"},{\"attributes\":{},\"id\":\"d9eb7395-8a75-45bf-b6ec-280fcebba7e4\",\"type\":\"BasicTicker\"},{\"attributes\":{\"active_drag\":\"auto\",\"active_inspect\":\"auto\",\"active_scroll\":\"auto\",\"active_tap\":\"auto\",\"tools\":[{\"id\":\"8e24ebfb-68b6-4515-93e1-e6cb547e1db8\",\"type\":\"HoverTool\"},{\"id\":\"a476d6fc-cbf0-439d-adab-ef28df572560\",\"type\":\"PanTool\"},{\"id\":\"76c51459-f8c3-4f75-95b4-dd0b72ce7961\",\"type\":\"WheelZoomTool\"},{\"id\":\"9dfeac27-597d-410f-ab21-a6c6f5c59bf0\",\"type\":\"BoxZoomTool\"},{\"id\":\"dd903721-9f54-4b38-9191-ca6d7b335b08\",\"type\":\"ResetTool\"}]},\"id\":\"ced4f34f-1cd2-469a-8846-b121989938b0\",\"type\":\"Toolbar\"},{\"attributes\":{\"fill_alpha\":{\"value\":0.1},\"fill_color\":{\"value\":\"#1f77b4\"},\"line_alpha\":{\"value\":0.1},\"line_color\":{\"value\":\"#1f77b4\"},\"x\":{\"field\":\"x\"},\"y\":{\"field\":\"y\"}},\"id\":\"3d893243-a3a6-41d2-9404-ed2d720cc630\",\"type\":\"Circle\"},{\"attributes\":{},\"id\":\"602c5e73-038e-4e76-b598-be5230c32f11\",\"type\":\"BasicTickFormatter\"},{\"attributes\":{\"callback\":null,\"column_names\":[\"x\",\"y\"],\"data\":{\"x\":{\"__ndarray__\":\"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\",\"dtype\":\"float64\",\"shape\":[321]},\"y\":{\"__ndarray__\":\"MzMzMzPz/7+ZmZmZmdn/vwAAAAAAwP+/ZmZmZmam/7/NzMzMzIz/vzMzMzMzc/+/mZmZmZlZ/78AAAAAAED/v2ZmZmZmJv+/zczMzMwM/78zMzMzM/P+v5mZmZmZ2f6/AAAAAADA/r9mZmZmZqb+v83MzMzMjP6/MzMzMzNz/r+ZmZmZmVn+vwAAAAAAQP6/ZmZmZmYm/r/NzMzMzAz+vzMzMzMz8/2/mpmZmZnZ/b8AAAAAAMD9v2ZmZmZmpv2/zczMzMyM/b8zMzMzM3P9v5qZmZmZWf2/AAAAAABA/b9mZmZmZib9v83MzMzMDP2/MzMzMzPz/L+amZmZmdn8vwAAAAAAwPy/ZmZmZmam/L/NzMzMzIz8vzMzMzMzc/y/mpmZmZlZ/L8AAAAAAED8v2ZmZmZmJvy/zczMzMwM/L8zMzMzM/P7v5qZmZmZ2fu/AAAAAADA+79mZmZmZqb7v83MzMzMjPu/MzMzMzNz+7+amZmZmVn7vwAAAAAAQPu/ZmZmZmYm+7/NzMzMzAz7vzMzMzMz8/q/mpmZmZnZ+r8AAAAAAMD6v2ZmZmZmpvq/zczMzMyM+r8zMzMzM3P6v5qZmZmZWfq/AAAAAABA+r9mZmZmZib6v83MzMzMDPq/MzMzMzPz+b+amZmZmdn5vwAAAAAAwPm/ZmZmZmam+b/NzMzMzIz5vzMzMzMzc/m/mpmZmZlZ+b8AAAAAAED5v2ZmZmZmJvm/zczMzMwM+b8zMzMzM/P4v5qZmZmZ2fi/AAAAAADA+L9mZmZmZqb4v83MzMzMjPi/MzMzMzNz+L+amZmZmVn4vwAAAAAAQPi/ZmZmZmYm+L/NzMzMzAz4vzMzMzMz8/e/mpmZmZnZ978AAAAAAMD3v2ZmZmZmpve/zczMzMyM978zMzMzM3P3v5qZmZmZWfe/AAAAAABA979mZmZmZib3v83MzMzMDPe/MzMzMzPz9r+amZmZmdn2vwAAAAAAwPa/ZmZmZmam9r/NzMzMzIz2vzMzMzMzc/a/mpmZmZlZ9r8AAAAAAED2v2ZmZmZmJva/zczMzMwM9r8zMzMzM/P1v5qZmZmZ2fW/AAAAAADA9b9mZmZmZqb1v83MzMzMjPW/MzMzMzNz9b+amZmZmVn1vwAAAAAAQPW/ZmZmZmYm9b/NzMzMzAz1vzQzMzMz8/S/mpmZmZnZ9L8AAAAAAMD0v2ZmZmZmpvS/zczMzMyM9L80MzMzM3P0v5qZmZmZWfS/AAAAAABA9L9mZmZmZib0v83MzMzMDPS/NDMzMzPz87+amZmZmdnzvwAAAAAAwPO/ZmZmZmam87/NzMzMzIzzvzQzMzMzc/O/mpmZmZlZ878AAAAAAEDzv2ZmZmZmJvO/zczMzMwM8780MzMzM/Pyv5qZmZmZ2fK/AAAAAADA8r9mZmZmZqbyv83MzMzMjPK/NDMzMzNz8r+amZmZmVnyvwAAAAAAQPK/ZmZmZmYm8r/NzMzMzAzyvzQzMzMz8/G/mpmZmZnZ8b8AAAAAAMDxv2ZmZmZmpvG/zczMzMyM8b80MzMzM3Pxv5qZmZmZWfG/AAAAAABA8b9mZmZmZibxv83MzMzMDPG/NDMzMzPz8L+amZmZmdnwvwAAAAAAwPC/ZmZmZmam8L/NzMzMzIzwvzQzMzMzc/C/mpmZmZlZ8L8AAAAAAEDwv2ZmZmZmJvC/zczMzMwM8L9nZmZmZubvvzQzMzMzs++/AAAAAACA77/OzMzMzEzvv5qZmZmZGe+/ZmZmZmbm7r80MzMzM7PuvwAAAAAAgO6/zszMzMxM7r+amZmZmRnuv2ZmZmZm5u2/NDMzMzOz7b8AAAAAAIDtv87MzMzMTO2/mpmZmZkZ7b9mZmZmZubsvzQzMzMzs+y/AAAAAACA7L/OzMzMzEzsv5qZmZmZGey/ZmZmZmbm6780MzMzM7PrvwAAAAAAgOu/zszMzMxM67+amZmZmRnrv2ZmZmZm5uq/NDMzMzOz6r8AAAAAAIDqv87MzMzMTOq/mpmZmZkZ6r9mZmZmZubpvzQzMzMzs+m/AAAAAACA6b/OzMzMzEzpv5qZmZmZGem/ZmZmZmbm6L80MzMzM7PovwAAAAAAgOi/zszMzMxM6L+amZmZmRnov2ZmZmZm5ue/NDMzMzOz578AAAAAAIDnv87MzMzMTOe/mpmZmZkZ579mZmZmZubmvzQzMzMzs+a/AAAAAACA5r/OzMzMzEzmv5qZmZmZGea/ZmZmZmbm5b80MzMzM7PlvwAAAAAAgOW/zszMzMxM5b+amZmZmRnlv2hmZmZm5uS/NDMzMzOz5L8AAAAAAIDkv87MzMzMTOS/mpmZmZkZ5L9oZmZmZubjvzQzMzMzs+O/AAAAAACA47/OzMzMzEzjv5qZmZmZGeO/aGZmZmbm4r80MzMzM7PivwAAAAAAgOK/zszMzMxM4r+amZmZmRniv2hmZmZm5uG/NDMzMzOz4b8AAAAAAIDhv87MzMzMTOG/mpmZmZkZ4b9oZmZmZubgvzQzMzMzs+C/AAAAAACA4L/OzMzMzEzgv5qZmZmZGeC/0MzMzMzM379oZmZmZmbfvwAAAAAAAN+/nJmZmZmZ3r80MzMzMzPev9DMzMzMzN2/aGZmZmZm3b8AAAAAAADdv5yZmZmZmdy/NDMzMzMz3L/QzMzMzMzbv2hmZmZmZtu/AAAAAAAA27+cmZmZmZnavzQzMzMzM9q/0MzMzMzM2b9oZmZmZmbZvwAAAAAAANm/nJmZmZmZ2L80MzMzMzPYv9DMzMzMzNe/aGZmZmZm178AAAAAAADXv5yZmZmZmda/NDMzMzMz1r/QzMzMzMzVv2hmZmZmZtW/AAAAAAAA1b+cmZmZmZnUvzQzMzMzM9S/0MzMzMzM079oZmZmZmbTvwAAAAAAANO/nJmZmZmZ0r80MzMzMzPSv9DMzMzMzNG/aGZmZmZm0b8AAAAAAADRv5yZmZmZmdC/NDMzMzMz0L+gmZmZmZnPv9DMzMzMzM6/AAAAAAAAzr84MzMzMzPNv2hmZmZmZsy/oJmZmZmZy7/QzMzMzMzKvwAAAAAAAMq/ODMzMzMzyb9oZmZmZmbIv6CZmZmZmce/0MzMzMzMxr8AAAAAAADGvzgzMzMzM8W/aGZmZmZmxL+gmZmZmZnDv9DMzMzMzMK/AAAAAAAAwr84MzMzMzPBv2hmZmZmZsC/QDMzMzMzv7+gmZmZmZm9vxAAAAAAALy/cGZmZmZmur/QzMzMzMy4v0AzMzMzM7e/oJmZmZmZtb8QAAAAAAC0v3BmZmZmZrK/0MzMzMzMsL+AZmZmZmauv0AzMzMzM6u/IAAAAAAAqL/gzMzMzMykv6CZmZmZmaG/AM3MzMzMnL+AZmZmZmaWv0AAAAAAAJC/gDMzMzMzg7+amZmZmZlpvwAAAAAAAAAA\",\"dtype\":\"float64\",\"shape\":[321]}},\"selected\":null,\"selection_policy\":null},\"id\":\"443d7eda-3b5b-4b97-af9c-16e0e74137ee\",\"type\":\"ColumnDataSource\"},{\"attributes\":{},\"id\":\"bae87e94-9702-4972-9ab3-61f8607af47c\",\"type\":\"BasicTicker\"},{\"attributes\":{},\"id\":\"76c51459-f8c3-4f75-95b4-dd0b72ce7961\",\"type\":\"WheelZoomTool\"},{\"attributes\":{},\"id\":\"a476d6fc-cbf0-439d-adab-ef28df572560\",\"type\":\"PanTool\"},{\"attributes\":{\"callback\":null,\"tooltips\":[[\"(x,y)\",\"($x, $y)\"]]},\"id\":\"8e24ebfb-68b6-4515-93e1-e6cb547e1db8\",\"type\":\"HoverTool\"},{\"attributes\":{\"align\":\"center\",\"plot\":null,\"text\":\"Initial condition for \\u03c8: hydrostatic\",\"text_font_size\":{\"value\":\"22px\"}},\"id\":\"b9dbcfd9-c8dc-4af8-a807-85d1c30c07f1\",\"type\":\"Title\"},{\"attributes\":{\"axis_label\":\"\\u03c8 [m]\",\"axis_label_text_font_size\":{\"value\":\"18px\"},\"formatter\":{\"id\":\"602c5e73-038e-4e76-b598-be5230c32f11\",\"type\":\"BasicTickFormatter\"},\"plot\":{\"id\":\"be55bfa9-f26d-4b0e-8b7e-f58ce380337f\",\"subtype\":\"Figure\",\"type\":\"Plot\"},\"ticker\":{\"id\":\"bae87e94-9702-4972-9ab3-61f8607af47c\",\"type\":\"BasicTicker\"}},\"id\":\"d8faf895-66e0-446a-b6c2-352c80a03fac\",\"type\":\"LinearAxis\"},{\"attributes\":{\"below\":[{\"id\":\"d8faf895-66e0-446a-b6c2-352c80a03fac\",\"type\":\"LinearAxis\"}],\"left\":[{\"id\":\"693e14ab-952d-4305-932f-1532df22fd1d\",\"type\":\"LinearAxis\"}],\"renderers\":[{\"id\":\"d8faf895-66e0-446a-b6c2-352c80a03fac\",\"type\":\"LinearAxis\"},{\"id\":\"b25bfa2c-f9a0-4bbb-898d-f95711ca1600\",\"type\":\"Grid\"},{\"id\":\"693e14ab-952d-4305-932f-1532df22fd1d\",\"type\":\"LinearAxis\"},{\"id\":\"72482414-b861-481f-ac61-b0ccb3a59528\",\"type\":\"Grid\"},{\"id\":\"e50b75e8-7c78-4adc-807b-9b25e9e0b51c\",\"type\":\"BoxAnnotation\"},{\"id\":\"e3e0e62d-7e43-475c-a706-00d5cfa462b2\",\"type\":\"GlyphRenderer\"}],\"title\":{\"id\":\"b9dbcfd9-c8dc-4af8-a807-85d1c30c07f1\",\"type\":\"Title\"},\"toolbar\":{\"id\":\"ced4f34f-1cd2-469a-8846-b121989938b0\",\"type\":\"Toolbar\"},\"x_range\":{\"id\":\"d9713538-ff31-4675-8a80-e4e66ba761c4\",\"type\":\"DataRange1d\"},\"x_scale\":{\"id\":\"918be0a2-cf29-42dc-995e-d7651181ef88\",\"type\":\"LinearScale\"},\"y_range\":{\"id\":\"29018c83-f5b0-4513-a9e5-5a2e352ecd7d\",\"type\":\"DataRange1d\"},\"y_scale\":{\"id\":\"c79258fb-d255-4dd2-8353-f08006bb905a\",\"type\":\"LinearScale\"}},\"id\":\"be55bfa9-f26d-4b0e-8b7e-f58ce380337f\",\"subtype\":\"Figure\",\"type\":\"Plot\"},{\"attributes\":{\"overlay\":{\"id\":\"e50b75e8-7c78-4adc-807b-9b25e9e0b51c\",\"type\":\"BoxAnnotation\"}},\"id\":\"9dfeac27-597d-410f-ab21-a6c6f5c59bf0\",\"type\":\"BoxZoomTool\"},{\"attributes\":{\"dimension\":1,\"plot\":{\"id\":\"be55bfa9-f26d-4b0e-8b7e-f58ce380337f\",\"subtype\":\"Figure\",\"type\":\"Plot\"},\"ticker\":{\"id\":\"d9eb7395-8a75-45bf-b6ec-280fcebba7e4\",\"type\":\"BasicTicker\"}},\"id\":\"72482414-b861-481f-ac61-b0ccb3a59528\",\"type\":\"Grid\"},{\"attributes\":{\"plot\":{\"id\":\"be55bfa9-f26d-4b0e-8b7e-f58ce380337f\",\"subtype\":\"Figure\",\"type\":\"Plot\"},\"ticker\":{\"id\":\"bae87e94-9702-4972-9ab3-61f8607af47c\",\"type\":\"BasicTicker\"}},\"id\":\"b25bfa2c-f9a0-4bbb-898d-f95711ca1600\",\"type\":\"Grid\"},{\"attributes\":{\"callback\":null},\"id\":\"29018c83-f5b0-4513-a9e5-5a2e352ecd7d\",\"type\":\"DataRange1d\"},{\"attributes\":{\"axis_label\":\"\\u03b7 [m]\",\"axis_label_text_font_size\":{\"value\":\"18px\"},\"formatter\":{\"id\":\"6ff475b2-1cbe-4681-81fb-4e10748e9071\",\"type\":\"BasicTickFormatter\"},\"plot\":{\"id\":\"be55bfa9-f26d-4b0e-8b7e-f58ce380337f\",\"subtype\":\"Figure\",\"type\":\"Plot\"},\"ticker\":{\"id\":\"d9eb7395-8a75-45bf-b6ec-280fcebba7e4\",\"type\":\"BasicTicker\"}},\"id\":\"693e14ab-952d-4305-932f-1532df22fd1d\",\"type\":\"LinearAxis\"},{\"attributes\":{\"bottom_units\":\"screen\",\"fill_alpha\":{\"value\":0.5},\"fill_color\":{\"value\":\"lightgrey\"},\"left_units\":\"screen\",\"level\":\"overlay\",\"line_alpha\":{\"value\":1.0},\"line_color\":{\"value\":\"black\"},\"line_dash\":[4,4],\"line_width\":{\"value\":2},\"plot\":null,\"render_mode\":\"css\",\"right_units\":\"screen\",\"top_units\":\"screen\"},\"id\":\"e50b75e8-7c78-4adc-807b-9b25e9e0b51c\",\"type\":\"BoxAnnotation\"},{\"attributes\":{\"fill_color\":{\"value\":\"blue\"},\"line_color\":{\"value\":\"blue\"},\"x\":{\"field\":\"x\"},\"y\":{\"field\":\"y\"}},\"id\":\"bfef0445-625d-4b05-9c9c-43154c0749a2\",\"type\":\"Circle\"},{\"attributes\":{\"source\":{\"id\":\"443d7eda-3b5b-4b97-af9c-16e0e74137ee\",\"type\":\"ColumnDataSource\"}},\"id\":\"4e073fb4-095a-4308-bd42-ebc4a0da6b65\",\"type\":\"CDSView\"},{\"attributes\":{\"data_source\":{\"id\":\"443d7eda-3b5b-4b97-af9c-16e0e74137ee\",\"type\":\"ColumnDataSource\"},\"glyph\":{\"id\":\"bfef0445-625d-4b05-9c9c-43154c0749a2\",\"type\":\"Circle\"},\"hover_glyph\":null,\"muted_glyph\":null,\"nonselection_glyph\":{\"id\":\"3d893243-a3a6-41d2-9404-ed2d720cc630\",\"type\":\"Circle\"},\"selection_glyph\":null,\"view\":{\"id\":\"4e073fb4-095a-4308-bd42-ebc4a0da6b65\",\"type\":\"CDSView\"}},\"id\":\"e3e0e62d-7e43-475c-a706-00d5cfa462b2\",\"type\":\"GlyphRenderer\"}],\"root_ids\":[\"be55bfa9-f26d-4b0e-8b7e-f58ce380337f\"]},\"title\":\"Bokeh Application\",\"version\":\"0.12.15\"}};\n",
       "  var render_items = [{\"docid\":\"cff27705-350a-458b-9534-29eee9d7006c\",\"elementid\":\"57ba4ff2-7c52-441c-9927-7dc874472a07\",\"modelid\":\"be55bfa9-f26d-4b0e-8b7e-f58ce380337f\"}];\n",
       "  root.Bokeh.embed.embed_items_notebook(docs_json, render_items);\n",
       "\n",
       "  }\n",
       "  if (root.Bokeh !== undefined) {\n",
       "    embed_document(root);\n",
       "  } else {\n",
       "    var attempts = 0;\n",
       "    var timer = setInterval(function(root) {\n",
       "      if (root.Bokeh !== undefined) {\n",
       "        embed_document(root);\n",
       "        clearInterval(timer);\n",
       "      }\n",
       "      attempts++;\n",
       "      if (attempts > 100) {\n",
       "        console.log(\"Bokeh: ERROR: Unable to run BokehJS code because BokehJS library is missing\")\n",
       "        clearInterval(timer);\n",
       "      }\n",
       "    }, 10, root)\n",
       "  }\n",
       "})(window);"
      ],
      "application/vnd.bokehjs_exec.v0+json": ""
     },
     "metadata": {
      "application/vnd.bokehjs_exec.v0+json": {
       "id": "be55bfa9-f26d-4b0e-8b7e-f58ce380337f"
      }
     },
     "output_type": "display_data"
    }
   ],
   "source": [
    "\n",
    "\n",
    "p1 = figure(plot_width=600, plot_height=600,tools=['pan,wheel_zoom,box_zoom,reset',hover],\n",
    "           title=\"Mouse over the dots\")\n",
    "p1.scatter(psiIC,eta, color=\"blue\")\n",
    "\n",
    "p1.xaxis.axis_label = '\\u03C8 [m]'\n",
    "p1.xaxis.axis_label_text_font_size = str(labelSize) + \"px\"\n",
    "\n",
    "p1.yaxis.axis_label = '\\u03b7 [m]'\n",
    "p1.yaxis.axis_label_text_font_size = str(labelSize) + \"px\"\n",
    "p1.title.text = 'Initial condition for \\u03C8: hydrostatic'\n",
    "p1.title.align = \"center\"\n",
    "p1.title.text_font_size = str(titleSize) + \"px\"\n",
    "\n",
    "\n",
    "show(p1)"
   ]
  },
  {
   "cell_type": "markdown",
   "metadata": {},
   "source": [
    "The _full_ hydrostatic distribution is the state of equilibrium: the water flux is due to the spatial gradient of $\\psi+z$. Let us plot the total hydraulic head for the hydrostatic distribution and it is possible to observe that the spatial gradient is null every where:"
   ]
  },
  {
   "cell_type": "code",
   "execution_count": 45,
   "metadata": {},
   "outputs": [
    {
     "data": {
      "text/html": [
       "\n",
       "<div class=\"bk-root\">\n",
       "    <div class=\"bk-plotdiv\" id=\"b2c00f5c-f505-458b-99c4-49a2ec33201b\"></div>\n",
       "</div>"
      ]
     },
     "metadata": {},
     "output_type": "display_data"
    },
    {
     "data": {
      "application/javascript": [
       "(function(root) {\n",
       "  function embed_document(root) {\n",
       "    \n",
       "  var docs_json = {\"fa717284-1581-41da-9f08-94baec4d2a45\":{\"roots\":{\"references\":[{\"attributes\":{\"bottom_units\":\"screen\",\"fill_alpha\":{\"value\":0.5},\"fill_color\":{\"value\":\"lightgrey\"},\"left_units\":\"screen\",\"level\":\"overlay\",\"line_alpha\":{\"value\":1.0},\"line_color\":{\"value\":\"black\"},\"line_dash\":[4,4],\"line_width\":{\"value\":2},\"plot\":null,\"render_mode\":\"css\",\"right_units\":\"screen\",\"top_units\":\"screen\"},\"id\":\"12aa6cfe-2a98-4253-9a6f-24db59c82843\",\"type\":\"BoxAnnotation\"},{\"attributes\":{},\"id\":\"0ab7faf7-2d75-4882-867c-c5087263f853\",\"type\":\"PanTool\"},{\"attributes\":{\"callback\":null,\"column_names\":[\"x\",\"y\"],\"data\":{\"x\":{\"__ndarray__\":\"AAAAAAAAAAAAAAAAAAAAAAAAAAAAAAAAAAAAAAAAAAAAAAAAAAAAAAAAAAAAAAAAAAAAAAAAAAAAAAAAAAAAAAAAAAAAAAAAAAAAAAAAAAAAAAAAAAAAAAAAAAAAAAAAAAAAAAAAAAAAAAAAAAAAAAAAAAAAAAAAAAAAAAAAAAAAAAAAAAAAAAAAAAAAAAAAAAAAAAAAAAAAAAAAAAAAAAAAAAAAAAAAAAAAAAAAAAAAAAAAAAAAAAAAAAAAAAAAAAAAAAAAAAAAAAAAAAAAAAAAAAAAAAAAAAAAAAAAAAAAAAAAAAAAAAAAAAAAAAAAAAAAAAAAAAAAAAAAAAAAAAAAAAAAAAAAAAAAAAAAAAAAAAAAAAAAAAAAAAAAAAAAAAAAAAAAAAAAAAAAAAAAAAAAAAAAAAAAAAAAAAAAAAAAAAAAAAAAAAAAAAAAAAAAAAAAAAAAAAAAAAAAAAAAAAAAAAAAAAAAAAAAAAAAAAAAAAAAAAAAAAAAAAAAAAAAAAAAAAAAAAAAAAAAAAAAAAAAAAAAAAAAAAAAAAAAAAAAAAAAAAAAAAAAAAAAAAAAAAAAAAAAAAAAAAAAAAAAAAAAAAAAAAAAAAAAAAAAAAAAAAAAAAAAAAAAAAAAAAAAAAAAAAAAAAAAAAAAAAAAAAAAAAAAAAAAAAAAAAAAAAAAAAAAAAAAAAAAAAAAAAAAAAAAAAAAAAAAAAAAAAAAAAAAAAAAAAAAAAAAAAAAAAAAAAAAAAAAAAAAAAAAAAAAAAAAAAAAAAAAAAAAAAAAAAAAAAAAAAAAAAAAAAAAAAAAAAAAAAAAAAAAAAAAAAAAAAAAAAAAAAAAAAAAAAAAAAAAAAAAAAAAAAAAAAAAAAAAAAAAAAAAAAAAAAAAAAAAAAAAAAAAAAAAAAAAAAAAAAAAAAAAAAAAAAAAAAAAAAAAAAAAAAAAAAAAAAAAAAAAAAAAAAAAAAAAAAAAAAAAAAAAAAAAAAAAAAAAAAAAAAAAAAAAAAAAAAAAAAAAAAAAAAAAAAAAAAAAAAAAAAAAAAAAAAAAAAAAAAAAAAAAAAAAAAAAAAAAAAAAAAAAAAAAAAAAAAAAAAAAAAAAAAAAAAAAAAAAAAAAAAAAAAAAAAAAAAAAAAAAAAAAAAAAAAAAAAAAAAAAAAAAAAAAAAAAAAAAAAAAAAAAAAAAAAAAAAAAAAAAAAAAAAAAAAAAAAAAAAAAAAAAAAAAAAAAAAAAAAAAAAAAAAAAAAAAAAAAAAAAAAAAAAAAAAAAAAAAAAAAAAAAAAAAAAAAAAAAAAAAAAAAAAAAAAAAAAAAAAAAAAAAAAAAAAAAAAAAAAAAAAAAAAAAAAAAAAAAAAAAAAAAAAAAAAAAAAAAAAAAAAAAAAAAAAAAAAAAAAAAAAAAAAAAAAAAAAAAAAAAAAAAAAAAAAAAAAAAAAAAAAAAAAAAAAAAAAAAAAAAAAAAAAAAAAAAAAAAAAAAAAAAAAAAAAAAAAAAAAAAAAAAAAAAAAAAAAAAAAAAAAAAAAAAAAAAAAAAAAAAAAAAAAAAAAAAAAAAAAAAAAAAAAAAAAAAAAAAAAAAAAAAAAAAAAAAAAAAAAAAAAAAAAAAAAAAAAAAAAAAAAAAAAAAAAAAAAAAAAAAAAAAAAAAAAAAAAAAAAAAAAAAAAAAAAAAAAAAAAAAAAAAAAAAAAAAAAAAAAAAAAAAAAAAAAAAAAAAAAAAAAAAAAAAAAAAAAAAAAAAAAAAAAAAAAAAAAAAAAAAAAAAAAAAAAAAAAAAAAAAAAAAAAAAAAAAAAAAAAAAAAAAAAAAAAAAAAAAAAAAAAAAAAAAAAAAAAAAAAAAAAAAAAAAAAAAAAAAAAAAAAAAAAAAAAAAAAAAAAAAAAAAAAAAAAAAAAAAAAAAAAAAAAAAAAAAAAAAAAAAAAAAAAAAAAAAAAAAAAAAAAAAAAAAAAAAAAAAAAAAAAAAAAAAAAAAAAAAAAAAAAAAAAAAAAAAAAAAAAAAAAAAAAAAAAAAAAAAAAAAAAAAAAAAAAAAAAAAAAAAAAAAAAAAAAAAAAAAAAAAAAAAAAAAAAAAAAAAAAAAAAAAAAAAAAAAAAAAAAAAAAAAAAAAAAAAAAAAAAAAAAAAAAAAAAAAAAAAAAAAAAAAAAAAAAAAAAAAAAAAAAAAAAAAAAAAAAAAAAAAAAAAAAAAAAAAAAAAAAAAAAAAAAAAAAAAAAAAAAAAAAAAAAAAAAAAAAAAAAAAAAAAAAAAAAAAAAAAAAAAAAAAAAAAAAAAAAAAAAAAAAAAAAAAAAAAAAAAAAAAAAAAAAAAAAAAAAAAAAAAAAAAAAAAAAAAAAAAAAAAAAAAAAAAAAAAAAAAAAAAAAAAAAAAAAAAAAAAAAAAAAAAAAAAAAAAAAAAAAAAAAAAAAAAAAAAAAAAAAAAAAAAAAAAAAAAAAAAAAAAAAAAAAAAAAAAAAAAAAAAAAAAAAAAAAAAAAAAAAAAAAAAAAAAAAAAAAAAAAAAAAAAAAAAAAAAAAAAAAAAAAAAAAAAAAAAAAAAAAAAAAAAAAAAAAAAAAAAAAAAAAAAAAAAAAAAAAAAAAAAAAAAAAAAAAAAAAAAAAAAAAAAAAAAAAAAAAAAAAAAAAAAAAAAAAAAAAAAAAAAAAAAAAAAAAAAAAAAAAAAAAAAAAAAAAAAAAAAAAAAAAAAAAAAAAAAAAAAAAAAAAAAAAAAAAAAAAAAAAAAAAAAAAAAAAAAAAAAAAAAAAAAAAAAAAAAAAAAAAAAAAAAAAAAAAAAAAAAAAAAAAAAAAAAAAAAAAAAAAAAAAAAAAAAAAAAAAAAAAAAAAAAAAAAAAAAAAAAAAAAAAAAAAAAAAAAAAAAAAAAAAAAAAAAAAAAAAAAAAAAAAAAAAAAAAAAAAAAAAAAAAAAAAAAAAAAAAAAAAAAAAAAAAAAAAAAAAAAAAAAAAAAAAAAAAAAAAAAAAAAAAAAAAAAAAAAAAAAAAAAAAAAAAAAAAAAAAAAAAAAAAAAAAAAAAAAAAAAAAAAAAAAAAAAAAAAAAAAAAAAAAAAAAAAAAAAAAAAAAAAAAAAAAAAAAAAAAAAAAAAAAAAAAAAAAAAAAAAAAAAAAAAAAAAAAAAAAAAAAAAAAAAAAAAAAAAAAAAAAAAAAAAAAAAAAAAAAAAAAAAAAAAAAAAAAAAAAAAAAAAAAAAAAAAAAAAAAAAAAAAAAAAAAAAAAAAAAAAAAAAAAAAAAAAAAAAAAAAAAAAAAAAAAAAAAAAAAAAAAAAAAAAAAAAAAAAAAAAAAAAAAAAAAAAAAAAAAAAAAAAAAAAAAAAAAAAAAAAAAAAAAAAAAAAAAAAAAAAAAAAAAAAAAAAAAAAAAAAAAAAAAAAAAAAAAAAAAAAAAAAAAAAAAAAAAAAAAAAAAAAAAAAAAAAAAAAAAAAAAAAAAAA\",\"dtype\":\"float64\",\"shape\":[321]},\"y\":{\"__ndarray__\":\"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\",\"dtype\":\"float64\",\"shape\":[321]}},\"selected\":null,\"selection_policy\":null},\"id\":\"f2952610-6a24-4e86-8a88-7200d7f10cb0\",\"type\":\"ColumnDataSource\"},{\"attributes\":{\"dimension\":1,\"plot\":{\"id\":\"86b880e5-e811-4fca-bcea-f341d34b8cd8\",\"subtype\":\"Figure\",\"type\":\"Plot\"},\"ticker\":{\"id\":\"d8316ba6-fb8d-4d08-98bd-6c3d420bbf4f\",\"type\":\"BasicTicker\"}},\"id\":\"f6b446e7-8616-4d51-8a1c-171b8e5c26f5\",\"type\":\"Grid\"},{\"attributes\":{\"below\":[{\"id\":\"52fd7c7b-0b25-472d-bee7-cfbf3289e375\",\"type\":\"LinearAxis\"}],\"left\":[{\"id\":\"1bf8905d-29f9-43fb-9c16-4158c9ecf4a0\",\"type\":\"LinearAxis\"}],\"renderers\":[{\"id\":\"52fd7c7b-0b25-472d-bee7-cfbf3289e375\",\"type\":\"LinearAxis\"},{\"id\":\"0e7c7e63-3e4c-4673-92c2-036712a7206e\",\"type\":\"Grid\"},{\"id\":\"1bf8905d-29f9-43fb-9c16-4158c9ecf4a0\",\"type\":\"LinearAxis\"},{\"id\":\"f6b446e7-8616-4d51-8a1c-171b8e5c26f5\",\"type\":\"Grid\"},{\"id\":\"12aa6cfe-2a98-4253-9a6f-24db59c82843\",\"type\":\"BoxAnnotation\"},{\"id\":\"f4918a68-b41c-41d4-af8b-56a1b2c1c739\",\"type\":\"GlyphRenderer\"}],\"title\":{\"id\":\"c88690a2-5252-4eec-9239-a2b66454652e\",\"type\":\"Title\"},\"toolbar\":{\"id\":\"91d73351-97c3-4cd6-90a3-927e95d919fe\",\"type\":\"Toolbar\"},\"x_range\":{\"id\":\"c00ad664-7636-4c2e-b235-eb066d3027dd\",\"type\":\"DataRange1d\"},\"x_scale\":{\"id\":\"4a590ccb-8605-4e81-be15-f7b926d4a597\",\"type\":\"LinearScale\"},\"y_range\":{\"id\":\"cf72afdc-6605-4033-a340-c17e226bdbdc\",\"type\":\"DataRange1d\"},\"y_scale\":{\"id\":\"8f6b9165-a55e-43f4-983c-ed2ce669a17e\",\"type\":\"LinearScale\"}},\"id\":\"86b880e5-e811-4fca-bcea-f341d34b8cd8\",\"subtype\":\"Figure\",\"type\":\"Plot\"},{\"attributes\":{\"align\":\"center\",\"plot\":null,\"text\":\"Total hydraulic head\",\"text_font_size\":{\"value\":\"22px\"}},\"id\":\"c88690a2-5252-4eec-9239-a2b66454652e\",\"type\":\"Title\"},{\"attributes\":{\"overlay\":{\"id\":\"12aa6cfe-2a98-4253-9a6f-24db59c82843\",\"type\":\"BoxAnnotation\"}},\"id\":\"956b9880-5ecf-4d96-99fe-8068564f4723\",\"type\":\"BoxZoomTool\"},{\"attributes\":{},\"id\":\"ed621df1-4fb0-4efa-9553-882fafe6a025\",\"type\":\"ResetTool\"},{\"attributes\":{\"callback\":null},\"id\":\"c00ad664-7636-4c2e-b235-eb066d3027dd\",\"type\":\"DataRange1d\"},{\"attributes\":{},\"id\":\"657ac445-1057-4b3a-8567-930bd1acda32\",\"type\":\"BasicTickFormatter\"},{\"attributes\":{\"source\":{\"id\":\"f2952610-6a24-4e86-8a88-7200d7f10cb0\",\"type\":\"ColumnDataSource\"}},\"id\":\"e894fe6c-38f0-443c-a05f-87dce1a141fd\",\"type\":\"CDSView\"},{\"attributes\":{\"fill_color\":{\"value\":\"blue\"},\"line_color\":{\"value\":\"blue\"},\"x\":{\"field\":\"x\"},\"y\":{\"field\":\"y\"}},\"id\":\"33ed1975-a11f-4518-81d0-52a9171a8374\",\"type\":\"Circle\"},{\"attributes\":{},\"id\":\"3c17240e-8d31-4227-9ba9-ad9225723042\",\"type\":\"WheelZoomTool\"},{\"attributes\":{\"fill_alpha\":{\"value\":0.1},\"fill_color\":{\"value\":\"#1f77b4\"},\"line_alpha\":{\"value\":0.1},\"line_color\":{\"value\":\"#1f77b4\"},\"x\":{\"field\":\"x\"},\"y\":{\"field\":\"y\"}},\"id\":\"334f314d-3b5e-4551-a02b-7ecc55773bf6\",\"type\":\"Circle\"},{\"attributes\":{\"active_drag\":\"auto\",\"active_inspect\":\"auto\",\"active_scroll\":\"auto\",\"active_tap\":\"auto\",\"tools\":[{\"id\":\"fe65901c-6ee4-435e-aba1-3d01a6c4f5d6\",\"type\":\"HoverTool\"},{\"id\":\"0ab7faf7-2d75-4882-867c-c5087263f853\",\"type\":\"PanTool\"},{\"id\":\"3c17240e-8d31-4227-9ba9-ad9225723042\",\"type\":\"WheelZoomTool\"},{\"id\":\"956b9880-5ecf-4d96-99fe-8068564f4723\",\"type\":\"BoxZoomTool\"},{\"id\":\"ed621df1-4fb0-4efa-9553-882fafe6a025\",\"type\":\"ResetTool\"}]},\"id\":\"91d73351-97c3-4cd6-90a3-927e95d919fe\",\"type\":\"Toolbar\"},{\"attributes\":{\"axis_label\":\"\\u03c8 [m]\",\"axis_label_text_font_size\":{\"value\":\"18px\"},\"formatter\":{\"id\":\"ae9d5595-7369-40fb-adf1-bb96f4fd6ba3\",\"type\":\"BasicTickFormatter\"},\"plot\":{\"id\":\"86b880e5-e811-4fca-bcea-f341d34b8cd8\",\"subtype\":\"Figure\",\"type\":\"Plot\"},\"ticker\":{\"id\":\"cab6374f-9f1c-493f-8ee1-59f4b121cd05\",\"type\":\"BasicTicker\"}},\"id\":\"52fd7c7b-0b25-472d-bee7-cfbf3289e375\",\"type\":\"LinearAxis\"},{\"attributes\":{},\"id\":\"cab6374f-9f1c-493f-8ee1-59f4b121cd05\",\"type\":\"BasicTicker\"},{\"attributes\":{\"callback\":null,\"tooltips\":[[\"(x,y)\",\"($x, $y)\"]]},\"id\":\"fe65901c-6ee4-435e-aba1-3d01a6c4f5d6\",\"type\":\"HoverTool\"},{\"attributes\":{\"axis_label\":\"\\u03b7 [m]\",\"axis_label_text_font_size\":{\"value\":\"18px\"},\"formatter\":{\"id\":\"657ac445-1057-4b3a-8567-930bd1acda32\",\"type\":\"BasicTickFormatter\"},\"plot\":{\"id\":\"86b880e5-e811-4fca-bcea-f341d34b8cd8\",\"subtype\":\"Figure\",\"type\":\"Plot\"},\"ticker\":{\"id\":\"d8316ba6-fb8d-4d08-98bd-6c3d420bbf4f\",\"type\":\"BasicTicker\"}},\"id\":\"1bf8905d-29f9-43fb-9c16-4158c9ecf4a0\",\"type\":\"LinearAxis\"},{\"attributes\":{},\"id\":\"4a590ccb-8605-4e81-be15-f7b926d4a597\",\"type\":\"LinearScale\"},{\"attributes\":{},\"id\":\"ae9d5595-7369-40fb-adf1-bb96f4fd6ba3\",\"type\":\"BasicTickFormatter\"},{\"attributes\":{\"callback\":null},\"id\":\"cf72afdc-6605-4033-a340-c17e226bdbdc\",\"type\":\"DataRange1d\"},{\"attributes\":{\"plot\":{\"id\":\"86b880e5-e811-4fca-bcea-f341d34b8cd8\",\"subtype\":\"Figure\",\"type\":\"Plot\"},\"ticker\":{\"id\":\"cab6374f-9f1c-493f-8ee1-59f4b121cd05\",\"type\":\"BasicTicker\"}},\"id\":\"0e7c7e63-3e4c-4673-92c2-036712a7206e\",\"type\":\"Grid\"},{\"attributes\":{},\"id\":\"8f6b9165-a55e-43f4-983c-ed2ce669a17e\",\"type\":\"LinearScale\"},{\"attributes\":{},\"id\":\"d8316ba6-fb8d-4d08-98bd-6c3d420bbf4f\",\"type\":\"BasicTicker\"},{\"attributes\":{\"data_source\":{\"id\":\"f2952610-6a24-4e86-8a88-7200d7f10cb0\",\"type\":\"ColumnDataSource\"},\"glyph\":{\"id\":\"33ed1975-a11f-4518-81d0-52a9171a8374\",\"type\":\"Circle\"},\"hover_glyph\":null,\"muted_glyph\":null,\"nonselection_glyph\":{\"id\":\"334f314d-3b5e-4551-a02b-7ecc55773bf6\",\"type\":\"Circle\"},\"selection_glyph\":null,\"view\":{\"id\":\"e894fe6c-38f0-443c-a05f-87dce1a141fd\",\"type\":\"CDSView\"}},\"id\":\"f4918a68-b41c-41d4-af8b-56a1b2c1c739\",\"type\":\"GlyphRenderer\"}],\"root_ids\":[\"86b880e5-e811-4fca-bcea-f341d34b8cd8\"]},\"title\":\"Bokeh Application\",\"version\":\"0.12.15\"}};\n",
       "  var render_items = [{\"docid\":\"fa717284-1581-41da-9f08-94baec4d2a45\",\"elementid\":\"b2c00f5c-f505-458b-99c4-49a2ec33201b\",\"modelid\":\"86b880e5-e811-4fca-bcea-f341d34b8cd8\"}];\n",
       "  root.Bokeh.embed.embed_items_notebook(docs_json, render_items);\n",
       "\n",
       "  }\n",
       "  if (root.Bokeh !== undefined) {\n",
       "    embed_document(root);\n",
       "  } else {\n",
       "    var attempts = 0;\n",
       "    var timer = setInterval(function(root) {\n",
       "      if (root.Bokeh !== undefined) {\n",
       "        embed_document(root);\n",
       "        clearInterval(timer);\n",
       "      }\n",
       "      attempts++;\n",
       "      if (attempts > 100) {\n",
       "        console.log(\"Bokeh: ERROR: Unable to run BokehJS code because BokehJS library is missing\")\n",
       "        clearInterval(timer);\n",
       "      }\n",
       "    }, 10, root)\n",
       "  }\n",
       "})(window);"
      ],
      "application/vnd.bokehjs_exec.v0+json": ""
     },
     "metadata": {
      "application/vnd.bokehjs_exec.v0+json": {
       "id": "86b880e5-e811-4fca-bcea-f341d34b8cd8"
      }
     },
     "output_type": "display_data"
    }
   ],
   "source": [
    "\n",
    "\n",
    "p1 = figure(plot_width=600, plot_height=600,tools=['pan,wheel_zoom,box_zoom,reset',hover],\n",
    "           title=\"Mouse over the dots\")\n",
    "p1.scatter(psiIC+z,eta, color=\"blue\")\n",
    "\n",
    "p1.xaxis.axis_label = '\\u03C8 [m]'\n",
    "p1.xaxis.axis_label_text_font_size = str(labelSize) + \"px\"\n",
    "\n",
    "p1.yaxis.axis_label = '\\u03b7 [m]'\n",
    "p1.yaxis.axis_label_text_font_size = str(labelSize) + \"px\"\n",
    "p1.title.text = 'Total hydraulic head'\n",
    "p1.title.align = \"center\"\n",
    "p1.title.text_font_size = str(titleSize) + \"px\"\n",
    "\n",
    "\n",
    "show(p1)"
   ]
  },
  {
   "cell_type": "markdown",
   "metadata": {},
   "source": [
    "#### Constant pressure head distribution for a given psi at the bottom\n"
   ]
  },
  {
   "cell_type": "code",
   "execution_count": 25,
   "metadata": {},
   "outputs": [],
   "source": [
    "for i in range(0,np.size(eta)-1):\n",
    "    psiIC = np.append(psiIC,data['psi'][np.size(data['psi'])-1])\n",
    "\n",
    "psiIC = np.append(psiIC,data['psi'][0] )"
   ]
  },
  {
   "cell_type": "code",
   "execution_count": 26,
   "metadata": {},
   "outputs": [
    {
     "data": {
      "text/html": [
       "\n",
       "<div class=\"bk-root\">\n",
       "    <div class=\"bk-plotdiv\" id=\"8a008932-0e5e-49b7-9d5f-9bf8b39debb2\"></div>\n",
       "</div>"
      ]
     },
     "metadata": {},
     "output_type": "display_data"
    },
    {
     "data": {
      "application/javascript": [
       "(function(root) {\n",
       "  function embed_document(root) {\n",
       "    \n",
       "  var docs_json = {\"1dd3f8f2-e26f-4625-9a93-4504f18538af\":{\"roots\":{\"references\":[{\"attributes\":{\"callback\":null,\"tooltips\":[[\"(x,y)\",\"($x, $y)\"]]},\"id\":\"34bfde37-e0bf-4b55-a6c1-d2642fece6e8\",\"type\":\"HoverTool\"},{\"attributes\":{},\"id\":\"01da9aa6-d6a4-45e6-a161-3ddf4342e21a\",\"type\":\"ResetTool\"},{\"attributes\":{\"plot\":{\"id\":\"3cf1004f-e42e-4cf5-94fe-d90b71cbc478\",\"subtype\":\"Figure\",\"type\":\"Plot\"},\"ticker\":{\"id\":\"a0638e4d-92a6-49da-a0de-d793c5f225dd\",\"type\":\"BasicTicker\"}},\"id\":\"886ee533-4aec-438b-8fc8-9f8699a37d8f\",\"type\":\"Grid\"},{\"attributes\":{\"fill_alpha\":{\"value\":0.1},\"fill_color\":{\"value\":\"#1f77b4\"},\"line_alpha\":{\"value\":0.1},\"line_color\":{\"value\":\"#1f77b4\"},\"x\":{\"field\":\"x\"},\"y\":{\"field\":\"y\"}},\"id\":\"330365ce-004c-42ba-8ad0-79749feb998b\",\"type\":\"Circle\"},{\"attributes\":{\"bottom_units\":\"screen\",\"fill_alpha\":{\"value\":0.5},\"fill_color\":{\"value\":\"lightgrey\"},\"left_units\":\"screen\",\"level\":\"overlay\",\"line_alpha\":{\"value\":1.0},\"line_color\":{\"value\":\"black\"},\"line_dash\":[4,4],\"line_width\":{\"value\":2},\"plot\":null,\"render_mode\":\"css\",\"right_units\":\"screen\",\"top_units\":\"screen\"},\"id\":\"26d8e69f-587d-4566-9e4d-b48b6b83c8c3\",\"type\":\"BoxAnnotation\"},{\"attributes\":{\"below\":[{\"id\":\"872a18cd-6145-411b-8354-b3b1ee2ff441\",\"type\":\"LinearAxis\"}],\"left\":[{\"id\":\"a7313afa-f0fe-4b12-a13e-67700e034e24\",\"type\":\"LinearAxis\"}],\"renderers\":[{\"id\":\"872a18cd-6145-411b-8354-b3b1ee2ff441\",\"type\":\"LinearAxis\"},{\"id\":\"886ee533-4aec-438b-8fc8-9f8699a37d8f\",\"type\":\"Grid\"},{\"id\":\"a7313afa-f0fe-4b12-a13e-67700e034e24\",\"type\":\"LinearAxis\"},{\"id\":\"1ec2bfed-e321-481f-ac1b-ff65bab8a4fb\",\"type\":\"Grid\"},{\"id\":\"26d8e69f-587d-4566-9e4d-b48b6b83c8c3\",\"type\":\"BoxAnnotation\"},{\"id\":\"2c704109-8d87-4783-9a35-55c957df2bf9\",\"type\":\"GlyphRenderer\"}],\"title\":{\"id\":\"cc53f0ec-e030-4772-811a-2eafa941b0e5\",\"type\":\"Title\"},\"toolbar\":{\"id\":\"1410223d-840f-46e5-bc78-6d41ca9a1ffd\",\"type\":\"Toolbar\"},\"x_range\":{\"id\":\"01b9e28b-4469-4b4e-8379-97450f637dd4\",\"type\":\"DataRange1d\"},\"x_scale\":{\"id\":\"7b0e1ec1-ee61-4f09-afe9-c9cd035235cb\",\"type\":\"LinearScale\"},\"y_range\":{\"id\":\"bee40dd3-cc61-4742-ab9f-f97cae0a1393\",\"type\":\"DataRange1d\"},\"y_scale\":{\"id\":\"66400b94-04a1-46c9-b86b-b144d3ad10ce\",\"type\":\"LinearScale\"}},\"id\":\"3cf1004f-e42e-4cf5-94fe-d90b71cbc478\",\"subtype\":\"Figure\",\"type\":\"Plot\"},{\"attributes\":{\"callback\":null,\"column_names\":[\"x\",\"y\"],\"data\":{\"x\":{\"__ndarray__\":\"AAAAAAAAAAAAAAAAAAAAAAAAAAAAAAAAAAAAAAAAAAAAAAAAAAAAAAAAAAAAAAAAAAAAAAAAAAAAAAAAAAAAAAAAAAAAAAAAAAAAAAAAAAAAAAAAAAAAAAAAAAAAAAAAAAAAAAAAAAAAAAAAAAAAAAAAAAAAAAAAAAAAAAAAAAAAAAAAAAAAAAAAAAAAAAAAAAAAAAAAAAAAAAAAAAAAAAAAAAAAAAAAAAAAAAAAAAAAAAAAAAAAAAAAAAAAAAAAAAAAAAAAAAAAAAAAAAAAAAAAAAAAAAAAAAAAAAAAAAAAAAAAAAAAAAAAAAAAAAAAAAAAAAAAAAAAAAAAAAAAAAAAAAAAAAAAAAAAAAAAAAAAAAAAAAAAAAAAAAAAAAAAAAAAAAAAAAAAAAAAAAAAAAAAAAAAAAAAAAAAAAAAAAAAAAAAAAAAAAAAAAAAAAAAAAAAAAAAAAAAAAAAAAAAAAAAAAAAAAAAAAAAAAAAAAAAAAAAAAAAAAAAAAAAAAAAAAAAAAAAAAAAAAAAAAAAAAAAAAAAAAAAAAAAAAAAAAAAAAAAAAAAAAAAAAAAAAAAAAAAAAAAAAAAAAAAAAAAAAAAAAAAAAAAAAAAAAAAAAAAAAAAAAAAAAAAAAAAAAAAAAAAAAAAAAAAAAAAAAAAAAAAAAAAAAAAAAAAAAAAAAAAAAAAAAAAAAAAAAAAAAAAAAAAAAAAAAAAAAAAAAAAAAAAAAAAAAAAAAAAAAAAAAAAAAAAAAAAAAAAAAAAAAAAAAAAAAAAAAAAAAAAAAAAAAAAAAAAAAAAAAAAAAAAAAAAAAAAAAAAAAAAAAAAAAAAAAAAAAAAAAAAAAAAAAAAAAAAAAAAAAAAAAAAAAAAAAAAAAAAAAAAAAAAAAAAAAAAAAAAAAAAAAAAAAAAAAAAAAAAAAAAAAAAAAAAAAAAAAAAAAAAAAAAAAAAAAAAAAAAAAAAAAAAAAAAAAAAAAAAAAAAAAAAAAAAAAAAAAAAAAAAAAAAAAAAAAAAAAAAAAAAAAAAAAAAAAAAAAAAAAAAAAAAAAAAAAAAAAAAAAAAAAAAAAAAAAAAAAAAAAAAAAAAAAAAAAAAAAAAAAAAAAAAAAAAAAAAAAAAAAAAAAAAAAAAAAAAAAAAAAAAAAAAAAAAAAAAAAAAAAAAAAAAAAAAAAAAAAAAAAAAAAAAAAAAAAAAAAAAAAAAAAAAAAAAAAAAAAAAAAAAAAAAAAAAAAAAAAAAAAAAAAAAAAAAAAAAAAAAAAAAAAAAAAAAAAAAAAAAAAAAAAAAAAAAAAAAAAAAAAAAAAAAAAAAAAAAAAAAAAAAAAAAAAAAAAAAAAAAAAAAAAAAAAAAAAAAAAAAAAAAAAAAAAAAAAAAAAAAAAAAAAAAAAAAAAAAAAAAAAAAAAAAAAAAAAAAAAAAAAAAAAAAAAAAAAAAAAAAAAAAAAAAAAAAAAAAAAAAAAAAAAAAAAAAAAAAAAAAAAAAAAAAAAAAAAAAAAAAAAAAAAAAAAAAAAAAAAAAAAAAAAAAAAAAAAAAAAAAAAAAAAAAAAAAAAAAAAAAAAAAAAAAAAAAAAAAAAAAAAAAAAAAAAAAAAAAAAAAAAAAAAAAAAAAAAAAAAAAAAAAAAAAAAAAAAAAAAAAAAAAAAAAAAAAAAAAAAAAAAAAAAAAAAAAAAAAAAAAAAAAAAAAAAAAAAAAAAAAAAAAAAAAAAAAAAAAAAAAAAAAAAAAAAAAAAAAAAAAAAAAAAAAAAAAAAAAAAAAAAAAAAAAAAAAAAAAAAAAAAAAAAAAAAAAAAAAAAAAAAAAAAAAAAAAAAAAAAAAAAAAAAAAAAAAAAAAAAAAAAAAAAAAAAAAAAAAAAAAAAAAAAAAAAAAAAAAAAAAAAAAAAAAAAAAAAAAAAAAAAAAAAAAAAAAAAAAAAAAAAAAAAAAAAAAAAAAAAAAAAAAAAAAAAAAAAAAAAAAAAAAAAAAAAAAAAAAAAAAAAAAAAAAAAAAAAAAAAAAAAAAAAAAAAAAAAAAAAAAAAAAAAAAAAAAAAAAAAAAAAAAAAAAAAAAAAAAAAAAAAAAAAAAAAAAAAAAAAAAAAAAAAAAAAAAAAAAAAAAAAAAAAAAAAAAAAAAAAAAAAAAAAAAAAAAAAAAAAAAAAAAAAAAAAAAAAAAAAAAAAAAAAAAAAAAAAAAAAAAAAAAAAAAAAAAAAAAAAAAAAAAAAAAAAAAAAAAAAAAAAAAAAAAAAAAAAAAAAAAAAAAAAAAAAAAAAAAAAAAAAAAAAAAAAAAAAAAAAAAAAAAAAAAAAAAAAAAAAAAAAAAAAAAAAAAAAAAAAAAAAAAAAAAAAAAAAAAAAAAAAAAAAAAAAAAAAAAAAAAAAAAAAAAAAAAAAAAAAAAAAAAAAAAAAAAAAAAAAAAAAAAAAAAAAAAAAAAAAAAAAAAAAAAAAAAAAAAAAAAAAAAAAAAAAAAAAAAAAAAAAAAAAAAAAAAAAAAAAAAAAAAAAAAAAAAAAAAAAAAAAAAAAAAAAAAAAAAAAAAAAAAAAAAAAAAAAAAAAAAAAAAAAAAAAAAAAAAAAAAAAAAAAAAAAAAAAAAAAAAAAAAAAAAAAAAAAAAAAAAAAAAAAAAAAAAAAAAAAAAAAAAAAAAAAAAAAAAAAAAAAAAAAAAAAAAAAAAAAAAAAAAAAAAAAAAAAAAAAAAAAAAAAAAAAAAAAAAAAAAAAAAAAAAAAAAAAAAAAAAAAAAAAAAAAAAAAAAAAAAAAAAAAAAAAAAAAAAAAAAAAAAAAAAAAAAAAAAAAAAAAAAAAAAAAAAAAAAAAAAAAAAAAAAAAAAAAAAAAAAAAAAAAAAAAAAAAAAAAAAAAAAAAAAAAAAAAAAAAAAAAAAAAAAAAAAAAAAAAAAAAAAAAAAAAAAAAAAAAAAAAAAAAAAAAAAAAAAAAAAAAAAAAAAAAAAAAAAAAAAAAAAAAAAAAAAAAAAAAAAAAAAAAAAAAAAAAAAAAAAAAAAAAAAAAAAAAAAAAAAAAAAAAAAAAAAAAAAAAAAAAAAAAAAAAAAAAAAAAAAAAAAAAAAAAAAAAAAAAAAAAAAAAAAAAAAAAAAAAAAAAAAAAAAAAAAAAAAAAAAAAAAAAAAAAAAAAAAAAAAAAAAAAAAAAAAAAAAAAAAAAAAAAAAAAAAAAAAAAAAAAAAAAAAAAAAAAAAAAAAAAAAAAAAAAAAAAAAAAAAAAAAAAAAAAAAAAAAAAAAAAAAAAAAAAAAAAAAAAAAAAAAAAAAAAAAAAAAAAAAAAAAAAAAAAAAAAAAAAAAAAAAAAAAAAAAAAAAAAAAAAAAAAAAAAAAAAAAAAAAAAAAAAAAAAAAAAAAAAAAAAAAAAAAAAAAAAAAAAAAAAAAAAAAAAAAAAAAAAAAAAAAAAAAAAAAAAAAAAAAAAAAAAAAAAAAAJqZmZmZmbk/\",\"dtype\":\"float64\",\"shape\":[321]},\"y\":{\"__ndarray__\":\"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\",\"dtype\":\"float64\",\"shape\":[321]}},\"selected\":null,\"selection_policy\":null},\"id\":\"64450a77-327e-4062-84a3-004a1a83f42e\",\"type\":\"ColumnDataSource\"},{\"attributes\":{\"data_source\":{\"id\":\"64450a77-327e-4062-84a3-004a1a83f42e\",\"type\":\"ColumnDataSource\"},\"glyph\":{\"id\":\"254feedc-71f2-43a6-8596-d563ba86ccad\",\"type\":\"Circle\"},\"hover_glyph\":null,\"muted_glyph\":null,\"nonselection_glyph\":{\"id\":\"330365ce-004c-42ba-8ad0-79749feb998b\",\"type\":\"Circle\"},\"selection_glyph\":null,\"view\":{\"id\":\"05972145-5b98-4ab5-ac57-fa514b7cd494\",\"type\":\"CDSView\"}},\"id\":\"2c704109-8d87-4783-9a35-55c957df2bf9\",\"type\":\"GlyphRenderer\"},{\"attributes\":{\"dimension\":1,\"plot\":{\"id\":\"3cf1004f-e42e-4cf5-94fe-d90b71cbc478\",\"subtype\":\"Figure\",\"type\":\"Plot\"},\"ticker\":{\"id\":\"01d1539a-a218-410c-b5a0-6e7d50ef5499\",\"type\":\"BasicTicker\"}},\"id\":\"1ec2bfed-e321-481f-ac1b-ff65bab8a4fb\",\"type\":\"Grid\"},{\"attributes\":{\"axis_label\":\"\\u03c8 [m]\",\"axis_label_text_font_size\":{\"value\":\"18px\"},\"formatter\":{\"id\":\"81550b07-0d61-4ec4-adb8-303887a9b295\",\"type\":\"BasicTickFormatter\"},\"plot\":{\"id\":\"3cf1004f-e42e-4cf5-94fe-d90b71cbc478\",\"subtype\":\"Figure\",\"type\":\"Plot\"},\"ticker\":{\"id\":\"a0638e4d-92a6-49da-a0de-d793c5f225dd\",\"type\":\"BasicTicker\"}},\"id\":\"872a18cd-6145-411b-8354-b3b1ee2ff441\",\"type\":\"LinearAxis\"},{\"attributes\":{\"fill_color\":{\"value\":\"blue\"},\"line_color\":{\"value\":\"blue\"},\"x\":{\"field\":\"x\"},\"y\":{\"field\":\"y\"}},\"id\":\"254feedc-71f2-43a6-8596-d563ba86ccad\",\"type\":\"Circle\"},{\"attributes\":{},\"id\":\"66400b94-04a1-46c9-b86b-b144d3ad10ce\",\"type\":\"LinearScale\"},{\"attributes\":{},\"id\":\"a0638e4d-92a6-49da-a0de-d793c5f225dd\",\"type\":\"BasicTicker\"},{\"attributes\":{\"callback\":null},\"id\":\"01b9e28b-4469-4b4e-8379-97450f637dd4\",\"type\":\"DataRange1d\"},{\"attributes\":{},\"id\":\"81550b07-0d61-4ec4-adb8-303887a9b295\",\"type\":\"BasicTickFormatter\"},{\"attributes\":{\"source\":{\"id\":\"64450a77-327e-4062-84a3-004a1a83f42e\",\"type\":\"ColumnDataSource\"}},\"id\":\"05972145-5b98-4ab5-ac57-fa514b7cd494\",\"type\":\"CDSView\"},{\"attributes\":{\"align\":\"center\",\"plot\":null,\"text\":\"Initial condition for \\u03c8: constant\",\"text_font_size\":{\"value\":\"22px\"}},\"id\":\"cc53f0ec-e030-4772-811a-2eafa941b0e5\",\"type\":\"Title\"},{\"attributes\":{\"overlay\":{\"id\":\"26d8e69f-587d-4566-9e4d-b48b6b83c8c3\",\"type\":\"BoxAnnotation\"}},\"id\":\"861a62b3-2af5-4a92-a1b5-75c3c1795609\",\"type\":\"BoxZoomTool\"},{\"attributes\":{},\"id\":\"7b0e1ec1-ee61-4f09-afe9-c9cd035235cb\",\"type\":\"LinearScale\"},{\"attributes\":{\"active_drag\":\"auto\",\"active_inspect\":\"auto\",\"active_scroll\":\"auto\",\"active_tap\":\"auto\",\"tools\":[{\"id\":\"34bfde37-e0bf-4b55-a6c1-d2642fece6e8\",\"type\":\"HoverTool\"},{\"id\":\"3a260e21-b464-442a-b9aa-c15d19d5c632\",\"type\":\"PanTool\"},{\"id\":\"a159fce6-0037-4c12-b673-7177a3818725\",\"type\":\"WheelZoomTool\"},{\"id\":\"861a62b3-2af5-4a92-a1b5-75c3c1795609\",\"type\":\"BoxZoomTool\"},{\"id\":\"01da9aa6-d6a4-45e6-a161-3ddf4342e21a\",\"type\":\"ResetTool\"}]},\"id\":\"1410223d-840f-46e5-bc78-6d41ca9a1ffd\",\"type\":\"Toolbar\"},{\"attributes\":{\"axis_label\":\"\\u03b7 [m]\",\"axis_label_text_font_size\":{\"value\":\"18px\"},\"formatter\":{\"id\":\"861a1baf-6264-4a4a-b3e8-fbb8b2eea0bf\",\"type\":\"BasicTickFormatter\"},\"plot\":{\"id\":\"3cf1004f-e42e-4cf5-94fe-d90b71cbc478\",\"subtype\":\"Figure\",\"type\":\"Plot\"},\"ticker\":{\"id\":\"01d1539a-a218-410c-b5a0-6e7d50ef5499\",\"type\":\"BasicTicker\"}},\"id\":\"a7313afa-f0fe-4b12-a13e-67700e034e24\",\"type\":\"LinearAxis\"},{\"attributes\":{},\"id\":\"861a1baf-6264-4a4a-b3e8-fbb8b2eea0bf\",\"type\":\"BasicTickFormatter\"},{\"attributes\":{},\"id\":\"01d1539a-a218-410c-b5a0-6e7d50ef5499\",\"type\":\"BasicTicker\"},{\"attributes\":{\"callback\":null},\"id\":\"bee40dd3-cc61-4742-ab9f-f97cae0a1393\",\"type\":\"DataRange1d\"},{\"attributes\":{},\"id\":\"a159fce6-0037-4c12-b673-7177a3818725\",\"type\":\"WheelZoomTool\"},{\"attributes\":{},\"id\":\"3a260e21-b464-442a-b9aa-c15d19d5c632\",\"type\":\"PanTool\"}],\"root_ids\":[\"3cf1004f-e42e-4cf5-94fe-d90b71cbc478\"]},\"title\":\"Bokeh Application\",\"version\":\"0.12.15\"}};\n",
       "  var render_items = [{\"docid\":\"1dd3f8f2-e26f-4625-9a93-4504f18538af\",\"elementid\":\"8a008932-0e5e-49b7-9d5f-9bf8b39debb2\",\"modelid\":\"3cf1004f-e42e-4cf5-94fe-d90b71cbc478\"}];\n",
       "  root.Bokeh.embed.embed_items_notebook(docs_json, render_items);\n",
       "\n",
       "  }\n",
       "  if (root.Bokeh !== undefined) {\n",
       "    embed_document(root);\n",
       "  } else {\n",
       "    var attempts = 0;\n",
       "    var timer = setInterval(function(root) {\n",
       "      if (root.Bokeh !== undefined) {\n",
       "        embed_document(root);\n",
       "        clearInterval(timer);\n",
       "      }\n",
       "      attempts++;\n",
       "      if (attempts > 100) {\n",
       "        console.log(\"Bokeh: ERROR: Unable to run BokehJS code because BokehJS library is missing\")\n",
       "        clearInterval(timer);\n",
       "      }\n",
       "    }, 10, root)\n",
       "  }\n",
       "})(window);"
      ],
      "application/vnd.bokehjs_exec.v0+json": ""
     },
     "metadata": {
      "application/vnd.bokehjs_exec.v0+json": {
       "id": "3cf1004f-e42e-4cf5-94fe-d90b71cbc478"
      }
     },
     "output_type": "display_data"
    }
   ],
   "source": [
    "\n",
    "p1 = figure(plot_width=600, plot_height=600,tools=['pan,wheel_zoom,box_zoom,reset',hover],\n",
    "           title=\"Mouse over the dots\")\n",
    "p1.scatter(psiIC,eta, color=\"blue\")\n",
    "\n",
    "p1.xaxis.axis_label = '\\u03C8 [m]'\n",
    "p1.xaxis.axis_label_text_font_size = str(labelSize) + \"px\"\n",
    "\n",
    "p1.yaxis.axis_label = '\\u03b7 [m]'\n",
    "p1.yaxis.axis_label_text_font_size = str(labelSize) + \"px\"\n",
    "p1.title.text = 'Initial condition for \\u03C8: constant'\n",
    "p1.title.align = \"center\"\n",
    "p1.title.text_font_size = str(titleSize) + \"px\"\n",
    "\n",
    "\n",
    "show(p1)"
   ]
  },
  {
   "cell_type": "markdown",
   "metadata": {},
   "source": [
    "#### Linear interpolation of measuraments points"
   ]
  },
  {
   "cell_type": "code",
   "execution_count": 25,
   "metadata": {},
   "outputs": [],
   "source": [
    "\n",
    "for i in range(np.size(coordMeasPoint)-1,-1,-1):\n",
    "    etaInterp = []\n",
    "    if i==np.size(coordMeasPoint)-1:\n",
    "        etaInterp = eta[0:eta.tolist().index(coordMeasPoint[i-1])]\n",
    "        etap = [coordMeasPoint[i],coordMeasPoint[i-1]]\n",
    "        fp = [psiMeas[i],psiMeas[i-1]]\n",
    "        psiIC = np.append(psiIC, np.interp(etaInterp,etap,fp) )\n",
    "        #for j in range(0,np.size(etaInterp)):\n",
    "        #    psiIC = np.append(psiIC,psiMeas[i]+(coordMeasPoint[i]-etaInterp[j]))\n",
    "    elif i== 0:\n",
    "        etaInterp = eta[eta.tolist().index(coordMeasPoint[i]):np.size(eta)-1]\n",
    "        etap = [coordMeasPoint[i],0]\n",
    "        #fp = [psiMeas[i],data['psi'][0]]\n",
    "        fp = [psiMeas[i],-z[np.size(z)-1]]\n",
    "        psiIC = np.append(psiIC, np.interp(etaInterp,etap,fp) )\n",
    "    else:\n",
    "        etaInterp = eta[eta.tolist().index(coordMeasPoint[i-1]):eta.index(coordMeasPoint[i])]\n",
    "        etap = [coordMeasPoint[i],coordMeasPoint[i-1]]\n",
    "        fp = [psiMeas[i],psiMeas[i-1]]\n",
    "        psiIC = np.append(psiIC, np.interp(etaInterp,etap,fp) )\n",
    "\n",
    "psiIC = np.append(psiIC,data['psi'][0] )\n",
    "\n",
    " "
   ]
  },
  {
   "cell_type": "code",
   "execution_count": 26,
   "metadata": {},
   "outputs": [
    {
     "data": {
      "text/html": [
       "\n",
       "<div class=\"bk-root\">\n",
       "    <div class=\"bk-plotdiv\" id=\"8efdec3e-b3c6-4194-aec4-5af7c402b222\"></div>\n",
       "</div>"
      ]
     },
     "metadata": {},
     "output_type": "display_data"
    },
    {
     "data": {
      "application/javascript": [
       "(function(root) {\n",
       "  function embed_document(root) {\n",
       "    \n",
       "  var docs_json = {\"0952a00e-e0a4-43ed-89f7-10a549265c85\":{\"roots\":{\"references\":[{\"attributes\":{\"callback\":null,\"tooltips\":[[\"(x,y)\",\"($x, $y)\"]]},\"id\":\"d72a9dcc-a391-4b5c-b040-d46514e23f96\",\"type\":\"HoverTool\"},{\"attributes\":{},\"id\":\"a8d686b7-426c-4546-ac31-7d0ccdd46dd6\",\"type\":\"ResetTool\"},{\"attributes\":{},\"id\":\"74be94d6-a67e-4e83-b2c2-fbb3e01e96b1\",\"type\":\"WheelZoomTool\"},{\"attributes\":{\"align\":\"center\",\"plot\":null,\"text\":\"Initial condition for \\u03c8:\\n interpolated from measuraments\",\"text_font_size\":{\"value\":\"22px\"}},\"id\":\"d471aab3-769e-4e76-b329-0676c32134fc\",\"type\":\"Title\"},{\"attributes\":{},\"id\":\"aa30da71-c2c7-4e9e-aa29-881d5e984592\",\"type\":\"BasicTicker\"},{\"attributes\":{\"data_source\":{\"id\":\"804843c6-3975-4d22-849b-f97bf430dba4\",\"type\":\"ColumnDataSource\"},\"glyph\":{\"id\":\"dcac6358-f221-41d0-a69d-2debba214935\",\"type\":\"Circle\"},\"hover_glyph\":null,\"muted_glyph\":null,\"nonselection_glyph\":{\"id\":\"a868304c-5697-4055-b194-bb83f0deabaa\",\"type\":\"Circle\"},\"selection_glyph\":null,\"view\":{\"id\":\"894f5005-13b8-490b-a9c7-3c67dd64b54a\",\"type\":\"CDSView\"}},\"id\":\"e2df5dae-4c1f-4ea7-971a-34c5773990ec\",\"type\":\"GlyphRenderer\"},{\"attributes\":{\"plot\":{\"id\":\"871bb17f-589d-45a1-8caa-058d41733db6\",\"subtype\":\"Figure\",\"type\":\"Plot\"},\"ticker\":{\"id\":\"aa30da71-c2c7-4e9e-aa29-881d5e984592\",\"type\":\"BasicTicker\"}},\"id\":\"fb318f56-60d0-420a-a3b9-b7e6062f7d4e\",\"type\":\"Grid\"},{\"attributes\":{\"callback\":null},\"id\":\"6d065766-ebdf-47bf-84e2-d45a6e391ba5\",\"type\":\"DataRange1d\"},{\"attributes\":{},\"id\":\"814a6646-4e03-4e0e-9274-20f101a4b4b6\",\"type\":\"PanTool\"},{\"attributes\":{\"fill_alpha\":{\"value\":0.1},\"fill_color\":{\"value\":\"#1f77b4\"},\"line_alpha\":{\"value\":0.1},\"line_color\":{\"value\":\"#1f77b4\"},\"x\":{\"field\":\"x\"},\"y\":{\"field\":\"y\"}},\"id\":\"a868304c-5697-4055-b194-bb83f0deabaa\",\"type\":\"Circle\"},{\"attributes\":{\"fill_color\":{\"value\":\"blue\"},\"line_color\":{\"value\":\"blue\"},\"x\":{\"field\":\"x\"},\"y\":{\"field\":\"y\"}},\"id\":\"dcac6358-f221-41d0-a69d-2debba214935\",\"type\":\"Circle\"},{\"attributes\":{\"bottom_units\":\"screen\",\"fill_alpha\":{\"value\":0.5},\"fill_color\":{\"value\":\"lightgrey\"},\"left_units\":\"screen\",\"level\":\"overlay\",\"line_alpha\":{\"value\":1.0},\"line_color\":{\"value\":\"black\"},\"line_dash\":[4,4],\"line_width\":{\"value\":2},\"plot\":null,\"render_mode\":\"css\",\"right_units\":\"screen\",\"top_units\":\"screen\"},\"id\":\"81d7010a-76fc-4012-b565-ed639b939cab\",\"type\":\"BoxAnnotation\"},{\"attributes\":{\"dimension\":1,\"plot\":{\"id\":\"871bb17f-589d-45a1-8caa-058d41733db6\",\"subtype\":\"Figure\",\"type\":\"Plot\"},\"ticker\":{\"id\":\"2a48bef0-b16e-4883-b818-dc6b854044e9\",\"type\":\"BasicTicker\"}},\"id\":\"e1f651f5-aa50-4e8a-9c48-d8c07f3e83ed\",\"type\":\"Grid\"},{\"attributes\":{\"overlay\":{\"id\":\"81d7010a-76fc-4012-b565-ed639b939cab\",\"type\":\"BoxAnnotation\"}},\"id\":\"9fc9ce8e-48f4-417f-a3b3-39497e5f1b48\",\"type\":\"BoxZoomTool\"},{\"attributes\":{\"axis_label\":\"\\u03b7 [m]\",\"axis_label_text_font_size\":{\"value\":\"18px\"},\"formatter\":{\"id\":\"56ed3473-a2dc-404b-bd16-58e0d29a0ce9\",\"type\":\"BasicTickFormatter\"},\"plot\":{\"id\":\"871bb17f-589d-45a1-8caa-058d41733db6\",\"subtype\":\"Figure\",\"type\":\"Plot\"},\"ticker\":{\"id\":\"2a48bef0-b16e-4883-b818-dc6b854044e9\",\"type\":\"BasicTicker\"}},\"id\":\"1d9442b6-531c-49b6-91f5-4e2c146dc474\",\"type\":\"LinearAxis\"},{\"attributes\":{\"source\":{\"id\":\"804843c6-3975-4d22-849b-f97bf430dba4\",\"type\":\"ColumnDataSource\"}},\"id\":\"894f5005-13b8-490b-a9c7-3c67dd64b54a\",\"type\":\"CDSView\"},{\"attributes\":{},\"id\":\"6a497cb3-d3aa-4db2-a131-aaf117c4fa5e\",\"type\":\"LinearScale\"},{\"attributes\":{\"callback\":null},\"id\":\"070448e0-7e73-4547-b005-a2a51056d029\",\"type\":\"DataRange1d\"},{\"attributes\":{\"axis_label\":\"\\u03c8 [m]\",\"axis_label_text_font_size\":{\"value\":\"18px\"},\"formatter\":{\"id\":\"db6cc6f5-4258-41a2-9f96-c20877b3abd6\",\"type\":\"BasicTickFormatter\"},\"plot\":{\"id\":\"871bb17f-589d-45a1-8caa-058d41733db6\",\"subtype\":\"Figure\",\"type\":\"Plot\"},\"ticker\":{\"id\":\"aa30da71-c2c7-4e9e-aa29-881d5e984592\",\"type\":\"BasicTicker\"}},\"id\":\"b5dcdd4f-4214-48bb-a92f-2e12f3889819\",\"type\":\"LinearAxis\"},{\"attributes\":{\"below\":[{\"id\":\"b5dcdd4f-4214-48bb-a92f-2e12f3889819\",\"type\":\"LinearAxis\"}],\"left\":[{\"id\":\"1d9442b6-531c-49b6-91f5-4e2c146dc474\",\"type\":\"LinearAxis\"}],\"renderers\":[{\"id\":\"b5dcdd4f-4214-48bb-a92f-2e12f3889819\",\"type\":\"LinearAxis\"},{\"id\":\"fb318f56-60d0-420a-a3b9-b7e6062f7d4e\",\"type\":\"Grid\"},{\"id\":\"1d9442b6-531c-49b6-91f5-4e2c146dc474\",\"type\":\"LinearAxis\"},{\"id\":\"e1f651f5-aa50-4e8a-9c48-d8c07f3e83ed\",\"type\":\"Grid\"},{\"id\":\"81d7010a-76fc-4012-b565-ed639b939cab\",\"type\":\"BoxAnnotation\"},{\"id\":\"e2df5dae-4c1f-4ea7-971a-34c5773990ec\",\"type\":\"GlyphRenderer\"}],\"title\":{\"id\":\"d471aab3-769e-4e76-b329-0676c32134fc\",\"type\":\"Title\"},\"toolbar\":{\"id\":\"42548461-f520-435c-8ec4-1814fc7f0940\",\"type\":\"Toolbar\"},\"x_range\":{\"id\":\"6d065766-ebdf-47bf-84e2-d45a6e391ba5\",\"type\":\"DataRange1d\"},\"x_scale\":{\"id\":\"6a497cb3-d3aa-4db2-a131-aaf117c4fa5e\",\"type\":\"LinearScale\"},\"y_range\":{\"id\":\"070448e0-7e73-4547-b005-a2a51056d029\",\"type\":\"DataRange1d\"},\"y_scale\":{\"id\":\"13510c86-a2c6-4251-91e8-6c6be05f2423\",\"type\":\"LinearScale\"}},\"id\":\"871bb17f-589d-45a1-8caa-058d41733db6\",\"subtype\":\"Figure\",\"type\":\"Plot\"},{\"attributes\":{},\"id\":\"db6cc6f5-4258-41a2-9f96-c20877b3abd6\",\"type\":\"BasicTickFormatter\"},{\"attributes\":{\"callback\":null,\"column_names\":[\"x\",\"y\"],\"data\":{\"x\":{\"__ndarray__\":\"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\",\"dtype\":\"float64\",\"shape\":[640]},\"y\":{\"__ndarray__\":\"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\",\"dtype\":\"float64\",\"shape\":[640]}},\"selected\":null,\"selection_policy\":null},\"id\":\"804843c6-3975-4d22-849b-f97bf430dba4\",\"type\":\"ColumnDataSource\"},{\"attributes\":{},\"id\":\"56ed3473-a2dc-404b-bd16-58e0d29a0ce9\",\"type\":\"BasicTickFormatter\"},{\"attributes\":{\"active_drag\":\"auto\",\"active_inspect\":\"auto\",\"active_scroll\":\"auto\",\"active_tap\":\"auto\",\"tools\":[{\"id\":\"d72a9dcc-a391-4b5c-b040-d46514e23f96\",\"type\":\"HoverTool\"},{\"id\":\"814a6646-4e03-4e0e-9274-20f101a4b4b6\",\"type\":\"PanTool\"},{\"id\":\"74be94d6-a67e-4e83-b2c2-fbb3e01e96b1\",\"type\":\"WheelZoomTool\"},{\"id\":\"9fc9ce8e-48f4-417f-a3b3-39497e5f1b48\",\"type\":\"BoxZoomTool\"},{\"id\":\"a8d686b7-426c-4546-ac31-7d0ccdd46dd6\",\"type\":\"ResetTool\"}]},\"id\":\"42548461-f520-435c-8ec4-1814fc7f0940\",\"type\":\"Toolbar\"},{\"attributes\":{},\"id\":\"2a48bef0-b16e-4883-b818-dc6b854044e9\",\"type\":\"BasicTicker\"},{\"attributes\":{},\"id\":\"13510c86-a2c6-4251-91e8-6c6be05f2423\",\"type\":\"LinearScale\"}],\"root_ids\":[\"871bb17f-589d-45a1-8caa-058d41733db6\"]},\"title\":\"Bokeh Application\",\"version\":\"0.12.15\"}};\n",
       "  var render_items = [{\"docid\":\"0952a00e-e0a4-43ed-89f7-10a549265c85\",\"elementid\":\"8efdec3e-b3c6-4194-aec4-5af7c402b222\",\"modelid\":\"871bb17f-589d-45a1-8caa-058d41733db6\"}];\n",
       "  root.Bokeh.embed.embed_items_notebook(docs_json, render_items);\n",
       "\n",
       "  }\n",
       "  if (root.Bokeh !== undefined) {\n",
       "    embed_document(root);\n",
       "  } else {\n",
       "    var attempts = 0;\n",
       "    var timer = setInterval(function(root) {\n",
       "      if (root.Bokeh !== undefined) {\n",
       "        embed_document(root);\n",
       "        clearInterval(timer);\n",
       "      }\n",
       "      attempts++;\n",
       "      if (attempts > 100) {\n",
       "        console.log(\"Bokeh: ERROR: Unable to run BokehJS code because BokehJS library is missing\")\n",
       "        clearInterval(timer);\n",
       "      }\n",
       "    }, 10, root)\n",
       "  }\n",
       "})(window);"
      ],
      "application/vnd.bokehjs_exec.v0+json": ""
     },
     "metadata": {
      "application/vnd.bokehjs_exec.v0+json": {
       "id": "871bb17f-589d-45a1-8caa-058d41733db6"
      }
     },
     "output_type": "display_data"
    }
   ],
   "source": [
    "p1 = figure(plot_width=600, plot_height=600,tools=['pan,wheel_zoom,box_zoom,reset',hover],\n",
    "           title=\"Mouse over the dots\")\n",
    "p1.scatter(psiIC,eta, color=\"blue\")\n",
    "\n",
    "p1.xaxis.axis_label = '\\u03C8 [m]'\n",
    "p1.xaxis.axis_label_text_font_size = str(labelSize) + \"px\"\n",
    "\n",
    "p1.yaxis.axis_label = '\\u03b7 [m]'\n",
    "p1.yaxis.axis_label_text_font_size = str(labelSize) + \"px\"\n",
    "p1.title.text = 'Initial condition for \\u03C8:\\n interpolated from measuraments'\n",
    "p1.title.align = \"center\"\n",
    "p1.title.text_font_size = str(titleSize) + \"px\"\n",
    "\n",
    "\n",
    "show(p1)  "
   ]
  },
  {
   "cell_type": "markdown",
   "metadata": {},
   "source": [
    "## Set parameters\n",
    "This section assing to each control volume of the domain its SWRC parameters accordingly with its depth"
   ]
  },
  {
   "cell_type": "code",
   "execution_count": 21,
   "metadata": {},
   "outputs": [],
   "source": [
    "thetaS = []\n",
    "thetaR = []\n",
    "Ks = []\n",
    "par1SWRC = []\n",
    "par2SWRC = []\n",
    "par3SWRC = []\n",
    "par4SWRC = []\n",
    "et = []\n",
    "\n",
    "\n",
    "coordLayer = []\n",
    "tempThetaS = []\n",
    "tempThetaR = []\n",
    "tempKs = []\n",
    "tempPar1 = []\n",
    "tempPar2 = []\n",
    "tempPar3 = []\n",
    "tempPar4 = []\n",
    "tempEt = []\n",
    "\n",
    "for i in data.index:\n",
    "    if data['Type'][i] == 'L':\n",
    "        coordLayer.append(data['eta'][i])\n",
    "        tempThetaS.append(data['thetaS'][i])\n",
    "        tempThetaR.append(data['thetaR'][i])\n",
    "        tempKs.append(data['Ks'][i])\n",
    "        tempPar1.append(data['par1SWRC'][i])\n",
    "        tempPar2.append(data['par2SWRC'][i])\n",
    "        tempPar3.append(data['alphaSpecificStorage'][i])\n",
    "        tempPar4.append(data['betaSpecificStorage'][i])\n",
    "        tempEt.append(data['et'][i])"
   ]
  },
  {
   "cell_type": "code",
   "execution_count": 22,
   "metadata": {},
   "outputs": [],
   "source": [
    "\n",
    "for i in range(np.size(coordLayer)-1,0,-1):\n",
    "    for j in range(0,np.size(eta)):\n",
    "        if(eta[j]>coordLayer[i] and eta[j]<coordLayer[i-1] ):\n",
    "            thetaS.append(tempThetaS[i-1])\n",
    "            thetaR.append(tempThetaR[i-1])\n",
    "            Ks.append(tempKs[i-1])\n",
    "            par1SWRC.append(tempPar1[i-1])\n",
    "            par2SWRC.append(tempPar2[i-1])\n",
    "            par3SWRC.append(tempPar3[i-1])\n",
    "            par4SWRC.append(tempPar4[i-1])\n",
    "            et.append(tempEt[i-1])\n",
    "    \n",
    "## add et coeff for free water\n",
    "et = np.append(et,0)"
   ]
  },
  {
   "cell_type": "markdown",
   "metadata": {},
   "source": [
    "## Grid plot\n",
    "The section below allows to plot the distribution of SWRC parameters in the soil column. In the first plot control volumes centroids are shown, whilst in the second one their interfaces. Moreover, in both plots soil layer and measurament points are drawn.\n",
    "\n",
    "These plots are drawn with bokeh library https://bokeh.pydata.org/en/latest/, and they are interactive."
   ]
  },
  {
   "cell_type": "code",
   "execution_count": 23,
   "metadata": {
    "scrolled": false
   },
   "outputs": [
    {
     "data": {
      "text/html": [
       "\n",
       "<div class=\"bk-root\">\n",
       "    <div class=\"bk-plotdiv\" id=\"26408a58-2a47-4eea-957d-6c361f0a1314\"></div>\n",
       "</div>"
      ]
     },
     "metadata": {},
     "output_type": "display_data"
    },
    {
     "data": {
      "application/javascript": [
       "(function(root) {\n",
       "  function embed_document(root) {\n",
       "    \n",
       "  var docs_json = {\"dc476cbd-1828-4c27-a869-7fc619d7c550\":{\"roots\":{\"references\":[{\"attributes\":{\"child\":{\"id\":\"4de1fd95-bce4-424c-a838-edf6f85dc01b\",\"subtype\":\"Figure\",\"type\":\"Plot\"},\"title\":\"et\"},\"id\":\"06e29452-c3b9-459e-8d5c-ee742c572453\",\"type\":\"Panel\"},{\"attributes\":{\"dimension\":1,\"plot\":{\"id\":\"7ac36582-907b-4945-8189-cfd3fabe9a5f\",\"subtype\":\"Figure\",\"type\":\"Plot\"},\"ticker\":{\"id\":\"65d94715-967d-492e-9e8e-013ddef1b02c\",\"type\":\"BasicTicker\"}},\"id\":\"51e68e91-fecb-485f-800c-64b2df22981b\",\"type\":\"Grid\"},{\"attributes\":{\"child\":{\"id\":\"7ac36582-907b-4945-8189-cfd3fabe9a5f\",\"subtype\":\"Figure\",\"type\":\"Plot\"},\"title\":\"Theta_s\"},\"id\":\"9f15290a-9aeb-4ac3-b731-eb9f1925e886\",\"type\":\"Panel\"},{\"attributes\":{\"fill_color\":{\"value\":\"blue\"},\"line_color\":{\"value\":\"blue\"},\"line_width\":{\"value\":1.5},\"x\":{\"field\":\"x\"},\"y\":{\"field\":\"y\"}},\"id\":\"12f56ad2-5b49-494f-a651-e5ecab36fa9a\",\"type\":\"Circle\"},{\"attributes\":{\"bottom_units\":\"screen\",\"fill_alpha\":{\"value\":0.5},\"fill_color\":{\"value\":\"lightgrey\"},\"left_units\":\"screen\",\"level\":\"overlay\",\"line_alpha\":{\"value\":1.0},\"line_color\":{\"value\":\"black\"},\"line_dash\":[4,4],\"line_width\":{\"value\":2},\"plot\":null,\"render_mode\":\"css\",\"right_units\":\"screen\",\"top_units\":\"screen\"},\"id\":\"363ffb79-15e3-41b1-ac67-b5623f68b532\",\"type\":\"BoxAnnotation\"},{\"attributes\":{},\"id\":\"630eae8e-49aa-448b-b277-aca5f64d5fcd\",\"type\":\"PanTool\"},{\"attributes\":{\"callback\":null,\"tabs\":[{\"id\":\"9f15290a-9aeb-4ac3-b731-eb9f1925e886\",\"type\":\"Panel\"},{\"id\":\"e5b52c20-32b4-4052-a9a0-8c89b293cbba\",\"type\":\"Panel\"},{\"id\":\"a77063c9-8144-4ab9-9876-1b929dd004cd\",\"type\":\"Panel\"},{\"id\":\"81e7d1fe-6ad5-416b-9f60-9144a2b1e9aa\",\"type\":\"Panel\"},{\"id\":\"c05db131-492c-41aa-a995-c9e563e605a9\",\"type\":\"Panel\"},{\"id\":\"d4fe5e0c-49cc-46b3-8db3-b77a17bd8a58\",\"type\":\"Panel\"},{\"id\":\"14707ffc-c07e-4c5e-b8ce-06f9bd55b8b3\",\"type\":\"Panel\"},{\"id\":\"06e29452-c3b9-459e-8d5c-ee742c572453\",\"type\":\"Panel\"}]},\"id\":\"2010b961-9948-4d02-8678-b8e2ee1e706a\",\"type\":\"Tabs\"},{\"attributes\":{},\"id\":\"3c25d363-5fd2-47f7-9584-fb2c741bd863\",\"type\":\"WheelZoomTool\"},{\"attributes\":{\"overlay\":{\"id\":\"363ffb79-15e3-41b1-ac67-b5623f68b532\",\"type\":\"BoxAnnotation\"}},\"id\":\"fa6478ec-60ea-402e-a14c-3d2104bb41c9\",\"type\":\"BoxZoomTool\"},{\"attributes\":{},\"id\":\"d0b0617e-74a7-47d8-a49d-125873f40ad8\",\"type\":\"ResetTool\"},{\"attributes\":{\"fill_alpha\":{\"value\":0.1},\"fill_color\":{\"value\":\"#1f77b4\"},\"line_alpha\":{\"value\":0.1},\"line_color\":{\"value\":\"#1f77b4\"},\"line_width\":{\"value\":1.5},\"x\":{\"field\":\"x\"},\"y\":{\"field\":\"y\"}},\"id\":\"6f3a9960-eb29-4676-b82c-ae7e1ea6dde5\",\"type\":\"Circle\"},{\"attributes\":{\"data_source\":{\"id\":\"bb71fea0-103b-4db1-a1ef-df8c949a7a35\",\"type\":\"ColumnDataSource\"},\"glyph\":{\"id\":\"12f56ad2-5b49-494f-a651-e5ecab36fa9a\",\"type\":\"Circle\"},\"hover_glyph\":null,\"muted_glyph\":null,\"nonselection_glyph\":{\"id\":\"6f3a9960-eb29-4676-b82c-ae7e1ea6dde5\",\"type\":\"Circle\"},\"selection_glyph\":null,\"view\":{\"id\":\"fc12697b-36ee-4fd5-840f-b9538266e08f\",\"type\":\"CDSView\"}},\"id\":\"34e4bd34-7530-4ad4-9f38-ed03a7350551\",\"type\":\"GlyphRenderer\"},{\"attributes\":{\"source\":{\"id\":\"bb71fea0-103b-4db1-a1ef-df8c949a7a35\",\"type\":\"ColumnDataSource\"}},\"id\":\"fc12697b-36ee-4fd5-840f-b9538266e08f\",\"type\":\"CDSView\"},{\"attributes\":{},\"id\":\"1bd7b087-fd45-4c8e-8bc8-f6ae35b9c4e5\",\"type\":\"BasicTickFormatter\"},{\"attributes\":{\"callback\":null},\"id\":\"344612f9-a8df-472c-8a12-9e0bb94f4cd3\",\"type\":\"DataRange1d\"},{\"attributes\":{\"align\":\"center\",\"plot\":null,\"text\":\"Residual water content\",\"text_font_size\":{\"value\":\"22px\"}},\"id\":\"21ea64bc-f059-4252-ac28-0aadfc23c24a\",\"type\":\"Title\"},{\"attributes\":{},\"id\":\"2ff9f238-a5aa-4ed9-b4fd-8e8f21e0ceec\",\"type\":\"BasicTickFormatter\"},{\"attributes\":{\"fill_color\":{\"value\":\"red\"},\"line_color\":{\"value\":\"red\"},\"line_width\":{\"value\":1.5},\"x\":{\"field\":\"x\"},\"y\":{\"field\":\"y\"}},\"id\":\"e6150212-42e6-4e6f-ada8-57cb37439d52\",\"type\":\"Circle\"},{\"attributes\":{\"callback\":null,\"column_names\":[\"x\",\"y\"],\"data\":{\"x\":[0.02,0.02,0.02,0.02,0.02,0.02,0.02,0.02,0.02,0.02,0.02,0.02,0.02,0.02,0.02,0.02,0.02,0.02,0.02,0.02,0.02,0.02,0.02,0.02,0.02,0.02,0.02,0.02,0.02,0.02,0.02,0.02,0.02,0.02,0.02,0.02,0.02,0.02,0.02,0.02,0.02,0.02,0.02,0.02,0.02,0.02,0.02,0.02,0.02,0.02,0.02,0.02,0.02,0.02,0.02,0.02,0.02,0.02,0.02,0.02,0.02,0.02,0.02,0.02,0.02,0.02,0.02,0.02,0.02,0.02,0.02,0.02,0.02,0.02,0.02,0.02,0.02,0.02,0.02,0.02,0.02,0.02,0.02,0.02,0.02,0.02,0.02,0.02,0.02,0.02,0.02,0.02,0.02,0.02,0.02,0.02,0.02,0.02,0.02,0.02,0.02,0.02,0.02,0.02,0.02,0.02,0.02,0.02,0.02,0.02,0.02,0.02,0.02,0.02,0.02,0.02,0.02,0.02,0.02,0.02,0.02,0.02,0.02,0.02,0.02,0.02,0.02,0.02,0.02,0.02,0.02,0.02,0.02,0.02,0.02,0.02,0.02,0.02,0.02,0.02,0.02,0.02,0.02,0.02,0.02,0.02,0.02,0.02,0.02,0.02,0.02,0.02,0.02,0.02,0.02,0.02,0.02,0.02,0.02,0.02,0.02,0.02,0.02,0.02,0.02,0.02,0.02,0.02,0.02,0.02,0.02,0.02,0.02,0.02,0.02,0.02,0.02,0.02,0.02,0.02,0.02,0.02,0.02,0.02,0.02,0.02,0.02,0.02,0.02,0.02,0.02,0.02,0.02,0.02,0.02,0.02,0.02,0.02,0.02,0.02,0.02,0.02,0.02,0.02,0.02,0.02,0.02,0.02,0.02,0.02,0.02,0.02,0.02,0.02,0.02,0.02,0.02,0.02,0.02,0.02,0.02,0.02,0.02,0.02,0.02,0.02,0.02,0.02,0.02,0.02,0.02,0.02,0.02,0.02,0.02,0.02,0.02,0.02,0.02,0.02,0.02,0.02,0.02,0.02,0.02,0.02,0.02,0.02,0.02,0.02,0.02,0.02,0.02,0.02,0.02,0.02,0.02,0.02,0.02,0.02,0.02,0.02,0.02,0.02,0.02,0.02,0.02,0.02,0.02,0.02,0.02,0.02,0.02,0.02,0.02,0.02,0.02,0.02,0.02,0.02,0.02,0.02,0.02,0.02,0.02,0.02,0.02,0.02,0.02,0.02,0.02,0.02,0.02,0.02,0.02,0.02,0.02,0.02,0.02,0.02,0.02,0.02,0.02,0.02,0.02,0.02,0.02,0.02,0.02,0.02,0.02,0.02,0.02,0.02,0.02,0.02,0.02,0.02,0.02,0.02],\"y\":{\"__ndarray__\":\"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\",\"dtype\":\"float64\",\"shape\":[320]}},\"selected\":null,\"selection_policy\":null},\"id\":\"9c1af887-6416-416b-bc12-c3adf8cf776f\",\"type\":\"ColumnDataSource\"},{\"attributes\":{\"below\":[{\"id\":\"89917998-09fa-4513-8a28-a2cf93722c90\",\"type\":\"LinearAxis\"}],\"left\":[{\"id\":\"591d3f87-473f-453d-ad17-45c2c5c7cd9f\",\"type\":\"LinearAxis\"}],\"renderers\":[{\"id\":\"89917998-09fa-4513-8a28-a2cf93722c90\",\"type\":\"LinearAxis\"},{\"id\":\"72e622fe-43e3-49c1-8fea-e6e1c79b31b9\",\"type\":\"Grid\"},{\"id\":\"591d3f87-473f-453d-ad17-45c2c5c7cd9f\",\"type\":\"LinearAxis\"},{\"id\":\"cc01b8da-60df-40f0-94e2-c32c330ef0d0\",\"type\":\"Grid\"},{\"id\":\"c62be3ab-2dd2-4c4b-aabe-b268da12d1ab\",\"type\":\"BoxAnnotation\"},{\"id\":\"888c823c-d21c-47d5-8eba-d4b382f91c53\",\"type\":\"GlyphRenderer\"}],\"title\":{\"id\":\"21ea64bc-f059-4252-ac28-0aadfc23c24a\",\"type\":\"Title\"},\"toolbar\":{\"id\":\"89896d0b-a96e-48b2-851f-8fdb1158be5f\",\"type\":\"Toolbar\"},\"x_range\":{\"id\":\"344612f9-a8df-472c-8a12-9e0bb94f4cd3\",\"type\":\"DataRange1d\"},\"x_scale\":{\"id\":\"530020a6-8c27-418f-a670-a7569d07659b\",\"type\":\"LinearScale\"},\"y_range\":{\"id\":\"b7df97c6-cc27-4575-a0c3-04fa35cd8395\",\"type\":\"DataRange1d\"},\"y_scale\":{\"id\":\"c3b97f74-fb93-4894-a039-30833580787f\",\"type\":\"LinearScale\"}},\"id\":\"9dc1339a-5a71-4dce-b42e-0a4317d5da29\",\"subtype\":\"Figure\",\"type\":\"Plot\"},{\"attributes\":{\"active_drag\":\"auto\",\"active_inspect\":\"auto\",\"active_scroll\":\"auto\",\"active_tap\":\"auto\",\"tools\":[{\"id\":\"0dc3cba5-1184-428d-8324-4cadc521d615\",\"type\":\"HoverTool\"},{\"id\":\"56b540f2-9aab-4a95-b810-425068da46a6\",\"type\":\"PanTool\"},{\"id\":\"5571e31f-b053-4be1-88b4-f7cce9a8461b\",\"type\":\"WheelZoomTool\"},{\"id\":\"4df5d382-ce0d-4e64-8ccb-41c4209b55f9\",\"type\":\"BoxZoomTool\"},{\"id\":\"0fb6a867-6dcb-425a-8252-36d4ab55f8ce\",\"type\":\"ResetTool\"}]},\"id\":\"89896d0b-a96e-48b2-851f-8fdb1158be5f\",\"type\":\"Toolbar\"},{\"attributes\":{\"callback\":null},\"id\":\"b7df97c6-cc27-4575-a0c3-04fa35cd8395\",\"type\":\"DataRange1d\"},{\"attributes\":{},\"id\":\"530020a6-8c27-418f-a670-a7569d07659b\",\"type\":\"LinearScale\"},{\"attributes\":{},\"id\":\"c3b97f74-fb93-4894-a039-30833580787f\",\"type\":\"LinearScale\"},{\"attributes\":{\"plot\":{\"id\":\"9dc1339a-5a71-4dce-b42e-0a4317d5da29\",\"subtype\":\"Figure\",\"type\":\"Plot\"},\"ticker\":{\"id\":\"8f1eb8e8-1124-4bdd-935e-d1836887e719\",\"type\":\"BasicTicker\"}},\"id\":\"72e622fe-43e3-49c1-8fea-e6e1c79b31b9\",\"type\":\"Grid\"},{\"attributes\":{\"axis_label\":\"residual water content [-]\",\"axis_label_text_font_size\":{\"value\":\"18px\"},\"formatter\":{\"id\":\"d23de221-c174-484e-9233-5570523b89e3\",\"type\":\"BasicTickFormatter\"},\"plot\":{\"id\":\"9dc1339a-5a71-4dce-b42e-0a4317d5da29\",\"subtype\":\"Figure\",\"type\":\"Plot\"},\"ticker\":{\"id\":\"8f1eb8e8-1124-4bdd-935e-d1836887e719\",\"type\":\"BasicTicker\"}},\"id\":\"89917998-09fa-4513-8a28-a2cf93722c90\",\"type\":\"LinearAxis\"},{\"attributes\":{},\"id\":\"8f1eb8e8-1124-4bdd-935e-d1836887e719\",\"type\":\"BasicTicker\"},{\"attributes\":{\"axis_label\":\"\\u03b7 [m]\",\"axis_label_text_font_size\":{\"value\":\"18px\"},\"formatter\":{\"id\":\"a9fe4ab7-a18c-4e00-bdc3-ddb0588c2b85\",\"type\":\"BasicTickFormatter\"},\"plot\":{\"id\":\"9dc1339a-5a71-4dce-b42e-0a4317d5da29\",\"subtype\":\"Figure\",\"type\":\"Plot\"},\"ticker\":{\"id\":\"86c6d747-e53b-45cd-8431-07df264e9886\",\"type\":\"BasicTicker\"}},\"id\":\"591d3f87-473f-453d-ad17-45c2c5c7cd9f\",\"type\":\"LinearAxis\"},{\"attributes\":{},\"id\":\"86c6d747-e53b-45cd-8431-07df264e9886\",\"type\":\"BasicTicker\"},{\"attributes\":{\"dimension\":1,\"plot\":{\"id\":\"9dc1339a-5a71-4dce-b42e-0a4317d5da29\",\"subtype\":\"Figure\",\"type\":\"Plot\"},\"ticker\":{\"id\":\"86c6d747-e53b-45cd-8431-07df264e9886\",\"type\":\"BasicTicker\"}},\"id\":\"cc01b8da-60df-40f0-94e2-c32c330ef0d0\",\"type\":\"Grid\"},{\"attributes\":{\"child\":{\"id\":\"9dc1339a-5a71-4dce-b42e-0a4317d5da29\",\"subtype\":\"Figure\",\"type\":\"Plot\"},\"title\":\"Theta_r\"},\"id\":\"e5b52c20-32b4-4052-a9a0-8c89b293cbba\",\"type\":\"Panel\"},{\"attributes\":{\"bottom_units\":\"screen\",\"fill_alpha\":{\"value\":0.5},\"fill_color\":{\"value\":\"lightgrey\"},\"left_units\":\"screen\",\"level\":\"overlay\",\"line_alpha\":{\"value\":1.0},\"line_color\":{\"value\":\"black\"},\"line_dash\":[4,4],\"line_width\":{\"value\":2},\"plot\":null,\"render_mode\":\"css\",\"right_units\":\"screen\",\"top_units\":\"screen\"},\"id\":\"c62be3ab-2dd2-4c4b-aabe-b268da12d1ab\",\"type\":\"BoxAnnotation\"},{\"attributes\":{},\"id\":\"56b540f2-9aab-4a95-b810-425068da46a6\",\"type\":\"PanTool\"},{\"attributes\":{},\"id\":\"5571e31f-b053-4be1-88b4-f7cce9a8461b\",\"type\":\"WheelZoomTool\"},{\"attributes\":{\"overlay\":{\"id\":\"c62be3ab-2dd2-4c4b-aabe-b268da12d1ab\",\"type\":\"BoxAnnotation\"}},\"id\":\"4df5d382-ce0d-4e64-8ccb-41c4209b55f9\",\"type\":\"BoxZoomTool\"},{\"attributes\":{},\"id\":\"0fb6a867-6dcb-425a-8252-36d4ab55f8ce\",\"type\":\"ResetTool\"},{\"attributes\":{\"fill_alpha\":{\"value\":0.1},\"fill_color\":{\"value\":\"#1f77b4\"},\"line_alpha\":{\"value\":0.1},\"line_color\":{\"value\":\"#1f77b4\"},\"line_width\":{\"value\":1.5},\"x\":{\"field\":\"x\"},\"y\":{\"field\":\"y\"}},\"id\":\"3d3d477d-e472-493c-9534-972cebd2f232\",\"type\":\"Circle\"},{\"attributes\":{\"data_source\":{\"id\":\"9c1af887-6416-416b-bc12-c3adf8cf776f\",\"type\":\"ColumnDataSource\"},\"glyph\":{\"id\":\"e6150212-42e6-4e6f-ada8-57cb37439d52\",\"type\":\"Circle\"},\"hover_glyph\":null,\"muted_glyph\":null,\"nonselection_glyph\":{\"id\":\"3d3d477d-e472-493c-9534-972cebd2f232\",\"type\":\"Circle\"},\"selection_glyph\":null,\"view\":{\"id\":\"314f3830-3336-4463-ae63-056c9f95aedb\",\"type\":\"CDSView\"}},\"id\":\"888c823c-d21c-47d5-8eba-d4b382f91c53\",\"type\":\"GlyphRenderer\"},{\"attributes\":{\"source\":{\"id\":\"9c1af887-6416-416b-bc12-c3adf8cf776f\",\"type\":\"ColumnDataSource\"}},\"id\":\"314f3830-3336-4463-ae63-056c9f95aedb\",\"type\":\"CDSView\"},{\"attributes\":{},\"id\":\"d23de221-c174-484e-9233-5570523b89e3\",\"type\":\"BasicTickFormatter\"},{\"attributes\":{\"callback\":null},\"id\":\"e6aaca2f-9263-4d77-bc73-8af26b4164de\",\"type\":\"DataRange1d\"},{\"attributes\":{\"align\":\"center\",\"plot\":null,\"text\":\"Saturated hydraulic conductivity\",\"text_font_size\":{\"value\":\"22px\"}},\"id\":\"e7437418-2dcb-46d4-a248-2fe71d184ce2\",\"type\":\"Title\"},{\"attributes\":{},\"id\":\"a9fe4ab7-a18c-4e00-bdc3-ddb0588c2b85\",\"type\":\"BasicTickFormatter\"},{\"attributes\":{\"fill_color\":{\"value\":\"red\"},\"line_color\":{\"value\":\"red\"},\"line_width\":{\"value\":1.5},\"x\":{\"field\":\"x\"},\"y\":{\"field\":\"y\"}},\"id\":\"5ed6031a-6161-4684-a2de-352b198490d0\",\"type\":\"Circle\"},{\"attributes\":{\"callback\":null,\"column_names\":[\"x\",\"y\"],\"data\":{\"x\":[0.0036969999999999998,0.0036969999999999998,0.0036969999999999998,0.0036969999999999998,0.0036969999999999998,0.0036969999999999998,0.0036969999999999998,0.0036969999999999998,0.0036969999999999998,0.0036969999999999998,0.0036969999999999998,0.0036969999999999998,0.0036969999999999998,0.0036969999999999998,0.0036969999999999998,0.0036969999999999998,0.0036969999999999998,0.0036969999999999998,0.0036969999999999998,0.0036969999999999998,0.0036969999999999998,0.0036969999999999998,0.0036969999999999998,0.0036969999999999998,0.0036969999999999998,0.0036969999999999998,0.0036969999999999998,0.0036969999999999998,0.0036969999999999998,0.0036969999999999998,0.0036969999999999998,0.0036969999999999998,0.0036969999999999998,0.0036969999999999998,0.0036969999999999998,0.0036969999999999998,0.0036969999999999998,0.0036969999999999998,0.0036969999999999998,0.0036969999999999998,0.0036969999999999998,0.0036969999999999998,0.0036969999999999998,0.0036969999999999998,0.0036969999999999998,0.0036969999999999998,0.0036969999999999998,0.0036969999999999998,0.0036969999999999998,0.0036969999999999998,0.0036969999999999998,0.0036969999999999998,0.0036969999999999998,0.0036969999999999998,0.0036969999999999998,0.0036969999999999998,0.0036969999999999998,0.0036969999999999998,0.0036969999999999998,0.0036969999999999998,0.0036969999999999998,0.0036969999999999998,0.0036969999999999998,0.0036969999999999998,0.0036969999999999998,0.0036969999999999998,0.0036969999999999998,0.0036969999999999998,0.0036969999999999998,0.0036969999999999998,0.0036969999999999998,0.0036969999999999998,0.0036969999999999998,0.0036969999999999998,0.0036969999999999998,0.0036969999999999998,0.0036969999999999998,0.0036969999999999998,0.0036969999999999998,0.0036969999999999998,0.0036969999999999998,0.0036969999999999998,0.0036969999999999998,0.0036969999999999998,0.0036969999999999998,0.0036969999999999998,0.0036969999999999998,0.0036969999999999998,0.0036969999999999998,0.0036969999999999998,0.0036969999999999998,0.0036969999999999998,0.0036969999999999998,0.0036969999999999998,0.0036969999999999998,0.0036969999999999998,0.0036969999999999998,0.0036969999999999998,0.0036969999999999998,0.0036969999999999998,0.0036969999999999998,0.0036969999999999998,0.0036969999999999998,0.0036969999999999998,0.0036969999999999998,0.0036969999999999998,0.0036969999999999998,0.0036969999999999998,0.0036969999999999998,0.0036969999999999998,0.0036969999999999998,0.0036969999999999998,0.0036969999999999998,0.0036969999999999998,0.0036969999999999998,0.0036969999999999998,0.0036969999999999998,0.0036969999999999998,0.0036969999999999998,0.0036969999999999998,0.0036969999999999998,0.0036969999999999998,0.0036969999999999998,0.0036969999999999998,0.0036969999999999998,0.0036969999999999998,0.0036969999999999998,0.0036969999999999998,0.0036969999999999998,0.0036969999999999998,0.0036969999999999998,0.0036969999999999998,0.0036969999999999998,0.0036969999999999998,0.0036969999999999998,0.0036969999999999998,0.0036969999999999998,0.0036969999999999998,0.0036969999999999998,0.0036969999999999998,0.0036969999999999998,0.0036969999999999998,0.0036969999999999998,0.0036969999999999998,0.0036969999999999998,0.0036969999999999998,0.0036969999999999998,0.0036969999999999998,0.0036969999999999998,0.0036969999999999998,0.0036969999999999998,0.0036969999999999998,0.0036969999999999998,0.0036969999999999998,0.0036969999999999998,0.0036969999999999998,0.0036969999999999998,0.0036969999999999998,0.0036969999999999998,0.0036969999999999998,0.0036969999999999998,0.0036969999999999998,0.0036969999999999998,0.0036969999999999998,0.0036969999999999998,0.0036969999999999998,0.0036969999999999998,0.0036969999999999998,0.0036969999999999998,0.0036969999999999998,0.0036969999999999998,0.0036969999999999998,0.0036969999999999998,0.0036969999999999998,0.0036969999999999998,0.0036969999999999998,0.0036969999999999998,0.0036969999999999998,0.0036969999999999998,0.0036969999999999998,0.0036969999999999998,0.0036969999999999998,0.0036969999999999998,0.0036969999999999998,0.0036969999999999998,0.0036969999999999998,0.0036969999999999998,0.0036969999999999998,0.0036969999999999998,0.0036969999999999998,0.0036969999999999998,0.0036969999999999998,0.0036969999999999998,0.0036969999999999998,0.0036969999999999998,0.0036969999999999998,0.0036969999999999998,0.0036969999999999998,0.0036969999999999998,0.0036969999999999998,0.0036969999999999998,0.0036969999999999998,0.0036969999999999998,0.0036969999999999998,0.0036969999999999998,0.0036969999999999998,0.0036969999999999998,0.0036969999999999998,0.0036969999999999998,0.0036969999999999998,0.0036969999999999998,0.0036969999999999998,0.0036969999999999998,0.0036969999999999998,0.0036969999999999998,0.0036969999999999998,0.0036969999999999998,0.0036969999999999998,0.0036969999999999998,0.0036969999999999998,0.0036969999999999998,0.0036969999999999998,0.0036969999999999998,0.0036969999999999998,0.0036969999999999998,0.0036969999999999998,0.0036969999999999998,0.0036969999999999998,0.0036969999999999998,0.0036969999999999998,0.0036969999999999998,0.0036969999999999998,0.0036969999999999998,0.0036969999999999998,0.0036969999999999998,0.0036969999999999998,0.0036969999999999998,0.0036969999999999998,0.0036969999999999998,0.0036969999999999998,0.0036969999999999998,0.0036969999999999998,0.0036969999999999998,0.0036969999999999998,0.0036969999999999998,0.0036969999999999998,0.0036969999999999998,0.0036969999999999998,0.0036969999999999998,0.0036969999999999998,0.0036969999999999998,0.0036969999999999998,0.0036969999999999998,0.0036969999999999998,0.0036969999999999998,0.0036969999999999998,0.0036969999999999998,0.0036969999999999998,0.0036969999999999998,0.0036969999999999998,0.0036969999999999998,0.0036969999999999998,0.0036969999999999998,0.0036969999999999998,0.0036969999999999998,0.0036969999999999998,0.0036969999999999998,0.0036969999999999998,0.0036969999999999998,0.0036969999999999998,0.0036969999999999998,0.0036969999999999998,0.0036969999999999998,0.0036969999999999998,0.0036969999999999998,0.0036969999999999998,0.0036969999999999998,0.0036969999999999998,0.0036969999999999998,0.0036969999999999998,0.0036969999999999998,0.0036969999999999998,0.0036969999999999998,0.0036969999999999998,0.0036969999999999998,0.0036969999999999998,0.0036969999999999998,0.0036969999999999998,0.0036969999999999998,0.0036969999999999998,0.0036969999999999998,0.0036969999999999998,0.0036969999999999998,0.0036969999999999998,0.0036969999999999998,0.0036969999999999998,0.0036969999999999998,0.0036969999999999998,0.0036969999999999998,0.0036969999999999998,0.0036969999999999998,0.0036969999999999998,0.0036969999999999998,0.0036969999999999998,0.0036969999999999998,0.0036969999999999998,0.0036969999999999998,0.0036969999999999998,0.0036969999999999998,0.0036969999999999998,0.0036969999999999998,0.0036969999999999998,0.0036969999999999998,0.0036969999999999998,0.0036969999999999998,0.0036969999999999998,0.0036969999999999998,0.0036969999999999998,0.0036969999999999998,0.0036969999999999998],\"y\":{\"__ndarray__\":\"MzMzMzPz/7+ZmZmZmdn/vwAAAAAAwP+/ZmZmZmam/7/NzMzMzIz/vzMzMzMzc/+/mZmZmZlZ/78AAAAAAED/v2ZmZmZmJv+/zczMzMwM/78zMzMzM/P+v5mZmZmZ2f6/AAAAAADA/r9mZmZmZqb+v83MzMzMjP6/MzMzMzNz/r+ZmZmZmVn+vwAAAAAAQP6/ZmZmZmYm/r/NzMzMzAz+vzMzMzMz8/2/mpmZmZnZ/b8AAAAAAMD9v2ZmZmZmpv2/zczMzMyM/b8zMzMzM3P9v5qZmZmZWf2/AAAAAABA/b9mZmZmZib9v83MzMzMDP2/MzMzMzPz/L+amZmZmdn8vwAAAAAAwPy/ZmZmZmam/L/NzMzMzIz8vzMzMzMzc/y/mpmZmZlZ/L8AAAAAAED8v2ZmZmZmJvy/zczMzMwM/L8zMzMzM/P7v5qZmZmZ2fu/AAAAAADA+79mZmZmZqb7v83MzMzMjPu/MzMzMzNz+7+amZmZmVn7vwAAAAAAQPu/ZmZmZmYm+7/NzMzMzAz7vzMzMzMz8/q/mpmZmZnZ+r8AAAAAAMD6v2ZmZmZmpvq/zczMzMyM+r8zMzMzM3P6v5qZmZmZWfq/AAAAAABA+r9mZmZmZib6v83MzMzMDPq/MzMzMzPz+b+amZmZmdn5vwAAAAAAwPm/ZmZmZmam+b/NzMzMzIz5vzMzMzMzc/m/mpmZmZlZ+b8AAAAAAED5v2ZmZmZmJvm/zczMzMwM+b8zMzMzM/P4v5qZmZmZ2fi/AAAAAADA+L9mZmZmZqb4v83MzMzMjPi/MzMzMzNz+L+amZmZmVn4vwAAAAAAQPi/ZmZmZmYm+L/NzMzMzAz4vzMzMzMz8/e/mpmZmZnZ978AAAAAAMD3v2ZmZmZmpve/zczMzMyM978zMzMzM3P3v5qZmZmZWfe/AAAAAABA979mZmZmZib3v83MzMzMDPe/MzMzMzPz9r+amZmZmdn2vwAAAAAAwPa/ZmZmZmam9r/NzMzMzIz2vzMzMzMzc/a/mpmZmZlZ9r8AAAAAAED2v2ZmZmZmJva/zczMzMwM9r8zMzMzM/P1v5qZmZmZ2fW/AAAAAADA9b9mZmZmZqb1v83MzMzMjPW/MzMzMzNz9b+amZmZmVn1vwAAAAAAQPW/ZmZmZmYm9b/NzMzMzAz1vzQzMzMz8/S/mpmZmZnZ9L8AAAAAAMD0v2ZmZmZmpvS/zczMzMyM9L80MzMzM3P0v5qZmZmZWfS/AAAAAABA9L9mZmZmZib0v83MzMzMDPS/NDMzMzPz87+amZmZmdnzvwAAAAAAwPO/ZmZmZmam87/NzMzMzIzzvzQzMzMzc/O/mpmZmZlZ878AAAAAAEDzv2ZmZmZmJvO/zczMzMwM8780MzMzM/Pyv5qZmZmZ2fK/AAAAAADA8r9mZmZmZqbyv83MzMzMjPK/NDMzMzNz8r+amZmZmVnyvwAAAAAAQPK/ZmZmZmYm8r/NzMzMzAzyvzQzMzMz8/G/mpmZmZnZ8b8AAAAAAMDxv2ZmZmZmpvG/zczMzMyM8b80MzMzM3Pxv5qZmZmZWfG/AAAAAABA8b9mZmZmZibxv83MzMzMDPG/NDMzMzPz8L+amZmZmdnwvwAAAAAAwPC/ZmZmZmam8L/NzMzMzIzwvzQzMzMzc/C/mpmZmZlZ8L8AAAAAAEDwv2ZmZmZmJvC/zczMzMwM8L9nZmZmZubvvzQzMzMzs++/AAAAAACA77/OzMzMzEzvv5qZmZmZGe+/ZmZmZmbm7r80MzMzM7PuvwAAAAAAgO6/zszMzMxM7r+amZmZmRnuv2ZmZmZm5u2/NDMzMzOz7b8AAAAAAIDtv87MzMzMTO2/mpmZmZkZ7b9mZmZmZubsvzQzMzMzs+y/AAAAAACA7L/OzMzMzEzsv5qZmZmZGey/ZmZmZmbm6780MzMzM7PrvwAAAAAAgOu/zszMzMxM67+amZmZmRnrv2ZmZmZm5uq/NDMzMzOz6r8AAAAAAIDqv87MzMzMTOq/mpmZmZkZ6r9mZmZmZubpvzQzMzMzs+m/AAAAAACA6b/OzMzMzEzpv5qZmZmZGem/ZmZmZmbm6L80MzMzM7PovwAAAAAAgOi/zszMzMxM6L+amZmZmRnov2ZmZmZm5ue/NDMzMzOz578AAAAAAIDnv87MzMzMTOe/mpmZmZkZ579mZmZmZubmvzQzMzMzs+a/AAAAAACA5r/OzMzMzEzmv5qZmZmZGea/ZmZmZmbm5b80MzMzM7PlvwAAAAAAgOW/zszMzMxM5b+amZmZmRnlv2hmZmZm5uS/NDMzMzOz5L8AAAAAAIDkv87MzMzMTOS/mpmZmZkZ5L9oZmZmZubjvzQzMzMzs+O/AAAAAACA47/OzMzMzEzjv5qZmZmZGeO/aGZmZmbm4r80MzMzM7PivwAAAAAAgOK/zszMzMxM4r+amZmZmRniv2hmZmZm5uG/NDMzMzOz4b8AAAAAAIDhv87MzMzMTOG/mpmZmZkZ4b9oZmZmZubgvzQzMzMzs+C/AAAAAACA4L/OzMzMzEzgv5qZmZmZGeC/0MzMzMzM379oZmZmZmbfvwAAAAAAAN+/nJmZmZmZ3r80MzMzMzPev9DMzMzMzN2/aGZmZmZm3b8AAAAAAADdv5yZmZmZmdy/NDMzMzMz3L/QzMzMzMzbv2hmZmZmZtu/AAAAAAAA27+cmZmZmZnavzQzMzMzM9q/0MzMzMzM2b9oZmZmZmbZvwAAAAAAANm/nJmZmZmZ2L80MzMzMzPYv9DMzMzMzNe/aGZmZmZm178AAAAAAADXv5yZmZmZmda/NDMzMzMz1r/QzMzMzMzVv2hmZmZmZtW/AAAAAAAA1b+cmZmZmZnUvzQzMzMzM9S/0MzMzMzM079oZmZmZmbTvwAAAAAAANO/nJmZmZmZ0r80MzMzMzPSv9DMzMzMzNG/aGZmZmZm0b8AAAAAAADRv5yZmZmZmdC/NDMzMzMz0L+gmZmZmZnPv9DMzMzMzM6/AAAAAAAAzr84MzMzMzPNv2hmZmZmZsy/oJmZmZmZy7/QzMzMzMzKvwAAAAAAAMq/ODMzMzMzyb9oZmZmZmbIv6CZmZmZmce/0MzMzMzMxr8AAAAAAADGvzgzMzMzM8W/aGZmZmZmxL+gmZmZmZnDv9DMzMzMzMK/AAAAAAAAwr84MzMzMzPBv2hmZmZmZsC/QDMzMzMzv7+gmZmZmZm9vxAAAAAAALy/cGZmZmZmur/QzMzMzMy4v0AzMzMzM7e/oJmZmZmZtb8QAAAAAAC0v3BmZmZmZrK/0MzMzMzMsL+AZmZmZmauv0AzMzMzM6u/IAAAAAAAqL/gzMzMzMykv6CZmZmZmaG/AM3MzMzMnL+AZmZmZmaWv0AAAAAAAJC/gDMzMzMzg7+amZmZmZlpvw==\",\"dtype\":\"float64\",\"shape\":[320]}},\"selected\":null,\"selection_policy\":null},\"id\":\"725827b7-c7b8-437b-a050-6724de72e255\",\"type\":\"ColumnDataSource\"},{\"attributes\":{\"below\":[{\"id\":\"2322b56e-226c-4bea-9a2d-c652943e8e7d\",\"type\":\"LinearAxis\"}],\"left\":[{\"id\":\"b985fdd3-715b-4565-8361-950d9ab3b191\",\"type\":\"LinearAxis\"}],\"renderers\":[{\"id\":\"2322b56e-226c-4bea-9a2d-c652943e8e7d\",\"type\":\"LinearAxis\"},{\"id\":\"c826a3ea-c613-4953-9709-92bd3d1fdb4e\",\"type\":\"Grid\"},{\"id\":\"b985fdd3-715b-4565-8361-950d9ab3b191\",\"type\":\"LinearAxis\"},{\"id\":\"04dc5708-3e8a-4b84-af45-35a876d71bb0\",\"type\":\"Grid\"},{\"id\":\"7336dd69-beb7-4e94-8b25-8b393b3f304e\",\"type\":\"BoxAnnotation\"},{\"id\":\"92699c09-3820-4fca-b7be-81c8d79e5fea\",\"type\":\"GlyphRenderer\"}],\"title\":{\"id\":\"e7437418-2dcb-46d4-a248-2fe71d184ce2\",\"type\":\"Title\"},\"toolbar\":{\"id\":\"648b8f87-3b2b-4ffc-bb96-4a7058e471c7\",\"type\":\"Toolbar\"},\"x_range\":{\"id\":\"e6aaca2f-9263-4d77-bc73-8af26b4164de\",\"type\":\"DataRange1d\"},\"x_scale\":{\"id\":\"b5bd41b2-a29c-42b9-b796-96d8a8056e4d\",\"type\":\"LinearScale\"},\"y_range\":{\"id\":\"0304c181-d00c-4895-b118-0adc79907577\",\"type\":\"DataRange1d\"},\"y_scale\":{\"id\":\"098f3a08-cd82-4e0b-89e2-d3776759f3c2\",\"type\":\"LinearScale\"}},\"id\":\"dd88bdc6-296f-4551-b36d-d6450237541e\",\"subtype\":\"Figure\",\"type\":\"Plot\"},{\"attributes\":{\"active_drag\":\"auto\",\"active_inspect\":\"auto\",\"active_scroll\":\"auto\",\"active_tap\":\"auto\",\"tools\":[{\"id\":\"0dc3cba5-1184-428d-8324-4cadc521d615\",\"type\":\"HoverTool\"},{\"id\":\"41eff23a-b97f-4713-b2e6-25fd02ec3d79\",\"type\":\"PanTool\"},{\"id\":\"a93daa2a-6a7a-4d90-930c-d5890a5f80b1\",\"type\":\"WheelZoomTool\"},{\"id\":\"322d770e-fdad-464d-9d24-a2fa1d7063eb\",\"type\":\"BoxZoomTool\"},{\"id\":\"7f32b0a4-1384-451b-b474-50cca729122d\",\"type\":\"ResetTool\"}]},\"id\":\"648b8f87-3b2b-4ffc-bb96-4a7058e471c7\",\"type\":\"Toolbar\"},{\"attributes\":{\"callback\":null},\"id\":\"0304c181-d00c-4895-b118-0adc79907577\",\"type\":\"DataRange1d\"},{\"attributes\":{},\"id\":\"b5bd41b2-a29c-42b9-b796-96d8a8056e4d\",\"type\":\"LinearScale\"},{\"attributes\":{},\"id\":\"098f3a08-cd82-4e0b-89e2-d3776759f3c2\",\"type\":\"LinearScale\"},{\"attributes\":{\"plot\":{\"id\":\"dd88bdc6-296f-4551-b36d-d6450237541e\",\"subtype\":\"Figure\",\"type\":\"Plot\"},\"ticker\":{\"id\":\"af802af0-44ec-45c6-9741-d9a807ca46ee\",\"type\":\"BasicTicker\"}},\"id\":\"c826a3ea-c613-4953-9709-92bd3d1fdb4e\",\"type\":\"Grid\"},{\"attributes\":{\"axis_label\":\"Ks [m/s]\",\"axis_label_text_font_size\":{\"value\":\"18px\"},\"formatter\":{\"id\":\"293b313b-db02-4c0c-966a-2815bb3904d9\",\"type\":\"BasicTickFormatter\"},\"plot\":{\"id\":\"dd88bdc6-296f-4551-b36d-d6450237541e\",\"subtype\":\"Figure\",\"type\":\"Plot\"},\"ticker\":{\"id\":\"af802af0-44ec-45c6-9741-d9a807ca46ee\",\"type\":\"BasicTicker\"}},\"id\":\"2322b56e-226c-4bea-9a2d-c652943e8e7d\",\"type\":\"LinearAxis\"},{\"attributes\":{},\"id\":\"af802af0-44ec-45c6-9741-d9a807ca46ee\",\"type\":\"BasicTicker\"},{\"attributes\":{\"axis_label\":\"\\u03b7 [m]\",\"axis_label_text_font_size\":{\"value\":\"18px\"},\"formatter\":{\"id\":\"8a7c74a7-c22c-46f0-873b-786c5ce0ae3a\",\"type\":\"BasicTickFormatter\"},\"plot\":{\"id\":\"dd88bdc6-296f-4551-b36d-d6450237541e\",\"subtype\":\"Figure\",\"type\":\"Plot\"},\"ticker\":{\"id\":\"dcb10e67-1606-4580-bca4-21e7e8f455e1\",\"type\":\"BasicTicker\"}},\"id\":\"b985fdd3-715b-4565-8361-950d9ab3b191\",\"type\":\"LinearAxis\"},{\"attributes\":{\"data_source\":{\"id\":\"b4af53e1-7fb0-4f7a-8445-632117c00413\",\"type\":\"ColumnDataSource\"},\"glyph\":{\"id\":\"4ceeb2f0-cea7-4c4b-b095-fab26354c72a\",\"type\":\"Circle\"},\"hover_glyph\":null,\"muted_glyph\":null,\"nonselection_glyph\":{\"id\":\"77716a8a-8166-4273-9a2a-34628876de8f\",\"type\":\"Circle\"},\"selection_glyph\":null,\"view\":{\"id\":\"5edd6389-855c-49a1-866a-9700aa81e384\",\"type\":\"CDSView\"}},\"id\":\"dbd70035-cf96-4944-8ce6-c5cd0cb9fa16\",\"type\":\"GlyphRenderer\"},{\"attributes\":{},\"id\":\"dcb10e67-1606-4580-bca4-21e7e8f455e1\",\"type\":\"BasicTicker\"},{\"attributes\":{\"dimension\":1,\"plot\":{\"id\":\"dd88bdc6-296f-4551-b36d-d6450237541e\",\"subtype\":\"Figure\",\"type\":\"Plot\"},\"ticker\":{\"id\":\"dcb10e67-1606-4580-bca4-21e7e8f455e1\",\"type\":\"BasicTicker\"}},\"id\":\"04dc5708-3e8a-4b84-af45-35a876d71bb0\",\"type\":\"Grid\"},{\"attributes\":{\"bottom_units\":\"screen\",\"fill_alpha\":{\"value\":0.5},\"fill_color\":{\"value\":\"lightgrey\"},\"left_units\":\"screen\",\"level\":\"overlay\",\"line_alpha\":{\"value\":1.0},\"line_color\":{\"value\":\"black\"},\"line_dash\":[4,4],\"line_width\":{\"value\":2},\"plot\":null,\"render_mode\":\"css\",\"right_units\":\"screen\",\"top_units\":\"screen\"},\"id\":\"7336dd69-beb7-4e94-8b25-8b393b3f304e\",\"type\":\"BoxAnnotation\"},{\"attributes\":{},\"id\":\"41eff23a-b97f-4713-b2e6-25fd02ec3d79\",\"type\":\"PanTool\"},{\"attributes\":{},\"id\":\"8a7c74a7-c22c-46f0-873b-786c5ce0ae3a\",\"type\":\"BasicTickFormatter\"},{\"attributes\":{},\"id\":\"1b55fbb4-4d9e-41fb-9b32-2d6655dd6551\",\"type\":\"BasicTickFormatter\"},{\"attributes\":{},\"id\":\"a93daa2a-6a7a-4d90-930c-d5890a5f80b1\",\"type\":\"WheelZoomTool\"},{\"attributes\":{\"overlay\":{\"id\":\"7336dd69-beb7-4e94-8b25-8b393b3f304e\",\"type\":\"BoxAnnotation\"}},\"id\":\"322d770e-fdad-464d-9d24-a2fa1d7063eb\",\"type\":\"BoxZoomTool\"},{\"attributes\":{},\"id\":\"7f32b0a4-1384-451b-b474-50cca729122d\",\"type\":\"ResetTool\"},{\"attributes\":{\"fill_alpha\":{\"value\":0.1},\"fill_color\":{\"value\":\"#1f77b4\"},\"line_alpha\":{\"value\":0.1},\"line_color\":{\"value\":\"#1f77b4\"},\"line_width\":{\"value\":1.5},\"x\":{\"field\":\"x\"},\"y\":{\"field\":\"y\"}},\"id\":\"7270fef8-45e3-42b5-bb3c-7bdbd5bce62a\",\"type\":\"Circle\"},{\"attributes\":{\"data_source\":{\"id\":\"725827b7-c7b8-437b-a050-6724de72e255\",\"type\":\"ColumnDataSource\"},\"glyph\":{\"id\":\"5ed6031a-6161-4684-a2de-352b198490d0\",\"type\":\"Circle\"},\"hover_glyph\":null,\"muted_glyph\":null,\"nonselection_glyph\":{\"id\":\"7270fef8-45e3-42b5-bb3c-7bdbd5bce62a\",\"type\":\"Circle\"},\"selection_glyph\":null,\"view\":{\"id\":\"4e3cb19b-3575-4ef6-a805-2359280df5e3\",\"type\":\"CDSView\"}},\"id\":\"92699c09-3820-4fca-b7be-81c8d79e5fea\",\"type\":\"GlyphRenderer\"},{\"attributes\":{\"source\":{\"id\":\"725827b7-c7b8-437b-a050-6724de72e255\",\"type\":\"ColumnDataSource\"}},\"id\":\"4e3cb19b-3575-4ef6-a805-2359280df5e3\",\"type\":\"CDSView\"},{\"attributes\":{},\"id\":\"293b313b-db02-4c0c-966a-2815bb3904d9\",\"type\":\"BasicTickFormatter\"},{\"attributes\":{},\"id\":\"8dfb5b80-17d1-4837-9d08-7f0e812661b2\",\"type\":\"BasicTicker\"},{\"attributes\":{\"align\":\"center\",\"plot\":null,\"text\":\"SWRC parameter 2\",\"text_font_size\":{\"value\":\"22px\"}},\"id\":\"d6c5f399-7487-4d8e-90b1-d20b407bb682\",\"type\":\"Title\"},{\"attributes\":{},\"id\":\"b275865e-d99a-4cf9-bc5a-3434d0324ecd\",\"type\":\"BasicTicker\"},{\"attributes\":{\"child\":{\"id\":\"dd88bdc6-296f-4551-b36d-d6450237541e\",\"subtype\":\"Figure\",\"type\":\"Plot\"},\"title\":\"Ks\"},\"id\":\"a77063c9-8144-4ab9-9876-1b929dd004cd\",\"type\":\"Panel\"},{\"attributes\":{\"child\":{\"id\":\"0ad8dcca-2ac9-40b4-b3ef-65baaa34db34\",\"subtype\":\"Figure\",\"type\":\"Plot\"},\"title\":\"\\u03b1\"},\"id\":\"d4fe5e0c-49cc-46b3-8db3-b77a17bd8a58\",\"type\":\"Panel\"},{\"attributes\":{\"dimension\":1,\"plot\":{\"id\":\"0ad8dcca-2ac9-40b4-b3ef-65baaa34db34\",\"subtype\":\"Figure\",\"type\":\"Plot\"},\"ticker\":{\"id\":\"b275865e-d99a-4cf9-bc5a-3434d0324ecd\",\"type\":\"BasicTicker\"}},\"id\":\"65abd4be-73ff-4847-9a26-4664ea924202\",\"type\":\"Grid\"},{\"attributes\":{\"fill_color\":{\"value\":\"red\"},\"line_color\":{\"value\":\"red\"},\"line_width\":{\"value\":1.5},\"x\":{\"field\":\"x\"},\"y\":{\"field\":\"y\"}},\"id\":\"ee474cd4-7a2d-4c80-9143-e55d945fd8ec\",\"type\":\"Circle\"},{\"attributes\":{\"below\":[{\"id\":\"fc91f983-90a5-4847-a51f-e2ae804dc2e6\",\"type\":\"LinearAxis\"}],\"left\":[{\"id\":\"92fd9095-ef6e-40e5-b6cb-014b11c489f0\",\"type\":\"LinearAxis\"}],\"renderers\":[{\"id\":\"fc91f983-90a5-4847-a51f-e2ae804dc2e6\",\"type\":\"LinearAxis\"},{\"id\":\"d55261cb-417a-468a-9c1e-4e5707002d6e\",\"type\":\"Grid\"},{\"id\":\"92fd9095-ef6e-40e5-b6cb-014b11c489f0\",\"type\":\"LinearAxis\"},{\"id\":\"117161f4-5fa3-4bf1-9198-e2b4f5a211c8\",\"type\":\"Grid\"},{\"id\":\"b1db27bb-003b-42bb-8cbc-d9bf23b06c4f\",\"type\":\"BoxAnnotation\"},{\"id\":\"81233199-6d8c-4eef-8cc7-93e0dbf3887e\",\"type\":\"GlyphRenderer\"}],\"title\":{\"id\":\"d6c5f399-7487-4d8e-90b1-d20b407bb682\",\"type\":\"Title\"},\"toolbar\":{\"id\":\"090abcbb-2c7b-4fc3-a819-aff7030f1509\",\"type\":\"Toolbar\"},\"x_range\":{\"id\":\"b22975e7-1173-4452-ad88-28d3e8746f53\",\"type\":\"DataRange1d\"},\"x_scale\":{\"id\":\"55682ec6-966a-4942-ac87-e16560e460f9\",\"type\":\"LinearScale\"},\"y_range\":{\"id\":\"4c321ffb-a428-4dc7-aabb-511c60032c67\",\"type\":\"DataRange1d\"},\"y_scale\":{\"id\":\"b17096be-642b-43eb-b990-7dfba7eb547b\",\"type\":\"LinearScale\"}},\"id\":\"47ba9ad8-a9c4-4e6d-9e72-ffa78fd68a5b\",\"subtype\":\"Figure\",\"type\":\"Plot\"},{\"attributes\":{\"fill_color\":{\"value\":\"red\"},\"line_color\":{\"value\":\"red\"},\"line_width\":{\"value\":1.5},\"x\":{\"field\":\"x\"},\"y\":{\"field\":\"y\"}},\"id\":\"8b878050-e69e-453e-b36d-d7438b146ee8\",\"type\":\"Circle\"},{\"attributes\":{\"callback\":null},\"id\":\"b22975e7-1173-4452-ad88-28d3e8746f53\",\"type\":\"DataRange1d\"},{\"attributes\":{\"bottom_units\":\"screen\",\"fill_alpha\":{\"value\":0.5},\"fill_color\":{\"value\":\"lightgrey\"},\"left_units\":\"screen\",\"level\":\"overlay\",\"line_alpha\":{\"value\":1.0},\"line_color\":{\"value\":\"black\"},\"line_dash\":[4,4],\"line_width\":{\"value\":2},\"plot\":null,\"render_mode\":\"css\",\"right_units\":\"screen\",\"top_units\":\"screen\"},\"id\":\"a82bbdf3-ea56-4361-9015-33bf67560b53\",\"type\":\"BoxAnnotation\"},{\"attributes\":{\"callback\":null,\"column_names\":[\"x\",\"y\"],\"data\":{\"x\":[1.7,1.7,1.7,1.7,1.7,1.7,1.7,1.7,1.7,1.7,1.7,1.7,1.7,1.7,1.7,1.7,1.7,1.7,1.7,1.7,1.7,1.7,1.7,1.7,1.7,1.7,1.7,1.7,1.7,1.7,1.7,1.7,1.7,1.7,1.7,1.7,1.7,1.7,1.7,1.7,1.7,1.7,1.7,1.7,1.7,1.7,1.7,1.7,1.7,1.7,1.7,1.7,1.7,1.7,1.7,1.7,1.7,1.7,1.7,1.7,1.7,1.7,1.7,1.7,1.7,1.7,1.7,1.7,1.7,1.7,1.7,1.7,1.7,1.7,1.7,1.7,1.7,1.7,1.7,1.7,1.7,1.7,1.7,1.7,1.7,1.7,1.7,1.7,1.7,1.7,1.7,1.7,1.7,1.7,1.7,1.7,1.7,1.7,1.7,1.7,1.7,1.7,1.7,1.7,1.7,1.7,1.7,1.7,1.7,1.7,1.7,1.7,1.7,1.7,1.7,1.7,1.7,1.7,1.7,1.7,1.7,1.7,1.7,1.7,1.7,1.7,1.7,1.7,1.7,1.7,1.7,1.7,1.7,1.7,1.7,1.7,1.7,1.7,1.7,1.7,1.7,1.7,1.7,1.7,1.7,1.7,1.7,1.7,1.7,1.7,1.7,1.7,1.7,1.7,1.7,1.7,1.7,1.7,1.7,1.7,1.7,1.7,1.7,1.7,1.7,1.7,1.7,1.7,1.7,1.7,1.7,1.7,1.7,1.7,1.7,1.7,1.7,1.7,1.7,1.7,1.7,1.7,1.7,1.7,1.7,1.7,1.7,1.7,1.7,1.7,1.7,1.7,1.7,1.7,1.7,1.7,1.7,1.7,1.7,1.7,1.7,1.7,1.7,1.7,1.7,1.7,1.7,1.7,1.7,1.7,1.7,1.7,1.7,1.7,1.7,1.7,1.7,1.7,1.7,1.7,1.7,1.7,1.7,1.7,1.7,1.7,1.7,1.7,1.7,1.7,1.7,1.7,1.7,1.7,1.7,1.7,1.7,1.7,1.7,1.7,1.7,1.7,1.7,1.7,1.7,1.7,1.7,1.7,1.7,1.7,1.7,1.7,1.7,1.7,1.7,1.7,1.7,1.7,1.7,1.7,1.7,1.7,1.7,1.7,1.7,1.7,1.7,1.7,1.7,1.7,1.7,1.7,1.7,1.7,1.7,1.7,1.7,1.7,1.7,1.7,1.7,1.7,1.7,1.7,1.7,1.7,1.7,1.7,1.7,1.7,1.7,1.7,1.7,1.7,1.7,1.7,1.7,1.7,1.7,1.7,1.7,1.7,1.7,1.7,1.7,1.7,1.7,1.7,1.7,1.7,1.7,1.7,1.7,1.7,1.7,1.7,1.7,1.7,1.7,1.7],\"y\":{\"__ndarray__\":\"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\",\"dtype\":\"float64\",\"shape\":[320]}},\"selected\":null,\"selection_policy\":null},\"id\":\"6aecf15b-eb32-49b7-b29f-d0958fa0c31f\",\"type\":\"ColumnDataSource\"},{\"attributes\":{},\"id\":\"9545df2a-4646-4fb5-bd5f-a2063517b6c0\",\"type\":\"PanTool\"},{\"attributes\":{\"active_drag\":\"auto\",\"active_inspect\":\"auto\",\"active_scroll\":\"auto\",\"active_tap\":\"auto\",\"tools\":[{\"id\":\"0dc3cba5-1184-428d-8324-4cadc521d615\",\"type\":\"HoverTool\"},{\"id\":\"10a7cce2-a00e-444c-9085-25f7eaf83028\",\"type\":\"PanTool\"},{\"id\":\"9b191842-4e16-4a83-a4b5-2cb959382972\",\"type\":\"WheelZoomTool\"},{\"id\":\"25e07bb6-b88d-4a59-89b1-561d881caf9f\",\"type\":\"BoxZoomTool\"},{\"id\":\"d50ce505-1afe-49c7-b13d-f74744417cf0\",\"type\":\"ResetTool\"}]},\"id\":\"090abcbb-2c7b-4fc3-a819-aff7030f1509\",\"type\":\"Toolbar\"},{\"attributes\":{},\"id\":\"c8e5aafc-3d41-49ea-8690-64b6ca081453\",\"type\":\"WheelZoomTool\"},{\"attributes\":{\"callback\":null},\"id\":\"4c321ffb-a428-4dc7-aabb-511c60032c67\",\"type\":\"DataRange1d\"},{\"attributes\":{\"overlay\":{\"id\":\"a82bbdf3-ea56-4361-9015-33bf67560b53\",\"type\":\"BoxAnnotation\"}},\"id\":\"28d7282b-d16f-4e69-9a46-a6c12c389b20\",\"type\":\"BoxZoomTool\"},{\"attributes\":{},\"id\":\"55682ec6-966a-4942-ac87-e16560e460f9\",\"type\":\"LinearScale\"},{\"attributes\":{},\"id\":\"54abd0a1-a1b4-4d02-904e-1dc2adc7c098\",\"type\":\"ResetTool\"},{\"attributes\":{},\"id\":\"b17096be-642b-43eb-b990-7dfba7eb547b\",\"type\":\"LinearScale\"},{\"attributes\":{\"fill_alpha\":{\"value\":0.1},\"fill_color\":{\"value\":\"#1f77b4\"},\"line_alpha\":{\"value\":0.1},\"line_color\":{\"value\":\"#1f77b4\"},\"line_width\":{\"value\":1.5},\"x\":{\"field\":\"x\"},\"y\":{\"field\":\"y\"}},\"id\":\"1f9d8a49-b0c9-4024-a30c-d62c627a7116\",\"type\":\"Circle\"},{\"attributes\":{\"callback\":null},\"id\":\"3b013b4c-d34f-4a33-a17f-650a007be39d\",\"type\":\"DataRange1d\"},{\"attributes\":{\"plot\":{\"id\":\"47ba9ad8-a9c4-4e6d-9e72-ffa78fd68a5b\",\"subtype\":\"Figure\",\"type\":\"Plot\"},\"ticker\":{\"id\":\"77f61b99-9eec-4d19-b8ee-4a16440feae8\",\"type\":\"BasicTicker\"}},\"id\":\"d55261cb-417a-468a-9c1e-4e5707002d6e\",\"type\":\"Grid\"},{\"attributes\":{\"data_source\":{\"id\":\"684aece6-7fb5-498d-a718-ee1b4c712da0\",\"type\":\"ColumnDataSource\"},\"glyph\":{\"id\":\"8b878050-e69e-453e-b36d-d7438b146ee8\",\"type\":\"Circle\"},\"hover_glyph\":null,\"muted_glyph\":null,\"nonselection_glyph\":{\"id\":\"1f9d8a49-b0c9-4024-a30c-d62c627a7116\",\"type\":\"Circle\"},\"selection_glyph\":null,\"view\":{\"id\":\"f1628bfa-5924-4bb7-8114-7b063263ff98\",\"type\":\"CDSView\"}},\"id\":\"60679497-5c59-4452-8c51-874c0049aab8\",\"type\":\"GlyphRenderer\"},{\"attributes\":{\"axis_label\":\" \",\"axis_label_text_font_size\":{\"value\":\"18px\"},\"formatter\":{\"id\":\"4f0f1bcf-e183-4eae-92fc-37f9e0159958\",\"type\":\"BasicTickFormatter\"},\"plot\":{\"id\":\"47ba9ad8-a9c4-4e6d-9e72-ffa78fd68a5b\",\"subtype\":\"Figure\",\"type\":\"Plot\"},\"ticker\":{\"id\":\"77f61b99-9eec-4d19-b8ee-4a16440feae8\",\"type\":\"BasicTicker\"}},\"id\":\"fc91f983-90a5-4847-a51f-e2ae804dc2e6\",\"type\":\"LinearAxis\"},{\"attributes\":{\"source\":{\"id\":\"684aece6-7fb5-498d-a718-ee1b4c712da0\",\"type\":\"ColumnDataSource\"}},\"id\":\"f1628bfa-5924-4bb7-8114-7b063263ff98\",\"type\":\"CDSView\"},{\"attributes\":{},\"id\":\"77f61b99-9eec-4d19-b8ee-4a16440feae8\",\"type\":\"BasicTicker\"},{\"attributes\":{},\"id\":\"e9274338-b373-45ef-87c6-a653ee953b52\",\"type\":\"BasicTickFormatter\"},{\"attributes\":{\"axis_label\":\"\\u03b7 [m]\",\"axis_label_text_font_size\":{\"value\":\"18px\"},\"formatter\":{\"id\":\"3f16b9ba-949c-4ecf-a431-0a5b2078ae0a\",\"type\":\"BasicTickFormatter\"},\"plot\":{\"id\":\"47ba9ad8-a9c4-4e6d-9e72-ffa78fd68a5b\",\"subtype\":\"Figure\",\"type\":\"Plot\"},\"ticker\":{\"id\":\"ceadf10a-6825-401a-a7e4-b153cf0af765\",\"type\":\"BasicTicker\"}},\"id\":\"92fd9095-ef6e-40e5-b6cb-014b11c489f0\",\"type\":\"LinearAxis\"},{\"attributes\":{\"callback\":null},\"id\":\"e237a8e0-4574-49c4-964a-6cbdb1efcd6f\",\"type\":\"DataRange1d\"},{\"attributes\":{\"align\":\"center\",\"plot\":null,\"text\":\"Compressibility of water\",\"text_font_size\":{\"value\":\"22px\"}},\"id\":\"dfbfc8ec-3d6d-4721-b004-ab3c93534d94\",\"type\":\"Title\"},{\"attributes\":{},\"id\":\"ceadf10a-6825-401a-a7e4-b153cf0af765\",\"type\":\"BasicTicker\"},{\"attributes\":{\"dimension\":1,\"plot\":{\"id\":\"47ba9ad8-a9c4-4e6d-9e72-ffa78fd68a5b\",\"subtype\":\"Figure\",\"type\":\"Plot\"},\"ticker\":{\"id\":\"ceadf10a-6825-401a-a7e4-b153cf0af765\",\"type\":\"BasicTicker\"}},\"id\":\"117161f4-5fa3-4bf1-9198-e2b4f5a211c8\",\"type\":\"Grid\"},{\"attributes\":{},\"id\":\"dfa19a5a-5083-4b02-970d-26c2c0d57569\",\"type\":\"BasicTickFormatter\"},{\"attributes\":{\"child\":{\"id\":\"47ba9ad8-a9c4-4e6d-9e72-ffa78fd68a5b\",\"subtype\":\"Figure\",\"type\":\"Plot\"},\"title\":\"SWRC par1\"},\"id\":\"81e7d1fe-6ad5-416b-9f60-9144a2b1e9aa\",\"type\":\"Panel\"},{\"attributes\":{\"bottom_units\":\"screen\",\"fill_alpha\":{\"value\":0.5},\"fill_color\":{\"value\":\"lightgrey\"},\"left_units\":\"screen\",\"level\":\"overlay\",\"line_alpha\":{\"value\":1.0},\"line_color\":{\"value\":\"black\"},\"line_dash\":[4,4],\"line_width\":{\"value\":2},\"plot\":null,\"render_mode\":\"css\",\"right_units\":\"screen\",\"top_units\":\"screen\"},\"id\":\"b1db27bb-003b-42bb-8cbc-d9bf23b06c4f\",\"type\":\"BoxAnnotation\"},{\"attributes\":{\"fill_color\":{\"value\":\"red\"},\"line_color\":{\"value\":\"red\"},\"line_width\":{\"value\":1.5},\"x\":{\"field\":\"x\"},\"y\":{\"field\":\"y\"}},\"id\":\"3426dd35-cb95-40b4-9b20-81addbb63359\",\"type\":\"Circle\"},{\"attributes\":{},\"id\":\"10a7cce2-a00e-444c-9085-25f7eaf83028\",\"type\":\"PanTool\"},{\"attributes\":{\"callback\":null,\"column_names\":[\"x\",\"y\"],\"data\":{\"x\":[0,0,0,0,0,0,0,0,0,0,0,0,0,0,0,0,0,0,0,0,0,0,0,0,0,0,0,0,0,0,0,0,0,0,0,0,0,0,0,0,0,0,0,0,0,0,0,0,0,0,0,0,0,0,0,0,0,0,0,0,0,0,0,0,0,0,0,0,0,0,0,0,0,0,0,0,0,0,0,0,0,0,0,0,0,0,0,0,0,0,0,0,0,0,0,0,0,0,0,0,0,0,0,0,0,0,0,0,0,0,0,0,0,0,0,0,0,0,0,0,0,0,0,0,0,0,0,0,0,0,0,0,0,0,0,0,0,0,0,0,0,0,0,0,0,0,0,0,0,0,0,0,0,0,0,0,0,0,0,0,0,0,0,0,0,0,0,0,0,0,0,0,0,0,0,0,0,0,0,0,0,0,0,0,0,0,0,0,0,0,0,0,0,0,0,0,0,0,0,0,0,0,0,0,0,0,0,0,0,0,0,0,0,0,0,0,0,0,0,0,0,0,0,0,0,0,0,0,0,0,0,0,0,0,0,0,0,0,0,0,0,0,0,0,0,0,0,0,0,0,0,0,0,0,0,0,0,0,0,0,0,0,0,0,0,0,0,0,0,0,0,0,0,0,0,0,0,0,0,0,0,0,0,0,0,0,0,0,0,0,0,0,0,0,0,0,0,0,0,0,0,0,0,0,0,0,0,0,0,0,0,0,0,0,0,0,0,0,0,0],\"y\":{\"__ndarray__\":\"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\",\"dtype\":\"float64\",\"shape\":[320]}},\"selected\":null,\"selection_policy\":null},\"id\":\"44d8dbb0-ebf1-43de-bf46-5bff7f8140c6\",\"type\":\"ColumnDataSource\"},{\"attributes\":{\"below\":[{\"id\":\"949506c5-f299-4fbb-b899-633b181e4fff\",\"type\":\"LinearAxis\"}],\"left\":[{\"id\":\"d38d01ac-4832-45a5-ac18-5afb02569e2e\",\"type\":\"LinearAxis\"}],\"renderers\":[{\"id\":\"949506c5-f299-4fbb-b899-633b181e4fff\",\"type\":\"LinearAxis\"},{\"id\":\"be1f34cb-ea03-41a6-a893-6781d83ab542\",\"type\":\"Grid\"},{\"id\":\"d38d01ac-4832-45a5-ac18-5afb02569e2e\",\"type\":\"LinearAxis\"},{\"id\":\"74dc42ac-c0ca-41d7-979d-bdcaee561382\",\"type\":\"Grid\"},{\"id\":\"d60668ea-b780-4994-af3f-1341eed02a3b\",\"type\":\"BoxAnnotation\"},{\"id\":\"f20c5200-b00a-4d5a-8b2d-65cf944c5fe9\",\"type\":\"GlyphRenderer\"}],\"title\":{\"id\":\"dfbfc8ec-3d6d-4721-b004-ab3c93534d94\",\"type\":\"Title\"},\"toolbar\":{\"id\":\"af713c3d-80c6-4292-bcc0-34f416ff0451\",\"type\":\"Toolbar\"},\"x_range\":{\"id\":\"e237a8e0-4574-49c4-964a-6cbdb1efcd6f\",\"type\":\"DataRange1d\"},\"x_scale\":{\"id\":\"d58c87a7-b285-4d5a-8876-c6c20082cae3\",\"type\":\"LinearScale\"},\"y_range\":{\"id\":\"e0b57cd1-2d46-4f4f-927e-d619c5954499\",\"type\":\"DataRange1d\"},\"y_scale\":{\"id\":\"6a06d10a-8714-4599-8e38-81df106bf9a0\",\"type\":\"LinearScale\"}},\"id\":\"ddaadddd-0942-4780-ab87-4a7db2410164\",\"subtype\":\"Figure\",\"type\":\"Plot\"},{\"attributes\":{},\"id\":\"9b191842-4e16-4a83-a4b5-2cb959382972\",\"type\":\"WheelZoomTool\"},{\"attributes\":{\"active_drag\":\"auto\",\"active_inspect\":\"auto\",\"active_scroll\":\"auto\",\"active_tap\":\"auto\",\"tools\":[{\"id\":\"0dc3cba5-1184-428d-8324-4cadc521d615\",\"type\":\"HoverTool\"},{\"id\":\"b6dc6c10-0642-428c-a0af-9b3c59bca3c7\",\"type\":\"PanTool\"},{\"id\":\"7fb35475-e0ae-4f5b-91cd-079eda99249f\",\"type\":\"WheelZoomTool\"},{\"id\":\"50449857-315a-4348-b7fa-2a3e024e31f4\",\"type\":\"BoxZoomTool\"},{\"id\":\"26d61e95-1c9d-4276-ac45-47c134f1441a\",\"type\":\"ResetTool\"}]},\"id\":\"af713c3d-80c6-4292-bcc0-34f416ff0451\",\"type\":\"Toolbar\"},{\"attributes\":{\"overlay\":{\"id\":\"b1db27bb-003b-42bb-8cbc-d9bf23b06c4f\",\"type\":\"BoxAnnotation\"}},\"id\":\"25e07bb6-b88d-4a59-89b1-561d881caf9f\",\"type\":\"BoxZoomTool\"},{\"attributes\":{\"callback\":null},\"id\":\"e0b57cd1-2d46-4f4f-927e-d619c5954499\",\"type\":\"DataRange1d\"},{\"attributes\":{},\"id\":\"d50ce505-1afe-49c7-b13d-f74744417cf0\",\"type\":\"ResetTool\"},{\"attributes\":{},\"id\":\"d58c87a7-b285-4d5a-8876-c6c20082cae3\",\"type\":\"LinearScale\"},{\"attributes\":{\"fill_alpha\":{\"value\":0.1},\"fill_color\":{\"value\":\"#1f77b4\"},\"line_alpha\":{\"value\":0.1},\"line_color\":{\"value\":\"#1f77b4\"},\"line_width\":{\"value\":1.5},\"x\":{\"field\":\"x\"},\"y\":{\"field\":\"y\"}},\"id\":\"af194d04-4a84-49ab-8035-a03b37b200cc\",\"type\":\"Circle\"},{\"attributes\":{\"data_source\":{\"id\":\"6aecf15b-eb32-49b7-b29f-d0958fa0c31f\",\"type\":\"ColumnDataSource\"},\"glyph\":{\"id\":\"ee474cd4-7a2d-4c80-9143-e55d945fd8ec\",\"type\":\"Circle\"},\"hover_glyph\":null,\"muted_glyph\":null,\"nonselection_glyph\":{\"id\":\"af194d04-4a84-49ab-8035-a03b37b200cc\",\"type\":\"Circle\"},\"selection_glyph\":null,\"view\":{\"id\":\"76cc3414-bb72-4e37-b695-5327f5832e99\",\"type\":\"CDSView\"}},\"id\":\"81233199-6d8c-4eef-8cc7-93e0dbf3887e\",\"type\":\"GlyphRenderer\"},{\"attributes\":{},\"id\":\"6a06d10a-8714-4599-8e38-81df106bf9a0\",\"type\":\"LinearScale\"},{\"attributes\":{\"plot\":{\"id\":\"ddaadddd-0942-4780-ab87-4a7db2410164\",\"subtype\":\"Figure\",\"type\":\"Plot\"},\"ticker\":{\"id\":\"8502fa4d-0812-46b1-b15e-9fe1145cb267\",\"type\":\"BasicTicker\"}},\"id\":\"be1f34cb-ea03-41a6-a893-6781d83ab542\",\"type\":\"Grid\"},{\"attributes\":{\"source\":{\"id\":\"6aecf15b-eb32-49b7-b29f-d0958fa0c31f\",\"type\":\"ColumnDataSource\"}},\"id\":\"76cc3414-bb72-4e37-b695-5327f5832e99\",\"type\":\"CDSView\"},{\"attributes\":{},\"id\":\"3bed5142-fc32-4a2a-8486-1e1db261a28d\",\"type\":\"BasicTicker\"},{\"attributes\":{\"axis_label\":\"\\u03b2 [1/Pa]\",\"axis_label_text_font_size\":{\"value\":\"18px\"},\"formatter\":{\"id\":\"db577454-4d88-4dbd-8e1b-5db238ae267e\",\"type\":\"BasicTickFormatter\"},\"plot\":{\"id\":\"ddaadddd-0942-4780-ab87-4a7db2410164\",\"subtype\":\"Figure\",\"type\":\"Plot\"},\"ticker\":{\"id\":\"8502fa4d-0812-46b1-b15e-9fe1145cb267\",\"type\":\"BasicTicker\"}},\"id\":\"949506c5-f299-4fbb-b899-633b181e4fff\",\"type\":\"LinearAxis\"},{\"attributes\":{},\"id\":\"4f0f1bcf-e183-4eae-92fc-37f9e0159958\",\"type\":\"BasicTickFormatter\"},{\"attributes\":{\"callback\":null},\"id\":\"5058a147-24f0-455d-bf83-0e5b450b053e\",\"type\":\"DataRange1d\"},{\"attributes\":{\"callback\":null},\"id\":\"b30fb922-0379-4970-b70f-1040fa71b111\",\"type\":\"DataRange1d\"},{\"attributes\":{},\"id\":\"8502fa4d-0812-46b1-b15e-9fe1145cb267\",\"type\":\"BasicTicker\"},{\"attributes\":{\"align\":\"center\",\"plot\":null,\"text\":\"SWRC parameter 2\",\"text_font_size\":{\"value\":\"22px\"}},\"id\":\"517f985e-d55b-4b7c-b856-9b899e0b9b25\",\"type\":\"Title\"},{\"attributes\":{\"axis_label\":\"\\u03b7 [m]\",\"axis_label_text_font_size\":{\"value\":\"18px\"},\"formatter\":{\"id\":\"140cba46-5b3d-4a00-9d8b-eb95096f84cd\",\"type\":\"BasicTickFormatter\"},\"plot\":{\"id\":\"ddaadddd-0942-4780-ab87-4a7db2410164\",\"subtype\":\"Figure\",\"type\":\"Plot\"},\"ticker\":{\"id\":\"410b6b57-4c17-4251-a088-a6477e12ef2d\",\"type\":\"BasicTicker\"}},\"id\":\"d38d01ac-4832-45a5-ac18-5afb02569e2e\",\"type\":\"LinearAxis\"},{\"attributes\":{},\"id\":\"3f16b9ba-949c-4ecf-a431-0a5b2078ae0a\",\"type\":\"BasicTickFormatter\"},{\"attributes\":{},\"id\":\"410b6b57-4c17-4251-a088-a6477e12ef2d\",\"type\":\"BasicTicker\"},{\"attributes\":{\"dimension\":1,\"plot\":{\"id\":\"ddaadddd-0942-4780-ab87-4a7db2410164\",\"subtype\":\"Figure\",\"type\":\"Plot\"},\"ticker\":{\"id\":\"410b6b57-4c17-4251-a088-a6477e12ef2d\",\"type\":\"BasicTicker\"}},\"id\":\"74dc42ac-c0ca-41d7-979d-bdcaee561382\",\"type\":\"Grid\"},{\"attributes\":{\"child\":{\"id\":\"ddaadddd-0942-4780-ab87-4a7db2410164\",\"subtype\":\"Figure\",\"type\":\"Plot\"},\"title\":\"\\u03b2\"},\"id\":\"14707ffc-c07e-4c5e-b8ce-06f9bd55b8b3\",\"type\":\"Panel\"},{\"attributes\":{\"fill_color\":{\"value\":\"red\"},\"line_color\":{\"value\":\"red\"},\"line_width\":{\"value\":1.5},\"x\":{\"field\":\"x\"},\"y\":{\"field\":\"y\"}},\"id\":\"c82275a9-12f7-4c46-b734-72a0ceeff697\",\"type\":\"Circle\"},{\"attributes\":{\"bottom_units\":\"screen\",\"fill_alpha\":{\"value\":0.5},\"fill_color\":{\"value\":\"lightgrey\"},\"left_units\":\"screen\",\"level\":\"overlay\",\"line_alpha\":{\"value\":1.0},\"line_color\":{\"value\":\"black\"},\"line_dash\":[4,4],\"line_width\":{\"value\":2},\"plot\":null,\"render_mode\":\"css\",\"right_units\":\"screen\",\"top_units\":\"screen\"},\"id\":\"d60668ea-b780-4994-af3f-1341eed02a3b\",\"type\":\"BoxAnnotation\"},{\"attributes\":{\"callback\":null,\"column_names\":[\"x\",\"y\"],\"data\":{\"x\":[1.47,1.47,1.47,1.47,1.47,1.47,1.47,1.47,1.47,1.47,1.47,1.47,1.47,1.47,1.47,1.47,1.47,1.47,1.47,1.47,1.47,1.47,1.47,1.47,1.47,1.47,1.47,1.47,1.47,1.47,1.47,1.47,1.47,1.47,1.47,1.47,1.47,1.47,1.47,1.47,1.47,1.47,1.47,1.47,1.47,1.47,1.47,1.47,1.47,1.47,1.47,1.47,1.47,1.47,1.47,1.47,1.47,1.47,1.47,1.47,1.47,1.47,1.47,1.47,1.47,1.47,1.47,1.47,1.47,1.47,1.47,1.47,1.47,1.47,1.47,1.47,1.47,1.47,1.47,1.47,1.47,1.47,1.47,1.47,1.47,1.47,1.47,1.47,1.47,1.47,1.47,1.47,1.47,1.47,1.47,1.47,1.47,1.47,1.47,1.47,1.47,1.47,1.47,1.47,1.47,1.47,1.47,1.47,1.47,1.47,1.47,1.47,1.47,1.47,1.47,1.47,1.47,1.47,1.47,1.47,1.47,1.47,1.47,1.47,1.47,1.47,1.47,1.47,1.47,1.47,1.47,1.47,1.47,1.47,1.47,1.47,1.47,1.47,1.47,1.47,1.47,1.47,1.47,1.47,1.47,1.47,1.47,1.47,1.47,1.47,1.47,1.47,1.47,1.47,1.47,1.47,1.47,1.47,1.47,1.47,1.47,1.47,1.47,1.47,1.47,1.47,1.47,1.47,1.47,1.47,1.47,1.47,1.47,1.47,1.47,1.47,1.47,1.47,1.47,1.47,1.47,1.47,1.47,1.47,1.47,1.47,1.47,1.47,1.47,1.47,1.47,1.47,1.47,1.47,1.47,1.47,1.47,1.47,1.47,1.47,1.47,1.47,1.47,1.47,1.47,1.47,1.47,1.47,1.47,1.47,1.47,1.47,1.47,1.47,1.47,1.47,1.47,1.47,1.47,1.47,1.47,1.47,1.47,1.47,1.47,1.47,1.47,1.47,1.47,1.47,1.47,1.47,1.47,1.47,1.47,1.47,1.47,1.47,1.47,1.47,1.47,1.47,1.47,1.47,1.47,1.47,1.47,1.47,1.47,1.47,1.47,1.47,1.47,1.47,1.47,1.47,1.47,1.47,1.47,1.47,1.47,1.47,1.47,1.47,1.47,1.47,1.47,1.47,1.47,1.47,1.47,1.47,1.47,1.47,1.47,1.47,1.47,1.47,1.47,1.47,1.47,1.47,1.47,1.47,1.47,1.47,1.47,1.47,1.47,1.47,1.47,1.47,1.47,1.47,1.47,1.47,1.47,1.47,1.47,1.47,1.47,1.47,1.47,1.47,1.47,1.47,1.47,1.47,1.47,1.47,1.47,1.47,1.47,1.47,1.47,1.47,1.47,1.47,1.47,1.47],\"y\":{\"__ndarray__\":\"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\",\"dtype\":\"float64\",\"shape\":[320]}},\"selected\":null,\"selection_policy\":null},\"id\":\"a7fb51b8-215a-463b-bd52-b8fbf9da1c3f\",\"type\":\"ColumnDataSource\"},{\"attributes\":{},\"id\":\"b6dc6c10-0642-428c-a0af-9b3c59bca3c7\",\"type\":\"PanTool\"},{\"attributes\":{\"below\":[{\"id\":\"6bf0bab3-baf7-4a63-a487-ce5a65d3d1b5\",\"type\":\"LinearAxis\"}],\"left\":[{\"id\":\"b0d1caa4-428b-4d42-abaf-6178229874a3\",\"type\":\"LinearAxis\"}],\"renderers\":[{\"id\":\"6bf0bab3-baf7-4a63-a487-ce5a65d3d1b5\",\"type\":\"LinearAxis\"},{\"id\":\"08369038-eb3d-4249-a00b-d4af3f3da604\",\"type\":\"Grid\"},{\"id\":\"b0d1caa4-428b-4d42-abaf-6178229874a3\",\"type\":\"LinearAxis\"},{\"id\":\"97f0765e-0ea5-4b15-bfb9-14fa74f2720d\",\"type\":\"Grid\"},{\"id\":\"f564870c-8447-46f7-8595-adccf37feb19\",\"type\":\"BoxAnnotation\"},{\"id\":\"ea83c015-76b3-444f-a461-dbd3cb7ea38e\",\"type\":\"GlyphRenderer\"}],\"title\":{\"id\":\"517f985e-d55b-4b7c-b856-9b899e0b9b25\",\"type\":\"Title\"},\"toolbar\":{\"id\":\"62ad4a8a-44c2-4922-9c19-3a379ccb9a8d\",\"type\":\"Toolbar\"},\"x_range\":{\"id\":\"b30fb922-0379-4970-b70f-1040fa71b111\",\"type\":\"DataRange1d\"},\"x_scale\":{\"id\":\"263e9dd4-22c1-471c-b933-ef1ab74fb4bc\",\"type\":\"LinearScale\"},\"y_range\":{\"id\":\"c7bc64d1-9be7-4da1-8828-35b0e977500d\",\"type\":\"DataRange1d\"},\"y_scale\":{\"id\":\"c430b11e-b684-4572-a28f-cfdfbc02f497\",\"type\":\"LinearScale\"}},\"id\":\"f4e9e48a-2085-4689-a3e8-efe8f18173d0\",\"subtype\":\"Figure\",\"type\":\"Plot\"},{\"attributes\":{\"active_drag\":\"auto\",\"active_inspect\":\"auto\",\"active_scroll\":\"auto\",\"active_tap\":\"auto\",\"tools\":[{\"id\":\"0dc3cba5-1184-428d-8324-4cadc521d615\",\"type\":\"HoverTool\"},{\"id\":\"298ffe63-b593-46cb-a0f0-f3f9ab5a6282\",\"type\":\"PanTool\"},{\"id\":\"a28359f2-82d0-4c18-8a07-88286f272c42\",\"type\":\"WheelZoomTool\"},{\"id\":\"34143d52-7282-46ac-b647-616e81c26ded\",\"type\":\"BoxZoomTool\"},{\"id\":\"955f6c37-bb68-40d6-8671-9d9ccb40cce3\",\"type\":\"ResetTool\"}]},\"id\":\"62ad4a8a-44c2-4922-9c19-3a379ccb9a8d\",\"type\":\"Toolbar\"},{\"attributes\":{},\"id\":\"7fb35475-e0ae-4f5b-91cd-079eda99249f\",\"type\":\"WheelZoomTool\"},{\"attributes\":{\"callback\":null},\"id\":\"c7bc64d1-9be7-4da1-8828-35b0e977500d\",\"type\":\"DataRange1d\"},{\"attributes\":{\"overlay\":{\"id\":\"d60668ea-b780-4994-af3f-1341eed02a3b\",\"type\":\"BoxAnnotation\"}},\"id\":\"50449857-315a-4348-b7fa-2a3e024e31f4\",\"type\":\"BoxZoomTool\"},{\"attributes\":{},\"id\":\"263e9dd4-22c1-471c-b933-ef1ab74fb4bc\",\"type\":\"LinearScale\"},{\"attributes\":{},\"id\":\"26d61e95-1c9d-4276-ac45-47c134f1441a\",\"type\":\"ResetTool\"},{\"attributes\":{},\"id\":\"c430b11e-b684-4572-a28f-cfdfbc02f497\",\"type\":\"LinearScale\"},{\"attributes\":{\"fill_alpha\":{\"value\":0.1},\"fill_color\":{\"value\":\"#1f77b4\"},\"line_alpha\":{\"value\":0.1},\"line_color\":{\"value\":\"#1f77b4\"},\"line_width\":{\"value\":1.5},\"x\":{\"field\":\"x\"},\"y\":{\"field\":\"y\"}},\"id\":\"a2c00e42-01d0-4f1e-8ca7-c8aa760bdc06\",\"type\":\"Circle\"},{\"attributes\":{\"plot\":{\"id\":\"f4e9e48a-2085-4689-a3e8-efe8f18173d0\",\"subtype\":\"Figure\",\"type\":\"Plot\"},\"ticker\":{\"id\":\"cb35ddb3-4f94-447e-b678-21228facaac4\",\"type\":\"BasicTicker\"}},\"id\":\"08369038-eb3d-4249-a00b-d4af3f3da604\",\"type\":\"Grid\"},{\"attributes\":{\"data_source\":{\"id\":\"44d8dbb0-ebf1-43de-bf46-5bff7f8140c6\",\"type\":\"ColumnDataSource\"},\"glyph\":{\"id\":\"3426dd35-cb95-40b4-9b20-81addbb63359\",\"type\":\"Circle\"},\"hover_glyph\":null,\"muted_glyph\":null,\"nonselection_glyph\":{\"id\":\"a2c00e42-01d0-4f1e-8ca7-c8aa760bdc06\",\"type\":\"Circle\"},\"selection_glyph\":null,\"view\":{\"id\":\"27c32441-c5c9-44b3-b2dd-5c113c6a83c5\",\"type\":\"CDSView\"}},\"id\":\"f20c5200-b00a-4d5a-8b2d-65cf944c5fe9\",\"type\":\"GlyphRenderer\"},{\"attributes\":{\"axis_label\":\" \",\"axis_label_text_font_size\":{\"value\":\"18px\"},\"formatter\":{\"id\":\"15e14beb-2f82-49c5-911f-4fbe94fb3dbd\",\"type\":\"BasicTickFormatter\"},\"plot\":{\"id\":\"f4e9e48a-2085-4689-a3e8-efe8f18173d0\",\"subtype\":\"Figure\",\"type\":\"Plot\"},\"ticker\":{\"id\":\"cb35ddb3-4f94-447e-b678-21228facaac4\",\"type\":\"BasicTicker\"}},\"id\":\"6bf0bab3-baf7-4a63-a487-ce5a65d3d1b5\",\"type\":\"LinearAxis\"},{\"attributes\":{\"source\":{\"id\":\"44d8dbb0-ebf1-43de-bf46-5bff7f8140c6\",\"type\":\"ColumnDataSource\"}},\"id\":\"27c32441-c5c9-44b3-b2dd-5c113c6a83c5\",\"type\":\"CDSView\"},{\"attributes\":{},\"id\":\"cb35ddb3-4f94-447e-b678-21228facaac4\",\"type\":\"BasicTicker\"},{\"attributes\":{},\"id\":\"db577454-4d88-4dbd-8e1b-5db238ae267e\",\"type\":\"BasicTickFormatter\"},{\"attributes\":{\"axis_label\":\"\\u03b7 [m]\",\"axis_label_text_font_size\":{\"value\":\"18px\"},\"formatter\":{\"id\":\"f741934e-e4e4-48a5-b52c-7341d7bc31a6\",\"type\":\"BasicTickFormatter\"},\"plot\":{\"id\":\"f4e9e48a-2085-4689-a3e8-efe8f18173d0\",\"subtype\":\"Figure\",\"type\":\"Plot\"},\"ticker\":{\"id\":\"4f4a4a12-dd31-4633-b3e0-c3d4332d9524\",\"type\":\"BasicTicker\"}},\"id\":\"b0d1caa4-428b-4d42-abaf-6178229874a3\",\"type\":\"LinearAxis\"},{\"attributes\":{\"callback\":null},\"id\":\"a3902f82-da77-4bfe-8ac9-8a62e99d0204\",\"type\":\"DataRange1d\"},{\"attributes\":{\"align\":\"center\",\"plot\":null,\"text\":\"Source sink term\",\"text_font_size\":{\"value\":\"22px\"}},\"id\":\"55250a4b-3744-44c5-9c23-1c799fa4cd11\",\"type\":\"Title\"},{\"attributes\":{},\"id\":\"4f4a4a12-dd31-4633-b3e0-c3d4332d9524\",\"type\":\"BasicTicker\"},{\"attributes\":{\"dimension\":1,\"plot\":{\"id\":\"f4e9e48a-2085-4689-a3e8-efe8f18173d0\",\"subtype\":\"Figure\",\"type\":\"Plot\"},\"ticker\":{\"id\":\"4f4a4a12-dd31-4633-b3e0-c3d4332d9524\",\"type\":\"BasicTicker\"}},\"id\":\"97f0765e-0ea5-4b15-bfb9-14fa74f2720d\",\"type\":\"Grid\"},{\"attributes\":{},\"id\":\"140cba46-5b3d-4a00-9d8b-eb95096f84cd\",\"type\":\"BasicTickFormatter\"},{\"attributes\":{\"child\":{\"id\":\"f4e9e48a-2085-4689-a3e8-efe8f18173d0\",\"subtype\":\"Figure\",\"type\":\"Plot\"},\"title\":\"SWRC par2\"},\"id\":\"c05db131-492c-41aa-a995-c9e563e605a9\",\"type\":\"Panel\"},{\"attributes\":{\"bottom_units\":\"screen\",\"fill_alpha\":{\"value\":0.5},\"fill_color\":{\"value\":\"lightgrey\"},\"left_units\":\"screen\",\"level\":\"overlay\",\"line_alpha\":{\"value\":1.0},\"line_color\":{\"value\":\"black\"},\"line_dash\":[4,4],\"line_width\":{\"value\":2},\"plot\":null,\"render_mode\":\"css\",\"right_units\":\"screen\",\"top_units\":\"screen\"},\"id\":\"f564870c-8447-46f7-8595-adccf37feb19\",\"type\":\"BoxAnnotation\"},{\"attributes\":{},\"id\":\"a36955d9-0b11-4815-b3fd-f1068acc658f\",\"type\":\"BasicTickFormatter\"},{\"attributes\":{},\"id\":\"298ffe63-b593-46cb-a0f0-f3f9ab5a6282\",\"type\":\"PanTool\"},{\"attributes\":{\"callback\":null,\"column_names\":[\"x\",\"y\"],\"data\":{\"x\":[0,0,0,0,0,0,0,0,0,0,0,0,0,0,0,0,0,0,0,0,0,0,0,0,0,0,0,0,0,0,0,0,0,0,0,0,0,0,0,0,0,0,0,0,0,0,0,0,0,0,0,0,0,0,0,0,0,0,0,0,0,0,0,0,0,0,0,0,0,0,0,0,0,0,0,0,0,0,0,0,0,0,0,0,0,0,0,0,0,0,0,0,0,0,0,0,0,0,0,0,0,0,0,0,0,0,0,0,0,0,0,0,0,0,0,0,0,0,0,0,0,0,0,0,0,0,0,0,0,0,0,0,0,0,0,0,0,0,0,0,0,0,0,0,0,0,0,0,0,0,0,0,0,0,0,0,0,0,0,0,0,0,0,0,0,0,0,0,0,0,0,0,0,0,0,0,0,0,0,0,0,0,0,0,0,0,0,0,0,0,0,0,0,0,0,0,0,0,0,0,0,0,0,0,0,0,0,0,0,0,0,0,0,0,0,0,0,0,0,0,0,0,0,0,0,0,0,0,0,0,0,0,0,0,0,0,0,0,0,0,0,0,0,0,0,0,0,0,0,0,0,0,0,0,0,0,0,0,0,0,0,0,0,0,0,0,0,0,0,0,0,0,0,0,0,0,0,0,0,0,0,0,0,0,0,0,0,0,0,0,0,0,0,0,0,0,0,0,0,0,0,0,0,0,0,0,0,0,0,0,0,0,0,0,0,0,0,0,0,0,0],\"y\":{\"__ndarray__\":\"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\",\"dtype\":\"float64\",\"shape\":[321]}},\"selected\":null,\"selection_policy\":null},\"id\":\"b4af53e1-7fb0-4f7a-8445-632117c00413\",\"type\":\"ColumnDataSource\"},{\"attributes\":{\"below\":[{\"id\":\"68cb1379-c218-42cd-822b-a024423a9b71\",\"type\":\"LinearAxis\"}],\"left\":[{\"id\":\"0fd064fd-e730-4a47-8b14-dd17afa797ad\",\"type\":\"LinearAxis\"}],\"renderers\":[{\"id\":\"68cb1379-c218-42cd-822b-a024423a9b71\",\"type\":\"LinearAxis\"},{\"id\":\"5aa203df-08c2-4bdb-88e8-98241c5e1267\",\"type\":\"Grid\"},{\"id\":\"0fd064fd-e730-4a47-8b14-dd17afa797ad\",\"type\":\"LinearAxis\"},{\"id\":\"40b9179a-7a81-42c2-b582-642a0782e0c0\",\"type\":\"Grid\"},{\"id\":\"5bfded6e-01c9-4383-a141-6d964d5aa9cc\",\"type\":\"BoxAnnotation\"},{\"id\":\"dbd70035-cf96-4944-8ce6-c5cd0cb9fa16\",\"type\":\"GlyphRenderer\"}],\"title\":{\"id\":\"55250a4b-3744-44c5-9c23-1c799fa4cd11\",\"type\":\"Title\"},\"toolbar\":{\"id\":\"8e8e39fb-46a7-41c4-a5b7-36a7ecdffc72\",\"type\":\"Toolbar\"},\"x_range\":{\"id\":\"a3902f82-da77-4bfe-8ac9-8a62e99d0204\",\"type\":\"DataRange1d\"},\"x_scale\":{\"id\":\"faceed85-96b6-4802-afd4-4e1aa0acd9a2\",\"type\":\"LinearScale\"},\"y_range\":{\"id\":\"6fa739cd-cef7-4f4f-9c15-84ef531eceec\",\"type\":\"DataRange1d\"},\"y_scale\":{\"id\":\"a9db820f-f4d4-4826-8278-eb4f396e579a\",\"type\":\"LinearScale\"}},\"id\":\"4de1fd95-bce4-424c-a838-edf6f85dc01b\",\"subtype\":\"Figure\",\"type\":\"Plot\"},{\"attributes\":{},\"id\":\"a28359f2-82d0-4c18-8a07-88286f272c42\",\"type\":\"WheelZoomTool\"},{\"attributes\":{\"active_drag\":\"auto\",\"active_inspect\":\"auto\",\"active_scroll\":\"auto\",\"active_tap\":\"auto\",\"tools\":[{\"id\":\"0dc3cba5-1184-428d-8324-4cadc521d615\",\"type\":\"HoverTool\"},{\"id\":\"27aad9f7-7726-4021-b163-457653e62110\",\"type\":\"PanTool\"},{\"id\":\"5b5fac6e-6729-4467-9048-a3c16dd217c5\",\"type\":\"WheelZoomTool\"},{\"id\":\"0d30379b-40c4-4f54-977b-09150900eca9\",\"type\":\"BoxZoomTool\"},{\"id\":\"a9b6a350-2572-4ed6-878e-91cfa5f41571\",\"type\":\"ResetTool\"}]},\"id\":\"8e8e39fb-46a7-41c4-a5b7-36a7ecdffc72\",\"type\":\"Toolbar\"},{\"attributes\":{\"overlay\":{\"id\":\"f564870c-8447-46f7-8595-adccf37feb19\",\"type\":\"BoxAnnotation\"}},\"id\":\"34143d52-7282-46ac-b647-616e81c26ded\",\"type\":\"BoxZoomTool\"},{\"attributes\":{\"callback\":null},\"id\":\"6fa739cd-cef7-4f4f-9c15-84ef531eceec\",\"type\":\"DataRange1d\"},{\"attributes\":{},\"id\":\"955f6c37-bb68-40d6-8671-9d9ccb40cce3\",\"type\":\"ResetTool\"},{\"attributes\":{},\"id\":\"faceed85-96b6-4802-afd4-4e1aa0acd9a2\",\"type\":\"LinearScale\"},{\"attributes\":{\"fill_alpha\":{\"value\":0.1},\"fill_color\":{\"value\":\"#1f77b4\"},\"line_alpha\":{\"value\":0.1},\"line_color\":{\"value\":\"#1f77b4\"},\"line_width\":{\"value\":1.5},\"x\":{\"field\":\"x\"},\"y\":{\"field\":\"y\"}},\"id\":\"7c84884d-1fc5-4ccd-a539-584efb5b25a2\",\"type\":\"Circle\"},{\"attributes\":{\"data_source\":{\"id\":\"a7fb51b8-215a-463b-bd52-b8fbf9da1c3f\",\"type\":\"ColumnDataSource\"},\"glyph\":{\"id\":\"c82275a9-12f7-4c46-b734-72a0ceeff697\",\"type\":\"Circle\"},\"hover_glyph\":null,\"muted_glyph\":null,\"nonselection_glyph\":{\"id\":\"7c84884d-1fc5-4ccd-a539-584efb5b25a2\",\"type\":\"Circle\"},\"selection_glyph\":null,\"view\":{\"id\":\"62fc4ce1-7740-4a03-af74-7bf3c6a2fb75\",\"type\":\"CDSView\"}},\"id\":\"ea83c015-76b3-444f-a461-dbd3cb7ea38e\",\"type\":\"GlyphRenderer\"},{\"attributes\":{},\"id\":\"a9db820f-f4d4-4826-8278-eb4f396e579a\",\"type\":\"LinearScale\"},{\"attributes\":{\"plot\":{\"id\":\"4de1fd95-bce4-424c-a838-edf6f85dc01b\",\"subtype\":\"Figure\",\"type\":\"Plot\"},\"ticker\":{\"id\":\"def7b349-3c46-48e3-9251-337bebb5526a\",\"type\":\"BasicTicker\"}},\"id\":\"5aa203df-08c2-4bdb-88e8-98241c5e1267\",\"type\":\"Grid\"},{\"attributes\":{\"source\":{\"id\":\"a7fb51b8-215a-463b-bd52-b8fbf9da1c3f\",\"type\":\"ColumnDataSource\"}},\"id\":\"62fc4ce1-7740-4a03-af74-7bf3c6a2fb75\",\"type\":\"CDSView\"},{\"attributes\":{\"axis_label\":\"et coeff. [1/s]\",\"axis_label_text_font_size\":{\"value\":\"18px\"},\"formatter\":{\"id\":\"1b55fbb4-4d9e-41fb-9b32-2d6655dd6551\",\"type\":\"BasicTickFormatter\"},\"plot\":{\"id\":\"4de1fd95-bce4-424c-a838-edf6f85dc01b\",\"subtype\":\"Figure\",\"type\":\"Plot\"},\"ticker\":{\"id\":\"def7b349-3c46-48e3-9251-337bebb5526a\",\"type\":\"BasicTicker\"}},\"id\":\"68cb1379-c218-42cd-822b-a024423a9b71\",\"type\":\"LinearAxis\"},{\"attributes\":{},\"id\":\"15e14beb-2f82-49c5-911f-4fbe94fb3dbd\",\"type\":\"BasicTickFormatter\"},{\"attributes\":{\"callback\":null},\"id\":\"eed64cb3-4cf0-49cf-a8d0-9b1f00b498c1\",\"type\":\"DataRange1d\"},{\"attributes\":{},\"id\":\"def7b349-3c46-48e3-9251-337bebb5526a\",\"type\":\"BasicTicker\"},{\"attributes\":{\"align\":\"center\",\"plot\":null,\"text\":\"Compressibility of soil\",\"text_font_size\":{\"value\":\"22px\"}},\"id\":\"847bbe63-6ac7-46f1-9058-e5793fcd34fa\",\"type\":\"Title\"},{\"attributes\":{\"axis_label\":\"\\u03b7 [m]\",\"axis_label_text_font_size\":{\"value\":\"18px\"},\"formatter\":{\"id\":\"a36955d9-0b11-4815-b3fd-f1068acc658f\",\"type\":\"BasicTickFormatter\"},\"plot\":{\"id\":\"4de1fd95-bce4-424c-a838-edf6f85dc01b\",\"subtype\":\"Figure\",\"type\":\"Plot\"},\"ticker\":{\"id\":\"2ec9b2af-b5ed-4353-99e7-bb818775821e\",\"type\":\"BasicTicker\"}},\"id\":\"0fd064fd-e730-4a47-8b14-dd17afa797ad\",\"type\":\"LinearAxis\"},{\"attributes\":{},\"id\":\"f741934e-e4e4-48a5-b52c-7341d7bc31a6\",\"type\":\"BasicTickFormatter\"},{\"attributes\":{},\"id\":\"2ec9b2af-b5ed-4353-99e7-bb818775821e\",\"type\":\"BasicTicker\"},{\"attributes\":{\"dimension\":1,\"plot\":{\"id\":\"4de1fd95-bce4-424c-a838-edf6f85dc01b\",\"subtype\":\"Figure\",\"type\":\"Plot\"},\"ticker\":{\"id\":\"2ec9b2af-b5ed-4353-99e7-bb818775821e\",\"type\":\"BasicTicker\"}},\"id\":\"40b9179a-7a81-42c2-b582-642a0782e0c0\",\"type\":\"Grid\"},{\"attributes\":{\"callback\":null,\"tooltips\":[[\"(x,y)\",\"($x, $y)\"]]},\"id\":\"0dc3cba5-1184-428d-8324-4cadc521d615\",\"type\":\"HoverTool\"},{\"attributes\":{\"align\":\"center\",\"plot\":null,\"text\":\"Water content at saturation\",\"text_font_size\":{\"value\":\"22px\"}},\"id\":\"2e7a15f9-ccbc-4f16-97ea-6f13d7d64bc1\",\"type\":\"Title\"},{\"attributes\":{\"below\":[{\"id\":\"6d2c4cad-7cf1-4d9d-808a-1be296dc6123\",\"type\":\"LinearAxis\"}],\"left\":[{\"id\":\"07ed7d3a-1f06-43ac-935a-b7324c15a92c\",\"type\":\"LinearAxis\"}],\"renderers\":[{\"id\":\"6d2c4cad-7cf1-4d9d-808a-1be296dc6123\",\"type\":\"LinearAxis\"},{\"id\":\"30678f7f-057d-422b-9171-a5ea2954fdd9\",\"type\":\"Grid\"},{\"id\":\"07ed7d3a-1f06-43ac-935a-b7324c15a92c\",\"type\":\"LinearAxis\"},{\"id\":\"51e68e91-fecb-485f-800c-64b2df22981b\",\"type\":\"Grid\"},{\"id\":\"363ffb79-15e3-41b1-ac67-b5623f68b532\",\"type\":\"BoxAnnotation\"},{\"id\":\"34e4bd34-7530-4ad4-9f38-ed03a7350551\",\"type\":\"GlyphRenderer\"}],\"title\":{\"id\":\"2e7a15f9-ccbc-4f16-97ea-6f13d7d64bc1\",\"type\":\"Title\"},\"toolbar\":{\"id\":\"55bac7d9-f465-42fd-a473-1676e3d34b0d\",\"type\":\"Toolbar\"},\"x_range\":{\"id\":\"3b013b4c-d34f-4a33-a17f-650a007be39d\",\"type\":\"DataRange1d\"},\"x_scale\":{\"id\":\"8c7e7a3e-78c3-4c6d-b644-720e3826fd6f\",\"type\":\"LinearScale\"},\"y_range\":{\"id\":\"5058a147-24f0-455d-bf83-0e5b450b053e\",\"type\":\"DataRange1d\"},\"y_scale\":{\"id\":\"de68a19f-f5fb-4b82-a5a6-62fc2ebfca2b\",\"type\":\"LinearScale\"}},\"id\":\"7ac36582-907b-4945-8189-cfd3fabe9a5f\",\"subtype\":\"Figure\",\"type\":\"Plot\"},{\"attributes\":{\"axis_label\":\"\\u03b7 [m]\",\"axis_label_text_font_size\":{\"value\":\"18px\"},\"formatter\":{\"id\":\"dfa19a5a-5083-4b02-970d-26c2c0d57569\",\"type\":\"BasicTickFormatter\"},\"plot\":{\"id\":\"0ad8dcca-2ac9-40b4-b3ef-65baaa34db34\",\"subtype\":\"Figure\",\"type\":\"Plot\"},\"ticker\":{\"id\":\"b275865e-d99a-4cf9-bc5a-3434d0324ecd\",\"type\":\"BasicTicker\"}},\"id\":\"a9b1cb2c-aee9-4f51-96cf-dd25ef055da5\",\"type\":\"LinearAxis\"},{\"attributes\":{\"bottom_units\":\"screen\",\"fill_alpha\":{\"value\":0.5},\"fill_color\":{\"value\":\"lightgrey\"},\"left_units\":\"screen\",\"level\":\"overlay\",\"line_alpha\":{\"value\":1.0},\"line_color\":{\"value\":\"black\"},\"line_dash\":[4,4],\"line_width\":{\"value\":2},\"plot\":null,\"render_mode\":\"css\",\"right_units\":\"screen\",\"top_units\":\"screen\"},\"id\":\"5bfded6e-01c9-4383-a141-6d964d5aa9cc\",\"type\":\"BoxAnnotation\"},{\"attributes\":{\"callback\":null,\"column_names\":[\"x\",\"y\"],\"data\":{\"x\":[0.38,0.38,0.38,0.38,0.38,0.38,0.38,0.38,0.38,0.38,0.38,0.38,0.38,0.38,0.38,0.38,0.38,0.38,0.38,0.38,0.38,0.38,0.38,0.38,0.38,0.38,0.38,0.38,0.38,0.38,0.38,0.38,0.38,0.38,0.38,0.38,0.38,0.38,0.38,0.38,0.38,0.38,0.38,0.38,0.38,0.38,0.38,0.38,0.38,0.38,0.38,0.38,0.38,0.38,0.38,0.38,0.38,0.38,0.38,0.38,0.38,0.38,0.38,0.38,0.38,0.38,0.38,0.38,0.38,0.38,0.38,0.38,0.38,0.38,0.38,0.38,0.38,0.38,0.38,0.38,0.38,0.38,0.38,0.38,0.38,0.38,0.38,0.38,0.38,0.38,0.38,0.38,0.38,0.38,0.38,0.38,0.38,0.38,0.38,0.38,0.38,0.38,0.38,0.38,0.38,0.38,0.38,0.38,0.38,0.38,0.38,0.38,0.38,0.38,0.38,0.38,0.38,0.38,0.38,0.38,0.38,0.38,0.38,0.38,0.38,0.38,0.38,0.38,0.38,0.38,0.38,0.38,0.38,0.38,0.38,0.38,0.38,0.38,0.38,0.38,0.38,0.38,0.38,0.38,0.38,0.38,0.38,0.38,0.38,0.38,0.38,0.38,0.38,0.38,0.38,0.38,0.38,0.38,0.38,0.38,0.38,0.38,0.38,0.38,0.38,0.38,0.38,0.38,0.38,0.38,0.38,0.38,0.38,0.38,0.38,0.38,0.38,0.38,0.38,0.38,0.38,0.38,0.38,0.38,0.38,0.38,0.38,0.38,0.38,0.38,0.38,0.38,0.38,0.38,0.38,0.38,0.38,0.38,0.38,0.38,0.38,0.38,0.38,0.38,0.38,0.38,0.38,0.38,0.38,0.38,0.38,0.38,0.38,0.38,0.38,0.38,0.38,0.38,0.38,0.38,0.38,0.38,0.38,0.38,0.38,0.38,0.38,0.38,0.38,0.38,0.38,0.38,0.38,0.38,0.38,0.38,0.38,0.38,0.38,0.38,0.38,0.38,0.38,0.38,0.38,0.38,0.38,0.38,0.38,0.38,0.38,0.38,0.38,0.38,0.38,0.38,0.38,0.38,0.38,0.38,0.38,0.38,0.38,0.38,0.38,0.38,0.38,0.38,0.38,0.38,0.38,0.38,0.38,0.38,0.38,0.38,0.38,0.38,0.38,0.38,0.38,0.38,0.38,0.38,0.38,0.38,0.38,0.38,0.38,0.38,0.38,0.38,0.38,0.38,0.38,0.38,0.38,0.38,0.38,0.38,0.38,0.38,0.38,0.38,0.38,0.38,0.38,0.38,0.38,0.38,0.38,0.38,0.38,0.38,0.38,0.38,0.38,0.38,0.38,0.38],\"y\":{\"__ndarray__\":\"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\",\"dtype\":\"float64\",\"shape\":[320]}},\"selected\":null,\"selection_policy\":null},\"id\":\"bb71fea0-103b-4db1-a1ef-df8c949a7a35\",\"type\":\"ColumnDataSource\"},{\"attributes\":{\"callback\":null,\"column_names\":[\"x\",\"y\"],\"data\":{\"x\":[0,0,0,0,0,0,0,0,0,0,0,0,0,0,0,0,0,0,0,0,0,0,0,0,0,0,0,0,0,0,0,0,0,0,0,0,0,0,0,0,0,0,0,0,0,0,0,0,0,0,0,0,0,0,0,0,0,0,0,0,0,0,0,0,0,0,0,0,0,0,0,0,0,0,0,0,0,0,0,0,0,0,0,0,0,0,0,0,0,0,0,0,0,0,0,0,0,0,0,0,0,0,0,0,0,0,0,0,0,0,0,0,0,0,0,0,0,0,0,0,0,0,0,0,0,0,0,0,0,0,0,0,0,0,0,0,0,0,0,0,0,0,0,0,0,0,0,0,0,0,0,0,0,0,0,0,0,0,0,0,0,0,0,0,0,0,0,0,0,0,0,0,0,0,0,0,0,0,0,0,0,0,0,0,0,0,0,0,0,0,0,0,0,0,0,0,0,0,0,0,0,0,0,0,0,0,0,0,0,0,0,0,0,0,0,0,0,0,0,0,0,0,0,0,0,0,0,0,0,0,0,0,0,0,0,0,0,0,0,0,0,0,0,0,0,0,0,0,0,0,0,0,0,0,0,0,0,0,0,0,0,0,0,0,0,0,0,0,0,0,0,0,0,0,0,0,0,0,0,0,0,0,0,0,0,0,0,0,0,0,0,0,0,0,0,0,0,0,0,0,0,0,0,0,0,0,0,0,0,0,0,0,0,0,0,0,0,0,0,0],\"y\":{\"__ndarray__\":\"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\",\"dtype\":\"float64\",\"shape\":[320]}},\"selected\":null,\"selection_policy\":null},\"id\":\"684aece6-7fb5-498d-a718-ee1b4c712da0\",\"type\":\"ColumnDataSource\"},{\"attributes\":{},\"id\":\"27aad9f7-7726-4021-b163-457653e62110\",\"type\":\"PanTool\"},{\"attributes\":{\"below\":[{\"id\":\"22d1fa71-1c4e-44da-92df-a0fd3a060db9\",\"type\":\"LinearAxis\"}],\"left\":[{\"id\":\"a9b1cb2c-aee9-4f51-96cf-dd25ef055da5\",\"type\":\"LinearAxis\"}],\"renderers\":[{\"id\":\"22d1fa71-1c4e-44da-92df-a0fd3a060db9\",\"type\":\"LinearAxis\"},{\"id\":\"879b6869-4fe1-4d0f-b2e5-62556858c187\",\"type\":\"Grid\"},{\"id\":\"a9b1cb2c-aee9-4f51-96cf-dd25ef055da5\",\"type\":\"LinearAxis\"},{\"id\":\"65abd4be-73ff-4847-9a26-4664ea924202\",\"type\":\"Grid\"},{\"id\":\"a82bbdf3-ea56-4361-9015-33bf67560b53\",\"type\":\"BoxAnnotation\"},{\"id\":\"60679497-5c59-4452-8c51-874c0049aab8\",\"type\":\"GlyphRenderer\"}],\"title\":{\"id\":\"847bbe63-6ac7-46f1-9058-e5793fcd34fa\",\"type\":\"Title\"},\"toolbar\":{\"id\":\"09be0f29-b8e2-4df2-a5e3-296964e9a16f\",\"type\":\"Toolbar\"},\"x_range\":{\"id\":\"eed64cb3-4cf0-49cf-a8d0-9b1f00b498c1\",\"type\":\"DataRange1d\"},\"x_scale\":{\"id\":\"08ec868f-11da-4ba1-a4d7-c5f50b89bb46\",\"type\":\"LinearScale\"},\"y_range\":{\"id\":\"45923f5c-5fa8-4a8a-ad57-faba37dc809d\",\"type\":\"DataRange1d\"},\"y_scale\":{\"id\":\"f10cbec0-6da6-4717-812f-db5f5374ccf1\",\"type\":\"LinearScale\"}},\"id\":\"0ad8dcca-2ac9-40b4-b3ef-65baaa34db34\",\"subtype\":\"Figure\",\"type\":\"Plot\"},{\"attributes\":{},\"id\":\"8c7e7a3e-78c3-4c6d-b644-720e3826fd6f\",\"type\":\"LinearScale\"},{\"attributes\":{\"source\":{\"id\":\"b4af53e1-7fb0-4f7a-8445-632117c00413\",\"type\":\"ColumnDataSource\"}},\"id\":\"5edd6389-855c-49a1-866a-9700aa81e384\",\"type\":\"CDSView\"},{\"attributes\":{\"active_drag\":\"auto\",\"active_inspect\":\"auto\",\"active_scroll\":\"auto\",\"active_tap\":\"auto\",\"tools\":[{\"id\":\"0dc3cba5-1184-428d-8324-4cadc521d615\",\"type\":\"HoverTool\"},{\"id\":\"9545df2a-4646-4fb5-bd5f-a2063517b6c0\",\"type\":\"PanTool\"},{\"id\":\"c8e5aafc-3d41-49ea-8690-64b6ca081453\",\"type\":\"WheelZoomTool\"},{\"id\":\"28d7282b-d16f-4e69-9a46-a6c12c389b20\",\"type\":\"BoxZoomTool\"},{\"id\":\"54abd0a1-a1b4-4d02-904e-1dc2adc7c098\",\"type\":\"ResetTool\"}]},\"id\":\"09be0f29-b8e2-4df2-a5e3-296964e9a16f\",\"type\":\"Toolbar\"},{\"attributes\":{},\"id\":\"65d94715-967d-492e-9e8e-013ddef1b02c\",\"type\":\"BasicTicker\"},{\"attributes\":{},\"id\":\"5b5fac6e-6729-4467-9048-a3c16dd217c5\",\"type\":\"WheelZoomTool\"},{\"attributes\":{\"plot\":{\"id\":\"7ac36582-907b-4945-8189-cfd3fabe9a5f\",\"subtype\":\"Figure\",\"type\":\"Plot\"},\"ticker\":{\"id\":\"8dfb5b80-17d1-4837-9d08-7f0e812661b2\",\"type\":\"BasicTicker\"}},\"id\":\"30678f7f-057d-422b-9171-a5ea2954fdd9\",\"type\":\"Grid\"},{\"attributes\":{\"callback\":null},\"id\":\"45923f5c-5fa8-4a8a-ad57-faba37dc809d\",\"type\":\"DataRange1d\"},{\"attributes\":{\"overlay\":{\"id\":\"5bfded6e-01c9-4383-a141-6d964d5aa9cc\",\"type\":\"BoxAnnotation\"}},\"id\":\"0d30379b-40c4-4f54-977b-09150900eca9\",\"type\":\"BoxZoomTool\"},{\"attributes\":{},\"id\":\"de68a19f-f5fb-4b82-a5a6-62fc2ebfca2b\",\"type\":\"LinearScale\"},{\"attributes\":{},\"id\":\"08ec868f-11da-4ba1-a4d7-c5f50b89bb46\",\"type\":\"LinearScale\"},{\"attributes\":{},\"id\":\"a9b6a350-2572-4ed6-878e-91cfa5f41571\",\"type\":\"ResetTool\"},{\"attributes\":{\"active_drag\":\"auto\",\"active_inspect\":\"auto\",\"active_scroll\":\"auto\",\"active_tap\":\"auto\",\"tools\":[{\"id\":\"0dc3cba5-1184-428d-8324-4cadc521d615\",\"type\":\"HoverTool\"},{\"id\":\"630eae8e-49aa-448b-b277-aca5f64d5fcd\",\"type\":\"PanTool\"},{\"id\":\"3c25d363-5fd2-47f7-9584-fb2c741bd863\",\"type\":\"WheelZoomTool\"},{\"id\":\"fa6478ec-60ea-402e-a14c-3d2104bb41c9\",\"type\":\"BoxZoomTool\"},{\"id\":\"d0b0617e-74a7-47d8-a49d-125873f40ad8\",\"type\":\"ResetTool\"}]},\"id\":\"55bac7d9-f465-42fd-a473-1676e3d34b0d\",\"type\":\"Toolbar\"},{\"attributes\":{},\"id\":\"f10cbec0-6da6-4717-812f-db5f5374ccf1\",\"type\":\"LinearScale\"},{\"attributes\":{\"fill_color\":{\"value\":\"red\"},\"line_color\":{\"value\":\"red\"},\"line_width\":{\"value\":1.5},\"x\":{\"field\":\"x\"},\"y\":{\"field\":\"y\"}},\"id\":\"4ceeb2f0-cea7-4c4b-b095-fab26354c72a\",\"type\":\"Circle\"},{\"attributes\":{\"axis_label\":\" water content at saturation [-]\",\"axis_label_text_font_size\":{\"value\":\"18px\"},\"formatter\":{\"id\":\"1bd7b087-fd45-4c8e-8bc8-f6ae35b9c4e5\",\"type\":\"BasicTickFormatter\"},\"plot\":{\"id\":\"7ac36582-907b-4945-8189-cfd3fabe9a5f\",\"subtype\":\"Figure\",\"type\":\"Plot\"},\"ticker\":{\"id\":\"8dfb5b80-17d1-4837-9d08-7f0e812661b2\",\"type\":\"BasicTicker\"}},\"id\":\"6d2c4cad-7cf1-4d9d-808a-1be296dc6123\",\"type\":\"LinearAxis\"},{\"attributes\":{\"plot\":{\"id\":\"0ad8dcca-2ac9-40b4-b3ef-65baaa34db34\",\"subtype\":\"Figure\",\"type\":\"Plot\"},\"ticker\":{\"id\":\"3bed5142-fc32-4a2a-8486-1e1db261a28d\",\"type\":\"BasicTicker\"}},\"id\":\"879b6869-4fe1-4d0f-b2e5-62556858c187\",\"type\":\"Grid\"},{\"attributes\":{\"fill_alpha\":{\"value\":0.1},\"fill_color\":{\"value\":\"#1f77b4\"},\"line_alpha\":{\"value\":0.1},\"line_color\":{\"value\":\"#1f77b4\"},\"line_width\":{\"value\":1.5},\"x\":{\"field\":\"x\"},\"y\":{\"field\":\"y\"}},\"id\":\"77716a8a-8166-4273-9a2a-34628876de8f\",\"type\":\"Circle\"},{\"attributes\":{\"axis_label\":\"\\u03b1 [1/Pa]\",\"axis_label_text_font_size\":{\"value\":\"18px\"},\"formatter\":{\"id\":\"e9274338-b373-45ef-87c6-a653ee953b52\",\"type\":\"BasicTickFormatter\"},\"plot\":{\"id\":\"0ad8dcca-2ac9-40b4-b3ef-65baaa34db34\",\"subtype\":\"Figure\",\"type\":\"Plot\"},\"ticker\":{\"id\":\"3bed5142-fc32-4a2a-8486-1e1db261a28d\",\"type\":\"BasicTicker\"}},\"id\":\"22d1fa71-1c4e-44da-92df-a0fd3a060db9\",\"type\":\"LinearAxis\"},{\"attributes\":{\"axis_label\":\"\\u03b7 [m]\",\"axis_label_text_font_size\":{\"value\":\"18px\"},\"formatter\":{\"id\":\"2ff9f238-a5aa-4ed9-b4fd-8e8f21e0ceec\",\"type\":\"BasicTickFormatter\"},\"plot\":{\"id\":\"7ac36582-907b-4945-8189-cfd3fabe9a5f\",\"subtype\":\"Figure\",\"type\":\"Plot\"},\"ticker\":{\"id\":\"65d94715-967d-492e-9e8e-013ddef1b02c\",\"type\":\"BasicTicker\"}},\"id\":\"07ed7d3a-1f06-43ac-935a-b7324c15a92c\",\"type\":\"LinearAxis\"}],\"root_ids\":[\"2010b961-9948-4d02-8678-b8e2ee1e706a\"]},\"title\":\"Bokeh Application\",\"version\":\"0.12.15\"}};\n",
       "  var render_items = [{\"docid\":\"dc476cbd-1828-4c27-a869-7fc619d7c550\",\"elementid\":\"26408a58-2a47-4eea-957d-6c361f0a1314\",\"modelid\":\"2010b961-9948-4d02-8678-b8e2ee1e706a\"}];\n",
       "  root.Bokeh.embed.embed_items_notebook(docs_json, render_items);\n",
       "\n",
       "  }\n",
       "  if (root.Bokeh !== undefined) {\n",
       "    embed_document(root);\n",
       "  } else {\n",
       "    var attempts = 0;\n",
       "    var timer = setInterval(function(root) {\n",
       "      if (root.Bokeh !== undefined) {\n",
       "        embed_document(root);\n",
       "        clearInterval(timer);\n",
       "      }\n",
       "      attempts++;\n",
       "      if (attempts > 100) {\n",
       "        console.log(\"Bokeh: ERROR: Unable to run BokehJS code because BokehJS library is missing\")\n",
       "        clearInterval(timer);\n",
       "      }\n",
       "    }, 10, root)\n",
       "  }\n",
       "})(window);"
      ],
      "application/vnd.bokehjs_exec.v0+json": ""
     },
     "metadata": {
      "application/vnd.bokehjs_exec.v0+json": {
       "id": "2010b961-9948-4d02-8678-b8e2ee1e706a"
      }
     },
     "output_type": "display_data"
    }
   ],
   "source": [
    "\n",
    "hover = HoverTool(tooltips=[\n",
    "    (\"(x,y)\", \"($x, $y)\"),\n",
    "])\n",
    "\n",
    "p1 = figure(plot_width=600, plot_height=600,tools=['pan,wheel_zoom,box_zoom,reset',hover],\n",
    "           title=\"Mouse over the dots\")\n",
    "\n",
    "p1.scatter(thetaS, eta[0:np.size(eta)-1], color=\"blue\", line_width=lineWidth)\n",
    "p1.xaxis.axis_label = ' water content at saturation [-]'\n",
    "p1.xaxis.axis_label_text_font_size = str(labelSize) + \"px\"\n",
    "p1.yaxis.axis_label = '\\u03b7 [m]'\n",
    "p1.yaxis.axis_label_text_font_size = str(labelSize) + \"px\"\n",
    "p1.title.text = 'Water content at saturation'\n",
    "p1.title.align = \"center\"\n",
    "p1.title.text_font_size = str(titleSize) + \"px\"\n",
    "tab1 = Panel(child=p1, title=\"Theta_s\")\n",
    "\n",
    "p2 = figure(plot_width=600, plot_height=600,tools=['pan,wheel_zoom,box_zoom,reset',hover],\n",
    "           title=\"Mouse over the dots\")\n",
    "p2.scatter(thetaR, eta[0:np.size(eta)-1],line_width=lineWidth, color=\"red\")\n",
    "p2.xaxis.axis_label = 'residual water content [-]'\n",
    "p2.xaxis.axis_label_text_font_size = str(labelSize) + \"px\"\n",
    "p2.yaxis.axis_label = '\\u03b7 [m]'\n",
    "p2.yaxis.axis_label_text_font_size = str(labelSize) + \"px\"\n",
    "p2.title.text = 'Residual water content'\n",
    "p2.title.align = \"center\"\n",
    "p2.title.text_font_size = str(titleSize) + \"px\"\n",
    "tab2 = Panel(child=p2, title=\"Theta_r\")\n",
    "\n",
    "p3 = figure(plot_width=600, plot_height=600,tools=['pan,wheel_zoom,box_zoom,reset',hover],\n",
    "           title=\"Mouse over the dots\" )\n",
    "p3.scatter(Ks, eta[0:np.size(eta)-1],line_width=lineWidth, color=\"red\")\n",
    "p3.xaxis.axis_label = 'Ks [m/s]'\n",
    "p3.xaxis.axis_label_text_font_size = str(labelSize) + \"px\"\n",
    "p3.yaxis.axis_label = '\\u03b7 [m]'\n",
    "p3.yaxis.axis_label_text_font_size = str(labelSize) + \"px\"\n",
    "p3.title.text = 'Saturated hydraulic conductivity'\n",
    "p3.title.align = \"center\"\n",
    "p3.title.text_font_size = str(titleSize) + \"px\"\n",
    "tab3= Panel(child=p3, title=\"Ks\")\n",
    "\n",
    "p4 = figure(plot_width=600, plot_height=600,tools=['pan,wheel_zoom,box_zoom,reset',hover],\n",
    "           title=\"Mouse over the dots\" )\n",
    "p4.scatter(par1SWRC, eta[0:np.size(eta)-1],line_width=lineWidth, color=\"red\")\n",
    "p4.xaxis.axis_label = ' '\n",
    "p4.xaxis.axis_label_text_font_size = str(labelSize) + \"px\"\n",
    "p4.yaxis.axis_label = '\\u03b7 [m]'\n",
    "p4.yaxis.axis_label_text_font_size = str(labelSize) + \"px\"\n",
    "p4.title.text = 'SWRC parameter 2'\n",
    "p4.title.align = \"center\"\n",
    "p4.title.text_font_size = str(titleSize) + \"px\"\n",
    "tab4= Panel(child=p4, title=\"SWRC par1\")\n",
    "\n",
    "p5 = figure(plot_width=600, plot_height=600,tools=['pan,wheel_zoom,box_zoom,reset',hover],\n",
    "           title=\"Mouse over the dots\" )\n",
    "p5.scatter(par2SWRC, eta[0:np.size(eta)-1],line_width=lineWidth, color=\"red\")\n",
    "p5.xaxis.axis_label = ' '\n",
    "p5.xaxis.axis_label_text_font_size = str(labelSize) + \"px\"\n",
    "p5.yaxis.axis_label = '\\u03b7 [m]'\n",
    "p5.yaxis.axis_label_text_font_size = str(labelSize) + \"px\"\n",
    "p5.title.text = 'SWRC parameter 2'\n",
    "p5.title.align = \"center\"\n",
    "p5.title.text_font_size = str(titleSize) + \"px\"\n",
    "tab5= Panel(child=p5, title=\"SWRC par2\")\n",
    "\n",
    "p6 = figure(plot_width=600, plot_height=600,tools=['pan,wheel_zoom,box_zoom,reset',hover],\n",
    "           title=\"Mouse over the dots\" )\n",
    "p6.scatter(par3SWRC, eta[0:np.size(eta)-1],line_width=lineWidth, color=\"red\")\n",
    "p6.xaxis.axis_label = '\\u03b1 [1/Pa]'\n",
    "p6.xaxis.axis_label_text_font_size = str(labelSize) + \"px\"\n",
    "p6.yaxis.axis_label = '\\u03b7 [m]'\n",
    "p6.yaxis.axis_label_text_font_size = str(labelSize) + \"px\"\n",
    "p6.title.text = 'Compressibility of soil'\n",
    "p6.title.align = \"center\"\n",
    "p6.title.text_font_size = str(titleSize) + \"px\"\n",
    "tab6= Panel(child=p6, title=\"\\u03b1\")\n",
    "\n",
    "p7 = figure(plot_width=600, plot_height=600,tools=['pan,wheel_zoom,box_zoom,reset',hover],\n",
    "           title=\"Mouse over the dots\" )\n",
    "p7.scatter(par4SWRC, eta[0:np.size(eta)-1],line_width=lineWidth, color=\"red\")\n",
    "p7.xaxis.axis_label = '\\u03b2 [1/Pa]'\n",
    "p7.xaxis.axis_label_text_font_size = str(labelSize) + \"px\"\n",
    "p7.yaxis.axis_label = '\\u03b7 [m]'\n",
    "p7.yaxis.axis_label_text_font_size = str(labelSize) + \"px\"\n",
    "p7.title.text = 'Compressibility of water'\n",
    "p7.title.align = \"center\"\n",
    "p7.title.text_font_size = str(titleSize) + \"px\"\n",
    "tab7= Panel(child=p7, title=\"\\u03b2\")\n",
    "\n",
    "p8 = figure(plot_width=600, plot_height=600,tools=['pan,wheel_zoom,box_zoom,reset',hover],\n",
    "           title=\"Mouse over the dots\" )\n",
    "p8.scatter(et, eta,line_width=lineWidth, color=\"red\")\n",
    "p8.xaxis.axis_label = 'et coeff. [1/s]'\n",
    "p8.xaxis.axis_label_text_font_size = str(labelSize) + \"px\"\n",
    "p8.yaxis.axis_label = '\\u03b7 [m]'\n",
    "p8.yaxis.axis_label_text_font_size = str(labelSize) + \"px\"\n",
    "p8.title.text = 'Source sink term'\n",
    "p8.title.align = \"center\"\n",
    "p8.title.text_font_size = str(titleSize) + \"px\"\n",
    "tab8= Panel(child=p8, title=\"et\")\n",
    "\n",
    "tabs = Tabs(tabs=[ tab1, tab2, tab3, tab4, tab5, tab6, tab7, tab8 ])\n",
    "show(tabs)"
   ]
  },
  {
   "cell_type": "markdown",
   "metadata": {},
   "source": [
    "## Save data in a NetCDF\n",
    "\n",
    "All data computed above are saved in NetCDF file"
   ]
  },
  {
   "cell_type": "code",
   "execution_count": 31,
   "metadata": {},
   "outputs": [],
   "source": [
    "## enter the following string to write your NetCDF\n",
    "\n",
    "fileName = \"C:\\\\Users\\\\Niccolo\\\\OMS\\\\OMS_Project_Richards1D_Newest\\\\data\\\\Grid_NetCDF\\\\Sand_01Ponding.nc\"\n",
    "\n",
    "## file attributes\n",
    "\n",
    "title = '''Grid 1 layer sand with 0.1m ponding water, hydrostatic psi in soil, \n",
    "            thetaS =  0.38, thetaR = 0.02, Ks = 0.003697, alphaSpecificStorage = 0, betaSpecificStorage = 0\n",
    "            VG model: n = 1.16, alpha = 1.47 m_1 storativity\n",
    "            inputfile: data\\\\RichardMeshGen_input\\\\Sand_01Ponding.csv'''\n",
    "institution = 'Geoframe'\n",
    "summary = 'This file stores all grid information (geometry, soiAll data computed above are saved in NetCDF file'\n",
    "date = '5/22/2018' \n"
   ]
  },
  {
   "cell_type": "code",
   "execution_count": 32,
   "metadata": {
    "scrolled": false
   },
   "outputs": [
    {
     "name": "stdout",
     "output_type": "stream",
     "text": [
      "*** SUCCESS writing!  C:\\Users\\Niccolo\\OMS\\OMS_Project_Richards1D_Newest\\data\\Grid_NetCDF\\___Sand_01Ponding.nc\n"
     ]
    }
   ],
   "source": [
    "\n",
    "from netCDF4 import Dataset\n",
    "\n",
    "\n",
    "\n",
    "# the output array to write will be nx x ny\n",
    "dim = np.size(eta);\n",
    "dim1 = np.size(thetaS)\n",
    "# open a new netCDF file for writing.\n",
    "ncfile = Dataset(fileName,'w') \n",
    "\n",
    "# Create global attributes\n",
    "ncfile.title = title\n",
    "ncfile.institution =  institution\n",
    "ncfile.summary = summary\n",
    "#ncfile.acknowledgment = \"\"\n",
    "ncfile.date_created = date\n",
    "\n",
    "\n",
    "# create the z dimensions.\n",
    "ncfile.createDimension('z',dim)\n",
    "ncfile.createDimension('zz',dim1)\n",
    "\n",
    "# create the variable\n",
    "# first argument is name of variable, second is datatype, third is\n",
    "# a tuple with the names of dimensions.\n",
    "dataEta = ncfile.createVariable('eta','f8',('z'))\n",
    "dataEta.unit = 'm'\n",
    "dataEta.long_name = '\\u03b7 coordinate of volume centroids: zero is at soil surface and and positive upward'\n",
    "\n",
    "dataEtaDual = ncfile.createVariable('etaDual','f8',('z'))\n",
    "dataEtaDual.unit = 'm'\n",
    "dataEtaDual.long_name = '\\u03b7 coordinate of volume interfaces: zero is at soil surface and and positive upward. '\n",
    "\n",
    "dataZ = ncfile.createVariable('z','f8',('z'))\n",
    "dataZ.unit = 'm'\n",
    "dataZ.long_name = 'z coordinate  of volume centroids: zero is at the bottom of the column and and positive upward'\n",
    "\n",
    "dataZDual = ncfile.createVariable('zDual','f8',('z'))\n",
    "dataZDual.unit = 'm'\n",
    "dataZDual.long_name = 'z coordinate of volume interfaces: zero is at soil surface and and positive upward.'\n",
    "\n",
    "\n",
    "dataPsiIC = ncfile.createVariable('psiIC','f8',('z'))\n",
    "dataPsiIC.units = 'm'\n",
    "dataPsiIC.long_name = 'initial condition for water suction'\n",
    "\n",
    "dataSpaceDelta = ncfile.createVariable('spaceDelta','f8',('z'))\n",
    "dataSpaceDelta.unit = 'm'\n",
    "dataSpaceDelta.long_name = 'Distance between consecutive controids, is used to compute gradients'\n",
    "\n",
    "dataEt = ncfile.createVariable('et','f8',('z'))\n",
    "dataEt.units = '1/s'\n",
    "dataEt.long_name = 'Coefficient to simulate ET'\n",
    "\n",
    "\n",
    "\n",
    "\n",
    "dataDeltaZ = ncfile.createVariable('deltaZ','f8',('zz'))\n",
    "dataDeltaZ.unit = 'm'\n",
    "dataDeltaZ.long_name = 'Length of each control volume'\n",
    "\n",
    "dataThetaS = ncfile.createVariable('thetaS','f8',('zz'))\n",
    "dataThetaS.units = '-'\n",
    "dataThetaS.long_name = 'adimensional water content at saturation'\n",
    "\n",
    "dataThetaR = ncfile.createVariable('thetaR','f8',('zz'))\n",
    "dataThetaR.units = '-'\n",
    "dataThetaR.long_name = 'adimensional residual water content'\n",
    "\n",
    "dataKs = ncfile.createVariable('Ks','f8',('zz'))\n",
    "dataKs.units = 'm/s'\n",
    "dataKs.long_name = 'hydraulic conductivity at saturation'\n",
    "\n",
    "## enter the long_name of par1SWRC, as an example  Parameter n of Van Genuchten model\n",
    "dataPar1SWRC = ncfile.createVariable('par1SWRC','f8',('zz'))\n",
    "dataPar1SWRC.units = '-'\n",
    "dataPar1SWRC.long_name = 'Parameter n of Van Genuchten model'\n",
    "\n",
    "## enter the long_name of par2SWRC, as an example  Parameter alpha of Van Genuchten model\n",
    "dataPar2SWRC = ncfile.createVariable('par2SWRC','f8',('zz'))\n",
    "dataPar2SWRC.units = '1/m'\n",
    "dataPar2SWRC.long_name = 'Parameter alpha of Van Genuchten model'\n",
    "\n",
    "dataPar3SWRC = ncfile.createVariable('par3SWRC','f8',('zz'))\n",
    "dataPar3SWRC.units = '1/Pa'\n",
    "dataPar3SWRC.long_name = 'Aquitard compressibility'\n",
    "\n",
    "dataPar4SWRC = ncfile.createVariable('par4SWRC','f8',('zz'))\n",
    "dataPar4SWRC.units = '1/Pa'\n",
    "dataPar4SWRC.long_name = 'Water compressibility'\n",
    "\n",
    "\n",
    "\n",
    "# write data to variable.\n",
    "for i in range(0,dim):\n",
    "    dataEta[i] = eta[i]\n",
    "    dataEtaDual[i] = etaDual[i]\n",
    "    dataZ[i] = z[i]\n",
    "    dataZDual[i] = zDual[i]\n",
    "    dataPsiIC[i] = psiIC[i]\n",
    "    dataSpaceDelta[i] = spaceDelta[i]\n",
    "    dataEt[i] = et[i]\n",
    "   \n",
    "\n",
    "for i in range(0,dim1):\n",
    "    dataDeltaZ[i] = length[i]\n",
    "    dataThetaS[i] = thetaS[i]\n",
    "    dataThetaR[i] = thetaR[i]\n",
    "    dataKs[i] = Ks[i]\n",
    "    dataPar1SWRC[i] = par1SWRC[i]\n",
    "    dataPar2SWRC[i] = par2SWRC[i]\n",
    "    dataPar3SWRC[i] = par3SWRC[i]\n",
    "    dataPar4SWRC[i] = par4SWRC[i]\n",
    "   \n",
    "    \n",
    "## close the file.\n",
    "ncfile.close()\n",
    "print ('*** SUCCESS writing!  '+fileName)\n"
   ]
  },
  {
   "cell_type": "code",
   "execution_count": null,
   "metadata": {},
   "outputs": [],
   "source": []
  }
 ],
 "metadata": {
  "kernelspec": {
   "display_name": "Python 3",
   "language": "python",
   "name": "python3"
  },
  "language_info": {
   "codemirror_mode": {
    "name": "ipython",
    "version": 3
   },
   "file_extension": ".py",
   "mimetype": "text/x-python",
   "name": "python",
   "nbconvert_exporter": "python",
   "pygments_lexer": "ipython3",
   "version": "3.6.3"
  }
 },
 "nbformat": 4,
 "nbformat_minor": 2
}
