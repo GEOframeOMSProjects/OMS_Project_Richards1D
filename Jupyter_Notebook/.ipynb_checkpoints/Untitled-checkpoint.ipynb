{
 "cells": [
  {
   "cell_type": "code",
   "execution_count": 1,
   "metadata": {},
   "outputs": [],
   "source": [
    "import pandas as pd\n",
    "import numpy as np"
   ]
  },
  {
   "cell_type": "code",
   "execution_count": 3,
   "metadata": {},
   "outputs": [
    {
     "ename": "IndexError",
     "evalue": "index 800 is out of bounds for axis 0 with size 800",
     "output_type": "error",
     "traceback": [
      "\u001b[1;31m---------------------------------------------------------------------------\u001b[0m",
      "\u001b[1;31mIndexError\u001b[0m                                Traceback (most recent call last)",
      "\u001b[1;32m<ipython-input-3-6e72f36ae97d>\u001b[0m in \u001b[0;36m<module>\u001b[1;34m()\u001b[0m\n\u001b[0;32m     13\u001b[0m \u001b[1;33m\u001b[0m\u001b[0m\n\u001b[0;32m     14\u001b[0m \u001b[1;32mfor\u001b[0m \u001b[0mx\u001b[0m \u001b[1;32min\u001b[0m \u001b[0mzeros\u001b[0m\u001b[1;33m:\u001b[0m\u001b[1;33m\u001b[0m\u001b[0m\n\u001b[1;32m---> 15\u001b[1;33m     \u001b[0max\u001b[0m\u001b[1;33m.\u001b[0m\u001b[0maxvline\u001b[0m\u001b[1;33m(\u001b[0m\u001b[0mdf\u001b[0m\u001b[1;33m.\u001b[0m\u001b[0mindex\u001b[0m\u001b[1;33m[\u001b[0m\u001b[0mx\u001b[0m\u001b[1;33m]\u001b[0m\u001b[1;33m,\u001b[0m \u001b[0mcolor\u001b[0m\u001b[1;33m=\u001b[0m\u001b[1;34m'y'\u001b[0m\u001b[1;33m,\u001b[0m\u001b[0mlinewidth\u001b[0m\u001b[1;33m=\u001b[0m\u001b[1;36m5\u001b[0m\u001b[1;33m,\u001b[0m\u001b[0malpha\u001b[0m\u001b[1;33m=\u001b[0m\u001b[1;36m0.03\u001b[0m\u001b[1;33m)\u001b[0m\u001b[1;33m\u001b[0m\u001b[0m\n\u001b[0m\u001b[0;32m     16\u001b[0m \u001b[1;32mfor\u001b[0m \u001b[0mx\u001b[0m \u001b[1;32min\u001b[0m \u001b[0mpos_1\u001b[0m\u001b[1;33m:\u001b[0m\u001b[1;33m\u001b[0m\u001b[0m\n\u001b[0;32m     17\u001b[0m      \u001b[0max\u001b[0m\u001b[1;33m.\u001b[0m\u001b[0maxvline\u001b[0m\u001b[1;33m(\u001b[0m\u001b[0mdf\u001b[0m\u001b[1;33m.\u001b[0m\u001b[0mindex\u001b[0m\u001b[1;33m[\u001b[0m\u001b[0mx\u001b[0m\u001b[1;33m]\u001b[0m\u001b[1;33m,\u001b[0m \u001b[0mcolor\u001b[0m\u001b[1;33m=\u001b[0m\u001b[1;34m'g'\u001b[0m\u001b[1;33m,\u001b[0m\u001b[0mlinewidth\u001b[0m\u001b[1;33m=\u001b[0m\u001b[1;36m5\u001b[0m\u001b[1;33m,\u001b[0m\u001b[0malpha\u001b[0m\u001b[1;33m=\u001b[0m\u001b[1;36m0.03\u001b[0m\u001b[1;33m)\u001b[0m\u001b[1;33m\u001b[0m\u001b[0m\n",
      "\u001b[1;32m~\\Anaconda3\\lib\\site-packages\\pandas\\core\\indexes\\datetimelike.py\u001b[0m in \u001b[0;36m__getitem__\u001b[1;34m(self, key)\u001b[0m\n\u001b[0;32m    269\u001b[0m         \u001b[0mgetitem\u001b[0m \u001b[1;33m=\u001b[0m \u001b[0mself\u001b[0m\u001b[1;33m.\u001b[0m\u001b[0m_data\u001b[0m\u001b[1;33m.\u001b[0m\u001b[0m__getitem__\u001b[0m\u001b[1;33m\u001b[0m\u001b[0m\n\u001b[0;32m    270\u001b[0m         \u001b[1;32mif\u001b[0m \u001b[0mis_int\u001b[0m\u001b[1;33m:\u001b[0m\u001b[1;33m\u001b[0m\u001b[0m\n\u001b[1;32m--> 271\u001b[1;33m             \u001b[0mval\u001b[0m \u001b[1;33m=\u001b[0m \u001b[0mgetitem\u001b[0m\u001b[1;33m(\u001b[0m\u001b[0mkey\u001b[0m\u001b[1;33m)\u001b[0m\u001b[1;33m\u001b[0m\u001b[0m\n\u001b[0m\u001b[0;32m    272\u001b[0m             \u001b[1;32mreturn\u001b[0m \u001b[0mself\u001b[0m\u001b[1;33m.\u001b[0m\u001b[0m_box_func\u001b[0m\u001b[1;33m(\u001b[0m\u001b[0mval\u001b[0m\u001b[1;33m)\u001b[0m\u001b[1;33m\u001b[0m\u001b[0m\n\u001b[0;32m    273\u001b[0m         \u001b[1;32melse\u001b[0m\u001b[1;33m:\u001b[0m\u001b[1;33m\u001b[0m\u001b[0m\n",
      "\u001b[1;32m~\\Anaconda3\\lib\\site-packages\\pandas\\core\\indexes\\datetimelike.py\u001b[0m in \u001b[0;36m__getitem__\u001b[1;34m(self, key)\u001b[0m\n\u001b[0;32m    269\u001b[0m         \u001b[0mgetitem\u001b[0m \u001b[1;33m=\u001b[0m \u001b[0mself\u001b[0m\u001b[1;33m.\u001b[0m\u001b[0m_data\u001b[0m\u001b[1;33m.\u001b[0m\u001b[0m__getitem__\u001b[0m\u001b[1;33m\u001b[0m\u001b[0m\n\u001b[0;32m    270\u001b[0m         \u001b[1;32mif\u001b[0m \u001b[0mis_int\u001b[0m\u001b[1;33m:\u001b[0m\u001b[1;33m\u001b[0m\u001b[0m\n\u001b[1;32m--> 271\u001b[1;33m             \u001b[0mval\u001b[0m \u001b[1;33m=\u001b[0m \u001b[0mgetitem\u001b[0m\u001b[1;33m(\u001b[0m\u001b[0mkey\u001b[0m\u001b[1;33m)\u001b[0m\u001b[1;33m\u001b[0m\u001b[0m\n\u001b[0m\u001b[0;32m    272\u001b[0m             \u001b[1;32mreturn\u001b[0m \u001b[0mself\u001b[0m\u001b[1;33m.\u001b[0m\u001b[0m_box_func\u001b[0m\u001b[1;33m(\u001b[0m\u001b[0mval\u001b[0m\u001b[1;33m)\u001b[0m\u001b[1;33m\u001b[0m\u001b[0m\n\u001b[0;32m    273\u001b[0m         \u001b[1;32melse\u001b[0m\u001b[1;33m:\u001b[0m\u001b[1;33m\u001b[0m\u001b[0m\n",
      "\u001b[1;31mIndexError\u001b[0m: index 800 is out of bounds for axis 0 with size 800"
     ]
    }
   ],
   "source": [
    "dates = pd.date_range('20000101', periods=800)\n",
    "df = pd.DataFrame(index=dates)\n",
    "df['A'] = np.cumsum(np.random.randn(800))  \n",
    "df['B'] = np.random.randint(-1,2,size=800)\n",
    "df['i'] = range(1,801)\n",
    "\n",
    "# getting the row where those values are true wit the 'i' value\n",
    "zeros = df[df['B']== 0]['i'] \n",
    "pos_1 = df[df['B']==1]['i']\n",
    "neg_1 = df[df['B']==-1]['i']\n",
    "\n",
    "ax = df.A.plot()\n",
    "\n",
    "for x in zeros:\n",
    "    ax.axvline(df.index[x], color='y',linewidth=5,alpha=0.03)\n",
    "for x in pos_1:\n",
    "     ax.axvline(df.index[x], color='g',linewidth=5,alpha=0.03)\n",
    "for x in neg_1:\n",
    "     ax.axvline(df.index[x], color='r',linewidth=5,alpha=0.03)"
   ]
  },
  {
   "cell_type": "code",
   "execution_count": 17,
   "metadata": {},
   "outputs": [
    {
     "data": {
      "image/png": "[encoded data removed]",
      "text/plain": [
       "<Figure size 432x288 with 1 Axes>"
      ]
     },
     "metadata": {},
     "output_type": "display_data"
    }
   ],
   "source": [
    "import numpy as np \n",
    "from pandas import DataFrame\n",
    "import matplotlib.pyplot as plt\n",
    "\n",
    "depth = [-2.0,-1.75,-1.5,-1.25,-1.0,-0.75,-0.5,-0.25,0.0]\n",
    "temperature = [10,9,8,7,6,5,4,3,2]\n",
    "df = pd.DataFrame(temperature,depth)\n",
    "df.plot()\n"
   ]
  },
  {
   "cell_type": "code",
   "execution_count": 25,
   "metadata": {},
   "outputs": [
    {
     "ename": "TypeError",
     "evalue": "__init__() missing 1 required positional argument: 'ax'",
     "output_type": "error",
     "traceback": [
      "\u001b[1;31m---------------------------------------------------------------------------\u001b[0m",
      "\u001b[1;31mTypeError\u001b[0m                                 Traceback (most recent call last)",
      "\u001b[1;32m<ipython-input-25-b3a82aafa51f>\u001b[0m in \u001b[0;36m<module>\u001b[1;34m()\u001b[0m\n\u001b[0;32m      6\u001b[0m \u001b[0mcmap\u001b[0m \u001b[1;33m=\u001b[0m \u001b[0mplt\u001b[0m\u001b[1;33m.\u001b[0m\u001b[0mcm\u001b[0m\u001b[1;33m.\u001b[0m\u001b[0mRdYlBu_r\u001b[0m\u001b[1;33m\u001b[0m\u001b[0m\n\u001b[0;32m      7\u001b[0m \u001b[1;31m#cax = fig.add_axes([0.95, 0.2, 0.02, 0.6])\u001b[0m\u001b[1;33m\u001b[0m\u001b[1;33m\u001b[0m\u001b[0m\n\u001b[1;32m----> 8\u001b[1;33m \u001b[0mcb\u001b[0m \u001b[1;33m=\u001b[0m \u001b[0mmpl\u001b[0m\u001b[1;33m.\u001b[0m\u001b[0mcolorbar\u001b[0m\u001b[1;33m.\u001b[0m\u001b[0mColorbarBase\u001b[0m\u001b[1;33m(\u001b[0m \u001b[0mcmap\u001b[0m\u001b[1;33m=\u001b[0m\u001b[0mcmap\u001b[0m\u001b[1;33m,\u001b[0m \u001b[0mnorm\u001b[0m\u001b[1;33m=\u001b[0m\u001b[0mnorm\u001b[0m\u001b[1;33m,\u001b[0m \u001b[0mspacing\u001b[0m\u001b[1;33m=\u001b[0m\u001b[1;34m'proportional'\u001b[0m\u001b[1;33m)\u001b[0m\u001b[1;33m\u001b[0m\u001b[0m\n\u001b[0m\u001b[0;32m      9\u001b[0m \u001b[0mcb\u001b[0m\u001b[1;33m.\u001b[0m\u001b[0mset_label\u001b[0m\u001b[1;33m(\u001b[0m\u001b[1;34m'gdp_md_est'\u001b[0m\u001b[1;33m)\u001b[0m\u001b[1;33m\u001b[0m\u001b[0m\n\u001b[0;32m     10\u001b[0m \u001b[0mplt\u001b[0m\u001b[1;33m.\u001b[0m\u001b[0mshow\u001b[0m\u001b[1;33m(\u001b[0m\u001b[1;33m)\u001b[0m\u001b[1;33m\u001b[0m\u001b[0m\n",
      "\u001b[1;31mTypeError\u001b[0m: __init__() missing 1 required positional argument: 'ax'"
     ]
    }
   ],
   "source": [
    "import matplotlib as mpl\n",
    "fig = plt.pcolor(df)\n",
    "plt.yticks(np.arange(0.5, len(df.index), 1), df.index)\n",
    "plt.xticks(np.arange(0.5, len(df.columns), 1), df.columns)\n",
    "norm = mpl.colors.Normalize(vmin=2, vmax=10)\n",
    "cmap = plt.cm.RdYlBu_r\n",
    "#cax = fig.add_axes([0.95, 0.2, 0.02, 0.6])\n",
    "cb = mpl.colorbar.ColorbarBase( cmap=cmap, norm=norm, spacing='proportional')\n",
    "cb.set_label('gdp_md_est')\n",
    "plt.show()"
   ]
  },
  {
   "cell_type": "code",
   "execution_count": null,
   "metadata": {},
   "outputs": [],
   "source": []
  },
  {
   "cell_type": "code",
   "execution_count": 42,
   "metadata": {},
   "outputs": [
    {
     "data": {
      "image/png": "[encoded data removed]",
      "text/plain": [
       "<Figure size 432x288 with 2 Axes>"
      ]
     },
     "metadata": {},
     "output_type": "display_data"
    }
   ],
   "source": [
    "import numpy as np; np.random.seed(0)\n",
    "import matplotlib.pyplot as plt\n",
    "import matplotlib.colors\n",
    "\n",
    "x = np.arange(0,25)\n",
    "a = np.random.randint(0,130, size=(25,25))-115\n",
    "a = np.sort(a).reshape(25,25)\n",
    "\n",
    "colors = [\"#eaa941\", \"#efef39\", \"#53a447\", \"#3b387f\", \"#48a2ba\"]\n",
    "cmap= matplotlib.colors.ListedColormap(colors)\n",
    "cmap.set_under(\"crimson\")\n",
    "cmap.set_over(\"w\")\n",
    "norm= matplotlib.colors.Normalize(vmin=2,vmax=10)\n",
    "\n",
    "fig, ax = plt.subplots()\n",
    "im = ax.pcolor(df,alpha=0.2)\n",
    "plt.yticks(np.arange(0.5, len(df.index), 1), df.index)\n",
    "plt.xticks(np.arange(0.5, len(df.columns), 1), df.columns,visible=False)\n",
    "fig.colorbar(im, extend=\"both\")\n",
    "\n",
    "plt.show()"
   ]
  },
  {
   "cell_type": "code",
   "execution_count": 39,
   "metadata": {},
   "outputs": [
    {
     "data": {
      "text/html": [
       "<div>\n",
       "<style>\n",
       "    .dataframe thead tr:only-child th {\n",
       "        text-align: right;\n",
       "    }\n",
       "\n",
       "    .dataframe thead th {\n",
       "        text-align: left;\n",
       "    }\n",
       "\n",
       "    .dataframe tbody tr th {\n",
       "        vertical-align: top;\n",
       "    }\n",
       "</style>\n",
       "<table border=\"1\" class=\"dataframe\">\n",
       "  <thead>\n",
       "    <tr style=\"text-align: right;\">\n",
       "      <th></th>\n",
       "      <th>0</th>\n",
       "    </tr>\n",
       "  </thead>\n",
       "  <tbody>\n",
       "    <tr>\n",
       "      <th>-2.00</th>\n",
       "      <td>10</td>\n",
       "    </tr>\n",
       "    <tr>\n",
       "      <th>-1.75</th>\n",
       "      <td>9</td>\n",
       "    </tr>\n",
       "    <tr>\n",
       "      <th>-1.50</th>\n",
       "      <td>8</td>\n",
       "    </tr>\n",
       "    <tr>\n",
       "      <th>-1.25</th>\n",
       "      <td>7</td>\n",
       "    </tr>\n",
       "    <tr>\n",
       "      <th>-1.00</th>\n",
       "      <td>6</td>\n",
       "    </tr>\n",
       "    <tr>\n",
       "      <th>-0.75</th>\n",
       "      <td>5</td>\n",
       "    </tr>\n",
       "    <tr>\n",
       "      <th>-0.50</th>\n",
       "      <td>4</td>\n",
       "    </tr>\n",
       "    <tr>\n",
       "      <th>-0.25</th>\n",
       "      <td>3</td>\n",
       "    </tr>\n",
       "    <tr>\n",
       "      <th>0.00</th>\n",
       "      <td>2</td>\n",
       "    </tr>\n",
       "  </tbody>\n",
       "</table>\n",
       "</div>"
      ],
      "text/plain": [
       "        0\n",
       "-2.00  10\n",
       "-1.75   9\n",
       "-1.50   8\n",
       "-1.25   7\n",
       "-1.00   6\n",
       "-0.75   5\n",
       "-0.50   4\n",
       "-0.25   3\n",
       " 0.00   2"
      ]
     },
     "execution_count": 39,
     "metadata": {},
     "output_type": "execute_result"
    }
   ],
   "source": [
    "df"
   ]
  },
  {
   "cell_type": "code",
   "execution_count": 34,
   "metadata": {},
   "outputs": [
    {
     "data": {
      "image/png": "[encoded data removed]",
      "text/plain": [
       "<Figure size 432x288 with 2 Axes>"
      ]
     },
     "metadata": {},
     "output_type": "display_data"
    }
   ],
   "source": [
    "#https://stackoverflow.com/questions/43197474/how-to-customize-the-colorbar-in-python\n",
    "\n",
    "\n",
    "import numpy as np; np.random.seed(0)\n",
    "import matplotlib.pyplot as plt\n",
    "import matplotlib.colors\n",
    "\n",
    "x = np.arange(0,25)\n",
    "a = np.random.randint(0,130, size=(25,25))-115\n",
    "a = np.sort(a).reshape(25,25)\n",
    "\n",
    "colors = [\"#eaa941\", \"#efef39\", \"#53a447\", \"#3b387f\", \"#48a2ba\"]\n",
    "cmap= matplotlib.colors.ListedColormap(colors)\n",
    "cmap.set_under(\"crimson\")\n",
    "cmap.set_over(\"w\")\n",
    "norm= matplotlib.colors.Normalize(vmin=-100,vmax=-0)\n",
    "\n",
    "fig, ax = plt.subplots()\n",
    "im = ax.contourf(x,x,a, levels=[-100,-80,-60,-40,-20,0],\n",
    "                 extend='both',cmap=cmap, norm=norm)\n",
    "\n",
    "fig.colorbar(im, extend=\"both\")\n",
    "\n",
    "plt.show()"
   ]
  },
  {
   "cell_type": "code",
   "execution_count": 35,
   "metadata": {},
   "outputs": [
    {
     "data": {
      "text/plain": [
       "array([ 0,  1,  2,  3,  4,  5,  6,  7,  8,  9, 10, 11, 12, 13, 14, 15, 16,\n",
       "       17, 18, 19, 20, 21, 22, 23, 24])"
      ]
     },
     "execution_count": 35,
     "metadata": {},
     "output_type": "execute_result"
    }
   ],
   "source": [
    "x"
   ]
  },
  {
   "cell_type": "code",
   "execution_count": 36,
   "metadata": {},
   "outputs": [
    {
     "data": {
      "text/plain": [
       "array([[-106, -106,  -94,  -90,  -86,  -83,  -79,  -76,  -68,  -57,  -48,\n",
       "         -45,  -43,  -38,  -36,  -34,  -33,  -28,  -28,  -27,  -27,  -16,\n",
       "         -12,    0,    2],\n",
       "       [-114, -106, -104,  -98,  -87,  -84,  -84,  -83,  -81,  -80,  -77,\n",
       "         -73,  -62,  -58,  -50,  -36,  -33,  -13,  -10,   -1,    4,    5,\n",
       "          12,   13,   13],\n",
       "       [-115, -109,  -92,  -79,  -68,  -67,  -67,  -66,  -62,  -47,  -46,\n",
       "         -37,  -31,  -30,  -24,  -22,  -21,  -20,  -16,  -15,   -2,    2,\n",
       "           6,   12,   13],\n",
       "       [-115, -113, -105, -104, -101,  -92,  -79,  -74,  -73,  -72,  -72,\n",
       "         -65,  -57,  -53,  -33,  -29,  -17,  -17,  -11,   -3,   -1,    6,\n",
       "           8,   12,   12],\n",
       "       [-113, -112, -102,  -96,  -96,  -91,  -85,  -83,  -77,  -75,  -73,\n",
       "         -64,  -54,  -48,  -43,  -43,  -38,  -35,  -21,  -20,   -8,   -3,\n",
       "           0,   10,   13],\n",
       "       [-111, -104, -102, -101,  -99,  -97,  -90,  -84,  -75,  -74,  -45,\n",
       "         -44,  -40,  -36,  -32,  -29,  -19,  -11,   -6,   -5,    2,    3,\n",
       "           6,    6,    6],\n",
       "       [-113, -112, -104,  -91,  -88,  -86,  -83,  -80,  -80,  -76,  -72,\n",
       "         -71,  -64,  -62,  -48,  -48,  -42,  -22,  -11,   -4,   -4,    3,\n",
       "          10,   10,   14],\n",
       "       [-115, -112, -106,  -88,  -84,  -82,  -81,  -81,  -80,  -79,  -74,\n",
       "         -71,  -69,  -54,  -35,  -30,  -27,  -24,  -18,   -7,   -3,    1,\n",
       "           5,   11,   14],\n",
       "       [-113,  -98,  -97,  -90,  -86,  -85,  -82,  -80,  -79,  -76,  -72,\n",
       "         -71,  -49,  -48,  -46,  -32,  -31,  -30,  -24,  -23,  -14,  -12,\n",
       "          -4,   -1,    2],\n",
       "       [-102,  -99,  -91,  -87,  -74,  -64,  -57,  -52,  -43,  -42,  -34,\n",
       "         -28,  -28,  -26,  -24,  -22,  -22,  -21,  -10,   -9,    1,    1,\n",
       "           5,    8,   13],\n",
       "       [-115, -111, -110, -101,  -97,  -95,  -93,  -90,  -89,  -87,  -83,\n",
       "         -81,  -64,  -64,  -63,  -57,  -54,  -51,  -47,  -41,  -32,  -23,\n",
       "         -10,    2,    7],\n",
       "       [-109, -107, -102, -102,  -97,  -93,  -77,  -71,  -67,  -62,  -60,\n",
       "         -59,  -57,  -56,  -55,  -45,  -45,  -36,  -35,  -28,  -21,   -9,\n",
       "          -1,    6,    9],\n",
       "       [-112, -111, -108,  -95,  -91,  -86,  -85,  -73,  -66,  -62,  -61,\n",
       "         -50,  -32,  -29,  -28,  -18,  -15,  -14,  -10,    0,    2,    4,\n",
       "           5,   11,   13],\n",
       "       [-106,  -97,  -95,  -91,  -79,  -79,  -76,  -72,  -57,  -52,  -47,\n",
       "         -46,  -41,  -39,  -32,  -24,  -24,  -16,  -11,   -4,   -3,   -2,\n",
       "          -2,   13,   14],\n",
       "       [-115, -115, -112, -108,  -89,  -87,  -77,  -69,  -48,  -47,  -44,\n",
       "         -43,  -32,  -31,  -31,  -26,  -24,  -21,  -13,  -11,   -8,   -7,\n",
       "          -6,    6,   10],\n",
       "       [-111,  -93,  -89,  -89,  -83,  -64,  -58,  -56,  -42,  -41,  -32,\n",
       "         -28,  -28,  -25,  -24,  -22,  -19,  -18,  -17,  -10,   -6,    0,\n",
       "           3,    4,    8],\n",
       "       [-109, -103, -100,  -69,  -68,  -62,  -54,  -50,  -49,  -49,  -44,\n",
       "         -37,  -35,  -33,  -23,  -22,  -21,  -15,  -11,   -3,   -1,   -1,\n",
       "           5,   10,   13],\n",
       "       [-112,  -94,  -90,  -87,  -81,  -80,  -50,  -49,  -45,  -42,  -38,\n",
       "         -34,  -27,  -27,  -25,  -23,  -15,  -14,  -13,   -6,    0,    4,\n",
       "           8,   12,   14],\n",
       "       [-103,  -98,  -83,  -81,  -70,  -69,  -69,  -68,  -58,  -57,  -53,\n",
       "         -46,  -43,  -41,  -37,  -34,  -33,  -26,  -21,  -18,    0,    3,\n",
       "           3,   10,   12],\n",
       "       [-112, -111, -108,  -86,  -78,  -67,  -67,  -66,  -63,  -51,  -50,\n",
       "         -44,  -42,  -41,  -39,  -39,  -31,  -28,  -25,   -8,   -6,   -5,\n",
       "           1,    3,    9],\n",
       "       [-113, -106, -105, -103,  -95,  -87,  -82,  -73,  -67,  -65,  -47,\n",
       "         -28,  -26,  -25,  -16,  -15,  -13,  -11,  -10,   -7,    1,    2,\n",
       "           4,    7,    9],\n",
       "       [-115, -114, -109, -105, -100,  -97,  -95,  -95,  -87,  -82,  -77,\n",
       "         -76,  -70,  -65,  -61,  -43,  -27,  -16,  -13,  -10,   -6,    3,\n",
       "           3,    8,   13],\n",
       "       [-113, -109, -106, -102,  -97,  -72,  -68,  -64,  -53,  -40,  -39,\n",
       "         -39,  -39,  -36,  -30,  -26,  -23,  -13,   -1,   -1,    0,    1,\n",
       "           5,   10,   11],\n",
       "       [-115, -110, -109,  -83,  -79,  -78,  -75,  -67,  -56,  -54,  -53,\n",
       "         -51,  -41,  -35,  -32,  -32,  -25,  -23,  -22,  -20,  -19,  -15,\n",
       "         -10,   -2,   12],\n",
       "       [-108, -106, -104,  -93,  -92,  -85,  -68,  -67,  -59,  -53,  -53,\n",
       "         -48,  -44,  -37,  -36,  -35,  -31,  -25,  -24,  -17,   -5,   -3,\n",
       "          -1,    1,    2]])"
      ]
     },
     "execution_count": 36,
     "metadata": {},
     "output_type": "execute_result"
    }
   ],
   "source": [
    "a"
   ]
  },
  {
   "cell_type": "code",
   "execution_count": null,
   "metadata": {},
   "outputs": [],
   "source": []
  }
 ],
 "metadata": {
  "kernelspec": {
   "display_name": "Python 3",
   "language": "python",
   "name": "python3"
  },
  "language_info": {
   "codemirror_mode": {
    "name": "ipython",
    "version": 3
   },
   "file_extension": ".py",
   "mimetype": "text/x-python",
   "name": "python",
   "nbconvert_exporter": "python",
   "pygments_lexer": "ipython3",
   "version": "3.6.3"
  }
 },
 "nbformat": 4,
 "nbformat_minor": 2
}
