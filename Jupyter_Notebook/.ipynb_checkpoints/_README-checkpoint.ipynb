{
 "cells": [
  {
   "cell_type": "markdown",
   "metadata": {},
   "source": [
    "# README\n",
    "\n",
    "    -Author: Niccolò Tubini and Riccardo Rigon\n",
    "    -License: Creative Commons 4.0\n",
    "    \n",
    "    \n",
    "  GNU GPL v3 License\n",
    " \n",
    "  Copyright 2018 Niccolo` Tubini\n",
    " \n",
    "  This program is free software: you can redistribute it and/or modify\n",
    "  it under the terms of the GNU General Public License as published by\n",
    "  the Free Software Foundation, either version 3 of the License, or\n",
    "  (at your option) any later version.\n",
    " \n",
    "  This program is distributed in the hope that it will be useful,\n",
    "  but WITHOUT ANY WARRANTY; without even the implied warranty of\n",
    "  MERCHANTABILITY or FITNESS FOR A PARTICULAR PURPOSE.  See the\n",
    "  GNU General Public License for more details.\n",
    " \n",
    "  You should have received a copy of the GNU General Public License\n",
    "  along with this program.  If not, see <http://www.gnu.org/licenses/>.\n",
    "  "
   ]
  },
  {
   "cell_type": "markdown",
   "metadata": {},
   "source": [
    "## Before starting\n",
    "\n",
    "`$ conda install -c anaconda netcdf4`\n",
    "\n",
    "`$ conda install -c anaconda bokeh`\n",
    "\n",
    "## On Colab\n",
    "`$ pip install netcdf4`\n",
    "\n",
    "`$ pip install bokeh`"
   ]
  }
 ],
 "metadata": {
  "kernelspec": {
   "display_name": "Python 3",
   "language": "python",
   "name": "python3"
  },
  "language_info": {
   "codemirror_mode": {
    "name": "ipython",
    "version": 3
   },
   "file_extension": ".py",
   "mimetype": "text/x-python",
   "name": "python",
   "nbconvert_exporter": "python",
   "pygments_lexer": "ipython3",
   "version": "3.7.3"
  }
 },
 "nbformat": 4,
 "nbformat_minor": 2
}
