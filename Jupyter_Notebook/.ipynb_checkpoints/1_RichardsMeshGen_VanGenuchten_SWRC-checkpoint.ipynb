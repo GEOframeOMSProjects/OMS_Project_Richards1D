{
 "cells": [
  {
   "cell_type": "markdown",
   "metadata": {},
   "source": [
    "# Create the grid for Richards 1D\n",
    "\n",
    "This code allows to create a mesh for 1D PDE problem:\n",
    "    - domain discretization\n",
    "    - parameters setting\n",
    "    - initial condition setting\n",
    "All output data are stored in a NetCDF file\n",
    "\n",
    "    -Author: Niccolò Tubini and Riccardo Rigon\n",
    "    -License: Creative Commons 4.0"
   ]
  },
  {
   "cell_type": "markdown",
   "metadata": {},
   "source": [
    "**Note:** after Anaconda update it was necessary to uninstall and install netcdf4 library. From Anaconda Prompt run as Administrator:\n",
    "- `$conda uninstall nectcdf4`\n",
    "- `$pip install netcdf4`"
   ]
  },
  {
   "cell_type": "code",
   "execution_count": 3,
   "metadata": {},
   "outputs": [],
   "source": [
    "%%capture\n",
    "%run RichardsMeshGenVanGenuchten.py"
   ]
  },
  {
   "cell_type": "code",
   "execution_count": 4,
   "metadata": {},
   "outputs": [
    {
     "data": {
      "text/html": [
       "\n",
       "    <div class=\"bk-root\">\n",
       "        <a href=\"https://bokeh.pydata.org\" target=\"_blank\" class=\"bk-logo bk-logo-small bk-logo-notebook\"></a>\n",
       "        <span id=\"36e1326a-61eb-41b9-82a1-6fc896caf3b3\">Loading BokehJS ...</span>\n",
       "    </div>"
      ]
     },
     "metadata": {},
     "output_type": "display_data"
    },
    {
     "data": {
      "application/javascript": [
       "\n",
       "(function(root) {\n",
       "  function now() {\n",
       "    return new Date();\n",
       "  }\n",
       "\n",
       "  var force = true;\n",
       "\n",
       "  if (typeof (root._bokeh_onload_callbacks) === \"undefined\" || force === true) {\n",
       "    root._bokeh_onload_callbacks = [];\n",
       "    root._bokeh_is_loading = undefined;\n",
       "  }\n",
       "\n",
       "  var JS_MIME_TYPE = 'application/javascript';\n",
       "  var HTML_MIME_TYPE = 'text/html';\n",
       "  var EXEC_MIME_TYPE = 'application/vnd.bokehjs_exec.v0+json';\n",
       "  var CLASS_NAME = 'output_bokeh rendered_html';\n",
       "\n",
       "  /**\n",
       "   * Render data to the DOM node\n",
       "   */\n",
       "  function render(props, node) {\n",
       "    var script = document.createElement(\"script\");\n",
       "    node.appendChild(script);\n",
       "  }\n",
       "\n",
       "  /**\n",
       "   * Handle when an output is cleared or removed\n",
       "   */\n",
       "  function handleClearOutput(event, handle) {\n",
       "    var cell = handle.cell;\n",
       "\n",
       "    var id = cell.output_area._bokeh_element_id;\n",
       "    var server_id = cell.output_area._bokeh_server_id;\n",
       "    // Clean up Bokeh references\n",
       "    if (id !== undefined) {\n",
       "      Bokeh.index[id].model.document.clear();\n",
       "      delete Bokeh.index[id];\n",
       "    }\n",
       "\n",
       "    if (server_id !== undefined) {\n",
       "      // Clean up Bokeh references\n",
       "      var cmd = \"from bokeh.io.state import curstate; print(curstate().uuid_to_server['\" + server_id + \"'].get_sessions()[0].document.roots[0]._id)\";\n",
       "      cell.notebook.kernel.execute(cmd, {\n",
       "        iopub: {\n",
       "          output: function(msg) {\n",
       "            var element_id = msg.content.text.trim();\n",
       "            Bokeh.index[element_id].model.document.clear();\n",
       "            delete Bokeh.index[element_id];\n",
       "          }\n",
       "        }\n",
       "      });\n",
       "      // Destroy server and session\n",
       "      var cmd = \"import bokeh.io.notebook as ion; ion.destroy_server('\" + server_id + \"')\";\n",
       "      cell.notebook.kernel.execute(cmd);\n",
       "    }\n",
       "  }\n",
       "\n",
       "  /**\n",
       "   * Handle when a new output is added\n",
       "   */\n",
       "  function handleAddOutput(event, handle) {\n",
       "    var output_area = handle.output_area;\n",
       "    var output = handle.output;\n",
       "\n",
       "    // limit handleAddOutput to display_data with EXEC_MIME_TYPE content only\n",
       "    if ((output.output_type != \"display_data\") || (!output.data.hasOwnProperty(EXEC_MIME_TYPE))) {\n",
       "      return\n",
       "    }\n",
       "\n",
       "    var toinsert = output_area.element.find(\".\" + CLASS_NAME.split(' ')[0]);\n",
       "\n",
       "    if (output.metadata[EXEC_MIME_TYPE][\"id\"] !== undefined) {\n",
       "      toinsert[toinsert.length - 1].firstChild.textContent = output.data[JS_MIME_TYPE];\n",
       "      // store reference to embed id on output_area\n",
       "      output_area._bokeh_element_id = output.metadata[EXEC_MIME_TYPE][\"id\"];\n",
       "    }\n",
       "    if (output.metadata[EXEC_MIME_TYPE][\"server_id\"] !== undefined) {\n",
       "      var bk_div = document.createElement(\"div\");\n",
       "      bk_div.innerHTML = output.data[HTML_MIME_TYPE];\n",
       "      var script_attrs = bk_div.children[0].attributes;\n",
       "      for (var i = 0; i < script_attrs.length; i++) {\n",
       "        toinsert[toinsert.length - 1].firstChild.setAttribute(script_attrs[i].name, script_attrs[i].value);\n",
       "      }\n",
       "      // store reference to server id on output_area\n",
       "      output_area._bokeh_server_id = output.metadata[EXEC_MIME_TYPE][\"server_id\"];\n",
       "    }\n",
       "  }\n",
       "\n",
       "  function register_renderer(events, OutputArea) {\n",
       "\n",
       "    function append_mime(data, metadata, element) {\n",
       "      // create a DOM node to render to\n",
       "      var toinsert = this.create_output_subarea(\n",
       "        metadata,\n",
       "        CLASS_NAME,\n",
       "        EXEC_MIME_TYPE\n",
       "      );\n",
       "      this.keyboard_manager.register_events(toinsert);\n",
       "      // Render to node\n",
       "      var props = {data: data, metadata: metadata[EXEC_MIME_TYPE]};\n",
       "      render(props, toinsert[toinsert.length - 1]);\n",
       "      element.append(toinsert);\n",
       "      return toinsert\n",
       "    }\n",
       "\n",
       "    /* Handle when an output is cleared or removed */\n",
       "    events.on('clear_output.CodeCell', handleClearOutput);\n",
       "    events.on('delete.Cell', handleClearOutput);\n",
       "\n",
       "    /* Handle when a new output is added */\n",
       "    events.on('output_added.OutputArea', handleAddOutput);\n",
       "\n",
       "    /**\n",
       "     * Register the mime type and append_mime function with output_area\n",
       "     */\n",
       "    OutputArea.prototype.register_mime_type(EXEC_MIME_TYPE, append_mime, {\n",
       "      /* Is output safe? */\n",
       "      safe: true,\n",
       "      /* Index of renderer in `output_area.display_order` */\n",
       "      index: 0\n",
       "    });\n",
       "  }\n",
       "\n",
       "  // register the mime type if in Jupyter Notebook environment and previously unregistered\n",
       "  if (root.Jupyter !== undefined) {\n",
       "    var events = require('base/js/events');\n",
       "    var OutputArea = require('notebook/js/outputarea').OutputArea;\n",
       "\n",
       "    if (OutputArea.prototype.mime_types().indexOf(EXEC_MIME_TYPE) == -1) {\n",
       "      register_renderer(events, OutputArea);\n",
       "    }\n",
       "  }\n",
       "\n",
       "  \n",
       "  if (typeof (root._bokeh_timeout) === \"undefined\" || force === true) {\n",
       "    root._bokeh_timeout = Date.now() + 5000;\n",
       "    root._bokeh_failed_load = false;\n",
       "  }\n",
       "\n",
       "  var NB_LOAD_WARNING = {'data': {'text/html':\n",
       "     \"<div style='background-color: #fdd'>\\n\"+\n",
       "     \"<p>\\n\"+\n",
       "     \"BokehJS does not appear to have successfully loaded. If loading BokehJS from CDN, this \\n\"+\n",
       "     \"may be due to a slow or bad network connection. Possible fixes:\\n\"+\n",
       "     \"</p>\\n\"+\n",
       "     \"<ul>\\n\"+\n",
       "     \"<li>re-rerun `output_notebook()` to attempt to load from CDN again, or</li>\\n\"+\n",
       "     \"<li>use INLINE resources instead, as so:</li>\\n\"+\n",
       "     \"</ul>\\n\"+\n",
       "     \"<code>\\n\"+\n",
       "     \"from bokeh.resources import INLINE\\n\"+\n",
       "     \"output_notebook(resources=INLINE)\\n\"+\n",
       "     \"</code>\\n\"+\n",
       "     \"</div>\"}};\n",
       "\n",
       "  function display_loaded() {\n",
       "    var el = document.getElementById(\"36e1326a-61eb-41b9-82a1-6fc896caf3b3\");\n",
       "    if (el != null) {\n",
       "      el.textContent = \"BokehJS is loading...\";\n",
       "    }\n",
       "    if (root.Bokeh !== undefined) {\n",
       "      if (el != null) {\n",
       "        el.textContent = \"BokehJS \" + root.Bokeh.version + \" successfully loaded.\";\n",
       "      }\n",
       "    } else if (Date.now() < root._bokeh_timeout) {\n",
       "      setTimeout(display_loaded, 100)\n",
       "    }\n",
       "  }\n",
       "\n",
       "\n",
       "  function run_callbacks() {\n",
       "    try {\n",
       "      root._bokeh_onload_callbacks.forEach(function(callback) { callback() });\n",
       "    }\n",
       "    finally {\n",
       "      delete root._bokeh_onload_callbacks\n",
       "    }\n",
       "    console.info(\"Bokeh: all callbacks have finished\");\n",
       "  }\n",
       "\n",
       "  function load_libs(js_urls, callback) {\n",
       "    root._bokeh_onload_callbacks.push(callback);\n",
       "    if (root._bokeh_is_loading > 0) {\n",
       "      console.log(\"Bokeh: BokehJS is being loaded, scheduling callback at\", now());\n",
       "      return null;\n",
       "    }\n",
       "    if (js_urls == null || js_urls.length === 0) {\n",
       "      run_callbacks();\n",
       "      return null;\n",
       "    }\n",
       "    console.log(\"Bokeh: BokehJS not loaded, scheduling load and callback at\", now());\n",
       "    root._bokeh_is_loading = js_urls.length;\n",
       "    for (var i = 0; i < js_urls.length; i++) {\n",
       "      var url = js_urls[i];\n",
       "      var s = document.createElement('script');\n",
       "      s.src = url;\n",
       "      s.async = false;\n",
       "      s.onreadystatechange = s.onload = function() {\n",
       "        root._bokeh_is_loading--;\n",
       "        if (root._bokeh_is_loading === 0) {\n",
       "          console.log(\"Bokeh: all BokehJS libraries loaded\");\n",
       "          run_callbacks()\n",
       "        }\n",
       "      };\n",
       "      s.onerror = function() {\n",
       "        console.warn(\"failed to load library \" + url);\n",
       "      };\n",
       "      console.log(\"Bokeh: injecting script tag for BokehJS library: \", url);\n",
       "      document.getElementsByTagName(\"head\")[0].appendChild(s);\n",
       "    }\n",
       "  };var element = document.getElementById(\"36e1326a-61eb-41b9-82a1-6fc896caf3b3\");\n",
       "  if (element == null) {\n",
       "    console.log(\"Bokeh: ERROR: autoload.js configured with elementid '36e1326a-61eb-41b9-82a1-6fc896caf3b3' but no matching script tag was found. \")\n",
       "    return false;\n",
       "  }\n",
       "\n",
       "  var js_urls = [\"https://cdn.pydata.org/bokeh/release/bokeh-0.12.15.min.js\", \"https://cdn.pydata.org/bokeh/release/bokeh-widgets-0.12.15.min.js\", \"https://cdn.pydata.org/bokeh/release/bokeh-tables-0.12.15.min.js\", \"https://cdn.pydata.org/bokeh/release/bokeh-gl-0.12.15.min.js\"];\n",
       "\n",
       "  var inline_js = [\n",
       "    function(Bokeh) {\n",
       "      Bokeh.set_log_level(\"info\");\n",
       "    },\n",
       "    \n",
       "    function(Bokeh) {\n",
       "      \n",
       "    },\n",
       "    function(Bokeh) {\n",
       "      console.log(\"Bokeh: injecting CSS: https://cdn.pydata.org/bokeh/release/bokeh-0.12.15.min.css\");\n",
       "      Bokeh.embed.inject_css(\"https://cdn.pydata.org/bokeh/release/bokeh-0.12.15.min.css\");\n",
       "      console.log(\"Bokeh: injecting CSS: https://cdn.pydata.org/bokeh/release/bokeh-widgets-0.12.15.min.css\");\n",
       "      Bokeh.embed.inject_css(\"https://cdn.pydata.org/bokeh/release/bokeh-widgets-0.12.15.min.css\");\n",
       "      console.log(\"Bokeh: injecting CSS: https://cdn.pydata.org/bokeh/release/bokeh-tables-0.12.15.min.css\");\n",
       "      Bokeh.embed.inject_css(\"https://cdn.pydata.org/bokeh/release/bokeh-tables-0.12.15.min.css\");\n",
       "    }\n",
       "  ];\n",
       "\n",
       "  function run_inline_js() {\n",
       "    \n",
       "    if ((root.Bokeh !== undefined) || (force === true)) {\n",
       "      for (var i = 0; i < inline_js.length; i++) {\n",
       "        inline_js[i].call(root, root.Bokeh);\n",
       "      }if (force === true) {\n",
       "        display_loaded();\n",
       "      }} else if (Date.now() < root._bokeh_timeout) {\n",
       "      setTimeout(run_inline_js, 100);\n",
       "    } else if (!root._bokeh_failed_load) {\n",
       "      console.log(\"Bokeh: BokehJS failed to load within specified timeout.\");\n",
       "      root._bokeh_failed_load = true;\n",
       "    } else if (force !== true) {\n",
       "      var cell = $(document.getElementById(\"36e1326a-61eb-41b9-82a1-6fc896caf3b3\")).parents('.cell').data().cell;\n",
       "      cell.output_area.append_execute_result(NB_LOAD_WARNING)\n",
       "    }\n",
       "\n",
       "  }\n",
       "\n",
       "  if (root._bokeh_is_loading === 0) {\n",
       "    console.log(\"Bokeh: BokehJS loaded, going straight to plotting\");\n",
       "    run_inline_js();\n",
       "  } else {\n",
       "    load_libs(js_urls, function() {\n",
       "      console.log(\"Bokeh: BokehJS plotting callback run at\", now());\n",
       "      run_inline_js();\n",
       "    });\n",
       "  }\n",
       "}(window));"
      ],
      "application/vnd.bokehjs_load.v0+json": "\n(function(root) {\n  function now() {\n    return new Date();\n  }\n\n  var force = true;\n\n  if (typeof (root._bokeh_onload_callbacks) === \"undefined\" || force === true) {\n    root._bokeh_onload_callbacks = [];\n    root._bokeh_is_loading = undefined;\n  }\n\n  \n\n  \n  if (typeof (root._bokeh_timeout) === \"undefined\" || force === true) {\n    root._bokeh_timeout = Date.now() + 5000;\n    root._bokeh_failed_load = false;\n  }\n\n  var NB_LOAD_WARNING = {'data': {'text/html':\n     \"<div style='background-color: #fdd'>\\n\"+\n     \"<p>\\n\"+\n     \"BokehJS does not appear to have successfully loaded. If loading BokehJS from CDN, this \\n\"+\n     \"may be due to a slow or bad network connection. Possible fixes:\\n\"+\n     \"</p>\\n\"+\n     \"<ul>\\n\"+\n     \"<li>re-rerun `output_notebook()` to attempt to load from CDN again, or</li>\\n\"+\n     \"<li>use INLINE resources instead, as so:</li>\\n\"+\n     \"</ul>\\n\"+\n     \"<code>\\n\"+\n     \"from bokeh.resources import INLINE\\n\"+\n     \"output_notebook(resources=INLINE)\\n\"+\n     \"</code>\\n\"+\n     \"</div>\"}};\n\n  function display_loaded() {\n    var el = document.getElementById(\"36e1326a-61eb-41b9-82a1-6fc896caf3b3\");\n    if (el != null) {\n      el.textContent = \"BokehJS is loading...\";\n    }\n    if (root.Bokeh !== undefined) {\n      if (el != null) {\n        el.textContent = \"BokehJS \" + root.Bokeh.version + \" successfully loaded.\";\n      }\n    } else if (Date.now() < root._bokeh_timeout) {\n      setTimeout(display_loaded, 100)\n    }\n  }\n\n\n  function run_callbacks() {\n    try {\n      root._bokeh_onload_callbacks.forEach(function(callback) { callback() });\n    }\n    finally {\n      delete root._bokeh_onload_callbacks\n    }\n    console.info(\"Bokeh: all callbacks have finished\");\n  }\n\n  function load_libs(js_urls, callback) {\n    root._bokeh_onload_callbacks.push(callback);\n    if (root._bokeh_is_loading > 0) {\n      console.log(\"Bokeh: BokehJS is being loaded, scheduling callback at\", now());\n      return null;\n    }\n    if (js_urls == null || js_urls.length === 0) {\n      run_callbacks();\n      return null;\n    }\n    console.log(\"Bokeh: BokehJS not loaded, scheduling load and callback at\", now());\n    root._bokeh_is_loading = js_urls.length;\n    for (var i = 0; i < js_urls.length; i++) {\n      var url = js_urls[i];\n      var s = document.createElement('script');\n      s.src = url;\n      s.async = false;\n      s.onreadystatechange = s.onload = function() {\n        root._bokeh_is_loading--;\n        if (root._bokeh_is_loading === 0) {\n          console.log(\"Bokeh: all BokehJS libraries loaded\");\n          run_callbacks()\n        }\n      };\n      s.onerror = function() {\n        console.warn(\"failed to load library \" + url);\n      };\n      console.log(\"Bokeh: injecting script tag for BokehJS library: \", url);\n      document.getElementsByTagName(\"head\")[0].appendChild(s);\n    }\n  };var element = document.getElementById(\"36e1326a-61eb-41b9-82a1-6fc896caf3b3\");\n  if (element == null) {\n    console.log(\"Bokeh: ERROR: autoload.js configured with elementid '36e1326a-61eb-41b9-82a1-6fc896caf3b3' but no matching script tag was found. \")\n    return false;\n  }\n\n  var js_urls = [\"https://cdn.pydata.org/bokeh/release/bokeh-0.12.15.min.js\", \"https://cdn.pydata.org/bokeh/release/bokeh-widgets-0.12.15.min.js\", \"https://cdn.pydata.org/bokeh/release/bokeh-tables-0.12.15.min.js\", \"https://cdn.pydata.org/bokeh/release/bokeh-gl-0.12.15.min.js\"];\n\n  var inline_js = [\n    function(Bokeh) {\n      Bokeh.set_log_level(\"info\");\n    },\n    \n    function(Bokeh) {\n      \n    },\n    function(Bokeh) {\n      console.log(\"Bokeh: injecting CSS: https://cdn.pydata.org/bokeh/release/bokeh-0.12.15.min.css\");\n      Bokeh.embed.inject_css(\"https://cdn.pydata.org/bokeh/release/bokeh-0.12.15.min.css\");\n      console.log(\"Bokeh: injecting CSS: https://cdn.pydata.org/bokeh/release/bokeh-widgets-0.12.15.min.css\");\n      Bokeh.embed.inject_css(\"https://cdn.pydata.org/bokeh/release/bokeh-widgets-0.12.15.min.css\");\n      console.log(\"Bokeh: injecting CSS: https://cdn.pydata.org/bokeh/release/bokeh-tables-0.12.15.min.css\");\n      Bokeh.embed.inject_css(\"https://cdn.pydata.org/bokeh/release/bokeh-tables-0.12.15.min.css\");\n    }\n  ];\n\n  function run_inline_js() {\n    \n    if ((root.Bokeh !== undefined) || (force === true)) {\n      for (var i = 0; i < inline_js.length; i++) {\n        inline_js[i].call(root, root.Bokeh);\n      }if (force === true) {\n        display_loaded();\n      }} else if (Date.now() < root._bokeh_timeout) {\n      setTimeout(run_inline_js, 100);\n    } else if (!root._bokeh_failed_load) {\n      console.log(\"Bokeh: BokehJS failed to load within specified timeout.\");\n      root._bokeh_failed_load = true;\n    } else if (force !== true) {\n      var cell = $(document.getElementById(\"36e1326a-61eb-41b9-82a1-6fc896caf3b3\")).parents('.cell').data().cell;\n      cell.output_area.append_execute_result(NB_LOAD_WARNING)\n    }\n\n  }\n\n  if (root._bokeh_is_loading === 0) {\n    console.log(\"Bokeh: BokehJS loaded, going straight to plotting\");\n    run_inline_js();\n  } else {\n    load_libs(js_urls, function() {\n      console.log(\"Bokeh: BokehJS plotting callback run at\", now());\n      run_inline_js();\n    });\n  }\n}(window));"
     },
     "metadata": {},
     "output_type": "display_data"
    }
   ],
   "source": [
    "import os\n",
    "import pandas as pd\n",
    "import numpy as np\n",
    "import matplotlib.pyplot as plt\n",
    "%matplotlib inline\n",
    "\n",
    "from netCDF4 import Dataset\n",
    "\n",
    "# Standard imports \n",
    "from bokeh.io import output_notebook, show\n",
    "from bokeh.plotting import figure\n",
    "from bokeh.layouts import gridplot\n",
    "from bokeh.models.widgets import Panel, Tabs\n",
    "from bokeh.io import output_file, show\n",
    "from bokeh.plotting import figure\n",
    "from bokeh.models import BoxSelectTool\n",
    "from bokeh.models import HoverTool\n",
    "\n",
    "output_notebook()"
   ]
  },
  {
   "cell_type": "markdown",
   "metadata": {},
   "source": [
    "## Define some variables:\n",
    "- folderPath: path of the fodlder containing the input file (.csv) -> your_path/data/RichardMeshGen_input\n",
    "- inFileName: name of the input file (.csv)\n",
    "\n",
    "\n",
    "- outFileName: name of the output file (.nc) with the entire file path -> your_path/data/Grid_NetCDF/grid.nc\n",
    "- outputTitle: string containing a title for the output, it is saved within the file\n",
    "- outputSummary: string containing a description for the output, it is saved within the file\n",
    "- outputDate: string containing the date of file creation\n",
    "- outputInstitution: string containing the name of whom created the file"
   ]
  },
  {
   "cell_type": "code",
   "execution_count": 31,
   "metadata": {},
   "outputs": [],
   "source": [
    "folderPath = \"C:/Users/Niccolo/OMS/OMS_Project_Richards1D/data/RichardMeshGen_input\"\n",
    "\n",
    "inputFileName = \"Clay_VG.csv\"\n",
    "\n",
    "outputFileName =  \"C:/Users/Niccolo/OMS/OMS_Project_Richards1D/data/Grid_NetCDF/Clay_VG_1000000.nc\"\n",
    "\n",
    "outputTitle = '''Input file for JUnit test:\n",
    "                    Type,eta,N,psi,thetaS,thetaR,Ks,n,alpha,alphaSpecificStorage,betaSpecificStorage,et\n",
    "                    L,0,1000000,-100,0.5,0.07,0.000023,1.16,5.88,0,0,0\n",
    "                    L,-100,-999,0,-999,-999,-999,-999,-999,-999,-999,-999\n",
    "\n",
    "                  '''\n",
    "outputSummary = ''\n",
    "\n",
    "outputDate = '14/02/2019'\n",
    "\n",
    "outputInstitution = 'Geoframe'"
   ]
  },
  {
   "cell_type": "markdown",
   "metadata": {},
   "source": [
    "## Define the type of intial condition for water suction $\\psi$:\n",
    "Possible choices are:\n",
    "\n",
    "    -'hydrostatic'\n",
    "    -'constant'\n",
    "    -'linear interpolation'"
   ]
  },
  {
   "cell_type": "code",
   "execution_count": 19,
   "metadata": {},
   "outputs": [],
   "source": [
    "icType = 'hydrostatic'"
   ]
  },
  {
   "cell_type": "markdown",
   "metadata": {},
   "source": [
    "## Set some plot features"
   ]
  },
  {
   "cell_type": "code",
   "execution_count": 20,
   "metadata": {},
   "outputs": [],
   "source": [
    "labelSize = 18\n",
    "titleSize = 22\n",
    "legendSize = 14\n",
    "axisTicksSize = 14\n",
    "\n",
    "lineWidth =0.3"
   ]
  },
  {
   "cell_type": "code",
   "execution_count": 21,
   "metadata": {},
   "outputs": [
    {
     "data": {
      "text/plain": [
       "['.ipynb_checkpoints',\n",
       " 'Casulli2010_test2.csv',\n",
       " 'Casulli2010_test2VG.csv',\n",
       " 'ClaySand_noPonding.csv',\n",
       " 'ClaySand_noPonding.PNG',\n",
       " 'ClaySand_noPonding_VG.csv',\n",
       " 'ClaySand_noPonding_VG.PNG',\n",
       " 'Clay_noPonding.csv',\n",
       " 'Clay_noPonding.PNG',\n",
       " 'Clay_noPonding_BC.csv',\n",
       " 'Clay_noPonding_Dry.csv',\n",
       " 'Clay_noPonding_Kosugi.csv',\n",
       " 'Clay_noPonding_Romano.csv',\n",
       " 'Clay_noPonding_VG.csv',\n",
       " 'Clay_noPonding_VG.PNG',\n",
       " 'Clay_VG.csv',\n",
       " 'SandClay_01Ponding_Measurement.csv',\n",
       " 'SandClay_01Ponding_Measurement.PNG',\n",
       " 'SandClay_01Ponding_Measurement_VG.csv',\n",
       " 'SandClay_01Ponding_Measurement_VG.PNG',\n",
       " 'Sand_01Ponding.csv',\n",
       " 'Sand_01Ponding.PNG',\n",
       " 'Sand_01Ponding_VG.csv',\n",
       " 'Sand_01Ponding_VG.PNG']"
      ]
     },
     "execution_count": 21,
     "metadata": {},
     "output_type": "execute_result"
    }
   ],
   "source": [
    "os.chdir(folderPath)\n",
    "os.listdir()"
   ]
  },
  {
   "cell_type": "code",
   "execution_count": 22,
   "metadata": {},
   "outputs": [
    {
     "data": {
      "text/html": [
       "<div>\n",
       "<style>\n",
       "    .dataframe thead tr:only-child th {\n",
       "        text-align: right;\n",
       "    }\n",
       "\n",
       "    .dataframe thead th {\n",
       "        text-align: left;\n",
       "    }\n",
       "\n",
       "    .dataframe tbody tr th {\n",
       "        vertical-align: top;\n",
       "    }\n",
       "</style>\n",
       "<table border=\"1\" class=\"dataframe\">\n",
       "  <thead>\n",
       "    <tr style=\"text-align: right;\">\n",
       "      <th></th>\n",
       "      <th>Type</th>\n",
       "      <th>eta</th>\n",
       "      <th>N</th>\n",
       "      <th>psi</th>\n",
       "      <th>thetaS</th>\n",
       "      <th>thetaR</th>\n",
       "      <th>Ks</th>\n",
       "      <th>n</th>\n",
       "      <th>alpha</th>\n",
       "      <th>alphaSpecificStorage</th>\n",
       "      <th>betaSpecificStorage</th>\n",
       "      <th>et</th>\n",
       "    </tr>\n",
       "  </thead>\n",
       "  <tbody>\n",
       "    <tr>\n",
       "      <th>0</th>\n",
       "      <td>L</td>\n",
       "      <td>0</td>\n",
       "      <td>10</td>\n",
       "      <td>-100</td>\n",
       "      <td>0.5</td>\n",
       "      <td>0.07</td>\n",
       "      <td>0.000023</td>\n",
       "      <td>1.16</td>\n",
       "      <td>5.88</td>\n",
       "      <td>0</td>\n",
       "      <td>0</td>\n",
       "      <td>0</td>\n",
       "    </tr>\n",
       "    <tr>\n",
       "      <th>1</th>\n",
       "      <td>L</td>\n",
       "      <td>-100</td>\n",
       "      <td>-999</td>\n",
       "      <td>0</td>\n",
       "      <td>-999.0</td>\n",
       "      <td>-999.00</td>\n",
       "      <td>-999.000000</td>\n",
       "      <td>-999.00</td>\n",
       "      <td>-999.00</td>\n",
       "      <td>-999</td>\n",
       "      <td>-999</td>\n",
       "      <td>-999</td>\n",
       "    </tr>\n",
       "  </tbody>\n",
       "</table>\n",
       "</div>"
      ],
      "text/plain": [
       "  Type  eta    N  psi  thetaS  thetaR          Ks       n   alpha  \\\n",
       "0    L    0   10 -100     0.5    0.07    0.000023    1.16    5.88   \n",
       "1    L -100 -999    0  -999.0 -999.00 -999.000000 -999.00 -999.00   \n",
       "\n",
       "   alphaSpecificStorage  betaSpecificStorage   et  \n",
       "0                     0                    0    0  \n",
       "1                  -999                 -999 -999  "
      ]
     },
     "execution_count": 22,
     "metadata": {},
     "output_type": "execute_result"
    }
   ],
   "source": [
    "data = pd.read_csv(inputFileName)\n",
    "#print(data.head())\n",
    "#print(data.index)\n",
    "#print(data.columns)\n",
    "data"
   ]
  },
  {
   "cell_type": "markdown",
   "metadata": {},
   "source": [
    "### This section computes geometrical quantities of the discretized domain\n",
    "For an explanantion of the data in the above dataFrame, please read first the presentation at \n",
    "\n",
    "### From the data in the csv file, the main numpy array are built:\n",
    "    -eta: vertical coordinate of control volume centroids, positive upward with origin set at soil surface [m]\n",
    "    -etaDual: vertical coordinate of control volume interfaces, positive upward with origin set at soil surface [m]\n",
    "    -deltaZ: length of each control volume [m]\n",
    "    -spaceDelta: distance between two adjacent control volume. It is used to compute gradients [m]\n",
    "    -z: vertical coordinate of control volume centroids, positive upward with origin set at soil column bottom [m]\n",
    "    -zDual: vertical coordinate of control volume interfaces, positive upward with origin set at soil column bottom [m]"
   ]
  },
  {
   "cell_type": "code",
   "execution_count": 23,
   "metadata": {},
   "outputs": [],
   "source": [
    "[eta,etaDual,deltaZ,spaceDelta,z,zDual]=buildData(data)"
   ]
  },
  {
   "cell_type": "code",
   "execution_count": 24,
   "metadata": {
    "scrolled": false
   },
   "outputs": [
    {
     "data": {
      "text/html": [
       "\n",
       "<div class=\"bk-root\">\n",
       "    <div class=\"bk-plotdiv\" id=\"0fd26779-f1b0-4500-8cc5-6177c35e1d44\"></div>\n",
       "</div>"
      ]
     },
     "metadata": {},
     "output_type": "display_data"
    },
    {
     "data": {
      "application/javascript": [
       "(function(root) {\n",
       "  function embed_document(root) {\n",
       "    \n",
       "  var docs_json = {\"edfd9f06-e5af-41bb-8691-b862e01fab4b\":{\"roots\":{\"references\":[{\"attributes\":{},\"id\":\"ac6474ac-dd8f-4bdf-8034-712227fbf93f\",\"type\":\"LinearScale\"},{\"attributes\":{\"line_color\":\"red\",\"line_width\":0.3,\"x\":{\"field\":\"x\"},\"y\":{\"field\":\"y\"}},\"id\":\"01e6501a-0438-4d1a-b7cc-2381778f8278\",\"type\":\"Line\"},{\"attributes\":{},\"id\":\"6efe3d5f-8f70-4f49-ae81-d5e03fdda12d\",\"type\":\"LinearScale\"},{\"attributes\":{\"source\":{\"id\":\"e8b96743-7082-4176-a0f0-8e4e1447828c\",\"type\":\"ColumnDataSource\"}},\"id\":\"2681384b-9d13-49c1-8713-3bd46c1acd26\",\"type\":\"CDSView\"},{\"attributes\":{\"callback\":null,\"column_names\":[\"x\",\"y\"],\"data\":{\"x\":{\"__ndarray__\":\"AAAAAAAAAAAAAAAAAAAAAAAAAAAAAAAAAAAAAAAAAAAAAAAAAAAAAAAAAAAAAAAAAAAAAAAAAAAAAAAAAAAAAAAAAAAAAAAAAAAAAAAAAAAAAAAAAAAAAA==\",\"dtype\":\"float64\",\"shape\":[11]},\"y\":{\"__ndarray__\":\"AAAAAADAV8AAAAAAAEBVwAAAAAAAwFLAAAAAAABAUMAAAAAAAIBLwAAAAAAAgEbAAAAAAACAQcAAAAAAAAA5wAAAAAAAAC7AAAAAAAAAFMAAAAAAAAAAAA==\",\"dtype\":\"float64\",\"shape\":[11]}},\"selected\":null,\"selection_policy\":null},\"id\":\"d2f17afd-0bba-4200-814d-b03b0b5740e4\",\"type\":\"ColumnDataSource\"},{\"attributes\":{\"fill_alpha\":{\"value\":0.1},\"fill_color\":{\"value\":\"#1f77b4\"},\"line_alpha\":{\"value\":0.1},\"line_color\":{\"value\":\"#1f77b4\"},\"x\":{\"field\":\"x\"},\"y\":{\"field\":\"y\"}},\"id\":\"1b427863-b790-408a-8b9e-b1701743e969\",\"type\":\"Cross\"},{\"attributes\":{\"line_alpha\":0.1,\"line_color\":\"#1f77b4\",\"line_width\":0.3,\"x\":{\"field\":\"x\"},\"y\":{\"field\":\"y\"}},\"id\":\"606f3e69-4627-4d26-b4e0-107ece073941\",\"type\":\"Line\"},{\"attributes\":{\"callback\":null},\"id\":\"bd7a6ec6-72e1-4318-a5ac-f3d02009120d\",\"type\":\"DataRange1d\"},{\"attributes\":{\"label\":{\"value\":\"layer\"},\"renderers\":[{\"id\":\"63717eef-fe9c-4e62-ba5e-8ab3225172d2\",\"type\":\"GlyphRenderer\"},{\"id\":\"966a4aef-5e01-43c6-9b66-0eb167beec82\",\"type\":\"GlyphRenderer\"},{\"id\":\"c6789fe3-65ef-41c4-a36c-d8d65e079652\",\"type\":\"GlyphRenderer\"}]},\"id\":\"c25b5c7e-0c66-403a-83eb-04d3fe96fd3e\",\"type\":\"LegendItem\"},{\"attributes\":{\"data_source\":{\"id\":\"b56441c4-77e0-4e52-8015-6c48ae615004\",\"type\":\"ColumnDataSource\"},\"glyph\":{\"id\":\"0dfd2f23-ad43-4801-a820-d817279a7a2d\",\"type\":\"Cross\"},\"hover_glyph\":null,\"muted_glyph\":null,\"nonselection_glyph\":{\"id\":\"1b427863-b790-408a-8b9e-b1701743e969\",\"type\":\"Cross\"},\"selection_glyph\":null,\"view\":{\"id\":\"b19c57ff-62c8-4b36-bf8d-9b1e29cb10e4\",\"type\":\"CDSView\"}},\"id\":\"9ac9eb5d-8fad-429a-9abd-9baa86606796\",\"type\":\"GlyphRenderer\"},{\"attributes\":{\"click_policy\":\"hide\",\"items\":[{\"id\":\"7bf5efa3-bc5a-4917-ae79-9352a86b7d97\",\"type\":\"LegendItem\"},{\"id\":\"3e27e272-27a1-45bc-b5ef-b4f3b93e004b\",\"type\":\"LegendItem\"},{\"id\":\"c25b5c7e-0c66-403a-83eb-04d3fe96fd3e\",\"type\":\"LegendItem\"}],\"label_text_font_size\":{\"value\":\"14px\"},\"location\":\"top_left\",\"plot\":{\"id\":\"aff48fbf-fb65-4383-b36c-c8bfd6e37939\",\"subtype\":\"Figure\",\"type\":\"Plot\"}},\"id\":\"25cdb999-4588-4076-af96-1b91a1ac1e9d\",\"type\":\"Legend\"},{\"attributes\":{\"plot\":{\"id\":\"aff48fbf-fb65-4383-b36c-c8bfd6e37939\",\"subtype\":\"Figure\",\"type\":\"Plot\"},\"ticker\":{\"id\":\"d87f005a-8763-4c2f-a2d0-edc4edc1895d\",\"type\":\"BasicTicker\"}},\"id\":\"6b21c6cb-2502-4560-a00f-b4c39658fa3a\",\"type\":\"Grid\"},{\"attributes\":{\"source\":{\"id\":\"b56441c4-77e0-4e52-8015-6c48ae615004\",\"type\":\"ColumnDataSource\"}},\"id\":\"b19c57ff-62c8-4b36-bf8d-9b1e29cb10e4\",\"type\":\"CDSView\"},{\"attributes\":{\"data_source\":{\"id\":\"e8b96743-7082-4176-a0f0-8e4e1447828c\",\"type\":\"ColumnDataSource\"},\"glyph\":{\"id\":\"5a7df0c7-5116-41b7-9f13-d5a3287457d1\",\"type\":\"Line\"},\"hover_glyph\":null,\"muted_glyph\":null,\"nonselection_glyph\":{\"id\":\"dd862790-2a82-4b43-b386-2e7caf1c3cfc\",\"type\":\"Line\"},\"selection_glyph\":null,\"view\":{\"id\":\"2681384b-9d13-49c1-8713-3bd46c1acd26\",\"type\":\"CDSView\"}},\"id\":\"c6789fe3-65ef-41c4-a36c-d8d65e079652\",\"type\":\"GlyphRenderer\"},{\"attributes\":{\"overlay\":{\"id\":\"2e122ae2-f396-476f-b747-2f537faa45e4\",\"type\":\"BoxAnnotation\"}},\"id\":\"48a2c927-c8de-42ee-8d64-f0b0310995cf\",\"type\":\"BoxZoomTool\"},{\"attributes\":{},\"id\":\"023d901a-8731-4cd0-a94f-2f85326f7431\",\"type\":\"ResetTool\"},{\"attributes\":{\"callback\":null,\"end\":0.7,\"start\":-0.7},\"id\":\"6fc5f430-8601-4250-8db1-411c8e94b197\",\"type\":\"Range1d\"},{\"attributes\":{\"fill_color\":{\"value\":\"fuchsia\"},\"line_color\":{\"value\":\"fuchsia\"},\"x\":{\"field\":\"x\"},\"y\":{\"field\":\"y\"}},\"id\":\"0dfd2f23-ad43-4801-a820-d817279a7a2d\",\"type\":\"Cross\"},{\"attributes\":{\"data_source\":{\"id\":\"ea7b1e7b-f892-414c-9433-e000be472e58\",\"type\":\"ColumnDataSource\"},\"glyph\":{\"id\":\"01e6501a-0438-4d1a-b7cc-2381778f8278\",\"type\":\"Line\"},\"hover_glyph\":null,\"muted_glyph\":null,\"nonselection_glyph\":{\"id\":\"606f3e69-4627-4d26-b4e0-107ece073941\",\"type\":\"Line\"},\"selection_glyph\":null,\"view\":{\"id\":\"a712af91-fa57-4307-8832-151a38aa76f0\",\"type\":\"CDSView\"}},\"id\":\"63717eef-fe9c-4e62-ba5e-8ab3225172d2\",\"type\":\"GlyphRenderer\"},{\"attributes\":{\"line_alpha\":0.1,\"line_color\":\"#1f77b4\",\"line_width\":0.3,\"x\":{\"field\":\"x\"},\"y\":{\"field\":\"y\"}},\"id\":\"dd862790-2a82-4b43-b386-2e7caf1c3cfc\",\"type\":\"Line\"},{\"attributes\":{},\"id\":\"c0900113-f0a5-425f-bcdb-951c1db214a0\",\"type\":\"PanTool\"},{\"attributes\":{\"source\":{\"id\":\"830780ee-ad66-40d5-bed5-5e95a266cb01\",\"type\":\"ColumnDataSource\"}},\"id\":\"0896037e-a0e2-4421-82bf-a38a0f9cfd59\",\"type\":\"CDSView\"},{\"attributes\":{\"fill_color\":{\"value\":\"blue\"},\"line_color\":{\"value\":\"blue\"},\"x\":{\"field\":\"x\"},\"y\":{\"field\":\"y\"}},\"id\":\"58ab4fd7-77d3-43fe-8c43-96158c3d85c6\",\"type\":\"Circle\"},{\"attributes\":{\"line_color\":\"red\",\"line_width\":0.3,\"x\":{\"field\":\"x\"},\"y\":{\"field\":\"y\"}},\"id\":\"5a7df0c7-5116-41b7-9f13-d5a3287457d1\",\"type\":\"Line\"},{\"attributes\":{\"callback\":null,\"tooltips\":[[\"(x,y)\",\"($x, $y)\"]]},\"id\":\"117b5478-71e9-467b-af60-46d66c2c48ee\",\"type\":\"HoverTool\"},{\"attributes\":{\"active_drag\":\"auto\",\"active_inspect\":\"auto\",\"active_scroll\":\"auto\",\"active_tap\":\"auto\",\"tools\":[{\"id\":\"117b5478-71e9-467b-af60-46d66c2c48ee\",\"type\":\"HoverTool\"},{\"id\":\"c0900113-f0a5-425f-bcdb-951c1db214a0\",\"type\":\"PanTool\"},{\"id\":\"3018d991-5330-4f06-8325-4522ffa45141\",\"type\":\"WheelZoomTool\"},{\"id\":\"48a2c927-c8de-42ee-8d64-f0b0310995cf\",\"type\":\"BoxZoomTool\"},{\"id\":\"023d901a-8731-4cd0-a94f-2f85326f7431\",\"type\":\"ResetTool\"}]},\"id\":\"ae0bf396-9911-44d0-972e-aefe695b662b\",\"type\":\"Toolbar\"},{\"attributes\":{\"line_alpha\":0.1,\"line_color\":\"#1f77b4\",\"line_width\":0.3,\"x\":{\"field\":\"x\"},\"y\":{\"field\":\"y\"}},\"id\":\"fa5b979b-9231-4eab-bfc3-b513dc0485aa\",\"type\":\"Line\"},{\"attributes\":{\"dimension\":1,\"plot\":{\"id\":\"aff48fbf-fb65-4383-b36c-c8bfd6e37939\",\"subtype\":\"Figure\",\"type\":\"Plot\"},\"ticker\":{\"id\":\"6ce4a149-b4c2-49a2-98a1-453f29cd7beb\",\"type\":\"BasicTicker\"}},\"id\":\"28b8bc44-fc20-432a-bb46-805841cea8fa\",\"type\":\"Grid\"},{\"attributes\":{\"label\":{\"value\":\"CV interface\"},\"renderers\":[{\"id\":\"9ac9eb5d-8fad-429a-9abd-9baa86606796\",\"type\":\"GlyphRenderer\"}]},\"id\":\"3e27e272-27a1-45bc-b5ef-b4f3b93e004b\",\"type\":\"LegendItem\"},{\"attributes\":{\"label\":{\"value\":\"Centroids\"},\"renderers\":[{\"id\":\"b3ac211d-2d97-42c1-8b42-a1833f288798\",\"type\":\"GlyphRenderer\"}]},\"id\":\"7bf5efa3-bc5a-4917-ae79-9352a86b7d97\",\"type\":\"LegendItem\"},{\"attributes\":{\"callback\":null,\"column_names\":[\"x\",\"y\"],\"data\":{\"x\":{\"__ndarray__\":\"AAAAAAAAAAAAAAAAAAAAAAAAAAAAAAAAAAAAAAAAAAAAAAAAAAAAAAAAAAAAAAAAAAAAAAAAAAAAAAAAAAAAAAAAAAAAAAAAAAAAAAAAAAAAAAAAAAAAAA==\",\"dtype\":\"float64\",\"shape\":[11]},\"y\":[-100.0,-90.0,-80.0,-70.0,-60.0,-50.0,-40.0,-30.0,-20.0,-10.0,0.0]},\"selected\":null,\"selection_policy\":null},\"id\":\"b56441c4-77e0-4e52-8015-6c48ae615004\",\"type\":\"ColumnDataSource\"},{\"attributes\":{\"data_source\":{\"id\":\"830780ee-ad66-40d5-bed5-5e95a266cb01\",\"type\":\"ColumnDataSource\"},\"glyph\":{\"id\":\"502bae9b-66e8-4986-9ca7-c3658201ae57\",\"type\":\"Line\"},\"hover_glyph\":null,\"muted_glyph\":null,\"nonselection_glyph\":{\"id\":\"fa5b979b-9231-4eab-bfc3-b513dc0485aa\",\"type\":\"Line\"},\"selection_glyph\":null,\"view\":{\"id\":\"0896037e-a0e2-4421-82bf-a38a0f9cfd59\",\"type\":\"CDSView\"}},\"id\":\"966a4aef-5e01-43c6-9b66-0eb167beec82\",\"type\":\"GlyphRenderer\"},{\"attributes\":{},\"id\":\"5144c221-9564-454f-88a1-1918edc66ea2\",\"type\":\"BasicTickFormatter\"},{\"attributes\":{\"source\":{\"id\":\"ea7b1e7b-f892-414c-9433-e000be472e58\",\"type\":\"ColumnDataSource\"}},\"id\":\"a712af91-fa57-4307-8832-151a38aa76f0\",\"type\":\"CDSView\"},{\"attributes\":{\"below\":[{\"id\":\"0481a92f-f24c-42aa-80fc-03fcec6cb84f\",\"type\":\"LinearAxis\"}],\"left\":[{\"id\":\"c25d1234-ae44-4aeb-aaf8-28156c47c8a4\",\"type\":\"LinearAxis\"}],\"renderers\":[{\"id\":\"0481a92f-f24c-42aa-80fc-03fcec6cb84f\",\"type\":\"LinearAxis\"},{\"id\":\"6b21c6cb-2502-4560-a00f-b4c39658fa3a\",\"type\":\"Grid\"},{\"id\":\"c25d1234-ae44-4aeb-aaf8-28156c47c8a4\",\"type\":\"LinearAxis\"},{\"id\":\"28b8bc44-fc20-432a-bb46-805841cea8fa\",\"type\":\"Grid\"},{\"id\":\"2e122ae2-f396-476f-b747-2f537faa45e4\",\"type\":\"BoxAnnotation\"},{\"id\":\"25cdb999-4588-4076-af96-1b91a1ac1e9d\",\"type\":\"Legend\"},{\"id\":\"b3ac211d-2d97-42c1-8b42-a1833f288798\",\"type\":\"GlyphRenderer\"},{\"id\":\"9ac9eb5d-8fad-429a-9abd-9baa86606796\",\"type\":\"GlyphRenderer\"},{\"id\":\"63717eef-fe9c-4e62-ba5e-8ab3225172d2\",\"type\":\"GlyphRenderer\"},{\"id\":\"966a4aef-5e01-43c6-9b66-0eb167beec82\",\"type\":\"GlyphRenderer\"},{\"id\":\"c6789fe3-65ef-41c4-a36c-d8d65e079652\",\"type\":\"GlyphRenderer\"}],\"title\":{\"id\":\"b9908ef0-61a6-4d20-a4fd-676de6198269\",\"type\":\"Title\"},\"toolbar\":{\"id\":\"ae0bf396-9911-44d0-972e-aefe695b662b\",\"type\":\"Toolbar\"},\"x_range\":{\"id\":\"6fc5f430-8601-4250-8db1-411c8e94b197\",\"type\":\"Range1d\"},\"x_scale\":{\"id\":\"6efe3d5f-8f70-4f49-ae81-d5e03fdda12d\",\"type\":\"LinearScale\"},\"y_range\":{\"id\":\"bd7a6ec6-72e1-4318-a5ac-f3d02009120d\",\"type\":\"DataRange1d\"},\"y_scale\":{\"id\":\"ac6474ac-dd8f-4bdf-8034-712227fbf93f\",\"type\":\"LinearScale\"}},\"id\":\"aff48fbf-fb65-4383-b36c-c8bfd6e37939\",\"subtype\":\"Figure\",\"type\":\"Plot\"},{\"attributes\":{},\"id\":\"3018d991-5330-4f06-8325-4522ffa45141\",\"type\":\"WheelZoomTool\"},{\"attributes\":{},\"id\":\"6ce4a149-b4c2-49a2-98a1-453f29cd7beb\",\"type\":\"BasicTicker\"},{\"attributes\":{},\"id\":\"d87f005a-8763-4c2f-a2d0-edc4edc1895d\",\"type\":\"BasicTicker\"},{\"attributes\":{},\"id\":\"55c7fc22-3e96-4e0b-86c4-c4eae3e1bd09\",\"type\":\"BasicTickFormatter\"},{\"attributes\":{\"callback\":null,\"column_names\":[\"x\",\"y\"],\"data\":{\"x\":[-0.2,0.2],\"y\":[-100,-100]},\"selected\":null,\"selection_policy\":null},\"id\":\"e8b96743-7082-4176-a0f0-8e4e1447828c\",\"type\":\"ColumnDataSource\"},{\"attributes\":{\"fill_alpha\":{\"value\":0.1},\"fill_color\":{\"value\":\"#1f77b4\"},\"line_alpha\":{\"value\":0.1},\"line_color\":{\"value\":\"#1f77b4\"},\"x\":{\"field\":\"x\"},\"y\":{\"field\":\"y\"}},\"id\":\"b8c284e2-574f-4247-9083-bb8ff148cff7\",\"type\":\"Circle\"},{\"attributes\":{\"callback\":null,\"column_names\":[\"x\",\"y\"],\"data\":{\"x\":[-0.2,0.2],\"y\":[0,0]},\"selected\":null,\"selection_policy\":null},\"id\":\"ea7b1e7b-f892-414c-9433-e000be472e58\",\"type\":\"ColumnDataSource\"},{\"attributes\":{\"data_source\":{\"id\":\"d2f17afd-0bba-4200-814d-b03b0b5740e4\",\"type\":\"ColumnDataSource\"},\"glyph\":{\"id\":\"58ab4fd7-77d3-43fe-8c43-96158c3d85c6\",\"type\":\"Circle\"},\"hover_glyph\":null,\"muted_glyph\":null,\"nonselection_glyph\":{\"id\":\"b8c284e2-574f-4247-9083-bb8ff148cff7\",\"type\":\"Circle\"},\"selection_glyph\":null,\"view\":{\"id\":\"0da5c828-6b8d-4843-8778-4dccc43fef0d\",\"type\":\"CDSView\"}},\"id\":\"b3ac211d-2d97-42c1-8b42-a1833f288798\",\"type\":\"GlyphRenderer\"},{\"attributes\":{\"line_color\":\"red\",\"line_width\":0.3,\"x\":{\"field\":\"x\"},\"y\":{\"field\":\"y\"}},\"id\":\"502bae9b-66e8-4986-9ca7-c3658201ae57\",\"type\":\"Line\"},{\"attributes\":{\"axis_label\":\"\\u03b7 [m]\",\"axis_label_text_font_size\":{\"value\":\"18px\"},\"formatter\":{\"id\":\"5144c221-9564-454f-88a1-1918edc66ea2\",\"type\":\"BasicTickFormatter\"},\"plot\":{\"id\":\"aff48fbf-fb65-4383-b36c-c8bfd6e37939\",\"subtype\":\"Figure\",\"type\":\"Plot\"},\"ticker\":{\"id\":\"6ce4a149-b4c2-49a2-98a1-453f29cd7beb\",\"type\":\"BasicTicker\"}},\"id\":\"c25d1234-ae44-4aeb-aaf8-28156c47c8a4\",\"type\":\"LinearAxis\"},{\"attributes\":{\"align\":\"center\",\"plot\":null,\"text\":\"Grid geometry\",\"text_font_size\":{\"value\":\"22px\"}},\"id\":\"b9908ef0-61a6-4d20-a4fd-676de6198269\",\"type\":\"Title\"},{\"attributes\":{\"source\":{\"id\":\"d2f17afd-0bba-4200-814d-b03b0b5740e4\",\"type\":\"ColumnDataSource\"}},\"id\":\"0da5c828-6b8d-4843-8778-4dccc43fef0d\",\"type\":\"CDSView\"},{\"attributes\":{\"callback\":null,\"column_names\":[\"x\",\"y\"],\"data\":{\"x\":[-0.2,0.2],\"y\":[-100,-100]},\"selected\":null,\"selection_policy\":null},\"id\":\"830780ee-ad66-40d5-bed5-5e95a266cb01\",\"type\":\"ColumnDataSource\"},{\"attributes\":{\"formatter\":{\"id\":\"55c7fc22-3e96-4e0b-86c4-c4eae3e1bd09\",\"type\":\"BasicTickFormatter\"},\"plot\":{\"id\":\"aff48fbf-fb65-4383-b36c-c8bfd6e37939\",\"subtype\":\"Figure\",\"type\":\"Plot\"},\"ticker\":{\"id\":\"d87f005a-8763-4c2f-a2d0-edc4edc1895d\",\"type\":\"BasicTicker\"}},\"id\":\"0481a92f-f24c-42aa-80fc-03fcec6cb84f\",\"type\":\"LinearAxis\"},{\"attributes\":{\"bottom_units\":\"screen\",\"fill_alpha\":{\"value\":0.5},\"fill_color\":{\"value\":\"lightgrey\"},\"left_units\":\"screen\",\"level\":\"overlay\",\"line_alpha\":{\"value\":1.0},\"line_color\":{\"value\":\"black\"},\"line_dash\":[4,4],\"line_width\":{\"value\":2},\"plot\":null,\"render_mode\":\"css\",\"right_units\":\"screen\",\"top_units\":\"screen\"},\"id\":\"2e122ae2-f396-476f-b747-2f537faa45e4\",\"type\":\"BoxAnnotation\"}],\"root_ids\":[\"aff48fbf-fb65-4383-b36c-c8bfd6e37939\"]},\"title\":\"Bokeh Application\",\"version\":\"0.12.15\"}};\n",
       "  var render_items = [{\"docid\":\"edfd9f06-e5af-41bb-8691-b862e01fab4b\",\"elementid\":\"0fd26779-f1b0-4500-8cc5-6177c35e1d44\",\"modelid\":\"aff48fbf-fb65-4383-b36c-c8bfd6e37939\"}];\n",
       "  root.Bokeh.embed.embed_items_notebook(docs_json, render_items);\n",
       "\n",
       "  }\n",
       "  if (root.Bokeh !== undefined) {\n",
       "    embed_document(root);\n",
       "  } else {\n",
       "    var attempts = 0;\n",
       "    var timer = setInterval(function(root) {\n",
       "      if (root.Bokeh !== undefined) {\n",
       "        embed_document(root);\n",
       "        clearInterval(timer);\n",
       "      }\n",
       "      attempts++;\n",
       "      if (attempts > 100) {\n",
       "        console.log(\"Bokeh: ERROR: Unable to run BokehJS code because BokehJS library is missing\")\n",
       "        clearInterval(timer);\n",
       "      }\n",
       "    }, 10, root)\n",
       "  }\n",
       "})(window);"
      ],
      "application/vnd.bokehjs_exec.v0+json": ""
     },
     "metadata": {
      "application/vnd.bokehjs_exec.v0+json": {
       "id": "aff48fbf-fb65-4383-b36c-c8bfd6e37939"
      }
     },
     "output_type": "display_data"
    }
   ],
   "source": [
    "showMesh(data,z,eta,etaDual,labelSize,titleSize,legendSize,axisTicksSize,lineWidth)"
   ]
  },
  {
   "cell_type": "markdown",
   "metadata": {},
   "source": [
    "### From the data in the csv file, the initial condition for water suction $\\psi$ is defined\n",
    "    -hydrostatic distribution for a given $\\psi$ @bottom -> 'hydrostatic'\n",
    "    -constant distribution for a given $\\psi$ @bottom -> 'constant'\n",
    "    -linear interpolation from measurement points -> 'linear interpolation'"
   ]
  },
  {
   "cell_type": "code",
   "execution_count": 25,
   "metadata": {},
   "outputs": [],
   "source": [
    "psiIC = setInitialCondition(data,eta,z,icType)"
   ]
  },
  {
   "cell_type": "code",
   "execution_count": 26,
   "metadata": {},
   "outputs": [
    {
     "data": {
      "text/html": [
       "\n",
       "<div class=\"bk-root\">\n",
       "    <div class=\"bk-plotdiv\" id=\"3fb6c192-7097-45ce-9efe-c9e88adecb3b\"></div>\n",
       "</div>"
      ]
     },
     "metadata": {},
     "output_type": "display_data"
    },
    {
     "data": {
      "application/javascript": [
       "(function(root) {\n",
       "  function embed_document(root) {\n",
       "    \n",
       "  var docs_json = {\"a5ad6264-9755-432e-a061-03ee787eb0aa\":{\"roots\":{\"references\":[{\"attributes\":{\"plot\":{\"id\":\"a56d810e-656a-4e72-a5f9-ae2a664fbd86\",\"subtype\":\"Figure\",\"type\":\"Plot\"},\"ticker\":{\"id\":\"7527dc45-58a4-4b8f-87ef-b2a1954a7f6e\",\"type\":\"BasicTicker\"}},\"id\":\"4497fd0b-1be3-4e5f-99fd-ab798c8d1c22\",\"type\":\"Grid\"},{\"attributes\":{\"below\":[{\"id\":\"c25d1904-e141-4c21-87a5-83da8660eb55\",\"type\":\"LinearAxis\"}],\"left\":[{\"id\":\"0c1e00a9-abf0-49ca-8125-5c7cebd394a8\",\"type\":\"LinearAxis\"}],\"renderers\":[{\"id\":\"c25d1904-e141-4c21-87a5-83da8660eb55\",\"type\":\"LinearAxis\"},{\"id\":\"4497fd0b-1be3-4e5f-99fd-ab798c8d1c22\",\"type\":\"Grid\"},{\"id\":\"0c1e00a9-abf0-49ca-8125-5c7cebd394a8\",\"type\":\"LinearAxis\"},{\"id\":\"1121aaaf-25c5-40c6-9968-7678e83d7de1\",\"type\":\"Grid\"},{\"id\":\"76547d66-fdb8-4379-ac38-187619d2e630\",\"type\":\"BoxAnnotation\"},{\"id\":\"43d3c22f-309c-4a60-a716-3be39fe92766\",\"type\":\"GlyphRenderer\"}],\"title\":{\"id\":\"d967e96b-837a-4eb2-a523-2ed1d52520bd\",\"type\":\"Title\"},\"toolbar\":{\"id\":\"f7569409-c21f-4f9f-aedc-a1902fad5c43\",\"type\":\"Toolbar\"},\"x_range\":{\"id\":\"47da528d-8480-4d3b-bbbc-0d5a80fb6385\",\"type\":\"DataRange1d\"},\"x_scale\":{\"id\":\"089c9023-ad81-4838-bfe6-e32d4f1265d1\",\"type\":\"LinearScale\"},\"y_range\":{\"id\":\"e59d1ef7-4cb6-4d07-99e4-54159e81476b\",\"type\":\"DataRange1d\"},\"y_scale\":{\"id\":\"9a9a26f5-43d6-43df-a8f6-8171019092fc\",\"type\":\"LinearScale\"}},\"id\":\"a56d810e-656a-4e72-a5f9-ae2a664fbd86\",\"subtype\":\"Figure\",\"type\":\"Plot\"},{\"attributes\":{\"axis_label\":\"\\u03b7 [m]\",\"axis_label_text_font_size\":{\"value\":\"18px\"},\"formatter\":{\"id\":\"e4b6762b-3ee7-4d51-8540-b970eff3f710\",\"type\":\"BasicTickFormatter\"},\"plot\":{\"id\":\"a56d810e-656a-4e72-a5f9-ae2a664fbd86\",\"subtype\":\"Figure\",\"type\":\"Plot\"},\"ticker\":{\"id\":\"77d1ba06-4442-4df9-b395-e0b1b8ef638c\",\"type\":\"BasicTicker\"}},\"id\":\"0c1e00a9-abf0-49ca-8125-5c7cebd394a8\",\"type\":\"LinearAxis\"},{\"attributes\":{\"callback\":null,\"column_names\":[\"x\",\"y\"],\"data\":{\"x\":{\"__ndarray__\":\"AAAAAAAAFMAAAAAAAAAuwAAAAAAAADnAAAAAAACAQcAAAAAAAIBGwAAAAAAAgEvAAAAAAABAUMAAAAAAAMBSwAAAAAAAQFXAAAAAAADAV8AAAAAAAABZwA==\",\"dtype\":\"float64\",\"shape\":[11]},\"y\":{\"__ndarray__\":\"AAAAAADAV8AAAAAAAEBVwAAAAAAAwFLAAAAAAABAUMAAAAAAAIBLwAAAAAAAgEbAAAAAAACAQcAAAAAAAAA5wAAAAAAAAC7AAAAAAAAAFMAAAAAAAAAAAA==\",\"dtype\":\"float64\",\"shape\":[11]}},\"selected\":null,\"selection_policy\":null},\"id\":\"eb4e897d-d1b3-445f-9ca0-ae1c45379813\",\"type\":\"ColumnDataSource\"},{\"attributes\":{\"callback\":null},\"id\":\"47da528d-8480-4d3b-bbbc-0d5a80fb6385\",\"type\":\"DataRange1d\"},{\"attributes\":{},\"id\":\"7527dc45-58a4-4b8f-87ef-b2a1954a7f6e\",\"type\":\"BasicTicker\"},{\"attributes\":{\"data_source\":{\"id\":\"eb4e897d-d1b3-445f-9ca0-ae1c45379813\",\"type\":\"ColumnDataSource\"},\"glyph\":{\"id\":\"4eb682c5-7f73-4cd6-9a68-eb3e839e6c07\",\"type\":\"Circle\"},\"hover_glyph\":null,\"muted_glyph\":null,\"nonselection_glyph\":{\"id\":\"90eaaf01-942b-47e7-8832-b7d03546332b\",\"type\":\"Circle\"},\"selection_glyph\":null,\"view\":{\"id\":\"57d35f11-b604-460d-996f-c5b06f3a8588\",\"type\":\"CDSView\"}},\"id\":\"43d3c22f-309c-4a60-a716-3be39fe92766\",\"type\":\"GlyphRenderer\"},{\"attributes\":{},\"id\":\"2d18aaff-7e57-46c2-918a-34457cd4fd76\",\"type\":\"BasicTickFormatter\"},{\"attributes\":{\"fill_color\":{\"value\":\"blue\"},\"line_color\":{\"value\":\"blue\"},\"x\":{\"field\":\"x\"},\"y\":{\"field\":\"y\"}},\"id\":\"4eb682c5-7f73-4cd6-9a68-eb3e839e6c07\",\"type\":\"Circle\"},{\"attributes\":{\"fill_alpha\":{\"value\":0.1},\"fill_color\":{\"value\":\"#1f77b4\"},\"line_alpha\":{\"value\":0.1},\"line_color\":{\"value\":\"#1f77b4\"},\"x\":{\"field\":\"x\"},\"y\":{\"field\":\"y\"}},\"id\":\"90eaaf01-942b-47e7-8832-b7d03546332b\",\"type\":\"Circle\"},{\"attributes\":{\"callback\":null,\"tooltips\":[[\"(x,y)\",\"($x, $y)\"]]},\"id\":\"81689fd2-6670-4598-962d-7766aa7c191a\",\"type\":\"HoverTool\"},{\"attributes\":{},\"id\":\"93818af0-085f-47ec-b459-22ea818ceca6\",\"type\":\"ResetTool\"},{\"attributes\":{\"align\":\"center\",\"plot\":null,\"text\":\"Initial condition for \\u03c8: hydrostatic\",\"text_font_size\":{\"value\":\"22px\"}},\"id\":\"d967e96b-837a-4eb2-a523-2ed1d52520bd\",\"type\":\"Title\"},{\"attributes\":{\"overlay\":{\"id\":\"76547d66-fdb8-4379-ac38-187619d2e630\",\"type\":\"BoxAnnotation\"}},\"id\":\"e5361a7b-c5b3-4672-b03c-b261d7bc4bd4\",\"type\":\"BoxZoomTool\"},{\"attributes\":{},\"id\":\"23deaecd-7c12-4629-b2d5-b201d55e5b17\",\"type\":\"WheelZoomTool\"},{\"attributes\":{\"active_drag\":\"auto\",\"active_inspect\":\"auto\",\"active_scroll\":\"auto\",\"active_tap\":\"auto\",\"tools\":[{\"id\":\"81689fd2-6670-4598-962d-7766aa7c191a\",\"type\":\"HoverTool\"},{\"id\":\"e701e1e2-2f90-4537-a820-3acd7b662e54\",\"type\":\"PanTool\"},{\"id\":\"23deaecd-7c12-4629-b2d5-b201d55e5b17\",\"type\":\"WheelZoomTool\"},{\"id\":\"e5361a7b-c5b3-4672-b03c-b261d7bc4bd4\",\"type\":\"BoxZoomTool\"},{\"id\":\"93818af0-085f-47ec-b459-22ea818ceca6\",\"type\":\"ResetTool\"}]},\"id\":\"f7569409-c21f-4f9f-aedc-a1902fad5c43\",\"type\":\"Toolbar\"},{\"attributes\":{\"callback\":null},\"id\":\"e59d1ef7-4cb6-4d07-99e4-54159e81476b\",\"type\":\"DataRange1d\"},{\"attributes\":{},\"id\":\"e701e1e2-2f90-4537-a820-3acd7b662e54\",\"type\":\"PanTool\"},{\"attributes\":{},\"id\":\"9a9a26f5-43d6-43df-a8f6-8171019092fc\",\"type\":\"LinearScale\"},{\"attributes\":{\"bottom_units\":\"screen\",\"fill_alpha\":{\"value\":0.5},\"fill_color\":{\"value\":\"lightgrey\"},\"left_units\":\"screen\",\"level\":\"overlay\",\"line_alpha\":{\"value\":1.0},\"line_color\":{\"value\":\"black\"},\"line_dash\":[4,4],\"line_width\":{\"value\":2},\"plot\":null,\"render_mode\":\"css\",\"right_units\":\"screen\",\"top_units\":\"screen\"},\"id\":\"76547d66-fdb8-4379-ac38-187619d2e630\",\"type\":\"BoxAnnotation\"},{\"attributes\":{},\"id\":\"089c9023-ad81-4838-bfe6-e32d4f1265d1\",\"type\":\"LinearScale\"},{\"attributes\":{},\"id\":\"e4b6762b-3ee7-4d51-8540-b970eff3f710\",\"type\":\"BasicTickFormatter\"},{\"attributes\":{\"axis_label\":\"\\u03c8 [m]\",\"axis_label_text_font_size\":{\"value\":\"18px\"},\"formatter\":{\"id\":\"2d18aaff-7e57-46c2-918a-34457cd4fd76\",\"type\":\"BasicTickFormatter\"},\"plot\":{\"id\":\"a56d810e-656a-4e72-a5f9-ae2a664fbd86\",\"subtype\":\"Figure\",\"type\":\"Plot\"},\"ticker\":{\"id\":\"7527dc45-58a4-4b8f-87ef-b2a1954a7f6e\",\"type\":\"BasicTicker\"}},\"id\":\"c25d1904-e141-4c21-87a5-83da8660eb55\",\"type\":\"LinearAxis\"},{\"attributes\":{\"dimension\":1,\"plot\":{\"id\":\"a56d810e-656a-4e72-a5f9-ae2a664fbd86\",\"subtype\":\"Figure\",\"type\":\"Plot\"},\"ticker\":{\"id\":\"77d1ba06-4442-4df9-b395-e0b1b8ef638c\",\"type\":\"BasicTicker\"}},\"id\":\"1121aaaf-25c5-40c6-9968-7678e83d7de1\",\"type\":\"Grid\"},{\"attributes\":{\"source\":{\"id\":\"eb4e897d-d1b3-445f-9ca0-ae1c45379813\",\"type\":\"ColumnDataSource\"}},\"id\":\"57d35f11-b604-460d-996f-c5b06f3a8588\",\"type\":\"CDSView\"},{\"attributes\":{},\"id\":\"77d1ba06-4442-4df9-b395-e0b1b8ef638c\",\"type\":\"BasicTicker\"}],\"root_ids\":[\"a56d810e-656a-4e72-a5f9-ae2a664fbd86\"]},\"title\":\"Bokeh Application\",\"version\":\"0.12.15\"}};\n",
       "  var render_items = [{\"docid\":\"a5ad6264-9755-432e-a061-03ee787eb0aa\",\"elementid\":\"3fb6c192-7097-45ce-9efe-c9e88adecb3b\",\"modelid\":\"a56d810e-656a-4e72-a5f9-ae2a664fbd86\"}];\n",
       "  root.Bokeh.embed.embed_items_notebook(docs_json, render_items);\n",
       "\n",
       "  }\n",
       "  if (root.Bokeh !== undefined) {\n",
       "    embed_document(root);\n",
       "  } else {\n",
       "    var attempts = 0;\n",
       "    var timer = setInterval(function(root) {\n",
       "      if (root.Bokeh !== undefined) {\n",
       "        embed_document(root);\n",
       "        clearInterval(timer);\n",
       "      }\n",
       "      attempts++;\n",
       "      if (attempts > 100) {\n",
       "        console.log(\"Bokeh: ERROR: Unable to run BokehJS code because BokehJS library is missing\")\n",
       "        clearInterval(timer);\n",
       "      }\n",
       "    }, 10, root)\n",
       "  }\n",
       "})(window);"
      ],
      "application/vnd.bokehjs_exec.v0+json": ""
     },
     "metadata": {
      "application/vnd.bokehjs_exec.v0+json": {
       "id": "a56d810e-656a-4e72-a5f9-ae2a664fbd86"
      }
     },
     "output_type": "display_data"
    }
   ],
   "source": [
    "showInitialCondition(psiIC,eta,icType,labelSize,titleSize,legendSize,axisTicksSize,lineWidth)"
   ]
  },
  {
   "cell_type": "code",
   "execution_count": 27,
   "metadata": {
    "scrolled": true
   },
   "outputs": [
    {
     "data": {
      "text/html": [
       "\n",
       "<div class=\"bk-root\">\n",
       "    <div class=\"bk-plotdiv\" id=\"e03711d8-c130-400f-a9e2-8cd85313c169\"></div>\n",
       "</div>"
      ]
     },
     "metadata": {},
     "output_type": "display_data"
    },
    {
     "data": {
      "application/javascript": [
       "(function(root) {\n",
       "  function embed_document(root) {\n",
       "    \n",
       "  var docs_json = {\"f2bf708f-3a2b-4837-af44-5571b04fc6e1\":{\"roots\":{\"references\":[{\"attributes\":{\"active_drag\":\"auto\",\"active_inspect\":\"auto\",\"active_scroll\":\"auto\",\"active_tap\":\"auto\",\"tools\":[{\"id\":\"510c1149-b692-4638-9a4f-a5e7b8529077\",\"type\":\"HoverTool\"},{\"id\":\"889344d2-0452-4ffc-82cf-54304c80fbad\",\"type\":\"PanTool\"},{\"id\":\"2eecacfb-805a-441f-82c8-51ef0a11fa8e\",\"type\":\"WheelZoomTool\"},{\"id\":\"69a9b7f8-a7b9-4c14-b6f3-8dd7b39fdb8b\",\"type\":\"BoxZoomTool\"},{\"id\":\"a4b8419f-2aa7-4bad-8f3a-44c9946b05e2\",\"type\":\"ResetTool\"}]},\"id\":\"20a0f8af-1c89-4098-8e56-5416516f160b\",\"type\":\"Toolbar\"},{\"attributes\":{},\"id\":\"a4b8419f-2aa7-4bad-8f3a-44c9946b05e2\",\"type\":\"ResetTool\"},{\"attributes\":{},\"id\":\"dd6b6a46-232c-4317-99a2-616129215622\",\"type\":\"LinearScale\"},{\"attributes\":{\"below\":[{\"id\":\"cdebdddf-2140-4703-9a96-47720d117d08\",\"type\":\"LinearAxis\"}],\"left\":[{\"id\":\"24cd2cd4-d298-4a19-9f63-8c52fb951ec2\",\"type\":\"LinearAxis\"}],\"renderers\":[{\"id\":\"cdebdddf-2140-4703-9a96-47720d117d08\",\"type\":\"LinearAxis\"},{\"id\":\"7e6a6c8f-5215-432c-b986-57bc0748df3a\",\"type\":\"Grid\"},{\"id\":\"24cd2cd4-d298-4a19-9f63-8c52fb951ec2\",\"type\":\"LinearAxis\"},{\"id\":\"598d6dd1-f010-40a4-8be3-04b931e08a81\",\"type\":\"Grid\"},{\"id\":\"f0369fc6-f868-45f1-92b1-3f84a8c62cba\",\"type\":\"BoxAnnotation\"},{\"id\":\"b9edd8db-643a-4c6e-9b63-d4b958d9cc4b\",\"type\":\"GlyphRenderer\"}],\"title\":{\"id\":\"ed6ae9ec-ef56-41d0-bf1a-f12ede9435c3\",\"type\":\"Title\"},\"toolbar\":{\"id\":\"20a0f8af-1c89-4098-8e56-5416516f160b\",\"type\":\"Toolbar\"},\"x_range\":{\"id\":\"b748368a-84ad-4dd7-9e5e-737347598d86\",\"type\":\"DataRange1d\"},\"x_scale\":{\"id\":\"dd6b6a46-232c-4317-99a2-616129215622\",\"type\":\"LinearScale\"},\"y_range\":{\"id\":\"f869196b-90de-4c28-8578-b05982eeb14a\",\"type\":\"DataRange1d\"},\"y_scale\":{\"id\":\"02ebe911-acd8-4045-8ecd-59d53f00351d\",\"type\":\"LinearScale\"}},\"id\":\"de89f8ac-1226-4d8d-93f4-92e4bae59e4c\",\"subtype\":\"Figure\",\"type\":\"Plot\"},{\"attributes\":{\"callback\":null},\"id\":\"f869196b-90de-4c28-8578-b05982eeb14a\",\"type\":\"DataRange1d\"},{\"attributes\":{\"source\":{\"id\":\"ba9a4152-d998-4950-a2e7-dc392bf1b1fe\",\"type\":\"ColumnDataSource\"}},\"id\":\"d81b445e-17b2-4bfb-b5e0-9bd9d03bd796\",\"type\":\"CDSView\"},{\"attributes\":{},\"id\":\"02ebe911-acd8-4045-8ecd-59d53f00351d\",\"type\":\"LinearScale\"},{\"attributes\":{},\"id\":\"86af7f78-5f6e-4285-9546-93be3eac536e\",\"type\":\"BasicTickFormatter\"},{\"attributes\":{\"plot\":{\"id\":\"de89f8ac-1226-4d8d-93f4-92e4bae59e4c\",\"subtype\":\"Figure\",\"type\":\"Plot\"},\"ticker\":{\"id\":\"6ee7125c-1cf5-4afa-babe-f48310f36da1\",\"type\":\"BasicTicker\"}},\"id\":\"7e6a6c8f-5215-432c-b986-57bc0748df3a\",\"type\":\"Grid\"},{\"attributes\":{\"axis_label\":\"h [m]\",\"axis_label_text_font_size\":{\"value\":\"18px\"},\"formatter\":{\"id\":\"86af7f78-5f6e-4285-9546-93be3eac536e\",\"type\":\"BasicTickFormatter\"},\"plot\":{\"id\":\"de89f8ac-1226-4d8d-93f4-92e4bae59e4c\",\"subtype\":\"Figure\",\"type\":\"Plot\"},\"ticker\":{\"id\":\"6ee7125c-1cf5-4afa-babe-f48310f36da1\",\"type\":\"BasicTicker\"}},\"id\":\"cdebdddf-2140-4703-9a96-47720d117d08\",\"type\":\"LinearAxis\"},{\"attributes\":{},\"id\":\"6ee7125c-1cf5-4afa-babe-f48310f36da1\",\"type\":\"BasicTicker\"},{\"attributes\":{\"axis_label\":\"\\u03b7  [m]\",\"axis_label_text_font_size\":{\"value\":\"18px\"},\"formatter\":{\"id\":\"68bb44d0-5883-44c7-91a9-50195f822e07\",\"type\":\"BasicTickFormatter\"},\"plot\":{\"id\":\"de89f8ac-1226-4d8d-93f4-92e4bae59e4c\",\"subtype\":\"Figure\",\"type\":\"Plot\"},\"ticker\":{\"id\":\"cb2e147a-c112-4d7d-98f9-a9c4a12c79bf\",\"type\":\"BasicTicker\"}},\"id\":\"24cd2cd4-d298-4a19-9f63-8c52fb951ec2\",\"type\":\"LinearAxis\"},{\"attributes\":{\"callback\":null},\"id\":\"b748368a-84ad-4dd7-9e5e-737347598d86\",\"type\":\"DataRange1d\"},{\"attributes\":{\"callback\":null,\"column_names\":[\"x\",\"y\"],\"data\":{\"x\":{\"__ndarray__\":\"AAAAAAAAAAAAAAAAAAAAAAAAAAAAAAAAAAAAAAAAAAAAAAAAAAAAAAAAAAAAAAAAAAAAAAAAAAAAAAAAAAAAAAAAAAAAAAAAAAAAAAAAAAAAAAAAAAAAAA==\",\"dtype\":\"float64\",\"shape\":[11]},\"y\":{\"__ndarray__\":\"AAAAAADAV8AAAAAAAEBVwAAAAAAAwFLAAAAAAABAUMAAAAAAAIBLwAAAAAAAgEbAAAAAAACAQcAAAAAAAAA5wAAAAAAAAC7AAAAAAAAAFMAAAAAAAAAAAA==\",\"dtype\":\"float64\",\"shape\":[11]}},\"selected\":null,\"selection_policy\":null},\"id\":\"ba9a4152-d998-4950-a2e7-dc392bf1b1fe\",\"type\":\"ColumnDataSource\"},{\"attributes\":{},\"id\":\"cb2e147a-c112-4d7d-98f9-a9c4a12c79bf\",\"type\":\"BasicTicker\"},{\"attributes\":{\"dimension\":1,\"plot\":{\"id\":\"de89f8ac-1226-4d8d-93f4-92e4bae59e4c\",\"subtype\":\"Figure\",\"type\":\"Plot\"},\"ticker\":{\"id\":\"cb2e147a-c112-4d7d-98f9-a9c4a12c79bf\",\"type\":\"BasicTicker\"}},\"id\":\"598d6dd1-f010-40a4-8be3-04b931e08a81\",\"type\":\"Grid\"},{\"attributes\":{\"fill_color\":{\"value\":\"blue\"},\"line_color\":{\"value\":\"blue\"},\"x\":{\"field\":\"x\"},\"y\":{\"field\":\"y\"}},\"id\":\"cc141cca-88ef-424e-83fd-b6617f9cee25\",\"type\":\"Circle\"},{\"attributes\":{\"bottom_units\":\"screen\",\"fill_alpha\":{\"value\":0.5},\"fill_color\":{\"value\":\"lightgrey\"},\"left_units\":\"screen\",\"level\":\"overlay\",\"line_alpha\":{\"value\":1.0},\"line_color\":{\"value\":\"black\"},\"line_dash\":[4,4],\"line_width\":{\"value\":2},\"plot\":null,\"render_mode\":\"css\",\"right_units\":\"screen\",\"top_units\":\"screen\"},\"id\":\"f0369fc6-f868-45f1-92b1-3f84a8c62cba\",\"type\":\"BoxAnnotation\"},{\"attributes\":{\"align\":\"center\",\"plot\":null,\"text\":\"Total hydraulic head:hydrostatic\",\"text_font_size\":{\"value\":\"22px\"}},\"id\":\"ed6ae9ec-ef56-41d0-bf1a-f12ede9435c3\",\"type\":\"Title\"},{\"attributes\":{},\"id\":\"889344d2-0452-4ffc-82cf-54304c80fbad\",\"type\":\"PanTool\"},{\"attributes\":{\"fill_alpha\":{\"value\":0.1},\"fill_color\":{\"value\":\"#1f77b4\"},\"line_alpha\":{\"value\":0.1},\"line_color\":{\"value\":\"#1f77b4\"},\"x\":{\"field\":\"x\"},\"y\":{\"field\":\"y\"}},\"id\":\"46026c82-1b03-4474-a098-49c5e4be22a3\",\"type\":\"Circle\"},{\"attributes\":{\"overlay\":{\"id\":\"f0369fc6-f868-45f1-92b1-3f84a8c62cba\",\"type\":\"BoxAnnotation\"}},\"id\":\"69a9b7f8-a7b9-4c14-b6f3-8dd7b39fdb8b\",\"type\":\"BoxZoomTool\"},{\"attributes\":{\"callback\":null,\"tooltips\":[[\"(x,y)\",\"($x, $y)\"]]},\"id\":\"510c1149-b692-4638-9a4f-a5e7b8529077\",\"type\":\"HoverTool\"},{\"attributes\":{},\"id\":\"2eecacfb-805a-441f-82c8-51ef0a11fa8e\",\"type\":\"WheelZoomTool\"},{\"attributes\":{},\"id\":\"68bb44d0-5883-44c7-91a9-50195f822e07\",\"type\":\"BasicTickFormatter\"},{\"attributes\":{\"data_source\":{\"id\":\"ba9a4152-d998-4950-a2e7-dc392bf1b1fe\",\"type\":\"ColumnDataSource\"},\"glyph\":{\"id\":\"cc141cca-88ef-424e-83fd-b6617f9cee25\",\"type\":\"Circle\"},\"hover_glyph\":null,\"muted_glyph\":null,\"nonselection_glyph\":{\"id\":\"46026c82-1b03-4474-a098-49c5e4be22a3\",\"type\":\"Circle\"},\"selection_glyph\":null,\"view\":{\"id\":\"d81b445e-17b2-4bfb-b5e0-9bd9d03bd796\",\"type\":\"CDSView\"}},\"id\":\"b9edd8db-643a-4c6e-9b63-d4b958d9cc4b\",\"type\":\"GlyphRenderer\"}],\"root_ids\":[\"de89f8ac-1226-4d8d-93f4-92e4bae59e4c\"]},\"title\":\"Bokeh Application\",\"version\":\"0.12.15\"}};\n",
       "  var render_items = [{\"docid\":\"f2bf708f-3a2b-4837-af44-5571b04fc6e1\",\"elementid\":\"e03711d8-c130-400f-a9e2-8cd85313c169\",\"modelid\":\"de89f8ac-1226-4d8d-93f4-92e4bae59e4c\"}];\n",
       "  root.Bokeh.embed.embed_items_notebook(docs_json, render_items);\n",
       "\n",
       "  }\n",
       "  if (root.Bokeh !== undefined) {\n",
       "    embed_document(root);\n",
       "  } else {\n",
       "    var attempts = 0;\n",
       "    var timer = setInterval(function(root) {\n",
       "      if (root.Bokeh !== undefined) {\n",
       "        embed_document(root);\n",
       "        clearInterval(timer);\n",
       "      }\n",
       "      attempts++;\n",
       "      if (attempts > 100) {\n",
       "        console.log(\"Bokeh: ERROR: Unable to run BokehJS code because BokehJS library is missing\")\n",
       "        clearInterval(timer);\n",
       "      }\n",
       "    }, 10, root)\n",
       "  }\n",
       "})(window);"
      ],
      "application/vnd.bokehjs_exec.v0+json": ""
     },
     "metadata": {
      "application/vnd.bokehjs_exec.v0+json": {
       "id": "de89f8ac-1226-4d8d-93f4-92e4bae59e4c"
      }
     },
     "output_type": "display_data"
    }
   ],
   "source": [
    "showTotalHead(psiIC,z,eta,icType,labelSize,titleSize,legendSize,axisTicksSize,lineWidth)"
   ]
  },
  {
   "cell_type": "markdown",
   "metadata": {},
   "source": [
    "### Assign hydraulic properties to each control volume of the grid\n",
    "For an explanantion of the data in the above dataFrame, please read first the presentation at "
   ]
  },
  {
   "cell_type": "code",
   "execution_count": 28,
   "metadata": {},
   "outputs": [],
   "source": [
    "[thetaS, thetaR, Ks, alphaSpecificStorage, betaSpecificStorage, n, alpha, par3SWRC, par4SWRC, par5SWRC, psiStar, par7SWRC, par8SWRC, et] = setParameters(data,eta)"
   ]
  },
  {
   "cell_type": "code",
   "execution_count": 29,
   "metadata": {},
   "outputs": [
    {
     "data": {
      "text/html": [
       "\n",
       "<div class=\"bk-root\">\n",
       "    <div class=\"bk-plotdiv\" id=\"58e7f5c5-4edc-4ed4-81d8-ce9b9fe21d6d\"></div>\n",
       "</div>"
      ]
     },
     "metadata": {},
     "output_type": "display_data"
    },
    {
     "data": {
      "application/javascript": [
       "(function(root) {\n",
       "  function embed_document(root) {\n",
       "    \n",
       "  var docs_json = {\"09f87215-2b34-4a4b-8cd5-19864c0752c8\":{\"roots\":{\"references\":[{\"attributes\":{\"bottom_units\":\"screen\",\"fill_alpha\":{\"value\":0.5},\"fill_color\":{\"value\":\"lightgrey\"},\"left_units\":\"screen\",\"level\":\"overlay\",\"line_alpha\":{\"value\":1.0},\"line_color\":{\"value\":\"black\"},\"line_dash\":[4,4],\"line_width\":{\"value\":2},\"plot\":null,\"render_mode\":\"css\",\"right_units\":\"screen\",\"top_units\":\"screen\"},\"id\":\"3177a04e-63a9-4e1c-8511-69d9c790394f\",\"type\":\"BoxAnnotation\"},{\"attributes\":{\"callback\":null},\"id\":\"497a96db-91c7-4af7-9bdc-d7d9666be8d0\",\"type\":\"DataRange1d\"},{\"attributes\":{},\"id\":\"34647ea0-14ca-425b-a391-df8b7fcb0bb7\",\"type\":\"PanTool\"},{\"attributes\":{},\"id\":\"6a3387e8-ab34-4bdc-98c9-24a746a2d7f9\",\"type\":\"LinearScale\"},{\"attributes\":{},\"id\":\"e23d5576-f21d-453f-914b-cbdc145cf23b\",\"type\":\"LinearScale\"},{\"attributes\":{},\"id\":\"70aed1ee-e05e-44f6-bd5e-8adc6aae6877\",\"type\":\"WheelZoomTool\"},{\"attributes\":{\"plot\":{\"id\":\"d6008a6b-16cf-4901-84ee-90211b6dbbbe\",\"subtype\":\"Figure\",\"type\":\"Plot\"},\"ticker\":{\"id\":\"a4344565-988c-4e58-936b-41285279a04c\",\"type\":\"BasicTicker\"}},\"id\":\"c9934f10-d361-4cf3-a28d-9d6fdfdbd2bc\",\"type\":\"Grid\"},{\"attributes\":{\"overlay\":{\"id\":\"3177a04e-63a9-4e1c-8511-69d9c790394f\",\"type\":\"BoxAnnotation\"}},\"id\":\"f1ab13b0-269f-4620-a177-ef2c017ff9d1\",\"type\":\"BoxZoomTool\"},{\"attributes\":{\"axis_label\":\"\\u03b1SS [1/Pa]\",\"axis_label_text_font_size\":{\"value\":\"18px\"},\"formatter\":{\"id\":\"42333ac7-80b6-46e5-973c-c376ce908bed\",\"type\":\"BasicTickFormatter\"},\"plot\":{\"id\":\"d6008a6b-16cf-4901-84ee-90211b6dbbbe\",\"subtype\":\"Figure\",\"type\":\"Plot\"},\"ticker\":{\"id\":\"a4344565-988c-4e58-936b-41285279a04c\",\"type\":\"BasicTicker\"}},\"id\":\"9932bcca-5758-4cab-911e-9f5ccb1cae26\",\"type\":\"LinearAxis\"},{\"attributes\":{},\"id\":\"c5556866-3d88-46b4-a2c0-6548043f0a2a\",\"type\":\"ResetTool\"},{\"attributes\":{},\"id\":\"a4344565-988c-4e58-936b-41285279a04c\",\"type\":\"BasicTicker\"},{\"attributes\":{\"data_source\":{\"id\":\"1d0b4fcf-4007-4e56-99f2-5ec31a1c88af\",\"type\":\"ColumnDataSource\"},\"glyph\":{\"id\":\"0c80a335-c836-4572-9c9d-2c8f71608d31\",\"type\":\"Circle\"},\"hover_glyph\":null,\"muted_glyph\":null,\"nonselection_glyph\":{\"id\":\"69f6020b-fcaf-40c5-95de-715452dd745d\",\"type\":\"Circle\"},\"selection_glyph\":null,\"view\":{\"id\":\"e44a73f5-7bca-44fd-8924-1a3f87c359f5\",\"type\":\"CDSView\"}},\"id\":\"d9fba29d-e248-4418-8c85-edd8a6c54d34\",\"type\":\"GlyphRenderer\"},{\"attributes\":{\"axis_label\":\"\\u03b7 [m]\",\"axis_label_text_font_size\":{\"value\":\"18px\"},\"formatter\":{\"id\":\"e1a4935b-4d5f-4c8c-96c8-dee047fc8ff6\",\"type\":\"BasicTickFormatter\"},\"plot\":{\"id\":\"d6008a6b-16cf-4901-84ee-90211b6dbbbe\",\"subtype\":\"Figure\",\"type\":\"Plot\"},\"ticker\":{\"id\":\"382dcc99-e037-4a6b-aebf-16e79bed9cab\",\"type\":\"BasicTicker\"}},\"id\":\"809c79b6-511d-4f41-8bfd-384961530edc\",\"type\":\"LinearAxis\"},{\"attributes\":{\"callback\":null,\"tabs\":[{\"id\":\"bbfd3773-9509-433c-b4d0-10467d13502f\",\"type\":\"Panel\"},{\"id\":\"9af313ed-346e-40e5-a47c-1935ecca0aba\",\"type\":\"Panel\"},{\"id\":\"b419bd9f-91c9-4069-9609-cdeb13f8676f\",\"type\":\"Panel\"},{\"id\":\"01ea91a4-4c3c-4e95-98a1-cb69b69bc6dc\",\"type\":\"Panel\"},{\"id\":\"6a57225e-e2f7-4256-ac11-c18b1e3199b7\",\"type\":\"Panel\"},{\"id\":\"6e0788ed-34bc-43a9-b6fd-70d0c674689f\",\"type\":\"Panel\"},{\"id\":\"32dda69d-8953-4755-b913-b8602acbf506\",\"type\":\"Panel\"},{\"id\":\"d070d09b-35b8-457d-afbf-366e7ed376e7\",\"type\":\"Panel\"}]},\"id\":\"c0755bf8-5ec5-49da-aa04-b79989087cfa\",\"type\":\"Tabs\"},{\"attributes\":{\"source\":{\"id\":\"1d0b4fcf-4007-4e56-99f2-5ec31a1c88af\",\"type\":\"ColumnDataSource\"}},\"id\":\"e44a73f5-7bca-44fd-8924-1a3f87c359f5\",\"type\":\"CDSView\"},{\"attributes\":{},\"id\":\"382dcc99-e037-4a6b-aebf-16e79bed9cab\",\"type\":\"BasicTicker\"},{\"attributes\":{\"dimension\":1,\"plot\":{\"id\":\"d6008a6b-16cf-4901-84ee-90211b6dbbbe\",\"subtype\":\"Figure\",\"type\":\"Plot\"},\"ticker\":{\"id\":\"382dcc99-e037-4a6b-aebf-16e79bed9cab\",\"type\":\"BasicTicker\"}},\"id\":\"61ba7023-e9e4-4d49-b7a5-094bdaa5cc1c\",\"type\":\"Grid\"},{\"attributes\":{},\"id\":\"69a49d97-4321-4e0f-851b-50fc07ac32bb\",\"type\":\"BasicTickFormatter\"},{\"attributes\":{\"fill_color\":{\"value\":\"red\"},\"line_color\":{\"value\":\"red\"},\"line_width\":{\"value\":0.3},\"x\":{\"field\":\"x\"},\"y\":{\"field\":\"y\"}},\"id\":\"6793cff1-844e-44c6-8514-79a9c64d61b4\",\"type\":\"Circle\"},{\"attributes\":{\"bottom_units\":\"screen\",\"fill_alpha\":{\"value\":0.5},\"fill_color\":{\"value\":\"lightgrey\"},\"left_units\":\"screen\",\"level\":\"overlay\",\"line_alpha\":{\"value\":1.0},\"line_color\":{\"value\":\"black\"},\"line_dash\":[4,4],\"line_width\":{\"value\":2},\"plot\":null,\"render_mode\":\"css\",\"right_units\":\"screen\",\"top_units\":\"screen\"},\"id\":\"56bc9c0c-84c6-4d92-bc6f-92c45eccf0bc\",\"type\":\"BoxAnnotation\"},{\"attributes\":{\"callback\":null,\"column_names\":[\"x\",\"y\"],\"data\":{\"x\":[5.88,5.88,5.88,5.88,5.88,5.88,5.88,5.88,5.88,5.88],\"y\":{\"__ndarray__\":\"AAAAAADAV8AAAAAAAEBVwAAAAAAAwFLAAAAAAABAUMAAAAAAAIBLwAAAAAAAgEbAAAAAAACAQcAAAAAAAAA5wAAAAAAAAC7AAAAAAAAAFMA=\",\"dtype\":\"float64\",\"shape\":[10]}},\"selected\":null,\"selection_policy\":null},\"id\":\"595272e5-aeca-4acf-825b-ab2408a8d023\",\"type\":\"ColumnDataSource\"},{\"attributes\":{},\"id\":\"d867f12d-9a66-4ad0-9c6e-def44be6c15a\",\"type\":\"BasicTickFormatter\"},{\"attributes\":{},\"id\":\"7bedf938-13f7-4906-af96-0746e5af666f\",\"type\":\"PanTool\"},{\"attributes\":{\"below\":[{\"id\":\"0f79a1e5-0f3d-4925-afe9-87b226d75e71\",\"type\":\"LinearAxis\"}],\"left\":[{\"id\":\"46b32235-a68b-42ad-b215-0789da17e32c\",\"type\":\"LinearAxis\"}],\"renderers\":[{\"id\":\"0f79a1e5-0f3d-4925-afe9-87b226d75e71\",\"type\":\"LinearAxis\"},{\"id\":\"d47607fa-be67-413f-978a-25f976f028c6\",\"type\":\"Grid\"},{\"id\":\"46b32235-a68b-42ad-b215-0789da17e32c\",\"type\":\"LinearAxis\"},{\"id\":\"5cc240af-1a1b-407c-91f2-e2c0e67cca8d\",\"type\":\"Grid\"},{\"id\":\"4969e211-5c9f-42a9-bee9-7f6efec7b2ad\",\"type\":\"BoxAnnotation\"},{\"id\":\"2e1a52f1-b1bf-4065-b6e3-12e0510b122b\",\"type\":\"GlyphRenderer\"}],\"title\":{\"id\":\"4551085c-e3bb-4500-b716-6e61ae3469f3\",\"type\":\"Title\"},\"toolbar\":{\"id\":\"f2731182-c964-45b0-ad3b-9217236a4674\",\"type\":\"Toolbar\"},\"x_range\":{\"id\":\"9db538a8-dade-4e77-bf2a-e8c9a903b1e8\",\"type\":\"DataRange1d\"},\"x_scale\":{\"id\":\"9acc2e7e-fd7f-405b-bcaa-922d580f2cf3\",\"type\":\"LinearScale\"},\"y_range\":{\"id\":\"bcf869d1-56a1-4c21-8ddd-c51023eceb59\",\"type\":\"DataRange1d\"},\"y_scale\":{\"id\":\"587770f0-1e9d-4462-b0db-01e673f80dcb\",\"type\":\"LinearScale\"}},\"id\":\"c279d8c4-951b-4853-b261-c96bd01d928d\",\"subtype\":\"Figure\",\"type\":\"Plot\"},{\"attributes\":{\"child\":{\"id\":\"279d13af-9824-4ef3-9ba0-5168761a964a\",\"subtype\":\"Figure\",\"type\":\"Plot\"},\"title\":\"n\"},\"id\":\"01ea91a4-4c3c-4e95-98a1-cb69b69bc6dc\",\"type\":\"Panel\"},{\"attributes\":{},\"id\":\"21245f2f-7030-48f7-9648-4a3cf549b157\",\"type\":\"WheelZoomTool\"},{\"attributes\":{\"align\":\"center\",\"plot\":null,\"text\":\"Van Genuchten \\u03b1\",\"text_font_size\":{\"value\":\"22px\"}},\"id\":\"4551085c-e3bb-4500-b716-6e61ae3469f3\",\"type\":\"Title\"},{\"attributes\":{\"overlay\":{\"id\":\"56bc9c0c-84c6-4d92-bc6f-92c45eccf0bc\",\"type\":\"BoxAnnotation\"}},\"id\":\"3276949e-6741-4fcd-95df-50e20fe4818f\",\"type\":\"BoxZoomTool\"},{\"attributes\":{\"fill_color\":{\"value\":\"red\"},\"line_color\":{\"value\":\"red\"},\"line_width\":{\"value\":0.3},\"x\":{\"field\":\"x\"},\"y\":{\"field\":\"y\"}},\"id\":\"586dd6d5-b0d3-4ea2-8c10-215ef617fa56\",\"type\":\"Circle\"},{\"attributes\":{},\"id\":\"45fd3a47-b2a8-4943-a28f-e1d630864c01\",\"type\":\"ResetTool\"},{\"attributes\":{\"callback\":null},\"id\":\"9db538a8-dade-4e77-bf2a-e8c9a903b1e8\",\"type\":\"DataRange1d\"},{\"attributes\":{\"source\":{\"id\":\"a328cba7-6b08-49eb-be50-df74e4258e45\",\"type\":\"ColumnDataSource\"}},\"id\":\"099e250e-7526-44ae-b525-1eb5f1e01b21\",\"type\":\"CDSView\"},{\"attributes\":{\"fill_alpha\":{\"value\":0.1},\"fill_color\":{\"value\":\"#1f77b4\"},\"line_alpha\":{\"value\":0.1},\"line_color\":{\"value\":\"#1f77b4\"},\"line_width\":{\"value\":0.3},\"x\":{\"field\":\"x\"},\"y\":{\"field\":\"y\"}},\"id\":\"4cb69ba4-d295-43eb-b727-259ff75a60c1\",\"type\":\"Circle\"},{\"attributes\":{\"active_drag\":\"auto\",\"active_inspect\":\"auto\",\"active_scroll\":\"auto\",\"active_tap\":\"auto\",\"tools\":[{\"id\":\"876b9b88-1ab3-4d8c-a599-f5a8e3c9673a\",\"type\":\"HoverTool\"},{\"id\":\"a20f6cbd-5291-4ec7-a7c9-89bf4efe9cb6\",\"type\":\"PanTool\"},{\"id\":\"6e0a2da1-fd73-4bf5-a69e-f2bf451d18e0\",\"type\":\"WheelZoomTool\"},{\"id\":\"959fe143-d269-4fdb-aa10-da4ac556b15d\",\"type\":\"BoxZoomTool\"},{\"id\":\"b36129c6-cc6d-49d2-8c98-c88a476ee268\",\"type\":\"ResetTool\"}]},\"id\":\"f2731182-c964-45b0-ad3b-9217236a4674\",\"type\":\"Toolbar\"},{\"attributes\":{\"data_source\":{\"id\":\"2e029fe5-8648-471e-b6d5-7e0d67cb44a6\",\"type\":\"ColumnDataSource\"},\"glyph\":{\"id\":\"6793cff1-844e-44c6-8514-79a9c64d61b4\",\"type\":\"Circle\"},\"hover_glyph\":null,\"muted_glyph\":null,\"nonselection_glyph\":{\"id\":\"4cb69ba4-d295-43eb-b727-259ff75a60c1\",\"type\":\"Circle\"},\"selection_glyph\":null,\"view\":{\"id\":\"ddcecba6-e8fe-4259-9dad-013f7621c989\",\"type\":\"CDSView\"}},\"id\":\"40dd8849-f911-4f68-8930-b559036228c1\",\"type\":\"GlyphRenderer\"},{\"attributes\":{\"callback\":null},\"id\":\"bcf869d1-56a1-4c21-8ddd-c51023eceb59\",\"type\":\"DataRange1d\"},{\"attributes\":{\"source\":{\"id\":\"2e029fe5-8648-471e-b6d5-7e0d67cb44a6\",\"type\":\"ColumnDataSource\"}},\"id\":\"ddcecba6-e8fe-4259-9dad-013f7621c989\",\"type\":\"CDSView\"},{\"attributes\":{},\"id\":\"9acc2e7e-fd7f-405b-bcaa-922d580f2cf3\",\"type\":\"LinearScale\"},{\"attributes\":{},\"id\":\"42333ac7-80b6-46e5-973c-c376ce908bed\",\"type\":\"BasicTickFormatter\"},{\"attributes\":{},\"id\":\"587770f0-1e9d-4462-b0db-01e673f80dcb\",\"type\":\"LinearScale\"},{\"attributes\":{\"plot\":{\"id\":\"c279d8c4-951b-4853-b261-c96bd01d928d\",\"subtype\":\"Figure\",\"type\":\"Plot\"},\"ticker\":{\"id\":\"fab61fdc-9598-4eba-b2ac-cc9ea83b5dae\",\"type\":\"BasicTicker\"}},\"id\":\"d47607fa-be67-413f-978a-25f976f028c6\",\"type\":\"Grid\"},{\"attributes\":{\"dimension\":1,\"plot\":{\"id\":\"03e277e3-a3a2-444f-a5df-237a19f0e3ca\",\"subtype\":\"Figure\",\"type\":\"Plot\"},\"ticker\":{\"id\":\"8a4a7c7b-f663-4024-95a9-03190a1050a7\",\"type\":\"BasicTicker\"}},\"id\":\"34fc0fc4-f892-47fa-bedf-d44ad16f8a43\",\"type\":\"Grid\"},{\"attributes\":{\"axis_label\":\"\\u03b1 [m] \",\"axis_label_text_font_size\":{\"value\":\"18px\"},\"formatter\":{\"id\":\"0e7b0558-f51a-4622-bd30-1c453aaebc31\",\"type\":\"BasicTickFormatter\"},\"plot\":{\"id\":\"c279d8c4-951b-4853-b261-c96bd01d928d\",\"subtype\":\"Figure\",\"type\":\"Plot\"},\"ticker\":{\"id\":\"fab61fdc-9598-4eba-b2ac-cc9ea83b5dae\",\"type\":\"BasicTicker\"}},\"id\":\"0f79a1e5-0f3d-4925-afe9-87b226d75e71\",\"type\":\"LinearAxis\"},{\"attributes\":{},\"id\":\"e1a4935b-4d5f-4c8c-96c8-dee047fc8ff6\",\"type\":\"BasicTickFormatter\"},{\"attributes\":{\"below\":[{\"id\":\"0e999c90-c465-4fe7-a9a7-1fde19d76f6f\",\"type\":\"LinearAxis\"}],\"left\":[{\"id\":\"3b7544ea-874f-456d-975c-48ea7d0d3a74\",\"type\":\"LinearAxis\"}],\"renderers\":[{\"id\":\"0e999c90-c465-4fe7-a9a7-1fde19d76f6f\",\"type\":\"LinearAxis\"},{\"id\":\"b5645498-b8f5-4236-8ba9-7b4d9f3c4330\",\"type\":\"Grid\"},{\"id\":\"3b7544ea-874f-456d-975c-48ea7d0d3a74\",\"type\":\"LinearAxis\"},{\"id\":\"34fc0fc4-f892-47fa-bedf-d44ad16f8a43\",\"type\":\"Grid\"},{\"id\":\"19e9885c-9672-4210-9250-46518ed20abd\",\"type\":\"BoxAnnotation\"},{\"id\":\"5e014f2f-6211-483e-9d96-359c0a3ac969\",\"type\":\"GlyphRenderer\"}],\"title\":{\"id\":\"9fe6d3d4-96dc-4cf7-aeff-0a3d0e3cd1f4\",\"type\":\"Title\"},\"toolbar\":{\"id\":\"75ce9a3a-c564-49cb-a322-c23340bdbd55\",\"type\":\"Toolbar\"},\"x_range\":{\"id\":\"07be2278-bfd2-4eea-8bf7-207eb0aae1ee\",\"type\":\"DataRange1d\"},\"x_scale\":{\"id\":\"53cf22ad-8cb7-44cf-93ab-3f26d34c5b17\",\"type\":\"LinearScale\"},\"y_range\":{\"id\":\"5cfc7d37-501e-4b14-bcb7-3192021c2a35\",\"type\":\"DataRange1d\"},\"y_scale\":{\"id\":\"ae33a07a-4d58-4c56-8980-d0028d54e11c\",\"type\":\"LinearScale\"}},\"id\":\"03e277e3-a3a2-444f-a5df-237a19f0e3ca\",\"subtype\":\"Figure\",\"type\":\"Plot\"},{\"attributes\":{},\"id\":\"fab61fdc-9598-4eba-b2ac-cc9ea83b5dae\",\"type\":\"BasicTicker\"},{\"attributes\":{\"child\":{\"id\":\"d6008a6b-16cf-4901-84ee-90211b6dbbbe\",\"subtype\":\"Figure\",\"type\":\"Plot\"},\"title\":\"\\u03b1SpecStor\"},\"id\":\"32dda69d-8953-4755-b913-b8602acbf506\",\"type\":\"Panel\"},{\"attributes\":{\"axis_label\":\"\\u03b7 [m]\",\"axis_label_text_font_size\":{\"value\":\"18px\"},\"formatter\":{\"id\":\"3eb4a546-7d61-4964-94a1-624a71b26fb2\",\"type\":\"BasicTickFormatter\"},\"plot\":{\"id\":\"c279d8c4-951b-4853-b261-c96bd01d928d\",\"subtype\":\"Figure\",\"type\":\"Plot\"},\"ticker\":{\"id\":\"50dab5a6-f94e-47d3-95c7-df475fbf09cb\",\"type\":\"BasicTicker\"}},\"id\":\"46b32235-a68b-42ad-b215-0789da17e32c\",\"type\":\"LinearAxis\"},{\"attributes\":{\"align\":\"center\",\"plot\":null,\"text\":\"Compressibility of water\",\"text_font_size\":{\"value\":\"22px\"}},\"id\":\"9fe6d3d4-96dc-4cf7-aeff-0a3d0e3cd1f4\",\"type\":\"Title\"},{\"attributes\":{},\"id\":\"50dab5a6-f94e-47d3-95c7-df475fbf09cb\",\"type\":\"BasicTicker\"},{\"attributes\":{\"dimension\":1,\"plot\":{\"id\":\"c279d8c4-951b-4853-b261-c96bd01d928d\",\"subtype\":\"Figure\",\"type\":\"Plot\"},\"ticker\":{\"id\":\"50dab5a6-f94e-47d3-95c7-df475fbf09cb\",\"type\":\"BasicTicker\"}},\"id\":\"5cc240af-1a1b-407c-91f2-e2c0e67cca8d\",\"type\":\"Grid\"},{\"attributes\":{\"fill_color\":{\"value\":\"red\"},\"line_color\":{\"value\":\"red\"},\"line_width\":{\"value\":0.3},\"x\":{\"field\":\"x\"},\"y\":{\"field\":\"y\"}},\"id\":\"391024a3-6658-461e-bf78-8d1d5bdf3722\",\"type\":\"Circle\"},{\"attributes\":{\"callback\":null},\"id\":\"07be2278-bfd2-4eea-8bf7-207eb0aae1ee\",\"type\":\"DataRange1d\"},{\"attributes\":{\"bottom_units\":\"screen\",\"fill_alpha\":{\"value\":0.5},\"fill_color\":{\"value\":\"lightgrey\"},\"left_units\":\"screen\",\"level\":\"overlay\",\"line_alpha\":{\"value\":1.0},\"line_color\":{\"value\":\"black\"},\"line_dash\":[4,4],\"line_width\":{\"value\":2},\"plot\":null,\"render_mode\":\"css\",\"right_units\":\"screen\",\"top_units\":\"screen\"},\"id\":\"4969e211-5c9f-42a9-bee9-7f6efec7b2ad\",\"type\":\"BoxAnnotation\"},{\"attributes\":{\"active_drag\":\"auto\",\"active_inspect\":\"auto\",\"active_scroll\":\"auto\",\"active_tap\":\"auto\",\"tools\":[{\"id\":\"876b9b88-1ab3-4d8c-a599-f5a8e3c9673a\",\"type\":\"HoverTool\"},{\"id\":\"65e78cfe-ecdf-46fc-8d5f-4f9239d6a102\",\"type\":\"PanTool\"},{\"id\":\"7a93c971-da64-4f7e-8d0f-990b733e0142\",\"type\":\"WheelZoomTool\"},{\"id\":\"728df192-59c6-43ce-a759-b447533c5fe9\",\"type\":\"BoxZoomTool\"},{\"id\":\"e2db25af-d3c0-464a-aa74-4d2a4b0457ca\",\"type\":\"ResetTool\"}]},\"id\":\"75ce9a3a-c564-49cb-a322-c23340bdbd55\",\"type\":\"Toolbar\"},{\"attributes\":{\"callback\":null,\"column_names\":[\"x\",\"y\"],\"data\":{\"x\":[0.07,0.07,0.07,0.07,0.07,0.07,0.07,0.07,0.07,0.07],\"y\":{\"__ndarray__\":\"AAAAAADAV8AAAAAAAEBVwAAAAAAAwFLAAAAAAABAUMAAAAAAAIBLwAAAAAAAgEbAAAAAAACAQcAAAAAAAAA5wAAAAAAAAC7AAAAAAAAAFMA=\",\"dtype\":\"float64\",\"shape\":[10]}},\"selected\":null,\"selection_policy\":null},\"id\":\"d8b81fb8-96fd-4f80-ba9c-93090103513c\",\"type\":\"ColumnDataSource\"},{\"attributes\":{\"below\":[{\"id\":\"2bb0fe28-4eaa-4b0d-ba45-72cb3eaf558b\",\"type\":\"LinearAxis\"}],\"left\":[{\"id\":\"b0b53e7c-c827-4cb9-a2e5-d6ff81c6f237\",\"type\":\"LinearAxis\"}],\"renderers\":[{\"id\":\"2bb0fe28-4eaa-4b0d-ba45-72cb3eaf558b\",\"type\":\"LinearAxis\"},{\"id\":\"223a742b-5ed0-43ae-a07f-068c1aed0c0d\",\"type\":\"Grid\"},{\"id\":\"b0b53e7c-c827-4cb9-a2e5-d6ff81c6f237\",\"type\":\"LinearAxis\"},{\"id\":\"c76c3daf-41b1-403b-aa9b-c259596ac4cc\",\"type\":\"Grid\"},{\"id\":\"4e442c55-323b-4dbf-aeb3-7d3b0ae972e9\",\"type\":\"BoxAnnotation\"},{\"id\":\"84453e4f-e8d0-49b5-9728-821058fad263\",\"type\":\"GlyphRenderer\"}],\"title\":{\"id\":\"34baf87b-6e3c-435f-95e1-ac12a9f0d20c\",\"type\":\"Title\"},\"toolbar\":{\"id\":\"d8372540-698c-4008-aace-4205b4a75479\",\"type\":\"Toolbar\"},\"x_range\":{\"id\":\"9886bd63-0145-432f-b7bb-54c3d06988fa\",\"type\":\"DataRange1d\"},\"x_scale\":{\"id\":\"bbc1d3a5-c868-44a5-b9be-21c5f4d7e37a\",\"type\":\"LinearScale\"},\"y_range\":{\"id\":\"ed0e86ae-d94b-40b0-a4e5-c98640e830b0\",\"type\":\"DataRange1d\"},\"y_scale\":{\"id\":\"d1375ffd-f69f-4795-9b47-6a3290313ec9\",\"type\":\"LinearScale\"}},\"id\":\"aedd9d53-d497-4e35-84bf-3d4a3f114011\",\"subtype\":\"Figure\",\"type\":\"Plot\"},{\"attributes\":{\"callback\":null},\"id\":\"5cfc7d37-501e-4b14-bcb7-3192021c2a35\",\"type\":\"DataRange1d\"},{\"attributes\":{},\"id\":\"a20f6cbd-5291-4ec7-a7c9-89bf4efe9cb6\",\"type\":\"PanTool\"},{\"attributes\":{},\"id\":\"53cf22ad-8cb7-44cf-93ab-3f26d34c5b17\",\"type\":\"LinearScale\"},{\"attributes\":{},\"id\":\"ae33a07a-4d58-4c56-8980-d0028d54e11c\",\"type\":\"LinearScale\"},{\"attributes\":{},\"id\":\"6e0a2da1-fd73-4bf5-a69e-f2bf451d18e0\",\"type\":\"WheelZoomTool\"},{\"attributes\":{\"overlay\":{\"id\":\"4969e211-5c9f-42a9-bee9-7f6efec7b2ad\",\"type\":\"BoxAnnotation\"}},\"id\":\"959fe143-d269-4fdb-aa10-da4ac556b15d\",\"type\":\"BoxZoomTool\"},{\"attributes\":{\"callback\":null,\"column_names\":[\"x\",\"y\"],\"data\":{\"x\":[0,0,0,0,0,0,0,0,0,0],\"y\":{\"__ndarray__\":\"AAAAAADAV8AAAAAAAEBVwAAAAAAAwFLAAAAAAABAUMAAAAAAAIBLwAAAAAAAgEbAAAAAAACAQcAAAAAAAAA5wAAAAAAAAC7AAAAAAAAAFMA=\",\"dtype\":\"float64\",\"shape\":[10]}},\"selected\":null,\"selection_policy\":null},\"id\":\"30720a64-940a-4dc4-9cac-eb9ed6490938\",\"type\":\"ColumnDataSource\"},{\"attributes\":{\"axis_label\":\"\\u03b2SS [1/Pa]\",\"axis_label_text_font_size\":{\"value\":\"18px\"},\"formatter\":{\"id\":\"5c827143-4e96-4a33-ab83-83de05911f36\",\"type\":\"BasicTickFormatter\"},\"plot\":{\"id\":\"03e277e3-a3a2-444f-a5df-237a19f0e3ca\",\"subtype\":\"Figure\",\"type\":\"Plot\"},\"ticker\":{\"id\":\"f69e44ae-2597-4f35-b6dc-acf90aa213f4\",\"type\":\"BasicTicker\"}},\"id\":\"0e999c90-c465-4fe7-a9a7-1fde19d76f6f\",\"type\":\"LinearAxis\"},{\"attributes\":{},\"id\":\"b36129c6-cc6d-49d2-8c98-c88a476ee268\",\"type\":\"ResetTool\"},{\"attributes\":{\"fill_alpha\":{\"value\":0.1},\"fill_color\":{\"value\":\"#1f77b4\"},\"line_alpha\":{\"value\":0.1},\"line_color\":{\"value\":\"#1f77b4\"},\"line_width\":{\"value\":0.3},\"x\":{\"field\":\"x\"},\"y\":{\"field\":\"y\"}},\"id\":\"9e4f3019-20a8-4058-8c83-fc719acaea9b\",\"type\":\"Circle\"},{\"attributes\":{},\"id\":\"f69e44ae-2597-4f35-b6dc-acf90aa213f4\",\"type\":\"BasicTicker\"},{\"attributes\":{\"data_source\":{\"id\":\"595272e5-aeca-4acf-825b-ab2408a8d023\",\"type\":\"ColumnDataSource\"},\"glyph\":{\"id\":\"586dd6d5-b0d3-4ea2-8c10-215ef617fa56\",\"type\":\"Circle\"},\"hover_glyph\":null,\"muted_glyph\":null,\"nonselection_glyph\":{\"id\":\"9e4f3019-20a8-4058-8c83-fc719acaea9b\",\"type\":\"Circle\"},\"selection_glyph\":null,\"view\":{\"id\":\"65f51782-a1b3-4f11-81e7-f0830c76f714\",\"type\":\"CDSView\"}},\"id\":\"2e1a52f1-b1bf-4065-b6e3-12e0510b122b\",\"type\":\"GlyphRenderer\"},{\"attributes\":{},\"id\":\"8a4a7c7b-f663-4024-95a9-03190a1050a7\",\"type\":\"BasicTicker\"},{\"attributes\":{\"active_drag\":\"auto\",\"active_inspect\":\"auto\",\"active_scroll\":\"auto\",\"active_tap\":\"auto\",\"tools\":[{\"id\":\"876b9b88-1ab3-4d8c-a599-f5a8e3c9673a\",\"type\":\"HoverTool\"},{\"id\":\"d25de91c-f012-4879-b0cb-583711f85a42\",\"type\":\"PanTool\"},{\"id\":\"6ec3c453-fad8-4f36-9e79-46b2e7955e26\",\"type\":\"WheelZoomTool\"},{\"id\":\"e185e864-8e0c-4a5e-ac75-8c6115858f32\",\"type\":\"BoxZoomTool\"},{\"id\":\"9924edc6-8c49-4b71-94dd-b341368e19c1\",\"type\":\"ResetTool\"}]},\"id\":\"7403431c-4a13-46dc-b551-83673f5060d8\",\"type\":\"Toolbar\"},{\"attributes\":{\"source\":{\"id\":\"595272e5-aeca-4acf-825b-ab2408a8d023\",\"type\":\"ColumnDataSource\"}},\"id\":\"65f51782-a1b3-4f11-81e7-f0830c76f714\",\"type\":\"CDSView\"},{\"attributes\":{\"callback\":null},\"id\":\"30651b0c-16bc-4ac1-aa15-9d34daf5f666\",\"type\":\"DataRange1d\"},{\"attributes\":{\"bottom_units\":\"screen\",\"fill_alpha\":{\"value\":0.5},\"fill_color\":{\"value\":\"lightgrey\"},\"left_units\":\"screen\",\"level\":\"overlay\",\"line_alpha\":{\"value\":1.0},\"line_color\":{\"value\":\"black\"},\"line_dash\":[4,4],\"line_width\":{\"value\":2},\"plot\":null,\"render_mode\":\"css\",\"right_units\":\"screen\",\"top_units\":\"screen\"},\"id\":\"19e9885c-9672-4210-9250-46518ed20abd\",\"type\":\"BoxAnnotation\"},{\"attributes\":{},\"id\":\"0e7b0558-f51a-4622-bd30-1c453aaebc31\",\"type\":\"BasicTickFormatter\"},{\"attributes\":{},\"id\":\"65e78cfe-ecdf-46fc-8d5f-4f9239d6a102\",\"type\":\"PanTool\"},{\"attributes\":{\"align\":\"center\",\"plot\":null,\"text\":\"Water content at saturation\",\"text_font_size\":{\"value\":\"22px\"}},\"id\":\"020cad4f-c918-4445-9819-8e0474b5e11d\",\"type\":\"Title\"},{\"attributes\":{\"align\":\"center\",\"plot\":null,\"text\":\"Residual water content\",\"text_font_size\":{\"value\":\"22px\"}},\"id\":\"34baf87b-6e3c-435f-95e1-ac12a9f0d20c\",\"type\":\"Title\"},{\"attributes\":{\"bottom_units\":\"screen\",\"fill_alpha\":{\"value\":0.5},\"fill_color\":{\"value\":\"lightgrey\"},\"left_units\":\"screen\",\"level\":\"overlay\",\"line_alpha\":{\"value\":1.0},\"line_color\":{\"value\":\"black\"},\"line_dash\":[4,4],\"line_width\":{\"value\":2},\"plot\":null,\"render_mode\":\"css\",\"right_units\":\"screen\",\"top_units\":\"screen\"},\"id\":\"9da70ca7-77e9-402e-b00e-a7668dac7201\",\"type\":\"BoxAnnotation\"},{\"attributes\":{},\"id\":\"3eb4a546-7d61-4964-94a1-624a71b26fb2\",\"type\":\"BasicTickFormatter\"},{\"attributes\":{},\"id\":\"7a93c971-da64-4f7e-8d0f-990b733e0142\",\"type\":\"WheelZoomTool\"},{\"attributes\":{\"below\":[{\"id\":\"6720f51f-ba38-47c7-ac46-501be87403a2\",\"type\":\"LinearAxis\"}],\"left\":[{\"id\":\"991552f7-3604-42d9-bbac-1bd0414c5955\",\"type\":\"LinearAxis\"}],\"renderers\":[{\"id\":\"6720f51f-ba38-47c7-ac46-501be87403a2\",\"type\":\"LinearAxis\"},{\"id\":\"e1d1df89-e89a-4df6-833a-26b4c10b0998\",\"type\":\"Grid\"},{\"id\":\"991552f7-3604-42d9-bbac-1bd0414c5955\",\"type\":\"LinearAxis\"},{\"id\":\"df35c1c7-a490-4ba0-8e1f-a58165f26bae\",\"type\":\"Grid\"},{\"id\":\"9da70ca7-77e9-402e-b00e-a7668dac7201\",\"type\":\"BoxAnnotation\"},{\"id\":\"7f529868-0bd4-441d-921d-93fc1e0a180f\",\"type\":\"GlyphRenderer\"}],\"title\":{\"id\":\"49c66f46-4968-4ef8-94cf-72fac4031b1d\",\"type\":\"Title\"},\"toolbar\":{\"id\":\"325fb8a8-a88f-4b0b-8ac6-048d765ed4e7\",\"type\":\"Toolbar\"},\"x_range\":{\"id\":\"b9dd141f-e69b-45ec-b3b5-d8f43181059c\",\"type\":\"DataRange1d\"},\"x_scale\":{\"id\":\"6d85994e-447b-4736-b931-3d38a1af6dd0\",\"type\":\"LinearScale\"},\"y_range\":{\"id\":\"ae152331-9e1f-4281-8d47-c531348f9c4a\",\"type\":\"DataRange1d\"},\"y_scale\":{\"id\":\"e1e5da9d-3236-45d2-b679-49e594d6eaf6\",\"type\":\"LinearScale\"}},\"id\":\"dc9818fa-66ce-40a3-87e6-b630bab828b9\",\"subtype\":\"Figure\",\"type\":\"Plot\"},{\"attributes\":{\"overlay\":{\"id\":\"19e9885c-9672-4210-9250-46518ed20abd\",\"type\":\"BoxAnnotation\"}},\"id\":\"728df192-59c6-43ce-a759-b447533c5fe9\",\"type\":\"BoxZoomTool\"},{\"attributes\":{\"child\":{\"id\":\"c279d8c4-951b-4853-b261-c96bd01d928d\",\"subtype\":\"Figure\",\"type\":\"Plot\"},\"title\":\"\\u03b1\"},\"id\":\"6a57225e-e2f7-4256-ac11-c18b1e3199b7\",\"type\":\"Panel\"},{\"attributes\":{},\"id\":\"e2db25af-d3c0-464a-aa74-4d2a4b0457ca\",\"type\":\"ResetTool\"},{\"attributes\":{\"align\":\"center\",\"plot\":null,\"text\":\"Van Genuchten \\u03c8*\",\"text_font_size\":{\"value\":\"22px\"}},\"id\":\"49c66f46-4968-4ef8-94cf-72fac4031b1d\",\"type\":\"Title\"},{\"attributes\":{\"fill_alpha\":{\"value\":0.1},\"fill_color\":{\"value\":\"#1f77b4\"},\"line_alpha\":{\"value\":0.1},\"line_color\":{\"value\":\"#1f77b4\"},\"line_width\":{\"value\":0.3},\"x\":{\"field\":\"x\"},\"y\":{\"field\":\"y\"}},\"id\":\"cfc3412c-a5fd-4dd2-8233-24e44d101216\",\"type\":\"Circle\"},{\"attributes\":{\"data_source\":{\"id\":\"30720a64-940a-4dc4-9cac-eb9ed6490938\",\"type\":\"ColumnDataSource\"},\"glyph\":{\"id\":\"391024a3-6658-461e-bf78-8d1d5bdf3722\",\"type\":\"Circle\"},\"hover_glyph\":null,\"muted_glyph\":null,\"nonselection_glyph\":{\"id\":\"cfc3412c-a5fd-4dd2-8233-24e44d101216\",\"type\":\"Circle\"},\"selection_glyph\":null,\"view\":{\"id\":\"8675f25e-c083-48d4-9ed4-a90534e8af6c\",\"type\":\"CDSView\"}},\"id\":\"5e014f2f-6211-483e-9d96-359c0a3ac969\",\"type\":\"GlyphRenderer\"},{\"attributes\":{\"fill_color\":{\"value\":\"red\"},\"line_color\":{\"value\":\"red\"},\"line_width\":{\"value\":0.3},\"x\":{\"field\":\"x\"},\"y\":{\"field\":\"y\"}},\"id\":\"1541e4fc-5160-45a3-a18f-f297cbe59623\",\"type\":\"Circle\"},{\"attributes\":{\"callback\":null},\"id\":\"b9dd141f-e69b-45ec-b3b5-d8f43181059c\",\"type\":\"DataRange1d\"},{\"attributes\":{\"source\":{\"id\":\"30720a64-940a-4dc4-9cac-eb9ed6490938\",\"type\":\"ColumnDataSource\"}},\"id\":\"8675f25e-c083-48d4-9ed4-a90534e8af6c\",\"type\":\"CDSView\"},{\"attributes\":{\"below\":[{\"id\":\"74755094-6b08-488e-87bb-65ece921be21\",\"type\":\"LinearAxis\"}],\"left\":[{\"id\":\"506044a0-4f26-464a-83c1-1abc268d77bc\",\"type\":\"LinearAxis\"}],\"renderers\":[{\"id\":\"74755094-6b08-488e-87bb-65ece921be21\",\"type\":\"LinearAxis\"},{\"id\":\"3bf60075-3ba4-4ffb-b81e-36470ff9cf67\",\"type\":\"Grid\"},{\"id\":\"506044a0-4f26-464a-83c1-1abc268d77bc\",\"type\":\"LinearAxis\"},{\"id\":\"89c9fb3e-29b0-49b9-9f8c-e7ebf35de808\",\"type\":\"Grid\"},{\"id\":\"9af8308b-0baa-43b4-ac4e-a776d7e57c37\",\"type\":\"BoxAnnotation\"},{\"id\":\"d99e2eea-dc8a-4ca5-96f8-8de82079ec31\",\"type\":\"GlyphRenderer\"}],\"title\":{\"id\":\"020cad4f-c918-4445-9819-8e0474b5e11d\",\"type\":\"Title\"},\"toolbar\":{\"id\":\"7403431c-4a13-46dc-b551-83673f5060d8\",\"type\":\"Toolbar\"},\"x_range\":{\"id\":\"30651b0c-16bc-4ac1-aa15-9d34daf5f666\",\"type\":\"DataRange1d\"},\"x_scale\":{\"id\":\"da623ba0-1e3e-4eaa-a204-24b79c21dd97\",\"type\":\"LinearScale\"},\"y_range\":{\"id\":\"60b6a2d6-df1b-4c6e-a586-e1a32d1b6f7a\",\"type\":\"DataRange1d\"},\"y_scale\":{\"id\":\"9bab98fe-9bf9-4447-806a-0024b8196bac\",\"type\":\"LinearScale\"}},\"id\":\"eb414c34-ac2e-4571-b98f-6766865e9522\",\"subtype\":\"Figure\",\"type\":\"Plot\"},{\"attributes\":{\"active_drag\":\"auto\",\"active_inspect\":\"auto\",\"active_scroll\":\"auto\",\"active_tap\":\"auto\",\"tools\":[{\"id\":\"876b9b88-1ab3-4d8c-a599-f5a8e3c9673a\",\"type\":\"HoverTool\"},{\"id\":\"d21e7668-02b1-4b89-a43d-efad5514b1a0\",\"type\":\"PanTool\"},{\"id\":\"45d707e6-897f-4045-b427-6d997293491e\",\"type\":\"WheelZoomTool\"},{\"id\":\"102308f6-efab-4f80-b0be-a53d436d2bcc\",\"type\":\"BoxZoomTool\"},{\"id\":\"135ed6a4-8993-442c-906e-62924c9be059\",\"type\":\"ResetTool\"}]},\"id\":\"325fb8a8-a88f-4b0b-8ac6-048d765ed4e7\",\"type\":\"Toolbar\"},{\"attributes\":{},\"id\":\"5c827143-4e96-4a33-ab83-83de05911f36\",\"type\":\"BasicTickFormatter\"},{\"attributes\":{\"callback\":null},\"id\":\"ae152331-9e1f-4281-8d47-c531348f9c4a\",\"type\":\"DataRange1d\"},{\"attributes\":{\"callback\":null,\"tooltips\":[[\"(x,y)\",\"($x, $y)\"]]},\"id\":\"876b9b88-1ab3-4d8c-a599-f5a8e3c9673a\",\"type\":\"HoverTool\"},{\"attributes\":{},\"id\":\"6d85994e-447b-4736-b931-3d38a1af6dd0\",\"type\":\"LinearScale\"},{\"attributes\":{\"fill_color\":{\"value\":\"blue\"},\"line_color\":{\"value\":\"blue\"},\"line_width\":{\"value\":0.3},\"x\":{\"field\":\"x\"},\"y\":{\"field\":\"y\"}},\"id\":\"f833e05d-b49f-4651-9a6e-26855abe2261\",\"type\":\"Circle\"},{\"attributes\":{\"child\":{\"id\":\"eb414c34-ac2e-4571-b98f-6766865e9522\",\"subtype\":\"Figure\",\"type\":\"Plot\"},\"title\":\"Theta_s\"},\"id\":\"bbfd3773-9509-433c-b4d0-10467d13502f\",\"type\":\"Panel\"},{\"attributes\":{},\"id\":\"e1e5da9d-3236-45d2-b679-49e594d6eaf6\",\"type\":\"LinearScale\"},{\"attributes\":{},\"id\":\"317feea4-cebf-4269-b233-da5e198d0000\",\"type\":\"BasicTickFormatter\"},{\"attributes\":{\"plot\":{\"id\":\"dc9818fa-66ce-40a3-87e6-b630bab828b9\",\"subtype\":\"Figure\",\"type\":\"Plot\"},\"ticker\":{\"id\":\"71e01c24-7b82-4c4e-8553-7b9ca0aa863c\",\"type\":\"BasicTicker\"}},\"id\":\"e1d1df89-e89a-4df6-833a-26b4c10b0998\",\"type\":\"Grid\"},{\"attributes\":{\"callback\":null,\"column_names\":[\"x\",\"y\"],\"data\":{\"x\":[0.5,0.5,0.5,0.5,0.5,0.5,0.5,0.5,0.5,0.5],\"y\":{\"__ndarray__\":\"AAAAAADAV8AAAAAAAEBVwAAAAAAAwFLAAAAAAABAUMAAAAAAAIBLwAAAAAAAgEbAAAAAAACAQcAAAAAAAAA5wAAAAAAAAC7AAAAAAAAAFMA=\",\"dtype\":\"float64\",\"shape\":[10]}},\"selected\":null,\"selection_policy\":null},\"id\":\"a328cba7-6b08-49eb-be50-df74e4258e45\",\"type\":\"ColumnDataSource\"},{\"attributes\":{\"axis_label\":\" water content at saturation [-]\",\"axis_label_text_font_size\":{\"value\":\"18px\"},\"formatter\":{\"id\":\"d312f451-7db9-4471-a1a0-99f63e276939\",\"type\":\"BasicTickFormatter\"},\"plot\":{\"id\":\"eb414c34-ac2e-4571-b98f-6766865e9522\",\"subtype\":\"Figure\",\"type\":\"Plot\"},\"ticker\":{\"id\":\"d21cf0a3-3a20-44ee-9d19-519f1ccd9dad\",\"type\":\"BasicTicker\"}},\"id\":\"74755094-6b08-488e-87bb-65ece921be21\",\"type\":\"LinearAxis\"},{\"attributes\":{\"child\":{\"id\":\"03e277e3-a3a2-444f-a5df-237a19f0e3ca\",\"subtype\":\"Figure\",\"type\":\"Plot\"},\"title\":\"\\u03b2SpecStor\"},\"id\":\"d070d09b-35b8-457d-afbf-366e7ed376e7\",\"type\":\"Panel\"},{\"attributes\":{\"axis_label\":\"\\u03c8* [m] \",\"axis_label_text_font_size\":{\"value\":\"18px\"},\"formatter\":{\"id\":\"6677442e-8eb3-46b4-af12-de6a094a5c1a\",\"type\":\"BasicTickFormatter\"},\"plot\":{\"id\":\"dc9818fa-66ce-40a3-87e6-b630bab828b9\",\"subtype\":\"Figure\",\"type\":\"Plot\"},\"ticker\":{\"id\":\"71e01c24-7b82-4c4e-8553-7b9ca0aa863c\",\"type\":\"BasicTicker\"}},\"id\":\"6720f51f-ba38-47c7-ac46-501be87403a2\",\"type\":\"LinearAxis\"},{\"attributes\":{\"callback\":null},\"id\":\"60b6a2d6-df1b-4c6e-a586-e1a32d1b6f7a\",\"type\":\"DataRange1d\"},{\"attributes\":{},\"id\":\"71e01c24-7b82-4c4e-8553-7b9ca0aa863c\",\"type\":\"BasicTicker\"},{\"attributes\":{},\"id\":\"d21cf0a3-3a20-44ee-9d19-519f1ccd9dad\",\"type\":\"BasicTicker\"},{\"attributes\":{},\"id\":\"d312f451-7db9-4471-a1a0-99f63e276939\",\"type\":\"BasicTickFormatter\"},{\"attributes\":{},\"id\":\"d21e7668-02b1-4b89-a43d-efad5514b1a0\",\"type\":\"PanTool\"},{\"attributes\":{\"plot\":{\"id\":\"eb414c34-ac2e-4571-b98f-6766865e9522\",\"subtype\":\"Figure\",\"type\":\"Plot\"},\"ticker\":{\"id\":\"d21cf0a3-3a20-44ee-9d19-519f1ccd9dad\",\"type\":\"BasicTicker\"}},\"id\":\"3bf60075-3ba4-4ffb-b81e-36470ff9cf67\",\"type\":\"Grid\"},{\"attributes\":{},\"id\":\"9bab98fe-9bf9-4447-806a-0024b8196bac\",\"type\":\"LinearScale\"},{\"attributes\":{},\"id\":\"45d707e6-897f-4045-b427-6d997293491e\",\"type\":\"WheelZoomTool\"},{\"attributes\":{},\"id\":\"da623ba0-1e3e-4eaa-a204-24b79c21dd97\",\"type\":\"LinearScale\"},{\"attributes\":{\"overlay\":{\"id\":\"9da70ca7-77e9-402e-b00e-a7668dac7201\",\"type\":\"BoxAnnotation\"}},\"id\":\"102308f6-efab-4f80-b0be-a53d436d2bcc\",\"type\":\"BoxZoomTool\"},{\"attributes\":{\"bottom_units\":\"screen\",\"fill_alpha\":{\"value\":0.5},\"fill_color\":{\"value\":\"lightgrey\"},\"left_units\":\"screen\",\"level\":\"overlay\",\"line_alpha\":{\"value\":1.0},\"line_color\":{\"value\":\"black\"},\"line_dash\":[4,4],\"line_width\":{\"value\":2},\"plot\":null,\"render_mode\":\"css\",\"right_units\":\"screen\",\"top_units\":\"screen\"},\"id\":\"9af8308b-0baa-43b4-ac4e-a776d7e57c37\",\"type\":\"BoxAnnotation\"},{\"attributes\":{},\"id\":\"135ed6a4-8993-442c-906e-62924c9be059\",\"type\":\"ResetTool\"},{\"attributes\":{\"fill_alpha\":{\"value\":0.1},\"fill_color\":{\"value\":\"#1f77b4\"},\"line_alpha\":{\"value\":0.1},\"line_color\":{\"value\":\"#1f77b4\"},\"line_width\":{\"value\":0.3},\"x\":{\"field\":\"x\"},\"y\":{\"field\":\"y\"}},\"id\":\"aa1b043f-0c5c-46c2-83fc-92358e751f42\",\"type\":\"Circle\"},{\"attributes\":{\"dimension\":1,\"plot\":{\"id\":\"eb414c34-ac2e-4571-b98f-6766865e9522\",\"subtype\":\"Figure\",\"type\":\"Plot\"},\"ticker\":{\"id\":\"5bf3732b-f562-46a1-9e22-6c16f2a7fdf1\",\"type\":\"BasicTicker\"}},\"id\":\"89c9fb3e-29b0-49b9-9f8c-e7ebf35de808\",\"type\":\"Grid\"},{\"attributes\":{\"data_source\":{\"id\":\"7ed3f86e-c7ea-40c7-a77a-1bbdf1056d2f\",\"type\":\"ColumnDataSource\"},\"glyph\":{\"id\":\"1541e4fc-5160-45a3-a18f-f297cbe59623\",\"type\":\"Circle\"},\"hover_glyph\":null,\"muted_glyph\":null,\"nonselection_glyph\":{\"id\":\"aa1b043f-0c5c-46c2-83fc-92358e751f42\",\"type\":\"Circle\"},\"selection_glyph\":null,\"view\":{\"id\":\"a6f9cfc4-1b7f-46af-9065-e16ed8964999\",\"type\":\"CDSView\"}},\"id\":\"7f529868-0bd4-441d-921d-93fc1e0a180f\",\"type\":\"GlyphRenderer\"},{\"attributes\":{},\"id\":\"5bf3732b-f562-46a1-9e22-6c16f2a7fdf1\",\"type\":\"BasicTicker\"},{\"attributes\":{\"source\":{\"id\":\"7ed3f86e-c7ea-40c7-a77a-1bbdf1056d2f\",\"type\":\"ColumnDataSource\"}},\"id\":\"a6f9cfc4-1b7f-46af-9065-e16ed8964999\",\"type\":\"CDSView\"},{\"attributes\":{\"axis_label\":\"\\u03b7 [m]\",\"axis_label_text_font_size\":{\"value\":\"18px\"},\"formatter\":{\"id\":\"cc6ae873-b514-4565-a9ff-fb9dc6022e44\",\"type\":\"BasicTickFormatter\"},\"plot\":{\"id\":\"eb414c34-ac2e-4571-b98f-6766865e9522\",\"subtype\":\"Figure\",\"type\":\"Plot\"},\"ticker\":{\"id\":\"5bf3732b-f562-46a1-9e22-6c16f2a7fdf1\",\"type\":\"BasicTicker\"}},\"id\":\"506044a0-4f26-464a-83c1-1abc268d77bc\",\"type\":\"LinearAxis\"},{\"attributes\":{},\"id\":\"6677442e-8eb3-46b4-af12-de6a094a5c1a\",\"type\":\"BasicTickFormatter\"},{\"attributes\":{},\"id\":\"6ec3c453-fad8-4f36-9e79-46b2e7955e26\",\"type\":\"WheelZoomTool\"},{\"attributes\":{\"data_source\":{\"id\":\"a328cba7-6b08-49eb-be50-df74e4258e45\",\"type\":\"ColumnDataSource\"},\"glyph\":{\"id\":\"f833e05d-b49f-4651-9a6e-26855abe2261\",\"type\":\"Circle\"},\"hover_glyph\":null,\"muted_glyph\":null,\"nonselection_glyph\":{\"id\":\"113dae6a-e19d-4740-80a1-27d41a1f28f4\",\"type\":\"Circle\"},\"selection_glyph\":null,\"view\":{\"id\":\"099e250e-7526-44ae-b525-1eb5f1e01b21\",\"type\":\"CDSView\"}},\"id\":\"d99e2eea-dc8a-4ca5-96f8-8de82079ec31\",\"type\":\"GlyphRenderer\"},{\"attributes\":{\"active_drag\":\"auto\",\"active_inspect\":\"auto\",\"active_scroll\":\"auto\",\"active_tap\":\"auto\",\"tools\":[{\"id\":\"876b9b88-1ab3-4d8c-a599-f5a8e3c9673a\",\"type\":\"HoverTool\"},{\"id\":\"7bedf938-13f7-4906-af96-0746e5af666f\",\"type\":\"PanTool\"},{\"id\":\"21245f2f-7030-48f7-9648-4a3cf549b157\",\"type\":\"WheelZoomTool\"},{\"id\":\"3276949e-6741-4fcd-95df-50e20fe4818f\",\"type\":\"BoxZoomTool\"},{\"id\":\"45fd3a47-b2a8-4943-a28f-e1d630864c01\",\"type\":\"ResetTool\"}]},\"id\":\"da157055-a4b8-47aa-91f4-a117ae87a03e\",\"type\":\"Toolbar\"},{\"attributes\":{\"active_drag\":\"auto\",\"active_inspect\":\"auto\",\"active_scroll\":\"auto\",\"active_tap\":\"auto\",\"tools\":[{\"id\":\"876b9b88-1ab3-4d8c-a599-f5a8e3c9673a\",\"type\":\"HoverTool\"},{\"id\":\"d57a4609-0f54-42ce-8742-1149f1a55dc8\",\"type\":\"PanTool\"},{\"id\":\"f13c4e48-616f-4187-9cbb-8c6116f3dd29\",\"type\":\"WheelZoomTool\"},{\"id\":\"74e1152b-625c-4b54-afc4-2e4d87d7faad\",\"type\":\"BoxZoomTool\"},{\"id\":\"261bb1c3-615b-4e08-b650-e387fce1966a\",\"type\":\"ResetTool\"}]},\"id\":\"d8372540-698c-4008-aace-4205b4a75479\",\"type\":\"Toolbar\"},{\"attributes\":{},\"id\":\"d25de91c-f012-4879-b0cb-583711f85a42\",\"type\":\"PanTool\"},{\"attributes\":{},\"id\":\"96e710ee-99f2-496d-bf66-4261df636e57\",\"type\":\"BasicTickFormatter\"},{\"attributes\":{\"below\":[{\"id\":\"9932bcca-5758-4cab-911e-9f5ccb1cae26\",\"type\":\"LinearAxis\"}],\"left\":[{\"id\":\"809c79b6-511d-4f41-8bfd-384961530edc\",\"type\":\"LinearAxis\"}],\"renderers\":[{\"id\":\"9932bcca-5758-4cab-911e-9f5ccb1cae26\",\"type\":\"LinearAxis\"},{\"id\":\"c9934f10-d361-4cf3-a28d-9d6fdfdbd2bc\",\"type\":\"Grid\"},{\"id\":\"809c79b6-511d-4f41-8bfd-384961530edc\",\"type\":\"LinearAxis\"},{\"id\":\"61ba7023-e9e4-4d49-b7a5-094bdaa5cc1c\",\"type\":\"Grid\"},{\"id\":\"56bc9c0c-84c6-4d92-bc6f-92c45eccf0bc\",\"type\":\"BoxAnnotation\"},{\"id\":\"40dd8849-f911-4f68-8930-b559036228c1\",\"type\":\"GlyphRenderer\"}],\"title\":{\"id\":\"962dcb4b-bb7c-45d6-93c2-789ff1fdeaae\",\"type\":\"Title\"},\"toolbar\":{\"id\":\"da157055-a4b8-47aa-91f4-a117ae87a03e\",\"type\":\"Toolbar\"},\"x_range\":{\"id\":\"89d2bf9a-adb5-40b3-b2fa-c9015c15d708\",\"type\":\"DataRange1d\"},\"x_scale\":{\"id\":\"6a3387e8-ab34-4bdc-98c9-24a746a2d7f9\",\"type\":\"LinearScale\"},\"y_range\":{\"id\":\"497a96db-91c7-4af7-9bdc-d7d9666be8d0\",\"type\":\"DataRange1d\"},\"y_scale\":{\"id\":\"e23d5576-f21d-453f-914b-cbdc145cf23b\",\"type\":\"LinearScale\"}},\"id\":\"d6008a6b-16cf-4901-84ee-90211b6dbbbe\",\"subtype\":\"Figure\",\"type\":\"Plot\"},{\"attributes\":{},\"id\":\"5ec8d683-72e4-44f0-8c45-8e04d4ace0a2\",\"type\":\"BasicTicker\"},{\"attributes\":{\"child\":{\"id\":\"dc9818fa-66ce-40a3-87e6-b630bab828b9\",\"subtype\":\"Figure\",\"type\":\"Plot\"},\"title\":\"\\u03c8*\"},\"id\":\"6e0788ed-34bc-43a9-b6fd-70d0c674689f\",\"type\":\"Panel\"},{\"attributes\":{\"fill_alpha\":{\"value\":0.1},\"fill_color\":{\"value\":\"#1f77b4\"},\"line_alpha\":{\"value\":0.1},\"line_color\":{\"value\":\"#1f77b4\"},\"line_width\":{\"value\":0.3},\"x\":{\"field\":\"x\"},\"y\":{\"field\":\"y\"}},\"id\":\"113dae6a-e19d-4740-80a1-27d41a1f28f4\",\"type\":\"Circle\"},{\"attributes\":{\"axis_label\":\"\\u03b7 [m]\",\"axis_label_text_font_size\":{\"value\":\"18px\"},\"formatter\":{\"id\":\"96e710ee-99f2-496d-bf66-4261df636e57\",\"type\":\"BasicTickFormatter\"},\"plot\":{\"id\":\"dc9818fa-66ce-40a3-87e6-b630bab828b9\",\"subtype\":\"Figure\",\"type\":\"Plot\"},\"ticker\":{\"id\":\"5ec8d683-72e4-44f0-8c45-8e04d4ace0a2\",\"type\":\"BasicTicker\"}},\"id\":\"991552f7-3604-42d9-bbac-1bd0414c5955\",\"type\":\"LinearAxis\"},{\"attributes\":{\"align\":\"center\",\"plot\":null,\"text\":\"Compressibility of soil\",\"text_font_size\":{\"value\":\"22px\"}},\"id\":\"962dcb4b-bb7c-45d6-93c2-789ff1fdeaae\",\"type\":\"Title\"},{\"attributes\":{\"overlay\":{\"id\":\"9af8308b-0baa-43b4-ac4e-a776d7e57c37\",\"type\":\"BoxAnnotation\"}},\"id\":\"e185e864-8e0c-4a5e-ac75-8c6115858f32\",\"type\":\"BoxZoomTool\"},{\"attributes\":{\"callback\":null,\"column_names\":[\"x\",\"y\"],\"data\":{\"x\":[0,0,0,0,0,0,0,0,0,0],\"y\":{\"__ndarray__\":\"AAAAAADAV8AAAAAAAEBVwAAAAAAAwFLAAAAAAABAUMAAAAAAAIBLwAAAAAAAgEbAAAAAAACAQcAAAAAAAAA5wAAAAAAAAC7AAAAAAAAAFMA=\",\"dtype\":\"float64\",\"shape\":[10]}},\"selected\":null,\"selection_policy\":null},\"id\":\"2e029fe5-8648-471e-b6d5-7e0d67cb44a6\",\"type\":\"ColumnDataSource\"},{\"attributes\":{\"callback\":null},\"id\":\"89d2bf9a-adb5-40b3-b2fa-c9015c15d708\",\"type\":\"DataRange1d\"},{\"attributes\":{},\"id\":\"9924edc6-8c49-4b71-94dd-b341368e19c1\",\"type\":\"ResetTool\"},{\"attributes\":{\"callback\":null},\"id\":\"9886bd63-0145-432f-b7bb-54c3d06988fa\",\"type\":\"DataRange1d\"},{\"attributes\":{},\"id\":\"bbc1d3a5-c868-44a5-b9be-21c5f4d7e37a\",\"type\":\"LinearScale\"},{\"attributes\":{\"callback\":null},\"id\":\"ed0e86ae-d94b-40b0-a4e5-c98640e830b0\",\"type\":\"DataRange1d\"},{\"attributes\":{},\"id\":\"d1375ffd-f69f-4795-9b47-6a3290313ec9\",\"type\":\"LinearScale\"},{\"attributes\":{},\"id\":\"cc6ae873-b514-4565-a9ff-fb9dc6022e44\",\"type\":\"BasicTickFormatter\"},{\"attributes\":{\"plot\":{\"id\":\"aedd9d53-d497-4e35-84bf-3d4a3f114011\",\"subtype\":\"Figure\",\"type\":\"Plot\"},\"ticker\":{\"id\":\"9a9d321d-5aa9-46f3-bc12-469249530d71\",\"type\":\"BasicTicker\"}},\"id\":\"223a742b-5ed0-43ae-a07f-068c1aed0c0d\",\"type\":\"Grid\"},{\"attributes\":{\"axis_label\":\"residual water content [-]\",\"axis_label_text_font_size\":{\"value\":\"18px\"},\"formatter\":{\"id\":\"bb3ace55-d3d2-4cf6-b194-f947b5d0f94b\",\"type\":\"BasicTickFormatter\"},\"plot\":{\"id\":\"aedd9d53-d497-4e35-84bf-3d4a3f114011\",\"subtype\":\"Figure\",\"type\":\"Plot\"},\"ticker\":{\"id\":\"9a9d321d-5aa9-46f3-bc12-469249530d71\",\"type\":\"BasicTicker\"}},\"id\":\"2bb0fe28-4eaa-4b0d-ba45-72cb3eaf558b\",\"type\":\"LinearAxis\"},{\"attributes\":{},\"id\":\"9a9d321d-5aa9-46f3-bc12-469249530d71\",\"type\":\"BasicTicker\"},{\"attributes\":{\"axis_label\":\"\\u03b7 [m]\",\"axis_label_text_font_size\":{\"value\":\"18px\"},\"formatter\":{\"id\":\"1e4704bb-df44-4bf2-9ad0-6aec15ece05e\",\"type\":\"BasicTickFormatter\"},\"plot\":{\"id\":\"aedd9d53-d497-4e35-84bf-3d4a3f114011\",\"subtype\":\"Figure\",\"type\":\"Plot\"},\"ticker\":{\"id\":\"9b39b2b3-918a-4740-9339-5ac1be46da92\",\"type\":\"BasicTicker\"}},\"id\":\"b0b53e7c-c827-4cb9-a2e5-d6ff81c6f237\",\"type\":\"LinearAxis\"},{\"attributes\":{},\"id\":\"9b39b2b3-918a-4740-9339-5ac1be46da92\",\"type\":\"BasicTicker\"},{\"attributes\":{\"dimension\":1,\"plot\":{\"id\":\"aedd9d53-d497-4e35-84bf-3d4a3f114011\",\"subtype\":\"Figure\",\"type\":\"Plot\"},\"ticker\":{\"id\":\"9b39b2b3-918a-4740-9339-5ac1be46da92\",\"type\":\"BasicTicker\"}},\"id\":\"c76c3daf-41b1-403b-aa9b-c259596ac4cc\",\"type\":\"Grid\"},{\"attributes\":{\"fill_color\":{\"value\":\"red\"},\"line_color\":{\"value\":\"red\"},\"line_width\":{\"value\":0.3},\"x\":{\"field\":\"x\"},\"y\":{\"field\":\"y\"}},\"id\":\"4542f72e-50f5-4fe5-9a60-efd9ac38ba44\",\"type\":\"Circle\"},{\"attributes\":{\"bottom_units\":\"screen\",\"fill_alpha\":{\"value\":0.5},\"fill_color\":{\"value\":\"lightgrey\"},\"left_units\":\"screen\",\"level\":\"overlay\",\"line_alpha\":{\"value\":1.0},\"line_color\":{\"value\":\"black\"},\"line_dash\":[4,4],\"line_width\":{\"value\":2},\"plot\":null,\"render_mode\":\"css\",\"right_units\":\"screen\",\"top_units\":\"screen\"},\"id\":\"4e442c55-323b-4dbf-aeb3-7d3b0ae972e9\",\"type\":\"BoxAnnotation\"},{\"attributes\":{},\"id\":\"d57a4609-0f54-42ce-8742-1149f1a55dc8\",\"type\":\"PanTool\"},{\"attributes\":{},\"id\":\"f13c4e48-616f-4187-9cbb-8c6116f3dd29\",\"type\":\"WheelZoomTool\"},{\"attributes\":{\"overlay\":{\"id\":\"4e442c55-323b-4dbf-aeb3-7d3b0ae972e9\",\"type\":\"BoxAnnotation\"}},\"id\":\"74e1152b-625c-4b54-afc4-2e4d87d7faad\",\"type\":\"BoxZoomTool\"},{\"attributes\":{},\"id\":\"261bb1c3-615b-4e08-b650-e387fce1966a\",\"type\":\"ResetTool\"},{\"attributes\":{\"fill_alpha\":{\"value\":0.1},\"fill_color\":{\"value\":\"#1f77b4\"},\"line_alpha\":{\"value\":0.1},\"line_color\":{\"value\":\"#1f77b4\"},\"line_width\":{\"value\":0.3},\"x\":{\"field\":\"x\"},\"y\":{\"field\":\"y\"}},\"id\":\"31b58375-f540-4a62-b9da-0ffd8714b366\",\"type\":\"Circle\"},{\"attributes\":{\"data_source\":{\"id\":\"d8b81fb8-96fd-4f80-ba9c-93090103513c\",\"type\":\"ColumnDataSource\"},\"glyph\":{\"id\":\"4542f72e-50f5-4fe5-9a60-efd9ac38ba44\",\"type\":\"Circle\"},\"hover_glyph\":null,\"muted_glyph\":null,\"nonselection_glyph\":{\"id\":\"31b58375-f540-4a62-b9da-0ffd8714b366\",\"type\":\"Circle\"},\"selection_glyph\":null,\"view\":{\"id\":\"9349a94d-c2a3-419d-b6e1-ada70c7170be\",\"type\":\"CDSView\"}},\"id\":\"84453e4f-e8d0-49b5-9728-821058fad263\",\"type\":\"GlyphRenderer\"},{\"attributes\":{\"source\":{\"id\":\"d8b81fb8-96fd-4f80-ba9c-93090103513c\",\"type\":\"ColumnDataSource\"}},\"id\":\"9349a94d-c2a3-419d-b6e1-ada70c7170be\",\"type\":\"CDSView\"},{\"attributes\":{},\"id\":\"bb3ace55-d3d2-4cf6-b194-f947b5d0f94b\",\"type\":\"BasicTickFormatter\"},{\"attributes\":{\"callback\":null},\"id\":\"82ddb155-8619-4b0e-ac24-95f348c08a0a\",\"type\":\"DataRange1d\"},{\"attributes\":{},\"id\":\"1e4704bb-df44-4bf2-9ad0-6aec15ece05e\",\"type\":\"BasicTickFormatter\"},{\"attributes\":{\"below\":[{\"id\":\"177c36f6-8aa4-49b5-b39d-4eae418113e9\",\"type\":\"LinearAxis\"}],\"left\":[{\"id\":\"6c7b9ece-0668-48e1-904d-57d5ae23f01b\",\"type\":\"LinearAxis\"}],\"renderers\":[{\"id\":\"177c36f6-8aa4-49b5-b39d-4eae418113e9\",\"type\":\"LinearAxis\"},{\"id\":\"4f6bda86-e6e7-4f22-b104-aa21c901ac0e\",\"type\":\"Grid\"},{\"id\":\"6c7b9ece-0668-48e1-904d-57d5ae23f01b\",\"type\":\"LinearAxis\"},{\"id\":\"679f13d8-e23a-4bdc-b81f-4078ab957fed\",\"type\":\"Grid\"},{\"id\":\"bf686d26-7a03-48b7-955f-caa1bdb5cd21\",\"type\":\"BoxAnnotation\"},{\"id\":\"b8200250-dec5-4de0-95a1-de882c18ab4d\",\"type\":\"GlyphRenderer\"}],\"title\":{\"id\":\"a0ded95c-2423-4e4b-98c4-9f28ea873dd8\",\"type\":\"Title\"},\"toolbar\":{\"id\":\"7c977ef3-a8c9-48ac-8d9e-53178bcf4c82\",\"type\":\"Toolbar\"},\"x_range\":{\"id\":\"82ddb155-8619-4b0e-ac24-95f348c08a0a\",\"type\":\"DataRange1d\"},\"x_scale\":{\"id\":\"8c90eda2-e5cb-4112-904e-361c76110655\",\"type\":\"LinearScale\"},\"y_range\":{\"id\":\"a4487927-d470-43a6-9e5d-1ffc49148e78\",\"type\":\"DataRange1d\"},\"y_scale\":{\"id\":\"93e48755-9617-43e0-b03b-f1e6e0ffc918\",\"type\":\"LinearScale\"}},\"id\":\"86baf874-d34b-4550-a6b5-edc121eb1e05\",\"subtype\":\"Figure\",\"type\":\"Plot\"},{\"attributes\":{\"child\":{\"id\":\"aedd9d53-d497-4e35-84bf-3d4a3f114011\",\"subtype\":\"Figure\",\"type\":\"Plot\"},\"title\":\"Theta_r\"},\"id\":\"9af313ed-346e-40e5-a47c-1935ecca0aba\",\"type\":\"Panel\"},{\"attributes\":{\"align\":\"center\",\"plot\":null,\"text\":\"Saturated hydraulic conductivity\",\"text_font_size\":{\"value\":\"22px\"}},\"id\":\"a0ded95c-2423-4e4b-98c4-9f28ea873dd8\",\"type\":\"Title\"},{\"attributes\":{\"fill_color\":{\"value\":\"red\"},\"line_color\":{\"value\":\"red\"},\"line_width\":{\"value\":0.3},\"x\":{\"field\":\"x\"},\"y\":{\"field\":\"y\"}},\"id\":\"02cadc8d-659d-46a7-91a7-e0f52e685b2a\",\"type\":\"Circle\"},{\"attributes\":{\"axis_label\":\"\\u03b7 [m]\",\"axis_label_text_font_size\":{\"value\":\"18px\"},\"formatter\":{\"id\":\"317feea4-cebf-4269-b233-da5e198d0000\",\"type\":\"BasicTickFormatter\"},\"plot\":{\"id\":\"03e277e3-a3a2-444f-a5df-237a19f0e3ca\",\"subtype\":\"Figure\",\"type\":\"Plot\"},\"ticker\":{\"id\":\"8a4a7c7b-f663-4024-95a9-03190a1050a7\",\"type\":\"BasicTicker\"}},\"id\":\"3b7544ea-874f-456d-975c-48ea7d0d3a74\",\"type\":\"LinearAxis\"},{\"attributes\":{\"plot\":{\"id\":\"03e277e3-a3a2-444f-a5df-237a19f0e3ca\",\"subtype\":\"Figure\",\"type\":\"Plot\"},\"ticker\":{\"id\":\"f69e44ae-2597-4f35-b6dc-acf90aa213f4\",\"type\":\"BasicTicker\"}},\"id\":\"b5645498-b8f5-4236-8ba9-7b4d9f3c4330\",\"type\":\"Grid\"},{\"attributes\":{\"callback\":null,\"column_names\":[\"x\",\"y\"],\"data\":{\"x\":[2.3e-05,2.3e-05,2.3e-05,2.3e-05,2.3e-05,2.3e-05,2.3e-05,2.3e-05,2.3e-05,2.3e-05],\"y\":{\"__ndarray__\":\"AAAAAADAV8AAAAAAAEBVwAAAAAAAwFLAAAAAAABAUMAAAAAAAIBLwAAAAAAAgEbAAAAAAACAQcAAAAAAAAA5wAAAAAAAAC7AAAAAAAAAFMA=\",\"dtype\":\"float64\",\"shape\":[10]}},\"selected\":null,\"selection_policy\":null},\"id\":\"3087a158-ca7c-4865-b49c-1f9295698f5c\",\"type\":\"ColumnDataSource\"},{\"attributes\":{\"active_drag\":\"auto\",\"active_inspect\":\"auto\",\"active_scroll\":\"auto\",\"active_tap\":\"auto\",\"tools\":[{\"id\":\"876b9b88-1ab3-4d8c-a599-f5a8e3c9673a\",\"type\":\"HoverTool\"},{\"id\":\"1b85f275-2768-40ad-9f85-0e61d00958d9\",\"type\":\"PanTool\"},{\"id\":\"382d51b7-c134-43bc-88b3-cf2f2058e4f3\",\"type\":\"WheelZoomTool\"},{\"id\":\"fefaffa9-a33c-459e-98d3-e3609752a9e1\",\"type\":\"BoxZoomTool\"},{\"id\":\"a892fea4-0e3f-405b-bf5a-b34dd1ba0b40\",\"type\":\"ResetTool\"}]},\"id\":\"7c977ef3-a8c9-48ac-8d9e-53178bcf4c82\",\"type\":\"Toolbar\"},{\"attributes\":{},\"id\":\"8c90eda2-e5cb-4112-904e-361c76110655\",\"type\":\"LinearScale\"},{\"attributes\":{\"callback\":null},\"id\":\"a4487927-d470-43a6-9e5d-1ffc49148e78\",\"type\":\"DataRange1d\"},{\"attributes\":{},\"id\":\"93e48755-9617-43e0-b03b-f1e6e0ffc918\",\"type\":\"LinearScale\"},{\"attributes\":{\"plot\":{\"id\":\"86baf874-d34b-4550-a6b5-edc121eb1e05\",\"subtype\":\"Figure\",\"type\":\"Plot\"},\"ticker\":{\"id\":\"e882e300-5d8c-4447-ab1e-9090c19e196e\",\"type\":\"BasicTicker\"}},\"id\":\"4f6bda86-e6e7-4f22-b104-aa21c901ac0e\",\"type\":\"Grid\"},{\"attributes\":{\"axis_label\":\"Ks [m/s]\",\"axis_label_text_font_size\":{\"value\":\"18px\"},\"formatter\":{\"id\":\"f5ec334f-989f-4497-b448-830eb61b71f6\",\"type\":\"BasicTickFormatter\"},\"plot\":{\"id\":\"86baf874-d34b-4550-a6b5-edc121eb1e05\",\"subtype\":\"Figure\",\"type\":\"Plot\"},\"ticker\":{\"id\":\"e882e300-5d8c-4447-ab1e-9090c19e196e\",\"type\":\"BasicTicker\"}},\"id\":\"177c36f6-8aa4-49b5-b39d-4eae418113e9\",\"type\":\"LinearAxis\"},{\"attributes\":{},\"id\":\"e882e300-5d8c-4447-ab1e-9090c19e196e\",\"type\":\"BasicTicker\"},{\"attributes\":{\"axis_label\":\"\\u03b7 [m]\",\"axis_label_text_font_size\":{\"value\":\"18px\"},\"formatter\":{\"id\":\"7355e069-6cbe-48e6-81c1-6ba91f138049\",\"type\":\"BasicTickFormatter\"},\"plot\":{\"id\":\"86baf874-d34b-4550-a6b5-edc121eb1e05\",\"subtype\":\"Figure\",\"type\":\"Plot\"},\"ticker\":{\"id\":\"6206aca1-6052-4c02-9b11-3797c56249a7\",\"type\":\"BasicTicker\"}},\"id\":\"6c7b9ece-0668-48e1-904d-57d5ae23f01b\",\"type\":\"LinearAxis\"},{\"attributes\":{},\"id\":\"6206aca1-6052-4c02-9b11-3797c56249a7\",\"type\":\"BasicTicker\"},{\"attributes\":{\"dimension\":1,\"plot\":{\"id\":\"86baf874-d34b-4550-a6b5-edc121eb1e05\",\"subtype\":\"Figure\",\"type\":\"Plot\"},\"ticker\":{\"id\":\"6206aca1-6052-4c02-9b11-3797c56249a7\",\"type\":\"BasicTicker\"}},\"id\":\"679f13d8-e23a-4bdc-b81f-4078ab957fed\",\"type\":\"Grid\"},{\"attributes\":{\"bottom_units\":\"screen\",\"fill_alpha\":{\"value\":0.5},\"fill_color\":{\"value\":\"lightgrey\"},\"left_units\":\"screen\",\"level\":\"overlay\",\"line_alpha\":{\"value\":1.0},\"line_color\":{\"value\":\"black\"},\"line_dash\":[4,4],\"line_width\":{\"value\":2},\"plot\":null,\"render_mode\":\"css\",\"right_units\":\"screen\",\"top_units\":\"screen\"},\"id\":\"bf686d26-7a03-48b7-955f-caa1bdb5cd21\",\"type\":\"BoxAnnotation\"},{\"attributes\":{},\"id\":\"1b85f275-2768-40ad-9f85-0e61d00958d9\",\"type\":\"PanTool\"},{\"attributes\":{},\"id\":\"382d51b7-c134-43bc-88b3-cf2f2058e4f3\",\"type\":\"WheelZoomTool\"},{\"attributes\":{\"overlay\":{\"id\":\"bf686d26-7a03-48b7-955f-caa1bdb5cd21\",\"type\":\"BoxAnnotation\"}},\"id\":\"fefaffa9-a33c-459e-98d3-e3609752a9e1\",\"type\":\"BoxZoomTool\"},{\"attributes\":{},\"id\":\"a892fea4-0e3f-405b-bf5a-b34dd1ba0b40\",\"type\":\"ResetTool\"},{\"attributes\":{\"fill_alpha\":{\"value\":0.1},\"fill_color\":{\"value\":\"#1f77b4\"},\"line_alpha\":{\"value\":0.1},\"line_color\":{\"value\":\"#1f77b4\"},\"line_width\":{\"value\":0.3},\"x\":{\"field\":\"x\"},\"y\":{\"field\":\"y\"}},\"id\":\"cec8ae9e-7bf8-4aec-8ea3-0dc4bbe09362\",\"type\":\"Circle\"},{\"attributes\":{\"data_source\":{\"id\":\"3087a158-ca7c-4865-b49c-1f9295698f5c\",\"type\":\"ColumnDataSource\"},\"glyph\":{\"id\":\"02cadc8d-659d-46a7-91a7-e0f52e685b2a\",\"type\":\"Circle\"},\"hover_glyph\":null,\"muted_glyph\":null,\"nonselection_glyph\":{\"id\":\"cec8ae9e-7bf8-4aec-8ea3-0dc4bbe09362\",\"type\":\"Circle\"},\"selection_glyph\":null,\"view\":{\"id\":\"236c47b7-ec9c-4bb2-8fa1-c375a2349653\",\"type\":\"CDSView\"}},\"id\":\"b8200250-dec5-4de0-95a1-de882c18ab4d\",\"type\":\"GlyphRenderer\"},{\"attributes\":{\"source\":{\"id\":\"3087a158-ca7c-4865-b49c-1f9295698f5c\",\"type\":\"ColumnDataSource\"}},\"id\":\"236c47b7-ec9c-4bb2-8fa1-c375a2349653\",\"type\":\"CDSView\"},{\"attributes\":{},\"id\":\"f5ec334f-989f-4497-b448-830eb61b71f6\",\"type\":\"BasicTickFormatter\"},{\"attributes\":{\"callback\":null,\"column_names\":[\"x\",\"y\"],\"data\":{\"x\":[1.16,1.16,1.16,1.16,1.16,1.16,1.16,1.16,1.16,1.16],\"y\":{\"__ndarray__\":\"AAAAAADAV8AAAAAAAEBVwAAAAAAAwFLAAAAAAABAUMAAAAAAAIBLwAAAAAAAgEbAAAAAAACAQcAAAAAAAAA5wAAAAAAAAC7AAAAAAAAAFMA=\",\"dtype\":\"float64\",\"shape\":[10]}},\"selected\":null,\"selection_policy\":null},\"id\":\"1d0b4fcf-4007-4e56-99f2-5ec31a1c88af\",\"type\":\"ColumnDataSource\"},{\"attributes\":{},\"id\":\"7355e069-6cbe-48e6-81c1-6ba91f138049\",\"type\":\"BasicTickFormatter\"},{\"attributes\":{\"below\":[{\"id\":\"a5d9c180-6248-4e9f-b679-a562352175f2\",\"type\":\"LinearAxis\"}],\"left\":[{\"id\":\"17b7aa29-c9d6-44eb-88f6-9aa463183615\",\"type\":\"LinearAxis\"}],\"renderers\":[{\"id\":\"a5d9c180-6248-4e9f-b679-a562352175f2\",\"type\":\"LinearAxis\"},{\"id\":\"baf5977d-c83c-4b2f-9c8a-5792595151d9\",\"type\":\"Grid\"},{\"id\":\"17b7aa29-c9d6-44eb-88f6-9aa463183615\",\"type\":\"LinearAxis\"},{\"id\":\"7fcedfd4-2e1c-4099-a0ba-fc5c96d0e3cb\",\"type\":\"Grid\"},{\"id\":\"3177a04e-63a9-4e1c-8511-69d9c790394f\",\"type\":\"BoxAnnotation\"},{\"id\":\"d9fba29d-e248-4418-8c85-edd8a6c54d34\",\"type\":\"GlyphRenderer\"}],\"title\":{\"id\":\"4e080c6b-be6b-45c9-b347-b0bd2dc5d222\",\"type\":\"Title\"},\"toolbar\":{\"id\":\"d553edd5-2801-47b6-8422-8a287ee23b90\",\"type\":\"Toolbar\"},\"x_range\":{\"id\":\"b730368a-a1b0-4d1d-8fab-ebf67753edec\",\"type\":\"DataRange1d\"},\"x_scale\":{\"id\":\"920db2b9-aa02-4226-b139-7dd6c2b613c8\",\"type\":\"LinearScale\"},\"y_range\":{\"id\":\"e01615d3-988c-447a-8f83-f314904d5281\",\"type\":\"DataRange1d\"},\"y_scale\":{\"id\":\"e727629d-cd76-43bd-87ab-fb3331b7d8f0\",\"type\":\"LinearScale\"}},\"id\":\"279d13af-9824-4ef3-9ba0-5168761a964a\",\"subtype\":\"Figure\",\"type\":\"Plot\"},{\"attributes\":{\"callback\":null,\"column_names\":[\"x\",\"y\"],\"data\":{\"x\":[-0.03082847050675074,-0.03082847050675074,-0.03082847050675074,-0.03082847050675074,-0.03082847050675074,-0.03082847050675074,-0.03082847050675074,-0.03082847050675074,-0.03082847050675074,-0.03082847050675074],\"y\":{\"__ndarray__\":\"AAAAAADAV8AAAAAAAEBVwAAAAAAAwFLAAAAAAABAUMAAAAAAAIBLwAAAAAAAgEbAAAAAAACAQcAAAAAAAAA5wAAAAAAAAC7AAAAAAAAAFMA=\",\"dtype\":\"float64\",\"shape\":[10]}},\"selected\":null,\"selection_policy\":null},\"id\":\"7ed3f86e-c7ea-40c7-a77a-1bbdf1056d2f\",\"type\":\"ColumnDataSource\"},{\"attributes\":{\"child\":{\"id\":\"86baf874-d34b-4550-a6b5-edc121eb1e05\",\"subtype\":\"Figure\",\"type\":\"Plot\"},\"title\":\"Ks\"},\"id\":\"b419bd9f-91c9-4069-9609-cdeb13f8676f\",\"type\":\"Panel\"},{\"attributes\":{\"align\":\"center\",\"plot\":null,\"text\":\"Van Genuchten n\",\"text_font_size\":{\"value\":\"22px\"}},\"id\":\"4e080c6b-be6b-45c9-b347-b0bd2dc5d222\",\"type\":\"Title\"},{\"attributes\":{\"fill_color\":{\"value\":\"red\"},\"line_color\":{\"value\":\"red\"},\"line_width\":{\"value\":0.3},\"x\":{\"field\":\"x\"},\"y\":{\"field\":\"y\"}},\"id\":\"0c80a335-c836-4572-9c9d-2c8f71608d31\",\"type\":\"Circle\"},{\"attributes\":{\"callback\":null},\"id\":\"b730368a-a1b0-4d1d-8fab-ebf67753edec\",\"type\":\"DataRange1d\"},{\"attributes\":{\"active_drag\":\"auto\",\"active_inspect\":\"auto\",\"active_scroll\":\"auto\",\"active_tap\":\"auto\",\"tools\":[{\"id\":\"876b9b88-1ab3-4d8c-a599-f5a8e3c9673a\",\"type\":\"HoverTool\"},{\"id\":\"34647ea0-14ca-425b-a391-df8b7fcb0bb7\",\"type\":\"PanTool\"},{\"id\":\"70aed1ee-e05e-44f6-bd5e-8adc6aae6877\",\"type\":\"WheelZoomTool\"},{\"id\":\"f1ab13b0-269f-4620-a177-ef2c017ff9d1\",\"type\":\"BoxZoomTool\"},{\"id\":\"c5556866-3d88-46b4-a2c0-6548043f0a2a\",\"type\":\"ResetTool\"}]},\"id\":\"d553edd5-2801-47b6-8422-8a287ee23b90\",\"type\":\"Toolbar\"},{\"attributes\":{\"dimension\":1,\"plot\":{\"id\":\"dc9818fa-66ce-40a3-87e6-b630bab828b9\",\"subtype\":\"Figure\",\"type\":\"Plot\"},\"ticker\":{\"id\":\"5ec8d683-72e4-44f0-8c45-8e04d4ace0a2\",\"type\":\"BasicTicker\"}},\"id\":\"df35c1c7-a490-4ba0-8e1f-a58165f26bae\",\"type\":\"Grid\"},{\"attributes\":{\"callback\":null},\"id\":\"e01615d3-988c-447a-8f83-f314904d5281\",\"type\":\"DataRange1d\"},{\"attributes\":{},\"id\":\"920db2b9-aa02-4226-b139-7dd6c2b613c8\",\"type\":\"LinearScale\"},{\"attributes\":{},\"id\":\"e727629d-cd76-43bd-87ab-fb3331b7d8f0\",\"type\":\"LinearScale\"},{\"attributes\":{\"plot\":{\"id\":\"279d13af-9824-4ef3-9ba0-5168761a964a\",\"subtype\":\"Figure\",\"type\":\"Plot\"},\"ticker\":{\"id\":\"6d605213-8e94-42f4-bf53-7eb2c968f3d3\",\"type\":\"BasicTicker\"}},\"id\":\"baf5977d-c83c-4b2f-9c8a-5792595151d9\",\"type\":\"Grid\"},{\"attributes\":{\"axis_label\":\"n [-] \",\"axis_label_text_font_size\":{\"value\":\"18px\"},\"formatter\":{\"id\":\"69a49d97-4321-4e0f-851b-50fc07ac32bb\",\"type\":\"BasicTickFormatter\"},\"plot\":{\"id\":\"279d13af-9824-4ef3-9ba0-5168761a964a\",\"subtype\":\"Figure\",\"type\":\"Plot\"},\"ticker\":{\"id\":\"6d605213-8e94-42f4-bf53-7eb2c968f3d3\",\"type\":\"BasicTicker\"}},\"id\":\"a5d9c180-6248-4e9f-b679-a562352175f2\",\"type\":\"LinearAxis\"},{\"attributes\":{},\"id\":\"6d605213-8e94-42f4-bf53-7eb2c968f3d3\",\"type\":\"BasicTicker\"},{\"attributes\":{\"axis_label\":\"\\u03b7 [m]\",\"axis_label_text_font_size\":{\"value\":\"18px\"},\"formatter\":{\"id\":\"d867f12d-9a66-4ad0-9c6e-def44be6c15a\",\"type\":\"BasicTickFormatter\"},\"plot\":{\"id\":\"279d13af-9824-4ef3-9ba0-5168761a964a\",\"subtype\":\"Figure\",\"type\":\"Plot\"},\"ticker\":{\"id\":\"257ba889-003b-4e8e-b99b-a1b15be84808\",\"type\":\"BasicTicker\"}},\"id\":\"17b7aa29-c9d6-44eb-88f6-9aa463183615\",\"type\":\"LinearAxis\"},{\"attributes\":{},\"id\":\"257ba889-003b-4e8e-b99b-a1b15be84808\",\"type\":\"BasicTicker\"},{\"attributes\":{\"dimension\":1,\"plot\":{\"id\":\"279d13af-9824-4ef3-9ba0-5168761a964a\",\"subtype\":\"Figure\",\"type\":\"Plot\"},\"ticker\":{\"id\":\"257ba889-003b-4e8e-b99b-a1b15be84808\",\"type\":\"BasicTicker\"}},\"id\":\"7fcedfd4-2e1c-4099-a0ba-fc5c96d0e3cb\",\"type\":\"Grid\"},{\"attributes\":{\"fill_alpha\":{\"value\":0.1},\"fill_color\":{\"value\":\"#1f77b4\"},\"line_alpha\":{\"value\":0.1},\"line_color\":{\"value\":\"#1f77b4\"},\"line_width\":{\"value\":0.3},\"x\":{\"field\":\"x\"},\"y\":{\"field\":\"y\"}},\"id\":\"69f6020b-fcaf-40c5-95de-715452dd745d\",\"type\":\"Circle\"}],\"root_ids\":[\"c0755bf8-5ec5-49da-aa04-b79989087cfa\"]},\"title\":\"Bokeh Application\",\"version\":\"0.12.15\"}};\n",
       "  var render_items = [{\"docid\":\"09f87215-2b34-4a4b-8cd5-19864c0752c8\",\"elementid\":\"58e7f5c5-4edc-4ed4-81d8-ce9b9fe21d6d\",\"modelid\":\"c0755bf8-5ec5-49da-aa04-b79989087cfa\"}];\n",
       "  root.Bokeh.embed.embed_items_notebook(docs_json, render_items);\n",
       "\n",
       "  }\n",
       "  if (root.Bokeh !== undefined) {\n",
       "    embed_document(root);\n",
       "  } else {\n",
       "    var attempts = 0;\n",
       "    var timer = setInterval(function(root) {\n",
       "      if (root.Bokeh !== undefined) {\n",
       "        embed_document(root);\n",
       "        clearInterval(timer);\n",
       "      }\n",
       "      attempts++;\n",
       "      if (attempts > 100) {\n",
       "        console.log(\"Bokeh: ERROR: Unable to run BokehJS code because BokehJS library is missing\")\n",
       "        clearInterval(timer);\n",
       "      }\n",
       "    }, 10, root)\n",
       "  }\n",
       "})(window);"
      ],
      "application/vnd.bokehjs_exec.v0+json": ""
     },
     "metadata": {
      "application/vnd.bokehjs_exec.v0+json": {
       "id": "c0755bf8-5ec5-49da-aa04-b79989087cfa"
      }
     },
     "output_type": "display_data"
    }
   ],
   "source": [
    "showParameters(thetaS,thetaR,Ks,alphaSpecificStorage,betaSpecificStorage,n,alpha,psiStar,et,eta,labelSize,titleSize,axisTicksSize,lineWidth)\n"
   ]
  },
  {
   "cell_type": "markdown",
   "metadata": {},
   "source": [
    "## Save all grid data in a NetCDF file\n"
   ]
  },
  {
   "cell_type": "code",
   "execution_count": 30,
   "metadata": {},
   "outputs": [
    {
     "name": "stdout",
     "output_type": "stream",
     "text": [
      "*** SUCCESS writing!  C:/Users/Niccolo/OMS/OMS_Project_Richards1D/data/Grid_NetCDF/Clay_VG_10.nc\n"
     ]
    }
   ],
   "source": [
    "writeGridNetCDF(eta,etaDual,z,zDual,spaceDelta,deltaZ,psiIC,thetaS,thetaR,Ks,alphaSpecificStorage,betaSpecificStorage,n,alpha,par3SWRC,par4SWRC,par5SWRC,psiStar,par7SWRC,par8SWRC,et,outputFileName,outputTitle,outputInstitution,outputSummary,folderPath,outputDate,inputFileName)"
   ]
  },
  {
   "cell_type": "code",
   "execution_count": null,
   "metadata": {},
   "outputs": [],
   "source": []
  },
  {
   "cell_type": "code",
   "execution_count": null,
   "metadata": {},
   "outputs": [],
   "source": []
  }
 ],
 "metadata": {
  "kernelspec": {
   "display_name": "Python 3",
   "language": "python",
   "name": "python3"
  },
  "language_info": {
   "codemirror_mode": {
    "name": "ipython",
    "version": 3
   },
   "file_extension": ".py",
   "mimetype": "text/x-python",
   "name": "python",
   "nbconvert_exporter": "python",
   "pygments_lexer": "ipython3",
   "version": "3.6.3"
  }
 },
 "nbformat": 4,
 "nbformat_minor": 2
}
