{
 "cells": [
  {
   "cell_type": "markdown",
   "metadata": {},
   "source": [
    "# check ponding depth and cumulative infiltration for simulations with impervious bottom BC\n",
    "\n",
    "This notebook allows to estimate the ponding depth at soil surface and the cumulative infiltration for a soil of known SWRC parameters, cumulative rainfall heights, and with impervious bottom.\n",
    "\n",
    "From the input file (.nc) it is possible to compute the total volume of air within the soil that is available to infiltration. To compute this volume the necessary data are\n",
    "- intial condition of water head (psiIC)\n",
    "- SWRC model and its parameters (par1SWRC, par2SWRC, thetaS, and thetaR)\n",
    "All these information are contained in the input file (.nc)\n",
    "\n",
    "From the output file (.nc) it is possible to know the cumulative rainfall height (from variable topBC), and the water ponding depth.\n",
    "\n",
    "Since the bottom is impervious every single rain drop will remain within the domain. Thus, perfomorming a simple mass budget it is possible to compute the water ponding depth as:\n",
    "\n",
    "$$estimatedPondigDepth = cumulativeRainfall - totalAirVolume$$\n",
    "\n",
    "and compare this with that computed by making use of Richards1D solver"
   ]
  },
  {
   "cell_type": "code",
   "execution_count": 1,
   "metadata": {},
   "outputs": [],
   "source": [
    "\"\"\"\n",
    "  GNU GPL v3 License\n",
    " \n",
    "  Copyright 2018 Niccolo` Tubini\n",
    " \n",
    "  This program is free software: you can redistribute it and/or modify\n",
    "  it under the terms of the GNU General Public License as published by\n",
    "  the Free Software Foundation, either version 3 of the License, or\n",
    "  (at your option) any later version.\n",
    " \n",
    "  This program is distributed in the hope that it will be useful,\n",
    "  but WITHOUT ANY WARRANTY; without even the implied warranty of\n",
    "  MERCHANTABILITY or FITNESS FOR A PARTICULAR PURPOSE.  See the\n",
    "  GNU General Public License for more details.\n",
    " \n",
    "  You should have received a copy of the GNU General Public License\n",
    "  along with this program.  If not, see <http://www.gnu.org/licenses/>.\n",
    "\"\"\"\n",
    "\n",
    "\"\"\"\n",
    "Created on Tue Apr 17 14:52:22 2018\n",
    "\n",
    "@author: Niccolo` Tubini\n",
    "\n",
    "This code was obtained modifing the code pres_temp_4D_rd.py \n",
    "by Jeff Whitaker <jeffrey.s.whitaker@noaa.gov> 20070202\n",
    "https://www.unidata.ucar.edu/software/netcdf/examples/programs/\n",
    "\n",
    "\"\"\"\n",
    "\n",
    "#from netCDF4_classic import Dataset\n",
    "from netCDF4 import Dataset\n",
    "\n",
    "\n",
    "import os\n",
    "import math  \n",
    "## pandas\n",
    "import pandas as pd\n",
    "\n",
    "## numpy\n",
    "import numpy as np\n",
    "\n",
    "## plotting\n",
    "import matplotlib\n",
    "import matplotlib.pyplot as plt\n",
    "import matplotlib.transforms as transforms\n",
    "import matplotlib.gridspec as gridspec\n",
    "import matplotlib.patches as mpatches\n",
    "%matplotlib inline\n",
    "import matplotlib.transforms as transforms\n",
    "import matplotlib.ticker as mtick\n"
   ]
  },
  {
   "cell_type": "markdown",
   "metadata": {},
   "source": [
    "## Read input file\n",
    "The input file allows to compute the volume of air, available for infiltration"
   ]
  },
  {
   "cell_type": "code",
   "execution_count": 2,
   "metadata": {},
   "outputs": [
    {
     "data": {
      "text/plain": [
       "['.ipynb_checkpoints',\n",
       " 'Check_ponding_depth_and_cumulative_infiltration_for_simulations_with_impervious_bottom_BC.ipynb',\n",
       " 'How_to_Read_NetCDF.ipynb',\n",
       " 'Richards1DCheck.ipynb',\n",
       " 'Richards1DOutput.ipynb',\n",
       " 'Richards1DOutput_animation.ipynb',\n",
       " 'RichardsMeshGen.ipynb']"
      ]
     },
     "execution_count": 2,
     "metadata": {},
     "output_type": "execute_result"
    }
   ],
   "source": [
    "os.chdir(\"C:\\\\Users\\\\Niccolo\\\\eclipse-workspace\\\\richards1D\\\\resources\\\\Input\\\\TestDatiProf\")\n",
    "os.listdir()"
   ]
  },
  {
   "cell_type": "code",
   "execution_count": 3,
   "metadata": {},
   "outputs": [
    {
     "name": "stdout",
     "output_type": "stream",
     "text": [
      "*** SUCCESS reading\n",
      "\n",
      " ***FILE INFO:\n",
      "\n",
      "<class 'netCDF4._netCDF4.Dataset'>\n",
      "root group (NETCDF4 data model, file format HDF5):\n",
      "    title: Grid 1 layer clay with no ponding water, hydrostatic, no storativity Clay2_noPonding_STORATIVITY_0.csv\n",
      "    institution: Geoframe\n",
      "    summary: This file stores all grid information (geometry, soiAll data computed above are saved in NetCDF file\n",
      "    date_created: 5/17/2018\n",
      "    dimensions(sizes): z(321), zz(320)\n",
      "    variables(dimensions): float64 \u001b[4meta\u001b[0m(z), float64 \u001b[4metaDual\u001b[0m(z), float64 \u001b[4mz\u001b[0m(z), float64 \u001b[4mzDual\u001b[0m(z), float64 \u001b[4mpsiIC\u001b[0m(z), float64 \u001b[4mspaceDelta\u001b[0m(z), float64 \u001b[4met\u001b[0m(z), float64 \u001b[4mdeltaZ\u001b[0m(zz), float64 \u001b[4mthetaS\u001b[0m(zz), float64 \u001b[4mthetaR\u001b[0m(zz), float64 \u001b[4mKs\u001b[0m(zz), float64 \u001b[4mpar1SWRC\u001b[0m(zz), float64 \u001b[4mpar2SWRC\u001b[0m(zz), float64 \u001b[4mpar3SWRC\u001b[0m(zz), float64 \u001b[4mpar4SWRC\u001b[0m(zz)\n",
      "    groups: \n",
      "\n",
      "odict_keys(['eta', 'etaDual', 'z', 'zDual', 'psiIC', 'spaceDelta', 'et', 'deltaZ', 'thetaS', 'thetaR', 'Ks', 'par1SWRC', 'par2SWRC', 'par3SWRC', 'par4SWRC'])\n",
      "\n",
      " ***psiIC INFO:\n",
      "\n",
      "<class 'netCDF4._netCDF4.Variable'>\n",
      "float64 psiIC(z)\n",
      "    units: m\n",
      "    long_name: initial condition for water suction\n",
      "unlimited dimensions: \n",
      "current shape = (321,)\n",
      "filling on, default _FillValue of 9.969209968386869e+36 used\n",
      "\n",
      "\n",
      " ***thetaS INFO:\n",
      "\n",
      "<class 'netCDF4._netCDF4.Variable'>\n",
      "float64 thetaS(zz)\n",
      "    units: -\n",
      "    long_name: adimensional water content at saturation\n",
      "unlimited dimensions: \n",
      "current shape = (320,)\n",
      "filling on, default _FillValue of 9.969209968386869e+36 used\n",
      "\n",
      "\n",
      " ***thetaR INFO:\n",
      "\n",
      "<class 'netCDF4._netCDF4.Variable'>\n",
      "float64 thetaR(zz)\n",
      "    units: -\n",
      "    long_name: adimensional residual water content\n",
      "unlimited dimensions: \n",
      "current shape = (320,)\n",
      "filling on, default _FillValue of 9.969209968386869e+36 used\n",
      "\n",
      "\n",
      " ***par1SWRC INFO:\n",
      "\n",
      "<class 'netCDF4._netCDF4.Variable'>\n",
      "float64 par1SWRC(zz)\n",
      "    units: -\n",
      "    long_name: Parameter n of Van Genuchten model\n",
      "unlimited dimensions: \n",
      "current shape = (320,)\n",
      "filling on, default _FillValue of 9.969209968386869e+36 used\n",
      "\n",
      "\n",
      " ***par2SWRC INFO:\n",
      "\n",
      "<class 'netCDF4._netCDF4.Variable'>\n",
      "float64 par2SWRC(zz)\n",
      "    units: 1/m\n",
      "    long_name: Parameter alpha of Van Genuchten model\n",
      "unlimited dimensions: \n",
      "current shape = (320,)\n",
      "filling on, default _FillValue of 9.969209968386869e+36 used\n",
      "\n",
      "\n",
      " ***deltaZ INFO:\n",
      "\n",
      "<class 'netCDF4._netCDF4.Variable'>\n",
      "float64 deltaZ(zz)\n",
      "    unit: m\n",
      "    long_name: Length of each control volume\n",
      "unlimited dimensions: \n",
      "current shape = (320,)\n",
      "filling on, default _FillValue of 9.969209968386869e+36 used\n",
      "\n"
     ]
    }
   ],
   "source": [
    "##########\n",
    "##########\n",
    "\n",
    "## open netCDF file for reading.\n",
    "\n",
    "ncfile = Dataset('Clay2_noPonding_STORATIVITY_0.nc','r') \n",
    "\n",
    "print ('*** SUCCESS reading')\n",
    "\n",
    "print('\\n ***FILE INFO:\\n')\n",
    "print(ncfile)\n",
    "\n",
    "## other usefull commands:\n",
    "#print (ncfile.dimensions['time'])\n",
    "#print (ncfile.file_format)\n",
    "#print (ncfile.dimensions.keys())\n",
    "print (ncfile.variables.keys())\n",
    "#print (ncfile.variables['psi'])\n",
    "\n",
    "psiIC = ncfile.variables['psiIC']\n",
    "print('\\n ***psiIC INFO:\\n')\n",
    "print(psiIC)\n",
    "\n",
    "thetaS = ncfile.variables['thetaS']\n",
    "print('\\n ***thetaS INFO:\\n')\n",
    "print(thetaS)\n",
    "\n",
    "thetaR = ncfile.variables['thetaR']\n",
    "print('\\n ***thetaR INFO:\\n')\n",
    "print(thetaR)\n",
    "\n",
    "par1SWRC = ncfile.variables['par1SWRC']\n",
    "print('\\n ***par1SWRC INFO:\\n')\n",
    "print(par1SWRC)\n",
    "\n",
    "par2SWRC = ncfile.variables['par2SWRC']\n",
    "print('\\n ***par2SWRC INFO:\\n')\n",
    "print(par2SWRC)\n",
    "\n",
    "deltaZ = ncfile.variables['deltaZ']\n",
    "print('\\n ***deltaZ INFO:\\n')\n",
    "print(deltaZ)"
   ]
  },
  {
   "cell_type": "code",
   "execution_count": 4,
   "metadata": {},
   "outputs": [],
   "source": [
    "def VG(psi,n,alpha,thetaS,thetaR):\n",
    "    \"\"\"(float, float, float, float) -> float \n",
    "    \n",
    "       This function returns the saturation degree S_e assigned VG's parameters \n",
    "       and a value for soil suction $\\psi$ \n",
    "    \"\"\"\n",
    "    m =1-1/n\n",
    "    return thetaR+(thetaS-thetaR)/( 1+(alpha*np.abs(psi))**n )**(m)\n",
    "\n",
    "\n",
    "theta = []\n",
    "for i in range(0,np.size(psiIC[:])-1):\n",
    "    theta=np.append(theta, VG(psiIC[i],par1SWRC[i],par2SWRC[i],thetaS[i],thetaR[i]) ) "
   ]
  },
  {
   "cell_type": "code",
   "execution_count": 5,
   "metadata": {},
   "outputs": [],
   "source": [
    "airVolume = (thetaS[:]-theta)*deltaZ[:]\n",
    "#airVolume"
   ]
  },
  {
   "cell_type": "code",
   "execution_count": 6,
   "metadata": {},
   "outputs": [
    {
     "data": {
      "text/plain": [
       "0.20171816882731133"
      ]
     },
     "execution_count": 6,
     "metadata": {},
     "output_type": "execute_result"
    }
   ],
   "source": [
    "## unit [m]\n",
    "totalAirVolume = np.sum(airVolume)\n",
    "totalAirVolume"
   ]
  },
  {
   "cell_type": "markdown",
   "metadata": {},
   "source": [
    "## Read output file\n",
    "Reading the simulation output file allows to konow the cumulative rainfall height and the water ponding depth"
   ]
  },
  {
   "cell_type": "code",
   "execution_count": 7,
   "metadata": {},
   "outputs": [
    {
     "data": {
      "text/plain": [
       "['Clay2_noPonding_noStorativity_1mmRain_Dirichlet.nc',\n",
       " 'Clay2_noPonding_noStorativity_1mmRain_FreeDrainage.nc',\n",
       " 'Clay2_noPonding_noStorativity_1mmRain_Impervious.nc',\n",
       " 'Clay2_noPonding_noStorativity_2mmRain_Dirichlet.nc',\n",
       " 'Clay2_noPonding_noStorativity_2mmRain_FreeDrainage.nc',\n",
       " 'Clay2_noPonding_noStorativity_6mmRain_Dirichlet.nc',\n",
       " 'Clay2_noPonding_noStorativity_6mmRain_FreeDrainage.nc',\n",
       " 'Clay2_noPonding_noStorativity_6mmRain_Impervious.nc',\n",
       " 'Clay2_noPonding_noStorativity_noRain_Dirichlet.nc',\n",
       " 'Clay2_noPonding_noStorativity_noRain_FreeDrainage.nc',\n",
       " 'Clay2_noPonding_noStorativity_noRain_Impervious.nc',\n",
       " 'Clay_noPonding_noStorativity_6mmRain_Dirichlet.nc',\n",
       " 'Clay_noPonding_noStorativity_6mmRain_FreeDrainage.nc',\n",
       " 'Clay_noPonding_noStorativity_6mmRain_Impervious.nc']"
      ]
     },
     "execution_count": 7,
     "metadata": {},
     "output_type": "execute_result"
    }
   ],
   "source": [
    "#os.chdir(\"C:\\\\Users\\\\Niccolo\\\\eclipse-workspace\\\\richards1D\\\\resources\\\\Output\\\\TestDatiProf\\\\ClaySoil\")\n",
    "os.chdir(\"C:/Users/Niccolo/Desktop/RTEST/resources/Output/TestDatiProf/ClaySoil\")\n",
    "\n",
    "os.listdir()"
   ]
  },
  {
   "cell_type": "code",
   "execution_count": 14,
   "metadata": {},
   "outputs": [
    {
     "ename": "FileNotFoundError",
     "evalue": "[Errno 2] No such file or directory: b'Clay2_noPonding_noStorativity_2mmRain_Impervious.nc'",
     "output_type": "error",
     "traceback": [
      "\u001b[1;31m---------------------------------------------------------------------------\u001b[0m",
      "\u001b[1;31mFileNotFoundError\u001b[0m                         Traceback (most recent call last)",
      "\u001b[1;32m<ipython-input-14-63884dac048d>\u001b[0m in \u001b[0;36m<module>\u001b[1;34m()\u001b[0m\n\u001b[0;32m      4\u001b[0m \u001b[1;31m# open netCDF file for reading.\u001b[0m\u001b[1;33m\u001b[0m\u001b[1;33m\u001b[0m\u001b[0m\n\u001b[0;32m      5\u001b[0m \u001b[1;33m\u001b[0m\u001b[0m\n\u001b[1;32m----> 6\u001b[1;33m \u001b[0mncfile\u001b[0m \u001b[1;33m=\u001b[0m \u001b[0mDataset\u001b[0m\u001b[1;33m(\u001b[0m\u001b[1;34m'Clay2_noPonding_noStorativity_2mmRain_Impervious.nc'\u001b[0m\u001b[1;33m,\u001b[0m\u001b[1;34m'r'\u001b[0m\u001b[1;33m)\u001b[0m\u001b[1;33m\u001b[0m\u001b[0m\n\u001b[0m\u001b[0;32m      7\u001b[0m \u001b[1;33m\u001b[0m\u001b[0m\n\u001b[0;32m      8\u001b[0m \u001b[0mprint\u001b[0m \u001b[1;33m(\u001b[0m\u001b[1;34m'*** SUCCESS reading'\u001b[0m\u001b[1;33m)\u001b[0m\u001b[1;33m\u001b[0m\u001b[0m\n",
      "\u001b[1;32mnetCDF4\\_netCDF4.pyx\u001b[0m in \u001b[0;36mnetCDF4._netCDF4.Dataset.__init__\u001b[1;34m()\u001b[0m\n",
      "\u001b[1;32mnetCDF4\\_netCDF4.pyx\u001b[0m in \u001b[0;36mnetCDF4._netCDF4._ensure_nc_success\u001b[1;34m()\u001b[0m\n",
      "\u001b[1;31mFileNotFoundError\u001b[0m: [Errno 2] No such file or directory: b'Clay2_noPonding_noStorativity_2mmRain_Impervious.nc'"
     ]
    }
   ],
   "source": [
    "##########\n",
    "##########\n",
    "\n",
    "# open netCDF file for reading.\n",
    "\n",
    "ncfile = Dataset('Clay2_noPonding_noStorativity_2mmRain_Impervious.nc','r') \n",
    " \n",
    "print ('*** SUCCESS reading')\n",
    "\n",
    "print('\\n ***FILE INFO:\\n')\n",
    "print(ncfile)\n",
    "\n",
    "## other usefull commands:\n",
    "#print (ncfile.dimensions['time'])\n",
    "#print (ncfile.file_format)\n",
    "#print (ncfile.dimensions.keys())\n",
    "print (ncfile.variables.keys())\n",
    "#print (ncfile.variables['psi'])\n",
    "\n",
    "\n",
    "depths = ncfile.variables['depth']\n",
    "print('\\n ***DEPTHS INFO:\\n')\n",
    "print(depths)\n",
    "\n",
    "dualDepths = ncfile.variables['dual_depth']\n",
    "print('\\n ***DUAL DEPTH INFO:\\n')\n",
    "print(dualDepths)\n",
    "\n",
    "time = ncfile.variables['time']\n",
    "print('\\n ***TIME INFO:\\n')\n",
    "print(time)\n",
    "\n",
    "psi = ncfile.variables['psi']\n",
    "print('\\n ***PSI INFO:\\n')\n",
    "print(psi)\n",
    "\n",
    "theta = ncfile.variables['water_heigth']\n",
    "print('\\n ***THETA INFO:\\n')\n",
    "print(theta)\n",
    "\n",
    "iC = ncfile.variables['psiIC']\n",
    "print('\\n ***INITIAL CONDITION INFO:\\n')\n",
    "print(iC)\n",
    "\n",
    "velocities = ncfile.variables['velocities']\n",
    "print('\\n ***VELOCITIES INFO:\\n')\n",
    "print(velocities)\n",
    "\n",
    "error = ncfile.variables['error']\n",
    "print('\\n ***ERROR INFO:\\n')\n",
    "print(error)\n",
    "\n",
    "topBC = ncfile.variables['topBC']\n",
    "print('\\n ***topBC INFO:\\n')\n",
    "print(topBC)\n",
    "\n",
    "bottomBC = ncfile.variables['bottomBC']\n",
    "print('\\n ***bottomBC INFO:\\n')\n",
    "print(bottomBC)\n"
   ]
  },
  {
   "cell_type": "code",
   "execution_count": null,
   "metadata": {},
   "outputs": [],
   "source": [
    "## ponding depth at soil surface at the end of the simulation [m]\n",
    "\n",
    "PondingDepth = psi[np.size(time[:])-1,np.size(depths[:])-1]\n",
    "PondingDepth"
   ]
  },
  {
   "cell_type": "code",
   "execution_count": 15,
   "metadata": {},
   "outputs": [
    {
     "ename": "RuntimeError",
     "evalue": "NetCDF: Not a valid ID",
     "output_type": "error",
     "traceback": [
      "\u001b[1;31m---------------------------------------------------------------------------\u001b[0m",
      "\u001b[1;31mRuntimeError\u001b[0m                              Traceback (most recent call last)",
      "\u001b[1;32m<ipython-input-15-65e1750397ae>\u001b[0m in \u001b[0;36m<module>\u001b[1;34m()\u001b[0m\n\u001b[0;32m      1\u001b[0m \u001b[1;31m## cumulative rainfall height [mm]\u001b[0m\u001b[1;33m\u001b[0m\u001b[1;33m\u001b[0m\u001b[0m\n\u001b[1;32m----> 2\u001b[1;33m \u001b[0mmmRainfall\u001b[0m \u001b[1;33m=\u001b[0m \u001b[0mnp\u001b[0m\u001b[1;33m.\u001b[0m\u001b[0msum\u001b[0m\u001b[1;33m(\u001b[0m\u001b[0mtopBC\u001b[0m\u001b[1;33m[\u001b[0m\u001b[1;33m:\u001b[0m\u001b[1;33m]\u001b[0m\u001b[1;33m)\u001b[0m\u001b[1;33m\u001b[0m\u001b[0m\n\u001b[0m\u001b[0;32m      3\u001b[0m \u001b[0mmmRainfall\u001b[0m\u001b[1;33m\u001b[0m\u001b[0m\n",
      "\u001b[1;32mnetCDF4\\_netCDF4.pyx\u001b[0m in \u001b[0;36mnetCDF4._netCDF4.Variable.__getitem__\u001b[1;34m()\u001b[0m\n",
      "\u001b[1;32mnetCDF4\\_netCDF4.pyx\u001b[0m in \u001b[0;36mnetCDF4._netCDF4.Variable.shape.__get__\u001b[1;34m()\u001b[0m\n",
      "\u001b[1;32mnetCDF4\\_netCDF4.pyx\u001b[0m in \u001b[0;36mnetCDF4._netCDF4.Variable._getdims\u001b[1;34m()\u001b[0m\n",
      "\u001b[1;32mnetCDF4\\_netCDF4.pyx\u001b[0m in \u001b[0;36mnetCDF4._netCDF4._ensure_nc_success\u001b[1;34m()\u001b[0m\n",
      "\u001b[1;31mRuntimeError\u001b[0m: NetCDF: Not a valid ID"
     ]
    }
   ],
   "source": [
    "## cumulative rainfall height [mm]\n",
    "mmRainfall = np.sum(topBC[:])\n",
    "mmRainfall"
   ]
  },
  {
   "cell_type": "code",
   "execution_count": 11,
   "metadata": {},
   "outputs": [
    {
     "data": {
      "text/plain": [
       "662.28183117268873"
      ]
     },
     "execution_count": 11,
     "metadata": {},
     "output_type": "execute_result"
    }
   ],
   "source": [
    "estimatedPonding = mmRainfall-totalAirVolume*1000\n",
    "estimatedPonding"
   ]
  },
  {
   "cell_type": "code",
   "execution_count": 12,
   "metadata": {},
   "outputs": [
    {
     "data": {
      "text/plain": [
       "4.9084450008359127e-10"
      ]
     },
     "execution_count": 12,
     "metadata": {},
     "output_type": "execute_result"
    }
   ],
   "source": [
    "relativeError = (PondingDepth*1000-estimatedPonding)/estimatedPonding\n",
    "relativeError"
   ]
  },
  {
   "cell_type": "code",
   "execution_count": 13,
   "metadata": {},
   "outputs": [],
   "source": [
    "ncfile.close()"
   ]
  }
 ],
 "metadata": {
  "kernelspec": {
   "display_name": "Python 3",
   "language": "python",
   "name": "python3"
  },
  "language_info": {
   "codemirror_mode": {
    "name": "ipython",
    "version": 3
   },
   "file_extension": ".py",
   "mimetype": "text/x-python",
   "name": "python",
   "nbconvert_exporter": "python",
   "pygments_lexer": "ipython3",
   "version": "3.6.3"
  }
 },
 "nbformat": 4,
 "nbformat_minor": 2
}
