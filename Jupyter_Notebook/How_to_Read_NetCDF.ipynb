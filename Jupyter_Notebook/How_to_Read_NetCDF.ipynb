{
 "cells": [
  {
   "cell_type": "markdown",
   "metadata": {},
   "source": [
    "# Read a NetCDF\n",
    "\n",
    "Here there are some piece of code to open and read a NetCDF file."
   ]
  },
  {
   "cell_type": "code",
   "execution_count": 2,
   "metadata": {},
   "outputs": [],
   "source": [
    "import os\n",
    "import pandas as pd\n",
    "import numpy as np\n",
    "import matplotlib.pyplot as plt\n",
    "## to convert unix time to human readable date\n",
    "import time\n",
    "import datetime\n",
    "\n",
    "from netCDF4 import Dataset"
   ]
  },
  {
   "cell_type": "code",
   "execution_count": 9,
   "metadata": {},
   "outputs": [
    {
     "data": {
      "text/plain": [
       "['ClaySand_noPonding.nc',\n",
       " 'Clay_noPonding.nc',\n",
       " 'SandClay_01Ponding_Measurement.nc',\n",
       " 'Sand_01Ponding.nc']"
      ]
     },
     "execution_count": 9,
     "metadata": {},
     "output_type": "execute_result"
    }
   ],
   "source": [
    "os.chdir(\"C:\\\\Users\\\\Niccolo\\\\OMS\\\\OMS_Project_Richards1D_Newest\\\\data\\\\Grid_NetCDF\")\n",
    "os.listdir()\n"
   ]
  },
  {
   "cell_type": "markdown",
   "metadata": {},
   "source": [
    "Create an object of type NetCDF using the function _Dataset_"
   ]
  },
  {
   "cell_type": "code",
   "execution_count": 10,
   "metadata": {},
   "outputs": [],
   "source": [
    "ncfile = Dataset('SandClay_01Ponding_Measurement.nc','r') "
   ]
  },
  {
   "cell_type": "markdown",
   "metadata": {},
   "source": [
    "It is possible to read file info simply running _print(ncfile)_\n"
   ]
  },
  {
   "cell_type": "code",
   "execution_count": 11,
   "metadata": {},
   "outputs": [
    {
     "name": "stdout",
     "output_type": "stream",
     "text": [
      "\n",
      " ***FILE INFO:\n",
      "\n",
      "<class 'netCDF4._netCDF4.Dataset'>\n",
      "root group (NETCDF4 data model, file format HDF5):\n",
      "    title: Grid 2 layers clay and sand with 0.1m ponding water, linear interpolation of psi in soil, \n",
      "            Clay: thetaS =  0.5, thetaR = 0.07, Ks = 0.000023m/s, alphaSpecificStorage = 0, betaSpecificStorage = 0\n",
      "                  VG model: n = 1.7, alpha = 5.88 m-1 \n",
      "            Sand: thetaS =  0.38, thetaR = 0.02, Ks = 0.003697m/s, alphaSpecificStorage = 0, betaSpecificStorage = 0\n",
      "                  VG model: n = 1.16, alpha = 1.47 m-1 \n",
      "            inputfile: data\\RichardMeshGen_input\\SandClay_01Ponding_Measurement.csv\n",
      "    institution: Geoframe\n",
      "    summary: This file stores all grid information (geometry, soiAll data computed above are saved in NetCDF file\n",
      "    date_created: 5/22/2018\n",
      "    dimensions(sizes): z(640), zz(639)\n",
      "    variables(dimensions): float64 \u001b[4meta\u001b[0m(z), float64 \u001b[4metaDual\u001b[0m(z), float64 \u001b[4mz\u001b[0m(z), float64 \u001b[4mzDual\u001b[0m(z), float64 \u001b[4mpsiIC\u001b[0m(z), float64 \u001b[4mspaceDelta\u001b[0m(z), float64 \u001b[4met\u001b[0m(z), float64 \u001b[4mdeltaZ\u001b[0m(zz), float64 \u001b[4mthetaS\u001b[0m(zz), float64 \u001b[4mthetaR\u001b[0m(zz), float64 \u001b[4mKs\u001b[0m(zz), float64 \u001b[4mpar1SWRC\u001b[0m(zz), float64 \u001b[4mpar2SWRC\u001b[0m(zz), float64 \u001b[4mpar3SWRC\u001b[0m(zz), float64 \u001b[4mpar4SWRC\u001b[0m(zz)\n",
      "    groups: \n",
      "\n"
     ]
    }
   ],
   "source": [
    "print('\\n ***FILE INFO:\\n')\n",
    "print(ncfile)"
   ]
  },
  {
   "cell_type": "markdown",
   "metadata": {},
   "source": [
    "It is possible to read some information added by whom created this file such as title, institution, summary (should contain essential description of data), and all variables stored and their type.\n",
    "\n",
    "More informations on variables can be obtained running _ncfile.variable_. Doing so, we get:\n",
    "- variable type, such as float64;\n",
    "- variable unit;\n",
    "- long_name of the variable describing the variable itself;\n",
    "- its dimension. Usually we have unlimited dimensions since the number of time step is not assigned"
   ]
  },
  {
   "cell_type": "code",
   "execution_count": 6,
   "metadata": {
    "scrolled": false
   },
   "outputs": [
    {
     "data": {
      "text/plain": [
       "OrderedDict([('eta', <class 'netCDF4._netCDF4.Variable'>\n",
       "              float64 eta(z)\n",
       "                  unit: m\n",
       "                  long_name: η coordinate of volume centroids: zero is at soil surface and and positive upward\n",
       "              unlimited dimensions: \n",
       "              current shape = (321,)\n",
       "              filling on, default _FillValue of 9.969209968386869e+36 used),\n",
       "             ('etaDual', <class 'netCDF4._netCDF4.Variable'>\n",
       "              float64 etaDual(z)\n",
       "                  unit: m\n",
       "                  long_name: η coordinate of volume interfaces: zero is at soil surface and and positive upward. \n",
       "              unlimited dimensions: \n",
       "              current shape = (321,)\n",
       "              filling on, default _FillValue of 9.969209968386869e+36 used),\n",
       "             ('z', <class 'netCDF4._netCDF4.Variable'>\n",
       "              float64 z(z)\n",
       "                  unit: m\n",
       "                  long_name: z coordinate  of volume centroids: zero is at the bottom of the column and and positive upward\n",
       "              unlimited dimensions: \n",
       "              current shape = (321,)\n",
       "              filling on, default _FillValue of 9.969209968386869e+36 used),\n",
       "             ('zDual', <class 'netCDF4._netCDF4.Variable'>\n",
       "              float64 zDual(z)\n",
       "                  unit: m\n",
       "                  long_name: z coordinate of volume interfaces: zero is at soil surface and and positive upward.\n",
       "              unlimited dimensions: \n",
       "              current shape = (321,)\n",
       "              filling on, default _FillValue of 9.969209968386869e+36 used),\n",
       "             ('psiIC', <class 'netCDF4._netCDF4.Variable'>\n",
       "              float64 psiIC(z)\n",
       "                  units: m\n",
       "                  long_name: initial condition for water suction\n",
       "              unlimited dimensions: \n",
       "              current shape = (321,)\n",
       "              filling on, default _FillValue of 9.969209968386869e+36 used),\n",
       "             ('spaceDelta', <class 'netCDF4._netCDF4.Variable'>\n",
       "              float64 spaceDelta(z)\n",
       "                  unit: m\n",
       "                  long_name: Distance between consecutive controids, is used to compute gradients\n",
       "              unlimited dimensions: \n",
       "              current shape = (321,)\n",
       "              filling on, default _FillValue of 9.969209968386869e+36 used),\n",
       "             ('et', <class 'netCDF4._netCDF4.Variable'>\n",
       "              float64 et(z)\n",
       "                  units: 1/s\n",
       "                  long_name: Coefficient to simulate ET\n",
       "              unlimited dimensions: \n",
       "              current shape = (321,)\n",
       "              filling on, default _FillValue of 9.969209968386869e+36 used),\n",
       "             ('deltaZ', <class 'netCDF4._netCDF4.Variable'>\n",
       "              float64 deltaZ(zz)\n",
       "                  unit: m\n",
       "                  long_name: Length of each control volume\n",
       "              unlimited dimensions: \n",
       "              current shape = (320,)\n",
       "              filling on, default _FillValue of 9.969209968386869e+36 used),\n",
       "             ('thetaS', <class 'netCDF4._netCDF4.Variable'>\n",
       "              float64 thetaS(zz)\n",
       "                  units: -\n",
       "                  long_name: adimensional water content at saturation\n",
       "              unlimited dimensions: \n",
       "              current shape = (320,)\n",
       "              filling on, default _FillValue of 9.969209968386869e+36 used),\n",
       "             ('thetaR', <class 'netCDF4._netCDF4.Variable'>\n",
       "              float64 thetaR(zz)\n",
       "                  units: -\n",
       "                  long_name: adimensional residual water content\n",
       "              unlimited dimensions: \n",
       "              current shape = (320,)\n",
       "              filling on, default _FillValue of 9.969209968386869e+36 used),\n",
       "             ('Ks', <class 'netCDF4._netCDF4.Variable'>\n",
       "              float64 Ks(zz)\n",
       "                  units: m/s\n",
       "                  long_name: hydraulic conductivity at saturation\n",
       "              unlimited dimensions: \n",
       "              current shape = (320,)\n",
       "              filling on, default _FillValue of 9.969209968386869e+36 used),\n",
       "             ('par1SWRC', <class 'netCDF4._netCDF4.Variable'>\n",
       "              float64 par1SWRC(zz)\n",
       "                  units: -\n",
       "                  long_name: Parameter n of Van Genuchten model\n",
       "              unlimited dimensions: \n",
       "              current shape = (320,)\n",
       "              filling on, default _FillValue of 9.969209968386869e+36 used),\n",
       "             ('par2SWRC', <class 'netCDF4._netCDF4.Variable'>\n",
       "              float64 par2SWRC(zz)\n",
       "                  units: 1/m\n",
       "                  long_name: Parameter alpha of Van Genuchten model\n",
       "              unlimited dimensions: \n",
       "              current shape = (320,)\n",
       "              filling on, default _FillValue of 9.969209968386869e+36 used),\n",
       "             ('par3SWRC', <class 'netCDF4._netCDF4.Variable'>\n",
       "              float64 par3SWRC(zz)\n",
       "                  units:  \n",
       "                  long_name: no values\n",
       "              unlimited dimensions: \n",
       "              current shape = (320,)\n",
       "              filling on, default _FillValue of 9.969209968386869e+36 used),\n",
       "             ('par4SWRC', <class 'netCDF4._netCDF4.Variable'>\n",
       "              float64 par4SWRC(zz)\n",
       "                  units:  \n",
       "                  long_name: no values\n",
       "              unlimited dimensions: \n",
       "              current shape = (320,)\n",
       "              filling on, default _FillValue of 9.969209968386869e+36 used)])"
      ]
     },
     "execution_count": 6,
     "metadata": {},
     "output_type": "execute_result"
    }
   ],
   "source": [
    "ncfile.variables"
   ]
  },
  {
   "cell_type": "markdown",
   "metadata": {},
   "source": [
    "To store a varible contained in a NetCDF file in a python variable we can run the following line"
   ]
  },
  {
   "cell_type": "code",
   "execution_count": 6,
   "metadata": {},
   "outputs": [],
   "source": [
    "ic = ncfile.variables['psiIC']"
   ]
  },
  {
   "cell_type": "markdown",
   "metadata": {},
   "source": [
    "where the argument of the method varibles is the key used in the NetCDF. This can be read from the FILE INFO printed above.\n",
    "\n",
    "Again, it is possible to read ic information just running the code below"
   ]
  },
  {
   "cell_type": "code",
   "execution_count": 7,
   "metadata": {},
   "outputs": [
    {
     "name": "stdout",
     "output_type": "stream",
     "text": [
      "\n",
      " ***ic INFO:\n",
      "\n",
      "<class 'netCDF4._netCDF4.Variable'>\n",
      "float64 psiIC(depth)\n",
      "    units: m\n",
      "    long_name: Initial condition for hydraulic head\n",
      "unlimited dimensions: \n",
      "current shape = (321,)\n",
      "filling off\n",
      "\n"
     ]
    }
   ],
   "source": [
    "print('\\n ***ic INFO:\\n')\n",
    "print(ic)"
   ]
  },
  {
   "cell_type": "markdown",
   "metadata": {},
   "source": [
    "The variable ic is of type float64, its unit is meters, it contains the intial condition for water suction, and has 321 entries.\n",
    "\n",
    "To get its first value run"
   ]
  },
  {
   "cell_type": "code",
   "execution_count": 8,
   "metadata": {},
   "outputs": [
    {
     "data": {
      "text/plain": [
       "-0.0031250000000000444"
      ]
     },
     "execution_count": 8,
     "metadata": {},
     "output_type": "execute_result"
    }
   ],
   "source": [
    "ic[0]"
   ]
  },
  {
   "cell_type": "code",
   "execution_count": 9,
   "metadata": {},
   "outputs": [
    {
     "name": "stdout",
     "output_type": "stream",
     "text": [
      "\n",
      " ***depht INFO:\n",
      "\n",
      "<class 'netCDF4._netCDF4.Variable'>\n",
      "float64 depth(depth)\n",
      "    units: m\n",
      "    long_name: Soil depth\n",
      "unlimited dimensions: \n",
      "current shape = (321,)\n",
      "filling off\n",
      "\n"
     ]
    }
   ],
   "source": [
    "depth = ncfile.variables['depth']\n",
    "print('\\n ***depht INFO:\\n')\n",
    "print(depth)"
   ]
  },
  {
   "cell_type": "markdown",
   "metadata": {},
   "source": [
    "It is possible to plot the initial condition versus depth"
   ]
  },
  {
   "cell_type": "code",
   "execution_count": 10,
   "metadata": {},
   "outputs": [
    {
     "data": {
      "image/png": "[encoded data removed]",
      "text/plain": [
       "<matplotlib.figure.Figure at 0x270080d22b0>"
      ]
     },
     "metadata": {},
     "output_type": "display_data"
    }
   ],
   "source": [
    "plt.plot(ic[:],depth[:])\n",
    "plt.show()"
   ]
  },
  {
   "cell_type": "markdown",
   "metadata": {},
   "source": [
    "It is possible to add axis labels using info contained in the NetCDF file (if it is written in the proper manner)"
   ]
  },
  {
   "cell_type": "markdown",
   "metadata": {},
   "source": [
    "plt.plot(ic[:],depth[:])\n",
    "plt.xlabel(ncfile.variables['psiIC'].long_name + '  [' +ncfile.variables['psiIC'].units +']')\n",
    "plt.ylabel(ncfile.variables['depth'].long_name + '  [' +ncfile.variables['depth'].units +']')\n",
    "plt.show()"
   ]
  },
  {
   "cell_type": "markdown",
   "metadata": {},
   "source": [
    "Now let us consider the varible $\\psi$"
   ]
  },
  {
   "cell_type": "code",
   "execution_count": 11,
   "metadata": {},
   "outputs": [
    {
     "name": "stdout",
     "output_type": "stream",
     "text": [
      "\n",
      " ***depht INFO:\n",
      "\n",
      "<class 'netCDF4._netCDF4.Variable'>\n",
      "float64 psi(time, depth)\n",
      "    units: m\n",
      "    long_name: Hydraulic head\n",
      "unlimited dimensions: time\n",
      "current shape = (577, 321)\n",
      "filling off\n",
      "\n"
     ]
    }
   ],
   "source": [
    "psi = ncfile.variables['psi']\n",
    "print('\\n ***depht INFO:\\n')\n",
    "print(psi)"
   ]
  },
  {
   "cell_type": "markdown",
   "metadata": {},
   "source": [
    "$\\psi$ has both a space dimension and a time dimension: the first index identifies the time level the second one the space. "
   ]
  },
  {
   "cell_type": "code",
   "execution_count": 12,
   "metadata": {},
   "outputs": [
    {
     "data": {
      "image/png": "[encoded data removed]",
      "text/plain": [
       "<matplotlib.figure.Figure at 0x270077d41d0>"
      ]
     },
     "metadata": {},
     "output_type": "display_data"
    }
   ],
   "source": [
    "plt.plot(psi[0,:],depth[:])\n",
    "plt.xlabel(ncfile.variables['psi'].long_name + '  [' +ncfile.variables['psi'].units +']')\n",
    "plt.ylabel(ncfile.variables['depth'].long_name + '  [' +ncfile.variables['depth'].units +']')\n",
    "plt.show()"
   ]
  },
  {
   "cell_type": "markdown",
   "metadata": {},
   "source": [
    "The plot above represent the solution for $\\psi$ at the first time step (in python index starts from 0 and not from 1).\n",
    "\n"
   ]
  },
  {
   "cell_type": "markdown",
   "metadata": {},
   "source": [
    "But I might be interested to see how $\\psi$ varies over time at the same depth. In this case the piece of code above modifies as follows"
   ]
  },
  {
   "cell_type": "code",
   "execution_count": 13,
   "metadata": {},
   "outputs": [
    {
     "data": {
      "image/png": "[encoded data removed]",
      "text/plain": [
       "<matplotlib.figure.Figure at 0x270083a1e10>"
      ]
     },
     "metadata": {},
     "output_type": "display_data"
    }
   ],
   "source": [
    "plt.plot(psi[:,0])\n",
    "plt.xlabel(ncfile.variables['psi'].long_name + '  [' +ncfile.variables['psi'].units +']')\n",
    "plt.ylabel(ncfile.variables['depth'].long_name + '  [' +ncfile.variables['depth'].units +']')\n",
    "plt.show()"
   ]
  },
  {
   "cell_type": "markdown",
   "metadata": {},
   "source": [
    "To have a better plot I can create a vector of human readable dates"
   ]
  },
  {
   "cell_type": "code",
   "execution_count": 14,
   "metadata": {},
   "outputs": [
    {
     "name": "stdout",
     "output_type": "stream",
     "text": [
      "\n",
      " ***TIME INFO:\n",
      "\n",
      "<class 'netCDF4._netCDF4.Variable'>\n",
      "int32 time(time)\n",
      "    units: unix convention\n",
      "unlimited dimensions: time\n",
      "current shape = (577,)\n",
      "filling off\n",
      "\n"
     ]
    }
   ],
   "source": [
    "time = ncfile.variables['time']\n",
    "print('\\n ***TIME INFO:\\n')\n",
    "print(time)\n",
    "\n",
    "dates = [datetime.datetime.fromtimestamp(t).strftime(\"%Y-%m-%d %H:%M\") for t in time[:]]\n"
   ]
  },
  {
   "cell_type": "code",
   "execution_count": 20,
   "metadata": {},
   "outputs": [
    {
     "data": {
      "image/png": "[encoded data removed]",
      "text/plain": [
       "<matplotlib.figure.Figure at 0x270095fd5f8>"
      ]
     },
     "metadata": {},
     "output_type": "display_data"
    }
   ],
   "source": [
    "plt.plot(dates[0:10],psi[0:10,0])\n",
    "plt.xlabel('Dates yyyy-mm-dd hh:mm')\n",
    "plt.xticks(rotation=70)\n",
    "plt.show()"
   ]
  },
  {
   "cell_type": "markdown",
   "metadata": {},
   "source": [
    "The key _topBC_ contains the hyetograph used as top boundary condition"
   ]
  },
  {
   "cell_type": "code",
   "execution_count": 17,
   "metadata": {},
   "outputs": [
    {
     "name": "stdout",
     "output_type": "stream",
     "text": [
      "\n",
      " ***TIME INFO:\n",
      "\n",
      "<class 'netCDF4._netCDF4.Variable'>\n",
      "float64 topBC(time)\n",
      "    units: mm\n",
      "    long_name: rainfall heights\n",
      "unlimited dimensions: time\n",
      "current shape = (577,)\n",
      "filling off\n",
      "\n"
     ]
    }
   ],
   "source": [
    "topBC = ncfile.variables['topBC']\n",
    "print('\\n ***TIME INFO:\\n')\n",
    "print(topBC)"
   ]
  },
  {
   "cell_type": "code",
   "execution_count": 22,
   "metadata": {},
   "outputs": [
    {
     "data": {
      "image/png": "[encoded data removed]",
      "text/plain": [
       "<matplotlib.figure.Figure at 0x270083e5358>"
      ]
     },
     "metadata": {},
     "output_type": "display_data"
    }
   ],
   "source": [
    "plt.plot(dates[0:10],topBC[0:10])\n",
    "plt.xlabel('Dates yyyy-mm-dd hh:mm')\n",
    "plt.ylabel(ncfile.variables['topBC'].long_name + '  [' +ncfile.variables['topBC'].units +']')\n",
    "plt.xticks(rotation=70)\n",
    "plt.show()"
   ]
  },
  {
   "cell_type": "markdown",
   "metadata": {},
   "source": [
    "To know the cumulative rainfall height we can just run"
   ]
  },
  {
   "cell_type": "code",
   "execution_count": 23,
   "metadata": {},
   "outputs": [
    {
     "data": {
      "text/plain": [
       "0.0"
      ]
     },
     "execution_count": 23,
     "metadata": {},
     "output_type": "execute_result"
    }
   ],
   "source": [
    "np.sum(topBC[0:10])"
   ]
  },
  {
   "cell_type": "code",
   "execution_count": 7,
   "metadata": {},
   "outputs": [],
   "source": [
    "ncfile.close()"
   ]
  },
  {
   "cell_type": "code",
   "execution_count": null,
   "metadata": {},
   "outputs": [],
   "source": []
  }
 ],
 "metadata": {
  "kernelspec": {
   "display_name": "Python 3",
   "language": "python",
   "name": "python3"
  },
  "language_info": {
   "codemirror_mode": {
    "name": "ipython",
    "version": 3
   },
   "file_extension": ".py",
   "mimetype": "text/x-python",
   "name": "python",
   "nbconvert_exporter": "python",
   "pygments_lexer": "ipython3",
   "version": "3.6.3"
  }
 },
 "nbformat": 4,
 "nbformat_minor": 2
}
