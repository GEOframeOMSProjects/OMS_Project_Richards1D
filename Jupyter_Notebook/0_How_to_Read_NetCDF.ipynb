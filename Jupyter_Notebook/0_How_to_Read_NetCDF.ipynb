{
 "cells": [
  {
   "cell_type": "markdown",
   "metadata": {},
   "source": [
    "# Read a NetCDF\n",
    "\n",
    "Here there are some piece of code to open and read a NetCDF file."
   ]
  },
  {
   "cell_type": "code",
   "execution_count": 1,
   "metadata": {},
   "outputs": [],
   "source": [
    "\"\"\"\n",
    "  GNU GPL v3 License\n",
    " \n",
    "  Copyright 2018 Niccolo` Tubini\n",
    " \n",
    "  This program is free software: you can redistribute it and/or modify\n",
    "  it under the terms of the GNU General Public License as published by\n",
    "  the Free Software Foundation, either version 3 of the License, or\n",
    "  (at your option) any later version.\n",
    " \n",
    "  This program is distributed in the hope that it will be useful,\n",
    "  but WITHOUT ANY WARRANTY; without even the implied warranty of\n",
    "  MERCHANTABILITY or FITNESS FOR A PARTICULAR PURPOSE.  See the\n",
    "  GNU General Public License for more details.\n",
    " \n",
    "  You should have received a copy of the GNU General Public License\n",
    "  along with this program.  If not, see <http://www.gnu.org/licenses/>.\n",
    "\"\"\"\n",
    "\n",
    "import os\n",
    "import pandas as pd\n",
    "import numpy as np\n",
    "import matplotlib.pyplot as plt\n",
    "## to convert unix time to human readable date\n",
    "import time\n",
    "import datetime\n",
    "\n",
    "from netCDF4 import Dataset"
   ]
  },
  {
   "cell_type": "markdown",
   "metadata": {},
   "source": [
    "Set\n",
    "\n",
    "your_path/output"
   ]
  },
  {
   "cell_type": "code",
   "execution_count": 3,
   "metadata": {},
   "outputs": [
    {
     "data": {
      "text/plain": [
       "['Casulli2010_test2VG_noRain_bottomDirichlet_300s.nc',\n",
       " 'Casulli2010_test2_noRain_bottomDirichlet_100s.nc',\n",
       " 'Casulli2010_test2_noRain_bottomDirichlet_100s_max.nc',\n",
       " 'Casulli2010_test2_noRain_bottomDirichlet_300s.nc',\n",
       " 'ClaySand_noPonding_TrentoRain_BottomDirichlet.nc',\n",
       " 'Clay_01Ponding_noRain_BottomDirichlet.nc',\n",
       " 'Clay_noPonding_2mmRain_BottomImpervious.nc',\n",
       " 'Clay_noPonding_4mmRain_BottomImpervious.nc',\n",
       " 'Clay_noPonding_Dry_2mmRain_bottomDirichlet0m.nc',\n",
       " 'Clay_noPonding_noRain_05BottomDirichlet.nc',\n",
       " 'Clay_noPonding_noRain_2mmBottomNeumann.nc',\n",
       " 'Clay_noPonding_noRain_BottomDirichlet.nc',\n",
       " 'Integrate PDE',\n",
       " 'SandClay_noPonding_TrentoRain_BottomDirichlet.nc',\n",
       " 'Sand_01Ponding_noRain_BottomDirichlet.nc',\n",
       " 'Sand_01Ponding_noRain_BottomFreeDrainage.nc']"
      ]
     },
     "execution_count": 3,
     "metadata": {},
     "output_type": "execute_result"
    }
   ],
   "source": [
    "os.chdir(\"C:/Users/Niccolo/OMS/OMS_Project_Richards1D/output\")\n",
    "os.listdir()\n"
   ]
  },
  {
   "cell_type": "markdown",
   "metadata": {},
   "source": [
    "Create an object of type NetCDF using the function _Dataset_"
   ]
  },
  {
   "cell_type": "code",
   "execution_count": 4,
   "metadata": {},
   "outputs": [],
   "source": [
    "ncfile = Dataset('Sand_01Ponding_noRain_BottomFreeDrainage.nc','r') "
   ]
  },
  {
   "cell_type": "markdown",
   "metadata": {},
   "source": [
    "It is possible to read file info simply running _print(ncfile)_\n"
   ]
  },
  {
   "cell_type": "code",
   "execution_count": 5,
   "metadata": {},
   "outputs": [
    {
     "name": "stdout",
     "output_type": "stream",
     "text": [
      "\n",
      " ***FILE INFO:\n",
      "\n",
      "<class 'netCDF4._netCDF4.Dataset'>\n",
      "root group (NETCDF3_CLASSIC data model, file format NETCDF3):\n",
      "    Description_of_the_problem: 1 layer of sand \n",
      " Grid input file: C:\\Users\\Niccolo\\OMS\\OMS_Project_Richards1D_Newest//data/Grid_NEtCDF/Sand_01Ponding.nc \n",
      " TopBC input file: C:\\Users\\Niccolo\\OMS\\OMS_Project_Richards1D_Newest//data/Timeseries/TestAll_0.csv \n",
      " BottomBC input file: C:\\Users\\Niccolo\\OMS\\OMS_Project_Richards1D_Newest//data/Timeseries/TestAll_0.csv, timeDelta = 10, interface k: mean\n",
      "    dimensions(sizes): depth(321), dualDepth(321), time(289)\n",
      "    variables(dimensions): float64 \u001b[4mdepth\u001b[0m(depth), float64 \u001b[4mdual_depth\u001b[0m(dualDepth), int32 \u001b[4mtime\u001b[0m(time), float64 \u001b[4mpsi\u001b[0m(time,depth), float64 \u001b[4mpsiIC\u001b[0m(depth), float64 \u001b[4mwater_heigth\u001b[0m(time,depth), float64 \u001b[4mvelocities\u001b[0m(time,dualDepth), float64 \u001b[4merror\u001b[0m(time), float64 \u001b[4mtopBC\u001b[0m(time), float64 \u001b[4mbottomBC\u001b[0m(time)\n",
      "    groups: \n",
      "\n"
     ]
    }
   ],
   "source": [
    "print('\\n ***FILE INFO:\\n')\n",
    "print(ncfile)"
   ]
  },
  {
   "cell_type": "markdown",
   "metadata": {},
   "source": [
    "It is possible to read some information added by whom created this file such as title, institution, summary (should contain essential description of data), and all variables stored and their type.\n",
    "\n",
    "More informations on variables can be obtained running _ncfile.variable_. Doing so, we get:\n",
    "- variable type, such as float64;\n",
    "- variable unit;\n",
    "- long_name of the variable describing the variable itself;\n",
    "- its dimension. Usually we have unlimited dimensions since the number of time step is not assigned"
   ]
  },
  {
   "cell_type": "code",
   "execution_count": 6,
   "metadata": {
    "scrolled": false
   },
   "outputs": [
    {
     "data": {
      "text/plain": [
       "OrderedDict([('depth', <class 'netCDF4._netCDF4.Variable'>\n",
       "              float64 depth(depth)\n",
       "                  units: m\n",
       "                  long_name: Soil depth\n",
       "              unlimited dimensions: \n",
       "              current shape = (321,)\n",
       "              filling off), ('dual_depth', <class 'netCDF4._netCDF4.Variable'>\n",
       "              float64 dual_depth(dualDepth)\n",
       "                  units: m\n",
       "                  long_name: Dual soil depth\n",
       "              unlimited dimensions: \n",
       "              current shape = (321,)\n",
       "              filling off), ('time', <class 'netCDF4._netCDF4.Variable'>\n",
       "              int32 time(time)\n",
       "                  units: unix convention\n",
       "              unlimited dimensions: time\n",
       "              current shape = (289,)\n",
       "              filling off), ('psi', <class 'netCDF4._netCDF4.Variable'>\n",
       "              float64 psi(time, depth)\n",
       "                  units: m\n",
       "                  long_name: Water suction\n",
       "              unlimited dimensions: time\n",
       "              current shape = (289, 321)\n",
       "              filling off), ('psiIC', <class 'netCDF4._netCDF4.Variable'>\n",
       "              float64 psiIC(depth)\n",
       "                  units: m\n",
       "                  long_name: Initial condition for water suction\n",
       "              unlimited dimensions: \n",
       "              current shape = (321,)\n",
       "              filling off), ('water_heigth',\n",
       "              <class 'netCDF4._netCDF4.Variable'>\n",
       "              float64 water_heigth(time, depth)\n",
       "                  units: m\n",
       "                  long_name: water height\n",
       "              unlimited dimensions: time\n",
       "              current shape = (289, 321)\n",
       "              filling off), ('velocities', <class 'netCDF4._netCDF4.Variable'>\n",
       "              float64 velocities(time, dualDepth)\n",
       "                  units: m/s\n",
       "                  long_name: Darcy velocities\n",
       "              unlimited dimensions: time\n",
       "              current shape = (289, 321)\n",
       "              filling off), ('error', <class 'netCDF4._netCDF4.Variable'>\n",
       "              float64 error(time)\n",
       "                  units: m\n",
       "                  long_name: volume error at each time step\n",
       "              unlimited dimensions: time\n",
       "              current shape = (289,)\n",
       "              filling off), ('topBC', <class 'netCDF4._netCDF4.Variable'>\n",
       "              float64 topBC(time)\n",
       "                  units: mm\n",
       "                  long_name: rainfall heights\n",
       "              unlimited dimensions: time\n",
       "              current shape = (289,)\n",
       "              filling off), ('bottomBC', <class 'netCDF4._netCDF4.Variable'>\n",
       "              float64 bottomBC(time)\n",
       "                  units: m\n",
       "                  long_name: water suction\n",
       "              unlimited dimensions: time\n",
       "              current shape = (289,)\n",
       "              filling off)])"
      ]
     },
     "execution_count": 6,
     "metadata": {},
     "output_type": "execute_result"
    }
   ],
   "source": [
    "ncfile.variables"
   ]
  },
  {
   "cell_type": "markdown",
   "metadata": {},
   "source": [
    "To store a varible contained in a NetCDF file in a python variable we can run the following line"
   ]
  },
  {
   "cell_type": "code",
   "execution_count": 7,
   "metadata": {},
   "outputs": [],
   "source": [
    "ic = ncfile.variables['psiIC']"
   ]
  },
  {
   "cell_type": "markdown",
   "metadata": {},
   "source": [
    "where the argument of the method varibles is the key used in the NetCDF. This can be read from the FILE INFO printed above.\n",
    "\n",
    "Again, it is possible to read ic information just running the code below"
   ]
  },
  {
   "cell_type": "code",
   "execution_count": 8,
   "metadata": {},
   "outputs": [
    {
     "name": "stdout",
     "output_type": "stream",
     "text": [
      "\n",
      " ***ic INFO:\n",
      "\n",
      "<class 'netCDF4._netCDF4.Variable'>\n",
      "float64 psiIC(depth)\n",
      "    units: m\n",
      "    long_name: Initial condition for water suction\n",
      "unlimited dimensions: \n",
      "current shape = (321,)\n",
      "filling off\n",
      "\n"
     ]
    }
   ],
   "source": [
    "print('\\n ***ic INFO:\\n')\n",
    "print(ic)"
   ]
  },
  {
   "cell_type": "markdown",
   "metadata": {},
   "source": [
    "The variable ic is of type float64, its unit is meters, it contains the intial condition for water suction, and has 321 entries.\n",
    "\n",
    "To get its first value run"
   ]
  },
  {
   "cell_type": "code",
   "execution_count": 9,
   "metadata": {},
   "outputs": [
    {
     "data": {
      "text/plain": [
       "-0.0031250000000000444"
      ]
     },
     "execution_count": 9,
     "metadata": {},
     "output_type": "execute_result"
    }
   ],
   "source": [
    "ic[0]"
   ]
  },
  {
   "cell_type": "code",
   "execution_count": 10,
   "metadata": {},
   "outputs": [
    {
     "name": "stdout",
     "output_type": "stream",
     "text": [
      "\n",
      " ***depht INFO:\n",
      "\n",
      "<class 'netCDF4._netCDF4.Variable'>\n",
      "float64 depth(depth)\n",
      "    units: m\n",
      "    long_name: Soil depth\n",
      "unlimited dimensions: \n",
      "current shape = (321,)\n",
      "filling off\n",
      "\n"
     ]
    }
   ],
   "source": [
    "depth = ncfile.variables['depth']\n",
    "print('\\n ***depht INFO:\\n')\n",
    "print(depth)"
   ]
  },
  {
   "cell_type": "markdown",
   "metadata": {},
   "source": [
    "It is possible to plot the initial condition versus depth"
   ]
  },
  {
   "cell_type": "code",
   "execution_count": 11,
   "metadata": {},
   "outputs": [
    {
     "data": {
      "image/png": "[encoded data removed]",
      "text/plain": [
       "<matplotlib.figure.Figure at 0x20277013320>"
      ]
     },
     "metadata": {},
     "output_type": "display_data"
    }
   ],
   "source": [
    "plt.scatter(ic[:],depth[:])\n",
    "plt.show()"
   ]
  },
  {
   "cell_type": "markdown",
   "metadata": {},
   "source": [
    "It is possible to add axis labels using info contained in the NetCDF file (if it is written in the proper manner)"
   ]
  },
  {
   "cell_type": "code",
   "execution_count": 12,
   "metadata": {},
   "outputs": [
    {
     "data": {
      "image/png": "[encoded data removed]",
      "text/plain": [
       "<matplotlib.figure.Figure at 0x20275b24c50>"
      ]
     },
     "metadata": {},
     "output_type": "display_data"
    }
   ],
   "source": [
    "plt.scatter(ic[:],depth[:])\n",
    "plt.xlabel(ncfile.variables['psiIC'].long_name + '  [' +ncfile.variables['psiIC'].units +']')\n",
    "plt.ylabel(ncfile.variables['depth'].long_name + '  [' +ncfile.variables['depth'].units +']')\n",
    "plt.show()"
   ]
  },
  {
   "cell_type": "markdown",
   "metadata": {},
   "source": [
    "Now let us consider the varible $\\psi$"
   ]
  },
  {
   "cell_type": "code",
   "execution_count": 13,
   "metadata": {},
   "outputs": [
    {
     "name": "stdout",
     "output_type": "stream",
     "text": [
      "\n",
      " ***depht INFO:\n",
      "\n",
      "<class 'netCDF4._netCDF4.Variable'>\n",
      "float64 psi(time, depth)\n",
      "    units: m\n",
      "    long_name: Water suction\n",
      "unlimited dimensions: time\n",
      "current shape = (289, 321)\n",
      "filling off\n",
      "\n"
     ]
    }
   ],
   "source": [
    "psi = ncfile.variables['psi']\n",
    "print('\\n ***depht INFO:\\n')\n",
    "print(psi)"
   ]
  },
  {
   "cell_type": "markdown",
   "metadata": {},
   "source": [
    "$\\psi$ has both a space dimension and a time dimension: the first index identifies the time level the second one the space. "
   ]
  },
  {
   "cell_type": "code",
   "execution_count": 15,
   "metadata": {},
   "outputs": [
    {
     "data": {
      "image/png": "[encoded data removed]",
      "text/plain": [
       "<matplotlib.figure.Figure at 0x20276fe1940>"
      ]
     },
     "metadata": {},
     "output_type": "display_data"
    }
   ],
   "source": [
    "plt.plot(psi[0,:],depth[:])\n",
    "plt.xlabel(ncfile.variables['psi'].long_name + '  [' +ncfile.variables['psi'].units +']')\n",
    "plt.ylabel(ncfile.variables['depth'].long_name + '  [' +ncfile.variables['depth'].units +']')\n",
    "plt.show()"
   ]
  },
  {
   "cell_type": "markdown",
   "metadata": {},
   "source": [
    "The plot above represent the solution for $\\psi$ at the first time step (in python index starts from 0 and not from 1).\n",
    "\n"
   ]
  },
  {
   "cell_type": "markdown",
   "metadata": {},
   "source": [
    "But I might be interested to see how $\\psi$ varies over time at the same depth. In this case the piece of code above modifies as follows"
   ]
  },
  {
   "cell_type": "code",
   "execution_count": 17,
   "metadata": {},
   "outputs": [
    {
     "data": {
      "image/png": "[encoded data removed]",
      "text/plain": [
       "<matplotlib.figure.Figure at 0x20277902940>"
      ]
     },
     "metadata": {},
     "output_type": "display_data"
    }
   ],
   "source": [
    "plt.plot(psi[:,0])\n",
    "plt.ylabel(ncfile.variables['psi'].long_name + '  [' +ncfile.variables['psi'].units +']')\n",
    "plt.xlabel('Time')\n",
    "plt.show()"
   ]
  },
  {
   "cell_type": "markdown",
   "metadata": {},
   "source": [
    "To have a better plot I can create a vector of human readable dates"
   ]
  },
  {
   "cell_type": "code",
   "execution_count": 18,
   "metadata": {},
   "outputs": [
    {
     "name": "stdout",
     "output_type": "stream",
     "text": [
      "\n",
      " ***TIME INFO:\n",
      "\n",
      "<class 'netCDF4._netCDF4.Variable'>\n",
      "int32 time(time)\n",
      "    units: unix convention\n",
      "unlimited dimensions: time\n",
      "current shape = (289,)\n",
      "filling off\n",
      "\n"
     ]
    }
   ],
   "source": [
    "time = ncfile.variables['time']\n",
    "print('\\n ***TIME INFO:\\n')\n",
    "print(time)\n",
    "\n",
    "dates = [datetime.datetime.fromtimestamp(t).strftime(\"%Y-%m-%d %H:%M\") for t in time[:]]\n"
   ]
  },
  {
   "cell_type": "code",
   "execution_count": 19,
   "metadata": {},
   "outputs": [
    {
     "data": {
      "image/png": "[encoded data removed]",
      "text/plain": [
       "<matplotlib.figure.Figure at 0x20278f648d0>"
      ]
     },
     "metadata": {},
     "output_type": "display_data"
    }
   ],
   "source": [
    "plt.plot(dates[0:10],psi[0:10,0])\n",
    "plt.xlabel('Dates yyyy-mm-dd hh:mm')\n",
    "plt.xticks(rotation=70)\n",
    "plt.show()"
   ]
  },
  {
   "cell_type": "markdown",
   "metadata": {},
   "source": [
    "The key _topBC_ contains the hyetograph used as top boundary condition"
   ]
  },
  {
   "cell_type": "code",
   "execution_count": 20,
   "metadata": {},
   "outputs": [
    {
     "name": "stdout",
     "output_type": "stream",
     "text": [
      "\n",
      " ***TIME INFO:\n",
      "\n",
      "<class 'netCDF4._netCDF4.Variable'>\n",
      "float64 topBC(time)\n",
      "    units: mm\n",
      "    long_name: rainfall heights\n",
      "unlimited dimensions: time\n",
      "current shape = (289,)\n",
      "filling off\n",
      "\n"
     ]
    }
   ],
   "source": [
    "topBC = ncfile.variables['topBC']\n",
    "print('\\n ***TIME INFO:\\n')\n",
    "print(topBC)"
   ]
  },
  {
   "cell_type": "code",
   "execution_count": 21,
   "metadata": {},
   "outputs": [
    {
     "data": {
      "image/png": "[encoded data removed]",
      "text/plain": [
       "<matplotlib.figure.Figure at 0x202779d25c0>"
      ]
     },
     "metadata": {},
     "output_type": "display_data"
    }
   ],
   "source": [
    "plt.plot(dates[0:10],topBC[0:10])\n",
    "plt.xlabel('Dates yyyy-mm-dd hh:mm')\n",
    "plt.ylabel(ncfile.variables['topBC'].long_name + '  [' +ncfile.variables['topBC'].units +']')\n",
    "plt.xticks(rotation=70)\n",
    "plt.show()"
   ]
  },
  {
   "cell_type": "markdown",
   "metadata": {},
   "source": [
    "To know the cumulative rainfall height we can just run"
   ]
  },
  {
   "cell_type": "code",
   "execution_count": 22,
   "metadata": {},
   "outputs": [
    {
     "data": {
      "text/plain": [
       "0.0"
      ]
     },
     "execution_count": 22,
     "metadata": {},
     "output_type": "execute_result"
    }
   ],
   "source": [
    "np.sum(topBC[0:10])"
   ]
  },
  {
   "cell_type": "code",
   "execution_count": 23,
   "metadata": {},
   "outputs": [],
   "source": [
    "ncfile.close()"
   ]
  },
  {
   "cell_type": "code",
   "execution_count": null,
   "metadata": {},
   "outputs": [],
   "source": []
  }
 ],
 "metadata": {
  "kernelspec": {
   "display_name": "Python 3",
   "language": "python",
   "name": "python3"
  },
  "language_info": {
   "codemirror_mode": {
    "name": "ipython",
    "version": 3
   },
   "file_extension": ".py",
   "mimetype": "text/x-python",
   "name": "python",
   "nbconvert_exporter": "python",
   "pygments_lexer": "ipython3",
   "version": "3.6.3"
  }
 },
 "nbformat": 4,
 "nbformat_minor": 2
}
